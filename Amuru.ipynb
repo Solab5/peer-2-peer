{
 "cells": [
  {
   "cell_type": "code",
   "execution_count": 1,
   "id": "13ccaef3",
   "metadata": {
    "id": "f064745d",
    "slideshow": {
     "slide_type": "fragment"
    }
   },
   "outputs": [],
   "source": [
    "import pandas as pd"
   ]
  },
  {
   "cell_type": "code",
   "execution_count": 12,
   "id": "d364f160",
   "metadata": {
    "id": "f064745d",
    "slideshow": {
     "slide_type": "slide"
    }
   },
   "outputs": [],
   "source": [
    "data = pd.read_excel(\"Amuru_census.xlsx\", sheet_name=\"Obbo_Parish\")"
   ]
  },
  {
   "cell_type": "code",
   "execution_count": 13,
   "id": "d1c762e9-d708-4c78-82f9-d3b78da00b96",
   "metadata": {},
   "outputs": [],
   "source": [
    "df = data.copy()"
   ]
  },
  {
   "cell_type": "code",
   "execution_count": 14,
   "id": "dfbf7397",
   "metadata": {
    "colab": {
     "base_uri": "https://localhost:8080/",
     "height": 504
    },
    "id": "ab74a51a",
    "outputId": "12194158-8848-4224-8b9b-93fa90e4b285",
    "slideshow": {
     "slide_type": "slide"
    }
   },
   "outputs": [
    {
     "name": "stdout",
     "output_type": "stream",
     "text": [
      "(1487, 13)\n"
     ]
    },
    {
     "data": {
      "text/html": [
       "<div>\n",
       "<style scoped>\n",
       "    .dataframe tbody tr th:only-of-type {\n",
       "        vertical-align: middle;\n",
       "    }\n",
       "\n",
       "    .dataframe tbody tr th {\n",
       "        vertical-align: top;\n",
       "    }\n",
       "\n",
       "    .dataframe thead th {\n",
       "        text-align: right;\n",
       "    }\n",
       "</style>\n",
       "<table border=\"1\" class=\"dataframe\">\n",
       "  <thead>\n",
       "    <tr style=\"text-align: right;\">\n",
       "      <th></th>\n",
       "      <th>district</th>\n",
       "      <th>subcounty</th>\n",
       "      <th>parish_t</th>\n",
       "      <th>village</th>\n",
       "      <th>Sub_Village</th>\n",
       "      <th>hhid</th>\n",
       "      <th>hhh_full_name</th>\n",
       "      <th>Household_Head_Age</th>\n",
       "      <th>Household_Head_Contact</th>\n",
       "      <th>Household_Head_Gender</th>\n",
       "      <th>Spouse_Name</th>\n",
       "      <th>Spouse_Gender</th>\n",
       "      <th>Telephone_Contact</th>\n",
       "    </tr>\n",
       "  </thead>\n",
       "  <tbody>\n",
       "    <tr>\n",
       "      <th>1477</th>\n",
       "      <td>Amuru</td>\n",
       "      <td>Lamogi</td>\n",
       "      <td>Obbo</td>\n",
       "      <td>Tworo_Akomo</td>\n",
       "      <td>Society</td>\n",
       "      <td>Amu-Two-Bob-M-150042-22</td>\n",
       "      <td>Bob Obwoya</td>\n",
       "      <td>74</td>\n",
       "      <td>0789-44-60-14</td>\n",
       "      <td>Male</td>\n",
       "      <td>Lamunu Christine</td>\n",
       "      <td>Female</td>\n",
       "      <td>0779-44-60-14</td>\n",
       "    </tr>\n",
       "    <tr>\n",
       "      <th>1478</th>\n",
       "      <td>Amuru</td>\n",
       "      <td>Lamogi</td>\n",
       "      <td>Obbo</td>\n",
       "      <td>Tworo_Akomo</td>\n",
       "      <td>Society</td>\n",
       "      <td>Amu-Two-Mod-M-150705-22</td>\n",
       "      <td>Moday Kumakech</td>\n",
       "      <td>40</td>\n",
       "      <td>0779-44-60-14</td>\n",
       "      <td>Male</td>\n",
       "      <td>Stalle Nam</td>\n",
       "      <td>Female</td>\n",
       "      <td>0779-44-60-14</td>\n",
       "    </tr>\n",
       "    <tr>\n",
       "      <th>1479</th>\n",
       "      <td>Amuru</td>\n",
       "      <td>Lamogi</td>\n",
       "      <td>Obbo</td>\n",
       "      <td>Tworo_Akomo</td>\n",
       "      <td>Society</td>\n",
       "      <td>Amu-Two-Bra-M-151143-22</td>\n",
       "      <td>Brain Ocaka</td>\n",
       "      <td>23</td>\n",
       "      <td>0779-44-60-14</td>\n",
       "      <td>Male</td>\n",
       "      <td>NaN</td>\n",
       "      <td>NaN</td>\n",
       "      <td>NaN</td>\n",
       "    </tr>\n",
       "    <tr>\n",
       "      <th>1480</th>\n",
       "      <td>Amuru</td>\n",
       "      <td>Lamogi</td>\n",
       "      <td>Obbo</td>\n",
       "      <td>Tworo_Akomo</td>\n",
       "      <td>Society</td>\n",
       "      <td>Amu-Two-Dor-F-151824-22</td>\n",
       "      <td>Dorine Agik</td>\n",
       "      <td>64</td>\n",
       "      <td>0778-60-54-21</td>\n",
       "      <td>Female</td>\n",
       "      <td>NaN</td>\n",
       "      <td>NaN</td>\n",
       "      <td>NaN</td>\n",
       "    </tr>\n",
       "    <tr>\n",
       "      <th>1481</th>\n",
       "      <td>Amuru</td>\n",
       "      <td>Lamogi</td>\n",
       "      <td>Obbo</td>\n",
       "      <td>Tworo_Akomo</td>\n",
       "      <td>Society</td>\n",
       "      <td>Amu-Two-Jac-M-152434-22</td>\n",
       "      <td>Jacob Oyoo</td>\n",
       "      <td>44</td>\n",
       "      <td>0786-46-56-06</td>\n",
       "      <td>Male</td>\n",
       "      <td>Aceng Grace</td>\n",
       "      <td>Female</td>\n",
       "      <td>0777-08-23-38</td>\n",
       "    </tr>\n",
       "    <tr>\n",
       "      <th>1482</th>\n",
       "      <td>Amuru</td>\n",
       "      <td>Lamogi</td>\n",
       "      <td>Obbo</td>\n",
       "      <td>Tworo_Akomo</td>\n",
       "      <td>Society</td>\n",
       "      <td>Amu-Two-Sol-M-153902-22</td>\n",
       "      <td>Solomon Odiya</td>\n",
       "      <td>21</td>\n",
       "      <td>0777-08-23-38</td>\n",
       "      <td>Male</td>\n",
       "      <td>NaN</td>\n",
       "      <td>NaN</td>\n",
       "      <td>NaN</td>\n",
       "    </tr>\n",
       "    <tr>\n",
       "      <th>1483</th>\n",
       "      <td>Amuru</td>\n",
       "      <td>Lamogi</td>\n",
       "      <td>Obbo</td>\n",
       "      <td>Tworo_Akomo</td>\n",
       "      <td>Society</td>\n",
       "      <td>Amu-Two-Chr-F-154826-22</td>\n",
       "      <td>Christine Akot</td>\n",
       "      <td>60</td>\n",
       "      <td>0766-84-20-31</td>\n",
       "      <td>Female</td>\n",
       "      <td>NaN</td>\n",
       "      <td>NaN</td>\n",
       "      <td>NaN</td>\n",
       "    </tr>\n",
       "    <tr>\n",
       "      <th>1484</th>\n",
       "      <td>Amuru</td>\n",
       "      <td>Lamogi</td>\n",
       "      <td>Obbo</td>\n",
       "      <td>Tworo_Akomo</td>\n",
       "      <td>Society</td>\n",
       "      <td>Amu-Two-Wil-M-155638-22</td>\n",
       "      <td>Wilfred Akera</td>\n",
       "      <td>31</td>\n",
       "      <td>0760-65-23-77</td>\n",
       "      <td>Male</td>\n",
       "      <td>Akaro Gloria</td>\n",
       "      <td>Female</td>\n",
       "      <td>0760-65-23-77</td>\n",
       "    </tr>\n",
       "    <tr>\n",
       "      <th>1485</th>\n",
       "      <td>Amuru</td>\n",
       "      <td>Lamogi</td>\n",
       "      <td>Obbo</td>\n",
       "      <td>Tworo_Akomo</td>\n",
       "      <td>Society</td>\n",
       "      <td>Amu-Two-Dic-M-160751-22</td>\n",
       "      <td>Dickson Otto</td>\n",
       "      <td>65</td>\n",
       "      <td>0780-23-20-31</td>\n",
       "      <td>Male</td>\n",
       "      <td>Aol Margert</td>\n",
       "      <td>Female</td>\n",
       "      <td>0765-04-84-85</td>\n",
       "    </tr>\n",
       "    <tr>\n",
       "      <th>1486</th>\n",
       "      <td>Amuru</td>\n",
       "      <td>Lamogi</td>\n",
       "      <td>Obbo</td>\n",
       "      <td>Tworo_Akomo</td>\n",
       "      <td>Society</td>\n",
       "      <td>Amu-Two-Jus-M-161605-22</td>\n",
       "      <td>Justine Oyet</td>\n",
       "      <td>35</td>\n",
       "      <td>0781-06-06-06</td>\n",
       "      <td>Male</td>\n",
       "      <td>Akello Scovia</td>\n",
       "      <td>Female</td>\n",
       "      <td>0780-52-69-41</td>\n",
       "    </tr>\n",
       "  </tbody>\n",
       "</table>\n",
       "</div>"
      ],
      "text/plain": [
       "     district subcounty parish_t      village Sub_Village  \\\n",
       "1477    Amuru    Lamogi     Obbo  Tworo_Akomo     Society   \n",
       "1478    Amuru    Lamogi     Obbo  Tworo_Akomo     Society   \n",
       "1479    Amuru    Lamogi     Obbo  Tworo_Akomo     Society   \n",
       "1480    Amuru    Lamogi     Obbo  Tworo_Akomo     Society   \n",
       "1481    Amuru    Lamogi     Obbo  Tworo_Akomo     Society   \n",
       "1482    Amuru    Lamogi     Obbo  Tworo_Akomo     Society   \n",
       "1483    Amuru    Lamogi     Obbo  Tworo_Akomo     Society   \n",
       "1484    Amuru    Lamogi     Obbo  Tworo_Akomo     Society   \n",
       "1485    Amuru    Lamogi     Obbo  Tworo_Akomo     Society   \n",
       "1486    Amuru    Lamogi     Obbo  Tworo_Akomo     Society   \n",
       "\n",
       "                         hhid   hhh_full_name  Household_Head_Age  \\\n",
       "1477  Amu-Two-Bob-M-150042-22      Bob Obwoya                  74   \n",
       "1478  Amu-Two-Mod-M-150705-22  Moday Kumakech                  40   \n",
       "1479  Amu-Two-Bra-M-151143-22     Brain Ocaka                  23   \n",
       "1480  Amu-Two-Dor-F-151824-22     Dorine Agik                  64   \n",
       "1481  Amu-Two-Jac-M-152434-22      Jacob Oyoo                  44   \n",
       "1482  Amu-Two-Sol-M-153902-22   Solomon Odiya                  21   \n",
       "1483  Amu-Two-Chr-F-154826-22  Christine Akot                  60   \n",
       "1484  Amu-Two-Wil-M-155638-22   Wilfred Akera                  31   \n",
       "1485  Amu-Two-Dic-M-160751-22    Dickson Otto                  65   \n",
       "1486  Amu-Two-Jus-M-161605-22    Justine Oyet                  35   \n",
       "\n",
       "     Household_Head_Contact Household_Head_Gender       Spouse_Name  \\\n",
       "1477          0789-44-60-14                  Male  Lamunu Christine   \n",
       "1478          0779-44-60-14                  Male        Stalle Nam   \n",
       "1479          0779-44-60-14                  Male               NaN   \n",
       "1480          0778-60-54-21                Female               NaN   \n",
       "1481          0786-46-56-06                  Male       Aceng Grace   \n",
       "1482          0777-08-23-38                  Male               NaN   \n",
       "1483          0766-84-20-31                Female               NaN   \n",
       "1484          0760-65-23-77                  Male      Akaro Gloria   \n",
       "1485          0780-23-20-31                  Male       Aol Margert   \n",
       "1486          0781-06-06-06                  Male     Akello Scovia   \n",
       "\n",
       "     Spouse_Gender Telephone_Contact  \n",
       "1477        Female     0779-44-60-14  \n",
       "1478        Female     0779-44-60-14  \n",
       "1479           NaN               NaN  \n",
       "1480           NaN               NaN  \n",
       "1481        Female     0777-08-23-38  \n",
       "1482           NaN               NaN  \n",
       "1483           NaN               NaN  \n",
       "1484        Female     0760-65-23-77  \n",
       "1485        Female     0765-04-84-85  \n",
       "1486        Female     0780-52-69-41  "
      ]
     },
     "execution_count": 14,
     "metadata": {},
     "output_type": "execute_result"
    }
   ],
   "source": [
    "print(df.shape)\n",
    "df.tail(10)"
   ]
  },
  {
   "cell_type": "code",
   "execution_count": 15,
   "id": "8af759dc",
   "metadata": {
    "colab": {
     "base_uri": "https://localhost:8080/"
    },
    "id": "177ba33d",
    "outputId": "3974aacd-f661-4c0f-819c-7b13392533f7",
    "slideshow": {
     "slide_type": "slide"
    }
   },
   "outputs": [
    {
     "data": {
      "text/plain": [
       "['district',\n",
       " 'subcounty',\n",
       " 'parish_t',\n",
       " 'village',\n",
       " 'Sub_Village',\n",
       " 'hhid',\n",
       " 'hhh_full_name',\n",
       " 'Household_Head_Age',\n",
       " 'Household_Head_Contact',\n",
       " 'Household_Head_Gender',\n",
       " 'Spouse_Name',\n",
       " 'Spouse_Gender',\n",
       " 'Telephone_Contact']"
      ]
     },
     "execution_count": 15,
     "metadata": {},
     "output_type": "execute_result"
    }
   ],
   "source": [
    "df.columns.to_list()"
   ]
  },
  {
   "cell_type": "code",
   "execution_count": 6,
   "id": "707f280a-b892-49db-af6d-92a4e10a62d5",
   "metadata": {
    "id": "861b8440",
    "slideshow": {
     "slide_type": "slide"
    }
   },
   "outputs": [],
   "source": [
    "columns = ['pre_district',\n",
    " 'pre_subcounty',\n",
    " 'pre_cluster',\n",
    " 'pre_village',\n",
    " 'hhid_2_again',\n",
    " 'sid',\n",
    " 'pre_name',\n",
    " 'contact_no',\n",
    " 'hh_category']"
   ]
  },
  {
   "cell_type": "code",
   "execution_count": 16,
   "id": "8a0edabb-bcdc-4592-9fb6-fcbb6bda8c28",
   "metadata": {},
   "outputs": [],
   "source": [
    "columns = ['district',\n",
    " 'subcounty',\n",
    " 'parish_t',\n",
    " 'village',\n",
    " 'Sub_Village',\n",
    " 'hhid',\n",
    " 'hhh_full_name',\n",
    " 'Household_Head_Age',\n",
    " 'Household_Head_Contact',\n",
    " 'Household_Head_Gender',\n",
    " 'Spouse_Name',\n",
    " 'Spouse_Gender',\n",
    " 'Telephone_Contact']"
   ]
  },
  {
   "cell_type": "code",
   "execution_count": 9,
   "id": "f838b8f8-287c-4fbe-88eb-7a3ae20a2534",
   "metadata": {},
   "outputs": [],
   "source": [
    "# df['Contact'] = df['contact']"
   ]
  },
  {
   "cell_type": "code",
   "execution_count": 18,
   "id": "dd989bc5",
   "metadata": {
    "id": "dd11ea74",
    "slideshow": {
     "slide_type": "fragment"
    }
   },
   "outputs": [],
   "source": [
    "df = df[columns]"
   ]
  },
  {
   "cell_type": "code",
   "execution_count": 20,
   "id": "856b3bc6-6518-4ee1-b08c-45fbaced10a0",
   "metadata": {},
   "outputs": [],
   "source": [
    "df['HHH_Gender'] = df.apply(lambda row: 'Youth Headed' if row['Household_Head_Age'] <= 30 else str(row['Household_Head_Gender']) + ' Headed', axis=1)"
   ]
  },
  {
   "cell_type": "code",
   "execution_count": 21,
   "id": "012c18a4-0e54-4b2f-8825-2b95a6c17f0d",
   "metadata": {},
   "outputs": [
    {
     "data": {
      "text/html": [
       "<div>\n",
       "<style scoped>\n",
       "    .dataframe tbody tr th:only-of-type {\n",
       "        vertical-align: middle;\n",
       "    }\n",
       "\n",
       "    .dataframe tbody tr th {\n",
       "        vertical-align: top;\n",
       "    }\n",
       "\n",
       "    .dataframe thead th {\n",
       "        text-align: right;\n",
       "    }\n",
       "</style>\n",
       "<table border=\"1\" class=\"dataframe\">\n",
       "  <thead>\n",
       "    <tr style=\"text-align: right;\">\n",
       "      <th></th>\n",
       "      <th>district</th>\n",
       "      <th>subcounty</th>\n",
       "      <th>parish_t</th>\n",
       "      <th>village</th>\n",
       "      <th>Sub_Village</th>\n",
       "      <th>hhid</th>\n",
       "      <th>hhh_full_name</th>\n",
       "      <th>Household_Head_Age</th>\n",
       "      <th>Household_Head_Contact</th>\n",
       "      <th>Household_Head_Gender</th>\n",
       "      <th>Spouse_Name</th>\n",
       "      <th>Spouse_Gender</th>\n",
       "      <th>Telephone_Contact</th>\n",
       "      <th>HHH_Gender</th>\n",
       "    </tr>\n",
       "  </thead>\n",
       "  <tbody>\n",
       "    <tr>\n",
       "      <th>0</th>\n",
       "      <td>Amuru</td>\n",
       "      <td>Lamogi</td>\n",
       "      <td>Obbo</td>\n",
       "      <td>Akwar</td>\n",
       "      <td>Alok_Ki_Winyo</td>\n",
       "      <td>Amu-Akw-Sim-M-145114-22</td>\n",
       "      <td>Simon Lakony</td>\n",
       "      <td>41</td>\n",
       "      <td>0756-98-28-43</td>\n",
       "      <td>Male</td>\n",
       "      <td>Apiyo Concy</td>\n",
       "      <td>Female</td>\n",
       "      <td>0765-81-55-64</td>\n",
       "      <td>Male Headed</td>\n",
       "    </tr>\n",
       "    <tr>\n",
       "      <th>1</th>\n",
       "      <td>Amuru</td>\n",
       "      <td>Lamogi</td>\n",
       "      <td>Obbo</td>\n",
       "      <td>Akwar</td>\n",
       "      <td>Alok_Ki_Winyo</td>\n",
       "      <td>Amu-Akw-Sim-M-152411-22</td>\n",
       "      <td>Simon Lakony</td>\n",
       "      <td>41</td>\n",
       "      <td>0756-98-28-43</td>\n",
       "      <td>Male</td>\n",
       "      <td>Adok Agnes</td>\n",
       "      <td>Female</td>\n",
       "      <td>0765-81-55-64</td>\n",
       "      <td>Male Headed</td>\n",
       "    </tr>\n",
       "    <tr>\n",
       "      <th>2</th>\n",
       "      <td>Amuru</td>\n",
       "      <td>Lamogi</td>\n",
       "      <td>Obbo</td>\n",
       "      <td>Akwar</td>\n",
       "      <td>Nen_Peko</td>\n",
       "      <td>Amu-Akw-Ric-M-153230-22</td>\n",
       "      <td>Richard Okello</td>\n",
       "      <td>40</td>\n",
       "      <td>0786-43-38-46</td>\n",
       "      <td>Male</td>\n",
       "      <td>Akello Beatrice</td>\n",
       "      <td>Female</td>\n",
       "      <td>0786-43-38-46</td>\n",
       "      <td>Male Headed</td>\n",
       "    </tr>\n",
       "    <tr>\n",
       "      <th>3</th>\n",
       "      <td>Amuru</td>\n",
       "      <td>Lamogi</td>\n",
       "      <td>Obbo</td>\n",
       "      <td>Akwar</td>\n",
       "      <td>Nen_Peko</td>\n",
       "      <td>Amu-Akw-Joh-M-154652-22</td>\n",
       "      <td>John Logwelo</td>\n",
       "      <td>41</td>\n",
       "      <td>0773-45-98-98</td>\n",
       "      <td>Male</td>\n",
       "      <td>Abalo Nancy</td>\n",
       "      <td>Female</td>\n",
       "      <td>0773-45-98-98</td>\n",
       "      <td>Male Headed</td>\n",
       "    </tr>\n",
       "    <tr>\n",
       "      <th>4</th>\n",
       "      <td>Amuru</td>\n",
       "      <td>Lamogi</td>\n",
       "      <td>Obbo</td>\n",
       "      <td>Akwar</td>\n",
       "      <td>Nen_Peko</td>\n",
       "      <td>Amu-Akw-Joh-M-155529-22</td>\n",
       "      <td>John Nyeko</td>\n",
       "      <td>58</td>\n",
       "      <td>0789-53-04-66</td>\n",
       "      <td>Male</td>\n",
       "      <td>Awilo Rose</td>\n",
       "      <td>Female</td>\n",
       "      <td>0789-53-04-66</td>\n",
       "      <td>Male Headed</td>\n",
       "    </tr>\n",
       "  </tbody>\n",
       "</table>\n",
       "</div>"
      ],
      "text/plain": [
       "  district subcounty parish_t village    Sub_Village                     hhid  \\\n",
       "0    Amuru    Lamogi     Obbo   Akwar  Alok_Ki_Winyo  Amu-Akw-Sim-M-145114-22   \n",
       "1    Amuru    Lamogi     Obbo   Akwar  Alok_Ki_Winyo  Amu-Akw-Sim-M-152411-22   \n",
       "2    Amuru    Lamogi     Obbo   Akwar       Nen_Peko  Amu-Akw-Ric-M-153230-22   \n",
       "3    Amuru    Lamogi     Obbo   Akwar       Nen_Peko  Amu-Akw-Joh-M-154652-22   \n",
       "4    Amuru    Lamogi     Obbo   Akwar       Nen_Peko  Amu-Akw-Joh-M-155529-22   \n",
       "\n",
       "    hhh_full_name  Household_Head_Age Household_Head_Contact  \\\n",
       "0    Simon Lakony                  41          0756-98-28-43   \n",
       "1    Simon Lakony                  41          0756-98-28-43   \n",
       "2  Richard Okello                  40          0786-43-38-46   \n",
       "3    John Logwelo                  41          0773-45-98-98   \n",
       "4      John Nyeko                  58          0789-53-04-66   \n",
       "\n",
       "  Household_Head_Gender      Spouse_Name Spouse_Gender Telephone_Contact  \\\n",
       "0                  Male      Apiyo Concy        Female     0765-81-55-64   \n",
       "1                  Male       Adok Agnes        Female     0765-81-55-64   \n",
       "2                  Male  Akello Beatrice        Female     0786-43-38-46   \n",
       "3                  Male      Abalo Nancy        Female     0773-45-98-98   \n",
       "4                  Male       Awilo Rose        Female     0789-53-04-66   \n",
       "\n",
       "    HHH_Gender  \n",
       "0  Male Headed  \n",
       "1  Male Headed  \n",
       "2  Male Headed  \n",
       "3  Male Headed  \n",
       "4  Male Headed  "
      ]
     },
     "execution_count": 21,
     "metadata": {},
     "output_type": "execute_result"
    }
   ],
   "source": [
    "df.head()"
   ]
  },
  {
   "cell_type": "code",
   "execution_count": 22,
   "id": "8d934dc3",
   "metadata": {
    "id": "9bddb919-95d6-4f38-9f3b-ffb36439ae00",
    "slideshow": {
     "slide_type": "fragment"
    }
   },
   "outputs": [],
   "source": [
    "df = df.drop_duplicates('hhid', keep='first')"
   ]
  },
  {
   "cell_type": "code",
   "execution_count": 23,
   "id": "76a44571-8707-416b-87f0-a8ab0417d7cc",
   "metadata": {
    "id": "be91d1c0",
    "slideshow": {
     "slide_type": "fragment"
    }
   },
   "outputs": [
    {
     "data": {
      "text/plain": [
       "HHH_Gender\n",
       "Youth Headed     587\n",
       "Male Headed      537\n",
       "Female Headed    357\n",
       "Name: count, dtype: int64"
      ]
     },
     "execution_count": 23,
     "metadata": {},
     "output_type": "execute_result"
    }
   ],
   "source": [
    "df['HHH_Gender'].value_counts(dropna=False)"
   ]
  },
  {
   "cell_type": "code",
   "execution_count": 24,
   "id": "e0bd4fef",
   "metadata": {
    "slideshow": {
     "slide_type": "slide"
    }
   },
   "outputs": [
    {
     "data": {
      "text/html": [
       "<div>\n",
       "<style scoped>\n",
       "    .dataframe tbody tr th:only-of-type {\n",
       "        vertical-align: middle;\n",
       "    }\n",
       "\n",
       "    .dataframe tbody tr th {\n",
       "        vertical-align: top;\n",
       "    }\n",
       "\n",
       "    .dataframe thead th {\n",
       "        text-align: right;\n",
       "    }\n",
       "</style>\n",
       "<table border=\"1\" class=\"dataframe\">\n",
       "  <thead>\n",
       "    <tr style=\"text-align: right;\">\n",
       "      <th></th>\n",
       "      <th>district</th>\n",
       "      <th>subcounty</th>\n",
       "      <th>parish_t</th>\n",
       "      <th>village</th>\n",
       "      <th>Sub_Village</th>\n",
       "      <th>hhid</th>\n",
       "      <th>hhh_full_name</th>\n",
       "      <th>Household_Head_Age</th>\n",
       "      <th>Household_Head_Contact</th>\n",
       "      <th>Household_Head_Gender</th>\n",
       "      <th>Spouse_Name</th>\n",
       "      <th>Spouse_Gender</th>\n",
       "      <th>Telephone_Contact</th>\n",
       "      <th>HHH_Gender</th>\n",
       "    </tr>\n",
       "  </thead>\n",
       "  <tbody>\n",
       "    <tr>\n",
       "      <th>0</th>\n",
       "      <td>Amuru</td>\n",
       "      <td>Lamogi</td>\n",
       "      <td>Obbo</td>\n",
       "      <td>Akwar</td>\n",
       "      <td>Alok_Ki_Winyo</td>\n",
       "      <td>Amu-Akw-Sim-M-145114-22</td>\n",
       "      <td>Simon Lakony</td>\n",
       "      <td>41</td>\n",
       "      <td>0756-98-28-43</td>\n",
       "      <td>Male</td>\n",
       "      <td>Apiyo Concy</td>\n",
       "      <td>Female</td>\n",
       "      <td>0765-81-55-64</td>\n",
       "      <td>Male Headed</td>\n",
       "    </tr>\n",
       "    <tr>\n",
       "      <th>1</th>\n",
       "      <td>Amuru</td>\n",
       "      <td>Lamogi</td>\n",
       "      <td>Obbo</td>\n",
       "      <td>Akwar</td>\n",
       "      <td>Alok_Ki_Winyo</td>\n",
       "      <td>Amu-Akw-Sim-M-152411-22</td>\n",
       "      <td>Simon Lakony</td>\n",
       "      <td>41</td>\n",
       "      <td>0756-98-28-43</td>\n",
       "      <td>Male</td>\n",
       "      <td>Adok Agnes</td>\n",
       "      <td>Female</td>\n",
       "      <td>0765-81-55-64</td>\n",
       "      <td>Male Headed</td>\n",
       "    </tr>\n",
       "    <tr>\n",
       "      <th>2</th>\n",
       "      <td>Amuru</td>\n",
       "      <td>Lamogi</td>\n",
       "      <td>Obbo</td>\n",
       "      <td>Akwar</td>\n",
       "      <td>Nen_Peko</td>\n",
       "      <td>Amu-Akw-Ric-M-153230-22</td>\n",
       "      <td>Richard Okello</td>\n",
       "      <td>40</td>\n",
       "      <td>0786-43-38-46</td>\n",
       "      <td>Male</td>\n",
       "      <td>Akello Beatrice</td>\n",
       "      <td>Female</td>\n",
       "      <td>0786-43-38-46</td>\n",
       "      <td>Male Headed</td>\n",
       "    </tr>\n",
       "    <tr>\n",
       "      <th>3</th>\n",
       "      <td>Amuru</td>\n",
       "      <td>Lamogi</td>\n",
       "      <td>Obbo</td>\n",
       "      <td>Akwar</td>\n",
       "      <td>Nen_Peko</td>\n",
       "      <td>Amu-Akw-Joh-M-154652-22</td>\n",
       "      <td>John Logwelo</td>\n",
       "      <td>41</td>\n",
       "      <td>0773-45-98-98</td>\n",
       "      <td>Male</td>\n",
       "      <td>Abalo Nancy</td>\n",
       "      <td>Female</td>\n",
       "      <td>0773-45-98-98</td>\n",
       "      <td>Male Headed</td>\n",
       "    </tr>\n",
       "    <tr>\n",
       "      <th>4</th>\n",
       "      <td>Amuru</td>\n",
       "      <td>Lamogi</td>\n",
       "      <td>Obbo</td>\n",
       "      <td>Akwar</td>\n",
       "      <td>Nen_Peko</td>\n",
       "      <td>Amu-Akw-Joh-M-155529-22</td>\n",
       "      <td>John Nyeko</td>\n",
       "      <td>58</td>\n",
       "      <td>0789-53-04-66</td>\n",
       "      <td>Male</td>\n",
       "      <td>Awilo Rose</td>\n",
       "      <td>Female</td>\n",
       "      <td>0789-53-04-66</td>\n",
       "      <td>Male Headed</td>\n",
       "    </tr>\n",
       "  </tbody>\n",
       "</table>\n",
       "</div>"
      ],
      "text/plain": [
       "  district subcounty parish_t village    Sub_Village                     hhid  \\\n",
       "0    Amuru    Lamogi     Obbo   Akwar  Alok_Ki_Winyo  Amu-Akw-Sim-M-145114-22   \n",
       "1    Amuru    Lamogi     Obbo   Akwar  Alok_Ki_Winyo  Amu-Akw-Sim-M-152411-22   \n",
       "2    Amuru    Lamogi     Obbo   Akwar       Nen_Peko  Amu-Akw-Ric-M-153230-22   \n",
       "3    Amuru    Lamogi     Obbo   Akwar       Nen_Peko  Amu-Akw-Joh-M-154652-22   \n",
       "4    Amuru    Lamogi     Obbo   Akwar       Nen_Peko  Amu-Akw-Joh-M-155529-22   \n",
       "\n",
       "    hhh_full_name  Household_Head_Age Household_Head_Contact  \\\n",
       "0    Simon Lakony                  41          0756-98-28-43   \n",
       "1    Simon Lakony                  41          0756-98-28-43   \n",
       "2  Richard Okello                  40          0786-43-38-46   \n",
       "3    John Logwelo                  41          0773-45-98-98   \n",
       "4      John Nyeko                  58          0789-53-04-66   \n",
       "\n",
       "  Household_Head_Gender      Spouse_Name Spouse_Gender Telephone_Contact  \\\n",
       "0                  Male      Apiyo Concy        Female     0765-81-55-64   \n",
       "1                  Male       Adok Agnes        Female     0765-81-55-64   \n",
       "2                  Male  Akello Beatrice        Female     0786-43-38-46   \n",
       "3                  Male      Abalo Nancy        Female     0773-45-98-98   \n",
       "4                  Male       Awilo Rose        Female     0789-53-04-66   \n",
       "\n",
       "    HHH_Gender  \n",
       "0  Male Headed  \n",
       "1  Male Headed  \n",
       "2  Male Headed  \n",
       "3  Male Headed  \n",
       "4  Male Headed  "
      ]
     },
     "execution_count": 24,
     "metadata": {},
     "output_type": "execute_result"
    }
   ],
   "source": [
    "df.head()"
   ]
  },
  {
   "cell_type": "code",
   "execution_count": 25,
   "id": "c694da25",
   "metadata": {
    "id": "1d3bf62c",
    "slideshow": {
     "slide_type": "fragment"
    }
   },
   "outputs": [],
   "source": [
    "male_HH_samp_frame = df[df['HHH_Gender']=='Male Headed']\n",
    "female_HH_samp_frame = df[df['HHH_Gender']=='Female Headed']\n",
    "youth_HH_samp_frame = df[df['HHH_Gender']=='Youth Headed']"
   ]
  },
  {
   "cell_type": "code",
   "execution_count": 26,
   "id": "e706e142",
   "metadata": {
    "id": "4a3eb44f",
    "outputId": "35f6d981-43af-4cbe-b4a8-3c08b6b3bea5",
    "slideshow": {
     "slide_type": "fragment"
    }
   },
   "outputs": [
    {
     "data": {
      "text/plain": [
       "((537, 14), (357, 14), (587, 14))"
      ]
     },
     "execution_count": 26,
     "metadata": {},
     "output_type": "execute_result"
    }
   ],
   "source": [
    "male_HH_samp_frame.shape, female_HH_samp_frame.shape, youth_HH_samp_frame.shape"
   ]
  },
  {
   "cell_type": "markdown",
   "id": "eda830d9",
   "metadata": {
    "id": "0176c5b5",
    "slideshow": {
     "slide_type": "slide"
    }
   },
   "source": [
    "## Male Headed"
   ]
  },
  {
   "cell_type": "code",
   "execution_count": 27,
   "id": "47d4e988",
   "metadata": {
    "id": "09ad1f5f",
    "outputId": "952886ac-1990-454b-aa24-2e0c0f8025e0",
    "slideshow": {
     "slide_type": "fragment"
    }
   },
   "outputs": [
    {
     "data": {
      "text/plain": [
       "537"
      ]
     },
     "execution_count": 27,
     "metadata": {},
     "output_type": "execute_result"
    }
   ],
   "source": [
    "len(male_HH_samp_frame)"
   ]
  },
  {
   "cell_type": "code",
   "execution_count": 28,
   "id": "3d51d576",
   "metadata": {
    "id": "80e33997",
    "slideshow": {
     "slide_type": "fragment"
    }
   },
   "outputs": [
    {
     "data": {
      "text/plain": [
       "18"
      ]
     },
     "execution_count": 28,
     "metadata": {},
     "output_type": "execute_result"
    }
   ],
   "source": [
    "sample_size = 18\n",
    "sample_size"
   ]
  },
  {
   "cell_type": "code",
   "execution_count": 112,
   "id": "3da2fc32",
   "metadata": {
    "id": "9a82b082-bc13-450a-98ff-904b3b330e5e",
    "slideshow": {
     "slide_type": "slide"
    }
   },
   "outputs": [],
   "source": [
    "def proportional_sample(group, sample_size):\n",
    "    # Get total number of households in this group (i.e., pre_village)\n",
    "    total_households = len(group)\n",
    "    \n",
    "    # If total households are less than the sample size, just return the whole group\n",
    "    if total_households <= sample_size:\n",
    "        return group\n",
    "    \n",
    "    # Group by 'sub_village'\n",
    "    sub_village_groups = group.groupby('Sub_Village')\n",
    "    \n",
    "    # Calculate proportional sample size for each sub_village\n",
    "    sub_village_sample_sizes = (sub_village_groups.size() / total_households * sample_size).round().astype(int)\n",
    "    \n",
    "    # Ensure total sample size equals the sample_size by adjusting the largest sub_village\n",
    "    while sub_village_sample_sizes.sum() > sample_size:\n",
    "        sub_village_sample_sizes[sub_village_sample_sizes.idxmax()] -= 1\n",
    "    while sub_village_sample_sizes.sum() < sample_size:\n",
    "        sub_village_sample_sizes[sub_village_sample_sizes.idxmax()] += 1\n",
    "    \n",
    "    # Apply sampling to each sub_village\n",
    "    sampled = sub_village_groups.apply(lambda x: x.sample(n=min(len(x), sub_village_sample_sizes[x.name])))\n",
    "    \n",
    "    # Reset the index to remove the group keys\n",
    "    return sampled.reset_index(drop=True)"
   ]
  },
  {
   "cell_type": "markdown",
   "id": "173b8c5b",
   "metadata": {
    "slideshow": {
     "slide_type": "notes"
    }
   },
   "source": [
    "Apply just works as our old lambda function, whereby you can "
   ]
  },
  {
   "cell_type": "code",
   "execution_count": 115,
   "id": "b43502e9",
   "metadata": {
    "id": "c106d912-658c-4179-ab1d-41a5a2ccffd3",
    "slideshow": {
     "slide_type": "fragment"
    }
   },
   "outputs": [
    {
     "name": "stderr",
     "output_type": "stream",
     "text": [
      "/var/folders/xd/0btgr76j2zxc4__ynw0yhwbm0000gn/T/ipykernel_63563/1466310018.py:22: DeprecationWarning: DataFrameGroupBy.apply operated on the grouping columns. This behavior is deprecated, and in a future version of pandas the grouping columns will be excluded from the operation. Either pass `include_groups=False` to exclude the groupings or explicitly select the grouping columns after groupby to silence this warning.\n",
      "  sampled = sub_village_groups.apply(lambda x: x.sample(n=min(len(x), sub_village_sample_sizes[x.name])))\n",
      "/var/folders/xd/0btgr76j2zxc4__ynw0yhwbm0000gn/T/ipykernel_63563/1466310018.py:22: DeprecationWarning: DataFrameGroupBy.apply operated on the grouping columns. This behavior is deprecated, and in a future version of pandas the grouping columns will be excluded from the operation. Either pass `include_groups=False` to exclude the groupings or explicitly select the grouping columns after groupby to silence this warning.\n",
      "  sampled = sub_village_groups.apply(lambda x: x.sample(n=min(len(x), sub_village_sample_sizes[x.name])))\n",
      "/var/folders/xd/0btgr76j2zxc4__ynw0yhwbm0000gn/T/ipykernel_63563/1466310018.py:22: DeprecationWarning: DataFrameGroupBy.apply operated on the grouping columns. This behavior is deprecated, and in a future version of pandas the grouping columns will be excluded from the operation. Either pass `include_groups=False` to exclude the groupings or explicitly select the grouping columns after groupby to silence this warning.\n",
      "  sampled = sub_village_groups.apply(lambda x: x.sample(n=min(len(x), sub_village_sample_sizes[x.name])))\n",
      "/var/folders/xd/0btgr76j2zxc4__ynw0yhwbm0000gn/T/ipykernel_63563/1466310018.py:22: DeprecationWarning: DataFrameGroupBy.apply operated on the grouping columns. This behavior is deprecated, and in a future version of pandas the grouping columns will be excluded from the operation. Either pass `include_groups=False` to exclude the groupings or explicitly select the grouping columns after groupby to silence this warning.\n",
      "  sampled = sub_village_groups.apply(lambda x: x.sample(n=min(len(x), sub_village_sample_sizes[x.name])))\n",
      "/var/folders/xd/0btgr76j2zxc4__ynw0yhwbm0000gn/T/ipykernel_63563/1466310018.py:22: DeprecationWarning: DataFrameGroupBy.apply operated on the grouping columns. This behavior is deprecated, and in a future version of pandas the grouping columns will be excluded from the operation. Either pass `include_groups=False` to exclude the groupings or explicitly select the grouping columns after groupby to silence this warning.\n",
      "  sampled = sub_village_groups.apply(lambda x: x.sample(n=min(len(x), sub_village_sample_sizes[x.name])))\n",
      "/var/folders/xd/0btgr76j2zxc4__ynw0yhwbm0000gn/T/ipykernel_63563/1466310018.py:22: DeprecationWarning: DataFrameGroupBy.apply operated on the grouping columns. This behavior is deprecated, and in a future version of pandas the grouping columns will be excluded from the operation. Either pass `include_groups=False` to exclude the groupings or explicitly select the grouping columns after groupby to silence this warning.\n",
      "  sampled = sub_village_groups.apply(lambda x: x.sample(n=min(len(x), sub_village_sample_sizes[x.name])))\n",
      "/var/folders/xd/0btgr76j2zxc4__ynw0yhwbm0000gn/T/ipykernel_63563/1466310018.py:22: DeprecationWarning: DataFrameGroupBy.apply operated on the grouping columns. This behavior is deprecated, and in a future version of pandas the grouping columns will be excluded from the operation. Either pass `include_groups=False` to exclude the groupings or explicitly select the grouping columns after groupby to silence this warning.\n",
      "  sampled = sub_village_groups.apply(lambda x: x.sample(n=min(len(x), sub_village_sample_sizes[x.name])))\n",
      "/var/folders/xd/0btgr76j2zxc4__ynw0yhwbm0000gn/T/ipykernel_63563/1466310018.py:22: DeprecationWarning: DataFrameGroupBy.apply operated on the grouping columns. This behavior is deprecated, and in a future version of pandas the grouping columns will be excluded from the operation. Either pass `include_groups=False` to exclude the groupings or explicitly select the grouping columns after groupby to silence this warning.\n",
      "  sampled = sub_village_groups.apply(lambda x: x.sample(n=min(len(x), sub_village_sample_sizes[x.name])))\n",
      "/var/folders/xd/0btgr76j2zxc4__ynw0yhwbm0000gn/T/ipykernel_63563/2626942136.py:1: DeprecationWarning: DataFrameGroupBy.apply operated on the grouping columns. This behavior is deprecated, and in a future version of pandas the grouping columns will be excluded from the operation. Either pass `include_groups=False` to exclude the groupings or explicitly select the grouping columns after groupby to silence this warning.\n",
      "  male_target_sample = male_HH_samp_frame.groupby('village', group_keys=False).apply(lambda x: proportional_sample(x, 18))\n"
     ]
    }
   ],
   "source": [
    "male_target_sample = male_HH_samp_frame.groupby('village', group_keys=False).apply(lambda x: proportional_sample(x, 18))"
   ]
  },
  {
   "cell_type": "code",
   "execution_count": 116,
   "id": "ec8237b7-6188-4265-bbef-f6fad9476c8f",
   "metadata": {},
   "outputs": [
    {
     "data": {
      "text/html": [
       "<div>\n",
       "<style scoped>\n",
       "    .dataframe tbody tr th:only-of-type {\n",
       "        vertical-align: middle;\n",
       "    }\n",
       "\n",
       "    .dataframe tbody tr th {\n",
       "        vertical-align: top;\n",
       "    }\n",
       "\n",
       "    .dataframe thead th {\n",
       "        text-align: right;\n",
       "    }\n",
       "</style>\n",
       "<table border=\"1\" class=\"dataframe\">\n",
       "  <thead>\n",
       "    <tr style=\"text-align: right;\">\n",
       "      <th></th>\n",
       "      <th>district</th>\n",
       "      <th>subcounty</th>\n",
       "      <th>parish_t</th>\n",
       "      <th>village</th>\n",
       "      <th>Sub_Village</th>\n",
       "      <th>hhid</th>\n",
       "      <th>hhh_full_name</th>\n",
       "      <th>Household_Head_Age</th>\n",
       "      <th>Household_Head_Contact</th>\n",
       "      <th>Household_Head_Gender</th>\n",
       "      <th>Spouse_Name</th>\n",
       "      <th>Spouse_Gender</th>\n",
       "      <th>Telephone_Contact</th>\n",
       "      <th>HHH_Gender</th>\n",
       "    </tr>\n",
       "  </thead>\n",
       "  <tbody>\n",
       "    <tr>\n",
       "      <th>0</th>\n",
       "      <td>Amuru</td>\n",
       "      <td>Lamogi</td>\n",
       "      <td>Obbo</td>\n",
       "      <td>Akwar</td>\n",
       "      <td>Akwanga_A</td>\n",
       "      <td>Amu-Akw-Ory-M-131337-22</td>\n",
       "      <td>Oryem Alul</td>\n",
       "      <td>52</td>\n",
       "      <td>0789-76-66-00</td>\n",
       "      <td>Male</td>\n",
       "      <td>Margreth Atuk</td>\n",
       "      <td>Female</td>\n",
       "      <td>0789-76-66-00</td>\n",
       "      <td>Male Headed</td>\n",
       "    </tr>\n",
       "    <tr>\n",
       "      <th>1</th>\n",
       "      <td>Amuru</td>\n",
       "      <td>Lamogi</td>\n",
       "      <td>Obbo</td>\n",
       "      <td>Akwar</td>\n",
       "      <td>Akwanga_B</td>\n",
       "      <td>Amu-Akw-Mwa-M-115336-22</td>\n",
       "      <td>Mwaka Sunday</td>\n",
       "      <td>36</td>\n",
       "      <td>0789-76-66-00</td>\n",
       "      <td>Male</td>\n",
       "      <td>NaN</td>\n",
       "      <td>NaN</td>\n",
       "      <td>NaN</td>\n",
       "      <td>Male Headed</td>\n",
       "    </tr>\n",
       "    <tr>\n",
       "      <th>2</th>\n",
       "      <td>Amuru</td>\n",
       "      <td>Lamogi</td>\n",
       "      <td>Obbo</td>\n",
       "      <td>Akwar</td>\n",
       "      <td>Akwanga_B</td>\n",
       "      <td>Amu-Akw-Oko-M-124644-22</td>\n",
       "      <td>Okot Francis</td>\n",
       "      <td>32</td>\n",
       "      <td>0789-76-66-00</td>\n",
       "      <td>Male</td>\n",
       "      <td>Susan Ajok</td>\n",
       "      <td>Female</td>\n",
       "      <td>0789-76-66-00</td>\n",
       "      <td>Male Headed</td>\n",
       "    </tr>\n",
       "    <tr>\n",
       "      <th>3</th>\n",
       "      <td>Amuru</td>\n",
       "      <td>Lamogi</td>\n",
       "      <td>Obbo</td>\n",
       "      <td>Akwar</td>\n",
       "      <td>Akwar_Center</td>\n",
       "      <td>Amu-Akw-Oti-M-175110-22</td>\n",
       "      <td>Otira Robert</td>\n",
       "      <td>45</td>\n",
       "      <td>0775-49-97-34</td>\n",
       "      <td>Male</td>\n",
       "      <td>Ketty Achiro</td>\n",
       "      <td>Female</td>\n",
       "      <td>0775-49-97-34</td>\n",
       "      <td>Male Headed</td>\n",
       "    </tr>\n",
       "    <tr>\n",
       "      <th>4</th>\n",
       "      <td>Amuru</td>\n",
       "      <td>Lamogi</td>\n",
       "      <td>Obbo</td>\n",
       "      <td>Akwar</td>\n",
       "      <td>Akwar_Center</td>\n",
       "      <td>Amu-Akw-Olo-M-180546-22</td>\n",
       "      <td>Oloya Oruk</td>\n",
       "      <td>80</td>\n",
       "      <td>0889-76-66-00</td>\n",
       "      <td>Male</td>\n",
       "      <td>Scovia Labol</td>\n",
       "      <td>Female</td>\n",
       "      <td>0789-76-66-00</td>\n",
       "      <td>Male Headed</td>\n",
       "    </tr>\n",
       "    <tr>\n",
       "      <th>...</th>\n",
       "      <td>...</td>\n",
       "      <td>...</td>\n",
       "      <td>...</td>\n",
       "      <td>...</td>\n",
       "      <td>...</td>\n",
       "      <td>...</td>\n",
       "      <td>...</td>\n",
       "      <td>...</td>\n",
       "      <td>...</td>\n",
       "      <td>...</td>\n",
       "      <td>...</td>\n",
       "      <td>...</td>\n",
       "      <td>...</td>\n",
       "      <td>...</td>\n",
       "    </tr>\n",
       "    <tr>\n",
       "      <th>13</th>\n",
       "      <td>Amuru</td>\n",
       "      <td>Lamogi</td>\n",
       "      <td>Obbo</td>\n",
       "      <td>Tworo_Akomo</td>\n",
       "      <td>Tee_Lawinyo</td>\n",
       "      <td>Amu-Two-Jos-M-110357-22</td>\n",
       "      <td>Joseph Kilara</td>\n",
       "      <td>64</td>\n",
       "      <td>0777-74-23-71</td>\n",
       "      <td>Male</td>\n",
       "      <td>Akwero Mary</td>\n",
       "      <td>Female</td>\n",
       "      <td>0777-74-23-71</td>\n",
       "      <td>Male Headed</td>\n",
       "    </tr>\n",
       "    <tr>\n",
       "      <th>14</th>\n",
       "      <td>Amuru</td>\n",
       "      <td>Lamogi</td>\n",
       "      <td>Obbo</td>\n",
       "      <td>Tworo_Akomo</td>\n",
       "      <td>Tworo_Akomo</td>\n",
       "      <td>Amu-Two-Geo-M-082022-22</td>\n",
       "      <td>Geoffery Oryem</td>\n",
       "      <td>36</td>\n",
       "      <td>0782-47-47-06</td>\n",
       "      <td>Male</td>\n",
       "      <td>Adokrach Judith</td>\n",
       "      <td>Female</td>\n",
       "      <td>0782-47-47-06</td>\n",
       "      <td>Male Headed</td>\n",
       "    </tr>\n",
       "    <tr>\n",
       "      <th>15</th>\n",
       "      <td>Amuru</td>\n",
       "      <td>Lamogi</td>\n",
       "      <td>Obbo</td>\n",
       "      <td>Tworo_Akomo</td>\n",
       "      <td>Tworo_Akomo</td>\n",
       "      <td>Amu-Two-Pat-M-183232-22</td>\n",
       "      <td>Patrick Owot</td>\n",
       "      <td>40</td>\n",
       "      <td>0774-60-60-75</td>\n",
       "      <td>Male</td>\n",
       "      <td>Alinga Jennifery</td>\n",
       "      <td>Female</td>\n",
       "      <td>0787-81-59-87</td>\n",
       "      <td>Male Headed</td>\n",
       "    </tr>\n",
       "    <tr>\n",
       "      <th>16</th>\n",
       "      <td>Amuru</td>\n",
       "      <td>Lamogi</td>\n",
       "      <td>Obbo</td>\n",
       "      <td>Tworo_Akomo</td>\n",
       "      <td>Tworo_Akomo</td>\n",
       "      <td>Amu-Two-Cha-M-175512-22</td>\n",
       "      <td>Charles Oceng</td>\n",
       "      <td>39</td>\n",
       "      <td>0781-02-45-86</td>\n",
       "      <td>Male</td>\n",
       "      <td>Angwech Nancy</td>\n",
       "      <td>Female</td>\n",
       "      <td>0781-02-45-86</td>\n",
       "      <td>Male Headed</td>\n",
       "    </tr>\n",
       "    <tr>\n",
       "      <th>17</th>\n",
       "      <td>Amuru</td>\n",
       "      <td>Lamogi</td>\n",
       "      <td>Obbo</td>\n",
       "      <td>Tworo_Akomo</td>\n",
       "      <td>Tworo_Akomo</td>\n",
       "      <td>Amu-Two-Bos-M-081725-22</td>\n",
       "      <td>Bosco Ouma</td>\n",
       "      <td>32</td>\n",
       "      <td>0788-42-10-73</td>\n",
       "      <td>Male</td>\n",
       "      <td>Arach Agness</td>\n",
       "      <td>Female</td>\n",
       "      <td>0788-42-10-73</td>\n",
       "      <td>Male Headed</td>\n",
       "    </tr>\n",
       "  </tbody>\n",
       "</table>\n",
       "<p>144 rows × 14 columns</p>\n",
       "</div>"
      ],
      "text/plain": [
       "   district subcounty parish_t      village   Sub_Village  \\\n",
       "0     Amuru    Lamogi     Obbo        Akwar     Akwanga_A   \n",
       "1     Amuru    Lamogi     Obbo        Akwar     Akwanga_B   \n",
       "2     Amuru    Lamogi     Obbo        Akwar     Akwanga_B   \n",
       "3     Amuru    Lamogi     Obbo        Akwar  Akwar_Center   \n",
       "4     Amuru    Lamogi     Obbo        Akwar  Akwar_Center   \n",
       "..      ...       ...      ...          ...           ...   \n",
       "13    Amuru    Lamogi     Obbo  Tworo_Akomo   Tee_Lawinyo   \n",
       "14    Amuru    Lamogi     Obbo  Tworo_Akomo   Tworo_Akomo   \n",
       "15    Amuru    Lamogi     Obbo  Tworo_Akomo   Tworo_Akomo   \n",
       "16    Amuru    Lamogi     Obbo  Tworo_Akomo   Tworo_Akomo   \n",
       "17    Amuru    Lamogi     Obbo  Tworo_Akomo   Tworo_Akomo   \n",
       "\n",
       "                       hhid   hhh_full_name  Household_Head_Age  \\\n",
       "0   Amu-Akw-Ory-M-131337-22      Oryem Alul                  52   \n",
       "1   Amu-Akw-Mwa-M-115336-22    Mwaka Sunday                  36   \n",
       "2   Amu-Akw-Oko-M-124644-22    Okot Francis                  32   \n",
       "3   Amu-Akw-Oti-M-175110-22    Otira Robert                  45   \n",
       "4   Amu-Akw-Olo-M-180546-22      Oloya Oruk                  80   \n",
       "..                      ...             ...                 ...   \n",
       "13  Amu-Two-Jos-M-110357-22   Joseph Kilara                  64   \n",
       "14  Amu-Two-Geo-M-082022-22  Geoffery Oryem                  36   \n",
       "15  Amu-Two-Pat-M-183232-22    Patrick Owot                  40   \n",
       "16  Amu-Two-Cha-M-175512-22   Charles Oceng                  39   \n",
       "17  Amu-Two-Bos-M-081725-22      Bosco Ouma                  32   \n",
       "\n",
       "   Household_Head_Contact Household_Head_Gender       Spouse_Name  \\\n",
       "0           0789-76-66-00                  Male     Margreth Atuk   \n",
       "1           0789-76-66-00                  Male               NaN   \n",
       "2           0789-76-66-00                  Male        Susan Ajok   \n",
       "3           0775-49-97-34                  Male      Ketty Achiro   \n",
       "4           0889-76-66-00                  Male      Scovia Labol   \n",
       "..                    ...                   ...               ...   \n",
       "13          0777-74-23-71                  Male       Akwero Mary   \n",
       "14          0782-47-47-06                  Male   Adokrach Judith   \n",
       "15          0774-60-60-75                  Male  Alinga Jennifery   \n",
       "16          0781-02-45-86                  Male     Angwech Nancy   \n",
       "17          0788-42-10-73                  Male      Arach Agness   \n",
       "\n",
       "   Spouse_Gender Telephone_Contact   HHH_Gender  \n",
       "0         Female     0789-76-66-00  Male Headed  \n",
       "1            NaN               NaN  Male Headed  \n",
       "2         Female     0789-76-66-00  Male Headed  \n",
       "3         Female     0775-49-97-34  Male Headed  \n",
       "4         Female     0789-76-66-00  Male Headed  \n",
       "..           ...               ...          ...  \n",
       "13        Female     0777-74-23-71  Male Headed  \n",
       "14        Female     0782-47-47-06  Male Headed  \n",
       "15        Female     0787-81-59-87  Male Headed  \n",
       "16        Female     0781-02-45-86  Male Headed  \n",
       "17        Female     0788-42-10-73  Male Headed  \n",
       "\n",
       "[144 rows x 14 columns]"
      ]
     },
     "execution_count": 116,
     "metadata": {},
     "output_type": "execute_result"
    }
   ],
   "source": [
    "male_target_sample"
   ]
  },
  {
   "cell_type": "markdown",
   "id": "8bce7f95",
   "metadata": {
    "slideshow": {
     "slide_type": "slide"
    }
   },
   "source": [
    "We can generate a new column and assign a value target"
   ]
  },
  {
   "cell_type": "code",
   "execution_count": 117,
   "id": "3690104a-4811-4934-8a45-3912ec46d89f",
   "metadata": {},
   "outputs": [
    {
     "name": "stdout",
     "output_type": "stream",
     "text": [
      "8\n"
     ]
    }
   ],
   "source": [
    "print(male_target_sample['village'].nunique())"
   ]
  },
  {
   "cell_type": "code",
   "execution_count": 118,
   "id": "f01e60ca-7917-4b8c-b0d9-03226d1d6cd6",
   "metadata": {},
   "outputs": [
    {
     "name": "stdout",
     "output_type": "stream",
     "text": [
      "village\n",
      "Akwar          18\n",
      "Alego_Pac      18\n",
      "Apotokitoo     18\n",
      "Lamogi_Ber     18\n",
      "Pamin_Naba     18\n",
      "Pamin_Obi      18\n",
      "Pamin_Otoo     18\n",
      "Tworo_Akomo    18\n",
      "dtype: int64\n"
     ]
    }
   ],
   "source": [
    "print(male_target_sample.groupby('village').size())"
   ]
  },
  {
   "cell_type": "code",
   "execution_count": 119,
   "id": "631d9c02",
   "metadata": {
    "id": "50f5ae21",
    "slideshow": {
     "slide_type": "fragment"
    }
   },
   "outputs": [],
   "source": [
    "male_target_sample['status'] = 'target'"
   ]
  },
  {
   "cell_type": "markdown",
   "id": "c51d1bb8",
   "metadata": {
    "id": "4b6293ee",
    "slideshow": {
     "slide_type": "slide"
    }
   },
   "source": [
    "## Reserve frame"
   ]
  },
  {
   "cell_type": "markdown",
   "id": "7aede73a",
   "metadata": {
    "slideshow": {
     "slide_type": "notes"
    }
   },
   "source": [
    "we can drop the targets since we've already assigned them using the index"
   ]
  },
  {
   "cell_type": "code",
   "execution_count": 120,
   "id": "d9514ed8",
   "metadata": {
    "id": "2afb4fd5",
    "slideshow": {
     "slide_type": "fragment"
    }
   },
   "outputs": [],
   "source": [
    "male_reserve_s_frame = male_HH_samp_frame[~male_HH_samp_frame['hhid'].isin(male_target_sample['hhid'])]"
   ]
  },
  {
   "cell_type": "code",
   "execution_count": 80,
   "id": "899bd283",
   "metadata": {
    "id": "d3ed3ca4",
    "slideshow": {
     "slide_type": "skip"
    }
   },
   "outputs": [],
   "source": [
    "# male_reserve_s_frame.to_excel('mit/male_reserve_s_frame.xlsx', index=False)"
   ]
  },
  {
   "cell_type": "code",
   "execution_count": 122,
   "id": "1466854e",
   "metadata": {
    "id": "d5caae2a-9eb3-4cdc-aed8-07ca47334f8b",
    "slideshow": {
     "slide_type": "fragment"
    }
   },
   "outputs": [
    {
     "name": "stderr",
     "output_type": "stream",
     "text": [
      "/var/folders/xd/0btgr76j2zxc4__ynw0yhwbm0000gn/T/ipykernel_63563/1466310018.py:22: DeprecationWarning: DataFrameGroupBy.apply operated on the grouping columns. This behavior is deprecated, and in a future version of pandas the grouping columns will be excluded from the operation. Either pass `include_groups=False` to exclude the groupings or explicitly select the grouping columns after groupby to silence this warning.\n",
      "  sampled = sub_village_groups.apply(lambda x: x.sample(n=min(len(x), sub_village_sample_sizes[x.name])))\n",
      "/var/folders/xd/0btgr76j2zxc4__ynw0yhwbm0000gn/T/ipykernel_63563/1466310018.py:22: DeprecationWarning: DataFrameGroupBy.apply operated on the grouping columns. This behavior is deprecated, and in a future version of pandas the grouping columns will be excluded from the operation. Either pass `include_groups=False` to exclude the groupings or explicitly select the grouping columns after groupby to silence this warning.\n",
      "  sampled = sub_village_groups.apply(lambda x: x.sample(n=min(len(x), sub_village_sample_sizes[x.name])))\n",
      "/var/folders/xd/0btgr76j2zxc4__ynw0yhwbm0000gn/T/ipykernel_63563/1466310018.py:22: DeprecationWarning: DataFrameGroupBy.apply operated on the grouping columns. This behavior is deprecated, and in a future version of pandas the grouping columns will be excluded from the operation. Either pass `include_groups=False` to exclude the groupings or explicitly select the grouping columns after groupby to silence this warning.\n",
      "  sampled = sub_village_groups.apply(lambda x: x.sample(n=min(len(x), sub_village_sample_sizes[x.name])))\n",
      "/var/folders/xd/0btgr76j2zxc4__ynw0yhwbm0000gn/T/ipykernel_63563/1466310018.py:22: DeprecationWarning: DataFrameGroupBy.apply operated on the grouping columns. This behavior is deprecated, and in a future version of pandas the grouping columns will be excluded from the operation. Either pass `include_groups=False` to exclude the groupings or explicitly select the grouping columns after groupby to silence this warning.\n",
      "  sampled = sub_village_groups.apply(lambda x: x.sample(n=min(len(x), sub_village_sample_sizes[x.name])))\n",
      "/var/folders/xd/0btgr76j2zxc4__ynw0yhwbm0000gn/T/ipykernel_63563/1466310018.py:22: DeprecationWarning: DataFrameGroupBy.apply operated on the grouping columns. This behavior is deprecated, and in a future version of pandas the grouping columns will be excluded from the operation. Either pass `include_groups=False` to exclude the groupings or explicitly select the grouping columns after groupby to silence this warning.\n",
      "  sampled = sub_village_groups.apply(lambda x: x.sample(n=min(len(x), sub_village_sample_sizes[x.name])))\n",
      "/var/folders/xd/0btgr76j2zxc4__ynw0yhwbm0000gn/T/ipykernel_63563/1466310018.py:22: DeprecationWarning: DataFrameGroupBy.apply operated on the grouping columns. This behavior is deprecated, and in a future version of pandas the grouping columns will be excluded from the operation. Either pass `include_groups=False` to exclude the groupings or explicitly select the grouping columns after groupby to silence this warning.\n",
      "  sampled = sub_village_groups.apply(lambda x: x.sample(n=min(len(x), sub_village_sample_sizes[x.name])))\n",
      "/var/folders/xd/0btgr76j2zxc4__ynw0yhwbm0000gn/T/ipykernel_63563/1466310018.py:22: DeprecationWarning: DataFrameGroupBy.apply operated on the grouping columns. This behavior is deprecated, and in a future version of pandas the grouping columns will be excluded from the operation. Either pass `include_groups=False` to exclude the groupings or explicitly select the grouping columns after groupby to silence this warning.\n",
      "  sampled = sub_village_groups.apply(lambda x: x.sample(n=min(len(x), sub_village_sample_sizes[x.name])))\n",
      "/var/folders/xd/0btgr76j2zxc4__ynw0yhwbm0000gn/T/ipykernel_63563/2222774980.py:1: DeprecationWarning: DataFrameGroupBy.apply operated on the grouping columns. This behavior is deprecated, and in a future version of pandas the grouping columns will be excluded from the operation. Either pass `include_groups=False` to exclude the groupings or explicitly select the grouping columns after groupby to silence this warning.\n",
      "  male_reserve_sample = male_reserve_s_frame.groupby('village', group_keys=False).apply(lambda x: proportional_sample(x, 18))\n"
     ]
    }
   ],
   "source": [
    "male_reserve_sample = male_reserve_s_frame.groupby('village', group_keys=False).apply(lambda x: proportional_sample(x, 18))"
   ]
  },
  {
   "cell_type": "code",
   "execution_count": 123,
   "id": "d8ffdbd1",
   "metadata": {
    "id": "ccfd39b7",
    "outputId": "62395bf4-395a-4e3d-9b51-0b2e82c534f8",
    "slideshow": {
     "slide_type": "fragment"
    }
   },
   "outputs": [
    {
     "data": {
      "text/html": [
       "<div>\n",
       "<style scoped>\n",
       "    .dataframe tbody tr th:only-of-type {\n",
       "        vertical-align: middle;\n",
       "    }\n",
       "\n",
       "    .dataframe tbody tr th {\n",
       "        vertical-align: top;\n",
       "    }\n",
       "\n",
       "    .dataframe thead th {\n",
       "        text-align: right;\n",
       "    }\n",
       "</style>\n",
       "<table border=\"1\" class=\"dataframe\">\n",
       "  <thead>\n",
       "    <tr style=\"text-align: right;\">\n",
       "      <th></th>\n",
       "      <th>district</th>\n",
       "      <th>subcounty</th>\n",
       "      <th>parish_t</th>\n",
       "      <th>village</th>\n",
       "      <th>Sub_Village</th>\n",
       "      <th>hhid</th>\n",
       "      <th>hhh_full_name</th>\n",
       "      <th>Household_Head_Age</th>\n",
       "      <th>Household_Head_Contact</th>\n",
       "      <th>Household_Head_Gender</th>\n",
       "      <th>Spouse_Name</th>\n",
       "      <th>Spouse_Gender</th>\n",
       "      <th>Telephone_Contact</th>\n",
       "      <th>HHH_Gender</th>\n",
       "      <th>status</th>\n",
       "    </tr>\n",
       "  </thead>\n",
       "  <tbody>\n",
       "    <tr>\n",
       "      <th>0</th>\n",
       "      <td>Amuru</td>\n",
       "      <td>Lamogi</td>\n",
       "      <td>Obbo</td>\n",
       "      <td>Akwar</td>\n",
       "      <td>Akwanga_A</td>\n",
       "      <td>Amu-Akw-Oku-M-135837-22</td>\n",
       "      <td>Okumu John</td>\n",
       "      <td>41</td>\n",
       "      <td>0774-14-20-39</td>\n",
       "      <td>Male</td>\n",
       "      <td>NaN</td>\n",
       "      <td>NaN</td>\n",
       "      <td>NaN</td>\n",
       "      <td>Male Headed</td>\n",
       "      <td>reserve</td>\n",
       "    </tr>\n",
       "    <tr>\n",
       "      <th>1</th>\n",
       "      <td>Amuru</td>\n",
       "      <td>Lamogi</td>\n",
       "      <td>Obbo</td>\n",
       "      <td>Akwar</td>\n",
       "      <td>Akwanga_B</td>\n",
       "      <td>Amu-Akw-Wat-M-105345-22</td>\n",
       "      <td>Watum Francis</td>\n",
       "      <td>45</td>\n",
       "      <td>0782-67-41-74</td>\n",
       "      <td>Male</td>\n",
       "      <td>Jenneth Auma</td>\n",
       "      <td>Female</td>\n",
       "      <td>0782-67-41-74</td>\n",
       "      <td>Male Headed</td>\n",
       "      <td>reserve</td>\n",
       "    </tr>\n",
       "    <tr>\n",
       "      <th>2</th>\n",
       "      <td>Amuru</td>\n",
       "      <td>Lamogi</td>\n",
       "      <td>Obbo</td>\n",
       "      <td>Akwar</td>\n",
       "      <td>Akwanga_B</td>\n",
       "      <td>Amu-Akw-Kom-M-112502-22</td>\n",
       "      <td>Komakech Bosco</td>\n",
       "      <td>40</td>\n",
       "      <td>0789-76-66-00</td>\n",
       "      <td>Male</td>\n",
       "      <td>Nzncy Auma</td>\n",
       "      <td>Female</td>\n",
       "      <td>0789-76-66-00</td>\n",
       "      <td>Male Headed</td>\n",
       "      <td>reserve</td>\n",
       "    </tr>\n",
       "    <tr>\n",
       "      <th>3</th>\n",
       "      <td>Amuru</td>\n",
       "      <td>Lamogi</td>\n",
       "      <td>Obbo</td>\n",
       "      <td>Akwar</td>\n",
       "      <td>Akwanga_B</td>\n",
       "      <td>Amu-Akw-Oci-M-114307-22</td>\n",
       "      <td>Ocitti Jimmy</td>\n",
       "      <td>53</td>\n",
       "      <td>0789-76-67-00</td>\n",
       "      <td>Male</td>\n",
       "      <td>Grace Aryemo</td>\n",
       "      <td>Female</td>\n",
       "      <td>0789-76-66-00</td>\n",
       "      <td>Male Headed</td>\n",
       "      <td>reserve</td>\n",
       "    </tr>\n",
       "    <tr>\n",
       "      <th>4</th>\n",
       "      <td>Amuru</td>\n",
       "      <td>Lamogi</td>\n",
       "      <td>Obbo</td>\n",
       "      <td>Akwar</td>\n",
       "      <td>Akwar_Center</td>\n",
       "      <td>Amu-Akw-Okw-M-171742-22</td>\n",
       "      <td>Okwera Peter</td>\n",
       "      <td>50</td>\n",
       "      <td>0789-76-66-00</td>\n",
       "      <td>Male</td>\n",
       "      <td>Beatrice Apoko</td>\n",
       "      <td>Female</td>\n",
       "      <td>0789-76-66-00</td>\n",
       "      <td>Male Headed</td>\n",
       "      <td>reserve</td>\n",
       "    </tr>\n",
       "  </tbody>\n",
       "</table>\n",
       "</div>"
      ],
      "text/plain": [
       "  district subcounty parish_t village   Sub_Village                     hhid  \\\n",
       "0    Amuru    Lamogi     Obbo   Akwar     Akwanga_A  Amu-Akw-Oku-M-135837-22   \n",
       "1    Amuru    Lamogi     Obbo   Akwar     Akwanga_B  Amu-Akw-Wat-M-105345-22   \n",
       "2    Amuru    Lamogi     Obbo   Akwar     Akwanga_B  Amu-Akw-Kom-M-112502-22   \n",
       "3    Amuru    Lamogi     Obbo   Akwar     Akwanga_B  Amu-Akw-Oci-M-114307-22   \n",
       "4    Amuru    Lamogi     Obbo   Akwar  Akwar_Center  Amu-Akw-Okw-M-171742-22   \n",
       "\n",
       "    hhh_full_name  Household_Head_Age Household_Head_Contact  \\\n",
       "0      Okumu John                  41          0774-14-20-39   \n",
       "1   Watum Francis                  45          0782-67-41-74   \n",
       "2  Komakech Bosco                  40          0789-76-66-00   \n",
       "3    Ocitti Jimmy                  53          0789-76-67-00   \n",
       "4    Okwera Peter                  50          0789-76-66-00   \n",
       "\n",
       "  Household_Head_Gender     Spouse_Name Spouse_Gender Telephone_Contact  \\\n",
       "0                  Male             NaN           NaN               NaN   \n",
       "1                  Male    Jenneth Auma        Female     0782-67-41-74   \n",
       "2                  Male      Nzncy Auma        Female     0789-76-66-00   \n",
       "3                  Male    Grace Aryemo        Female     0789-76-66-00   \n",
       "4                  Male  Beatrice Apoko        Female     0789-76-66-00   \n",
       "\n",
       "    HHH_Gender   status  \n",
       "0  Male Headed  reserve  \n",
       "1  Male Headed  reserve  \n",
       "2  Male Headed  reserve  \n",
       "3  Male Headed  reserve  \n",
       "4  Male Headed  reserve  "
      ]
     },
     "execution_count": 123,
     "metadata": {},
     "output_type": "execute_result"
    }
   ],
   "source": [
    "male_reserve_sample['status'] = 'reserve'\n",
    "male_reserve_sample.head()"
   ]
  },
  {
   "cell_type": "code",
   "execution_count": 124,
   "id": "dad53481",
   "metadata": {
    "id": "ed57a534",
    "slideshow": {
     "slide_type": "skip"
    }
   },
   "outputs": [],
   "source": [
    "# male_reserve_sample.to_excel('mit/male_reserve_sample.xlsx', index=False)"
   ]
  },
  {
   "cell_type": "markdown",
   "id": "8c42e29d",
   "metadata": {
    "slideshow": {
     "slide_type": "skip"
    }
   },
   "source": [
    "Let's combine the targets and reserves to come up with a complete sample for males"
   ]
  },
  {
   "cell_type": "markdown",
   "id": "86801475",
   "metadata": {
    "id": "c210c150",
    "slideshow": {
     "slide_type": "slide"
    }
   },
   "source": [
    "# Male Household Sample [Combining the Target and Reserve]"
   ]
  },
  {
   "cell_type": "code",
   "execution_count": 125,
   "id": "d304b5d2",
   "metadata": {
    "id": "d33254ad",
    "outputId": "34a62b6c-3cca-4cd9-8b9b-46a67d18dba9",
    "slideshow": {
     "slide_type": "fragment"
    }
   },
   "outputs": [
    {
     "data": {
      "text/plain": [
       "((144, 15), (137, 15))"
      ]
     },
     "execution_count": 125,
     "metadata": {},
     "output_type": "execute_result"
    }
   ],
   "source": [
    "male_target_sample.shape, male_reserve_sample.shape"
   ]
  },
  {
   "cell_type": "code",
   "execution_count": 126,
   "id": "81444f31",
   "metadata": {
    "id": "6c290995",
    "slideshow": {
     "slide_type": "fragment"
    }
   },
   "outputs": [],
   "source": [
    "MALE_HH_SAMPLE = pd.concat([male_target_sample, male_reserve_sample])"
   ]
  },
  {
   "cell_type": "markdown",
   "id": "057db640",
   "metadata": {
    "id": "3e0ac3ed",
    "slideshow": {
     "slide_type": "slide"
    }
   },
   "source": [
    "# FEMALE  Headed"
   ]
  },
  {
   "cell_type": "code",
   "execution_count": 127,
   "id": "bd11090e",
   "metadata": {
    "id": "bb4e1a37",
    "outputId": "11deb01b-6d98-4bcd-fffb-ec25afa9b038",
    "slideshow": {
     "slide_type": "fragment"
    }
   },
   "outputs": [
    {
     "data": {
      "text/plain": [
       "357"
      ]
     },
     "execution_count": 127,
     "metadata": {},
     "output_type": "execute_result"
    }
   ],
   "source": [
    "len(female_HH_samp_frame)"
   ]
  },
  {
   "cell_type": "code",
   "execution_count": 128,
   "id": "e74bad6d",
   "metadata": {
    "id": "72cbb9f3",
    "outputId": "236a87ad-0547-4188-c7ff-bec7fc6c9f2c",
    "slideshow": {
     "slide_type": "skip"
    }
   },
   "outputs": [
    {
     "data": {
      "text/html": [
       "<div>\n",
       "<style scoped>\n",
       "    .dataframe tbody tr th:only-of-type {\n",
       "        vertical-align: middle;\n",
       "    }\n",
       "\n",
       "    .dataframe tbody tr th {\n",
       "        vertical-align: top;\n",
       "    }\n",
       "\n",
       "    .dataframe thead th {\n",
       "        text-align: right;\n",
       "    }\n",
       "</style>\n",
       "<table border=\"1\" class=\"dataframe\">\n",
       "  <thead>\n",
       "    <tr style=\"text-align: right;\">\n",
       "      <th></th>\n",
       "      <th>district</th>\n",
       "      <th>subcounty</th>\n",
       "      <th>parish_t</th>\n",
       "      <th>village</th>\n",
       "      <th>Sub_Village</th>\n",
       "      <th>hhid</th>\n",
       "      <th>hhh_full_name</th>\n",
       "      <th>Household_Head_Age</th>\n",
       "      <th>Household_Head_Contact</th>\n",
       "      <th>Household_Head_Gender</th>\n",
       "      <th>Spouse_Name</th>\n",
       "      <th>Spouse_Gender</th>\n",
       "      <th>Telephone_Contact</th>\n",
       "      <th>HHH_Gender</th>\n",
       "    </tr>\n",
       "  </thead>\n",
       "  <tbody>\n",
       "    <tr>\n",
       "      <th>11</th>\n",
       "      <td>Amuru</td>\n",
       "      <td>Lamogi</td>\n",
       "      <td>Obbo</td>\n",
       "      <td>Akwar</td>\n",
       "      <td>Nen_Peko</td>\n",
       "      <td>Amu-Akw-Aca-F-172731-22</td>\n",
       "      <td>Acaye David</td>\n",
       "      <td>82</td>\n",
       "      <td>0789-76-66-00</td>\n",
       "      <td>Female</td>\n",
       "      <td>NaN</td>\n",
       "      <td>NaN</td>\n",
       "      <td>NaN</td>\n",
       "      <td>Female Headed</td>\n",
       "    </tr>\n",
       "    <tr>\n",
       "      <th>12</th>\n",
       "      <td>Amuru</td>\n",
       "      <td>Lamogi</td>\n",
       "      <td>Obbo</td>\n",
       "      <td>Akwar</td>\n",
       "      <td>Nen_Peko</td>\n",
       "      <td>Amu-Akw-Kil-F-173539-22</td>\n",
       "      <td>Kila Lapobo</td>\n",
       "      <td>85</td>\n",
       "      <td>0789-76-66-00</td>\n",
       "      <td>Female</td>\n",
       "      <td>NaN</td>\n",
       "      <td>NaN</td>\n",
       "      <td>NaN</td>\n",
       "      <td>Female Headed</td>\n",
       "    </tr>\n",
       "    <tr>\n",
       "      <th>13</th>\n",
       "      <td>Amuru</td>\n",
       "      <td>Lamogi</td>\n",
       "      <td>Obbo</td>\n",
       "      <td>Akwar</td>\n",
       "      <td>Nen_Peko</td>\n",
       "      <td>Amu-Akw-Oye-F-174304-22</td>\n",
       "      <td>Oyella Eofenia</td>\n",
       "      <td>80</td>\n",
       "      <td>0789-76-66-00</td>\n",
       "      <td>Female</td>\n",
       "      <td>NaN</td>\n",
       "      <td>NaN</td>\n",
       "      <td>NaN</td>\n",
       "      <td>Female Headed</td>\n",
       "    </tr>\n",
       "    <tr>\n",
       "      <th>17</th>\n",
       "      <td>Amuru</td>\n",
       "      <td>Lamogi</td>\n",
       "      <td>Obbo</td>\n",
       "      <td>Akwar</td>\n",
       "      <td>Nen_Peko</td>\n",
       "      <td>Amu-Akw-Ado-F-185452-22</td>\n",
       "      <td>Adong Christine</td>\n",
       "      <td>42</td>\n",
       "      <td>0789-76-66-00</td>\n",
       "      <td>Female</td>\n",
       "      <td>NaN</td>\n",
       "      <td>NaN</td>\n",
       "      <td>NaN</td>\n",
       "      <td>Female Headed</td>\n",
       "    </tr>\n",
       "    <tr>\n",
       "      <th>19</th>\n",
       "      <td>Amuru</td>\n",
       "      <td>Lamogi</td>\n",
       "      <td>Obbo</td>\n",
       "      <td>Akwar</td>\n",
       "      <td>Nen_Peko</td>\n",
       "      <td>Amu-Akw-Ati-F-192237-22</td>\n",
       "      <td>Atim Monica</td>\n",
       "      <td>34</td>\n",
       "      <td>0789-76-66-00</td>\n",
       "      <td>Female</td>\n",
       "      <td>NaN</td>\n",
       "      <td>NaN</td>\n",
       "      <td>NaN</td>\n",
       "      <td>Female Headed</td>\n",
       "    </tr>\n",
       "  </tbody>\n",
       "</table>\n",
       "</div>"
      ],
      "text/plain": [
       "   district subcounty parish_t village Sub_Village                     hhid  \\\n",
       "11    Amuru    Lamogi     Obbo   Akwar    Nen_Peko  Amu-Akw-Aca-F-172731-22   \n",
       "12    Amuru    Lamogi     Obbo   Akwar    Nen_Peko  Amu-Akw-Kil-F-173539-22   \n",
       "13    Amuru    Lamogi     Obbo   Akwar    Nen_Peko  Amu-Akw-Oye-F-174304-22   \n",
       "17    Amuru    Lamogi     Obbo   Akwar    Nen_Peko  Amu-Akw-Ado-F-185452-22   \n",
       "19    Amuru    Lamogi     Obbo   Akwar    Nen_Peko  Amu-Akw-Ati-F-192237-22   \n",
       "\n",
       "      hhh_full_name  Household_Head_Age Household_Head_Contact  \\\n",
       "11      Acaye David                  82          0789-76-66-00   \n",
       "12      Kila Lapobo                  85          0789-76-66-00   \n",
       "13   Oyella Eofenia                  80          0789-76-66-00   \n",
       "17  Adong Christine                  42          0789-76-66-00   \n",
       "19      Atim Monica                  34          0789-76-66-00   \n",
       "\n",
       "   Household_Head_Gender Spouse_Name Spouse_Gender Telephone_Contact  \\\n",
       "11                Female         NaN           NaN               NaN   \n",
       "12                Female         NaN           NaN               NaN   \n",
       "13                Female         NaN           NaN               NaN   \n",
       "17                Female         NaN           NaN               NaN   \n",
       "19                Female         NaN           NaN               NaN   \n",
       "\n",
       "       HHH_Gender  \n",
       "11  Female Headed  \n",
       "12  Female Headed  \n",
       "13  Female Headed  \n",
       "17  Female Headed  \n",
       "19  Female Headed  "
      ]
     },
     "execution_count": 128,
     "metadata": {},
     "output_type": "execute_result"
    }
   ],
   "source": [
    "female_HH_samp_frame.head()"
   ]
  },
  {
   "cell_type": "code",
   "execution_count": 129,
   "id": "182b49b0",
   "metadata": {
    "id": "ea81691f",
    "slideshow": {
     "slide_type": "fragment"
    }
   },
   "outputs": [
    {
     "name": "stderr",
     "output_type": "stream",
     "text": [
      "/var/folders/xd/0btgr76j2zxc4__ynw0yhwbm0000gn/T/ipykernel_63563/1466310018.py:22: DeprecationWarning: DataFrameGroupBy.apply operated on the grouping columns. This behavior is deprecated, and in a future version of pandas the grouping columns will be excluded from the operation. Either pass `include_groups=False` to exclude the groupings or explicitly select the grouping columns after groupby to silence this warning.\n",
      "  sampled = sub_village_groups.apply(lambda x: x.sample(n=min(len(x), sub_village_sample_sizes[x.name])))\n",
      "/var/folders/xd/0btgr76j2zxc4__ynw0yhwbm0000gn/T/ipykernel_63563/1466310018.py:22: DeprecationWarning: DataFrameGroupBy.apply operated on the grouping columns. This behavior is deprecated, and in a future version of pandas the grouping columns will be excluded from the operation. Either pass `include_groups=False` to exclude the groupings or explicitly select the grouping columns after groupby to silence this warning.\n",
      "  sampled = sub_village_groups.apply(lambda x: x.sample(n=min(len(x), sub_village_sample_sizes[x.name])))\n",
      "/var/folders/xd/0btgr76j2zxc4__ynw0yhwbm0000gn/T/ipykernel_63563/1466310018.py:22: DeprecationWarning: DataFrameGroupBy.apply operated on the grouping columns. This behavior is deprecated, and in a future version of pandas the grouping columns will be excluded from the operation. Either pass `include_groups=False` to exclude the groupings or explicitly select the grouping columns after groupby to silence this warning.\n",
      "  sampled = sub_village_groups.apply(lambda x: x.sample(n=min(len(x), sub_village_sample_sizes[x.name])))\n",
      "/var/folders/xd/0btgr76j2zxc4__ynw0yhwbm0000gn/T/ipykernel_63563/1466310018.py:22: DeprecationWarning: DataFrameGroupBy.apply operated on the grouping columns. This behavior is deprecated, and in a future version of pandas the grouping columns will be excluded from the operation. Either pass `include_groups=False` to exclude the groupings or explicitly select the grouping columns after groupby to silence this warning.\n",
      "  sampled = sub_village_groups.apply(lambda x: x.sample(n=min(len(x), sub_village_sample_sizes[x.name])))\n",
      "/var/folders/xd/0btgr76j2zxc4__ynw0yhwbm0000gn/T/ipykernel_63563/1466310018.py:22: DeprecationWarning: DataFrameGroupBy.apply operated on the grouping columns. This behavior is deprecated, and in a future version of pandas the grouping columns will be excluded from the operation. Either pass `include_groups=False` to exclude the groupings or explicitly select the grouping columns after groupby to silence this warning.\n",
      "  sampled = sub_village_groups.apply(lambda x: x.sample(n=min(len(x), sub_village_sample_sizes[x.name])))\n",
      "/var/folders/xd/0btgr76j2zxc4__ynw0yhwbm0000gn/T/ipykernel_63563/1466310018.py:22: DeprecationWarning: DataFrameGroupBy.apply operated on the grouping columns. This behavior is deprecated, and in a future version of pandas the grouping columns will be excluded from the operation. Either pass `include_groups=False` to exclude the groupings or explicitly select the grouping columns after groupby to silence this warning.\n",
      "  sampled = sub_village_groups.apply(lambda x: x.sample(n=min(len(x), sub_village_sample_sizes[x.name])))\n",
      "/var/folders/xd/0btgr76j2zxc4__ynw0yhwbm0000gn/T/ipykernel_63563/1466310018.py:22: DeprecationWarning: DataFrameGroupBy.apply operated on the grouping columns. This behavior is deprecated, and in a future version of pandas the grouping columns will be excluded from the operation. Either pass `include_groups=False` to exclude the groupings or explicitly select the grouping columns after groupby to silence this warning.\n",
      "  sampled = sub_village_groups.apply(lambda x: x.sample(n=min(len(x), sub_village_sample_sizes[x.name])))\n",
      "/var/folders/xd/0btgr76j2zxc4__ynw0yhwbm0000gn/T/ipykernel_63563/1466310018.py:22: DeprecationWarning: DataFrameGroupBy.apply operated on the grouping columns. This behavior is deprecated, and in a future version of pandas the grouping columns will be excluded from the operation. Either pass `include_groups=False` to exclude the groupings or explicitly select the grouping columns after groupby to silence this warning.\n",
      "  sampled = sub_village_groups.apply(lambda x: x.sample(n=min(len(x), sub_village_sample_sizes[x.name])))\n",
      "/var/folders/xd/0btgr76j2zxc4__ynw0yhwbm0000gn/T/ipykernel_63563/220561067.py:1: DeprecationWarning: DataFrameGroupBy.apply operated on the grouping columns. This behavior is deprecated, and in a future version of pandas the grouping columns will be excluded from the operation. Either pass `include_groups=False` to exclude the groupings or explicitly select the grouping columns after groupby to silence this warning.\n",
      "  female_target_sample = female_HH_samp_frame.groupby('village', group_keys=False).apply(lambda x: proportional_sample(x, 6))\n"
     ]
    }
   ],
   "source": [
    "female_target_sample = female_HH_samp_frame.groupby('village', group_keys=False).apply(lambda x: proportional_sample(x, 6))"
   ]
  },
  {
   "cell_type": "code",
   "execution_count": 130,
   "id": "995614a1",
   "metadata": {
    "id": "4eda136e",
    "outputId": "9ff262dc-a690-4b20-8444-912515e98ce1",
    "slideshow": {
     "slide_type": "skip"
    }
   },
   "outputs": [
    {
     "data": {
      "text/plain": [
       "48"
      ]
     },
     "execution_count": 130,
     "metadata": {},
     "output_type": "execute_result"
    }
   ],
   "source": [
    "len(female_target_sample)"
   ]
  },
  {
   "cell_type": "code",
   "execution_count": 131,
   "id": "75f5495b",
   "metadata": {
    "id": "2c9f1b9d",
    "slideshow": {
     "slide_type": "fragment"
    }
   },
   "outputs": [],
   "source": [
    "female_target_sample['status'] = 'target'"
   ]
  },
  {
   "cell_type": "code",
   "execution_count": 132,
   "id": "182362bf",
   "metadata": {
    "id": "6df93913",
    "outputId": "65ca229d-0969-4fa9-9e66-ad26814787af",
    "slideshow": {
     "slide_type": "skip"
    }
   },
   "outputs": [
    {
     "data": {
      "text/html": [
       "<div>\n",
       "<style scoped>\n",
       "    .dataframe tbody tr th:only-of-type {\n",
       "        vertical-align: middle;\n",
       "    }\n",
       "\n",
       "    .dataframe tbody tr th {\n",
       "        vertical-align: top;\n",
       "    }\n",
       "\n",
       "    .dataframe thead th {\n",
       "        text-align: right;\n",
       "    }\n",
       "</style>\n",
       "<table border=\"1\" class=\"dataframe\">\n",
       "  <thead>\n",
       "    <tr style=\"text-align: right;\">\n",
       "      <th></th>\n",
       "      <th>district</th>\n",
       "      <th>subcounty</th>\n",
       "      <th>parish_t</th>\n",
       "      <th>village</th>\n",
       "      <th>Sub_Village</th>\n",
       "      <th>hhid</th>\n",
       "      <th>hhh_full_name</th>\n",
       "      <th>Household_Head_Age</th>\n",
       "      <th>Household_Head_Contact</th>\n",
       "      <th>Household_Head_Gender</th>\n",
       "      <th>Spouse_Name</th>\n",
       "      <th>Spouse_Gender</th>\n",
       "      <th>Telephone_Contact</th>\n",
       "      <th>HHH_Gender</th>\n",
       "      <th>status</th>\n",
       "    </tr>\n",
       "  </thead>\n",
       "  <tbody>\n",
       "    <tr>\n",
       "      <th>0</th>\n",
       "      <td>Amuru</td>\n",
       "      <td>Lamogi</td>\n",
       "      <td>Obbo</td>\n",
       "      <td>Akwar</td>\n",
       "      <td>Akwanga_B</td>\n",
       "      <td>Amu-Akw-Ala-F-113855-22</td>\n",
       "      <td>Alanyo Jusphen</td>\n",
       "      <td>36</td>\n",
       "      <td>0789-76-66-00</td>\n",
       "      <td>Female</td>\n",
       "      <td>Walter Otto</td>\n",
       "      <td>Male</td>\n",
       "      <td>0789-76-66-00</td>\n",
       "      <td>Female Headed</td>\n",
       "      <td>target</td>\n",
       "    </tr>\n",
       "    <tr>\n",
       "      <th>1</th>\n",
       "      <td>Amuru</td>\n",
       "      <td>Lamogi</td>\n",
       "      <td>Obbo</td>\n",
       "      <td>Akwar</td>\n",
       "      <td>Akwar_Center</td>\n",
       "      <td>Amu-Akw-Aum-F-145720-22</td>\n",
       "      <td>Auma Filda</td>\n",
       "      <td>52</td>\n",
       "      <td>0789-76-66-00</td>\n",
       "      <td>Female</td>\n",
       "      <td>NaN</td>\n",
       "      <td>NaN</td>\n",
       "      <td>NaN</td>\n",
       "      <td>Female Headed</td>\n",
       "      <td>target</td>\n",
       "    </tr>\n",
       "    <tr>\n",
       "      <th>2</th>\n",
       "      <td>Amuru</td>\n",
       "      <td>Lamogi</td>\n",
       "      <td>Obbo</td>\n",
       "      <td>Akwar</td>\n",
       "      <td>Alok_Ki_Winyo</td>\n",
       "      <td>Amu-Akw-Ace-F-163025-22</td>\n",
       "      <td>Aceng Christine</td>\n",
       "      <td>50</td>\n",
       "      <td>0789-76-66-00</td>\n",
       "      <td>Female</td>\n",
       "      <td>NaN</td>\n",
       "      <td>NaN</td>\n",
       "      <td>NaN</td>\n",
       "      <td>Female Headed</td>\n",
       "      <td>target</td>\n",
       "    </tr>\n",
       "    <tr>\n",
       "      <th>3</th>\n",
       "      <td>Amuru</td>\n",
       "      <td>Lamogi</td>\n",
       "      <td>Obbo</td>\n",
       "      <td>Akwar</td>\n",
       "      <td>Amuru_Odwogo</td>\n",
       "      <td>Amu-Akw-Lab-F-065721-22</td>\n",
       "      <td>Labol Josca</td>\n",
       "      <td>45</td>\n",
       "      <td>0764-22-17-15</td>\n",
       "      <td>Female</td>\n",
       "      <td>NaN</td>\n",
       "      <td>NaN</td>\n",
       "      <td>NaN</td>\n",
       "      <td>Female Headed</td>\n",
       "      <td>target</td>\n",
       "    </tr>\n",
       "    <tr>\n",
       "      <th>4</th>\n",
       "      <td>Amuru</td>\n",
       "      <td>Lamogi</td>\n",
       "      <td>Obbo</td>\n",
       "      <td>Akwar</td>\n",
       "      <td>Nen_Peko</td>\n",
       "      <td>Amu-Akw-Ado-F-185452-22</td>\n",
       "      <td>Adong Christine</td>\n",
       "      <td>42</td>\n",
       "      <td>0789-76-66-00</td>\n",
       "      <td>Female</td>\n",
       "      <td>NaN</td>\n",
       "      <td>NaN</td>\n",
       "      <td>NaN</td>\n",
       "      <td>Female Headed</td>\n",
       "      <td>target</td>\n",
       "    </tr>\n",
       "  </tbody>\n",
       "</table>\n",
       "</div>"
      ],
      "text/plain": [
       "  district subcounty parish_t village    Sub_Village                     hhid  \\\n",
       "0    Amuru    Lamogi     Obbo   Akwar      Akwanga_B  Amu-Akw-Ala-F-113855-22   \n",
       "1    Amuru    Lamogi     Obbo   Akwar   Akwar_Center  Amu-Akw-Aum-F-145720-22   \n",
       "2    Amuru    Lamogi     Obbo   Akwar  Alok_Ki_Winyo  Amu-Akw-Ace-F-163025-22   \n",
       "3    Amuru    Lamogi     Obbo   Akwar   Amuru_Odwogo  Amu-Akw-Lab-F-065721-22   \n",
       "4    Amuru    Lamogi     Obbo   Akwar       Nen_Peko  Amu-Akw-Ado-F-185452-22   \n",
       "\n",
       "     hhh_full_name  Household_Head_Age Household_Head_Contact  \\\n",
       "0   Alanyo Jusphen                  36          0789-76-66-00   \n",
       "1       Auma Filda                  52          0789-76-66-00   \n",
       "2  Aceng Christine                  50          0789-76-66-00   \n",
       "3      Labol Josca                  45          0764-22-17-15   \n",
       "4  Adong Christine                  42          0789-76-66-00   \n",
       "\n",
       "  Household_Head_Gender  Spouse_Name Spouse_Gender Telephone_Contact  \\\n",
       "0                Female  Walter Otto          Male     0789-76-66-00   \n",
       "1                Female          NaN           NaN               NaN   \n",
       "2                Female          NaN           NaN               NaN   \n",
       "3                Female          NaN           NaN               NaN   \n",
       "4                Female          NaN           NaN               NaN   \n",
       "\n",
       "      HHH_Gender  status  \n",
       "0  Female Headed  target  \n",
       "1  Female Headed  target  \n",
       "2  Female Headed  target  \n",
       "3  Female Headed  target  \n",
       "4  Female Headed  target  "
      ]
     },
     "execution_count": 132,
     "metadata": {},
     "output_type": "execute_result"
    }
   ],
   "source": [
    "female_target_sample.head()"
   ]
  },
  {
   "cell_type": "markdown",
   "id": "93c2f8e6",
   "metadata": {
    "id": "ec4bd25e",
    "slideshow": {
     "slide_type": "skip"
    }
   },
   "source": [
    "## Reserve frame"
   ]
  },
  {
   "cell_type": "code",
   "execution_count": 133,
   "id": "06cfdd95",
   "metadata": {
    "id": "9172c8fa",
    "outputId": "5c13f57f-2c27-4a39-f865-a80642307f3b",
    "slideshow": {
     "slide_type": "fragment"
    }
   },
   "outputs": [
    {
     "data": {
      "text/plain": [
       "(309, 14)"
      ]
     },
     "execution_count": 133,
     "metadata": {},
     "output_type": "execute_result"
    }
   ],
   "source": [
    "female_reserve_s_frame = female_HH_samp_frame[~female_HH_samp_frame['hhid'].isin(female_target_sample['hhid'])]\n",
    "female_reserve_s_frame.shape"
   ]
  },
  {
   "cell_type": "code",
   "execution_count": null,
   "id": "d3226fab-6221-48b3-96c5-4b8af552e0c2",
   "metadata": {},
   "outputs": [],
   "source": [
    "groupby('village', group_keys=False).apply(lambda x: proportional_sample(x, 18))"
   ]
  },
  {
   "cell_type": "code",
   "execution_count": 49,
   "id": "731e2caf",
   "metadata": {
    "id": "b7e117e4",
    "slideshow": {
     "slide_type": "skip"
    }
   },
   "outputs": [],
   "source": [
    "# female_reserve_s_frame.to_excel('mit/female_reserve_s_frame.xlsx', index=False)"
   ]
  },
  {
   "cell_type": "code",
   "execution_count": 134,
   "id": "ac1898f0",
   "metadata": {
    "id": "9b090477",
    "slideshow": {
     "slide_type": "slide"
    }
   },
   "outputs": [
    {
     "name": "stderr",
     "output_type": "stream",
     "text": [
      "/var/folders/xd/0btgr76j2zxc4__ynw0yhwbm0000gn/T/ipykernel_63563/1466310018.py:22: DeprecationWarning: DataFrameGroupBy.apply operated on the grouping columns. This behavior is deprecated, and in a future version of pandas the grouping columns will be excluded from the operation. Either pass `include_groups=False` to exclude the groupings or explicitly select the grouping columns after groupby to silence this warning.\n",
      "  sampled = sub_village_groups.apply(lambda x: x.sample(n=min(len(x), sub_village_sample_sizes[x.name])))\n",
      "/var/folders/xd/0btgr76j2zxc4__ynw0yhwbm0000gn/T/ipykernel_63563/1466310018.py:22: DeprecationWarning: DataFrameGroupBy.apply operated on the grouping columns. This behavior is deprecated, and in a future version of pandas the grouping columns will be excluded from the operation. Either pass `include_groups=False` to exclude the groupings or explicitly select the grouping columns after groupby to silence this warning.\n",
      "  sampled = sub_village_groups.apply(lambda x: x.sample(n=min(len(x), sub_village_sample_sizes[x.name])))\n",
      "/var/folders/xd/0btgr76j2zxc4__ynw0yhwbm0000gn/T/ipykernel_63563/1466310018.py:22: DeprecationWarning: DataFrameGroupBy.apply operated on the grouping columns. This behavior is deprecated, and in a future version of pandas the grouping columns will be excluded from the operation. Either pass `include_groups=False` to exclude the groupings or explicitly select the grouping columns after groupby to silence this warning.\n",
      "  sampled = sub_village_groups.apply(lambda x: x.sample(n=min(len(x), sub_village_sample_sizes[x.name])))\n",
      "/var/folders/xd/0btgr76j2zxc4__ynw0yhwbm0000gn/T/ipykernel_63563/1466310018.py:22: DeprecationWarning: DataFrameGroupBy.apply operated on the grouping columns. This behavior is deprecated, and in a future version of pandas the grouping columns will be excluded from the operation. Either pass `include_groups=False` to exclude the groupings or explicitly select the grouping columns after groupby to silence this warning.\n",
      "  sampled = sub_village_groups.apply(lambda x: x.sample(n=min(len(x), sub_village_sample_sizes[x.name])))\n",
      "/var/folders/xd/0btgr76j2zxc4__ynw0yhwbm0000gn/T/ipykernel_63563/1466310018.py:22: DeprecationWarning: DataFrameGroupBy.apply operated on the grouping columns. This behavior is deprecated, and in a future version of pandas the grouping columns will be excluded from the operation. Either pass `include_groups=False` to exclude the groupings or explicitly select the grouping columns after groupby to silence this warning.\n",
      "  sampled = sub_village_groups.apply(lambda x: x.sample(n=min(len(x), sub_village_sample_sizes[x.name])))\n",
      "/var/folders/xd/0btgr76j2zxc4__ynw0yhwbm0000gn/T/ipykernel_63563/1466310018.py:22: DeprecationWarning: DataFrameGroupBy.apply operated on the grouping columns. This behavior is deprecated, and in a future version of pandas the grouping columns will be excluded from the operation. Either pass `include_groups=False` to exclude the groupings or explicitly select the grouping columns after groupby to silence this warning.\n",
      "  sampled = sub_village_groups.apply(lambda x: x.sample(n=min(len(x), sub_village_sample_sizes[x.name])))\n",
      "/var/folders/xd/0btgr76j2zxc4__ynw0yhwbm0000gn/T/ipykernel_63563/1466310018.py:22: DeprecationWarning: DataFrameGroupBy.apply operated on the grouping columns. This behavior is deprecated, and in a future version of pandas the grouping columns will be excluded from the operation. Either pass `include_groups=False` to exclude the groupings or explicitly select the grouping columns after groupby to silence this warning.\n",
      "  sampled = sub_village_groups.apply(lambda x: x.sample(n=min(len(x), sub_village_sample_sizes[x.name])))\n",
      "/var/folders/xd/0btgr76j2zxc4__ynw0yhwbm0000gn/T/ipykernel_63563/1466310018.py:22: DeprecationWarning: DataFrameGroupBy.apply operated on the grouping columns. This behavior is deprecated, and in a future version of pandas the grouping columns will be excluded from the operation. Either pass `include_groups=False` to exclude the groupings or explicitly select the grouping columns after groupby to silence this warning.\n",
      "  sampled = sub_village_groups.apply(lambda x: x.sample(n=min(len(x), sub_village_sample_sizes[x.name])))\n",
      "/var/folders/xd/0btgr76j2zxc4__ynw0yhwbm0000gn/T/ipykernel_63563/147050047.py:1: DeprecationWarning: DataFrameGroupBy.apply operated on the grouping columns. This behavior is deprecated, and in a future version of pandas the grouping columns will be excluded from the operation. Either pass `include_groups=False` to exclude the groupings or explicitly select the grouping columns after groupby to silence this warning.\n",
      "  female_reserve_sample = female_reserve_s_frame.groupby('village', group_keys=False).apply(lambda x: proportional_sample(x, 6))\n"
     ]
    }
   ],
   "source": [
    "female_reserve_sample = female_reserve_s_frame.groupby('village', group_keys=False).apply(lambda x: proportional_sample(x, 6))"
   ]
  },
  {
   "cell_type": "code",
   "execution_count": 135,
   "id": "6e7c0f11",
   "metadata": {
    "id": "b232d99b",
    "outputId": "fd809e5d-dd3d-4202-ca34-53eeaa1cd4a2",
    "slideshow": {
     "slide_type": "fragment"
    }
   },
   "outputs": [
    {
     "data": {
      "text/html": [
       "<div>\n",
       "<style scoped>\n",
       "    .dataframe tbody tr th:only-of-type {\n",
       "        vertical-align: middle;\n",
       "    }\n",
       "\n",
       "    .dataframe tbody tr th {\n",
       "        vertical-align: top;\n",
       "    }\n",
       "\n",
       "    .dataframe thead th {\n",
       "        text-align: right;\n",
       "    }\n",
       "</style>\n",
       "<table border=\"1\" class=\"dataframe\">\n",
       "  <thead>\n",
       "    <tr style=\"text-align: right;\">\n",
       "      <th></th>\n",
       "      <th>district</th>\n",
       "      <th>subcounty</th>\n",
       "      <th>parish_t</th>\n",
       "      <th>village</th>\n",
       "      <th>Sub_Village</th>\n",
       "      <th>hhid</th>\n",
       "      <th>hhh_full_name</th>\n",
       "      <th>Household_Head_Age</th>\n",
       "      <th>Household_Head_Contact</th>\n",
       "      <th>Household_Head_Gender</th>\n",
       "      <th>Spouse_Name</th>\n",
       "      <th>Spouse_Gender</th>\n",
       "      <th>Telephone_Contact</th>\n",
       "      <th>HHH_Gender</th>\n",
       "      <th>status</th>\n",
       "    </tr>\n",
       "  </thead>\n",
       "  <tbody>\n",
       "    <tr>\n",
       "      <th>0</th>\n",
       "      <td>Amuru</td>\n",
       "      <td>Lamogi</td>\n",
       "      <td>Obbo</td>\n",
       "      <td>Akwar</td>\n",
       "      <td>Akwanga_B</td>\n",
       "      <td>Amu-Akw-Aci-F-104114-22</td>\n",
       "      <td>Aciro Lucy</td>\n",
       "      <td>52</td>\n",
       "      <td>0789-76-66-00</td>\n",
       "      <td>Female</td>\n",
       "      <td>NaN</td>\n",
       "      <td>NaN</td>\n",
       "      <td>NaN</td>\n",
       "      <td>Female Headed</td>\n",
       "      <td>reserve</td>\n",
       "    </tr>\n",
       "    <tr>\n",
       "      <th>1</th>\n",
       "      <td>Amuru</td>\n",
       "      <td>Lamogi</td>\n",
       "      <td>Obbo</td>\n",
       "      <td>Akwar</td>\n",
       "      <td>Akwanga_B</td>\n",
       "      <td>Amu-Akw-Ach-F-102428-22</td>\n",
       "      <td>Achiro Christine</td>\n",
       "      <td>53</td>\n",
       "      <td>0789-76-66-00</td>\n",
       "      <td>Female</td>\n",
       "      <td>Wanok Abola</td>\n",
       "      <td>Male</td>\n",
       "      <td>0789-76-67-00</td>\n",
       "      <td>Female Headed</td>\n",
       "      <td>reserve</td>\n",
       "    </tr>\n",
       "    <tr>\n",
       "      <th>2</th>\n",
       "      <td>Amuru</td>\n",
       "      <td>Lamogi</td>\n",
       "      <td>Obbo</td>\n",
       "      <td>Akwar</td>\n",
       "      <td>Akwar_Center</td>\n",
       "      <td>Amu-Akw-Aca-F-150104-22</td>\n",
       "      <td>Acaa Pinina</td>\n",
       "      <td>64</td>\n",
       "      <td>0789-76-66-00</td>\n",
       "      <td>Female</td>\n",
       "      <td>NaN</td>\n",
       "      <td>NaN</td>\n",
       "      <td>NaN</td>\n",
       "      <td>Female Headed</td>\n",
       "      <td>reserve</td>\n",
       "    </tr>\n",
       "    <tr>\n",
       "      <th>3</th>\n",
       "      <td>Amuru</td>\n",
       "      <td>Lamogi</td>\n",
       "      <td>Obbo</td>\n",
       "      <td>Akwar</td>\n",
       "      <td>Alok_Ki_Winyo</td>\n",
       "      <td>Amu-Akw-Lil-F-162913-22</td>\n",
       "      <td>Lilly Acan</td>\n",
       "      <td>45</td>\n",
       "      <td>0761-43-66-89</td>\n",
       "      <td>Female</td>\n",
       "      <td>NaN</td>\n",
       "      <td>NaN</td>\n",
       "      <td>NaN</td>\n",
       "      <td>Female Headed</td>\n",
       "      <td>reserve</td>\n",
       "    </tr>\n",
       "    <tr>\n",
       "      <th>4</th>\n",
       "      <td>Amuru</td>\n",
       "      <td>Lamogi</td>\n",
       "      <td>Obbo</td>\n",
       "      <td>Akwar</td>\n",
       "      <td>Nen_Peko</td>\n",
       "      <td>Amu-Akw-Ati-F-192237-22</td>\n",
       "      <td>Atim Monica</td>\n",
       "      <td>34</td>\n",
       "      <td>0789-76-66-00</td>\n",
       "      <td>Female</td>\n",
       "      <td>NaN</td>\n",
       "      <td>NaN</td>\n",
       "      <td>NaN</td>\n",
       "      <td>Female Headed</td>\n",
       "      <td>reserve</td>\n",
       "    </tr>\n",
       "  </tbody>\n",
       "</table>\n",
       "</div>"
      ],
      "text/plain": [
       "  district subcounty parish_t village    Sub_Village                     hhid  \\\n",
       "0    Amuru    Lamogi     Obbo   Akwar      Akwanga_B  Amu-Akw-Aci-F-104114-22   \n",
       "1    Amuru    Lamogi     Obbo   Akwar      Akwanga_B  Amu-Akw-Ach-F-102428-22   \n",
       "2    Amuru    Lamogi     Obbo   Akwar   Akwar_Center  Amu-Akw-Aca-F-150104-22   \n",
       "3    Amuru    Lamogi     Obbo   Akwar  Alok_Ki_Winyo  Amu-Akw-Lil-F-162913-22   \n",
       "4    Amuru    Lamogi     Obbo   Akwar       Nen_Peko  Amu-Akw-Ati-F-192237-22   \n",
       "\n",
       "      hhh_full_name  Household_Head_Age Household_Head_Contact  \\\n",
       "0        Aciro Lucy                  52          0789-76-66-00   \n",
       "1  Achiro Christine                  53          0789-76-66-00   \n",
       "2       Acaa Pinina                  64          0789-76-66-00   \n",
       "3        Lilly Acan                  45          0761-43-66-89   \n",
       "4       Atim Monica                  34          0789-76-66-00   \n",
       "\n",
       "  Household_Head_Gender  Spouse_Name Spouse_Gender Telephone_Contact  \\\n",
       "0                Female          NaN           NaN               NaN   \n",
       "1                Female  Wanok Abola          Male     0789-76-67-00   \n",
       "2                Female          NaN           NaN               NaN   \n",
       "3                Female          NaN           NaN               NaN   \n",
       "4                Female          NaN           NaN               NaN   \n",
       "\n",
       "      HHH_Gender   status  \n",
       "0  Female Headed  reserve  \n",
       "1  Female Headed  reserve  \n",
       "2  Female Headed  reserve  \n",
       "3  Female Headed  reserve  \n",
       "4  Female Headed  reserve  "
      ]
     },
     "execution_count": 135,
     "metadata": {},
     "output_type": "execute_result"
    }
   ],
   "source": [
    "female_reserve_sample['status'] = 'reserve'\n",
    "female_reserve_sample.head()"
   ]
  },
  {
   "cell_type": "code",
   "execution_count": 136,
   "id": "561a5fc5",
   "metadata": {
    "id": "acca14d8",
    "slideshow": {
     "slide_type": "skip"
    }
   },
   "outputs": [],
   "source": [
    "# female_reserve_sample.to_excel('mit/female_reserve_sample.xlsx', index=False)"
   ]
  },
  {
   "cell_type": "code",
   "execution_count": 137,
   "id": "66f6e60a",
   "metadata": {
    "id": "268fa1fc",
    "slideshow": {
     "slide_type": "fragment"
    }
   },
   "outputs": [],
   "source": [
    "FEMALE_HH_SAMPLE = pd.concat([female_target_sample, female_reserve_sample])"
   ]
  },
  {
   "cell_type": "code",
   "execution_count": 138,
   "id": "58a8db1e",
   "metadata": {
    "id": "e8229818",
    "slideshow": {
     "slide_type": "skip"
    }
   },
   "outputs": [],
   "source": [
    "# FEMALE_HH_SAMPLE.to_excel('mit/FEMALE_HH_SAMPLE.xlsx', index=False)"
   ]
  },
  {
   "cell_type": "markdown",
   "id": "f5afe627",
   "metadata": {
    "id": "f1ec251a",
    "slideshow": {
     "slide_type": "slide"
    }
   },
   "source": [
    "# YOUTH Households"
   ]
  },
  {
   "cell_type": "code",
   "execution_count": 139,
   "id": "00b44a62",
   "metadata": {
    "id": "e79b4021",
    "outputId": "b7c2dad9-c4a4-4c4d-e8a5-17a86e67f13c",
    "slideshow": {
     "slide_type": "skip"
    }
   },
   "outputs": [
    {
     "data": {
      "text/plain": [
       "587"
      ]
     },
     "execution_count": 139,
     "metadata": {},
     "output_type": "execute_result"
    }
   ],
   "source": [
    "len(youth_HH_samp_frame)"
   ]
  },
  {
   "cell_type": "code",
   "execution_count": 140,
   "id": "74a4644d",
   "metadata": {
    "id": "26e9ce59",
    "outputId": "ca6b412e-c612-4a31-8c53-b75dc6776ab9",
    "slideshow": {
     "slide_type": "skip"
    }
   },
   "outputs": [
    {
     "data": {
      "text/html": [
       "<div>\n",
       "<style scoped>\n",
       "    .dataframe tbody tr th:only-of-type {\n",
       "        vertical-align: middle;\n",
       "    }\n",
       "\n",
       "    .dataframe tbody tr th {\n",
       "        vertical-align: top;\n",
       "    }\n",
       "\n",
       "    .dataframe thead th {\n",
       "        text-align: right;\n",
       "    }\n",
       "</style>\n",
       "<table border=\"1\" class=\"dataframe\">\n",
       "  <thead>\n",
       "    <tr style=\"text-align: right;\">\n",
       "      <th></th>\n",
       "      <th>district</th>\n",
       "      <th>subcounty</th>\n",
       "      <th>parish_t</th>\n",
       "      <th>village</th>\n",
       "      <th>Sub_Village</th>\n",
       "      <th>hhid</th>\n",
       "      <th>hhh_full_name</th>\n",
       "      <th>Household_Head_Age</th>\n",
       "      <th>Household_Head_Contact</th>\n",
       "      <th>Household_Head_Gender</th>\n",
       "      <th>Spouse_Name</th>\n",
       "      <th>Spouse_Gender</th>\n",
       "      <th>Telephone_Contact</th>\n",
       "      <th>HHH_Gender</th>\n",
       "    </tr>\n",
       "  </thead>\n",
       "  <tbody>\n",
       "    <tr>\n",
       "      <th>6</th>\n",
       "      <td>Amuru</td>\n",
       "      <td>Lamogi</td>\n",
       "      <td>Obbo</td>\n",
       "      <td>Akwar</td>\n",
       "      <td>Nen_Peko</td>\n",
       "      <td>Amu-Akw-Mic-M-163753-22</td>\n",
       "      <td>Micheal Ochula</td>\n",
       "      <td>28</td>\n",
       "      <td>0789-76-66-00</td>\n",
       "      <td>Male</td>\n",
       "      <td>Lapolo Sharon</td>\n",
       "      <td>Female</td>\n",
       "      <td>0789-76-66-00</td>\n",
       "      <td>Youth Headed</td>\n",
       "    </tr>\n",
       "    <tr>\n",
       "      <th>7</th>\n",
       "      <td>Amuru</td>\n",
       "      <td>Lamogi</td>\n",
       "      <td>Obbo</td>\n",
       "      <td>Akwar</td>\n",
       "      <td>Nen_Peko</td>\n",
       "      <td>Amu-Akw-Mic-M-164513-22</td>\n",
       "      <td>Micheal Ochula</td>\n",
       "      <td>26</td>\n",
       "      <td>0789-76-66-00</td>\n",
       "      <td>Male</td>\n",
       "      <td>Acayo Concy</td>\n",
       "      <td>Female</td>\n",
       "      <td>0789-76-66-00</td>\n",
       "      <td>Youth Headed</td>\n",
       "    </tr>\n",
       "    <tr>\n",
       "      <th>8</th>\n",
       "      <td>Amuru</td>\n",
       "      <td>Lamogi</td>\n",
       "      <td>Obbo</td>\n",
       "      <td>Akwar</td>\n",
       "      <td>Nen_Peko</td>\n",
       "      <td>Amu-Akw-Jam-M-165319-22</td>\n",
       "      <td>James Odoch</td>\n",
       "      <td>20</td>\n",
       "      <td>0763-64-79-92</td>\n",
       "      <td>Male</td>\n",
       "      <td>Aber Sharon</td>\n",
       "      <td>Female</td>\n",
       "      <td>0763-64-79-92</td>\n",
       "      <td>Youth Headed</td>\n",
       "    </tr>\n",
       "    <tr>\n",
       "      <th>9</th>\n",
       "      <td>Amuru</td>\n",
       "      <td>Lamogi</td>\n",
       "      <td>Obbo</td>\n",
       "      <td>Akwar</td>\n",
       "      <td>Nen_Peko</td>\n",
       "      <td>Amu-Akw-Jim-M-170006-22</td>\n",
       "      <td>Jimmy Akena</td>\n",
       "      <td>25</td>\n",
       "      <td>0789-54-22-23</td>\n",
       "      <td>Male</td>\n",
       "      <td>Mary Akello</td>\n",
       "      <td>Female</td>\n",
       "      <td>0789-53-04-66</td>\n",
       "      <td>Youth Headed</td>\n",
       "    </tr>\n",
       "    <tr>\n",
       "      <th>10</th>\n",
       "      <td>Amuru</td>\n",
       "      <td>Lamogi</td>\n",
       "      <td>Obbo</td>\n",
       "      <td>Akwar</td>\n",
       "      <td>Nen_Peko</td>\n",
       "      <td>Amu-Akw-Dav-M-171744-22</td>\n",
       "      <td>David Ouma</td>\n",
       "      <td>30</td>\n",
       "      <td>0772-57-52-18</td>\n",
       "      <td>Male</td>\n",
       "      <td>Grace Adong</td>\n",
       "      <td>Female</td>\n",
       "      <td>0772-57-52-18</td>\n",
       "      <td>Youth Headed</td>\n",
       "    </tr>\n",
       "  </tbody>\n",
       "</table>\n",
       "</div>"
      ],
      "text/plain": [
       "   district subcounty parish_t village Sub_Village                     hhid  \\\n",
       "6     Amuru    Lamogi     Obbo   Akwar    Nen_Peko  Amu-Akw-Mic-M-163753-22   \n",
       "7     Amuru    Lamogi     Obbo   Akwar    Nen_Peko  Amu-Akw-Mic-M-164513-22   \n",
       "8     Amuru    Lamogi     Obbo   Akwar    Nen_Peko  Amu-Akw-Jam-M-165319-22   \n",
       "9     Amuru    Lamogi     Obbo   Akwar    Nen_Peko  Amu-Akw-Jim-M-170006-22   \n",
       "10    Amuru    Lamogi     Obbo   Akwar    Nen_Peko  Amu-Akw-Dav-M-171744-22   \n",
       "\n",
       "     hhh_full_name  Household_Head_Age Household_Head_Contact  \\\n",
       "6   Micheal Ochula                  28          0789-76-66-00   \n",
       "7   Micheal Ochula                  26          0789-76-66-00   \n",
       "8      James Odoch                  20          0763-64-79-92   \n",
       "9      Jimmy Akena                  25          0789-54-22-23   \n",
       "10      David Ouma                  30          0772-57-52-18   \n",
       "\n",
       "   Household_Head_Gender    Spouse_Name Spouse_Gender Telephone_Contact  \\\n",
       "6                   Male  Lapolo Sharon        Female     0789-76-66-00   \n",
       "7                   Male    Acayo Concy        Female     0789-76-66-00   \n",
       "8                   Male    Aber Sharon        Female     0763-64-79-92   \n",
       "9                   Male    Mary Akello        Female     0789-53-04-66   \n",
       "10                  Male    Grace Adong        Female     0772-57-52-18   \n",
       "\n",
       "      HHH_Gender  \n",
       "6   Youth Headed  \n",
       "7   Youth Headed  \n",
       "8   Youth Headed  \n",
       "9   Youth Headed  \n",
       "10  Youth Headed  "
      ]
     },
     "execution_count": 140,
     "metadata": {},
     "output_type": "execute_result"
    }
   ],
   "source": [
    "youth_HH_samp_frame.head()"
   ]
  },
  {
   "cell_type": "code",
   "execution_count": 141,
   "id": "016af514",
   "metadata": {
    "id": "c24e4229",
    "slideshow": {
     "slide_type": "fragment"
    }
   },
   "outputs": [
    {
     "name": "stderr",
     "output_type": "stream",
     "text": [
      "/var/folders/xd/0btgr76j2zxc4__ynw0yhwbm0000gn/T/ipykernel_63563/1466310018.py:22: DeprecationWarning: DataFrameGroupBy.apply operated on the grouping columns. This behavior is deprecated, and in a future version of pandas the grouping columns will be excluded from the operation. Either pass `include_groups=False` to exclude the groupings or explicitly select the grouping columns after groupby to silence this warning.\n",
      "  sampled = sub_village_groups.apply(lambda x: x.sample(n=min(len(x), sub_village_sample_sizes[x.name])))\n",
      "/var/folders/xd/0btgr76j2zxc4__ynw0yhwbm0000gn/T/ipykernel_63563/1466310018.py:22: DeprecationWarning: DataFrameGroupBy.apply operated on the grouping columns. This behavior is deprecated, and in a future version of pandas the grouping columns will be excluded from the operation. Either pass `include_groups=False` to exclude the groupings or explicitly select the grouping columns after groupby to silence this warning.\n",
      "  sampled = sub_village_groups.apply(lambda x: x.sample(n=min(len(x), sub_village_sample_sizes[x.name])))\n",
      "/var/folders/xd/0btgr76j2zxc4__ynw0yhwbm0000gn/T/ipykernel_63563/1466310018.py:22: DeprecationWarning: DataFrameGroupBy.apply operated on the grouping columns. This behavior is deprecated, and in a future version of pandas the grouping columns will be excluded from the operation. Either pass `include_groups=False` to exclude the groupings or explicitly select the grouping columns after groupby to silence this warning.\n",
      "  sampled = sub_village_groups.apply(lambda x: x.sample(n=min(len(x), sub_village_sample_sizes[x.name])))\n",
      "/var/folders/xd/0btgr76j2zxc4__ynw0yhwbm0000gn/T/ipykernel_63563/1466310018.py:22: DeprecationWarning: DataFrameGroupBy.apply operated on the grouping columns. This behavior is deprecated, and in a future version of pandas the grouping columns will be excluded from the operation. Either pass `include_groups=False` to exclude the groupings or explicitly select the grouping columns after groupby to silence this warning.\n",
      "  sampled = sub_village_groups.apply(lambda x: x.sample(n=min(len(x), sub_village_sample_sizes[x.name])))\n",
      "/var/folders/xd/0btgr76j2zxc4__ynw0yhwbm0000gn/T/ipykernel_63563/1466310018.py:22: DeprecationWarning: DataFrameGroupBy.apply operated on the grouping columns. This behavior is deprecated, and in a future version of pandas the grouping columns will be excluded from the operation. Either pass `include_groups=False` to exclude the groupings or explicitly select the grouping columns after groupby to silence this warning.\n",
      "  sampled = sub_village_groups.apply(lambda x: x.sample(n=min(len(x), sub_village_sample_sizes[x.name])))\n",
      "/var/folders/xd/0btgr76j2zxc4__ynw0yhwbm0000gn/T/ipykernel_63563/1466310018.py:22: DeprecationWarning: DataFrameGroupBy.apply operated on the grouping columns. This behavior is deprecated, and in a future version of pandas the grouping columns will be excluded from the operation. Either pass `include_groups=False` to exclude the groupings or explicitly select the grouping columns after groupby to silence this warning.\n",
      "  sampled = sub_village_groups.apply(lambda x: x.sample(n=min(len(x), sub_village_sample_sizes[x.name])))\n",
      "/var/folders/xd/0btgr76j2zxc4__ynw0yhwbm0000gn/T/ipykernel_63563/1466310018.py:22: DeprecationWarning: DataFrameGroupBy.apply operated on the grouping columns. This behavior is deprecated, and in a future version of pandas the grouping columns will be excluded from the operation. Either pass `include_groups=False` to exclude the groupings or explicitly select the grouping columns after groupby to silence this warning.\n",
      "  sampled = sub_village_groups.apply(lambda x: x.sample(n=min(len(x), sub_village_sample_sizes[x.name])))\n",
      "/var/folders/xd/0btgr76j2zxc4__ynw0yhwbm0000gn/T/ipykernel_63563/1466310018.py:22: DeprecationWarning: DataFrameGroupBy.apply operated on the grouping columns. This behavior is deprecated, and in a future version of pandas the grouping columns will be excluded from the operation. Either pass `include_groups=False` to exclude the groupings or explicitly select the grouping columns after groupby to silence this warning.\n",
      "  sampled = sub_village_groups.apply(lambda x: x.sample(n=min(len(x), sub_village_sample_sizes[x.name])))\n",
      "/var/folders/xd/0btgr76j2zxc4__ynw0yhwbm0000gn/T/ipykernel_63563/1569614452.py:1: DeprecationWarning: DataFrameGroupBy.apply operated on the grouping columns. This behavior is deprecated, and in a future version of pandas the grouping columns will be excluded from the operation. Either pass `include_groups=False` to exclude the groupings or explicitly select the grouping columns after groupby to silence this warning.\n",
      "  youth_target_sample = youth_HH_samp_frame.groupby('village', group_keys=False).apply(lambda x: proportional_sample(x, 6))\n"
     ]
    }
   ],
   "source": [
    "youth_target_sample = youth_HH_samp_frame.groupby('village', group_keys=False).apply(lambda x: proportional_sample(x, 6))"
   ]
  },
  {
   "cell_type": "code",
   "execution_count": 142,
   "id": "2e9eee5f",
   "metadata": {
    "id": "518216f0",
    "outputId": "e2d199d9-f513-47a2-f1ec-bc9716eea8ac",
    "slideshow": {
     "slide_type": "skip"
    }
   },
   "outputs": [
    {
     "data": {
      "text/plain": [
       "48"
      ]
     },
     "execution_count": 142,
     "metadata": {},
     "output_type": "execute_result"
    }
   ],
   "source": [
    "len(youth_target_sample)"
   ]
  },
  {
   "cell_type": "code",
   "execution_count": 143,
   "id": "68d5fa56",
   "metadata": {
    "id": "8efb77de",
    "slideshow": {
     "slide_type": "fragment"
    }
   },
   "outputs": [],
   "source": [
    "youth_target_sample['status'] = 'target'"
   ]
  },
  {
   "cell_type": "code",
   "execution_count": 144,
   "id": "76f235a4",
   "metadata": {
    "id": "a15aafc3",
    "outputId": "48ac1dd2-e03c-4367-de06-db276ed9fb95",
    "slideshow": {
     "slide_type": "skip"
    }
   },
   "outputs": [
    {
     "data": {
      "text/html": [
       "<div>\n",
       "<style scoped>\n",
       "    .dataframe tbody tr th:only-of-type {\n",
       "        vertical-align: middle;\n",
       "    }\n",
       "\n",
       "    .dataframe tbody tr th {\n",
       "        vertical-align: top;\n",
       "    }\n",
       "\n",
       "    .dataframe thead th {\n",
       "        text-align: right;\n",
       "    }\n",
       "</style>\n",
       "<table border=\"1\" class=\"dataframe\">\n",
       "  <thead>\n",
       "    <tr style=\"text-align: right;\">\n",
       "      <th></th>\n",
       "      <th>district</th>\n",
       "      <th>subcounty</th>\n",
       "      <th>parish_t</th>\n",
       "      <th>village</th>\n",
       "      <th>Sub_Village</th>\n",
       "      <th>hhid</th>\n",
       "      <th>hhh_full_name</th>\n",
       "      <th>Household_Head_Age</th>\n",
       "      <th>Household_Head_Contact</th>\n",
       "      <th>Household_Head_Gender</th>\n",
       "      <th>Spouse_Name</th>\n",
       "      <th>Spouse_Gender</th>\n",
       "      <th>Telephone_Contact</th>\n",
       "      <th>HHH_Gender</th>\n",
       "      <th>status</th>\n",
       "    </tr>\n",
       "  </thead>\n",
       "  <tbody>\n",
       "    <tr>\n",
       "      <th>0</th>\n",
       "      <td>Amuru</td>\n",
       "      <td>Lamogi</td>\n",
       "      <td>Obbo</td>\n",
       "      <td>Akwar</td>\n",
       "      <td>Akwar_Center</td>\n",
       "      <td>Amu-Akw-Oca-M-174423-22</td>\n",
       "      <td>Ocaya Georffrey</td>\n",
       "      <td>21</td>\n",
       "      <td>0775-49-97-34</td>\n",
       "      <td>Male</td>\n",
       "      <td>Florence Ageno</td>\n",
       "      <td>Female</td>\n",
       "      <td>0789-76-66-00</td>\n",
       "      <td>Youth Headed</td>\n",
       "      <td>target</td>\n",
       "    </tr>\n",
       "    <tr>\n",
       "      <th>1</th>\n",
       "      <td>Amuru</td>\n",
       "      <td>Lamogi</td>\n",
       "      <td>Obbo</td>\n",
       "      <td>Akwar</td>\n",
       "      <td>Alok_Ki_Winyo</td>\n",
       "      <td>Amu-Akw-Wok-M-180528-22</td>\n",
       "      <td>Wokorach Morish</td>\n",
       "      <td>27</td>\n",
       "      <td>0789-76-66-00</td>\n",
       "      <td>Male</td>\n",
       "      <td>Apiyo Gloria</td>\n",
       "      <td>Female</td>\n",
       "      <td>0789-76-66-00</td>\n",
       "      <td>Youth Headed</td>\n",
       "      <td>target</td>\n",
       "    </tr>\n",
       "    <tr>\n",
       "      <th>2</th>\n",
       "      <td>Amuru</td>\n",
       "      <td>Lamogi</td>\n",
       "      <td>Obbo</td>\n",
       "      <td>Akwar</td>\n",
       "      <td>Amuru_Odwogo</td>\n",
       "      <td>Amu-Akw-Oko-M-204144-22</td>\n",
       "      <td>Okoya Richard</td>\n",
       "      <td>30</td>\n",
       "      <td>0789-76-66-00</td>\n",
       "      <td>Male</td>\n",
       "      <td>Scovia Angee</td>\n",
       "      <td>Female</td>\n",
       "      <td>0789-76-66-00</td>\n",
       "      <td>Youth Headed</td>\n",
       "      <td>target</td>\n",
       "    </tr>\n",
       "    <tr>\n",
       "      <th>3</th>\n",
       "      <td>Amuru</td>\n",
       "      <td>Lamogi</td>\n",
       "      <td>Obbo</td>\n",
       "      <td>Akwar</td>\n",
       "      <td>Menya</td>\n",
       "      <td>Amu-Akw-Okd-M-083406-22</td>\n",
       "      <td>Okdllo Denis</td>\n",
       "      <td>26</td>\n",
       "      <td>0789-76-66-00</td>\n",
       "      <td>Male</td>\n",
       "      <td>Hariet Atimango</td>\n",
       "      <td>Female</td>\n",
       "      <td>0789-76-66-00</td>\n",
       "      <td>Youth Headed</td>\n",
       "      <td>target</td>\n",
       "    </tr>\n",
       "    <tr>\n",
       "      <th>4</th>\n",
       "      <td>Amuru</td>\n",
       "      <td>Lamogi</td>\n",
       "      <td>Obbo</td>\n",
       "      <td>Akwar</td>\n",
       "      <td>Nen_Peko</td>\n",
       "      <td>Amu-Akw-Oko-M-075254-22</td>\n",
       "      <td>Okoya Stephen</td>\n",
       "      <td>23</td>\n",
       "      <td>0784-77-66-34</td>\n",
       "      <td>Male</td>\n",
       "      <td>Laker Kevin</td>\n",
       "      <td>Female</td>\n",
       "      <td>0784-77-66-34</td>\n",
       "      <td>Youth Headed</td>\n",
       "      <td>target</td>\n",
       "    </tr>\n",
       "  </tbody>\n",
       "</table>\n",
       "</div>"
      ],
      "text/plain": [
       "  district subcounty parish_t village    Sub_Village                     hhid  \\\n",
       "0    Amuru    Lamogi     Obbo   Akwar   Akwar_Center  Amu-Akw-Oca-M-174423-22   \n",
       "1    Amuru    Lamogi     Obbo   Akwar  Alok_Ki_Winyo  Amu-Akw-Wok-M-180528-22   \n",
       "2    Amuru    Lamogi     Obbo   Akwar   Amuru_Odwogo  Amu-Akw-Oko-M-204144-22   \n",
       "3    Amuru    Lamogi     Obbo   Akwar          Menya  Amu-Akw-Okd-M-083406-22   \n",
       "4    Amuru    Lamogi     Obbo   Akwar       Nen_Peko  Amu-Akw-Oko-M-075254-22   \n",
       "\n",
       "     hhh_full_name  Household_Head_Age Household_Head_Contact  \\\n",
       "0  Ocaya Georffrey                  21          0775-49-97-34   \n",
       "1  Wokorach Morish                  27          0789-76-66-00   \n",
       "2    Okoya Richard                  30          0789-76-66-00   \n",
       "3     Okdllo Denis                  26          0789-76-66-00   \n",
       "4    Okoya Stephen                  23          0784-77-66-34   \n",
       "\n",
       "  Household_Head_Gender      Spouse_Name Spouse_Gender Telephone_Contact  \\\n",
       "0                  Male   Florence Ageno        Female     0789-76-66-00   \n",
       "1                  Male     Apiyo Gloria        Female     0789-76-66-00   \n",
       "2                  Male     Scovia Angee        Female     0789-76-66-00   \n",
       "3                  Male  Hariet Atimango        Female     0789-76-66-00   \n",
       "4                  Male      Laker Kevin        Female     0784-77-66-34   \n",
       "\n",
       "     HHH_Gender  status  \n",
       "0  Youth Headed  target  \n",
       "1  Youth Headed  target  \n",
       "2  Youth Headed  target  \n",
       "3  Youth Headed  target  \n",
       "4  Youth Headed  target  "
      ]
     },
     "execution_count": 144,
     "metadata": {},
     "output_type": "execute_result"
    }
   ],
   "source": [
    "youth_target_sample.head()"
   ]
  },
  {
   "cell_type": "code",
   "execution_count": 61,
   "id": "60bf6a99",
   "metadata": {
    "id": "bf8ab55d",
    "slideshow": {
     "slide_type": "skip"
    }
   },
   "outputs": [],
   "source": [
    "# youth_target_sample.to_excel('mit/youth_target_sample.xlsx', index=False)"
   ]
  },
  {
   "cell_type": "markdown",
   "id": "a5d04874",
   "metadata": {
    "id": "c409fcb9",
    "slideshow": {
     "slide_type": "slide"
    }
   },
   "source": [
    "## Reserve frame"
   ]
  },
  {
   "cell_type": "code",
   "execution_count": 145,
   "id": "c600fff1-2407-4100-80a4-e2867511ef71",
   "metadata": {
    "id": "2afb4fd5",
    "slideshow": {
     "slide_type": "fragment"
    }
   },
   "outputs": [],
   "source": [
    "male_reserve_s_frame = youth_HH_samp_frame[~youth_HH_samp_frame['hhid'].isin(youth_target_sample['hhid'])]"
   ]
  },
  {
   "cell_type": "code",
   "execution_count": 63,
   "id": "6694dea9",
   "metadata": {
    "id": "52e433b4",
    "slideshow": {
     "slide_type": "skip"
    }
   },
   "outputs": [],
   "source": [
    "# youth_reserve_s_frame.to_excel('mit/youth_reserve_s_frame.xlsx', index=False)"
   ]
  },
  {
   "cell_type": "code",
   "execution_count": 146,
   "id": "479b22e7",
   "metadata": {
    "id": "0d0c7d45",
    "slideshow": {
     "slide_type": "fragment"
    }
   },
   "outputs": [
    {
     "name": "stderr",
     "output_type": "stream",
     "text": [
      "/var/folders/xd/0btgr76j2zxc4__ynw0yhwbm0000gn/T/ipykernel_63563/1466310018.py:22: DeprecationWarning: DataFrameGroupBy.apply operated on the grouping columns. This behavior is deprecated, and in a future version of pandas the grouping columns will be excluded from the operation. Either pass `include_groups=False` to exclude the groupings or explicitly select the grouping columns after groupby to silence this warning.\n",
      "  sampled = sub_village_groups.apply(lambda x: x.sample(n=min(len(x), sub_village_sample_sizes[x.name])))\n",
      "/var/folders/xd/0btgr76j2zxc4__ynw0yhwbm0000gn/T/ipykernel_63563/1466310018.py:22: DeprecationWarning: DataFrameGroupBy.apply operated on the grouping columns. This behavior is deprecated, and in a future version of pandas the grouping columns will be excluded from the operation. Either pass `include_groups=False` to exclude the groupings or explicitly select the grouping columns after groupby to silence this warning.\n",
      "  sampled = sub_village_groups.apply(lambda x: x.sample(n=min(len(x), sub_village_sample_sizes[x.name])))\n",
      "/var/folders/xd/0btgr76j2zxc4__ynw0yhwbm0000gn/T/ipykernel_63563/1466310018.py:22: DeprecationWarning: DataFrameGroupBy.apply operated on the grouping columns. This behavior is deprecated, and in a future version of pandas the grouping columns will be excluded from the operation. Either pass `include_groups=False` to exclude the groupings or explicitly select the grouping columns after groupby to silence this warning.\n",
      "  sampled = sub_village_groups.apply(lambda x: x.sample(n=min(len(x), sub_village_sample_sizes[x.name])))\n",
      "/var/folders/xd/0btgr76j2zxc4__ynw0yhwbm0000gn/T/ipykernel_63563/1466310018.py:22: DeprecationWarning: DataFrameGroupBy.apply operated on the grouping columns. This behavior is deprecated, and in a future version of pandas the grouping columns will be excluded from the operation. Either pass `include_groups=False` to exclude the groupings or explicitly select the grouping columns after groupby to silence this warning.\n",
      "  sampled = sub_village_groups.apply(lambda x: x.sample(n=min(len(x), sub_village_sample_sizes[x.name])))\n",
      "/var/folders/xd/0btgr76j2zxc4__ynw0yhwbm0000gn/T/ipykernel_63563/1466310018.py:22: DeprecationWarning: DataFrameGroupBy.apply operated on the grouping columns. This behavior is deprecated, and in a future version of pandas the grouping columns will be excluded from the operation. Either pass `include_groups=False` to exclude the groupings or explicitly select the grouping columns after groupby to silence this warning.\n",
      "  sampled = sub_village_groups.apply(lambda x: x.sample(n=min(len(x), sub_village_sample_sizes[x.name])))\n",
      "/var/folders/xd/0btgr76j2zxc4__ynw0yhwbm0000gn/T/ipykernel_63563/1466310018.py:22: DeprecationWarning: DataFrameGroupBy.apply operated on the grouping columns. This behavior is deprecated, and in a future version of pandas the grouping columns will be excluded from the operation. Either pass `include_groups=False` to exclude the groupings or explicitly select the grouping columns after groupby to silence this warning.\n",
      "  sampled = sub_village_groups.apply(lambda x: x.sample(n=min(len(x), sub_village_sample_sizes[x.name])))\n",
      "/var/folders/xd/0btgr76j2zxc4__ynw0yhwbm0000gn/T/ipykernel_63563/1466310018.py:22: DeprecationWarning: DataFrameGroupBy.apply operated on the grouping columns. This behavior is deprecated, and in a future version of pandas the grouping columns will be excluded from the operation. Either pass `include_groups=False` to exclude the groupings or explicitly select the grouping columns after groupby to silence this warning.\n",
      "  sampled = sub_village_groups.apply(lambda x: x.sample(n=min(len(x), sub_village_sample_sizes[x.name])))\n",
      "/var/folders/xd/0btgr76j2zxc4__ynw0yhwbm0000gn/T/ipykernel_63563/1466310018.py:22: DeprecationWarning: DataFrameGroupBy.apply operated on the grouping columns. This behavior is deprecated, and in a future version of pandas the grouping columns will be excluded from the operation. Either pass `include_groups=False` to exclude the groupings or explicitly select the grouping columns after groupby to silence this warning.\n",
      "  sampled = sub_village_groups.apply(lambda x: x.sample(n=min(len(x), sub_village_sample_sizes[x.name])))\n",
      "/var/folders/xd/0btgr76j2zxc4__ynw0yhwbm0000gn/T/ipykernel_63563/208965665.py:1: DeprecationWarning: DataFrameGroupBy.apply operated on the grouping columns. This behavior is deprecated, and in a future version of pandas the grouping columns will be excluded from the operation. Either pass `include_groups=False` to exclude the groupings or explicitly select the grouping columns after groupby to silence this warning.\n",
      "  youth_reserve_sample = youth_reserve_s_frame.groupby('village', group_keys=False).apply(lambda x: proportional_sample(x, 6))\n"
     ]
    }
   ],
   "source": [
    "youth_reserve_sample = youth_reserve_s_frame.groupby('village', group_keys=False).apply(lambda x: proportional_sample(x, 6))"
   ]
  },
  {
   "cell_type": "code",
   "execution_count": 147,
   "id": "3baef350",
   "metadata": {
    "id": "dcf49b93",
    "outputId": "2dc5de30-9a7c-49e3-b748-610562cd4b76",
    "slideshow": {
     "slide_type": "fragment"
    }
   },
   "outputs": [
    {
     "data": {
      "text/html": [
       "<div>\n",
       "<style scoped>\n",
       "    .dataframe tbody tr th:only-of-type {\n",
       "        vertical-align: middle;\n",
       "    }\n",
       "\n",
       "    .dataframe tbody tr th {\n",
       "        vertical-align: top;\n",
       "    }\n",
       "\n",
       "    .dataframe thead th {\n",
       "        text-align: right;\n",
       "    }\n",
       "</style>\n",
       "<table border=\"1\" class=\"dataframe\">\n",
       "  <thead>\n",
       "    <tr style=\"text-align: right;\">\n",
       "      <th></th>\n",
       "      <th>district</th>\n",
       "      <th>subcounty</th>\n",
       "      <th>parish_t</th>\n",
       "      <th>village</th>\n",
       "      <th>Sub_Village</th>\n",
       "      <th>hhid</th>\n",
       "      <th>hhh_full_name</th>\n",
       "      <th>Household_Head_Age</th>\n",
       "      <th>Household_Head_Contact</th>\n",
       "      <th>Household_Head_Gender</th>\n",
       "      <th>Spouse_Name</th>\n",
       "      <th>Spouse_Gender</th>\n",
       "      <th>Telephone_Contact</th>\n",
       "      <th>HHH_Gender</th>\n",
       "      <th>status</th>\n",
       "    </tr>\n",
       "  </thead>\n",
       "  <tbody>\n",
       "    <tr>\n",
       "      <th>0</th>\n",
       "      <td>Amuru</td>\n",
       "      <td>Lamogi</td>\n",
       "      <td>Obbo</td>\n",
       "      <td>Akwar</td>\n",
       "      <td>Akwar_Center</td>\n",
       "      <td>Amu-Akw-Ane-F-153424-22</td>\n",
       "      <td>Anena Susan</td>\n",
       "      <td>27</td>\n",
       "      <td>0789-76-66-00</td>\n",
       "      <td>Female</td>\n",
       "      <td>Denish Odong</td>\n",
       "      <td>Male</td>\n",
       "      <td>0789-76-67-00</td>\n",
       "      <td>Youth Headed</td>\n",
       "      <td>reserve</td>\n",
       "    </tr>\n",
       "    <tr>\n",
       "      <th>1</th>\n",
       "      <td>Amuru</td>\n",
       "      <td>Lamogi</td>\n",
       "      <td>Obbo</td>\n",
       "      <td>Akwar</td>\n",
       "      <td>Alok_Ki_Winyo</td>\n",
       "      <td>Amu-Akw-Sam-M-181957-22</td>\n",
       "      <td>Samuel Kaduch</td>\n",
       "      <td>20</td>\n",
       "      <td>0775-13-74-64</td>\n",
       "      <td>Male</td>\n",
       "      <td>Akanyo Docus</td>\n",
       "      <td>Female</td>\n",
       "      <td>0777-90-96-57</td>\n",
       "      <td>Youth Headed</td>\n",
       "      <td>reserve</td>\n",
       "    </tr>\n",
       "    <tr>\n",
       "      <th>2</th>\n",
       "      <td>Amuru</td>\n",
       "      <td>Lamogi</td>\n",
       "      <td>Obbo</td>\n",
       "      <td>Akwar</td>\n",
       "      <td>Amuru_Odwogo</td>\n",
       "      <td>Amu-Akw-Abs-F-211624-22</td>\n",
       "      <td>Abslo Jenneth</td>\n",
       "      <td>24</td>\n",
       "      <td>0789-76-66-00</td>\n",
       "      <td>Female</td>\n",
       "      <td>NaN</td>\n",
       "      <td>NaN</td>\n",
       "      <td>NaN</td>\n",
       "      <td>Youth Headed</td>\n",
       "      <td>reserve</td>\n",
       "    </tr>\n",
       "    <tr>\n",
       "      <th>3</th>\n",
       "      <td>Amuru</td>\n",
       "      <td>Lamogi</td>\n",
       "      <td>Obbo</td>\n",
       "      <td>Akwar</td>\n",
       "      <td>Menya</td>\n",
       "      <td>Amu-Akw-Oke-M-092848-22</td>\n",
       "      <td>Oketta Julius</td>\n",
       "      <td>20</td>\n",
       "      <td>0789-76-66-00</td>\n",
       "      <td>Male</td>\n",
       "      <td>Mercy Lagum</td>\n",
       "      <td>Female</td>\n",
       "      <td>0789-76-66-00</td>\n",
       "      <td>Youth Headed</td>\n",
       "      <td>reserve</td>\n",
       "    </tr>\n",
       "    <tr>\n",
       "      <th>4</th>\n",
       "      <td>Amuru</td>\n",
       "      <td>Lamogi</td>\n",
       "      <td>Obbo</td>\n",
       "      <td>Akwar</td>\n",
       "      <td>Nen_Peko</td>\n",
       "      <td>Amu-Akw-Mic-M-164513-22</td>\n",
       "      <td>Micheal Ochula</td>\n",
       "      <td>26</td>\n",
       "      <td>0789-76-66-00</td>\n",
       "      <td>Male</td>\n",
       "      <td>Acayo Concy</td>\n",
       "      <td>Female</td>\n",
       "      <td>0789-76-66-00</td>\n",
       "      <td>Youth Headed</td>\n",
       "      <td>reserve</td>\n",
       "    </tr>\n",
       "  </tbody>\n",
       "</table>\n",
       "</div>"
      ],
      "text/plain": [
       "  district subcounty parish_t village    Sub_Village                     hhid  \\\n",
       "0    Amuru    Lamogi     Obbo   Akwar   Akwar_Center  Amu-Akw-Ane-F-153424-22   \n",
       "1    Amuru    Lamogi     Obbo   Akwar  Alok_Ki_Winyo  Amu-Akw-Sam-M-181957-22   \n",
       "2    Amuru    Lamogi     Obbo   Akwar   Amuru_Odwogo  Amu-Akw-Abs-F-211624-22   \n",
       "3    Amuru    Lamogi     Obbo   Akwar          Menya  Amu-Akw-Oke-M-092848-22   \n",
       "4    Amuru    Lamogi     Obbo   Akwar       Nen_Peko  Amu-Akw-Mic-M-164513-22   \n",
       "\n",
       "    hhh_full_name  Household_Head_Age Household_Head_Contact  \\\n",
       "0     Anena Susan                  27          0789-76-66-00   \n",
       "1   Samuel Kaduch                  20          0775-13-74-64   \n",
       "2   Abslo Jenneth                  24          0789-76-66-00   \n",
       "3   Oketta Julius                  20          0789-76-66-00   \n",
       "4  Micheal Ochula                  26          0789-76-66-00   \n",
       "\n",
       "  Household_Head_Gender   Spouse_Name Spouse_Gender Telephone_Contact  \\\n",
       "0                Female  Denish Odong          Male     0789-76-67-00   \n",
       "1                  Male  Akanyo Docus        Female     0777-90-96-57   \n",
       "2                Female           NaN           NaN               NaN   \n",
       "3                  Male   Mercy Lagum        Female     0789-76-66-00   \n",
       "4                  Male   Acayo Concy        Female     0789-76-66-00   \n",
       "\n",
       "     HHH_Gender   status  \n",
       "0  Youth Headed  reserve  \n",
       "1  Youth Headed  reserve  \n",
       "2  Youth Headed  reserve  \n",
       "3  Youth Headed  reserve  \n",
       "4  Youth Headed  reserve  "
      ]
     },
     "execution_count": 147,
     "metadata": {},
     "output_type": "execute_result"
    }
   ],
   "source": [
    "youth_reserve_sample['status'] = 'reserve'\n",
    "youth_reserve_sample.head()"
   ]
  },
  {
   "cell_type": "code",
   "execution_count": 148,
   "id": "35632d17",
   "metadata": {
    "id": "0aff8617",
    "slideshow": {
     "slide_type": "skip"
    }
   },
   "outputs": [],
   "source": [
    "# youth_reserve_sample.to_excel('mit/youth_reserve_sample.xlsx', index=False)"
   ]
  },
  {
   "cell_type": "markdown",
   "id": "a7eacb52",
   "metadata": {
    "id": "55c723e1",
    "slideshow": {
     "slide_type": "slide"
    }
   },
   "source": [
    "# Youth Household Sample"
   ]
  },
  {
   "cell_type": "code",
   "execution_count": 149,
   "id": "c2e86921",
   "metadata": {
    "id": "1fa36c9b",
    "outputId": "b4f3199b-b088-4116-91d9-4c5971286f16",
    "slideshow": {
     "slide_type": "skip"
    }
   },
   "outputs": [
    {
     "data": {
      "text/plain": [
       "((48, 15), (48, 15))"
      ]
     },
     "execution_count": 149,
     "metadata": {},
     "output_type": "execute_result"
    }
   ],
   "source": [
    "youth_target_sample.shape, youth_reserve_sample.shape"
   ]
  },
  {
   "cell_type": "code",
   "execution_count": 150,
   "id": "189c2382",
   "metadata": {
    "id": "dbf967a5",
    "slideshow": {
     "slide_type": "fragment"
    }
   },
   "outputs": [],
   "source": [
    "YOUTH_HH_SAMPLE = pd.concat([youth_target_sample, youth_reserve_sample])"
   ]
  },
  {
   "cell_type": "code",
   "execution_count": 151,
   "id": "adcf5732",
   "metadata": {
    "id": "42b22501",
    "slideshow": {
     "slide_type": "skip"
    }
   },
   "outputs": [],
   "source": [
    "# YOUTH_HH_SAMPLE.to_excel('mit/YOUTH_HH_SAMPLE.xlsx', index=False)"
   ]
  },
  {
   "cell_type": "markdown",
   "id": "b02055cd",
   "metadata": {
    "slideshow": {
     "slide_type": "skip"
    }
   },
   "source": [
    "We now have sample for males, females, and youths. Let's combine."
   ]
  },
  {
   "cell_type": "markdown",
   "id": "fdc3a1c3",
   "metadata": {
    "id": "6184c074",
    "slideshow": {
     "slide_type": "slide"
    }
   },
   "source": [
    "# JOINING THE DATAFRAMES"
   ]
  },
  {
   "cell_type": "code",
   "execution_count": 152,
   "id": "39d85bc3",
   "metadata": {
    "id": "4128546d",
    "outputId": "4b648906-ebb7-438e-bc28-0df3a63b5276",
    "slideshow": {
     "slide_type": "fragment"
    }
   },
   "outputs": [
    {
     "data": {
      "text/plain": [
       "((281, 15), (96, 15), (96, 15))"
      ]
     },
     "execution_count": 152,
     "metadata": {},
     "output_type": "execute_result"
    }
   ],
   "source": [
    "MALE_HH_SAMPLE.shape, FEMALE_HH_SAMPLE.shape, YOUTH_HH_SAMPLE.shape"
   ]
  },
  {
   "cell_type": "code",
   "execution_count": 153,
   "id": "63f6138b",
   "metadata": {
    "slideshow": {
     "slide_type": "skip"
    }
   },
   "outputs": [],
   "source": [
    "import numpy as np"
   ]
  },
  {
   "cell_type": "code",
   "execution_count": 154,
   "id": "e92c861a",
   "metadata": {
    "id": "edc79f76",
    "outputId": "a762b494-3b76-412c-e022-e596bdcc665f",
    "slideshow": {
     "slide_type": "skip"
    }
   },
   "outputs": [
    {
     "data": {
      "text/plain": [
       "(473, 1481)"
      ]
     },
     "execution_count": 154,
     "metadata": {},
     "output_type": "execute_result"
    }
   ],
   "source": [
    "np.array((MALE_HH_SAMPLE.shape[0], FEMALE_HH_SAMPLE.shape[0], YOUTH_HH_SAMPLE.shape[0])).sum(), len(df)"
   ]
  },
  {
   "cell_type": "code",
   "execution_count": 155,
   "id": "7f54a358",
   "metadata": {
    "id": "e16a7432",
    "slideshow": {
     "slide_type": "fragment"
    }
   },
   "outputs": [],
   "source": [
    "FINAL = pd.concat([MALE_HH_SAMPLE, FEMALE_HH_SAMPLE, YOUTH_HH_SAMPLE])"
   ]
  },
  {
   "cell_type": "code",
   "execution_count": 156,
   "id": "d85eade2",
   "metadata": {
    "id": "a397efd5",
    "slideshow": {
     "slide_type": "fragment"
    }
   },
   "outputs": [],
   "source": [
    "FINAL.to_excel('Amuru_Randomized.xlsx', index=False)"
   ]
  },
  {
   "cell_type": "code",
   "execution_count": null,
   "id": "992f1b79-f2b6-4bb6-a35f-832f5a676bd4",
   "metadata": {},
   "outputs": [],
   "source": []
  },
  {
   "cell_type": "code",
   "execution_count": null,
   "id": "33ab2961-154b-4cad-af45-adb861ea658b",
   "metadata": {},
   "outputs": [],
   "source": []
  }
 ],
 "metadata": {
  "celltoolbar": "Slideshow",
  "colab": {
   "provenance": []
  },
  "kernelspec": {
   "display_name": "Python 3 (ipykernel)",
   "language": "python",
   "name": "python3"
  },
  "language_info": {
   "codemirror_mode": {
    "name": "ipython",
    "version": 3
   },
   "file_extension": ".py",
   "mimetype": "text/x-python",
   "name": "python",
   "nbconvert_exporter": "python",
   "pygments_lexer": "ipython3",
   "version": "3.10.9"
  }
 },
 "nbformat": 4,
 "nbformat_minor": 5
}
