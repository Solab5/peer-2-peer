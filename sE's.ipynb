{
 "cells": [
  {
   "cell_type": "code",
   "execution_count": 1,
   "id": "13ccaef3",
   "metadata": {
    "id": "f064745d",
    "slideshow": {
     "slide_type": "fragment"
    }
   },
   "outputs": [],
   "source": [
    "import pandas as pd"
   ]
  },
  {
   "cell_type": "code",
   "execution_count": 12,
   "id": "d364f160",
   "metadata": {
    "id": "f064745d",
    "slideshow": {
     "slide_type": "slide"
    }
   },
   "outputs": [],
   "source": [
    "data = pd.read_excel(\"Kyenjojo.xlsx\")"
   ]
  },
  {
   "cell_type": "code",
   "execution_count": 13,
   "id": "d1c762e9-d708-4c78-82f9-d3b78da00b96",
   "metadata": {},
   "outputs": [],
   "source": [
    "df = data.copy()"
   ]
  },
  {
   "cell_type": "code",
   "execution_count": 15,
   "id": "dfbf7397",
   "metadata": {
    "colab": {
     "base_uri": "https://localhost:8080/",
     "height": 504
    },
    "id": "ab74a51a",
    "outputId": "12194158-8848-4224-8b9b-93fa90e4b285",
    "slideshow": {
     "slide_type": "slide"
    }
   },
   "outputs": [
    {
     "name": "stdout",
     "output_type": "stream",
     "text": [
      "(1547, 57)\n"
     ]
    },
    {
     "data": {
      "text/html": [
       "<div>\n",
       "<style scoped>\n",
       "    .dataframe tbody tr th:only-of-type {\n",
       "        vertical-align: middle;\n",
       "    }\n",
       "\n",
       "    .dataframe tbody tr th {\n",
       "        vertical-align: top;\n",
       "    }\n",
       "\n",
       "    .dataframe thead th {\n",
       "        text-align: right;\n",
       "    }\n",
       "</style>\n",
       "<table border=\"1\" class=\"dataframe\">\n",
       "  <thead>\n",
       "    <tr style=\"text-align: right;\">\n",
       "      <th></th>\n",
       "      <th>ObjectID</th>\n",
       "      <th>GlobalID</th>\n",
       "      <th>intro</th>\n",
       "      <th>date_visit</th>\n",
       "      <th>date_t</th>\n",
       "      <th>district</th>\n",
       "      <th>subcounty</th>\n",
       "      <th>parish_t</th>\n",
       "      <th>village</th>\n",
       "      <th>surveyor</th>\n",
       "      <th>...</th>\n",
       "      <th>hhid</th>\n",
       "      <th>CreationDate</th>\n",
       "      <th>Creator</th>\n",
       "      <th>EditDate</th>\n",
       "      <th>Editor</th>\n",
       "      <th>x</th>\n",
       "      <th>y</th>\n",
       "      <th>Village ID</th>\n",
       "      <th>Cohort</th>\n",
       "      <th>cycle</th>\n",
       "    </tr>\n",
       "  </thead>\n",
       "  <tbody>\n",
       "    <tr>\n",
       "      <th>1537</th>\n",
       "      <td>222690</td>\n",
       "      <td>dd26b42b-145b-47cc-800b-45df96321342</td>\n",
       "      <td>NaN</td>\n",
       "      <td>1690000000000</td>\n",
       "      <td>2023-09-02</td>\n",
       "      <td>Kyenjojo</td>\n",
       "      <td>Nyantungo</td>\n",
       "      <td>Ntutu</td>\n",
       "      <td>Kihinda</td>\n",
       "      <td>Contractor_Kihinda</td>\n",
       "      <td>...</td>\n",
       "      <td>Kye-Kih-Seb-M-175811</td>\n",
       "      <td>10/25/2023 8:26:01 AM</td>\n",
       "      <td>raphael_rtv</td>\n",
       "      <td>10/25/2023 8:26:01 AM</td>\n",
       "      <td>raphael_rtv</td>\n",
       "      <td>30.543943</td>\n",
       "      <td>0.584723</td>\n",
       "      <td>2269</td>\n",
       "      <td>2024</td>\n",
       "      <td>1</td>\n",
       "    </tr>\n",
       "    <tr>\n",
       "      <th>1538</th>\n",
       "      <td>222691</td>\n",
       "      <td>58981afb-1f65-44d7-933f-de2bff8aa0e0</td>\n",
       "      <td>NaN</td>\n",
       "      <td>1690000000000</td>\n",
       "      <td>2023-09-02</td>\n",
       "      <td>Kyenjojo</td>\n",
       "      <td>Nyantungo</td>\n",
       "      <td>Ntutu</td>\n",
       "      <td>Kihinda</td>\n",
       "      <td>Contractor_Kihinda</td>\n",
       "      <td>...</td>\n",
       "      <td>Kye-Kih-Bla-F-180311</td>\n",
       "      <td>10/25/2023 8:26:01 AM</td>\n",
       "      <td>raphael_rtv</td>\n",
       "      <td>10/25/2023 8:26:01 AM</td>\n",
       "      <td>raphael_rtv</td>\n",
       "      <td>30.543934</td>\n",
       "      <td>0.584818</td>\n",
       "      <td>2269</td>\n",
       "      <td>2024</td>\n",
       "      <td>1</td>\n",
       "    </tr>\n",
       "    <tr>\n",
       "      <th>1539</th>\n",
       "      <td>222692</td>\n",
       "      <td>9d861f69-74c1-4e28-891b-200b411f320d</td>\n",
       "      <td>NaN</td>\n",
       "      <td>1690000000000</td>\n",
       "      <td>2023-09-02</td>\n",
       "      <td>Kyenjojo</td>\n",
       "      <td>Nyantungo</td>\n",
       "      <td>Ntutu</td>\n",
       "      <td>Kihinda</td>\n",
       "      <td>Contractor_Kihinda</td>\n",
       "      <td>...</td>\n",
       "      <td>Kye-Kih-Bag-F-181419</td>\n",
       "      <td>10/25/2023 8:26:01 AM</td>\n",
       "      <td>raphael_rtv</td>\n",
       "      <td>10/25/2023 8:26:01 AM</td>\n",
       "      <td>raphael_rtv</td>\n",
       "      <td>30.544839</td>\n",
       "      <td>0.585934</td>\n",
       "      <td>2269</td>\n",
       "      <td>2024</td>\n",
       "      <td>1</td>\n",
       "    </tr>\n",
       "    <tr>\n",
       "      <th>1540</th>\n",
       "      <td>222694</td>\n",
       "      <td>e11376ad-90a1-4cbb-b81f-7dee6b0dbcb4</td>\n",
       "      <td>NaN</td>\n",
       "      <td>1690000000000</td>\n",
       "      <td>2023-09-02</td>\n",
       "      <td>Kyenjojo</td>\n",
       "      <td>Nyantungo</td>\n",
       "      <td>Ntutu</td>\n",
       "      <td>Kihinda</td>\n",
       "      <td>Contractor_Kihinda</td>\n",
       "      <td>...</td>\n",
       "      <td>Kye-Kih-Chr-M-183505</td>\n",
       "      <td>10/25/2023 8:26:01 AM</td>\n",
       "      <td>raphael_rtv</td>\n",
       "      <td>10/25/2023 8:26:01 AM</td>\n",
       "      <td>raphael_rtv</td>\n",
       "      <td>30.545063</td>\n",
       "      <td>0.586687</td>\n",
       "      <td>2269</td>\n",
       "      <td>2024</td>\n",
       "      <td>1</td>\n",
       "    </tr>\n",
       "    <tr>\n",
       "      <th>1541</th>\n",
       "      <td>222695</td>\n",
       "      <td>7ddeca37-d745-4350-bfbc-40db6339977e</td>\n",
       "      <td>NaN</td>\n",
       "      <td>1700000000000</td>\n",
       "      <td>2023-09-19</td>\n",
       "      <td>Kyenjojo</td>\n",
       "      <td>Nyantungo</td>\n",
       "      <td>Ntutu</td>\n",
       "      <td>Mugore</td>\n",
       "      <td>Contractor_Mugore</td>\n",
       "      <td>...</td>\n",
       "      <td>Kye-Mug-Jos-F-141519</td>\n",
       "      <td>10/25/2023 8:26:01 AM</td>\n",
       "      <td>raphael_rtv</td>\n",
       "      <td>10/25/2023 8:26:01 AM</td>\n",
       "      <td>raphael_rtv</td>\n",
       "      <td>30.569540</td>\n",
       "      <td>0.579576</td>\n",
       "      <td>2271</td>\n",
       "      <td>2024</td>\n",
       "      <td>1</td>\n",
       "    </tr>\n",
       "    <tr>\n",
       "      <th>1542</th>\n",
       "      <td>222696</td>\n",
       "      <td>c0126b77-8beb-47c8-a763-b5f32d95b4f4</td>\n",
       "      <td>NaN</td>\n",
       "      <td>1700000000000</td>\n",
       "      <td>2023-09-19</td>\n",
       "      <td>Kyenjojo</td>\n",
       "      <td>Nyantungo</td>\n",
       "      <td>Ntutu</td>\n",
       "      <td>Mugore</td>\n",
       "      <td>Contractor_Mugore</td>\n",
       "      <td>...</td>\n",
       "      <td>Kye-Mug-Ron-M-142405</td>\n",
       "      <td>10/25/2023 8:26:01 AM</td>\n",
       "      <td>raphael_rtv</td>\n",
       "      <td>10/25/2023 8:26:01 AM</td>\n",
       "      <td>raphael_rtv</td>\n",
       "      <td>30.568744</td>\n",
       "      <td>0.579073</td>\n",
       "      <td>2271</td>\n",
       "      <td>2024</td>\n",
       "      <td>1</td>\n",
       "    </tr>\n",
       "    <tr>\n",
       "      <th>1543</th>\n",
       "      <td>222697</td>\n",
       "      <td>9ac6ab4a-f84e-4070-8ad8-29d910973d31</td>\n",
       "      <td>NaN</td>\n",
       "      <td>1700000000000</td>\n",
       "      <td>2023-09-19</td>\n",
       "      <td>Kyenjojo</td>\n",
       "      <td>Nyantungo</td>\n",
       "      <td>Ntutu</td>\n",
       "      <td>Mugore</td>\n",
       "      <td>Contractor_Mugore</td>\n",
       "      <td>...</td>\n",
       "      <td>Kye-Mug-Mak-M-143737</td>\n",
       "      <td>10/25/2023 8:26:01 AM</td>\n",
       "      <td>raphael_rtv</td>\n",
       "      <td>10/25/2023 8:26:01 AM</td>\n",
       "      <td>raphael_rtv</td>\n",
       "      <td>30.564466</td>\n",
       "      <td>0.580075</td>\n",
       "      <td>2271</td>\n",
       "      <td>2024</td>\n",
       "      <td>1</td>\n",
       "    </tr>\n",
       "    <tr>\n",
       "      <th>1544</th>\n",
       "      <td>222698</td>\n",
       "      <td>ecbc421c-d43b-4ea0-accf-89565b1015dc</td>\n",
       "      <td>NaN</td>\n",
       "      <td>1700000000000</td>\n",
       "      <td>2023-09-19</td>\n",
       "      <td>Kyenjojo</td>\n",
       "      <td>Nyantungo</td>\n",
       "      <td>Ntutu</td>\n",
       "      <td>Kihinda</td>\n",
       "      <td>Contractor_Kihinda</td>\n",
       "      <td>...</td>\n",
       "      <td>Kye-Kih-Ndo-M-152002</td>\n",
       "      <td>10/25/2023 8:26:01 AM</td>\n",
       "      <td>raphael_rtv</td>\n",
       "      <td>10/25/2023 8:26:01 AM</td>\n",
       "      <td>raphael_rtv</td>\n",
       "      <td>30.552903</td>\n",
       "      <td>0.590434</td>\n",
       "      <td>2269</td>\n",
       "      <td>2024</td>\n",
       "      <td>1</td>\n",
       "    </tr>\n",
       "    <tr>\n",
       "      <th>1545</th>\n",
       "      <td>230893</td>\n",
       "      <td>6a3c3752-d2c1-4a32-84a7-a9607345bf7a</td>\n",
       "      <td>NaN</td>\n",
       "      <td>1708678800000</td>\n",
       "      <td>2024-02-23</td>\n",
       "      <td>Kyenjojo</td>\n",
       "      <td>Nyantungo</td>\n",
       "      <td>Ntutu</td>\n",
       "      <td>Bunyonyi</td>\n",
       "      <td>Contractor_Bunyonyi</td>\n",
       "      <td>...</td>\n",
       "      <td>Kye-Bun-Ste-F-093735</td>\n",
       "      <td>2/23/2024 6:36:34 AM</td>\n",
       "      <td>rtvstaff</td>\n",
       "      <td>2/23/2024 6:36:34 AM</td>\n",
       "      <td>rtvstaff</td>\n",
       "      <td>30.567400</td>\n",
       "      <td>0.559900</td>\n",
       "      <td>2268</td>\n",
       "      <td>2024</td>\n",
       "      <td>1</td>\n",
       "    </tr>\n",
       "    <tr>\n",
       "      <th>1546</th>\n",
       "      <td>230894</td>\n",
       "      <td>15baaf8b-85db-4a3f-a104-6ee9379b4a90</td>\n",
       "      <td>NaN</td>\n",
       "      <td>1708678800000</td>\n",
       "      <td>2024-02-23</td>\n",
       "      <td>Kyenjojo</td>\n",
       "      <td>Nyantungo</td>\n",
       "      <td>Ntutu</td>\n",
       "      <td>Bunyonyi</td>\n",
       "      <td>Contractor_Bunyonyi</td>\n",
       "      <td>...</td>\n",
       "      <td>Kye-Bun-Emm-M-091247</td>\n",
       "      <td>2/23/2024 6:36:35 AM</td>\n",
       "      <td>rtvstaff</td>\n",
       "      <td>2/23/2024 6:36:35 AM</td>\n",
       "      <td>rtvstaff</td>\n",
       "      <td>30.644940</td>\n",
       "      <td>0.606495</td>\n",
       "      <td>2268</td>\n",
       "      <td>2024</td>\n",
       "      <td>1</td>\n",
       "    </tr>\n",
       "  </tbody>\n",
       "</table>\n",
       "<p>10 rows × 57 columns</p>\n",
       "</div>"
      ],
      "text/plain": [
       "      ObjectID                              GlobalID  intro     date_visit  \\\n",
       "1537    222690  dd26b42b-145b-47cc-800b-45df96321342    NaN  1690000000000   \n",
       "1538    222691  58981afb-1f65-44d7-933f-de2bff8aa0e0    NaN  1690000000000   \n",
       "1539    222692  9d861f69-74c1-4e28-891b-200b411f320d    NaN  1690000000000   \n",
       "1540    222694  e11376ad-90a1-4cbb-b81f-7dee6b0dbcb4    NaN  1690000000000   \n",
       "1541    222695  7ddeca37-d745-4350-bfbc-40db6339977e    NaN  1700000000000   \n",
       "1542    222696  c0126b77-8beb-47c8-a763-b5f32d95b4f4    NaN  1700000000000   \n",
       "1543    222697  9ac6ab4a-f84e-4070-8ad8-29d910973d31    NaN  1700000000000   \n",
       "1544    222698  ecbc421c-d43b-4ea0-accf-89565b1015dc    NaN  1700000000000   \n",
       "1545    230893  6a3c3752-d2c1-4a32-84a7-a9607345bf7a    NaN  1708678800000   \n",
       "1546    230894  15baaf8b-85db-4a3f-a104-6ee9379b4a90    NaN  1708678800000   \n",
       "\n",
       "         date_t  district  subcounty parish_t   village             surveyor  \\\n",
       "1537 2023-09-02  Kyenjojo  Nyantungo    Ntutu   Kihinda   Contractor_Kihinda   \n",
       "1538 2023-09-02  Kyenjojo  Nyantungo    Ntutu   Kihinda   Contractor_Kihinda   \n",
       "1539 2023-09-02  Kyenjojo  Nyantungo    Ntutu   Kihinda   Contractor_Kihinda   \n",
       "1540 2023-09-02  Kyenjojo  Nyantungo    Ntutu   Kihinda   Contractor_Kihinda   \n",
       "1541 2023-09-19  Kyenjojo  Nyantungo    Ntutu    Mugore    Contractor_Mugore   \n",
       "1542 2023-09-19  Kyenjojo  Nyantungo    Ntutu    Mugore    Contractor_Mugore   \n",
       "1543 2023-09-19  Kyenjojo  Nyantungo    Ntutu    Mugore    Contractor_Mugore   \n",
       "1544 2023-09-19  Kyenjojo  Nyantungo    Ntutu   Kihinda   Contractor_Kihinda   \n",
       "1545 2024-02-23  Kyenjojo  Nyantungo    Ntutu  Bunyonyi  Contractor_Bunyonyi   \n",
       "1546 2024-02-23  Kyenjojo  Nyantungo    Ntutu  Bunyonyi  Contractor_Bunyonyi   \n",
       "\n",
       "      ...                  hhid           CreationDate      Creator  \\\n",
       "1537  ...  Kye-Kih-Seb-M-175811  10/25/2023 8:26:01 AM  raphael_rtv   \n",
       "1538  ...  Kye-Kih-Bla-F-180311  10/25/2023 8:26:01 AM  raphael_rtv   \n",
       "1539  ...  Kye-Kih-Bag-F-181419  10/25/2023 8:26:01 AM  raphael_rtv   \n",
       "1540  ...  Kye-Kih-Chr-M-183505  10/25/2023 8:26:01 AM  raphael_rtv   \n",
       "1541  ...  Kye-Mug-Jos-F-141519  10/25/2023 8:26:01 AM  raphael_rtv   \n",
       "1542  ...  Kye-Mug-Ron-M-142405  10/25/2023 8:26:01 AM  raphael_rtv   \n",
       "1543  ...  Kye-Mug-Mak-M-143737  10/25/2023 8:26:01 AM  raphael_rtv   \n",
       "1544  ...  Kye-Kih-Ndo-M-152002  10/25/2023 8:26:01 AM  raphael_rtv   \n",
       "1545  ...  Kye-Bun-Ste-F-093735   2/23/2024 6:36:34 AM     rtvstaff   \n",
       "1546  ...  Kye-Bun-Emm-M-091247   2/23/2024 6:36:35 AM     rtvstaff   \n",
       "\n",
       "                   EditDate       Editor          x         y  Village ID  \\\n",
       "1537  10/25/2023 8:26:01 AM  raphael_rtv  30.543943  0.584723        2269   \n",
       "1538  10/25/2023 8:26:01 AM  raphael_rtv  30.543934  0.584818        2269   \n",
       "1539  10/25/2023 8:26:01 AM  raphael_rtv  30.544839  0.585934        2269   \n",
       "1540  10/25/2023 8:26:01 AM  raphael_rtv  30.545063  0.586687        2269   \n",
       "1541  10/25/2023 8:26:01 AM  raphael_rtv  30.569540  0.579576        2271   \n",
       "1542  10/25/2023 8:26:01 AM  raphael_rtv  30.568744  0.579073        2271   \n",
       "1543  10/25/2023 8:26:01 AM  raphael_rtv  30.564466  0.580075        2271   \n",
       "1544  10/25/2023 8:26:01 AM  raphael_rtv  30.552903  0.590434        2269   \n",
       "1545   2/23/2024 6:36:34 AM     rtvstaff  30.567400  0.559900        2268   \n",
       "1546   2/23/2024 6:36:35 AM     rtvstaff  30.644940  0.606495        2268   \n",
       "\n",
       "     Cohort  cycle  \n",
       "1537   2024      1  \n",
       "1538   2024      1  \n",
       "1539   2024      1  \n",
       "1540   2024      1  \n",
       "1541   2024      1  \n",
       "1542   2024      1  \n",
       "1543   2024      1  \n",
       "1544   2024      1  \n",
       "1545   2024      1  \n",
       "1546   2024      1  \n",
       "\n",
       "[10 rows x 57 columns]"
      ]
     },
     "execution_count": 15,
     "metadata": {},
     "output_type": "execute_result"
    }
   ],
   "source": [
    "print(df.shape)\n",
    "df.tail(10)"
   ]
  },
  {
   "cell_type": "code",
   "execution_count": 16,
   "id": "8af759dc",
   "metadata": {
    "colab": {
     "base_uri": "https://localhost:8080/"
    },
    "id": "177ba33d",
    "outputId": "3974aacd-f661-4c0f-819c-7b13392533f7",
    "slideshow": {
     "slide_type": "slide"
    }
   },
   "outputs": [
    {
     "data": {
      "text/plain": [
       "['ObjectID',\n",
       " 'GlobalID',\n",
       " 'intro',\n",
       " 'date_visit',\n",
       " 'date_t',\n",
       " 'district',\n",
       " 'subcounty',\n",
       " 'parish_t',\n",
       " 'village',\n",
       " 'surveyor',\n",
       " 'surveyor_n',\n",
       " 'conscent',\n",
       " 'lat_x',\n",
       " 'long_y',\n",
       " 'altit_z',\n",
       " 'long_y_f',\n",
       " 'lat_x_err',\n",
       " 'long_y_err',\n",
       " 'gps_err_r',\n",
       " 'gps_err_r_f',\n",
       " 'bad_gps_err',\n",
       " 'Household_Head_First_Name',\n",
       " 'Household_Head_Last_Name',\n",
       " 'hhh_full_name',\n",
       " 'Household_Head_Age',\n",
       " 'Household_Head_Contact',\n",
       " 'Marital_Status',\n",
       " 'Household_Head_Gender',\n",
       " 'Spouse_First_Name',\n",
       " 'Spouse_Last_Name',\n",
       " 'Spouse_Name',\n",
       " 'Spouse_Age',\n",
       " 'Telephone_Contact',\n",
       " 'tot_hhmembers',\n",
       " 'male_adults',\n",
       " 'female_adults',\n",
       " 'male_youth',\n",
       " 'female_youth',\n",
       " 'male_children',\n",
       " 'female_children',\n",
       " 'adults',\n",
       " 'youth',\n",
       " 'children',\n",
       " 'tot_hh_brk_out',\n",
       " 'brk_out_err',\n",
       " 'note_hh_info',\n",
       " 'key_string',\n",
       " 'hhid',\n",
       " 'CreationDate',\n",
       " 'Creator',\n",
       " 'EditDate',\n",
       " 'Editor',\n",
       " 'x',\n",
       " 'y',\n",
       " 'Village ID',\n",
       " 'Cohort',\n",
       " 'cycle']"
      ]
     },
     "execution_count": 16,
     "metadata": {},
     "output_type": "execute_result"
    }
   ],
   "source": [
    "df.columns.to_list()"
   ]
  },
  {
   "cell_type": "code",
   "execution_count": 17,
   "id": "707f280a-b892-49db-af6d-92a4e10a62d5",
   "metadata": {
    "id": "861b8440",
    "slideshow": {
     "slide_type": "slide"
    }
   },
   "outputs": [],
   "source": [
    "columns = [\n",
    " 'district',\n",
    " 'subcounty',\n",
    " 'parish_t',\n",
    " # 'Cluster',\n",
    " 'village',\n",
    " # 'Cohort',\n",
    " 'hhh_full_name',\n",
    " 'Household_Head_Age',\n",
    " 'Household_Head_Contact',\n",
    " 'Household_Head_Gender',\n",
    " 'hhid',\n",
    " ]"
   ]
  },
  {
   "cell_type": "code",
   "execution_count": 9,
   "id": "cd1497ff-b579-4093-bd27-4a575bd745c9",
   "metadata": {
    "id": "861b8440",
    "slideshow": {
     "slide_type": "slide"
    }
   },
   "outputs": [],
   "source": [
    "# columns = [\n",
    "#  'district',\n",
    "#  'subcounty',\n",
    "#  'Parish',\n",
    "#  'village',\n",
    "#  'hhh_name',\n",
    "#  'age',\n",
    "#  'Contact',\n",
    "#  'gender',\n",
    "#  'id',\n",
    "#  ]"
   ]
  },
  {
   "cell_type": "code",
   "execution_count": 8,
   "id": "c00b760d-ba6d-45f5-a323-a5b868dd6bbd",
   "metadata": {},
   "outputs": [],
   "source": [
    "# df['district'] = df['District']"
   ]
  },
  {
   "cell_type": "code",
   "execution_count": null,
   "id": "013f25f8-76f4-4fa5-afc8-cdb1e5ac6ea6",
   "metadata": {},
   "outputs": [],
   "source": [
    "# df['subcounty'] = df['Subcounty']"
   ]
  },
  {
   "cell_type": "code",
   "execution_count": null,
   "id": "cb948a2d-1b73-4441-8b32-6ad84ee7aed9",
   "metadata": {},
   "outputs": [],
   "source": [
    "# df['village'] = df['Village']"
   ]
  },
  {
   "cell_type": "code",
   "execution_count": 10,
   "id": "f838b8f8-287c-4fbe-88eb-7a3ae20a2534",
   "metadata": {},
   "outputs": [],
   "source": [
    "df['Contact'] = df['contact']"
   ]
  },
  {
   "cell_type": "code",
   "execution_count": 18,
   "id": "dd989bc5",
   "metadata": {
    "id": "dd11ea74",
    "slideshow": {
     "slide_type": "fragment"
    }
   },
   "outputs": [],
   "source": [
    "df = df[columns]"
   ]
  },
  {
   "cell_type": "code",
   "execution_count": 19,
   "id": "012c18a4-0e54-4b2f-8825-2b95a6c17f0d",
   "metadata": {},
   "outputs": [
    {
     "data": {
      "text/html": [
       "<div>\n",
       "<style scoped>\n",
       "    .dataframe tbody tr th:only-of-type {\n",
       "        vertical-align: middle;\n",
       "    }\n",
       "\n",
       "    .dataframe tbody tr th {\n",
       "        vertical-align: top;\n",
       "    }\n",
       "\n",
       "    .dataframe thead th {\n",
       "        text-align: right;\n",
       "    }\n",
       "</style>\n",
       "<table border=\"1\" class=\"dataframe\">\n",
       "  <thead>\n",
       "    <tr style=\"text-align: right;\">\n",
       "      <th></th>\n",
       "      <th>district</th>\n",
       "      <th>subcounty</th>\n",
       "      <th>parish_t</th>\n",
       "      <th>village</th>\n",
       "      <th>hhh_full_name</th>\n",
       "      <th>Household_Head_Age</th>\n",
       "      <th>Household_Head_Contact</th>\n",
       "      <th>Household_Head_Gender</th>\n",
       "      <th>hhid</th>\n",
       "    </tr>\n",
       "  </thead>\n",
       "  <tbody>\n",
       "    <tr>\n",
       "      <th>0</th>\n",
       "      <td>Kyenjojo</td>\n",
       "      <td>Nyankwanzi</td>\n",
       "      <td>Kaitanyana</td>\n",
       "      <td>Hakabale</td>\n",
       "      <td>Deusident Sheria</td>\n",
       "      <td>31</td>\n",
       "      <td>771029023</td>\n",
       "      <td>Male</td>\n",
       "      <td>KYE-HAK-DEU-M-125889</td>\n",
       "    </tr>\n",
       "    <tr>\n",
       "      <th>1</th>\n",
       "      <td>Kyenjojo</td>\n",
       "      <td>Nyankwanzi</td>\n",
       "      <td>Kaitanyana</td>\n",
       "      <td>Hakabale</td>\n",
       "      <td>Obed Nyinengago</td>\n",
       "      <td>62</td>\n",
       "      <td>760526192</td>\n",
       "      <td>Male</td>\n",
       "      <td>KYE-HAK-OBE-M-125890</td>\n",
       "    </tr>\n",
       "    <tr>\n",
       "      <th>2</th>\n",
       "      <td>Kyenjojo</td>\n",
       "      <td>Nyankwanzi</td>\n",
       "      <td>Kaitanyana</td>\n",
       "      <td>Hakabale</td>\n",
       "      <td>Nazario Tumwekwase</td>\n",
       "      <td>58</td>\n",
       "      <td>99</td>\n",
       "      <td>Male</td>\n",
       "      <td>KYE-HAK-NAZ-M-125891</td>\n",
       "    </tr>\n",
       "    <tr>\n",
       "      <th>3</th>\n",
       "      <td>Kyenjojo</td>\n",
       "      <td>Nyankwanzi</td>\n",
       "      <td>Kaitanyana</td>\n",
       "      <td>Hakabale</td>\n",
       "      <td>Sepirion Byaruhanga</td>\n",
       "      <td>29</td>\n",
       "      <td>785630500</td>\n",
       "      <td>Male</td>\n",
       "      <td>KYE-HAK-SEP-M-125892</td>\n",
       "    </tr>\n",
       "    <tr>\n",
       "      <th>4</th>\n",
       "      <td>Kyenjojo</td>\n",
       "      <td>Nyankwanzi</td>\n",
       "      <td>Kaitanyana</td>\n",
       "      <td>Hakabale</td>\n",
       "      <td>Esiter Kyarisiima</td>\n",
       "      <td>40</td>\n",
       "      <td>779433461</td>\n",
       "      <td>Female</td>\n",
       "      <td>KYE-HAK-ESI-F-125893</td>\n",
       "    </tr>\n",
       "  </tbody>\n",
       "</table>\n",
       "</div>"
      ],
      "text/plain": [
       "   district   subcounty    parish_t   village        hhh_full_name  \\\n",
       "0  Kyenjojo  Nyankwanzi  Kaitanyana  Hakabale     Deusident Sheria   \n",
       "1  Kyenjojo  Nyankwanzi  Kaitanyana  Hakabale      Obed Nyinengago   \n",
       "2  Kyenjojo  Nyankwanzi  Kaitanyana  Hakabale   Nazario Tumwekwase   \n",
       "3  Kyenjojo  Nyankwanzi  Kaitanyana  Hakabale  Sepirion Byaruhanga   \n",
       "4  Kyenjojo  Nyankwanzi  Kaitanyana  Hakabale    Esiter Kyarisiima   \n",
       "\n",
       "   Household_Head_Age  Household_Head_Contact Household_Head_Gender  \\\n",
       "0                  31               771029023                  Male   \n",
       "1                  62               760526192                  Male   \n",
       "2                  58                      99                  Male   \n",
       "3                  29               785630500                  Male   \n",
       "4                  40               779433461                Female   \n",
       "\n",
       "                   hhid  \n",
       "0  KYE-HAK-DEU-M-125889  \n",
       "1  KYE-HAK-OBE-M-125890  \n",
       "2  KYE-HAK-NAZ-M-125891  \n",
       "3  KYE-HAK-SEP-M-125892  \n",
       "4  KYE-HAK-ESI-F-125893  "
      ]
     },
     "execution_count": 19,
     "metadata": {},
     "output_type": "execute_result"
    }
   ],
   "source": [
    "df.head()"
   ]
  },
  {
   "cell_type": "code",
   "execution_count": 20,
   "id": "b9cbc9f2-2734-4ea4-bfbc-d9557d8861d8",
   "metadata": {},
   "outputs": [
    {
     "data": {
      "text/html": [
       "<div>\n",
       "<style scoped>\n",
       "    .dataframe tbody tr th:only-of-type {\n",
       "        vertical-align: middle;\n",
       "    }\n",
       "\n",
       "    .dataframe tbody tr th {\n",
       "        vertical-align: top;\n",
       "    }\n",
       "\n",
       "    .dataframe thead th {\n",
       "        text-align: right;\n",
       "    }\n",
       "</style>\n",
       "<table border=\"1\" class=\"dataframe\">\n",
       "  <thead>\n",
       "    <tr style=\"text-align: right;\">\n",
       "      <th></th>\n",
       "      <th>ObjectID</th>\n",
       "      <th>GlobalID</th>\n",
       "      <th>intro</th>\n",
       "      <th>date_visit</th>\n",
       "      <th>date_t</th>\n",
       "      <th>district</th>\n",
       "      <th>subcounty</th>\n",
       "      <th>parish_t</th>\n",
       "      <th>village</th>\n",
       "      <th>surveyor</th>\n",
       "      <th>...</th>\n",
       "      <th>hhid</th>\n",
       "      <th>CreationDate</th>\n",
       "      <th>Creator</th>\n",
       "      <th>EditDate</th>\n",
       "      <th>Editor</th>\n",
       "      <th>x</th>\n",
       "      <th>y</th>\n",
       "      <th>Village ID</th>\n",
       "      <th>Cohort</th>\n",
       "      <th>cycle</th>\n",
       "    </tr>\n",
       "  </thead>\n",
       "  <tbody>\n",
       "    <tr>\n",
       "      <th>0</th>\n",
       "      <td>68573</td>\n",
       "      <td>5bfc95d9-259d-49b6-822c-e63025a69314</td>\n",
       "      <td>NaN</td>\n",
       "      <td>1670000000000</td>\n",
       "      <td>2022-12-17</td>\n",
       "      <td>Kyenjojo</td>\n",
       "      <td>Nyankwanzi</td>\n",
       "      <td>Kaitanyana</td>\n",
       "      <td>Hakabale</td>\n",
       "      <td>NaN</td>\n",
       "      <td>...</td>\n",
       "      <td>KYE-HAK-DEU-M-125889</td>\n",
       "      <td>6/22/2023 8:12:35 PM</td>\n",
       "      <td>raphael_rtv</td>\n",
       "      <td>6/22/2023 8:12:35 PM</td>\n",
       "      <td>raphael_rtv</td>\n",
       "      <td>30.704327</td>\n",
       "      <td>0.829938</td>\n",
       "      <td>1850</td>\n",
       "      <td>2023</td>\n",
       "      <td>2</td>\n",
       "    </tr>\n",
       "    <tr>\n",
       "      <th>1</th>\n",
       "      <td>68575</td>\n",
       "      <td>318002f8-926f-45a6-a9e1-304c8a560794</td>\n",
       "      <td>NaN</td>\n",
       "      <td>1670000000000</td>\n",
       "      <td>2022-12-17</td>\n",
       "      <td>Kyenjojo</td>\n",
       "      <td>Nyankwanzi</td>\n",
       "      <td>Kaitanyana</td>\n",
       "      <td>Hakabale</td>\n",
       "      <td>NaN</td>\n",
       "      <td>...</td>\n",
       "      <td>KYE-HAK-OBE-M-125890</td>\n",
       "      <td>6/22/2023 8:12:35 PM</td>\n",
       "      <td>raphael_rtv</td>\n",
       "      <td>6/22/2023 8:12:35 PM</td>\n",
       "      <td>raphael_rtv</td>\n",
       "      <td>30.704829</td>\n",
       "      <td>0.830210</td>\n",
       "      <td>1850</td>\n",
       "      <td>2023</td>\n",
       "      <td>2</td>\n",
       "    </tr>\n",
       "    <tr>\n",
       "      <th>2</th>\n",
       "      <td>68577</td>\n",
       "      <td>edb859a7-b318-4641-86ba-58eb76d1e134</td>\n",
       "      <td>NaN</td>\n",
       "      <td>1670000000000</td>\n",
       "      <td>2022-12-17</td>\n",
       "      <td>Kyenjojo</td>\n",
       "      <td>Nyankwanzi</td>\n",
       "      <td>Kaitanyana</td>\n",
       "      <td>Hakabale</td>\n",
       "      <td>NaN</td>\n",
       "      <td>...</td>\n",
       "      <td>KYE-HAK-NAZ-M-125891</td>\n",
       "      <td>6/22/2023 8:12:35 PM</td>\n",
       "      <td>raphael_rtv</td>\n",
       "      <td>6/22/2023 8:12:35 PM</td>\n",
       "      <td>raphael_rtv</td>\n",
       "      <td>30.704811</td>\n",
       "      <td>0.830217</td>\n",
       "      <td>1850</td>\n",
       "      <td>2023</td>\n",
       "      <td>2</td>\n",
       "    </tr>\n",
       "    <tr>\n",
       "      <th>3</th>\n",
       "      <td>68580</td>\n",
       "      <td>0f276953-132a-4c5d-b138-7fe53933f91a</td>\n",
       "      <td>NaN</td>\n",
       "      <td>1670000000000</td>\n",
       "      <td>2022-12-17</td>\n",
       "      <td>Kyenjojo</td>\n",
       "      <td>Nyankwanzi</td>\n",
       "      <td>Kaitanyana</td>\n",
       "      <td>Hakabale</td>\n",
       "      <td>NaN</td>\n",
       "      <td>...</td>\n",
       "      <td>KYE-HAK-SEP-M-125892</td>\n",
       "      <td>6/22/2023 8:12:35 PM</td>\n",
       "      <td>raphael_rtv</td>\n",
       "      <td>6/22/2023 8:12:35 PM</td>\n",
       "      <td>raphael_rtv</td>\n",
       "      <td>30.704928</td>\n",
       "      <td>0.829481</td>\n",
       "      <td>1850</td>\n",
       "      <td>2023</td>\n",
       "      <td>2</td>\n",
       "    </tr>\n",
       "    <tr>\n",
       "      <th>4</th>\n",
       "      <td>68583</td>\n",
       "      <td>975c0de0-a6ad-4c68-973d-5be291226869</td>\n",
       "      <td>NaN</td>\n",
       "      <td>1670000000000</td>\n",
       "      <td>2022-12-17</td>\n",
       "      <td>Kyenjojo</td>\n",
       "      <td>Nyankwanzi</td>\n",
       "      <td>Kaitanyana</td>\n",
       "      <td>Hakabale</td>\n",
       "      <td>NaN</td>\n",
       "      <td>...</td>\n",
       "      <td>KYE-HAK-ESI-F-125893</td>\n",
       "      <td>6/22/2023 8:12:35 PM</td>\n",
       "      <td>raphael_rtv</td>\n",
       "      <td>6/22/2023 8:12:35 PM</td>\n",
       "      <td>raphael_rtv</td>\n",
       "      <td>30.705177</td>\n",
       "      <td>0.829187</td>\n",
       "      <td>1850</td>\n",
       "      <td>2023</td>\n",
       "      <td>2</td>\n",
       "    </tr>\n",
       "    <tr>\n",
       "      <th>...</th>\n",
       "      <td>...</td>\n",
       "      <td>...</td>\n",
       "      <td>...</td>\n",
       "      <td>...</td>\n",
       "      <td>...</td>\n",
       "      <td>...</td>\n",
       "      <td>...</td>\n",
       "      <td>...</td>\n",
       "      <td>...</td>\n",
       "      <td>...</td>\n",
       "      <td>...</td>\n",
       "      <td>...</td>\n",
       "      <td>...</td>\n",
       "      <td>...</td>\n",
       "      <td>...</td>\n",
       "      <td>...</td>\n",
       "      <td>...</td>\n",
       "      <td>...</td>\n",
       "      <td>...</td>\n",
       "      <td>...</td>\n",
       "      <td>...</td>\n",
       "    </tr>\n",
       "    <tr>\n",
       "      <th>1542</th>\n",
       "      <td>222696</td>\n",
       "      <td>c0126b77-8beb-47c8-a763-b5f32d95b4f4</td>\n",
       "      <td>NaN</td>\n",
       "      <td>1700000000000</td>\n",
       "      <td>2023-09-19</td>\n",
       "      <td>Kyenjojo</td>\n",
       "      <td>Nyantungo</td>\n",
       "      <td>Ntutu</td>\n",
       "      <td>Mugore</td>\n",
       "      <td>Contractor_Mugore</td>\n",
       "      <td>...</td>\n",
       "      <td>Kye-Mug-Ron-M-142405</td>\n",
       "      <td>10/25/2023 8:26:01 AM</td>\n",
       "      <td>raphael_rtv</td>\n",
       "      <td>10/25/2023 8:26:01 AM</td>\n",
       "      <td>raphael_rtv</td>\n",
       "      <td>30.568744</td>\n",
       "      <td>0.579073</td>\n",
       "      <td>2271</td>\n",
       "      <td>2024</td>\n",
       "      <td>1</td>\n",
       "    </tr>\n",
       "    <tr>\n",
       "      <th>1543</th>\n",
       "      <td>222697</td>\n",
       "      <td>9ac6ab4a-f84e-4070-8ad8-29d910973d31</td>\n",
       "      <td>NaN</td>\n",
       "      <td>1700000000000</td>\n",
       "      <td>2023-09-19</td>\n",
       "      <td>Kyenjojo</td>\n",
       "      <td>Nyantungo</td>\n",
       "      <td>Ntutu</td>\n",
       "      <td>Mugore</td>\n",
       "      <td>Contractor_Mugore</td>\n",
       "      <td>...</td>\n",
       "      <td>Kye-Mug-Mak-M-143737</td>\n",
       "      <td>10/25/2023 8:26:01 AM</td>\n",
       "      <td>raphael_rtv</td>\n",
       "      <td>10/25/2023 8:26:01 AM</td>\n",
       "      <td>raphael_rtv</td>\n",
       "      <td>30.564466</td>\n",
       "      <td>0.580075</td>\n",
       "      <td>2271</td>\n",
       "      <td>2024</td>\n",
       "      <td>1</td>\n",
       "    </tr>\n",
       "    <tr>\n",
       "      <th>1544</th>\n",
       "      <td>222698</td>\n",
       "      <td>ecbc421c-d43b-4ea0-accf-89565b1015dc</td>\n",
       "      <td>NaN</td>\n",
       "      <td>1700000000000</td>\n",
       "      <td>2023-09-19</td>\n",
       "      <td>Kyenjojo</td>\n",
       "      <td>Nyantungo</td>\n",
       "      <td>Ntutu</td>\n",
       "      <td>Kihinda</td>\n",
       "      <td>Contractor_Kihinda</td>\n",
       "      <td>...</td>\n",
       "      <td>Kye-Kih-Ndo-M-152002</td>\n",
       "      <td>10/25/2023 8:26:01 AM</td>\n",
       "      <td>raphael_rtv</td>\n",
       "      <td>10/25/2023 8:26:01 AM</td>\n",
       "      <td>raphael_rtv</td>\n",
       "      <td>30.552903</td>\n",
       "      <td>0.590434</td>\n",
       "      <td>2269</td>\n",
       "      <td>2024</td>\n",
       "      <td>1</td>\n",
       "    </tr>\n",
       "    <tr>\n",
       "      <th>1545</th>\n",
       "      <td>230893</td>\n",
       "      <td>6a3c3752-d2c1-4a32-84a7-a9607345bf7a</td>\n",
       "      <td>NaN</td>\n",
       "      <td>1708678800000</td>\n",
       "      <td>2024-02-23</td>\n",
       "      <td>Kyenjojo</td>\n",
       "      <td>Nyantungo</td>\n",
       "      <td>Ntutu</td>\n",
       "      <td>Bunyonyi</td>\n",
       "      <td>Contractor_Bunyonyi</td>\n",
       "      <td>...</td>\n",
       "      <td>Kye-Bun-Ste-F-093735</td>\n",
       "      <td>2/23/2024 6:36:34 AM</td>\n",
       "      <td>rtvstaff</td>\n",
       "      <td>2/23/2024 6:36:34 AM</td>\n",
       "      <td>rtvstaff</td>\n",
       "      <td>30.567400</td>\n",
       "      <td>0.559900</td>\n",
       "      <td>2268</td>\n",
       "      <td>2024</td>\n",
       "      <td>1</td>\n",
       "    </tr>\n",
       "    <tr>\n",
       "      <th>1546</th>\n",
       "      <td>230894</td>\n",
       "      <td>15baaf8b-85db-4a3f-a104-6ee9379b4a90</td>\n",
       "      <td>NaN</td>\n",
       "      <td>1708678800000</td>\n",
       "      <td>2024-02-23</td>\n",
       "      <td>Kyenjojo</td>\n",
       "      <td>Nyantungo</td>\n",
       "      <td>Ntutu</td>\n",
       "      <td>Bunyonyi</td>\n",
       "      <td>Contractor_Bunyonyi</td>\n",
       "      <td>...</td>\n",
       "      <td>Kye-Bun-Emm-M-091247</td>\n",
       "      <td>2/23/2024 6:36:35 AM</td>\n",
       "      <td>rtvstaff</td>\n",
       "      <td>2/23/2024 6:36:35 AM</td>\n",
       "      <td>rtvstaff</td>\n",
       "      <td>30.644940</td>\n",
       "      <td>0.606495</td>\n",
       "      <td>2268</td>\n",
       "      <td>2024</td>\n",
       "      <td>1</td>\n",
       "    </tr>\n",
       "  </tbody>\n",
       "</table>\n",
       "<p>1547 rows × 57 columns</p>\n",
       "</div>"
      ],
      "text/plain": [
       "      ObjectID                              GlobalID  intro     date_visit  \\\n",
       "0        68573  5bfc95d9-259d-49b6-822c-e63025a69314    NaN  1670000000000   \n",
       "1        68575  318002f8-926f-45a6-a9e1-304c8a560794    NaN  1670000000000   \n",
       "2        68577  edb859a7-b318-4641-86ba-58eb76d1e134    NaN  1670000000000   \n",
       "3        68580  0f276953-132a-4c5d-b138-7fe53933f91a    NaN  1670000000000   \n",
       "4        68583  975c0de0-a6ad-4c68-973d-5be291226869    NaN  1670000000000   \n",
       "...        ...                                   ...    ...            ...   \n",
       "1542    222696  c0126b77-8beb-47c8-a763-b5f32d95b4f4    NaN  1700000000000   \n",
       "1543    222697  9ac6ab4a-f84e-4070-8ad8-29d910973d31    NaN  1700000000000   \n",
       "1544    222698  ecbc421c-d43b-4ea0-accf-89565b1015dc    NaN  1700000000000   \n",
       "1545    230893  6a3c3752-d2c1-4a32-84a7-a9607345bf7a    NaN  1708678800000   \n",
       "1546    230894  15baaf8b-85db-4a3f-a104-6ee9379b4a90    NaN  1708678800000   \n",
       "\n",
       "         date_t  district   subcounty    parish_t   village  \\\n",
       "0    2022-12-17  Kyenjojo  Nyankwanzi  Kaitanyana  Hakabale   \n",
       "1    2022-12-17  Kyenjojo  Nyankwanzi  Kaitanyana  Hakabale   \n",
       "2    2022-12-17  Kyenjojo  Nyankwanzi  Kaitanyana  Hakabale   \n",
       "3    2022-12-17  Kyenjojo  Nyankwanzi  Kaitanyana  Hakabale   \n",
       "4    2022-12-17  Kyenjojo  Nyankwanzi  Kaitanyana  Hakabale   \n",
       "...         ...       ...         ...         ...       ...   \n",
       "1542 2023-09-19  Kyenjojo   Nyantungo       Ntutu    Mugore   \n",
       "1543 2023-09-19  Kyenjojo   Nyantungo       Ntutu    Mugore   \n",
       "1544 2023-09-19  Kyenjojo   Nyantungo       Ntutu   Kihinda   \n",
       "1545 2024-02-23  Kyenjojo   Nyantungo       Ntutu  Bunyonyi   \n",
       "1546 2024-02-23  Kyenjojo   Nyantungo       Ntutu  Bunyonyi   \n",
       "\n",
       "                 surveyor  ...                  hhid           CreationDate  \\\n",
       "0                     NaN  ...  KYE-HAK-DEU-M-125889   6/22/2023 8:12:35 PM   \n",
       "1                     NaN  ...  KYE-HAK-OBE-M-125890   6/22/2023 8:12:35 PM   \n",
       "2                     NaN  ...  KYE-HAK-NAZ-M-125891   6/22/2023 8:12:35 PM   \n",
       "3                     NaN  ...  KYE-HAK-SEP-M-125892   6/22/2023 8:12:35 PM   \n",
       "4                     NaN  ...  KYE-HAK-ESI-F-125893   6/22/2023 8:12:35 PM   \n",
       "...                   ...  ...                   ...                    ...   \n",
       "1542    Contractor_Mugore  ...  Kye-Mug-Ron-M-142405  10/25/2023 8:26:01 AM   \n",
       "1543    Contractor_Mugore  ...  Kye-Mug-Mak-M-143737  10/25/2023 8:26:01 AM   \n",
       "1544   Contractor_Kihinda  ...  Kye-Kih-Ndo-M-152002  10/25/2023 8:26:01 AM   \n",
       "1545  Contractor_Bunyonyi  ...  Kye-Bun-Ste-F-093735   2/23/2024 6:36:34 AM   \n",
       "1546  Contractor_Bunyonyi  ...  Kye-Bun-Emm-M-091247   2/23/2024 6:36:35 AM   \n",
       "\n",
       "          Creator               EditDate       Editor          x         y  \\\n",
       "0     raphael_rtv   6/22/2023 8:12:35 PM  raphael_rtv  30.704327  0.829938   \n",
       "1     raphael_rtv   6/22/2023 8:12:35 PM  raphael_rtv  30.704829  0.830210   \n",
       "2     raphael_rtv   6/22/2023 8:12:35 PM  raphael_rtv  30.704811  0.830217   \n",
       "3     raphael_rtv   6/22/2023 8:12:35 PM  raphael_rtv  30.704928  0.829481   \n",
       "4     raphael_rtv   6/22/2023 8:12:35 PM  raphael_rtv  30.705177  0.829187   \n",
       "...           ...                    ...          ...        ...       ...   \n",
       "1542  raphael_rtv  10/25/2023 8:26:01 AM  raphael_rtv  30.568744  0.579073   \n",
       "1543  raphael_rtv  10/25/2023 8:26:01 AM  raphael_rtv  30.564466  0.580075   \n",
       "1544  raphael_rtv  10/25/2023 8:26:01 AM  raphael_rtv  30.552903  0.590434   \n",
       "1545     rtvstaff   2/23/2024 6:36:34 AM     rtvstaff  30.567400  0.559900   \n",
       "1546     rtvstaff   2/23/2024 6:36:35 AM     rtvstaff  30.644940  0.606495   \n",
       "\n",
       "      Village ID Cohort  cycle  \n",
       "0           1850   2023      2  \n",
       "1           1850   2023      2  \n",
       "2           1850   2023      2  \n",
       "3           1850   2023      2  \n",
       "4           1850   2023      2  \n",
       "...          ...    ...    ...  \n",
       "1542        2271   2024      1  \n",
       "1543        2271   2024      1  \n",
       "1544        2269   2024      1  \n",
       "1545        2268   2024      1  \n",
       "1546        2268   2024      1  \n",
       "\n",
       "[1547 rows x 57 columns]"
      ]
     },
     "execution_count": 20,
     "metadata": {},
     "output_type": "execute_result"
    }
   ],
   "source": [
    "data"
   ]
  },
  {
   "cell_type": "code",
   "execution_count": 21,
   "id": "8d934dc3",
   "metadata": {
    "id": "9bddb919-95d6-4f38-9f3b-ffb36439ae00",
    "slideshow": {
     "slide_type": "fragment"
    }
   },
   "outputs": [],
   "source": [
    "df = df.drop_duplicates('hhid', keep='first')"
   ]
  },
  {
   "cell_type": "code",
   "execution_count": 22,
   "id": "3125c7b7",
   "metadata": {
    "id": "85b6f7a8",
    "outputId": "49dd801c-79d9-42b3-dd17-09d582d1b6d6",
    "slideshow": {
     "slide_type": "fragment"
    }
   },
   "outputs": [
    {
     "data": {
      "text/plain": [
       "Household_Head_Gender\n",
       "Male      1121\n",
       "Female     426\n",
       "Name: count, dtype: int64"
      ]
     },
     "execution_count": 22,
     "metadata": {},
     "output_type": "execute_result"
    }
   ],
   "source": [
    "df['Household_Head_Gender'].value_counts(dropna=False)"
   ]
  },
  {
   "cell_type": "code",
   "execution_count": 23,
   "id": "0bd3f999-51df-4d0c-b162-bc63227059be",
   "metadata": {},
   "outputs": [
    {
     "data": {
      "text/plain": [
       "Household_Head_Gender\n",
       "Male      1121\n",
       "Female     426\n",
       "Name: count, dtype: int64"
      ]
     },
     "execution_count": 23,
     "metadata": {},
     "output_type": "execute_result"
    }
   ],
   "source": [
    "data['Household_Head_Gender'].value_counts()"
   ]
  },
  {
   "cell_type": "code",
   "execution_count": 32,
   "id": "a210539d-e9c9-403c-854b-dddf283a790a",
   "metadata": {},
   "outputs": [],
   "source": [
    "# gender_mapping = {\n",
    "#     'male': 'Male',\n",
    "#     'm':'Male',\n",
    "#     'female': 'Female',\n",
    "#     'f': 'Female',\n",
    "#     'feamale': 'Female',\n",
    "#     'female`': 'Female',\n",
    "#     'femaLe':'Female',\n",
    "#     'femae': 'Female',\n",
    "#     'male ': 'Male'\n",
    "# }"
   ]
  },
  {
   "cell_type": "code",
   "execution_count": 17,
   "id": "e91cea52-6e95-4896-a1cd-461df58922e9",
   "metadata": {},
   "outputs": [],
   "source": [
    "# df['gender'] = df['gender'].str.lower().map(gender_mapping)"
   ]
  },
  {
   "cell_type": "code",
   "execution_count": null,
   "id": "1538dea0-eba2-4d34-a832-cdc0a2098e83",
   "metadata": {},
   "outputs": [],
   "source": []
  },
  {
   "cell_type": "code",
   "execution_count": 25,
   "id": "31943233",
   "metadata": {
    "id": "be91d1c0",
    "slideshow": {
     "slide_type": "fragment"
    }
   },
   "outputs": [],
   "source": [
    "df['HHH_Gender'] = df['Household_Head_Gender']"
   ]
  },
  {
   "cell_type": "code",
   "execution_count": 26,
   "id": "76a44571-8707-416b-87f0-a8ab0417d7cc",
   "metadata": {
    "id": "be91d1c0",
    "slideshow": {
     "slide_type": "fragment"
    }
   },
   "outputs": [
    {
     "data": {
      "text/plain": [
       "HHH_Gender\n",
       "Male      1121\n",
       "Female     426\n",
       "Name: count, dtype: int64"
      ]
     },
     "execution_count": 26,
     "metadata": {},
     "output_type": "execute_result"
    }
   ],
   "source": [
    "df['HHH_Gender'].value_counts(dropna=False)"
   ]
  },
  {
   "cell_type": "code",
   "execution_count": 27,
   "id": "2d96c07e",
   "metadata": {
    "id": "3ea6b1cd",
    "slideshow": {
     "slide_type": "fragment"
    }
   },
   "outputs": [],
   "source": [
    "df['HHH_Gender'] = df.apply(\n",
    "    lambda row: 'Youth Headed' \n",
    "    if row['Household_Head_Age'] <= 30 \n",
    "    else str(row['HHH_Gender']) + ' Headed', axis=1\n",
    ")"
   ]
  },
  {
   "cell_type": "code",
   "execution_count": 28,
   "id": "2f8d71bb-b03b-482e-88fc-78ddce25e1db",
   "metadata": {},
   "outputs": [
    {
     "data": {
      "text/html": [
       "<div>\n",
       "<style scoped>\n",
       "    .dataframe tbody tr th:only-of-type {\n",
       "        vertical-align: middle;\n",
       "    }\n",
       "\n",
       "    .dataframe tbody tr th {\n",
       "        vertical-align: top;\n",
       "    }\n",
       "\n",
       "    .dataframe thead th {\n",
       "        text-align: right;\n",
       "    }\n",
       "</style>\n",
       "<table border=\"1\" class=\"dataframe\">\n",
       "  <thead>\n",
       "    <tr style=\"text-align: right;\">\n",
       "      <th></th>\n",
       "      <th>district</th>\n",
       "      <th>subcounty</th>\n",
       "      <th>parish_t</th>\n",
       "      <th>village</th>\n",
       "      <th>hhh_full_name</th>\n",
       "      <th>Household_Head_Age</th>\n",
       "      <th>Household_Head_Contact</th>\n",
       "      <th>Household_Head_Gender</th>\n",
       "      <th>hhid</th>\n",
       "      <th>HHH_Gender</th>\n",
       "    </tr>\n",
       "  </thead>\n",
       "  <tbody>\n",
       "    <tr>\n",
       "      <th>1532</th>\n",
       "      <td>Kyenjojo</td>\n",
       "      <td>Nyantungo</td>\n",
       "      <td>Ntutu</td>\n",
       "      <td>Kihinda</td>\n",
       "      <td>Beatrace Banura</td>\n",
       "      <td>61</td>\n",
       "      <td>771870173</td>\n",
       "      <td>Female</td>\n",
       "      <td>Kye-Kih-Bea-F-164412</td>\n",
       "      <td>Female Headed</td>\n",
       "    </tr>\n",
       "    <tr>\n",
       "      <th>1533</th>\n",
       "      <td>Kyenjojo</td>\n",
       "      <td>Nyantungo</td>\n",
       "      <td>Ntutu</td>\n",
       "      <td>Kihinda</td>\n",
       "      <td>Selejio Byamukama</td>\n",
       "      <td>38</td>\n",
       "      <td>78194472</td>\n",
       "      <td>Male</td>\n",
       "      <td>Kye-Kih-Sel-M-171104</td>\n",
       "      <td>Male Headed</td>\n",
       "    </tr>\n",
       "    <tr>\n",
       "      <th>1534</th>\n",
       "      <td>Kyenjojo</td>\n",
       "      <td>Nyantungo</td>\n",
       "      <td>Ntutu</td>\n",
       "      <td>Kihinda</td>\n",
       "      <td>Vincent Tuhaise</td>\n",
       "      <td>45</td>\n",
       "      <td>781413202</td>\n",
       "      <td>Male</td>\n",
       "      <td>Kye-Kih-Vin-M-172608</td>\n",
       "      <td>Male Headed</td>\n",
       "    </tr>\n",
       "    <tr>\n",
       "      <th>1535</th>\n",
       "      <td>Kyenjojo</td>\n",
       "      <td>Nyantungo</td>\n",
       "      <td>Ntutu</td>\n",
       "      <td>Kihinda</td>\n",
       "      <td>Jane Kanywani</td>\n",
       "      <td>63</td>\n",
       "      <td>760867126</td>\n",
       "      <td>Female</td>\n",
       "      <td>Kye-Kih-Jan-F-173154</td>\n",
       "      <td>Female Headed</td>\n",
       "    </tr>\n",
       "    <tr>\n",
       "      <th>1536</th>\n",
       "      <td>Kyenjojo</td>\n",
       "      <td>Nyantungo</td>\n",
       "      <td>Ntutu</td>\n",
       "      <td>Kihinda</td>\n",
       "      <td>Bazirio Kiiza</td>\n",
       "      <td>80</td>\n",
       "      <td>776355042</td>\n",
       "      <td>Male</td>\n",
       "      <td>Kye-Kih-Baz-M-175053</td>\n",
       "      <td>Male Headed</td>\n",
       "    </tr>\n",
       "    <tr>\n",
       "      <th>1537</th>\n",
       "      <td>Kyenjojo</td>\n",
       "      <td>Nyantungo</td>\n",
       "      <td>Ntutu</td>\n",
       "      <td>Kihinda</td>\n",
       "      <td>Sebastiano Kusemererwa</td>\n",
       "      <td>31</td>\n",
       "      <td>776355042</td>\n",
       "      <td>Male</td>\n",
       "      <td>Kye-Kih-Seb-M-175811</td>\n",
       "      <td>Male Headed</td>\n",
       "    </tr>\n",
       "    <tr>\n",
       "      <th>1538</th>\n",
       "      <td>Kyenjojo</td>\n",
       "      <td>Nyantungo</td>\n",
       "      <td>Ntutu</td>\n",
       "      <td>Kihinda</td>\n",
       "      <td>Bladinah Kahwa</td>\n",
       "      <td>90</td>\n",
       "      <td>776355042</td>\n",
       "      <td>Female</td>\n",
       "      <td>Kye-Kih-Bla-F-180311</td>\n",
       "      <td>Female Headed</td>\n",
       "    </tr>\n",
       "    <tr>\n",
       "      <th>1539</th>\n",
       "      <td>Kyenjojo</td>\n",
       "      <td>Nyantungo</td>\n",
       "      <td>Ntutu</td>\n",
       "      <td>Kihinda</td>\n",
       "      <td>Bagonza Kegonzi</td>\n",
       "      <td>39</td>\n",
       "      <td>771393477</td>\n",
       "      <td>Female</td>\n",
       "      <td>Kye-Kih-Bag-F-181419</td>\n",
       "      <td>Female Headed</td>\n",
       "    </tr>\n",
       "    <tr>\n",
       "      <th>1540</th>\n",
       "      <td>Kyenjojo</td>\n",
       "      <td>Nyantungo</td>\n",
       "      <td>Ntutu</td>\n",
       "      <td>Kihinda</td>\n",
       "      <td>Christopher Aliganyira</td>\n",
       "      <td>51</td>\n",
       "      <td>784115211</td>\n",
       "      <td>Male</td>\n",
       "      <td>Kye-Kih-Chr-M-183505</td>\n",
       "      <td>Male Headed</td>\n",
       "    </tr>\n",
       "    <tr>\n",
       "      <th>1541</th>\n",
       "      <td>Kyenjojo</td>\n",
       "      <td>Nyantungo</td>\n",
       "      <td>Ntutu</td>\n",
       "      <td>Mugore</td>\n",
       "      <td>Josephine Tibagwa</td>\n",
       "      <td>85</td>\n",
       "      <td>779813094</td>\n",
       "      <td>Female</td>\n",
       "      <td>Kye-Mug-Jos-F-141519</td>\n",
       "      <td>Female Headed</td>\n",
       "    </tr>\n",
       "    <tr>\n",
       "      <th>1542</th>\n",
       "      <td>Kyenjojo</td>\n",
       "      <td>Nyantungo</td>\n",
       "      <td>Ntutu</td>\n",
       "      <td>Mugore</td>\n",
       "      <td>Ronald Akuzibwe</td>\n",
       "      <td>33</td>\n",
       "      <td>759896775</td>\n",
       "      <td>Male</td>\n",
       "      <td>Kye-Mug-Ron-M-142405</td>\n",
       "      <td>Male Headed</td>\n",
       "    </tr>\n",
       "    <tr>\n",
       "      <th>1543</th>\n",
       "      <td>Kyenjojo</td>\n",
       "      <td>Nyantungo</td>\n",
       "      <td>Ntutu</td>\n",
       "      <td>Mugore</td>\n",
       "      <td>Makuru Zeresire</td>\n",
       "      <td>46</td>\n",
       "      <td>774958023</td>\n",
       "      <td>Male</td>\n",
       "      <td>Kye-Mug-Mak-M-143737</td>\n",
       "      <td>Male Headed</td>\n",
       "    </tr>\n",
       "    <tr>\n",
       "      <th>1544</th>\n",
       "      <td>Kyenjojo</td>\n",
       "      <td>Nyantungo</td>\n",
       "      <td>Ntutu</td>\n",
       "      <td>Kihinda</td>\n",
       "      <td>Ndora Kisembo</td>\n",
       "      <td>30</td>\n",
       "      <td>764479643</td>\n",
       "      <td>Male</td>\n",
       "      <td>Kye-Kih-Ndo-M-152002</td>\n",
       "      <td>Youth Headed</td>\n",
       "    </tr>\n",
       "    <tr>\n",
       "      <th>1545</th>\n",
       "      <td>Kyenjojo</td>\n",
       "      <td>Nyantungo</td>\n",
       "      <td>Ntutu</td>\n",
       "      <td>Bunyonyi</td>\n",
       "      <td>Stella Kisembo</td>\n",
       "      <td>48</td>\n",
       "      <td>782331541</td>\n",
       "      <td>Female</td>\n",
       "      <td>Kye-Bun-Ste-F-093735</td>\n",
       "      <td>Female Headed</td>\n",
       "    </tr>\n",
       "    <tr>\n",
       "      <th>1546</th>\n",
       "      <td>Kyenjojo</td>\n",
       "      <td>Nyantungo</td>\n",
       "      <td>Ntutu</td>\n",
       "      <td>Bunyonyi</td>\n",
       "      <td>Emmanuwl Bagonza</td>\n",
       "      <td>25</td>\n",
       "      <td>760176096</td>\n",
       "      <td>Male</td>\n",
       "      <td>Kye-Bun-Emm-M-091247</td>\n",
       "      <td>Youth Headed</td>\n",
       "    </tr>\n",
       "  </tbody>\n",
       "</table>\n",
       "</div>"
      ],
      "text/plain": [
       "      district  subcounty parish_t   village           hhh_full_name  \\\n",
       "1532  Kyenjojo  Nyantungo    Ntutu   Kihinda         Beatrace Banura   \n",
       "1533  Kyenjojo  Nyantungo    Ntutu   Kihinda       Selejio Byamukama   \n",
       "1534  Kyenjojo  Nyantungo    Ntutu   Kihinda         Vincent Tuhaise   \n",
       "1535  Kyenjojo  Nyantungo    Ntutu   Kihinda           Jane Kanywani   \n",
       "1536  Kyenjojo  Nyantungo    Ntutu   Kihinda           Bazirio Kiiza   \n",
       "1537  Kyenjojo  Nyantungo    Ntutu   Kihinda  Sebastiano Kusemererwa   \n",
       "1538  Kyenjojo  Nyantungo    Ntutu   Kihinda          Bladinah Kahwa   \n",
       "1539  Kyenjojo  Nyantungo    Ntutu   Kihinda         Bagonza Kegonzi   \n",
       "1540  Kyenjojo  Nyantungo    Ntutu   Kihinda  Christopher Aliganyira   \n",
       "1541  Kyenjojo  Nyantungo    Ntutu    Mugore       Josephine Tibagwa   \n",
       "1542  Kyenjojo  Nyantungo    Ntutu    Mugore         Ronald Akuzibwe   \n",
       "1543  Kyenjojo  Nyantungo    Ntutu    Mugore         Makuru Zeresire   \n",
       "1544  Kyenjojo  Nyantungo    Ntutu   Kihinda           Ndora Kisembo   \n",
       "1545  Kyenjojo  Nyantungo    Ntutu  Bunyonyi          Stella Kisembo   \n",
       "1546  Kyenjojo  Nyantungo    Ntutu  Bunyonyi        Emmanuwl Bagonza   \n",
       "\n",
       "      Household_Head_Age  Household_Head_Contact Household_Head_Gender  \\\n",
       "1532                  61               771870173                Female   \n",
       "1533                  38                78194472                  Male   \n",
       "1534                  45               781413202                  Male   \n",
       "1535                  63               760867126                Female   \n",
       "1536                  80               776355042                  Male   \n",
       "1537                  31               776355042                  Male   \n",
       "1538                  90               776355042                Female   \n",
       "1539                  39               771393477                Female   \n",
       "1540                  51               784115211                  Male   \n",
       "1541                  85               779813094                Female   \n",
       "1542                  33               759896775                  Male   \n",
       "1543                  46               774958023                  Male   \n",
       "1544                  30               764479643                  Male   \n",
       "1545                  48               782331541                Female   \n",
       "1546                  25               760176096                  Male   \n",
       "\n",
       "                      hhid     HHH_Gender  \n",
       "1532  Kye-Kih-Bea-F-164412  Female Headed  \n",
       "1533  Kye-Kih-Sel-M-171104    Male Headed  \n",
       "1534  Kye-Kih-Vin-M-172608    Male Headed  \n",
       "1535  Kye-Kih-Jan-F-173154  Female Headed  \n",
       "1536  Kye-Kih-Baz-M-175053    Male Headed  \n",
       "1537  Kye-Kih-Seb-M-175811    Male Headed  \n",
       "1538  Kye-Kih-Bla-F-180311  Female Headed  \n",
       "1539  Kye-Kih-Bag-F-181419  Female Headed  \n",
       "1540  Kye-Kih-Chr-M-183505    Male Headed  \n",
       "1541  Kye-Mug-Jos-F-141519  Female Headed  \n",
       "1542  Kye-Mug-Ron-M-142405    Male Headed  \n",
       "1543  Kye-Mug-Mak-M-143737    Male Headed  \n",
       "1544  Kye-Kih-Ndo-M-152002   Youth Headed  \n",
       "1545  Kye-Bun-Ste-F-093735  Female Headed  \n",
       "1546  Kye-Bun-Emm-M-091247   Youth Headed  "
      ]
     },
     "execution_count": 28,
     "metadata": {},
     "output_type": "execute_result"
    }
   ],
   "source": [
    "df.tail(15)"
   ]
  },
  {
   "cell_type": "code",
   "execution_count": null,
   "id": "b7808c2c-a907-4c83-ac74-217c4dd8bb3c",
   "metadata": {},
   "outputs": [],
   "source": []
  },
  {
   "cell_type": "code",
   "execution_count": 29,
   "id": "0747407e-4ca7-4958-960b-f87530d7e73a",
   "metadata": {
    "id": "be91d1c0",
    "slideshow": {
     "slide_type": "fragment"
    }
   },
   "outputs": [
    {
     "data": {
      "text/plain": [
       "HHH_Gender\n",
       "Male Headed      773\n",
       "Youth Headed     411\n",
       "Female Headed    363\n",
       "Name: count, dtype: int64"
      ]
     },
     "execution_count": 29,
     "metadata": {},
     "output_type": "execute_result"
    }
   ],
   "source": [
    "df['HHH_Gender'].value_counts()"
   ]
  },
  {
   "cell_type": "markdown",
   "id": "9a113438",
   "metadata": {
    "slideshow": {
     "slide_type": "notes"
    }
   },
   "source": [
    "The code below does exactly what we have done above, but you realize it's more complex than the latter. You might not prefer this but its good to understand how functions work because sometimes they are the deal."
   ]
  },
  {
   "cell_type": "code",
   "execution_count": 30,
   "id": "b78f873c",
   "metadata": {
    "slideshow": {
     "slide_type": "fragment"
    }
   },
   "outputs": [],
   "source": [
    "# def add_age(df, gender, age):\n",
    "#     for index, row in df.iterrows():\n",
    "#         if row[age] <= 30:\n",
    "#             df.at[index, gender] = 'Youth Headed'\n",
    "#         else:\n",
    "#             df.at[index, gender] = str(row[variable]) + ' Headed'"
   ]
  },
  {
   "cell_type": "markdown",
   "id": "2f6f16b3",
   "metadata": {
    "slideshow": {
     "slide_type": "notes"
    }
   },
   "source": [
    "We can apply the function like this by passing in the parameters, I did both ways, but the first one is even faster than this."
   ]
  },
  {
   "cell_type": "code",
   "execution_count": 31,
   "id": "d240ea40",
   "metadata": {
    "slideshow": {
     "slide_type": "fragment"
    }
   },
   "outputs": [],
   "source": [
    "# add_age(df, 'Household_Head_Gender','Household_Head_Age')"
   ]
  },
  {
   "cell_type": "code",
   "execution_count": 32,
   "id": "e0bd4fef",
   "metadata": {
    "slideshow": {
     "slide_type": "slide"
    }
   },
   "outputs": [
    {
     "data": {
      "text/html": [
       "<div>\n",
       "<style scoped>\n",
       "    .dataframe tbody tr th:only-of-type {\n",
       "        vertical-align: middle;\n",
       "    }\n",
       "\n",
       "    .dataframe tbody tr th {\n",
       "        vertical-align: top;\n",
       "    }\n",
       "\n",
       "    .dataframe thead th {\n",
       "        text-align: right;\n",
       "    }\n",
       "</style>\n",
       "<table border=\"1\" class=\"dataframe\">\n",
       "  <thead>\n",
       "    <tr style=\"text-align: right;\">\n",
       "      <th></th>\n",
       "      <th>district</th>\n",
       "      <th>subcounty</th>\n",
       "      <th>parish_t</th>\n",
       "      <th>village</th>\n",
       "      <th>hhh_full_name</th>\n",
       "      <th>Household_Head_Age</th>\n",
       "      <th>Household_Head_Contact</th>\n",
       "      <th>Household_Head_Gender</th>\n",
       "      <th>hhid</th>\n",
       "      <th>HHH_Gender</th>\n",
       "    </tr>\n",
       "  </thead>\n",
       "  <tbody>\n",
       "    <tr>\n",
       "      <th>0</th>\n",
       "      <td>Kyenjojo</td>\n",
       "      <td>Nyankwanzi</td>\n",
       "      <td>Kaitanyana</td>\n",
       "      <td>Hakabale</td>\n",
       "      <td>Deusident Sheria</td>\n",
       "      <td>31</td>\n",
       "      <td>771029023</td>\n",
       "      <td>Male</td>\n",
       "      <td>KYE-HAK-DEU-M-125889</td>\n",
       "      <td>Male Headed</td>\n",
       "    </tr>\n",
       "    <tr>\n",
       "      <th>1</th>\n",
       "      <td>Kyenjojo</td>\n",
       "      <td>Nyankwanzi</td>\n",
       "      <td>Kaitanyana</td>\n",
       "      <td>Hakabale</td>\n",
       "      <td>Obed Nyinengago</td>\n",
       "      <td>62</td>\n",
       "      <td>760526192</td>\n",
       "      <td>Male</td>\n",
       "      <td>KYE-HAK-OBE-M-125890</td>\n",
       "      <td>Male Headed</td>\n",
       "    </tr>\n",
       "    <tr>\n",
       "      <th>2</th>\n",
       "      <td>Kyenjojo</td>\n",
       "      <td>Nyankwanzi</td>\n",
       "      <td>Kaitanyana</td>\n",
       "      <td>Hakabale</td>\n",
       "      <td>Nazario Tumwekwase</td>\n",
       "      <td>58</td>\n",
       "      <td>99</td>\n",
       "      <td>Male</td>\n",
       "      <td>KYE-HAK-NAZ-M-125891</td>\n",
       "      <td>Male Headed</td>\n",
       "    </tr>\n",
       "    <tr>\n",
       "      <th>3</th>\n",
       "      <td>Kyenjojo</td>\n",
       "      <td>Nyankwanzi</td>\n",
       "      <td>Kaitanyana</td>\n",
       "      <td>Hakabale</td>\n",
       "      <td>Sepirion Byaruhanga</td>\n",
       "      <td>29</td>\n",
       "      <td>785630500</td>\n",
       "      <td>Male</td>\n",
       "      <td>KYE-HAK-SEP-M-125892</td>\n",
       "      <td>Youth Headed</td>\n",
       "    </tr>\n",
       "    <tr>\n",
       "      <th>4</th>\n",
       "      <td>Kyenjojo</td>\n",
       "      <td>Nyankwanzi</td>\n",
       "      <td>Kaitanyana</td>\n",
       "      <td>Hakabale</td>\n",
       "      <td>Esiter Kyarisiima</td>\n",
       "      <td>40</td>\n",
       "      <td>779433461</td>\n",
       "      <td>Female</td>\n",
       "      <td>KYE-HAK-ESI-F-125893</td>\n",
       "      <td>Female Headed</td>\n",
       "    </tr>\n",
       "  </tbody>\n",
       "</table>\n",
       "</div>"
      ],
      "text/plain": [
       "   district   subcounty    parish_t   village        hhh_full_name  \\\n",
       "0  Kyenjojo  Nyankwanzi  Kaitanyana  Hakabale     Deusident Sheria   \n",
       "1  Kyenjojo  Nyankwanzi  Kaitanyana  Hakabale      Obed Nyinengago   \n",
       "2  Kyenjojo  Nyankwanzi  Kaitanyana  Hakabale   Nazario Tumwekwase   \n",
       "3  Kyenjojo  Nyankwanzi  Kaitanyana  Hakabale  Sepirion Byaruhanga   \n",
       "4  Kyenjojo  Nyankwanzi  Kaitanyana  Hakabale    Esiter Kyarisiima   \n",
       "\n",
       "   Household_Head_Age  Household_Head_Contact Household_Head_Gender  \\\n",
       "0                  31               771029023                  Male   \n",
       "1                  62               760526192                  Male   \n",
       "2                  58                      99                  Male   \n",
       "3                  29               785630500                  Male   \n",
       "4                  40               779433461                Female   \n",
       "\n",
       "                   hhid     HHH_Gender  \n",
       "0  KYE-HAK-DEU-M-125889    Male Headed  \n",
       "1  KYE-HAK-OBE-M-125890    Male Headed  \n",
       "2  KYE-HAK-NAZ-M-125891    Male Headed  \n",
       "3  KYE-HAK-SEP-M-125892   Youth Headed  \n",
       "4  KYE-HAK-ESI-F-125893  Female Headed  "
      ]
     },
     "execution_count": 32,
     "metadata": {},
     "output_type": "execute_result"
    }
   ],
   "source": [
    "df.head()"
   ]
  },
  {
   "cell_type": "code",
   "execution_count": 33,
   "id": "6bd9d4e3",
   "metadata": {
    "slideshow": {
     "slide_type": "slide"
    }
   },
   "outputs": [],
   "source": [
    "# df['Household_Head_Gender'] = df['gender']"
   ]
  },
  {
   "cell_type": "code",
   "execution_count": 34,
   "id": "fb265791-7a8f-4d79-9e72-9deaec626e77",
   "metadata": {},
   "outputs": [],
   "source": [
    "# df.drop(columns=['gender','HHH_Gender'], inplace=True)"
   ]
  },
  {
   "cell_type": "code",
   "execution_count": 35,
   "id": "7b5b5d9a-6a4d-487c-8fa2-61b06cc62d14",
   "metadata": {
    "slideshow": {
     "slide_type": "slide"
    }
   },
   "outputs": [
    {
     "data": {
      "text/plain": [
       "HHH_Gender\n",
       "Male Headed      773\n",
       "Youth Headed     411\n",
       "Female Headed    363\n",
       "Name: count, dtype: int64"
      ]
     },
     "execution_count": 35,
     "metadata": {},
     "output_type": "execute_result"
    }
   ],
   "source": [
    "df['HHH_Gender'].value_counts()"
   ]
  },
  {
   "cell_type": "code",
   "execution_count": 36,
   "id": "c694da25",
   "metadata": {
    "id": "1d3bf62c",
    "slideshow": {
     "slide_type": "fragment"
    }
   },
   "outputs": [],
   "source": [
    "male_HH_samp_frame = df[df['HHH_Gender']=='Male Headed']\n",
    "female_HH_samp_frame = df[df['HHH_Gender']=='Female Headed']\n",
    "youth_HH_samp_frame = df[df['HHH_Gender']=='Youth Headed']"
   ]
  },
  {
   "cell_type": "code",
   "execution_count": 37,
   "id": "e706e142",
   "metadata": {
    "id": "4a3eb44f",
    "outputId": "35f6d981-43af-4cbe-b4a8-3c08b6b3bea5",
    "slideshow": {
     "slide_type": "fragment"
    }
   },
   "outputs": [
    {
     "data": {
      "text/plain": [
       "((773, 10), (363, 10), (411, 10))"
      ]
     },
     "execution_count": 37,
     "metadata": {},
     "output_type": "execute_result"
    }
   ],
   "source": [
    "male_HH_samp_frame.shape, female_HH_samp_frame.shape, youth_HH_samp_frame.shape"
   ]
  },
  {
   "cell_type": "markdown",
   "id": "eda830d9",
   "metadata": {
    "id": "0176c5b5",
    "slideshow": {
     "slide_type": "slide"
    }
   },
   "source": [
    "## Male Headed"
   ]
  },
  {
   "cell_type": "code",
   "execution_count": 38,
   "id": "47d4e988",
   "metadata": {
    "id": "09ad1f5f",
    "outputId": "952886ac-1990-454b-aa24-2e0c0f8025e0",
    "slideshow": {
     "slide_type": "fragment"
    }
   },
   "outputs": [
    {
     "data": {
      "text/plain": [
       "773"
      ]
     },
     "execution_count": 38,
     "metadata": {},
     "output_type": "execute_result"
    }
   ],
   "source": [
    "len(male_HH_samp_frame)"
   ]
  },
  {
   "cell_type": "code",
   "execution_count": 39,
   "id": "3d51d576",
   "metadata": {
    "id": "80e33997",
    "slideshow": {
     "slide_type": "fragment"
    }
   },
   "outputs": [
    {
     "data": {
      "text/plain": [
       "9"
      ]
     },
     "execution_count": 39,
     "metadata": {},
     "output_type": "execute_result"
    }
   ],
   "source": [
    "sample_size = 9\n",
    "sample_size"
   ]
  },
  {
   "cell_type": "code",
   "execution_count": 40,
   "id": "3da2fc32",
   "metadata": {
    "id": "9a82b082-bc13-450a-98ff-904b3b330e5e",
    "slideshow": {
     "slide_type": "slide"
    }
   },
   "outputs": [],
   "source": [
    "def custom_sample(x):\n",
    "    return x.sample(n=min(len(x), 9))"
   ]
  },
  {
   "cell_type": "markdown",
   "id": "173b8c5b",
   "metadata": {
    "slideshow": {
     "slide_type": "notes"
    }
   },
   "source": [
    "Apply just works as our old lambda function, whereby you can "
   ]
  },
  {
   "cell_type": "code",
   "execution_count": 41,
   "id": "b43502e9",
   "metadata": {
    "id": "c106d912-658c-4179-ab1d-41a5a2ccffd3",
    "slideshow": {
     "slide_type": "fragment"
    }
   },
   "outputs": [
    {
     "name": "stderr",
     "output_type": "stream",
     "text": [
      "/var/folders/xd/0btgr76j2zxc4__ynw0yhwbm0000gn/T/ipykernel_49344/2781854579.py:1: DeprecationWarning: DataFrameGroupBy.apply operated on the grouping columns. This behavior is deprecated, and in a future version of pandas the grouping columns will be excluded from the operation. Either pass `include_groups=False` to exclude the groupings or explicitly select the grouping columns after groupby to silence this warning.\n",
      "  male_target_sample = male_HH_samp_frame.groupby('village', group_keys=False).apply(custom_sample)\n"
     ]
    }
   ],
   "source": [
    "male_target_sample = male_HH_samp_frame.groupby('village', group_keys=False).apply(custom_sample)"
   ]
  },
  {
   "cell_type": "code",
   "execution_count": 42,
   "id": "1d6fcdbd",
   "metadata": {
    "id": "e3dd4d40",
    "outputId": "f22abf60-8a0c-4a11-f22c-0d8591d9ac56",
    "slideshow": {
     "slide_type": "fragment"
    }
   },
   "outputs": [
    {
     "data": {
      "text/plain": [
       "153"
      ]
     },
     "execution_count": 42,
     "metadata": {},
     "output_type": "execute_result"
    }
   ],
   "source": [
    "len(male_target_sample)"
   ]
  },
  {
   "cell_type": "code",
   "execution_count": 43,
   "id": "ec8237b7-6188-4265-bbef-f6fad9476c8f",
   "metadata": {},
   "outputs": [
    {
     "data": {
      "text/html": [
       "<div>\n",
       "<style scoped>\n",
       "    .dataframe tbody tr th:only-of-type {\n",
       "        vertical-align: middle;\n",
       "    }\n",
       "\n",
       "    .dataframe tbody tr th {\n",
       "        vertical-align: top;\n",
       "    }\n",
       "\n",
       "    .dataframe thead th {\n",
       "        text-align: right;\n",
       "    }\n",
       "</style>\n",
       "<table border=\"1\" class=\"dataframe\">\n",
       "  <thead>\n",
       "    <tr style=\"text-align: right;\">\n",
       "      <th></th>\n",
       "      <th>district</th>\n",
       "      <th>subcounty</th>\n",
       "      <th>parish_t</th>\n",
       "      <th>village</th>\n",
       "      <th>hhh_full_name</th>\n",
       "      <th>Household_Head_Age</th>\n",
       "      <th>Household_Head_Contact</th>\n",
       "      <th>Household_Head_Gender</th>\n",
       "      <th>hhid</th>\n",
       "      <th>HHH_Gender</th>\n",
       "    </tr>\n",
       "  </thead>\n",
       "  <tbody>\n",
       "    <tr>\n",
       "      <th>0</th>\n",
       "      <td>Kyenjojo</td>\n",
       "      <td>Nyankwanzi</td>\n",
       "      <td>Kaitanyana</td>\n",
       "      <td>Hakabale</td>\n",
       "      <td>Deusident Sheria</td>\n",
       "      <td>31</td>\n",
       "      <td>771029023</td>\n",
       "      <td>Male</td>\n",
       "      <td>KYE-HAK-DEU-M-125889</td>\n",
       "      <td>Male Headed</td>\n",
       "    </tr>\n",
       "    <tr>\n",
       "      <th>1</th>\n",
       "      <td>Kyenjojo</td>\n",
       "      <td>Nyankwanzi</td>\n",
       "      <td>Kaitanyana</td>\n",
       "      <td>Hakabale</td>\n",
       "      <td>Obed Nyinengago</td>\n",
       "      <td>62</td>\n",
       "      <td>760526192</td>\n",
       "      <td>Male</td>\n",
       "      <td>KYE-HAK-OBE-M-125890</td>\n",
       "      <td>Male Headed</td>\n",
       "    </tr>\n",
       "    <tr>\n",
       "      <th>2</th>\n",
       "      <td>Kyenjojo</td>\n",
       "      <td>Nyankwanzi</td>\n",
       "      <td>Kaitanyana</td>\n",
       "      <td>Hakabale</td>\n",
       "      <td>Nazario Tumwekwase</td>\n",
       "      <td>58</td>\n",
       "      <td>99</td>\n",
       "      <td>Male</td>\n",
       "      <td>KYE-HAK-NAZ-M-125891</td>\n",
       "      <td>Male Headed</td>\n",
       "    </tr>\n",
       "    <tr>\n",
       "      <th>5</th>\n",
       "      <td>Kyenjojo</td>\n",
       "      <td>Nyankwanzi</td>\n",
       "      <td>Kaitanyana</td>\n",
       "      <td>Hakabale</td>\n",
       "      <td>Pulikariko Kabagabe</td>\n",
       "      <td>52</td>\n",
       "      <td>999</td>\n",
       "      <td>Male</td>\n",
       "      <td>KYE-HAK-PUL-M-125894</td>\n",
       "      <td>Male Headed</td>\n",
       "    </tr>\n",
       "    <tr>\n",
       "      <th>6</th>\n",
       "      <td>Kyenjojo</td>\n",
       "      <td>Nyankwanzi</td>\n",
       "      <td>Kaitanyana</td>\n",
       "      <td>Nyabirungi_Kaitanyana</td>\n",
       "      <td>Bahati Bazomanza</td>\n",
       "      <td>43</td>\n",
       "      <td>761858585</td>\n",
       "      <td>Male</td>\n",
       "      <td>KYE-NYA-BAH-M-125586</td>\n",
       "      <td>Male Headed</td>\n",
       "    </tr>\n",
       "    <tr>\n",
       "      <th>...</th>\n",
       "      <td>...</td>\n",
       "      <td>...</td>\n",
       "      <td>...</td>\n",
       "      <td>...</td>\n",
       "      <td>...</td>\n",
       "      <td>...</td>\n",
       "      <td>...</td>\n",
       "      <td>...</td>\n",
       "      <td>...</td>\n",
       "      <td>...</td>\n",
       "    </tr>\n",
       "    <tr>\n",
       "      <th>1536</th>\n",
       "      <td>Kyenjojo</td>\n",
       "      <td>Nyantungo</td>\n",
       "      <td>Ntutu</td>\n",
       "      <td>Kihinda</td>\n",
       "      <td>Bazirio Kiiza</td>\n",
       "      <td>80</td>\n",
       "      <td>776355042</td>\n",
       "      <td>Male</td>\n",
       "      <td>Kye-Kih-Baz-M-175053</td>\n",
       "      <td>Male Headed</td>\n",
       "    </tr>\n",
       "    <tr>\n",
       "      <th>1537</th>\n",
       "      <td>Kyenjojo</td>\n",
       "      <td>Nyantungo</td>\n",
       "      <td>Ntutu</td>\n",
       "      <td>Kihinda</td>\n",
       "      <td>Sebastiano Kusemererwa</td>\n",
       "      <td>31</td>\n",
       "      <td>776355042</td>\n",
       "      <td>Male</td>\n",
       "      <td>Kye-Kih-Seb-M-175811</td>\n",
       "      <td>Male Headed</td>\n",
       "    </tr>\n",
       "    <tr>\n",
       "      <th>1540</th>\n",
       "      <td>Kyenjojo</td>\n",
       "      <td>Nyantungo</td>\n",
       "      <td>Ntutu</td>\n",
       "      <td>Kihinda</td>\n",
       "      <td>Christopher Aliganyira</td>\n",
       "      <td>51</td>\n",
       "      <td>784115211</td>\n",
       "      <td>Male</td>\n",
       "      <td>Kye-Kih-Chr-M-183505</td>\n",
       "      <td>Male Headed</td>\n",
       "    </tr>\n",
       "    <tr>\n",
       "      <th>1542</th>\n",
       "      <td>Kyenjojo</td>\n",
       "      <td>Nyantungo</td>\n",
       "      <td>Ntutu</td>\n",
       "      <td>Mugore</td>\n",
       "      <td>Ronald Akuzibwe</td>\n",
       "      <td>33</td>\n",
       "      <td>759896775</td>\n",
       "      <td>Male</td>\n",
       "      <td>Kye-Mug-Ron-M-142405</td>\n",
       "      <td>Male Headed</td>\n",
       "    </tr>\n",
       "    <tr>\n",
       "      <th>1543</th>\n",
       "      <td>Kyenjojo</td>\n",
       "      <td>Nyantungo</td>\n",
       "      <td>Ntutu</td>\n",
       "      <td>Mugore</td>\n",
       "      <td>Makuru Zeresire</td>\n",
       "      <td>46</td>\n",
       "      <td>774958023</td>\n",
       "      <td>Male</td>\n",
       "      <td>Kye-Mug-Mak-M-143737</td>\n",
       "      <td>Male Headed</td>\n",
       "    </tr>\n",
       "  </tbody>\n",
       "</table>\n",
       "<p>773 rows × 10 columns</p>\n",
       "</div>"
      ],
      "text/plain": [
       "      district   subcounty    parish_t                village  \\\n",
       "0     Kyenjojo  Nyankwanzi  Kaitanyana               Hakabale   \n",
       "1     Kyenjojo  Nyankwanzi  Kaitanyana               Hakabale   \n",
       "2     Kyenjojo  Nyankwanzi  Kaitanyana               Hakabale   \n",
       "5     Kyenjojo  Nyankwanzi  Kaitanyana               Hakabale   \n",
       "6     Kyenjojo  Nyankwanzi  Kaitanyana  Nyabirungi_Kaitanyana   \n",
       "...        ...         ...         ...                    ...   \n",
       "1536  Kyenjojo   Nyantungo       Ntutu                Kihinda   \n",
       "1537  Kyenjojo   Nyantungo       Ntutu                Kihinda   \n",
       "1540  Kyenjojo   Nyantungo       Ntutu                Kihinda   \n",
       "1542  Kyenjojo   Nyantungo       Ntutu                 Mugore   \n",
       "1543  Kyenjojo   Nyantungo       Ntutu                 Mugore   \n",
       "\n",
       "               hhh_full_name  Household_Head_Age  Household_Head_Contact  \\\n",
       "0           Deusident Sheria                  31               771029023   \n",
       "1            Obed Nyinengago                  62               760526192   \n",
       "2         Nazario Tumwekwase                  58                      99   \n",
       "5        Pulikariko Kabagabe                  52                     999   \n",
       "6           Bahati Bazomanza                  43               761858585   \n",
       "...                      ...                 ...                     ...   \n",
       "1536           Bazirio Kiiza                  80               776355042   \n",
       "1537  Sebastiano Kusemererwa                  31               776355042   \n",
       "1540  Christopher Aliganyira                  51               784115211   \n",
       "1542         Ronald Akuzibwe                  33               759896775   \n",
       "1543         Makuru Zeresire                  46               774958023   \n",
       "\n",
       "     Household_Head_Gender                  hhid   HHH_Gender  \n",
       "0                     Male  KYE-HAK-DEU-M-125889  Male Headed  \n",
       "1                     Male  KYE-HAK-OBE-M-125890  Male Headed  \n",
       "2                     Male  KYE-HAK-NAZ-M-125891  Male Headed  \n",
       "5                     Male  KYE-HAK-PUL-M-125894  Male Headed  \n",
       "6                     Male  KYE-NYA-BAH-M-125586  Male Headed  \n",
       "...                    ...                   ...          ...  \n",
       "1536                  Male  Kye-Kih-Baz-M-175053  Male Headed  \n",
       "1537                  Male  Kye-Kih-Seb-M-175811  Male Headed  \n",
       "1540                  Male  Kye-Kih-Chr-M-183505  Male Headed  \n",
       "1542                  Male  Kye-Mug-Ron-M-142405  Male Headed  \n",
       "1543                  Male  Kye-Mug-Mak-M-143737  Male Headed  \n",
       "\n",
       "[773 rows x 10 columns]"
      ]
     },
     "execution_count": 43,
     "metadata": {},
     "output_type": "execute_result"
    }
   ],
   "source": [
    "male_HH_samp_frame"
   ]
  },
  {
   "cell_type": "markdown",
   "id": "8bce7f95",
   "metadata": {
    "slideshow": {
     "slide_type": "slide"
    }
   },
   "source": [
    "We can generate a new column and assign a value target"
   ]
  },
  {
   "cell_type": "code",
   "execution_count": 44,
   "id": "631d9c02",
   "metadata": {
    "id": "50f5ae21",
    "slideshow": {
     "slide_type": "fragment"
    }
   },
   "outputs": [],
   "source": [
    "male_target_sample['status'] = 'target'"
   ]
  },
  {
   "cell_type": "code",
   "execution_count": 45,
   "id": "3a01bb12-18ae-49a1-91d0-8a4fb2beae46",
   "metadata": {},
   "outputs": [
    {
     "data": {
      "text/html": [
       "<div>\n",
       "<style scoped>\n",
       "    .dataframe tbody tr th:only-of-type {\n",
       "        vertical-align: middle;\n",
       "    }\n",
       "\n",
       "    .dataframe tbody tr th {\n",
       "        vertical-align: top;\n",
       "    }\n",
       "\n",
       "    .dataframe thead th {\n",
       "        text-align: right;\n",
       "    }\n",
       "</style>\n",
       "<table border=\"1\" class=\"dataframe\">\n",
       "  <thead>\n",
       "    <tr style=\"text-align: right;\">\n",
       "      <th></th>\n",
       "      <th>district</th>\n",
       "      <th>subcounty</th>\n",
       "      <th>parish_t</th>\n",
       "      <th>village</th>\n",
       "      <th>hhh_full_name</th>\n",
       "      <th>Household_Head_Age</th>\n",
       "      <th>Household_Head_Contact</th>\n",
       "      <th>Household_Head_Gender</th>\n",
       "      <th>hhid</th>\n",
       "      <th>HHH_Gender</th>\n",
       "      <th>status</th>\n",
       "    </tr>\n",
       "  </thead>\n",
       "  <tbody>\n",
       "    <tr>\n",
       "      <th>870</th>\n",
       "      <td>Kyenjojo</td>\n",
       "      <td>Nyantungo</td>\n",
       "      <td>Mabaale</td>\n",
       "      <td>Buhisi</td>\n",
       "      <td>Jonhson Akugizibwe</td>\n",
       "      <td>40</td>\n",
       "      <td>784645625</td>\n",
       "      <td>Male</td>\n",
       "      <td>KYE-BUH-JON-M-103445</td>\n",
       "      <td>Male Headed</td>\n",
       "      <td>target</td>\n",
       "    </tr>\n",
       "    <tr>\n",
       "      <th>986</th>\n",
       "      <td>Kyenjojo</td>\n",
       "      <td>Nyantungo</td>\n",
       "      <td>Mabaale</td>\n",
       "      <td>Buhisi</td>\n",
       "      <td>Samuel Alituha</td>\n",
       "      <td>43</td>\n",
       "      <td>771843824</td>\n",
       "      <td>Male</td>\n",
       "      <td>KYE-BUH-SAM-M-132747</td>\n",
       "      <td>Male Headed</td>\n",
       "      <td>target</td>\n",
       "    </tr>\n",
       "    <tr>\n",
       "      <th>888</th>\n",
       "      <td>Kyenjojo</td>\n",
       "      <td>Nyantungo</td>\n",
       "      <td>Mabaale</td>\n",
       "      <td>Buhisi</td>\n",
       "      <td>Aloziyo Alimanya</td>\n",
       "      <td>45</td>\n",
       "      <td>787146024</td>\n",
       "      <td>Male</td>\n",
       "      <td>KYE-BUH-ALO-M-124100</td>\n",
       "      <td>Male Headed</td>\n",
       "      <td>target</td>\n",
       "    </tr>\n",
       "    <tr>\n",
       "      <th>972</th>\n",
       "      <td>Kyenjojo</td>\n",
       "      <td>Nyantungo</td>\n",
       "      <td>Mabaale</td>\n",
       "      <td>Buhisi</td>\n",
       "      <td>Murungi Mwesige</td>\n",
       "      <td>31</td>\n",
       "      <td>779147694</td>\n",
       "      <td>Male</td>\n",
       "      <td>KYE-BUH-MUR-M-114444</td>\n",
       "      <td>Male Headed</td>\n",
       "      <td>target</td>\n",
       "    </tr>\n",
       "    <tr>\n",
       "      <th>1012</th>\n",
       "      <td>Kyenjojo</td>\n",
       "      <td>Nyantungo</td>\n",
       "      <td>Mabaale</td>\n",
       "      <td>Buhisi</td>\n",
       "      <td>Stephen Bunage</td>\n",
       "      <td>60</td>\n",
       "      <td>772683306</td>\n",
       "      <td>Male</td>\n",
       "      <td>KYE-BUH-STE-M-103139</td>\n",
       "      <td>Male Headed</td>\n",
       "      <td>target</td>\n",
       "    </tr>\n",
       "    <tr>\n",
       "      <th>...</th>\n",
       "      <td>...</td>\n",
       "      <td>...</td>\n",
       "      <td>...</td>\n",
       "      <td>...</td>\n",
       "      <td>...</td>\n",
       "      <td>...</td>\n",
       "      <td>...</td>\n",
       "      <td>...</td>\n",
       "      <td>...</td>\n",
       "      <td>...</td>\n",
       "      <td>...</td>\n",
       "    </tr>\n",
       "    <tr>\n",
       "      <th>741</th>\n",
       "      <td>Kyenjojo</td>\n",
       "      <td>Nyantungo</td>\n",
       "      <td>Mabaale</td>\n",
       "      <td>Nyarugongo</td>\n",
       "      <td>Richard Kiiza</td>\n",
       "      <td>38</td>\n",
       "      <td>761530125</td>\n",
       "      <td>Male</td>\n",
       "      <td>KYE-NYA-RIC-M-145702</td>\n",
       "      <td>Male Headed</td>\n",
       "      <td>target</td>\n",
       "    </tr>\n",
       "    <tr>\n",
       "      <th>712</th>\n",
       "      <td>Kyenjojo</td>\n",
       "      <td>Nyantungo</td>\n",
       "      <td>Mabaale</td>\n",
       "      <td>Nyarugongo</td>\n",
       "      <td>Christopher Akugizibwe</td>\n",
       "      <td>34</td>\n",
       "      <td>787826592</td>\n",
       "      <td>Male</td>\n",
       "      <td>KYE-NYA-CHR-M-094902</td>\n",
       "      <td>Male Headed</td>\n",
       "      <td>target</td>\n",
       "    </tr>\n",
       "    <tr>\n",
       "      <th>713</th>\n",
       "      <td>Kyenjojo</td>\n",
       "      <td>Nyantungo</td>\n",
       "      <td>Mabaale</td>\n",
       "      <td>Nyarugongo</td>\n",
       "      <td>John Byaruhanga</td>\n",
       "      <td>62</td>\n",
       "      <td>774340771</td>\n",
       "      <td>Male</td>\n",
       "      <td>KYE-NYA-JOH-M-095637</td>\n",
       "      <td>Male Headed</td>\n",
       "      <td>target</td>\n",
       "    </tr>\n",
       "    <tr>\n",
       "      <th>1062</th>\n",
       "      <td>Kyenjojo</td>\n",
       "      <td>Nyantungo</td>\n",
       "      <td>Mabaale</td>\n",
       "      <td>Nyarugongo</td>\n",
       "      <td>Francis Aliganyira</td>\n",
       "      <td>48</td>\n",
       "      <td>991</td>\n",
       "      <td>Male</td>\n",
       "      <td>KYE-NYA-FRA-M-171103</td>\n",
       "      <td>Male Headed</td>\n",
       "      <td>target</td>\n",
       "    </tr>\n",
       "    <tr>\n",
       "      <th>725</th>\n",
       "      <td>Kyenjojo</td>\n",
       "      <td>Nyantungo</td>\n",
       "      <td>Mabaale</td>\n",
       "      <td>Nyarugongo</td>\n",
       "      <td>Kaija Busobozi</td>\n",
       "      <td>33</td>\n",
       "      <td>775414974</td>\n",
       "      <td>Male</td>\n",
       "      <td>KYE-NYA-KAI-M-113930</td>\n",
       "      <td>Male Headed</td>\n",
       "      <td>target</td>\n",
       "    </tr>\n",
       "  </tbody>\n",
       "</table>\n",
       "<p>153 rows × 11 columns</p>\n",
       "</div>"
      ],
      "text/plain": [
       "      district  subcounty parish_t     village           hhh_full_name  \\\n",
       "870   Kyenjojo  Nyantungo  Mabaale      Buhisi      Jonhson Akugizibwe   \n",
       "986   Kyenjojo  Nyantungo  Mabaale      Buhisi          Samuel Alituha   \n",
       "888   Kyenjojo  Nyantungo  Mabaale      Buhisi        Aloziyo Alimanya   \n",
       "972   Kyenjojo  Nyantungo  Mabaale      Buhisi         Murungi Mwesige   \n",
       "1012  Kyenjojo  Nyantungo  Mabaale      Buhisi          Stephen Bunage   \n",
       "...        ...        ...      ...         ...                     ...   \n",
       "741   Kyenjojo  Nyantungo  Mabaale  Nyarugongo           Richard Kiiza   \n",
       "712   Kyenjojo  Nyantungo  Mabaale  Nyarugongo  Christopher Akugizibwe   \n",
       "713   Kyenjojo  Nyantungo  Mabaale  Nyarugongo         John Byaruhanga   \n",
       "1062  Kyenjojo  Nyantungo  Mabaale  Nyarugongo      Francis Aliganyira   \n",
       "725   Kyenjojo  Nyantungo  Mabaale  Nyarugongo          Kaija Busobozi   \n",
       "\n",
       "      Household_Head_Age  Household_Head_Contact Household_Head_Gender  \\\n",
       "870                   40               784645625                  Male   \n",
       "986                   43               771843824                  Male   \n",
       "888                   45               787146024                  Male   \n",
       "972                   31               779147694                  Male   \n",
       "1012                  60               772683306                  Male   \n",
       "...                  ...                     ...                   ...   \n",
       "741                   38               761530125                  Male   \n",
       "712                   34               787826592                  Male   \n",
       "713                   62               774340771                  Male   \n",
       "1062                  48                     991                  Male   \n",
       "725                   33               775414974                  Male   \n",
       "\n",
       "                      hhid   HHH_Gender  status  \n",
       "870   KYE-BUH-JON-M-103445  Male Headed  target  \n",
       "986   KYE-BUH-SAM-M-132747  Male Headed  target  \n",
       "888   KYE-BUH-ALO-M-124100  Male Headed  target  \n",
       "972   KYE-BUH-MUR-M-114444  Male Headed  target  \n",
       "1012  KYE-BUH-STE-M-103139  Male Headed  target  \n",
       "...                    ...          ...     ...  \n",
       "741   KYE-NYA-RIC-M-145702  Male Headed  target  \n",
       "712   KYE-NYA-CHR-M-094902  Male Headed  target  \n",
       "713   KYE-NYA-JOH-M-095637  Male Headed  target  \n",
       "1062  KYE-NYA-FRA-M-171103  Male Headed  target  \n",
       "725   KYE-NYA-KAI-M-113930  Male Headed  target  \n",
       "\n",
       "[153 rows x 11 columns]"
      ]
     },
     "execution_count": 45,
     "metadata": {},
     "output_type": "execute_result"
    }
   ],
   "source": [
    "male_target_sample"
   ]
  },
  {
   "cell_type": "markdown",
   "id": "c51d1bb8",
   "metadata": {
    "id": "4b6293ee",
    "slideshow": {
     "slide_type": "slide"
    }
   },
   "source": [
    "## Reserve frame"
   ]
  },
  {
   "cell_type": "markdown",
   "id": "7aede73a",
   "metadata": {
    "slideshow": {
     "slide_type": "notes"
    }
   },
   "source": [
    "we can drop the targets since we've already assigned them using the index"
   ]
  },
  {
   "cell_type": "code",
   "execution_count": 46,
   "id": "d9514ed8",
   "metadata": {
    "id": "2afb4fd5",
    "slideshow": {
     "slide_type": "fragment"
    }
   },
   "outputs": [],
   "source": [
    "male_reserve_s_frame = male_HH_samp_frame.drop(index = male_target_sample.index)"
   ]
  },
  {
   "cell_type": "code",
   "execution_count": 47,
   "id": "899bd283",
   "metadata": {
    "id": "d3ed3ca4",
    "slideshow": {
     "slide_type": "skip"
    }
   },
   "outputs": [],
   "source": [
    "# male_reserve_s_frame.to_excel('mit/male_reserve_s_frame.xlsx', index=False)"
   ]
  },
  {
   "cell_type": "code",
   "execution_count": 48,
   "id": "1466854e",
   "metadata": {
    "id": "d5caae2a-9eb3-4cdc-aed8-07ca47334f8b",
    "slideshow": {
     "slide_type": "fragment"
    }
   },
   "outputs": [
    {
     "name": "stderr",
     "output_type": "stream",
     "text": [
      "/var/folders/xd/0btgr76j2zxc4__ynw0yhwbm0000gn/T/ipykernel_49344/2138712636.py:1: DeprecationWarning: DataFrameGroupBy.apply operated on the grouping columns. This behavior is deprecated, and in a future version of pandas the grouping columns will be excluded from the operation. Either pass `include_groups=False` to exclude the groupings or explicitly select the grouping columns after groupby to silence this warning.\n",
      "  male_reserve_sample = male_reserve_s_frame.groupby('village', group_keys=False).apply(lambda x: x.sample(n=min(len(x), 4)))\n"
     ]
    }
   ],
   "source": [
    "male_reserve_sample = male_reserve_s_frame.groupby('village', group_keys=False).apply(lambda x: x.sample(n=min(len(x), 4)))"
   ]
  },
  {
   "cell_type": "code",
   "execution_count": 49,
   "id": "d8ffdbd1",
   "metadata": {
    "id": "ccfd39b7",
    "outputId": "62395bf4-395a-4e3d-9b51-0b2e82c534f8",
    "slideshow": {
     "slide_type": "fragment"
    }
   },
   "outputs": [
    {
     "data": {
      "text/html": [
       "<div>\n",
       "<style scoped>\n",
       "    .dataframe tbody tr th:only-of-type {\n",
       "        vertical-align: middle;\n",
       "    }\n",
       "\n",
       "    .dataframe tbody tr th {\n",
       "        vertical-align: top;\n",
       "    }\n",
       "\n",
       "    .dataframe thead th {\n",
       "        text-align: right;\n",
       "    }\n",
       "</style>\n",
       "<table border=\"1\" class=\"dataframe\">\n",
       "  <thead>\n",
       "    <tr style=\"text-align: right;\">\n",
       "      <th></th>\n",
       "      <th>district</th>\n",
       "      <th>subcounty</th>\n",
       "      <th>parish_t</th>\n",
       "      <th>village</th>\n",
       "      <th>hhh_full_name</th>\n",
       "      <th>Household_Head_Age</th>\n",
       "      <th>Household_Head_Contact</th>\n",
       "      <th>Household_Head_Gender</th>\n",
       "      <th>hhid</th>\n",
       "      <th>HHH_Gender</th>\n",
       "      <th>status</th>\n",
       "    </tr>\n",
       "  </thead>\n",
       "  <tbody>\n",
       "    <tr>\n",
       "      <th>980</th>\n",
       "      <td>Kyenjojo</td>\n",
       "      <td>Nyantungo</td>\n",
       "      <td>Mabaale</td>\n",
       "      <td>Buhisi</td>\n",
       "      <td>Charlce Ruhweza</td>\n",
       "      <td>38</td>\n",
       "      <td>775134755</td>\n",
       "      <td>Male</td>\n",
       "      <td>KYE-BUH-CHA-M-123543</td>\n",
       "      <td>Male Headed</td>\n",
       "      <td>reserve</td>\n",
       "    </tr>\n",
       "    <tr>\n",
       "      <th>995</th>\n",
       "      <td>Kyenjojo</td>\n",
       "      <td>Nyantungo</td>\n",
       "      <td>Mabaale</td>\n",
       "      <td>Buhisi</td>\n",
       "      <td>James Tumuhairwe</td>\n",
       "      <td>32</td>\n",
       "      <td>782572182</td>\n",
       "      <td>Male</td>\n",
       "      <td>KYE-BUH-JAM-M-145424</td>\n",
       "      <td>Male Headed</td>\n",
       "      <td>reserve</td>\n",
       "    </tr>\n",
       "    <tr>\n",
       "      <th>926</th>\n",
       "      <td>Kyenjojo</td>\n",
       "      <td>Nyantungo</td>\n",
       "      <td>Mabaale</td>\n",
       "      <td>Buhisi</td>\n",
       "      <td>Ivan Amanyire</td>\n",
       "      <td>45</td>\n",
       "      <td>774113982</td>\n",
       "      <td>Male</td>\n",
       "      <td>KYE-BUH-IVA-M-162331</td>\n",
       "      <td>Male Headed</td>\n",
       "      <td>reserve</td>\n",
       "    </tr>\n",
       "    <tr>\n",
       "      <th>985</th>\n",
       "      <td>Kyenjojo</td>\n",
       "      <td>Nyantungo</td>\n",
       "      <td>Mabaale</td>\n",
       "      <td>Buhisi</td>\n",
       "      <td>Stephen Kamulidwa</td>\n",
       "      <td>61</td>\n",
       "      <td>770629162</td>\n",
       "      <td>Male</td>\n",
       "      <td>KYE-BUH-STE-M-131918</td>\n",
       "      <td>Male Headed</td>\n",
       "      <td>reserve</td>\n",
       "    </tr>\n",
       "    <tr>\n",
       "      <th>1316</th>\n",
       "      <td>Kyenjojo</td>\n",
       "      <td>Nyantungo</td>\n",
       "      <td>Ntutu</td>\n",
       "      <td>Bunyonyi</td>\n",
       "      <td>Emmanuel Byamukama</td>\n",
       "      <td>58</td>\n",
       "      <td>783858557</td>\n",
       "      <td>Male</td>\n",
       "      <td>Kye-Bun-Emm-M-173206</td>\n",
       "      <td>Male Headed</td>\n",
       "      <td>reserve</td>\n",
       "    </tr>\n",
       "  </tbody>\n",
       "</table>\n",
       "</div>"
      ],
      "text/plain": [
       "      district  subcounty parish_t   village       hhh_full_name  \\\n",
       "980   Kyenjojo  Nyantungo  Mabaale    Buhisi     Charlce Ruhweza   \n",
       "995   Kyenjojo  Nyantungo  Mabaale    Buhisi    James Tumuhairwe   \n",
       "926   Kyenjojo  Nyantungo  Mabaale    Buhisi       Ivan Amanyire   \n",
       "985   Kyenjojo  Nyantungo  Mabaale    Buhisi   Stephen Kamulidwa   \n",
       "1316  Kyenjojo  Nyantungo    Ntutu  Bunyonyi  Emmanuel Byamukama   \n",
       "\n",
       "      Household_Head_Age  Household_Head_Contact Household_Head_Gender  \\\n",
       "980                   38               775134755                  Male   \n",
       "995                   32               782572182                  Male   \n",
       "926                   45               774113982                  Male   \n",
       "985                   61               770629162                  Male   \n",
       "1316                  58               783858557                  Male   \n",
       "\n",
       "                      hhid   HHH_Gender   status  \n",
       "980   KYE-BUH-CHA-M-123543  Male Headed  reserve  \n",
       "995   KYE-BUH-JAM-M-145424  Male Headed  reserve  \n",
       "926   KYE-BUH-IVA-M-162331  Male Headed  reserve  \n",
       "985   KYE-BUH-STE-M-131918  Male Headed  reserve  \n",
       "1316  Kye-Bun-Emm-M-173206  Male Headed  reserve  "
      ]
     },
     "execution_count": 49,
     "metadata": {},
     "output_type": "execute_result"
    }
   ],
   "source": [
    "male_reserve_sample['status'] = 'reserve'\n",
    "male_reserve_sample.head()"
   ]
  },
  {
   "cell_type": "code",
   "execution_count": 50,
   "id": "dad53481",
   "metadata": {
    "id": "ed57a534",
    "slideshow": {
     "slide_type": "skip"
    }
   },
   "outputs": [],
   "source": [
    "# male_reserve_sample.to_excel('mit/male_reserve_sample.xlsx', index=False)"
   ]
  },
  {
   "cell_type": "markdown",
   "id": "8c42e29d",
   "metadata": {
    "slideshow": {
     "slide_type": "skip"
    }
   },
   "source": [
    "Let's combine the targets and reserves to come up with a complete sample for males"
   ]
  },
  {
   "cell_type": "markdown",
   "id": "86801475",
   "metadata": {
    "id": "c210c150",
    "slideshow": {
     "slide_type": "slide"
    }
   },
   "source": [
    "# Male Household Sample [Combining the Target and Reserve]"
   ]
  },
  {
   "cell_type": "code",
   "execution_count": 51,
   "id": "d304b5d2",
   "metadata": {
    "id": "d33254ad",
    "outputId": "34a62b6c-3cca-4cd9-8b9b-46a67d18dba9",
    "slideshow": {
     "slide_type": "fragment"
    }
   },
   "outputs": [
    {
     "data": {
      "text/plain": [
       "((153, 11), (68, 11))"
      ]
     },
     "execution_count": 51,
     "metadata": {},
     "output_type": "execute_result"
    }
   ],
   "source": [
    "male_target_sample.shape, male_reserve_sample.shape"
   ]
  },
  {
   "cell_type": "code",
   "execution_count": 52,
   "id": "81444f31",
   "metadata": {
    "id": "6c290995",
    "slideshow": {
     "slide_type": "fragment"
    }
   },
   "outputs": [],
   "source": [
    "MALE_HH_SAMPLE = pd.concat([male_target_sample, male_reserve_sample])"
   ]
  },
  {
   "cell_type": "markdown",
   "id": "057db640",
   "metadata": {
    "id": "3e0ac3ed",
    "slideshow": {
     "slide_type": "slide"
    }
   },
   "source": [
    "# FEMALE  Headed"
   ]
  },
  {
   "cell_type": "code",
   "execution_count": 53,
   "id": "bd11090e",
   "metadata": {
    "id": "bb4e1a37",
    "outputId": "11deb01b-6d98-4bcd-fffb-ec25afa9b038",
    "slideshow": {
     "slide_type": "fragment"
    }
   },
   "outputs": [
    {
     "data": {
      "text/plain": [
       "363"
      ]
     },
     "execution_count": 53,
     "metadata": {},
     "output_type": "execute_result"
    }
   ],
   "source": [
    "len(female_HH_samp_frame)"
   ]
  },
  {
   "cell_type": "code",
   "execution_count": 54,
   "id": "e74bad6d",
   "metadata": {
    "id": "72cbb9f3",
    "outputId": "236a87ad-0547-4188-c7ff-bec7fc6c9f2c",
    "slideshow": {
     "slide_type": "skip"
    }
   },
   "outputs": [
    {
     "data": {
      "text/html": [
       "<div>\n",
       "<style scoped>\n",
       "    .dataframe tbody tr th:only-of-type {\n",
       "        vertical-align: middle;\n",
       "    }\n",
       "\n",
       "    .dataframe tbody tr th {\n",
       "        vertical-align: top;\n",
       "    }\n",
       "\n",
       "    .dataframe thead th {\n",
       "        text-align: right;\n",
       "    }\n",
       "</style>\n",
       "<table border=\"1\" class=\"dataframe\">\n",
       "  <thead>\n",
       "    <tr style=\"text-align: right;\">\n",
       "      <th></th>\n",
       "      <th>district</th>\n",
       "      <th>subcounty</th>\n",
       "      <th>parish_t</th>\n",
       "      <th>village</th>\n",
       "      <th>hhh_full_name</th>\n",
       "      <th>Household_Head_Age</th>\n",
       "      <th>Household_Head_Contact</th>\n",
       "      <th>Household_Head_Gender</th>\n",
       "      <th>hhid</th>\n",
       "      <th>HHH_Gender</th>\n",
       "    </tr>\n",
       "  </thead>\n",
       "  <tbody>\n",
       "    <tr>\n",
       "      <th>4</th>\n",
       "      <td>Kyenjojo</td>\n",
       "      <td>Nyankwanzi</td>\n",
       "      <td>Kaitanyana</td>\n",
       "      <td>Hakabale</td>\n",
       "      <td>Esiter Kyarisiima</td>\n",
       "      <td>40</td>\n",
       "      <td>779433461</td>\n",
       "      <td>Female</td>\n",
       "      <td>KYE-HAK-ESI-F-125893</td>\n",
       "      <td>Female Headed</td>\n",
       "    </tr>\n",
       "    <tr>\n",
       "      <th>10</th>\n",
       "      <td>Kyenjojo</td>\n",
       "      <td>Nyankwanzi</td>\n",
       "      <td>Kaitanyana</td>\n",
       "      <td>Nyabirungi_Kaitanyana</td>\n",
       "      <td>Fatumah Kemigisa</td>\n",
       "      <td>37</td>\n",
       "      <td>761848041</td>\n",
       "      <td>Female</td>\n",
       "      <td>KYE-NYA-FAT-F-125623</td>\n",
       "      <td>Female Headed</td>\n",
       "    </tr>\n",
       "    <tr>\n",
       "      <th>11</th>\n",
       "      <td>Kyenjojo</td>\n",
       "      <td>Nyankwanzi</td>\n",
       "      <td>Kaitanyana</td>\n",
       "      <td>Nyabirungi_Kaitanyana</td>\n",
       "      <td>Nzera Mirimo</td>\n",
       "      <td>60</td>\n",
       "      <td>99</td>\n",
       "      <td>Female</td>\n",
       "      <td>KYE-NYA-NZE-F-125624</td>\n",
       "      <td>Female Headed</td>\n",
       "    </tr>\n",
       "    <tr>\n",
       "      <th>12</th>\n",
       "      <td>Kyenjojo</td>\n",
       "      <td>Nyankwanzi</td>\n",
       "      <td>Kaitanyana</td>\n",
       "      <td>Nyabirungi_Kaitanyana</td>\n",
       "      <td>Sarafia Musabyimana</td>\n",
       "      <td>53</td>\n",
       "      <td>773700414</td>\n",
       "      <td>Female</td>\n",
       "      <td>KYE-NYA-SAR-F-125625</td>\n",
       "      <td>Female Headed</td>\n",
       "    </tr>\n",
       "    <tr>\n",
       "      <th>16</th>\n",
       "      <td>Kyenjojo</td>\n",
       "      <td>Nyankwanzi</td>\n",
       "      <td>Kaitanyana</td>\n",
       "      <td>Nyabirungi_Kaitanyana</td>\n",
       "      <td>Lyndia Tugumisirize</td>\n",
       "      <td>62</td>\n",
       "      <td>774962915</td>\n",
       "      <td>Female</td>\n",
       "      <td>KYE-NYA-LYN-F-125629</td>\n",
       "      <td>Female Headed</td>\n",
       "    </tr>\n",
       "  </tbody>\n",
       "</table>\n",
       "</div>"
      ],
      "text/plain": [
       "    district   subcounty    parish_t                village  \\\n",
       "4   Kyenjojo  Nyankwanzi  Kaitanyana               Hakabale   \n",
       "10  Kyenjojo  Nyankwanzi  Kaitanyana  Nyabirungi_Kaitanyana   \n",
       "11  Kyenjojo  Nyankwanzi  Kaitanyana  Nyabirungi_Kaitanyana   \n",
       "12  Kyenjojo  Nyankwanzi  Kaitanyana  Nyabirungi_Kaitanyana   \n",
       "16  Kyenjojo  Nyankwanzi  Kaitanyana  Nyabirungi_Kaitanyana   \n",
       "\n",
       "          hhh_full_name  Household_Head_Age  Household_Head_Contact  \\\n",
       "4     Esiter Kyarisiima                  40               779433461   \n",
       "10     Fatumah Kemigisa                  37               761848041   \n",
       "11         Nzera Mirimo                  60                      99   \n",
       "12  Sarafia Musabyimana                  53               773700414   \n",
       "16  Lyndia Tugumisirize                  62               774962915   \n",
       "\n",
       "   Household_Head_Gender                  hhid     HHH_Gender  \n",
       "4                 Female  KYE-HAK-ESI-F-125893  Female Headed  \n",
       "10                Female  KYE-NYA-FAT-F-125623  Female Headed  \n",
       "11                Female  KYE-NYA-NZE-F-125624  Female Headed  \n",
       "12                Female  KYE-NYA-SAR-F-125625  Female Headed  \n",
       "16                Female  KYE-NYA-LYN-F-125629  Female Headed  "
      ]
     },
     "execution_count": 54,
     "metadata": {},
     "output_type": "execute_result"
    }
   ],
   "source": [
    "female_HH_samp_frame.head()"
   ]
  },
  {
   "cell_type": "code",
   "execution_count": 55,
   "id": "182b49b0",
   "metadata": {
    "id": "ea81691f",
    "slideshow": {
     "slide_type": "fragment"
    }
   },
   "outputs": [
    {
     "name": "stderr",
     "output_type": "stream",
     "text": [
      "/var/folders/xd/0btgr76j2zxc4__ynw0yhwbm0000gn/T/ipykernel_49344/449293486.py:1: DeprecationWarning: DataFrameGroupBy.apply operated on the grouping columns. This behavior is deprecated, and in a future version of pandas the grouping columns will be excluded from the operation. Either pass `include_groups=False` to exclude the groupings or explicitly select the grouping columns after groupby to silence this warning.\n",
      "  female_target_sample = female_HH_samp_frame.groupby('village', group_keys=False).apply(lambda x: x.sample(n=min(len(x), 3)))\n"
     ]
    }
   ],
   "source": [
    "female_target_sample = female_HH_samp_frame.groupby('village', group_keys=False).apply(lambda x: x.sample(n=min(len(x), 3)))"
   ]
  },
  {
   "cell_type": "code",
   "execution_count": 56,
   "id": "995614a1",
   "metadata": {
    "id": "4eda136e",
    "outputId": "9ff262dc-a690-4b20-8444-912515e98ce1",
    "slideshow": {
     "slide_type": "skip"
    }
   },
   "outputs": [
    {
     "data": {
      "text/plain": [
       "51"
      ]
     },
     "execution_count": 56,
     "metadata": {},
     "output_type": "execute_result"
    }
   ],
   "source": [
    "len(female_target_sample)"
   ]
  },
  {
   "cell_type": "code",
   "execution_count": 57,
   "id": "75f5495b",
   "metadata": {
    "id": "2c9f1b9d",
    "slideshow": {
     "slide_type": "fragment"
    }
   },
   "outputs": [],
   "source": [
    "female_target_sample['status'] = 'target'"
   ]
  },
  {
   "cell_type": "code",
   "execution_count": 58,
   "id": "182362bf",
   "metadata": {
    "id": "6df93913",
    "outputId": "65ca229d-0969-4fa9-9e66-ad26814787af",
    "slideshow": {
     "slide_type": "skip"
    }
   },
   "outputs": [
    {
     "data": {
      "text/html": [
       "<div>\n",
       "<style scoped>\n",
       "    .dataframe tbody tr th:only-of-type {\n",
       "        vertical-align: middle;\n",
       "    }\n",
       "\n",
       "    .dataframe tbody tr th {\n",
       "        vertical-align: top;\n",
       "    }\n",
       "\n",
       "    .dataframe thead th {\n",
       "        text-align: right;\n",
       "    }\n",
       "</style>\n",
       "<table border=\"1\" class=\"dataframe\">\n",
       "  <thead>\n",
       "    <tr style=\"text-align: right;\">\n",
       "      <th></th>\n",
       "      <th>district</th>\n",
       "      <th>subcounty</th>\n",
       "      <th>parish_t</th>\n",
       "      <th>village</th>\n",
       "      <th>hhh_full_name</th>\n",
       "      <th>Household_Head_Age</th>\n",
       "      <th>Household_Head_Contact</th>\n",
       "      <th>Household_Head_Gender</th>\n",
       "      <th>hhid</th>\n",
       "      <th>HHH_Gender</th>\n",
       "      <th>status</th>\n",
       "    </tr>\n",
       "  </thead>\n",
       "  <tbody>\n",
       "    <tr>\n",
       "      <th>934</th>\n",
       "      <td>Kyenjojo</td>\n",
       "      <td>Nyantungo</td>\n",
       "      <td>Mabaale</td>\n",
       "      <td>Buhisi</td>\n",
       "      <td>Elizabeth Kabasambu</td>\n",
       "      <td>45</td>\n",
       "      <td>779813351</td>\n",
       "      <td>Female</td>\n",
       "      <td>KYE-BUH-ELI-F-171307</td>\n",
       "      <td>Female Headed</td>\n",
       "      <td>target</td>\n",
       "    </tr>\n",
       "    <tr>\n",
       "      <th>1003</th>\n",
       "      <td>Kyenjojo</td>\n",
       "      <td>Nyantungo</td>\n",
       "      <td>Mabaale</td>\n",
       "      <td>Buhisi</td>\n",
       "      <td>Erinorah Kabahuma</td>\n",
       "      <td>65</td>\n",
       "      <td>782322714</td>\n",
       "      <td>Female</td>\n",
       "      <td>KYE-BUH-ERI-F-171430</td>\n",
       "      <td>Female Headed</td>\n",
       "      <td>target</td>\n",
       "    </tr>\n",
       "    <tr>\n",
       "      <th>961</th>\n",
       "      <td>Kyenjojo</td>\n",
       "      <td>Nyantungo</td>\n",
       "      <td>Mabaale</td>\n",
       "      <td>Buhisi</td>\n",
       "      <td>Elizabeth Kabagenyi</td>\n",
       "      <td>40</td>\n",
       "      <td>761675389</td>\n",
       "      <td>Female</td>\n",
       "      <td>KYE-BUH-ELI-F-191252</td>\n",
       "      <td>Female Headed</td>\n",
       "      <td>target</td>\n",
       "    </tr>\n",
       "    <tr>\n",
       "      <th>397</th>\n",
       "      <td>Kyenjojo</td>\n",
       "      <td>Nyantungo</td>\n",
       "      <td>Ntutu</td>\n",
       "      <td>Bunyonyi</td>\n",
       "      <td>Beatrace Kabagenyi</td>\n",
       "      <td>78</td>\n",
       "      <td>779955864</td>\n",
       "      <td>Female</td>\n",
       "      <td>Kye-Bun-Bea-F-115130</td>\n",
       "      <td>Female Headed</td>\n",
       "      <td>target</td>\n",
       "    </tr>\n",
       "    <tr>\n",
       "      <th>1336</th>\n",
       "      <td>Kyenjojo</td>\n",
       "      <td>Nyantungo</td>\n",
       "      <td>Ntutu</td>\n",
       "      <td>Bunyonyi</td>\n",
       "      <td>Enide Basemera</td>\n",
       "      <td>50</td>\n",
       "      <td>774925808</td>\n",
       "      <td>Female</td>\n",
       "      <td>Kye-Bun-Eni-F-190041</td>\n",
       "      <td>Female Headed</td>\n",
       "      <td>target</td>\n",
       "    </tr>\n",
       "  </tbody>\n",
       "</table>\n",
       "</div>"
      ],
      "text/plain": [
       "      district  subcounty parish_t   village        hhh_full_name  \\\n",
       "934   Kyenjojo  Nyantungo  Mabaale    Buhisi  Elizabeth Kabasambu   \n",
       "1003  Kyenjojo  Nyantungo  Mabaale    Buhisi    Erinorah Kabahuma   \n",
       "961   Kyenjojo  Nyantungo  Mabaale    Buhisi  Elizabeth Kabagenyi   \n",
       "397   Kyenjojo  Nyantungo    Ntutu  Bunyonyi   Beatrace Kabagenyi   \n",
       "1336  Kyenjojo  Nyantungo    Ntutu  Bunyonyi       Enide Basemera   \n",
       "\n",
       "      Household_Head_Age  Household_Head_Contact Household_Head_Gender  \\\n",
       "934                   45               779813351                Female   \n",
       "1003                  65               782322714                Female   \n",
       "961                   40               761675389                Female   \n",
       "397                   78               779955864                Female   \n",
       "1336                  50               774925808                Female   \n",
       "\n",
       "                      hhid     HHH_Gender  status  \n",
       "934   KYE-BUH-ELI-F-171307  Female Headed  target  \n",
       "1003  KYE-BUH-ERI-F-171430  Female Headed  target  \n",
       "961   KYE-BUH-ELI-F-191252  Female Headed  target  \n",
       "397   Kye-Bun-Bea-F-115130  Female Headed  target  \n",
       "1336  Kye-Bun-Eni-F-190041  Female Headed  target  "
      ]
     },
     "execution_count": 58,
     "metadata": {},
     "output_type": "execute_result"
    }
   ],
   "source": [
    "female_target_sample.head()"
   ]
  },
  {
   "cell_type": "markdown",
   "id": "93c2f8e6",
   "metadata": {
    "id": "ec4bd25e",
    "slideshow": {
     "slide_type": "skip"
    }
   },
   "source": [
    "## Reserve frame"
   ]
  },
  {
   "cell_type": "code",
   "execution_count": 59,
   "id": "06cfdd95",
   "metadata": {
    "id": "9172c8fa",
    "outputId": "5c13f57f-2c27-4a39-f865-a80642307f3b",
    "slideshow": {
     "slide_type": "fragment"
    }
   },
   "outputs": [
    {
     "data": {
      "text/plain": [
       "(312, 10)"
      ]
     },
     "execution_count": 59,
     "metadata": {},
     "output_type": "execute_result"
    }
   ],
   "source": [
    "female_reserve_s_frame = female_HH_samp_frame.drop(index = female_target_sample.index)\n",
    "female_reserve_s_frame.shape"
   ]
  },
  {
   "cell_type": "code",
   "execution_count": 60,
   "id": "731e2caf",
   "metadata": {
    "id": "b7e117e4",
    "slideshow": {
     "slide_type": "skip"
    }
   },
   "outputs": [],
   "source": [
    "# female_reserve_s_frame.to_excel('mit/female_reserve_s_frame.xlsx', index=False)"
   ]
  },
  {
   "cell_type": "code",
   "execution_count": 61,
   "id": "ac1898f0",
   "metadata": {
    "id": "9b090477",
    "slideshow": {
     "slide_type": "slide"
    }
   },
   "outputs": [
    {
     "name": "stderr",
     "output_type": "stream",
     "text": [
      "/var/folders/xd/0btgr76j2zxc4__ynw0yhwbm0000gn/T/ipykernel_49344/2689120184.py:1: DeprecationWarning: DataFrameGroupBy.apply operated on the grouping columns. This behavior is deprecated, and in a future version of pandas the grouping columns will be excluded from the operation. Either pass `include_groups=False` to exclude the groupings or explicitly select the grouping columns after groupby to silence this warning.\n",
      "  female_reserve_sample = female_reserve_s_frame.groupby('village', group_keys=False).apply(lambda x: x.sample(n=min(len(x), 2)))\n"
     ]
    }
   ],
   "source": [
    "female_reserve_sample = female_reserve_s_frame.groupby('village', group_keys=False).apply(lambda x: x.sample(n=min(len(x), 2)))"
   ]
  },
  {
   "cell_type": "code",
   "execution_count": 62,
   "id": "6e7c0f11",
   "metadata": {
    "id": "b232d99b",
    "outputId": "fd809e5d-dd3d-4202-ca34-53eeaa1cd4a2",
    "slideshow": {
     "slide_type": "fragment"
    }
   },
   "outputs": [
    {
     "data": {
      "text/html": [
       "<div>\n",
       "<style scoped>\n",
       "    .dataframe tbody tr th:only-of-type {\n",
       "        vertical-align: middle;\n",
       "    }\n",
       "\n",
       "    .dataframe tbody tr th {\n",
       "        vertical-align: top;\n",
       "    }\n",
       "\n",
       "    .dataframe thead th {\n",
       "        text-align: right;\n",
       "    }\n",
       "</style>\n",
       "<table border=\"1\" class=\"dataframe\">\n",
       "  <thead>\n",
       "    <tr style=\"text-align: right;\">\n",
       "      <th></th>\n",
       "      <th>district</th>\n",
       "      <th>subcounty</th>\n",
       "      <th>parish_t</th>\n",
       "      <th>village</th>\n",
       "      <th>hhh_full_name</th>\n",
       "      <th>Household_Head_Age</th>\n",
       "      <th>Household_Head_Contact</th>\n",
       "      <th>Household_Head_Gender</th>\n",
       "      <th>hhid</th>\n",
       "      <th>HHH_Gender</th>\n",
       "      <th>status</th>\n",
       "    </tr>\n",
       "  </thead>\n",
       "  <tbody>\n",
       "    <tr>\n",
       "      <th>864</th>\n",
       "      <td>Kyenjojo</td>\n",
       "      <td>Nyantungo</td>\n",
       "      <td>Mabaale</td>\n",
       "      <td>Buhisi</td>\n",
       "      <td>Luzy Kabatabazi</td>\n",
       "      <td>80</td>\n",
       "      <td>99</td>\n",
       "      <td>Female</td>\n",
       "      <td>KYE-BUH-LUZ-F-100447</td>\n",
       "      <td>Female Headed</td>\n",
       "      <td>reserve</td>\n",
       "    </tr>\n",
       "    <tr>\n",
       "      <th>890</th>\n",
       "      <td>Kyenjojo</td>\n",
       "      <td>Nyantungo</td>\n",
       "      <td>Mabaale</td>\n",
       "      <td>Buhisi</td>\n",
       "      <td>Evaster Kisembo</td>\n",
       "      <td>65</td>\n",
       "      <td>99</td>\n",
       "      <td>Female</td>\n",
       "      <td>KYE-BUH-EVA-F-124942</td>\n",
       "      <td>Female Headed</td>\n",
       "      <td>reserve</td>\n",
       "    </tr>\n",
       "    <tr>\n",
       "      <th>1303</th>\n",
       "      <td>Kyenjojo</td>\n",
       "      <td>Nyantungo</td>\n",
       "      <td>Ntutu</td>\n",
       "      <td>Bunyonyi</td>\n",
       "      <td>Stella Kakuliremu</td>\n",
       "      <td>70</td>\n",
       "      <td>787394849</td>\n",
       "      <td>Female</td>\n",
       "      <td>Kye-Bun-Ste-F-085311</td>\n",
       "      <td>Female Headed</td>\n",
       "      <td>reserve</td>\n",
       "    </tr>\n",
       "    <tr>\n",
       "      <th>408</th>\n",
       "      <td>Kyenjojo</td>\n",
       "      <td>Nyantungo</td>\n",
       "      <td>Ntutu</td>\n",
       "      <td>Bunyonyi</td>\n",
       "      <td>Annet Kamakune</td>\n",
       "      <td>33</td>\n",
       "      <td>765153613</td>\n",
       "      <td>Female</td>\n",
       "      <td>Kye-Bun-Ann-F-140812</td>\n",
       "      <td>Female Headed</td>\n",
       "      <td>reserve</td>\n",
       "    </tr>\n",
       "    <tr>\n",
       "      <th>4</th>\n",
       "      <td>Kyenjojo</td>\n",
       "      <td>Nyankwanzi</td>\n",
       "      <td>Kaitanyana</td>\n",
       "      <td>Hakabale</td>\n",
       "      <td>Esiter Kyarisiima</td>\n",
       "      <td>40</td>\n",
       "      <td>779433461</td>\n",
       "      <td>Female</td>\n",
       "      <td>KYE-HAK-ESI-F-125893</td>\n",
       "      <td>Female Headed</td>\n",
       "      <td>reserve</td>\n",
       "    </tr>\n",
       "  </tbody>\n",
       "</table>\n",
       "</div>"
      ],
      "text/plain": [
       "      district   subcounty    parish_t   village      hhh_full_name  \\\n",
       "864   Kyenjojo   Nyantungo     Mabaale    Buhisi    Luzy Kabatabazi   \n",
       "890   Kyenjojo   Nyantungo     Mabaale    Buhisi    Evaster Kisembo   \n",
       "1303  Kyenjojo   Nyantungo       Ntutu  Bunyonyi  Stella Kakuliremu   \n",
       "408   Kyenjojo   Nyantungo       Ntutu  Bunyonyi     Annet Kamakune   \n",
       "4     Kyenjojo  Nyankwanzi  Kaitanyana  Hakabale  Esiter Kyarisiima   \n",
       "\n",
       "      Household_Head_Age  Household_Head_Contact Household_Head_Gender  \\\n",
       "864                   80                      99                Female   \n",
       "890                   65                      99                Female   \n",
       "1303                  70               787394849                Female   \n",
       "408                   33               765153613                Female   \n",
       "4                     40               779433461                Female   \n",
       "\n",
       "                      hhid     HHH_Gender   status  \n",
       "864   KYE-BUH-LUZ-F-100447  Female Headed  reserve  \n",
       "890   KYE-BUH-EVA-F-124942  Female Headed  reserve  \n",
       "1303  Kye-Bun-Ste-F-085311  Female Headed  reserve  \n",
       "408   Kye-Bun-Ann-F-140812  Female Headed  reserve  \n",
       "4     KYE-HAK-ESI-F-125893  Female Headed  reserve  "
      ]
     },
     "execution_count": 62,
     "metadata": {},
     "output_type": "execute_result"
    }
   ],
   "source": [
    "female_reserve_sample['status'] = 'reserve'\n",
    "female_reserve_sample.head()"
   ]
  },
  {
   "cell_type": "code",
   "execution_count": 63,
   "id": "561a5fc5",
   "metadata": {
    "id": "acca14d8",
    "slideshow": {
     "slide_type": "skip"
    }
   },
   "outputs": [],
   "source": [
    "# female_reserve_sample.to_excel('mit/female_reserve_sample.xlsx', index=False)"
   ]
  },
  {
   "cell_type": "code",
   "execution_count": 64,
   "id": "66f6e60a",
   "metadata": {
    "id": "268fa1fc",
    "slideshow": {
     "slide_type": "fragment"
    }
   },
   "outputs": [],
   "source": [
    "FEMALE_HH_SAMPLE = pd.concat([female_target_sample, female_reserve_sample])"
   ]
  },
  {
   "cell_type": "code",
   "execution_count": 65,
   "id": "58a8db1e",
   "metadata": {
    "id": "e8229818",
    "slideshow": {
     "slide_type": "skip"
    }
   },
   "outputs": [],
   "source": [
    "# FEMALE_HH_SAMPLE.to_excel('mit/FEMALE_HH_SAMPLE.xlsx', index=False)"
   ]
  },
  {
   "cell_type": "markdown",
   "id": "f5afe627",
   "metadata": {
    "id": "f1ec251a",
    "slideshow": {
     "slide_type": "slide"
    }
   },
   "source": [
    "# YOUTH Households"
   ]
  },
  {
   "cell_type": "code",
   "execution_count": 66,
   "id": "00b44a62",
   "metadata": {
    "id": "e79b4021",
    "outputId": "b7c2dad9-c4a4-4c4d-e8a5-17a86e67f13c",
    "slideshow": {
     "slide_type": "skip"
    }
   },
   "outputs": [
    {
     "data": {
      "text/plain": [
       "411"
      ]
     },
     "execution_count": 66,
     "metadata": {},
     "output_type": "execute_result"
    }
   ],
   "source": [
    "len(youth_HH_samp_frame)"
   ]
  },
  {
   "cell_type": "code",
   "execution_count": 67,
   "id": "74a4644d",
   "metadata": {
    "id": "26e9ce59",
    "outputId": "ca6b412e-c612-4a31-8c53-b75dc6776ab9",
    "slideshow": {
     "slide_type": "skip"
    }
   },
   "outputs": [
    {
     "data": {
      "text/html": [
       "<div>\n",
       "<style scoped>\n",
       "    .dataframe tbody tr th:only-of-type {\n",
       "        vertical-align: middle;\n",
       "    }\n",
       "\n",
       "    .dataframe tbody tr th {\n",
       "        vertical-align: top;\n",
       "    }\n",
       "\n",
       "    .dataframe thead th {\n",
       "        text-align: right;\n",
       "    }\n",
       "</style>\n",
       "<table border=\"1\" class=\"dataframe\">\n",
       "  <thead>\n",
       "    <tr style=\"text-align: right;\">\n",
       "      <th></th>\n",
       "      <th>district</th>\n",
       "      <th>subcounty</th>\n",
       "      <th>parish_t</th>\n",
       "      <th>village</th>\n",
       "      <th>hhh_full_name</th>\n",
       "      <th>Household_Head_Age</th>\n",
       "      <th>Household_Head_Contact</th>\n",
       "      <th>Household_Head_Gender</th>\n",
       "      <th>hhid</th>\n",
       "      <th>HHH_Gender</th>\n",
       "    </tr>\n",
       "  </thead>\n",
       "  <tbody>\n",
       "    <tr>\n",
       "      <th>3</th>\n",
       "      <td>Kyenjojo</td>\n",
       "      <td>Nyankwanzi</td>\n",
       "      <td>Kaitanyana</td>\n",
       "      <td>Hakabale</td>\n",
       "      <td>Sepirion Byaruhanga</td>\n",
       "      <td>29</td>\n",
       "      <td>785630500</td>\n",
       "      <td>Male</td>\n",
       "      <td>KYE-HAK-SEP-M-125892</td>\n",
       "      <td>Youth Headed</td>\n",
       "    </tr>\n",
       "    <tr>\n",
       "      <th>9</th>\n",
       "      <td>Kyenjojo</td>\n",
       "      <td>Nyankwanzi</td>\n",
       "      <td>Kaitanyana</td>\n",
       "      <td>Nyabirungi_Kaitanyana</td>\n",
       "      <td>Tofiri Ategeka</td>\n",
       "      <td>28</td>\n",
       "      <td>771036170</td>\n",
       "      <td>Male</td>\n",
       "      <td>KYE-NYA-TOF-M-125589</td>\n",
       "      <td>Youth Headed</td>\n",
       "    </tr>\n",
       "    <tr>\n",
       "      <th>13</th>\n",
       "      <td>Kyenjojo</td>\n",
       "      <td>Nyankwanzi</td>\n",
       "      <td>Kaitanyana</td>\n",
       "      <td>Nyabirungi_Kaitanyana</td>\n",
       "      <td>Danie Sunday</td>\n",
       "      <td>29</td>\n",
       "      <td>772314123</td>\n",
       "      <td>Male</td>\n",
       "      <td>KYE-NYA-DAN-M-125626</td>\n",
       "      <td>Youth Headed</td>\n",
       "    </tr>\n",
       "    <tr>\n",
       "      <th>14</th>\n",
       "      <td>Kyenjojo</td>\n",
       "      <td>Nyankwanzi</td>\n",
       "      <td>Kaitanyana</td>\n",
       "      <td>Nyabirungi_Kaitanyana</td>\n",
       "      <td>Robert Byaruhanga</td>\n",
       "      <td>27</td>\n",
       "      <td>761877212</td>\n",
       "      <td>Male</td>\n",
       "      <td>KYE-NYA-ROB-M-125627</td>\n",
       "      <td>Youth Headed</td>\n",
       "    </tr>\n",
       "    <tr>\n",
       "      <th>20</th>\n",
       "      <td>Kyenjojo</td>\n",
       "      <td>Nyankwanzi</td>\n",
       "      <td>Kaitanyana</td>\n",
       "      <td>Nyabirungi_Kaitanyana</td>\n",
       "      <td>Mucunguzi Kabahoze</td>\n",
       "      <td>22</td>\n",
       "      <td>781902589</td>\n",
       "      <td>Male</td>\n",
       "      <td>KYE-NYA-MUC-M-125633</td>\n",
       "      <td>Youth Headed</td>\n",
       "    </tr>\n",
       "  </tbody>\n",
       "</table>\n",
       "</div>"
      ],
      "text/plain": [
       "    district   subcounty    parish_t                village  \\\n",
       "3   Kyenjojo  Nyankwanzi  Kaitanyana               Hakabale   \n",
       "9   Kyenjojo  Nyankwanzi  Kaitanyana  Nyabirungi_Kaitanyana   \n",
       "13  Kyenjojo  Nyankwanzi  Kaitanyana  Nyabirungi_Kaitanyana   \n",
       "14  Kyenjojo  Nyankwanzi  Kaitanyana  Nyabirungi_Kaitanyana   \n",
       "20  Kyenjojo  Nyankwanzi  Kaitanyana  Nyabirungi_Kaitanyana   \n",
       "\n",
       "          hhh_full_name  Household_Head_Age  Household_Head_Contact  \\\n",
       "3   Sepirion Byaruhanga                  29               785630500   \n",
       "9        Tofiri Ategeka                  28               771036170   \n",
       "13         Danie Sunday                  29               772314123   \n",
       "14    Robert Byaruhanga                  27               761877212   \n",
       "20   Mucunguzi Kabahoze                  22               781902589   \n",
       "\n",
       "   Household_Head_Gender                  hhid    HHH_Gender  \n",
       "3                   Male  KYE-HAK-SEP-M-125892  Youth Headed  \n",
       "9                   Male  KYE-NYA-TOF-M-125589  Youth Headed  \n",
       "13                  Male  KYE-NYA-DAN-M-125626  Youth Headed  \n",
       "14                  Male  KYE-NYA-ROB-M-125627  Youth Headed  \n",
       "20                  Male  KYE-NYA-MUC-M-125633  Youth Headed  "
      ]
     },
     "execution_count": 67,
     "metadata": {},
     "output_type": "execute_result"
    }
   ],
   "source": [
    "youth_HH_samp_frame.head()"
   ]
  },
  {
   "cell_type": "code",
   "execution_count": 68,
   "id": "016af514",
   "metadata": {
    "id": "c24e4229",
    "slideshow": {
     "slide_type": "fragment"
    }
   },
   "outputs": [
    {
     "name": "stderr",
     "output_type": "stream",
     "text": [
      "/var/folders/xd/0btgr76j2zxc4__ynw0yhwbm0000gn/T/ipykernel_49344/4193345323.py:1: DeprecationWarning: DataFrameGroupBy.apply operated on the grouping columns. This behavior is deprecated, and in a future version of pandas the grouping columns will be excluded from the operation. Either pass `include_groups=False` to exclude the groupings or explicitly select the grouping columns after groupby to silence this warning.\n",
      "  youth_target_sample = youth_HH_samp_frame.groupby('village', group_keys=False).apply(lambda x: x.sample(n=min(len(x), 3)))\n"
     ]
    }
   ],
   "source": [
    "youth_target_sample = youth_HH_samp_frame.groupby('village', group_keys=False).apply(lambda x: x.sample(n=min(len(x), 3)))"
   ]
  },
  {
   "cell_type": "code",
   "execution_count": 69,
   "id": "2e9eee5f",
   "metadata": {
    "id": "518216f0",
    "outputId": "e2d199d9-f513-47a2-f1ec-bc9716eea8ac",
    "slideshow": {
     "slide_type": "skip"
    }
   },
   "outputs": [
    {
     "data": {
      "text/plain": [
       "51"
      ]
     },
     "execution_count": 69,
     "metadata": {},
     "output_type": "execute_result"
    }
   ],
   "source": [
    "len(youth_target_sample)"
   ]
  },
  {
   "cell_type": "code",
   "execution_count": 70,
   "id": "68d5fa56",
   "metadata": {
    "id": "8efb77de",
    "slideshow": {
     "slide_type": "fragment"
    }
   },
   "outputs": [],
   "source": [
    "youth_target_sample['status'] = 'target'"
   ]
  },
  {
   "cell_type": "code",
   "execution_count": 71,
   "id": "76f235a4",
   "metadata": {
    "id": "a15aafc3",
    "outputId": "48ac1dd2-e03c-4367-de06-db276ed9fb95",
    "slideshow": {
     "slide_type": "skip"
    }
   },
   "outputs": [
    {
     "data": {
      "text/html": [
       "<div>\n",
       "<style scoped>\n",
       "    .dataframe tbody tr th:only-of-type {\n",
       "        vertical-align: middle;\n",
       "    }\n",
       "\n",
       "    .dataframe tbody tr th {\n",
       "        vertical-align: top;\n",
       "    }\n",
       "\n",
       "    .dataframe thead th {\n",
       "        text-align: right;\n",
       "    }\n",
       "</style>\n",
       "<table border=\"1\" class=\"dataframe\">\n",
       "  <thead>\n",
       "    <tr style=\"text-align: right;\">\n",
       "      <th></th>\n",
       "      <th>district</th>\n",
       "      <th>subcounty</th>\n",
       "      <th>parish_t</th>\n",
       "      <th>village</th>\n",
       "      <th>hhh_full_name</th>\n",
       "      <th>Household_Head_Age</th>\n",
       "      <th>Household_Head_Contact</th>\n",
       "      <th>Household_Head_Gender</th>\n",
       "      <th>hhid</th>\n",
       "      <th>HHH_Gender</th>\n",
       "      <th>status</th>\n",
       "    </tr>\n",
       "  </thead>\n",
       "  <tbody>\n",
       "    <tr>\n",
       "      <th>942</th>\n",
       "      <td>Kyenjojo</td>\n",
       "      <td>Nyantungo</td>\n",
       "      <td>Mabaale</td>\n",
       "      <td>Buhisi</td>\n",
       "      <td>Hangiton Ruhinda</td>\n",
       "      <td>23</td>\n",
       "      <td>99</td>\n",
       "      <td>Male</td>\n",
       "      <td>KYE-BUH-HAN-M-180443</td>\n",
       "      <td>Youth Headed</td>\n",
       "      <td>target</td>\n",
       "    </tr>\n",
       "    <tr>\n",
       "      <th>892</th>\n",
       "      <td>Kyenjojo</td>\n",
       "      <td>Nyantungo</td>\n",
       "      <td>Mabaale</td>\n",
       "      <td>Buhisi</td>\n",
       "      <td>Patrick Rwakijuma</td>\n",
       "      <td>30</td>\n",
       "      <td>787840089</td>\n",
       "      <td>Male</td>\n",
       "      <td>KYE-BUH-PAT-M-125649</td>\n",
       "      <td>Youth Headed</td>\n",
       "      <td>target</td>\n",
       "    </tr>\n",
       "    <tr>\n",
       "      <th>1017</th>\n",
       "      <td>Kyenjojo</td>\n",
       "      <td>Nyantungo</td>\n",
       "      <td>Mabaale</td>\n",
       "      <td>Buhisi</td>\n",
       "      <td>Isaac Akadwanaho</td>\n",
       "      <td>26</td>\n",
       "      <td>783035400</td>\n",
       "      <td>Male</td>\n",
       "      <td>KYE-BUH-ISA-M-120517</td>\n",
       "      <td>Youth Headed</td>\n",
       "      <td>target</td>\n",
       "    </tr>\n",
       "    <tr>\n",
       "      <th>1340</th>\n",
       "      <td>Kyenjojo</td>\n",
       "      <td>Nyantungo</td>\n",
       "      <td>Ntutu</td>\n",
       "      <td>Bunyonyi</td>\n",
       "      <td>Ronald Byamukama</td>\n",
       "      <td>22</td>\n",
       "      <td>776263936</td>\n",
       "      <td>Male</td>\n",
       "      <td>Kye-Bun-Ron-M-131713</td>\n",
       "      <td>Youth Headed</td>\n",
       "      <td>target</td>\n",
       "    </tr>\n",
       "    <tr>\n",
       "      <th>1320</th>\n",
       "      <td>Kyenjojo</td>\n",
       "      <td>Nyantungo</td>\n",
       "      <td>Ntutu</td>\n",
       "      <td>Bunyonyi</td>\n",
       "      <td>Julius Amanyire</td>\n",
       "      <td>28</td>\n",
       "      <td>773127911</td>\n",
       "      <td>Male</td>\n",
       "      <td>Kye-Bun-Jul-M-175823</td>\n",
       "      <td>Youth Headed</td>\n",
       "      <td>target</td>\n",
       "    </tr>\n",
       "  </tbody>\n",
       "</table>\n",
       "</div>"
      ],
      "text/plain": [
       "      district  subcounty parish_t   village      hhh_full_name  \\\n",
       "942   Kyenjojo  Nyantungo  Mabaale    Buhisi   Hangiton Ruhinda   \n",
       "892   Kyenjojo  Nyantungo  Mabaale    Buhisi  Patrick Rwakijuma   \n",
       "1017  Kyenjojo  Nyantungo  Mabaale    Buhisi   Isaac Akadwanaho   \n",
       "1340  Kyenjojo  Nyantungo    Ntutu  Bunyonyi   Ronald Byamukama   \n",
       "1320  Kyenjojo  Nyantungo    Ntutu  Bunyonyi    Julius Amanyire   \n",
       "\n",
       "      Household_Head_Age  Household_Head_Contact Household_Head_Gender  \\\n",
       "942                   23                      99                  Male   \n",
       "892                   30               787840089                  Male   \n",
       "1017                  26               783035400                  Male   \n",
       "1340                  22               776263936                  Male   \n",
       "1320                  28               773127911                  Male   \n",
       "\n",
       "                      hhid    HHH_Gender  status  \n",
       "942   KYE-BUH-HAN-M-180443  Youth Headed  target  \n",
       "892   KYE-BUH-PAT-M-125649  Youth Headed  target  \n",
       "1017  KYE-BUH-ISA-M-120517  Youth Headed  target  \n",
       "1340  Kye-Bun-Ron-M-131713  Youth Headed  target  \n",
       "1320  Kye-Bun-Jul-M-175823  Youth Headed  target  "
      ]
     },
     "execution_count": 71,
     "metadata": {},
     "output_type": "execute_result"
    }
   ],
   "source": [
    "youth_target_sample.head()"
   ]
  },
  {
   "cell_type": "code",
   "execution_count": 72,
   "id": "60bf6a99",
   "metadata": {
    "id": "bf8ab55d",
    "slideshow": {
     "slide_type": "skip"
    }
   },
   "outputs": [],
   "source": [
    "# youth_target_sample.to_excel('mit/youth_target_sample.xlsx', index=False)"
   ]
  },
  {
   "cell_type": "markdown",
   "id": "a5d04874",
   "metadata": {
    "id": "c409fcb9",
    "slideshow": {
     "slide_type": "slide"
    }
   },
   "source": [
    "## Reserve frame"
   ]
  },
  {
   "cell_type": "code",
   "execution_count": 73,
   "id": "99328c13",
   "metadata": {
    "id": "ba880cf1",
    "outputId": "9dcd5661-032f-4141-834f-d84e773ebe55",
    "slideshow": {
     "slide_type": "fragment"
    }
   },
   "outputs": [
    {
     "data": {
      "text/plain": [
       "(360, 10)"
      ]
     },
     "execution_count": 73,
     "metadata": {},
     "output_type": "execute_result"
    }
   ],
   "source": [
    "youth_reserve_s_frame = youth_HH_samp_frame.drop(index = youth_target_sample.index)\n",
    "youth_reserve_s_frame.shape"
   ]
  },
  {
   "cell_type": "code",
   "execution_count": 74,
   "id": "6694dea9",
   "metadata": {
    "id": "52e433b4",
    "slideshow": {
     "slide_type": "skip"
    }
   },
   "outputs": [],
   "source": [
    "# youth_reserve_s_frame.to_excel('mit/youth_reserve_s_frame.xlsx', index=False)"
   ]
  },
  {
   "cell_type": "code",
   "execution_count": 75,
   "id": "479b22e7",
   "metadata": {
    "id": "0d0c7d45",
    "slideshow": {
     "slide_type": "fragment"
    }
   },
   "outputs": [
    {
     "name": "stderr",
     "output_type": "stream",
     "text": [
      "/var/folders/xd/0btgr76j2zxc4__ynw0yhwbm0000gn/T/ipykernel_49344/1565627471.py:1: DeprecationWarning: DataFrameGroupBy.apply operated on the grouping columns. This behavior is deprecated, and in a future version of pandas the grouping columns will be excluded from the operation. Either pass `include_groups=False` to exclude the groupings or explicitly select the grouping columns after groupby to silence this warning.\n",
      "  youth_reserve_sample = youth_reserve_s_frame.groupby('village', group_keys=False).apply(lambda x: x.sample(n=min(len(x), 2)))\n"
     ]
    }
   ],
   "source": [
    "youth_reserve_sample = youth_reserve_s_frame.groupby('village', group_keys=False).apply(lambda x: x.sample(n=min(len(x), 2)))"
   ]
  },
  {
   "cell_type": "code",
   "execution_count": 76,
   "id": "3baef350",
   "metadata": {
    "id": "dcf49b93",
    "outputId": "2dc5de30-9a7c-49e3-b748-610562cd4b76",
    "slideshow": {
     "slide_type": "fragment"
    }
   },
   "outputs": [
    {
     "data": {
      "text/html": [
       "<div>\n",
       "<style scoped>\n",
       "    .dataframe tbody tr th:only-of-type {\n",
       "        vertical-align: middle;\n",
       "    }\n",
       "\n",
       "    .dataframe tbody tr th {\n",
       "        vertical-align: top;\n",
       "    }\n",
       "\n",
       "    .dataframe thead th {\n",
       "        text-align: right;\n",
       "    }\n",
       "</style>\n",
       "<table border=\"1\" class=\"dataframe\">\n",
       "  <thead>\n",
       "    <tr style=\"text-align: right;\">\n",
       "      <th></th>\n",
       "      <th>district</th>\n",
       "      <th>subcounty</th>\n",
       "      <th>parish_t</th>\n",
       "      <th>village</th>\n",
       "      <th>hhh_full_name</th>\n",
       "      <th>Household_Head_Age</th>\n",
       "      <th>Household_Head_Contact</th>\n",
       "      <th>Household_Head_Gender</th>\n",
       "      <th>hhid</th>\n",
       "      <th>HHH_Gender</th>\n",
       "      <th>status</th>\n",
       "    </tr>\n",
       "  </thead>\n",
       "  <tbody>\n",
       "    <tr>\n",
       "      <th>981</th>\n",
       "      <td>Kyenjojo</td>\n",
       "      <td>Nyantungo</td>\n",
       "      <td>Mabaale</td>\n",
       "      <td>Buhisi</td>\n",
       "      <td>Twikirize Mwesige</td>\n",
       "      <td>26</td>\n",
       "      <td>777640137</td>\n",
       "      <td>Male</td>\n",
       "      <td>KYE-BUH-TWI-M-124548</td>\n",
       "      <td>Youth Headed</td>\n",
       "      <td>reserve</td>\n",
       "    </tr>\n",
       "    <tr>\n",
       "      <th>932</th>\n",
       "      <td>Kyenjojo</td>\n",
       "      <td>Nyantungo</td>\n",
       "      <td>Mabaale</td>\n",
       "      <td>Buhisi</td>\n",
       "      <td>Timoth Asaba</td>\n",
       "      <td>25</td>\n",
       "      <td>99</td>\n",
       "      <td>Male</td>\n",
       "      <td>KYE-BUH-TIM-M-170813</td>\n",
       "      <td>Youth Headed</td>\n",
       "      <td>reserve</td>\n",
       "    </tr>\n",
       "    <tr>\n",
       "      <th>403</th>\n",
       "      <td>Kyenjojo</td>\n",
       "      <td>Nyantungo</td>\n",
       "      <td>Ntutu</td>\n",
       "      <td>Bunyonyi</td>\n",
       "      <td>Robert Agondeze</td>\n",
       "      <td>25</td>\n",
       "      <td>777350675</td>\n",
       "      <td>Male</td>\n",
       "      <td>Kye-Bun-Rob-M-124533</td>\n",
       "      <td>Youth Headed</td>\n",
       "      <td>reserve</td>\n",
       "    </tr>\n",
       "    <tr>\n",
       "      <th>1334</th>\n",
       "      <td>Kyenjojo</td>\n",
       "      <td>Nyantungo</td>\n",
       "      <td>Ntutu</td>\n",
       "      <td>Bunyonyi</td>\n",
       "      <td>Fred Tumusiime</td>\n",
       "      <td>21</td>\n",
       "      <td>753596621</td>\n",
       "      <td>Male</td>\n",
       "      <td>Kye-Bun-Fre-M-123835</td>\n",
       "      <td>Youth Headed</td>\n",
       "      <td>reserve</td>\n",
       "    </tr>\n",
       "    <tr>\n",
       "      <th>142</th>\n",
       "      <td>Kyenjojo</td>\n",
       "      <td>Nyankwanzi</td>\n",
       "      <td>Kaitanyana</td>\n",
       "      <td>Hakabale</td>\n",
       "      <td>Dickson Naturinda</td>\n",
       "      <td>20</td>\n",
       "      <td>777</td>\n",
       "      <td>Male</td>\n",
       "      <td>KYE-HAK-DIC-M-125927</td>\n",
       "      <td>Youth Headed</td>\n",
       "      <td>reserve</td>\n",
       "    </tr>\n",
       "  </tbody>\n",
       "</table>\n",
       "</div>"
      ],
      "text/plain": [
       "      district   subcounty    parish_t   village      hhh_full_name  \\\n",
       "981   Kyenjojo   Nyantungo     Mabaale    Buhisi  Twikirize Mwesige   \n",
       "932   Kyenjojo   Nyantungo     Mabaale    Buhisi       Timoth Asaba   \n",
       "403   Kyenjojo   Nyantungo       Ntutu  Bunyonyi    Robert Agondeze   \n",
       "1334  Kyenjojo   Nyantungo       Ntutu  Bunyonyi     Fred Tumusiime   \n",
       "142   Kyenjojo  Nyankwanzi  Kaitanyana  Hakabale  Dickson Naturinda   \n",
       "\n",
       "      Household_Head_Age  Household_Head_Contact Household_Head_Gender  \\\n",
       "981                   26               777640137                  Male   \n",
       "932                   25                      99                  Male   \n",
       "403                   25               777350675                  Male   \n",
       "1334                  21               753596621                  Male   \n",
       "142                   20                     777                  Male   \n",
       "\n",
       "                      hhid    HHH_Gender   status  \n",
       "981   KYE-BUH-TWI-M-124548  Youth Headed  reserve  \n",
       "932   KYE-BUH-TIM-M-170813  Youth Headed  reserve  \n",
       "403   Kye-Bun-Rob-M-124533  Youth Headed  reserve  \n",
       "1334  Kye-Bun-Fre-M-123835  Youth Headed  reserve  \n",
       "142   KYE-HAK-DIC-M-125927  Youth Headed  reserve  "
      ]
     },
     "execution_count": 76,
     "metadata": {},
     "output_type": "execute_result"
    }
   ],
   "source": [
    "youth_reserve_sample['status'] = 'reserve'\n",
    "youth_reserve_sample.head()"
   ]
  },
  {
   "cell_type": "code",
   "execution_count": 77,
   "id": "35632d17",
   "metadata": {
    "id": "0aff8617",
    "slideshow": {
     "slide_type": "skip"
    }
   },
   "outputs": [],
   "source": [
    "# youth_reserve_sample.to_excel('mit/youth_reserve_sample.xlsx', index=False)"
   ]
  },
  {
   "cell_type": "markdown",
   "id": "a7eacb52",
   "metadata": {
    "id": "55c723e1",
    "slideshow": {
     "slide_type": "slide"
    }
   },
   "source": [
    "# Youth Household Sample"
   ]
  },
  {
   "cell_type": "code",
   "execution_count": 78,
   "id": "c2e86921",
   "metadata": {
    "id": "1fa36c9b",
    "outputId": "b4f3199b-b088-4116-91d9-4c5971286f16",
    "slideshow": {
     "slide_type": "skip"
    }
   },
   "outputs": [
    {
     "data": {
      "text/plain": [
       "((51, 11), (34, 11))"
      ]
     },
     "execution_count": 78,
     "metadata": {},
     "output_type": "execute_result"
    }
   ],
   "source": [
    "youth_target_sample.shape, youth_reserve_sample.shape"
   ]
  },
  {
   "cell_type": "code",
   "execution_count": 79,
   "id": "189c2382",
   "metadata": {
    "id": "dbf967a5",
    "slideshow": {
     "slide_type": "fragment"
    }
   },
   "outputs": [],
   "source": [
    "YOUTH_HH_SAMPLE = pd.concat([youth_target_sample, youth_reserve_sample])"
   ]
  },
  {
   "cell_type": "code",
   "execution_count": 80,
   "id": "adcf5732",
   "metadata": {
    "id": "42b22501",
    "slideshow": {
     "slide_type": "skip"
    }
   },
   "outputs": [],
   "source": [
    "# YOUTH_HH_SAMPLE.to_excel('mit/YOUTH_HH_SAMPLE.xlsx', index=False)"
   ]
  },
  {
   "cell_type": "markdown",
   "id": "b02055cd",
   "metadata": {
    "slideshow": {
     "slide_type": "skip"
    }
   },
   "source": [
    "We now have sample for males, females, and youths. Let's combine."
   ]
  },
  {
   "cell_type": "markdown",
   "id": "fdc3a1c3",
   "metadata": {
    "id": "6184c074",
    "slideshow": {
     "slide_type": "slide"
    }
   },
   "source": [
    "# JOINING THE DATAFRAMES"
   ]
  },
  {
   "cell_type": "code",
   "execution_count": 81,
   "id": "39d85bc3",
   "metadata": {
    "id": "4128546d",
    "outputId": "4b648906-ebb7-438e-bc28-0df3a63b5276",
    "slideshow": {
     "slide_type": "fragment"
    }
   },
   "outputs": [
    {
     "data": {
      "text/plain": [
       "((221, 11), (85, 11), (85, 11))"
      ]
     },
     "execution_count": 81,
     "metadata": {},
     "output_type": "execute_result"
    }
   ],
   "source": [
    "MALE_HH_SAMPLE.shape, FEMALE_HH_SAMPLE.shape, YOUTH_HH_SAMPLE.shape"
   ]
  },
  {
   "cell_type": "code",
   "execution_count": 82,
   "id": "63f6138b",
   "metadata": {
    "slideshow": {
     "slide_type": "skip"
    }
   },
   "outputs": [],
   "source": [
    "import numpy as np"
   ]
  },
  {
   "cell_type": "code",
   "execution_count": 83,
   "id": "e92c861a",
   "metadata": {
    "id": "edc79f76",
    "outputId": "a762b494-3b76-412c-e022-e596bdcc665f",
    "slideshow": {
     "slide_type": "skip"
    }
   },
   "outputs": [
    {
     "data": {
      "text/plain": [
       "(391, 1547)"
      ]
     },
     "execution_count": 83,
     "metadata": {},
     "output_type": "execute_result"
    }
   ],
   "source": [
    "np.array((MALE_HH_SAMPLE.shape[0], FEMALE_HH_SAMPLE.shape[0], YOUTH_HH_SAMPLE.shape[0])).sum(), len(df)"
   ]
  },
  {
   "cell_type": "code",
   "execution_count": 84,
   "id": "7f54a358",
   "metadata": {
    "id": "e16a7432",
    "slideshow": {
     "slide_type": "fragment"
    }
   },
   "outputs": [],
   "source": [
    "FINAL = pd.concat([MALE_HH_SAMPLE, FEMALE_HH_SAMPLE, YOUTH_HH_SAMPLE])"
   ]
  },
  {
   "cell_type": "code",
   "execution_count": 85,
   "id": "d85eade2",
   "metadata": {
    "id": "a397efd5",
    "slideshow": {
     "slide_type": "fragment"
    }
   },
   "outputs": [],
   "source": [
    "FINAL.to_excel('FINAL_Randomized.xlsx', index=False)"
   ]
  },
  {
   "cell_type": "code",
   "execution_count": null,
   "id": "992f1b79-f2b6-4bb6-a35f-832f5a676bd4",
   "metadata": {},
   "outputs": [],
   "source": []
  },
  {
   "cell_type": "code",
   "execution_count": null,
   "id": "33ab2961-154b-4cad-af45-adb861ea658b",
   "metadata": {},
   "outputs": [],
   "source": []
  }
 ],
 "metadata": {
  "celltoolbar": "Slideshow",
  "colab": {
   "provenance": []
  },
  "kernelspec": {
   "display_name": "Python 3 (ipykernel)",
   "language": "python",
   "name": "python3"
  },
  "language_info": {
   "codemirror_mode": {
    "name": "ipython",
    "version": 3
   },
   "file_extension": ".py",
   "mimetype": "text/x-python",
   "name": "python",
   "nbconvert_exporter": "python",
   "pygments_lexer": "ipython3",
   "version": "3.10.9"
  }
 },
 "nbformat": 4,
 "nbformat_minor": 5
}
