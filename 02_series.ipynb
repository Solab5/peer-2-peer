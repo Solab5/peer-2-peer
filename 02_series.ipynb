{
 "cells": [
  {
   "cell_type": "code",
   "execution_count": 10,
   "id": "45a6f765-86ab-4904-abda-8958c99fd666",
   "metadata": {
    "tags": []
   },
   "outputs": [],
   "source": [
    "%load_ext autoreload\n",
    "%autoreload 2"
   ]
  },
  {
   "cell_type": "code",
   "execution_count": 44,
   "id": "4c695eed-9709-4033-9b8d-c4a00a047892",
   "metadata": {
    "tags": []
   },
   "outputs": [],
   "source": [
    "import numpy as np\n",
    "import pandas as pd\n",
    "from pathlib import Path"
   ]
  },
  {
   "cell_type": "code",
   "execution_count": 106,
   "id": "141edbb6-06f6-4d57-a8b0-0ac9c8555291",
   "metadata": {
    "tags": []
   },
   "outputs": [],
   "source": [
    "from common_functions.utils import read_file, prepare_data\n",
    "from sampling.sampling_functions import *"
   ]
  },
  {
   "cell_type": "code",
   "execution_count": 32,
   "id": "c8518589-8c54-435e-bd25-1c96cf4efbdc",
   "metadata": {
    "tags": []
   },
   "outputs": [],
   "source": [
    "path = Path(\"midwest2024.xlsx\")\n",
    "data = read_file(path)"
   ]
  },
  {
   "cell_type": "markdown",
   "id": "a116a779-d103-42e8-9ea7-2fc04e9aae39",
   "metadata": {},
   "source": [
    "### Data Processing"
   ]
  },
  {
   "cell_type": "code",
   "execution_count": 111,
   "id": "3407d673-8b84-4ed4-9a57-98c764244290",
   "metadata": {
    "tags": []
   },
   "outputs": [],
   "source": [
    "# Prepare a copy of our data so that we don't read the file all the time.\n",
    "df = data.copy()"
   ]
  },
  {
   "cell_type": "code",
   "execution_count": 112,
   "id": "0e64a2fb-ca57-4c76-86d9-785380cb60a0",
   "metadata": {
    "tags": []
   },
   "outputs": [],
   "source": [
    "df = prepare_data(df)"
   ]
  },
  {
   "cell_type": "code",
   "execution_count": 114,
   "id": "64425a16-7726-4066-ac9e-5a77d4bae1e1",
   "metadata": {
    "tags": []
   },
   "outputs": [],
   "source": [
    "# Let's get the counts for the villages\n",
    "village_counts = df['village'].value_counts()"
   ]
  },
  {
   "cell_type": "markdown",
   "id": "ce2fd96e-4c71-40b1-a00b-6fbebb587ee2",
   "metadata": {},
   "source": [
    "## Calling Sampling function to do all the heavy lifting."
   ]
  },
  {
   "cell_type": "code",
   "execution_count": 116,
   "id": "fa33259f-fd7a-48df-823a-1e584ad04c1d",
   "metadata": {
    "tags": []
   },
   "outputs": [],
   "source": [
    "FINAL = get_final_df(df.copy(), village_counts)"
   ]
  }
 ],
 "metadata": {
  "kernelspec": {
   "display_name": "Python 3 (ipykernel)",
   "language": "python",
   "name": "python3"
  },
  "language_info": {
   "codemirror_mode": {
    "name": "ipython",
    "version": 3
   },
   "file_extension": ".py",
   "mimetype": "text/x-python",
   "name": "python",
   "nbconvert_exporter": "python",
   "pygments_lexer": "ipython3",
   "version": "3.10.12"
  }
 },
 "nbformat": 4,
 "nbformat_minor": 5
}
