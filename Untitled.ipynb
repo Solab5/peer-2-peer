{
 "cells": [
  {
   "cell_type": "markdown",
   "id": "f4ff31ec-202c-4837-981c-72deafe46fee",
   "metadata": {},
   "source": [
    "## TO DO"
   ]
  },
  {
   "cell_type": "markdown",
   "id": "7d5cc657-73ae-41a3-806b-5b39145be41d",
   "metadata": {},
   "source": [
    "You realize that we used an excel file to load our dataframe, In some cases your file can be a csv, try writing a function that reads the file irrespctive of the file type without duplicating code.\n",
    "\n",
    "Hint:\n",
    "- Your function will first check the file type and then use the method that fits it.\n",
    "- To understand every how everything works, try thinking about it, if it fails try googling but its not advisable to use generative tools like ChatGPT."
   ]
  },
  {
   "cell_type": "code",
   "execution_count": null,
   "id": "3a19d48b-7909-45e5-9f56-df9a95cf9013",
   "metadata": {},
   "outputs": [],
   "source": []
  }
 ],
 "metadata": {
  "kernelspec": {
   "display_name": "Python 3 (ipykernel)",
   "language": "python",
   "name": "python3"
  },
  "language_info": {
   "codemirror_mode": {
    "name": "ipython",
    "version": 3
   },
   "file_extension": ".py",
   "mimetype": "text/x-python",
   "name": "python",
   "nbconvert_exporter": "python",
   "pygments_lexer": "ipython3",
   "version": "3.10.12"
  }
 },
 "nbformat": 4,
 "nbformat_minor": 5
}
