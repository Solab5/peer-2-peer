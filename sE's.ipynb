{
 "cells": [
  {
   "cell_type": "code",
   "execution_count": 1,
   "id": "13ccaef3",
   "metadata": {
    "id": "f064745d",
    "slideshow": {
     "slide_type": "fragment"
    }
   },
   "outputs": [],
   "source": [
    "import pandas as pd"
   ]
  },
  {
   "cell_type": "code",
   "execution_count": 2,
   "id": "d364f160",
   "metadata": {
    "id": "f064745d",
    "slideshow": {
     "slide_type": "slide"
    }
   },
   "outputs": [],
   "source": [
    "data = pd.read_excel(\"Master_Missing_Clusters corrected.xlsx\")"
   ]
  },
  {
   "cell_type": "code",
   "execution_count": 3,
   "id": "d1c762e9-d708-4c78-82f9-d3b78da00b96",
   "metadata": {},
   "outputs": [],
   "source": [
    "df = data.copy()"
   ]
  },
  {
   "cell_type": "code",
   "execution_count": 4,
   "id": "dfbf7397",
   "metadata": {
    "colab": {
     "base_uri": "https://localhost:8080/",
     "height": 504
    },
    "id": "ab74a51a",
    "outputId": "12194158-8848-4224-8b9b-93fa90e4b285",
    "slideshow": {
     "slide_type": "slide"
    }
   },
   "outputs": [
    {
     "name": "stdout",
     "output_type": "stream",
     "text": [
      "(20168, 13)\n"
     ]
    },
    {
     "data": {
      "text/html": [
       "<div>\n",
       "<style scoped>\n",
       "    .dataframe tbody tr th:only-of-type {\n",
       "        vertical-align: middle;\n",
       "    }\n",
       "\n",
       "    .dataframe tbody tr th {\n",
       "        vertical-align: top;\n",
       "    }\n",
       "\n",
       "    .dataframe thead th {\n",
       "        text-align: right;\n",
       "    }\n",
       "</style>\n",
       "<table border=\"1\" class=\"dataframe\">\n",
       "  <thead>\n",
       "    <tr style=\"text-align: right;\">\n",
       "      <th></th>\n",
       "      <th>district</th>\n",
       "      <th>subcounty</th>\n",
       "      <th>Parish</th>\n",
       "      <th>village</th>\n",
       "      <th>cohort</th>\n",
       "      <th>Cycle</th>\n",
       "      <th>hhh_name</th>\n",
       "      <th>age</th>\n",
       "      <th>Contact</th>\n",
       "      <th>gender</th>\n",
       "      <th>brk_out_err</th>\n",
       "      <th>id</th>\n",
       "      <th>m_preload</th>\n",
       "    </tr>\n",
       "  </thead>\n",
       "  <tbody>\n",
       "    <tr>\n",
       "      <th>20158</th>\n",
       "      <td>Mitooma</td>\n",
       "      <td>Rurehe</td>\n",
       "      <td>Rurehe South</td>\n",
       "      <td>Rwenkuba</td>\n",
       "      <td>2022</td>\n",
       "      <td>B</td>\n",
       "      <td>Ronard Katurebe</td>\n",
       "      <td>38.0</td>\n",
       "      <td>774981346.0</td>\n",
       "      <td>Male</td>\n",
       "      <td>NaN</td>\n",
       "      <td>MIT-RWE-RON-M-38252</td>\n",
       "      <td>Mitooma</td>\n",
       "    </tr>\n",
       "    <tr>\n",
       "      <th>20159</th>\n",
       "      <td>Mitooma</td>\n",
       "      <td>Rurehe</td>\n",
       "      <td>Rurehe South</td>\n",
       "      <td>Rwenkuba</td>\n",
       "      <td>2022</td>\n",
       "      <td>B</td>\n",
       "      <td>Seforoza Kamasegye</td>\n",
       "      <td>73.0</td>\n",
       "      <td>99.0</td>\n",
       "      <td>Female</td>\n",
       "      <td>NaN</td>\n",
       "      <td>MIT-RWE-SEF-F-38338</td>\n",
       "      <td>Mitooma</td>\n",
       "    </tr>\n",
       "    <tr>\n",
       "      <th>20160</th>\n",
       "      <td>Mitooma</td>\n",
       "      <td>Rurehe</td>\n",
       "      <td>Rurehe South</td>\n",
       "      <td>Rwenkuba</td>\n",
       "      <td>2022</td>\n",
       "      <td>B</td>\n",
       "      <td>Silva Rwemijende</td>\n",
       "      <td>50.0</td>\n",
       "      <td>787953807.0</td>\n",
       "      <td>Male</td>\n",
       "      <td>NaN</td>\n",
       "      <td>MIT-RWE-SIL-M-38303</td>\n",
       "      <td>Mitooma</td>\n",
       "    </tr>\n",
       "    <tr>\n",
       "      <th>20161</th>\n",
       "      <td>Mitooma</td>\n",
       "      <td>Rurehe</td>\n",
       "      <td>Rurehe South</td>\n",
       "      <td>Rwenkuba</td>\n",
       "      <td>2022</td>\n",
       "      <td>B</td>\n",
       "      <td>Simith Kibirigye</td>\n",
       "      <td>70.0</td>\n",
       "      <td>775220805.0</td>\n",
       "      <td>Male</td>\n",
       "      <td>NaN</td>\n",
       "      <td>MIT-RWE-SIM-M-38331</td>\n",
       "      <td>Mitooma</td>\n",
       "    </tr>\n",
       "    <tr>\n",
       "      <th>20162</th>\n",
       "      <td>Mitooma</td>\n",
       "      <td>Rurehe</td>\n",
       "      <td>Rurehe South</td>\n",
       "      <td>Rwenkuba</td>\n",
       "      <td>2022</td>\n",
       "      <td>B</td>\n",
       "      <td>Vajirina Murekye</td>\n",
       "      <td>85.0</td>\n",
       "      <td>992.0</td>\n",
       "      <td>Female</td>\n",
       "      <td>NaN</td>\n",
       "      <td>MIT-RWE-VAJ-F-38322</td>\n",
       "      <td>Mitooma</td>\n",
       "    </tr>\n",
       "    <tr>\n",
       "      <th>20163</th>\n",
       "      <td>Mitooma</td>\n",
       "      <td>Rurehe</td>\n",
       "      <td>Rurehe South</td>\n",
       "      <td>Rwenkuba</td>\n",
       "      <td>2022</td>\n",
       "      <td>B</td>\n",
       "      <td>Venesia Twogirwe</td>\n",
       "      <td>47.0</td>\n",
       "      <td>772663391.0</td>\n",
       "      <td>Female</td>\n",
       "      <td>NaN</td>\n",
       "      <td>MIT-RWE-VEN-F-38275</td>\n",
       "      <td>Mitooma</td>\n",
       "    </tr>\n",
       "    <tr>\n",
       "      <th>20164</th>\n",
       "      <td>Mitooma</td>\n",
       "      <td>Rurehe</td>\n",
       "      <td>Rurehe South</td>\n",
       "      <td>Rwenkuba</td>\n",
       "      <td>2022</td>\n",
       "      <td>B</td>\n",
       "      <td>Verinah Kemishara</td>\n",
       "      <td>60.0</td>\n",
       "      <td>779511808.0</td>\n",
       "      <td>Female</td>\n",
       "      <td>NaN</td>\n",
       "      <td>MIT-RWE-VER-F-38335</td>\n",
       "      <td>Mitooma</td>\n",
       "    </tr>\n",
       "    <tr>\n",
       "      <th>20165</th>\n",
       "      <td>Mitooma</td>\n",
       "      <td>Rurehe</td>\n",
       "      <td>Rurehe South</td>\n",
       "      <td>Rwenkuba</td>\n",
       "      <td>2022</td>\n",
       "      <td>B</td>\n",
       "      <td>Vereriano Kaharuza</td>\n",
       "      <td>85.0</td>\n",
       "      <td>99.0</td>\n",
       "      <td>Male</td>\n",
       "      <td>NaN</td>\n",
       "      <td>MIT-RWE-VER-M-38239</td>\n",
       "      <td>Mitooma</td>\n",
       "    </tr>\n",
       "    <tr>\n",
       "      <th>20166</th>\n",
       "      <td>Mitooma</td>\n",
       "      <td>Rurehe</td>\n",
       "      <td>Rurehe South</td>\n",
       "      <td>Rwenkuba</td>\n",
       "      <td>2022</td>\n",
       "      <td>B</td>\n",
       "      <td>Wiikirife Ssekamate</td>\n",
       "      <td>32.0</td>\n",
       "      <td>761147550.0</td>\n",
       "      <td>Male</td>\n",
       "      <td>NaN</td>\n",
       "      <td>MIT-RWE-WII-M-38251</td>\n",
       "      <td>Mitooma</td>\n",
       "    </tr>\n",
       "    <tr>\n",
       "      <th>20167</th>\n",
       "      <td>Mitooma</td>\n",
       "      <td>Rurehe</td>\n",
       "      <td>Rurehe South</td>\n",
       "      <td>Rwenkuba</td>\n",
       "      <td>2022</td>\n",
       "      <td>B</td>\n",
       "      <td>Willison Kasese</td>\n",
       "      <td>57.0</td>\n",
       "      <td>774163744.0</td>\n",
       "      <td>Male</td>\n",
       "      <td>NaN</td>\n",
       "      <td>MIT-RWE-WIL-M-38238</td>\n",
       "      <td>Mitooma</td>\n",
       "    </tr>\n",
       "  </tbody>\n",
       "</table>\n",
       "</div>"
      ],
      "text/plain": [
       "      district subcounty        Parish   village  cohort Cycle  \\\n",
       "20158  Mitooma    Rurehe  Rurehe South  Rwenkuba    2022     B   \n",
       "20159  Mitooma    Rurehe  Rurehe South  Rwenkuba    2022     B   \n",
       "20160  Mitooma    Rurehe  Rurehe South  Rwenkuba    2022     B   \n",
       "20161  Mitooma    Rurehe  Rurehe South  Rwenkuba    2022     B   \n",
       "20162  Mitooma    Rurehe  Rurehe South  Rwenkuba    2022     B   \n",
       "20163  Mitooma    Rurehe  Rurehe South  Rwenkuba    2022     B   \n",
       "20164  Mitooma    Rurehe  Rurehe South  Rwenkuba    2022     B   \n",
       "20165  Mitooma    Rurehe  Rurehe South  Rwenkuba    2022     B   \n",
       "20166  Mitooma    Rurehe  Rurehe South  Rwenkuba    2022     B   \n",
       "20167  Mitooma    Rurehe  Rurehe South  Rwenkuba    2022     B   \n",
       "\n",
       "                  hhh_name   age      Contact  gender  brk_out_err  \\\n",
       "20158      Ronard Katurebe  38.0  774981346.0    Male          NaN   \n",
       "20159   Seforoza Kamasegye  73.0         99.0  Female          NaN   \n",
       "20160     Silva Rwemijende  50.0  787953807.0    Male          NaN   \n",
       "20161     Simith Kibirigye  70.0  775220805.0    Male          NaN   \n",
       "20162     Vajirina Murekye  85.0        992.0  Female          NaN   \n",
       "20163     Venesia Twogirwe  47.0  772663391.0  Female          NaN   \n",
       "20164    Verinah Kemishara  60.0  779511808.0  Female          NaN   \n",
       "20165   Vereriano Kaharuza  85.0         99.0    Male          NaN   \n",
       "20166  Wiikirife Ssekamate  32.0  761147550.0    Male          NaN   \n",
       "20167      Willison Kasese  57.0  774163744.0    Male          NaN   \n",
       "\n",
       "                        id m_preload  \n",
       "20158  MIT-RWE-RON-M-38252   Mitooma  \n",
       "20159  MIT-RWE-SEF-F-38338   Mitooma  \n",
       "20160  MIT-RWE-SIL-M-38303   Mitooma  \n",
       "20161  MIT-RWE-SIM-M-38331   Mitooma  \n",
       "20162  MIT-RWE-VAJ-F-38322   Mitooma  \n",
       "20163  MIT-RWE-VEN-F-38275   Mitooma  \n",
       "20164  MIT-RWE-VER-F-38335   Mitooma  \n",
       "20165  MIT-RWE-VER-M-38239   Mitooma  \n",
       "20166  MIT-RWE-WII-M-38251   Mitooma  \n",
       "20167  MIT-RWE-WIL-M-38238   Mitooma  "
      ]
     },
     "execution_count": 4,
     "metadata": {},
     "output_type": "execute_result"
    }
   ],
   "source": [
    "print(df.shape)\n",
    "df.tail(10)"
   ]
  },
  {
   "cell_type": "code",
   "execution_count": 5,
   "id": "8af759dc",
   "metadata": {
    "colab": {
     "base_uri": "https://localhost:8080/"
    },
    "id": "177ba33d",
    "outputId": "3974aacd-f661-4c0f-819c-7b13392533f7",
    "slideshow": {
     "slide_type": "slide"
    }
   },
   "outputs": [
    {
     "data": {
      "text/plain": [
       "['district',\n",
       " 'subcounty',\n",
       " 'Parish',\n",
       " 'village',\n",
       " 'cohort',\n",
       " 'Cycle',\n",
       " 'hhh_name',\n",
       " 'age',\n",
       " 'Contact',\n",
       " 'gender',\n",
       " 'brk_out_err',\n",
       " 'id',\n",
       " 'm_preload']"
      ]
     },
     "execution_count": 5,
     "metadata": {},
     "output_type": "execute_result"
    }
   ],
   "source": [
    "df.columns.to_list()"
   ]
  },
  {
   "cell_type": "code",
   "execution_count": 6,
   "id": "707f280a-b892-49db-af6d-92a4e10a62d5",
   "metadata": {
    "id": "861b8440",
    "slideshow": {
     "slide_type": "slide"
    }
   },
   "outputs": [],
   "source": [
    "columns = [\n",
    " 'district',\n",
    " 'subcounty',\n",
    " 'Parish',\n",
    " 'village',\n",
    " 'hhh_name',\n",
    " 'age',\n",
    " 'Contact',\n",
    " 'gender',\n",
    " 'id',\n",
    " ]"
   ]
  },
  {
   "cell_type": "code",
   "execution_count": 7,
   "id": "dd989bc5",
   "metadata": {
    "id": "dd11ea74",
    "slideshow": {
     "slide_type": "fragment"
    }
   },
   "outputs": [],
   "source": [
    "df = df[columns]"
   ]
  },
  {
   "cell_type": "code",
   "execution_count": 8,
   "id": "012c18a4-0e54-4b2f-8825-2b95a6c17f0d",
   "metadata": {},
   "outputs": [
    {
     "data": {
      "text/html": [
       "<div>\n",
       "<style scoped>\n",
       "    .dataframe tbody tr th:only-of-type {\n",
       "        vertical-align: middle;\n",
       "    }\n",
       "\n",
       "    .dataframe tbody tr th {\n",
       "        vertical-align: top;\n",
       "    }\n",
       "\n",
       "    .dataframe thead th {\n",
       "        text-align: right;\n",
       "    }\n",
       "</style>\n",
       "<table border=\"1\" class=\"dataframe\">\n",
       "  <thead>\n",
       "    <tr style=\"text-align: right;\">\n",
       "      <th></th>\n",
       "      <th>district</th>\n",
       "      <th>subcounty</th>\n",
       "      <th>Parish</th>\n",
       "      <th>village</th>\n",
       "      <th>hhh_name</th>\n",
       "      <th>age</th>\n",
       "      <th>Contact</th>\n",
       "      <th>gender</th>\n",
       "      <th>id</th>\n",
       "    </tr>\n",
       "  </thead>\n",
       "  <tbody>\n",
       "    <tr>\n",
       "      <th>0</th>\n",
       "      <td>Kanungu</td>\n",
       "      <td>Kanyantorogo</td>\n",
       "      <td>Kihembe</td>\n",
       "      <td>Kanyansande_Kihembe</td>\n",
       "      <td>Glorious Kyomukama</td>\n",
       "      <td>41.0</td>\n",
       "      <td>777430498.0</td>\n",
       "      <td>Female</td>\n",
       "      <td>NaN</td>\n",
       "    </tr>\n",
       "    <tr>\n",
       "      <th>1</th>\n",
       "      <td>Kagadi</td>\n",
       "      <td>Ruteete</td>\n",
       "      <td>Ruboona</td>\n",
       "      <td>Bufundi</td>\n",
       "      <td>Abel Ngabirino</td>\n",
       "      <td>48.0</td>\n",
       "      <td>778344783.0</td>\n",
       "      <td>Male</td>\n",
       "      <td>KAG-BUF-ABE-M-42833</td>\n",
       "    </tr>\n",
       "    <tr>\n",
       "      <th>2</th>\n",
       "      <td>Kagadi</td>\n",
       "      <td>Ruteete</td>\n",
       "      <td>Ruboona</td>\n",
       "      <td>Bufundi</td>\n",
       "      <td>Adson Twirinabo</td>\n",
       "      <td>32.0</td>\n",
       "      <td>774646347.0</td>\n",
       "      <td>Male</td>\n",
       "      <td>KAG-BUF-ADS-M-42789</td>\n",
       "    </tr>\n",
       "    <tr>\n",
       "      <th>3</th>\n",
       "      <td>Kagadi</td>\n",
       "      <td>Ruteete</td>\n",
       "      <td>Ruboona</td>\n",
       "      <td>Bufundi</td>\n",
       "      <td>Agnes Kyampire</td>\n",
       "      <td>35.0</td>\n",
       "      <td>99.0</td>\n",
       "      <td>Female</td>\n",
       "      <td>KAG-BUF-AGN-F-42815</td>\n",
       "    </tr>\n",
       "    <tr>\n",
       "      <th>4</th>\n",
       "      <td>Kagadi</td>\n",
       "      <td>Ruteete</td>\n",
       "      <td>Ruboona</td>\n",
       "      <td>Bufundi</td>\n",
       "      <td>Augustine Sunday</td>\n",
       "      <td>45.0</td>\n",
       "      <td>99.0</td>\n",
       "      <td>Male</td>\n",
       "      <td>KAG-BUF-AUG-M-42811</td>\n",
       "    </tr>\n",
       "  </tbody>\n",
       "</table>\n",
       "</div>"
      ],
      "text/plain": [
       "  district     subcounty   Parish              village            hhh_name  \\\n",
       "0  Kanungu  Kanyantorogo  Kihembe  Kanyansande_Kihembe  Glorious Kyomukama   \n",
       "1   Kagadi       Ruteete  Ruboona              Bufundi      Abel Ngabirino   \n",
       "2   Kagadi       Ruteete  Ruboona              Bufundi     Adson Twirinabo   \n",
       "3   Kagadi       Ruteete  Ruboona              Bufundi      Agnes Kyampire   \n",
       "4   Kagadi       Ruteete  Ruboona              Bufundi    Augustine Sunday   \n",
       "\n",
       "    age      Contact  gender                   id  \n",
       "0  41.0  777430498.0  Female                  NaN  \n",
       "1  48.0  778344783.0    Male  KAG-BUF-ABE-M-42833  \n",
       "2  32.0  774646347.0    Male  KAG-BUF-ADS-M-42789  \n",
       "3  35.0         99.0  Female  KAG-BUF-AGN-F-42815  \n",
       "4  45.0         99.0    Male  KAG-BUF-AUG-M-42811  "
      ]
     },
     "execution_count": 8,
     "metadata": {},
     "output_type": "execute_result"
    }
   ],
   "source": [
    "df.head()"
   ]
  },
  {
   "cell_type": "code",
   "execution_count": 9,
   "id": "8d934dc3",
   "metadata": {
    "id": "9bddb919-95d6-4f38-9f3b-ffb36439ae00",
    "slideshow": {
     "slide_type": "fragment"
    }
   },
   "outputs": [],
   "source": [
    "df = df.drop_duplicates('id', keep='first')"
   ]
  },
  {
   "cell_type": "code",
   "execution_count": 10,
   "id": "3125c7b7",
   "metadata": {
    "id": "85b6f7a8",
    "outputId": "49dd801c-79d9-42b3-dd17-09d582d1b6d6",
    "slideshow": {
     "slide_type": "fragment"
    }
   },
   "outputs": [
    {
     "data": {
      "text/plain": [
       "gender\n",
       "Male      14353\n",
       "Female     4891\n",
       "NaN         446\n",
       "male        308\n",
       "M            78\n",
       "female       67\n",
       "F            25\n",
       "Name: count, dtype: int64"
      ]
     },
     "execution_count": 10,
     "metadata": {},
     "output_type": "execute_result"
    }
   ],
   "source": [
    "df['gender'].value_counts(dropna=False)"
   ]
  },
  {
   "cell_type": "code",
   "execution_count": 11,
   "id": "a210539d-e9c9-403c-854b-dddf283a790a",
   "metadata": {},
   "outputs": [],
   "source": [
    "gender_mapping = {\n",
    "    'male': 'Male',\n",
    "    'm':'Male',\n",
    "    'female': 'Female',\n",
    "    'f': 'Female',\n",
    "    'feamale': 'Female',\n",
    "    'female`': 'Female',\n",
    "    'femaLe':'Female',\n",
    "    'femae': 'Female',\n",
    "    'male ': 'Male'\n",
    "}"
   ]
  },
  {
   "cell_type": "code",
   "execution_count": 12,
   "id": "e91cea52-6e95-4896-a1cd-461df58922e9",
   "metadata": {},
   "outputs": [],
   "source": [
    "df['gender'] = df['gender'].str.lower().map(gender_mapping)"
   ]
  },
  {
   "cell_type": "code",
   "execution_count": null,
   "id": "1538dea0-eba2-4d34-a832-cdc0a2098e83",
   "metadata": {},
   "outputs": [],
   "source": []
  },
  {
   "cell_type": "code",
   "execution_count": 13,
   "id": "31943233",
   "metadata": {
    "id": "be91d1c0",
    "slideshow": {
     "slide_type": "fragment"
    }
   },
   "outputs": [],
   "source": [
    "df['HHH_Gender'] = df['gender']"
   ]
  },
  {
   "cell_type": "code",
   "execution_count": 14,
   "id": "76a44571-8707-416b-87f0-a8ab0417d7cc",
   "metadata": {
    "id": "be91d1c0",
    "slideshow": {
     "slide_type": "fragment"
    }
   },
   "outputs": [
    {
     "data": {
      "text/plain": [
       "HHH_Gender\n",
       "Male      14739\n",
       "Female     4983\n",
       "NaN         446\n",
       "Name: count, dtype: int64"
      ]
     },
     "execution_count": 14,
     "metadata": {},
     "output_type": "execute_result"
    }
   ],
   "source": [
    "df['HHH_Gender'].value_counts(dropna=False)"
   ]
  },
  {
   "cell_type": "code",
   "execution_count": 15,
   "id": "2d96c07e",
   "metadata": {
    "id": "3ea6b1cd",
    "slideshow": {
     "slide_type": "fragment"
    }
   },
   "outputs": [],
   "source": [
    "df['gender'] = df.apply(\n",
    "    lambda row: 'Youth Headed' \n",
    "    if row['age'] <= 30 \n",
    "    else str(row['gender']) + ' Headed', axis=1\n",
    ")"
   ]
  },
  {
   "cell_type": "code",
   "execution_count": 19,
   "id": "2f8d71bb-b03b-482e-88fc-78ddce25e1db",
   "metadata": {},
   "outputs": [
    {
     "data": {
      "text/html": [
       "<div>\n",
       "<style scoped>\n",
       "    .dataframe tbody tr th:only-of-type {\n",
       "        vertical-align: middle;\n",
       "    }\n",
       "\n",
       "    .dataframe tbody tr th {\n",
       "        vertical-align: top;\n",
       "    }\n",
       "\n",
       "    .dataframe thead th {\n",
       "        text-align: right;\n",
       "    }\n",
       "</style>\n",
       "<table border=\"1\" class=\"dataframe\">\n",
       "  <thead>\n",
       "    <tr style=\"text-align: right;\">\n",
       "      <th></th>\n",
       "      <th>district</th>\n",
       "      <th>subcounty</th>\n",
       "      <th>Parish</th>\n",
       "      <th>village</th>\n",
       "      <th>hhh_name</th>\n",
       "      <th>age</th>\n",
       "      <th>Contact</th>\n",
       "      <th>gender</th>\n",
       "      <th>id</th>\n",
       "      <th>HHH_Gender</th>\n",
       "    </tr>\n",
       "  </thead>\n",
       "  <tbody>\n",
       "    <tr>\n",
       "      <th>20153</th>\n",
       "      <td>Mitooma</td>\n",
       "      <td>Rurehe</td>\n",
       "      <td>Rurehe South</td>\n",
       "      <td>Rwenkuba</td>\n",
       "      <td>Ri chard Karazi</td>\n",
       "      <td>49.0</td>\n",
       "      <td>99.0</td>\n",
       "      <td>Male Headed</td>\n",
       "      <td>MIT-RWE-RI -M-38271</td>\n",
       "      <td>Male</td>\n",
       "    </tr>\n",
       "    <tr>\n",
       "      <th>20154</th>\n",
       "      <td>Mitooma</td>\n",
       "      <td>Rurehe</td>\n",
       "      <td>Rurehe South</td>\n",
       "      <td>Rwenkuba</td>\n",
       "      <td>Ro bina Kabakire</td>\n",
       "      <td>80.0</td>\n",
       "      <td>99.0</td>\n",
       "      <td>Female Headed</td>\n",
       "      <td>MIT-RWE-RO -F-38247</td>\n",
       "      <td>Female</td>\n",
       "    </tr>\n",
       "    <tr>\n",
       "      <th>20155</th>\n",
       "      <td>Mitooma</td>\n",
       "      <td>Rurehe</td>\n",
       "      <td>Rurehe South</td>\n",
       "      <td>Rwenkuba</td>\n",
       "      <td>Robert Twazagye</td>\n",
       "      <td>45.0</td>\n",
       "      <td>77440002.0</td>\n",
       "      <td>Male Headed</td>\n",
       "      <td>MIT-RWE-ROB-M-38340</td>\n",
       "      <td>Male</td>\n",
       "    </tr>\n",
       "    <tr>\n",
       "      <th>20156</th>\n",
       "      <td>Mitooma</td>\n",
       "      <td>Rurehe</td>\n",
       "      <td>Rurehe South</td>\n",
       "      <td>Rwenkuba</td>\n",
       "      <td>Ronda Bagyema</td>\n",
       "      <td>80.0</td>\n",
       "      <td>780123808.0</td>\n",
       "      <td>Female Headed</td>\n",
       "      <td>MIT-RWE-RON-F-38320</td>\n",
       "      <td>Female</td>\n",
       "    </tr>\n",
       "    <tr>\n",
       "      <th>20157</th>\n",
       "      <td>Mitooma</td>\n",
       "      <td>Rurehe</td>\n",
       "      <td>Rurehe South</td>\n",
       "      <td>Rwenkuba</td>\n",
       "      <td>Ronard Turwomwe</td>\n",
       "      <td>36.0</td>\n",
       "      <td>787299414.0</td>\n",
       "      <td>Male Headed</td>\n",
       "      <td>MIT-RWE-RON-M-38248</td>\n",
       "      <td>Male</td>\n",
       "    </tr>\n",
       "    <tr>\n",
       "      <th>20158</th>\n",
       "      <td>Mitooma</td>\n",
       "      <td>Rurehe</td>\n",
       "      <td>Rurehe South</td>\n",
       "      <td>Rwenkuba</td>\n",
       "      <td>Ronard Katurebe</td>\n",
       "      <td>38.0</td>\n",
       "      <td>774981346.0</td>\n",
       "      <td>Male Headed</td>\n",
       "      <td>MIT-RWE-RON-M-38252</td>\n",
       "      <td>Male</td>\n",
       "    </tr>\n",
       "    <tr>\n",
       "      <th>20159</th>\n",
       "      <td>Mitooma</td>\n",
       "      <td>Rurehe</td>\n",
       "      <td>Rurehe South</td>\n",
       "      <td>Rwenkuba</td>\n",
       "      <td>Seforoza Kamasegye</td>\n",
       "      <td>73.0</td>\n",
       "      <td>99.0</td>\n",
       "      <td>Female Headed</td>\n",
       "      <td>MIT-RWE-SEF-F-38338</td>\n",
       "      <td>Female</td>\n",
       "    </tr>\n",
       "    <tr>\n",
       "      <th>20160</th>\n",
       "      <td>Mitooma</td>\n",
       "      <td>Rurehe</td>\n",
       "      <td>Rurehe South</td>\n",
       "      <td>Rwenkuba</td>\n",
       "      <td>Silva Rwemijende</td>\n",
       "      <td>50.0</td>\n",
       "      <td>787953807.0</td>\n",
       "      <td>Male Headed</td>\n",
       "      <td>MIT-RWE-SIL-M-38303</td>\n",
       "      <td>Male</td>\n",
       "    </tr>\n",
       "    <tr>\n",
       "      <th>20161</th>\n",
       "      <td>Mitooma</td>\n",
       "      <td>Rurehe</td>\n",
       "      <td>Rurehe South</td>\n",
       "      <td>Rwenkuba</td>\n",
       "      <td>Simith Kibirigye</td>\n",
       "      <td>70.0</td>\n",
       "      <td>775220805.0</td>\n",
       "      <td>Male Headed</td>\n",
       "      <td>MIT-RWE-SIM-M-38331</td>\n",
       "      <td>Male</td>\n",
       "    </tr>\n",
       "    <tr>\n",
       "      <th>20162</th>\n",
       "      <td>Mitooma</td>\n",
       "      <td>Rurehe</td>\n",
       "      <td>Rurehe South</td>\n",
       "      <td>Rwenkuba</td>\n",
       "      <td>Vajirina Murekye</td>\n",
       "      <td>85.0</td>\n",
       "      <td>992.0</td>\n",
       "      <td>Female Headed</td>\n",
       "      <td>MIT-RWE-VAJ-F-38322</td>\n",
       "      <td>Female</td>\n",
       "    </tr>\n",
       "    <tr>\n",
       "      <th>20163</th>\n",
       "      <td>Mitooma</td>\n",
       "      <td>Rurehe</td>\n",
       "      <td>Rurehe South</td>\n",
       "      <td>Rwenkuba</td>\n",
       "      <td>Venesia Twogirwe</td>\n",
       "      <td>47.0</td>\n",
       "      <td>772663391.0</td>\n",
       "      <td>Female Headed</td>\n",
       "      <td>MIT-RWE-VEN-F-38275</td>\n",
       "      <td>Female</td>\n",
       "    </tr>\n",
       "    <tr>\n",
       "      <th>20164</th>\n",
       "      <td>Mitooma</td>\n",
       "      <td>Rurehe</td>\n",
       "      <td>Rurehe South</td>\n",
       "      <td>Rwenkuba</td>\n",
       "      <td>Verinah Kemishara</td>\n",
       "      <td>60.0</td>\n",
       "      <td>779511808.0</td>\n",
       "      <td>Female Headed</td>\n",
       "      <td>MIT-RWE-VER-F-38335</td>\n",
       "      <td>Female</td>\n",
       "    </tr>\n",
       "    <tr>\n",
       "      <th>20165</th>\n",
       "      <td>Mitooma</td>\n",
       "      <td>Rurehe</td>\n",
       "      <td>Rurehe South</td>\n",
       "      <td>Rwenkuba</td>\n",
       "      <td>Vereriano Kaharuza</td>\n",
       "      <td>85.0</td>\n",
       "      <td>99.0</td>\n",
       "      <td>Male Headed</td>\n",
       "      <td>MIT-RWE-VER-M-38239</td>\n",
       "      <td>Male</td>\n",
       "    </tr>\n",
       "    <tr>\n",
       "      <th>20166</th>\n",
       "      <td>Mitooma</td>\n",
       "      <td>Rurehe</td>\n",
       "      <td>Rurehe South</td>\n",
       "      <td>Rwenkuba</td>\n",
       "      <td>Wiikirife Ssekamate</td>\n",
       "      <td>32.0</td>\n",
       "      <td>761147550.0</td>\n",
       "      <td>Male Headed</td>\n",
       "      <td>MIT-RWE-WII-M-38251</td>\n",
       "      <td>Male</td>\n",
       "    </tr>\n",
       "    <tr>\n",
       "      <th>20167</th>\n",
       "      <td>Mitooma</td>\n",
       "      <td>Rurehe</td>\n",
       "      <td>Rurehe South</td>\n",
       "      <td>Rwenkuba</td>\n",
       "      <td>Willison Kasese</td>\n",
       "      <td>57.0</td>\n",
       "      <td>774163744.0</td>\n",
       "      <td>Male Headed</td>\n",
       "      <td>MIT-RWE-WIL-M-38238</td>\n",
       "      <td>Male</td>\n",
       "    </tr>\n",
       "  </tbody>\n",
       "</table>\n",
       "</div>"
      ],
      "text/plain": [
       "      district subcounty        Parish   village             hhh_name   age  \\\n",
       "20153  Mitooma    Rurehe  Rurehe South  Rwenkuba      Ri chard Karazi  49.0   \n",
       "20154  Mitooma    Rurehe  Rurehe South  Rwenkuba     Ro bina Kabakire  80.0   \n",
       "20155  Mitooma    Rurehe  Rurehe South  Rwenkuba      Robert Twazagye  45.0   \n",
       "20156  Mitooma    Rurehe  Rurehe South  Rwenkuba        Ronda Bagyema  80.0   \n",
       "20157  Mitooma    Rurehe  Rurehe South  Rwenkuba      Ronard Turwomwe  36.0   \n",
       "20158  Mitooma    Rurehe  Rurehe South  Rwenkuba      Ronard Katurebe  38.0   \n",
       "20159  Mitooma    Rurehe  Rurehe South  Rwenkuba   Seforoza Kamasegye  73.0   \n",
       "20160  Mitooma    Rurehe  Rurehe South  Rwenkuba     Silva Rwemijende  50.0   \n",
       "20161  Mitooma    Rurehe  Rurehe South  Rwenkuba     Simith Kibirigye  70.0   \n",
       "20162  Mitooma    Rurehe  Rurehe South  Rwenkuba     Vajirina Murekye  85.0   \n",
       "20163  Mitooma    Rurehe  Rurehe South  Rwenkuba     Venesia Twogirwe  47.0   \n",
       "20164  Mitooma    Rurehe  Rurehe South  Rwenkuba    Verinah Kemishara  60.0   \n",
       "20165  Mitooma    Rurehe  Rurehe South  Rwenkuba   Vereriano Kaharuza  85.0   \n",
       "20166  Mitooma    Rurehe  Rurehe South  Rwenkuba  Wiikirife Ssekamate  32.0   \n",
       "20167  Mitooma    Rurehe  Rurehe South  Rwenkuba      Willison Kasese  57.0   \n",
       "\n",
       "           Contact         gender                   id HHH_Gender  \n",
       "20153         99.0    Male Headed  MIT-RWE-RI -M-38271       Male  \n",
       "20154         99.0  Female Headed  MIT-RWE-RO -F-38247     Female  \n",
       "20155   77440002.0    Male Headed  MIT-RWE-ROB-M-38340       Male  \n",
       "20156  780123808.0  Female Headed  MIT-RWE-RON-F-38320     Female  \n",
       "20157  787299414.0    Male Headed  MIT-RWE-RON-M-38248       Male  \n",
       "20158  774981346.0    Male Headed  MIT-RWE-RON-M-38252       Male  \n",
       "20159         99.0  Female Headed  MIT-RWE-SEF-F-38338     Female  \n",
       "20160  787953807.0    Male Headed  MIT-RWE-SIL-M-38303       Male  \n",
       "20161  775220805.0    Male Headed  MIT-RWE-SIM-M-38331       Male  \n",
       "20162        992.0  Female Headed  MIT-RWE-VAJ-F-38322     Female  \n",
       "20163  772663391.0  Female Headed  MIT-RWE-VEN-F-38275     Female  \n",
       "20164  779511808.0  Female Headed  MIT-RWE-VER-F-38335     Female  \n",
       "20165         99.0    Male Headed  MIT-RWE-VER-M-38239       Male  \n",
       "20166  761147550.0    Male Headed  MIT-RWE-WII-M-38251       Male  \n",
       "20167  774163744.0    Male Headed  MIT-RWE-WIL-M-38238       Male  "
      ]
     },
     "execution_count": 19,
     "metadata": {},
     "output_type": "execute_result"
    }
   ],
   "source": [
    "df.tail(15)"
   ]
  },
  {
   "cell_type": "code",
   "execution_count": null,
   "id": "b7808c2c-a907-4c83-ac74-217c4dd8bb3c",
   "metadata": {},
   "outputs": [],
   "source": []
  },
  {
   "cell_type": "code",
   "execution_count": 20,
   "id": "0747407e-4ca7-4958-960b-f87530d7e73a",
   "metadata": {
    "id": "be91d1c0",
    "slideshow": {
     "slide_type": "fragment"
    }
   },
   "outputs": [
    {
     "data": {
      "text/plain": [
       "gender\n",
       "Male Headed      10103\n",
       "Youth Headed      5523\n",
       "Female Headed     4101\n",
       "nan Headed         441\n",
       "Name: count, dtype: int64"
      ]
     },
     "execution_count": 20,
     "metadata": {},
     "output_type": "execute_result"
    }
   ],
   "source": [
    "df['gender'].value_counts()"
   ]
  },
  {
   "cell_type": "markdown",
   "id": "9a113438",
   "metadata": {
    "slideshow": {
     "slide_type": "notes"
    }
   },
   "source": [
    "The code below does exactly what we have done above, but you realize it's more complex than the latter. You might not prefer this but its good to understand how functions work because sometimes they are the deal."
   ]
  },
  {
   "cell_type": "code",
   "execution_count": 21,
   "id": "b78f873c",
   "metadata": {
    "slideshow": {
     "slide_type": "fragment"
    }
   },
   "outputs": [],
   "source": [
    "# def add_age(df, gender, age):\n",
    "#     for index, row in df.iterrows():\n",
    "#         if row[age] <= 30:\n",
    "#             df.at[index, gender] = 'Youth Headed'\n",
    "#         else:\n",
    "#             df.at[index, gender] = str(row[variable]) + ' Headed'"
   ]
  },
  {
   "cell_type": "markdown",
   "id": "2f6f16b3",
   "metadata": {
    "slideshow": {
     "slide_type": "notes"
    }
   },
   "source": [
    "We can apply the function like this by passing in the parameters, I did both ways, but the first one is even faster than this."
   ]
  },
  {
   "cell_type": "code",
   "execution_count": 22,
   "id": "d240ea40",
   "metadata": {
    "slideshow": {
     "slide_type": "fragment"
    }
   },
   "outputs": [],
   "source": [
    "# add_age(df, 'Household_Head_Gender','Household_Head_Age')"
   ]
  },
  {
   "cell_type": "code",
   "execution_count": 27,
   "id": "e0bd4fef",
   "metadata": {
    "slideshow": {
     "slide_type": "slide"
    }
   },
   "outputs": [
    {
     "data": {
      "text/html": [
       "<div>\n",
       "<style scoped>\n",
       "    .dataframe tbody tr th:only-of-type {\n",
       "        vertical-align: middle;\n",
       "    }\n",
       "\n",
       "    .dataframe tbody tr th {\n",
       "        vertical-align: top;\n",
       "    }\n",
       "\n",
       "    .dataframe thead th {\n",
       "        text-align: right;\n",
       "    }\n",
       "</style>\n",
       "<table border=\"1\" class=\"dataframe\">\n",
       "  <thead>\n",
       "    <tr style=\"text-align: right;\">\n",
       "      <th></th>\n",
       "      <th>district</th>\n",
       "      <th>subcounty</th>\n",
       "      <th>Parish</th>\n",
       "      <th>village</th>\n",
       "      <th>hhh_name</th>\n",
       "      <th>age</th>\n",
       "      <th>Contact</th>\n",
       "      <th>gender</th>\n",
       "      <th>id</th>\n",
       "      <th>HHH_Gender</th>\n",
       "      <th>Household_Head_Gender</th>\n",
       "    </tr>\n",
       "  </thead>\n",
       "  <tbody>\n",
       "    <tr>\n",
       "      <th>0</th>\n",
       "      <td>Kanungu</td>\n",
       "      <td>Kanyantorogo</td>\n",
       "      <td>Kihembe</td>\n",
       "      <td>Kanyansande_Kihembe</td>\n",
       "      <td>Glorious Kyomukama</td>\n",
       "      <td>41.0</td>\n",
       "      <td>777430498.0</td>\n",
       "      <td>Female Headed</td>\n",
       "      <td>NaN</td>\n",
       "      <td>Female</td>\n",
       "      <td>Female Headed</td>\n",
       "    </tr>\n",
       "    <tr>\n",
       "      <th>1</th>\n",
       "      <td>Kagadi</td>\n",
       "      <td>Ruteete</td>\n",
       "      <td>Ruboona</td>\n",
       "      <td>Bufundi</td>\n",
       "      <td>Abel Ngabirino</td>\n",
       "      <td>48.0</td>\n",
       "      <td>778344783.0</td>\n",
       "      <td>Male Headed</td>\n",
       "      <td>KAG-BUF-ABE-M-42833</td>\n",
       "      <td>Male</td>\n",
       "      <td>Male Headed</td>\n",
       "    </tr>\n",
       "    <tr>\n",
       "      <th>2</th>\n",
       "      <td>Kagadi</td>\n",
       "      <td>Ruteete</td>\n",
       "      <td>Ruboona</td>\n",
       "      <td>Bufundi</td>\n",
       "      <td>Adson Twirinabo</td>\n",
       "      <td>32.0</td>\n",
       "      <td>774646347.0</td>\n",
       "      <td>Male Headed</td>\n",
       "      <td>KAG-BUF-ADS-M-42789</td>\n",
       "      <td>Male</td>\n",
       "      <td>Male Headed</td>\n",
       "    </tr>\n",
       "    <tr>\n",
       "      <th>3</th>\n",
       "      <td>Kagadi</td>\n",
       "      <td>Ruteete</td>\n",
       "      <td>Ruboona</td>\n",
       "      <td>Bufundi</td>\n",
       "      <td>Agnes Kyampire</td>\n",
       "      <td>35.0</td>\n",
       "      <td>99.0</td>\n",
       "      <td>Female Headed</td>\n",
       "      <td>KAG-BUF-AGN-F-42815</td>\n",
       "      <td>Female</td>\n",
       "      <td>Female Headed</td>\n",
       "    </tr>\n",
       "    <tr>\n",
       "      <th>4</th>\n",
       "      <td>Kagadi</td>\n",
       "      <td>Ruteete</td>\n",
       "      <td>Ruboona</td>\n",
       "      <td>Bufundi</td>\n",
       "      <td>Augustine Sunday</td>\n",
       "      <td>45.0</td>\n",
       "      <td>99.0</td>\n",
       "      <td>Male Headed</td>\n",
       "      <td>KAG-BUF-AUG-M-42811</td>\n",
       "      <td>Male</td>\n",
       "      <td>Male Headed</td>\n",
       "    </tr>\n",
       "  </tbody>\n",
       "</table>\n",
       "</div>"
      ],
      "text/plain": [
       "  district     subcounty   Parish              village            hhh_name  \\\n",
       "0  Kanungu  Kanyantorogo  Kihembe  Kanyansande_Kihembe  Glorious Kyomukama   \n",
       "1   Kagadi       Ruteete  Ruboona              Bufundi      Abel Ngabirino   \n",
       "2   Kagadi       Ruteete  Ruboona              Bufundi     Adson Twirinabo   \n",
       "3   Kagadi       Ruteete  Ruboona              Bufundi      Agnes Kyampire   \n",
       "4   Kagadi       Ruteete  Ruboona              Bufundi    Augustine Sunday   \n",
       "\n",
       "    age      Contact         gender                   id HHH_Gender  \\\n",
       "0  41.0  777430498.0  Female Headed                  NaN     Female   \n",
       "1  48.0  778344783.0    Male Headed  KAG-BUF-ABE-M-42833       Male   \n",
       "2  32.0  774646347.0    Male Headed  KAG-BUF-ADS-M-42789       Male   \n",
       "3  35.0         99.0  Female Headed  KAG-BUF-AGN-F-42815     Female   \n",
       "4  45.0         99.0    Male Headed  KAG-BUF-AUG-M-42811       Male   \n",
       "\n",
       "  Household_Head_Gender  \n",
       "0         Female Headed  \n",
       "1           Male Headed  \n",
       "2           Male Headed  \n",
       "3         Female Headed  \n",
       "4           Male Headed  "
      ]
     },
     "execution_count": 27,
     "metadata": {},
     "output_type": "execute_result"
    }
   ],
   "source": [
    "df.head()"
   ]
  },
  {
   "cell_type": "code",
   "execution_count": 25,
   "id": "6bd9d4e3",
   "metadata": {
    "slideshow": {
     "slide_type": "slide"
    }
   },
   "outputs": [],
   "source": [
    "df['Household_Head_Gender'] = df['gender']"
   ]
  },
  {
   "cell_type": "code",
   "execution_count": 28,
   "id": "fb265791-7a8f-4d79-9e72-9deaec626e77",
   "metadata": {},
   "outputs": [],
   "source": [
    "df.drop(columns=['gender','HHH_Gender'], inplace=True)"
   ]
  },
  {
   "cell_type": "code",
   "execution_count": 29,
   "id": "7b5b5d9a-6a4d-487c-8fa2-61b06cc62d14",
   "metadata": {
    "slideshow": {
     "slide_type": "slide"
    }
   },
   "outputs": [
    {
     "data": {
      "text/plain": [
       "Household_Head_Gender\n",
       "Male Headed      10103\n",
       "Youth Headed      5523\n",
       "Female Headed     4101\n",
       "nan Headed         441\n",
       "Name: count, dtype: int64"
      ]
     },
     "execution_count": 29,
     "metadata": {},
     "output_type": "execute_result"
    }
   ],
   "source": [
    "df['Household_Head_Gender'].value_counts()"
   ]
  },
  {
   "cell_type": "code",
   "execution_count": 30,
   "id": "c694da25",
   "metadata": {
    "id": "1d3bf62c",
    "slideshow": {
     "slide_type": "fragment"
    }
   },
   "outputs": [],
   "source": [
    "male_HH_samp_frame = df[df['Household_Head_Gender']=='Male Headed']\n",
    "female_HH_samp_frame = df[df['Household_Head_Gender']=='Female Headed']\n",
    "youth_HH_samp_frame = df[df['Household_Head_Gender']=='Youth Headed']"
   ]
  },
  {
   "cell_type": "code",
   "execution_count": 31,
   "id": "e706e142",
   "metadata": {
    "id": "4a3eb44f",
    "outputId": "35f6d981-43af-4cbe-b4a8-3c08b6b3bea5",
    "slideshow": {
     "slide_type": "fragment"
    }
   },
   "outputs": [
    {
     "data": {
      "text/plain": [
       "((10103, 9), (4101, 9), (5523, 9))"
      ]
     },
     "execution_count": 31,
     "metadata": {},
     "output_type": "execute_result"
    }
   ],
   "source": [
    "male_HH_samp_frame.shape, female_HH_samp_frame.shape, youth_HH_samp_frame.shape"
   ]
  },
  {
   "cell_type": "markdown",
   "id": "eda830d9",
   "metadata": {
    "id": "0176c5b5",
    "slideshow": {
     "slide_type": "slide"
    }
   },
   "source": [
    "## Male Headed"
   ]
  },
  {
   "cell_type": "code",
   "execution_count": 32,
   "id": "47d4e988",
   "metadata": {
    "id": "09ad1f5f",
    "outputId": "952886ac-1990-454b-aa24-2e0c0f8025e0",
    "slideshow": {
     "slide_type": "fragment"
    }
   },
   "outputs": [
    {
     "data": {
      "text/plain": [
       "10103"
      ]
     },
     "execution_count": 32,
     "metadata": {},
     "output_type": "execute_result"
    }
   ],
   "source": [
    "len(male_HH_samp_frame)"
   ]
  },
  {
   "cell_type": "code",
   "execution_count": 33,
   "id": "3d51d576",
   "metadata": {
    "id": "80e33997",
    "slideshow": {
     "slide_type": "fragment"
    }
   },
   "outputs": [
    {
     "data": {
      "text/plain": [
       "9"
      ]
     },
     "execution_count": 33,
     "metadata": {},
     "output_type": "execute_result"
    }
   ],
   "source": [
    "sample_size = 9\n",
    "sample_size"
   ]
  },
  {
   "cell_type": "code",
   "execution_count": 34,
   "id": "3da2fc32",
   "metadata": {
    "id": "9a82b082-bc13-450a-98ff-904b3b330e5e",
    "slideshow": {
     "slide_type": "slide"
    }
   },
   "outputs": [],
   "source": [
    "def custom_sample(x):\n",
    "    return x.sample(n=min(len(x), 9))"
   ]
  },
  {
   "cell_type": "markdown",
   "id": "173b8c5b",
   "metadata": {
    "slideshow": {
     "slide_type": "notes"
    }
   },
   "source": [
    "Apply just works as our old lambda function, whereby you can "
   ]
  },
  {
   "cell_type": "code",
   "execution_count": 35,
   "id": "b43502e9",
   "metadata": {
    "id": "c106d912-658c-4179-ab1d-41a5a2ccffd3",
    "slideshow": {
     "slide_type": "fragment"
    }
   },
   "outputs": [
    {
     "name": "stderr",
     "output_type": "stream",
     "text": [
      "/var/folders/xd/0btgr76j2zxc4__ynw0yhwbm0000gn/T/ipykernel_41015/2781854579.py:1: DeprecationWarning: DataFrameGroupBy.apply operated on the grouping columns. This behavior is deprecated, and in a future version of pandas the grouping columns will be excluded from the operation. Either pass `include_groups=False` to exclude the groupings or explicitly select the grouping columns after groupby to silence this warning.\n",
      "  male_target_sample = male_HH_samp_frame.groupby('village', group_keys=False).apply(custom_sample)\n"
     ]
    }
   ],
   "source": [
    "male_target_sample = male_HH_samp_frame.groupby('village', group_keys=False).apply(custom_sample)"
   ]
  },
  {
   "cell_type": "code",
   "execution_count": 36,
   "id": "1d6fcdbd",
   "metadata": {
    "id": "e3dd4d40",
    "outputId": "f22abf60-8a0c-4a11-f22c-0d8591d9ac56",
    "slideshow": {
     "slide_type": "fragment"
    }
   },
   "outputs": [
    {
     "data": {
      "text/plain": [
       "1431"
      ]
     },
     "execution_count": 36,
     "metadata": {},
     "output_type": "execute_result"
    }
   ],
   "source": [
    "len(male_target_sample)"
   ]
  },
  {
   "cell_type": "code",
   "execution_count": 37,
   "id": "ec8237b7-6188-4265-bbef-f6fad9476c8f",
   "metadata": {},
   "outputs": [
    {
     "data": {
      "text/html": [
       "<div>\n",
       "<style scoped>\n",
       "    .dataframe tbody tr th:only-of-type {\n",
       "        vertical-align: middle;\n",
       "    }\n",
       "\n",
       "    .dataframe tbody tr th {\n",
       "        vertical-align: top;\n",
       "    }\n",
       "\n",
       "    .dataframe thead th {\n",
       "        text-align: right;\n",
       "    }\n",
       "</style>\n",
       "<table border=\"1\" class=\"dataframe\">\n",
       "  <thead>\n",
       "    <tr style=\"text-align: right;\">\n",
       "      <th></th>\n",
       "      <th>district</th>\n",
       "      <th>subcounty</th>\n",
       "      <th>Parish</th>\n",
       "      <th>village</th>\n",
       "      <th>hhh_name</th>\n",
       "      <th>age</th>\n",
       "      <th>Contact</th>\n",
       "      <th>id</th>\n",
       "      <th>Household_Head_Gender</th>\n",
       "    </tr>\n",
       "  </thead>\n",
       "  <tbody>\n",
       "    <tr>\n",
       "      <th>1</th>\n",
       "      <td>Kagadi</td>\n",
       "      <td>Ruteete</td>\n",
       "      <td>Ruboona</td>\n",
       "      <td>Bufundi</td>\n",
       "      <td>Abel Ngabirino</td>\n",
       "      <td>48.0</td>\n",
       "      <td>778344783.0</td>\n",
       "      <td>KAG-BUF-ABE-M-42833</td>\n",
       "      <td>Male Headed</td>\n",
       "    </tr>\n",
       "    <tr>\n",
       "      <th>2</th>\n",
       "      <td>Kagadi</td>\n",
       "      <td>Ruteete</td>\n",
       "      <td>Ruboona</td>\n",
       "      <td>Bufundi</td>\n",
       "      <td>Adson Twirinabo</td>\n",
       "      <td>32.0</td>\n",
       "      <td>774646347.0</td>\n",
       "      <td>KAG-BUF-ADS-M-42789</td>\n",
       "      <td>Male Headed</td>\n",
       "    </tr>\n",
       "    <tr>\n",
       "      <th>4</th>\n",
       "      <td>Kagadi</td>\n",
       "      <td>Ruteete</td>\n",
       "      <td>Ruboona</td>\n",
       "      <td>Bufundi</td>\n",
       "      <td>Augustine Sunday</td>\n",
       "      <td>45.0</td>\n",
       "      <td>99.0</td>\n",
       "      <td>KAG-BUF-AUG-M-42811</td>\n",
       "      <td>Male Headed</td>\n",
       "    </tr>\n",
       "    <tr>\n",
       "      <th>5</th>\n",
       "      <td>Kagadi</td>\n",
       "      <td>Ruteete</td>\n",
       "      <td>Ruboona</td>\n",
       "      <td>Bufundi</td>\n",
       "      <td>Bakyina Reho</td>\n",
       "      <td>60.0</td>\n",
       "      <td>99.0</td>\n",
       "      <td>KAG-BUF-BAK-M-42851</td>\n",
       "      <td>Male Headed</td>\n",
       "    </tr>\n",
       "    <tr>\n",
       "      <th>6</th>\n",
       "      <td>Kagadi</td>\n",
       "      <td>Ruteete</td>\n",
       "      <td>Ruboona</td>\n",
       "      <td>Bufundi</td>\n",
       "      <td>Banada byamugyisha</td>\n",
       "      <td>51.0</td>\n",
       "      <td>777651982.0</td>\n",
       "      <td>KAG-BUF-BAN-M-42787</td>\n",
       "      <td>Male Headed</td>\n",
       "    </tr>\n",
       "    <tr>\n",
       "      <th>...</th>\n",
       "      <td>...</td>\n",
       "      <td>...</td>\n",
       "      <td>...</td>\n",
       "      <td>...</td>\n",
       "      <td>...</td>\n",
       "      <td>...</td>\n",
       "      <td>...</td>\n",
       "      <td>...</td>\n",
       "      <td>...</td>\n",
       "    </tr>\n",
       "    <tr>\n",
       "      <th>20160</th>\n",
       "      <td>Mitooma</td>\n",
       "      <td>Rurehe</td>\n",
       "      <td>Rurehe South</td>\n",
       "      <td>Rwenkuba</td>\n",
       "      <td>Silva Rwemijende</td>\n",
       "      <td>50.0</td>\n",
       "      <td>787953807.0</td>\n",
       "      <td>MIT-RWE-SIL-M-38303</td>\n",
       "      <td>Male Headed</td>\n",
       "    </tr>\n",
       "    <tr>\n",
       "      <th>20161</th>\n",
       "      <td>Mitooma</td>\n",
       "      <td>Rurehe</td>\n",
       "      <td>Rurehe South</td>\n",
       "      <td>Rwenkuba</td>\n",
       "      <td>Simith Kibirigye</td>\n",
       "      <td>70.0</td>\n",
       "      <td>775220805.0</td>\n",
       "      <td>MIT-RWE-SIM-M-38331</td>\n",
       "      <td>Male Headed</td>\n",
       "    </tr>\n",
       "    <tr>\n",
       "      <th>20165</th>\n",
       "      <td>Mitooma</td>\n",
       "      <td>Rurehe</td>\n",
       "      <td>Rurehe South</td>\n",
       "      <td>Rwenkuba</td>\n",
       "      <td>Vereriano Kaharuza</td>\n",
       "      <td>85.0</td>\n",
       "      <td>99.0</td>\n",
       "      <td>MIT-RWE-VER-M-38239</td>\n",
       "      <td>Male Headed</td>\n",
       "    </tr>\n",
       "    <tr>\n",
       "      <th>20166</th>\n",
       "      <td>Mitooma</td>\n",
       "      <td>Rurehe</td>\n",
       "      <td>Rurehe South</td>\n",
       "      <td>Rwenkuba</td>\n",
       "      <td>Wiikirife Ssekamate</td>\n",
       "      <td>32.0</td>\n",
       "      <td>761147550.0</td>\n",
       "      <td>MIT-RWE-WII-M-38251</td>\n",
       "      <td>Male Headed</td>\n",
       "    </tr>\n",
       "    <tr>\n",
       "      <th>20167</th>\n",
       "      <td>Mitooma</td>\n",
       "      <td>Rurehe</td>\n",
       "      <td>Rurehe South</td>\n",
       "      <td>Rwenkuba</td>\n",
       "      <td>Willison Kasese</td>\n",
       "      <td>57.0</td>\n",
       "      <td>774163744.0</td>\n",
       "      <td>MIT-RWE-WIL-M-38238</td>\n",
       "      <td>Male Headed</td>\n",
       "    </tr>\n",
       "  </tbody>\n",
       "</table>\n",
       "<p>10103 rows × 9 columns</p>\n",
       "</div>"
      ],
      "text/plain": [
       "      district subcounty        Parish   village             hhh_name   age  \\\n",
       "1       Kagadi   Ruteete       Ruboona   Bufundi       Abel Ngabirino  48.0   \n",
       "2       Kagadi   Ruteete       Ruboona   Bufundi      Adson Twirinabo  32.0   \n",
       "4       Kagadi   Ruteete       Ruboona   Bufundi     Augustine Sunday  45.0   \n",
       "5       Kagadi   Ruteete       Ruboona   Bufundi         Bakyina Reho  60.0   \n",
       "6       Kagadi   Ruteete       Ruboona   Bufundi   Banada byamugyisha  51.0   \n",
       "...        ...       ...           ...       ...                  ...   ...   \n",
       "20160  Mitooma    Rurehe  Rurehe South  Rwenkuba     Silva Rwemijende  50.0   \n",
       "20161  Mitooma    Rurehe  Rurehe South  Rwenkuba     Simith Kibirigye  70.0   \n",
       "20165  Mitooma    Rurehe  Rurehe South  Rwenkuba   Vereriano Kaharuza  85.0   \n",
       "20166  Mitooma    Rurehe  Rurehe South  Rwenkuba  Wiikirife Ssekamate  32.0   \n",
       "20167  Mitooma    Rurehe  Rurehe South  Rwenkuba      Willison Kasese  57.0   \n",
       "\n",
       "           Contact                   id Household_Head_Gender  \n",
       "1      778344783.0  KAG-BUF-ABE-M-42833           Male Headed  \n",
       "2      774646347.0  KAG-BUF-ADS-M-42789           Male Headed  \n",
       "4             99.0  KAG-BUF-AUG-M-42811           Male Headed  \n",
       "5             99.0  KAG-BUF-BAK-M-42851           Male Headed  \n",
       "6      777651982.0  KAG-BUF-BAN-M-42787           Male Headed  \n",
       "...            ...                  ...                   ...  \n",
       "20160  787953807.0  MIT-RWE-SIL-M-38303           Male Headed  \n",
       "20161  775220805.0  MIT-RWE-SIM-M-38331           Male Headed  \n",
       "20165         99.0  MIT-RWE-VER-M-38239           Male Headed  \n",
       "20166  761147550.0  MIT-RWE-WII-M-38251           Male Headed  \n",
       "20167  774163744.0  MIT-RWE-WIL-M-38238           Male Headed  \n",
       "\n",
       "[10103 rows x 9 columns]"
      ]
     },
     "execution_count": 37,
     "metadata": {},
     "output_type": "execute_result"
    }
   ],
   "source": [
    "male_HH_samp_frame"
   ]
  },
  {
   "cell_type": "markdown",
   "id": "8bce7f95",
   "metadata": {
    "slideshow": {
     "slide_type": "slide"
    }
   },
   "source": [
    "We can generate a new column and assign a value target"
   ]
  },
  {
   "cell_type": "code",
   "execution_count": 38,
   "id": "631d9c02",
   "metadata": {
    "id": "50f5ae21",
    "slideshow": {
     "slide_type": "fragment"
    }
   },
   "outputs": [],
   "source": [
    "male_target_sample['status'] = 'target'"
   ]
  },
  {
   "cell_type": "code",
   "execution_count": 39,
   "id": "3a01bb12-18ae-49a1-91d0-8a4fb2beae46",
   "metadata": {},
   "outputs": [
    {
     "data": {
      "text/html": [
       "<div>\n",
       "<style scoped>\n",
       "    .dataframe tbody tr th:only-of-type {\n",
       "        vertical-align: middle;\n",
       "    }\n",
       "\n",
       "    .dataframe tbody tr th {\n",
       "        vertical-align: top;\n",
       "    }\n",
       "\n",
       "    .dataframe thead th {\n",
       "        text-align: right;\n",
       "    }\n",
       "</style>\n",
       "<table border=\"1\" class=\"dataframe\">\n",
       "  <thead>\n",
       "    <tr style=\"text-align: right;\">\n",
       "      <th></th>\n",
       "      <th>district</th>\n",
       "      <th>subcounty</th>\n",
       "      <th>Parish</th>\n",
       "      <th>village</th>\n",
       "      <th>hhh_name</th>\n",
       "      <th>age</th>\n",
       "      <th>Contact</th>\n",
       "      <th>id</th>\n",
       "      <th>Household_Head_Gender</th>\n",
       "      <th>status</th>\n",
       "    </tr>\n",
       "  </thead>\n",
       "  <tbody>\n",
       "    <tr>\n",
       "      <th>10066</th>\n",
       "      <td>Kyenjojo</td>\n",
       "      <td>Kyembogo</td>\n",
       "      <td>Mparo</td>\n",
       "      <td>Aswa</td>\n",
       "      <td>Sillipisio Kabalekye</td>\n",
       "      <td>67.0</td>\n",
       "      <td>99.0</td>\n",
       "      <td>KYE-ASW-SIL-M-33537</td>\n",
       "      <td>Male Headed</td>\n",
       "      <td>target</td>\n",
       "    </tr>\n",
       "    <tr>\n",
       "      <th>10062</th>\n",
       "      <td>Kyenjojo</td>\n",
       "      <td>Kyembogo</td>\n",
       "      <td>Mparo</td>\n",
       "      <td>Aswa</td>\n",
       "      <td>Sam Olimwikyiliza</td>\n",
       "      <td>58.0</td>\n",
       "      <td>99.0</td>\n",
       "      <td>KYE-ASW-SAM-M-33795</td>\n",
       "      <td>Male Headed</td>\n",
       "      <td>target</td>\n",
       "    </tr>\n",
       "    <tr>\n",
       "      <th>10056</th>\n",
       "      <td>Kyenjojo</td>\n",
       "      <td>Kyembogo</td>\n",
       "      <td>Mparo</td>\n",
       "      <td>Aswa</td>\n",
       "      <td>Richald Kashija</td>\n",
       "      <td>47.0</td>\n",
       "      <td>99.0</td>\n",
       "      <td>KYE-ASW-RIC-M-33514</td>\n",
       "      <td>Male Headed</td>\n",
       "      <td>target</td>\n",
       "    </tr>\n",
       "    <tr>\n",
       "      <th>9971</th>\n",
       "      <td>Kyenjojo</td>\n",
       "      <td>Kyembogo</td>\n",
       "      <td>Mparo</td>\n",
       "      <td>Aswa</td>\n",
       "      <td>Edward Bagairusa</td>\n",
       "      <td>43.0</td>\n",
       "      <td>99.0</td>\n",
       "      <td>KYE-ASW-EDW-M-33725</td>\n",
       "      <td>Male Headed</td>\n",
       "      <td>target</td>\n",
       "    </tr>\n",
       "    <tr>\n",
       "      <th>10073</th>\n",
       "      <td>Kyenjojo</td>\n",
       "      <td>Kyembogo</td>\n",
       "      <td>Mparo</td>\n",
       "      <td>Aswa</td>\n",
       "      <td>Vicent Mwehakanire</td>\n",
       "      <td>61.0</td>\n",
       "      <td>776346787.0</td>\n",
       "      <td>KYE-ASW-VIC-M-33624</td>\n",
       "      <td>Male Headed</td>\n",
       "      <td>target</td>\n",
       "    </tr>\n",
       "    <tr>\n",
       "      <th>...</th>\n",
       "      <td>...</td>\n",
       "      <td>...</td>\n",
       "      <td>...</td>\n",
       "      <td>...</td>\n",
       "      <td>...</td>\n",
       "      <td>...</td>\n",
       "      <td>...</td>\n",
       "      <td>...</td>\n",
       "      <td>...</td>\n",
       "      <td>...</td>\n",
       "    </tr>\n",
       "    <tr>\n",
       "      <th>4970</th>\n",
       "      <td>Kagadi</td>\n",
       "      <td>Rugashari</td>\n",
       "      <td>Yorodani</td>\n",
       "      <td>Yorodani_B</td>\n",
       "      <td>John Habiiya</td>\n",
       "      <td>35.0</td>\n",
       "      <td>99.0</td>\n",
       "      <td>KAG-YOR-JOH-M-31134</td>\n",
       "      <td>Male Headed</td>\n",
       "      <td>target</td>\n",
       "    </tr>\n",
       "    <tr>\n",
       "      <th>4966</th>\n",
       "      <td>Kagadi</td>\n",
       "      <td>Rugashari</td>\n",
       "      <td>Yorodani</td>\n",
       "      <td>Yorodani_B</td>\n",
       "      <td>Johnbosco Barigomwa</td>\n",
       "      <td>50.0</td>\n",
       "      <td>781903141.0</td>\n",
       "      <td>KAG-YOR-JOH-M-30944</td>\n",
       "      <td>Male Headed</td>\n",
       "      <td>target</td>\n",
       "    </tr>\n",
       "    <tr>\n",
       "      <th>4852</th>\n",
       "      <td>Kagadi</td>\n",
       "      <td>Rugashari</td>\n",
       "      <td>Yorodani</td>\n",
       "      <td>Yorodani_B</td>\n",
       "      <td>Arlone Tumuhereze</td>\n",
       "      <td>55.0</td>\n",
       "      <td>778510273.0</td>\n",
       "      <td>KAG-YOR-ARL-M-31153</td>\n",
       "      <td>Male Headed</td>\n",
       "      <td>target</td>\n",
       "    </tr>\n",
       "    <tr>\n",
       "      <th>5107</th>\n",
       "      <td>Kagadi</td>\n",
       "      <td>Rugashari</td>\n",
       "      <td>Yorodani</td>\n",
       "      <td>Yorodani_B</td>\n",
       "      <td>Vicent Ndiwayezu</td>\n",
       "      <td>36.0</td>\n",
       "      <td>784235322.0</td>\n",
       "      <td>KAG-YOR-VIC-M-31120</td>\n",
       "      <td>Male Headed</td>\n",
       "      <td>target</td>\n",
       "    </tr>\n",
       "    <tr>\n",
       "      <th>4967</th>\n",
       "      <td>Kagadi</td>\n",
       "      <td>Rugashari</td>\n",
       "      <td>Yorodani</td>\n",
       "      <td>Yorodani_B</td>\n",
       "      <td>John Nsabimaana</td>\n",
       "      <td>42.0</td>\n",
       "      <td>771983214.0</td>\n",
       "      <td>KAG-YOR-JOH-M-30974</td>\n",
       "      <td>Male Headed</td>\n",
       "      <td>target</td>\n",
       "    </tr>\n",
       "  </tbody>\n",
       "</table>\n",
       "<p>1431 rows × 10 columns</p>\n",
       "</div>"
      ],
      "text/plain": [
       "       district  subcounty    Parish     village              hhh_name   age  \\\n",
       "10066  Kyenjojo   Kyembogo     Mparo        Aswa  Sillipisio Kabalekye  67.0   \n",
       "10062  Kyenjojo   Kyembogo     Mparo        Aswa     Sam Olimwikyiliza  58.0   \n",
       "10056  Kyenjojo   Kyembogo     Mparo        Aswa       Richald Kashija  47.0   \n",
       "9971   Kyenjojo   Kyembogo     Mparo        Aswa      Edward Bagairusa  43.0   \n",
       "10073  Kyenjojo   Kyembogo     Mparo        Aswa    Vicent Mwehakanire  61.0   \n",
       "...         ...        ...       ...         ...                   ...   ...   \n",
       "4970     Kagadi  Rugashari  Yorodani  Yorodani_B          John Habiiya  35.0   \n",
       "4966     Kagadi  Rugashari  Yorodani  Yorodani_B   Johnbosco Barigomwa  50.0   \n",
       "4852     Kagadi  Rugashari  Yorodani  Yorodani_B     Arlone Tumuhereze  55.0   \n",
       "5107     Kagadi  Rugashari  Yorodani  Yorodani_B      Vicent Ndiwayezu  36.0   \n",
       "4967     Kagadi  Rugashari  Yorodani  Yorodani_B       John Nsabimaana  42.0   \n",
       "\n",
       "           Contact                   id Household_Head_Gender  status  \n",
       "10066         99.0  KYE-ASW-SIL-M-33537           Male Headed  target  \n",
       "10062         99.0  KYE-ASW-SAM-M-33795           Male Headed  target  \n",
       "10056         99.0  KYE-ASW-RIC-M-33514           Male Headed  target  \n",
       "9971          99.0  KYE-ASW-EDW-M-33725           Male Headed  target  \n",
       "10073  776346787.0  KYE-ASW-VIC-M-33624           Male Headed  target  \n",
       "...            ...                  ...                   ...     ...  \n",
       "4970          99.0  KAG-YOR-JOH-M-31134           Male Headed  target  \n",
       "4966   781903141.0  KAG-YOR-JOH-M-30944           Male Headed  target  \n",
       "4852   778510273.0  KAG-YOR-ARL-M-31153           Male Headed  target  \n",
       "5107   784235322.0  KAG-YOR-VIC-M-31120           Male Headed  target  \n",
       "4967   771983214.0  KAG-YOR-JOH-M-30974           Male Headed  target  \n",
       "\n",
       "[1431 rows x 10 columns]"
      ]
     },
     "execution_count": 39,
     "metadata": {},
     "output_type": "execute_result"
    }
   ],
   "source": [
    "male_target_sample"
   ]
  },
  {
   "cell_type": "markdown",
   "id": "c51d1bb8",
   "metadata": {
    "id": "4b6293ee",
    "slideshow": {
     "slide_type": "slide"
    }
   },
   "source": [
    "## Reserve frame"
   ]
  },
  {
   "cell_type": "markdown",
   "id": "7aede73a",
   "metadata": {
    "slideshow": {
     "slide_type": "notes"
    }
   },
   "source": [
    "we can drop the targets since we've already assigned them using the index"
   ]
  },
  {
   "cell_type": "code",
   "execution_count": 40,
   "id": "d9514ed8",
   "metadata": {
    "id": "2afb4fd5",
    "slideshow": {
     "slide_type": "fragment"
    }
   },
   "outputs": [],
   "source": [
    "male_reserve_s_frame = male_HH_samp_frame.drop(index = male_target_sample.index)"
   ]
  },
  {
   "cell_type": "code",
   "execution_count": 41,
   "id": "899bd283",
   "metadata": {
    "id": "d3ed3ca4",
    "slideshow": {
     "slide_type": "skip"
    }
   },
   "outputs": [],
   "source": [
    "# male_reserve_s_frame.to_excel('mit/male_reserve_s_frame.xlsx', index=False)"
   ]
  },
  {
   "cell_type": "code",
   "execution_count": 42,
   "id": "1466854e",
   "metadata": {
    "id": "d5caae2a-9eb3-4cdc-aed8-07ca47334f8b",
    "slideshow": {
     "slide_type": "fragment"
    }
   },
   "outputs": [
    {
     "name": "stderr",
     "output_type": "stream",
     "text": [
      "/var/folders/xd/0btgr76j2zxc4__ynw0yhwbm0000gn/T/ipykernel_41015/2138712636.py:1: DeprecationWarning: DataFrameGroupBy.apply operated on the grouping columns. This behavior is deprecated, and in a future version of pandas the grouping columns will be excluded from the operation. Either pass `include_groups=False` to exclude the groupings or explicitly select the grouping columns after groupby to silence this warning.\n",
      "  male_reserve_sample = male_reserve_s_frame.groupby('village', group_keys=False).apply(lambda x: x.sample(n=min(len(x), 4)))\n"
     ]
    }
   ],
   "source": [
    "male_reserve_sample = male_reserve_s_frame.groupby('village', group_keys=False).apply(lambda x: x.sample(n=min(len(x), 4)))"
   ]
  },
  {
   "cell_type": "code",
   "execution_count": 43,
   "id": "d8ffdbd1",
   "metadata": {
    "id": "ccfd39b7",
    "outputId": "62395bf4-395a-4e3d-9b51-0b2e82c534f8",
    "slideshow": {
     "slide_type": "fragment"
    }
   },
   "outputs": [
    {
     "data": {
      "text/html": [
       "<div>\n",
       "<style scoped>\n",
       "    .dataframe tbody tr th:only-of-type {\n",
       "        vertical-align: middle;\n",
       "    }\n",
       "\n",
       "    .dataframe tbody tr th {\n",
       "        vertical-align: top;\n",
       "    }\n",
       "\n",
       "    .dataframe thead th {\n",
       "        text-align: right;\n",
       "    }\n",
       "</style>\n",
       "<table border=\"1\" class=\"dataframe\">\n",
       "  <thead>\n",
       "    <tr style=\"text-align: right;\">\n",
       "      <th></th>\n",
       "      <th>district</th>\n",
       "      <th>subcounty</th>\n",
       "      <th>Parish</th>\n",
       "      <th>village</th>\n",
       "      <th>hhh_name</th>\n",
       "      <th>age</th>\n",
       "      <th>Contact</th>\n",
       "      <th>id</th>\n",
       "      <th>Household_Head_Gender</th>\n",
       "      <th>status</th>\n",
       "    </tr>\n",
       "  </thead>\n",
       "  <tbody>\n",
       "    <tr>\n",
       "      <th>10064</th>\n",
       "      <td>Kyenjojo</td>\n",
       "      <td>Kyembogo</td>\n",
       "      <td>Mparo</td>\n",
       "      <td>Aswa</td>\n",
       "      <td>Satarday Enock</td>\n",
       "      <td>34.0</td>\n",
       "      <td>780907887.0</td>\n",
       "      <td>KYE-ASW-SAT-M-33595</td>\n",
       "      <td>Male Headed</td>\n",
       "      <td>reserve</td>\n",
       "    </tr>\n",
       "    <tr>\n",
       "      <th>10078</th>\n",
       "      <td>Kyenjojo</td>\n",
       "      <td>Kyembogo</td>\n",
       "      <td>Mparo</td>\n",
       "      <td>Aswa</td>\n",
       "      <td>Willy Twesije</td>\n",
       "      <td>36.0</td>\n",
       "      <td>99.0</td>\n",
       "      <td>KYE-ASW-WIL-M-33619</td>\n",
       "      <td>Male Headed</td>\n",
       "      <td>reserve</td>\n",
       "    </tr>\n",
       "    <tr>\n",
       "      <th>9999</th>\n",
       "      <td>Kyenjojo</td>\n",
       "      <td>Kyembogo</td>\n",
       "      <td>Mparo</td>\n",
       "      <td>Aswa</td>\n",
       "      <td>God Nyakyira</td>\n",
       "      <td>44.0</td>\n",
       "      <td>779437260.0</td>\n",
       "      <td>KYE-ASW-GOD-M-33574</td>\n",
       "      <td>Male Headed</td>\n",
       "      <td>reserve</td>\n",
       "    </tr>\n",
       "    <tr>\n",
       "      <th>10067</th>\n",
       "      <td>Kyenjojo</td>\n",
       "      <td>Kyembogo</td>\n",
       "      <td>Mparo</td>\n",
       "      <td>Aswa</td>\n",
       "      <td>Silivano Kukundakwe</td>\n",
       "      <td>39.0</td>\n",
       "      <td>99.0</td>\n",
       "      <td>KYE-ASW-SIL-M-33631</td>\n",
       "      <td>Male Headed</td>\n",
       "      <td>reserve</td>\n",
       "    </tr>\n",
       "    <tr>\n",
       "      <th>10083</th>\n",
       "      <td>Kyenjojo</td>\n",
       "      <td>Kihuura</td>\n",
       "      <td>Ngombe</td>\n",
       "      <td>Bisa</td>\n",
       "      <td>Adolf Mawanda</td>\n",
       "      <td>60.0</td>\n",
       "      <td>775917042.0</td>\n",
       "      <td>KYE-BIS-ADO-M-47951</td>\n",
       "      <td>Male Headed</td>\n",
       "      <td>reserve</td>\n",
       "    </tr>\n",
       "  </tbody>\n",
       "</table>\n",
       "</div>"
      ],
      "text/plain": [
       "       district subcounty  Parish village             hhh_name   age  \\\n",
       "10064  Kyenjojo  Kyembogo   Mparo    Aswa       Satarday Enock  34.0   \n",
       "10078  Kyenjojo  Kyembogo   Mparo    Aswa        Willy Twesije  36.0   \n",
       "9999   Kyenjojo  Kyembogo   Mparo    Aswa         God Nyakyira  44.0   \n",
       "10067  Kyenjojo  Kyembogo   Mparo    Aswa  Silivano Kukundakwe  39.0   \n",
       "10083  Kyenjojo   Kihuura  Ngombe    Bisa        Adolf Mawanda  60.0   \n",
       "\n",
       "           Contact                   id Household_Head_Gender   status  \n",
       "10064  780907887.0  KYE-ASW-SAT-M-33595           Male Headed  reserve  \n",
       "10078         99.0  KYE-ASW-WIL-M-33619           Male Headed  reserve  \n",
       "9999   779437260.0  KYE-ASW-GOD-M-33574           Male Headed  reserve  \n",
       "10067         99.0  KYE-ASW-SIL-M-33631           Male Headed  reserve  \n",
       "10083  775917042.0  KYE-BIS-ADO-M-47951           Male Headed  reserve  "
      ]
     },
     "execution_count": 43,
     "metadata": {},
     "output_type": "execute_result"
    }
   ],
   "source": [
    "male_reserve_sample['status'] = 'reserve'\n",
    "male_reserve_sample.head()"
   ]
  },
  {
   "cell_type": "code",
   "execution_count": 44,
   "id": "dad53481",
   "metadata": {
    "id": "ed57a534",
    "slideshow": {
     "slide_type": "skip"
    }
   },
   "outputs": [],
   "source": [
    "# male_reserve_sample.to_excel('mit/male_reserve_sample.xlsx', index=False)"
   ]
  },
  {
   "cell_type": "markdown",
   "id": "8c42e29d",
   "metadata": {
    "slideshow": {
     "slide_type": "skip"
    }
   },
   "source": [
    "Let's combine the targets and reserves to come up with a complete sample for males"
   ]
  },
  {
   "cell_type": "markdown",
   "id": "86801475",
   "metadata": {
    "id": "c210c150",
    "slideshow": {
     "slide_type": "slide"
    }
   },
   "source": [
    "# Male Household Sample [Combining the Target and Reserve]"
   ]
  },
  {
   "cell_type": "code",
   "execution_count": 45,
   "id": "d304b5d2",
   "metadata": {
    "id": "d33254ad",
    "outputId": "34a62b6c-3cca-4cd9-8b9b-46a67d18dba9",
    "slideshow": {
     "slide_type": "fragment"
    }
   },
   "outputs": [
    {
     "data": {
      "text/plain": [
       "((1431, 10), (634, 10))"
      ]
     },
     "execution_count": 45,
     "metadata": {},
     "output_type": "execute_result"
    }
   ],
   "source": [
    "male_target_sample.shape, male_reserve_sample.shape"
   ]
  },
  {
   "cell_type": "code",
   "execution_count": 46,
   "id": "81444f31",
   "metadata": {
    "id": "6c290995",
    "slideshow": {
     "slide_type": "fragment"
    }
   },
   "outputs": [],
   "source": [
    "MALE_HH_SAMPLE = pd.concat([male_target_sample, male_reserve_sample])"
   ]
  },
  {
   "cell_type": "markdown",
   "id": "057db640",
   "metadata": {
    "id": "3e0ac3ed",
    "slideshow": {
     "slide_type": "slide"
    }
   },
   "source": [
    "# FEMALE  Headed"
   ]
  },
  {
   "cell_type": "code",
   "execution_count": 47,
   "id": "bd11090e",
   "metadata": {
    "id": "bb4e1a37",
    "outputId": "11deb01b-6d98-4bcd-fffb-ec25afa9b038",
    "slideshow": {
     "slide_type": "fragment"
    }
   },
   "outputs": [
    {
     "data": {
      "text/plain": [
       "4101"
      ]
     },
     "execution_count": 47,
     "metadata": {},
     "output_type": "execute_result"
    }
   ],
   "source": [
    "len(female_HH_samp_frame)"
   ]
  },
  {
   "cell_type": "code",
   "execution_count": 48,
   "id": "e74bad6d",
   "metadata": {
    "id": "72cbb9f3",
    "outputId": "236a87ad-0547-4188-c7ff-bec7fc6c9f2c",
    "slideshow": {
     "slide_type": "skip"
    }
   },
   "outputs": [
    {
     "data": {
      "text/html": [
       "<div>\n",
       "<style scoped>\n",
       "    .dataframe tbody tr th:only-of-type {\n",
       "        vertical-align: middle;\n",
       "    }\n",
       "\n",
       "    .dataframe tbody tr th {\n",
       "        vertical-align: top;\n",
       "    }\n",
       "\n",
       "    .dataframe thead th {\n",
       "        text-align: right;\n",
       "    }\n",
       "</style>\n",
       "<table border=\"1\" class=\"dataframe\">\n",
       "  <thead>\n",
       "    <tr style=\"text-align: right;\">\n",
       "      <th></th>\n",
       "      <th>district</th>\n",
       "      <th>subcounty</th>\n",
       "      <th>Parish</th>\n",
       "      <th>village</th>\n",
       "      <th>hhh_name</th>\n",
       "      <th>age</th>\n",
       "      <th>Contact</th>\n",
       "      <th>id</th>\n",
       "      <th>Household_Head_Gender</th>\n",
       "    </tr>\n",
       "  </thead>\n",
       "  <tbody>\n",
       "    <tr>\n",
       "      <th>0</th>\n",
       "      <td>Kanungu</td>\n",
       "      <td>Kanyantorogo</td>\n",
       "      <td>Kihembe</td>\n",
       "      <td>Kanyansande_Kihembe</td>\n",
       "      <td>Glorious Kyomukama</td>\n",
       "      <td>41.0</td>\n",
       "      <td>777430498.0</td>\n",
       "      <td>NaN</td>\n",
       "      <td>Female Headed</td>\n",
       "    </tr>\n",
       "    <tr>\n",
       "      <th>3</th>\n",
       "      <td>Kagadi</td>\n",
       "      <td>Ruteete</td>\n",
       "      <td>Ruboona</td>\n",
       "      <td>Bufundi</td>\n",
       "      <td>Agnes Kyampire</td>\n",
       "      <td>35.0</td>\n",
       "      <td>99.0</td>\n",
       "      <td>KAG-BUF-AGN-F-42815</td>\n",
       "      <td>Female Headed</td>\n",
       "    </tr>\n",
       "    <tr>\n",
       "      <th>8</th>\n",
       "      <td>Kagadi</td>\n",
       "      <td>Ruteete</td>\n",
       "      <td>Ruboona</td>\n",
       "      <td>Bufundi</td>\n",
       "      <td>Beatrace Komuhagyi</td>\n",
       "      <td>45.0</td>\n",
       "      <td>99.0</td>\n",
       "      <td>KAG-BUF-BEA-F-42776</td>\n",
       "      <td>Female Headed</td>\n",
       "    </tr>\n",
       "    <tr>\n",
       "      <th>10</th>\n",
       "      <td>Kagadi</td>\n",
       "      <td>Ruteete</td>\n",
       "      <td>Ruboona</td>\n",
       "      <td>Bufundi</td>\n",
       "      <td>Dafanako Dafuronza</td>\n",
       "      <td>70.0</td>\n",
       "      <td>99.0</td>\n",
       "      <td>KAG-BUF-DAF-F-42819</td>\n",
       "      <td>Female Headed</td>\n",
       "    </tr>\n",
       "    <tr>\n",
       "      <th>11</th>\n",
       "      <td>Kagadi</td>\n",
       "      <td>Ruteete</td>\n",
       "      <td>Ruboona</td>\n",
       "      <td>Bufundi</td>\n",
       "      <td>Edisa Nyiragabi</td>\n",
       "      <td>77.0</td>\n",
       "      <td>99.0</td>\n",
       "      <td>KAG-BUF-EDI-F-42837</td>\n",
       "      <td>Female Headed</td>\n",
       "    </tr>\n",
       "  </tbody>\n",
       "</table>\n",
       "</div>"
      ],
      "text/plain": [
       "   district     subcounty   Parish              village            hhh_name  \\\n",
       "0   Kanungu  Kanyantorogo  Kihembe  Kanyansande_Kihembe  Glorious Kyomukama   \n",
       "3    Kagadi       Ruteete  Ruboona              Bufundi      Agnes Kyampire   \n",
       "8    Kagadi       Ruteete  Ruboona              Bufundi  Beatrace Komuhagyi   \n",
       "10   Kagadi       Ruteete  Ruboona              Bufundi  Dafanako Dafuronza   \n",
       "11   Kagadi       Ruteete  Ruboona              Bufundi     Edisa Nyiragabi   \n",
       "\n",
       "     age      Contact                   id Household_Head_Gender  \n",
       "0   41.0  777430498.0                  NaN         Female Headed  \n",
       "3   35.0         99.0  KAG-BUF-AGN-F-42815         Female Headed  \n",
       "8   45.0         99.0  KAG-BUF-BEA-F-42776         Female Headed  \n",
       "10  70.0         99.0  KAG-BUF-DAF-F-42819         Female Headed  \n",
       "11  77.0         99.0  KAG-BUF-EDI-F-42837         Female Headed  "
      ]
     },
     "execution_count": 48,
     "metadata": {},
     "output_type": "execute_result"
    }
   ],
   "source": [
    "female_HH_samp_frame.head()"
   ]
  },
  {
   "cell_type": "code",
   "execution_count": 49,
   "id": "182b49b0",
   "metadata": {
    "id": "ea81691f",
    "slideshow": {
     "slide_type": "fragment"
    }
   },
   "outputs": [
    {
     "name": "stderr",
     "output_type": "stream",
     "text": [
      "/var/folders/xd/0btgr76j2zxc4__ynw0yhwbm0000gn/T/ipykernel_41015/449293486.py:1: DeprecationWarning: DataFrameGroupBy.apply operated on the grouping columns. This behavior is deprecated, and in a future version of pandas the grouping columns will be excluded from the operation. Either pass `include_groups=False` to exclude the groupings or explicitly select the grouping columns after groupby to silence this warning.\n",
      "  female_target_sample = female_HH_samp_frame.groupby('village', group_keys=False).apply(lambda x: x.sample(n=min(len(x), 3)))\n"
     ]
    }
   ],
   "source": [
    "female_target_sample = female_HH_samp_frame.groupby('village', group_keys=False).apply(lambda x: x.sample(n=min(len(x), 3)))"
   ]
  },
  {
   "cell_type": "code",
   "execution_count": 50,
   "id": "995614a1",
   "metadata": {
    "id": "4eda136e",
    "outputId": "9ff262dc-a690-4b20-8444-912515e98ce1",
    "slideshow": {
     "slide_type": "skip"
    }
   },
   "outputs": [
    {
     "data": {
      "text/plain": [
       "478"
      ]
     },
     "execution_count": 50,
     "metadata": {},
     "output_type": "execute_result"
    }
   ],
   "source": [
    "len(female_target_sample)"
   ]
  },
  {
   "cell_type": "code",
   "execution_count": 51,
   "id": "75f5495b",
   "metadata": {
    "id": "2c9f1b9d",
    "slideshow": {
     "slide_type": "fragment"
    }
   },
   "outputs": [],
   "source": [
    "female_target_sample['status'] = 'target'"
   ]
  },
  {
   "cell_type": "code",
   "execution_count": 52,
   "id": "182362bf",
   "metadata": {
    "id": "6df93913",
    "outputId": "65ca229d-0969-4fa9-9e66-ad26814787af",
    "slideshow": {
     "slide_type": "skip"
    }
   },
   "outputs": [
    {
     "data": {
      "text/html": [
       "<div>\n",
       "<style scoped>\n",
       "    .dataframe tbody tr th:only-of-type {\n",
       "        vertical-align: middle;\n",
       "    }\n",
       "\n",
       "    .dataframe tbody tr th {\n",
       "        vertical-align: top;\n",
       "    }\n",
       "\n",
       "    .dataframe thead th {\n",
       "        text-align: right;\n",
       "    }\n",
       "</style>\n",
       "<table border=\"1\" class=\"dataframe\">\n",
       "  <thead>\n",
       "    <tr style=\"text-align: right;\">\n",
       "      <th></th>\n",
       "      <th>district</th>\n",
       "      <th>subcounty</th>\n",
       "      <th>Parish</th>\n",
       "      <th>village</th>\n",
       "      <th>hhh_name</th>\n",
       "      <th>age</th>\n",
       "      <th>Contact</th>\n",
       "      <th>id</th>\n",
       "      <th>Household_Head_Gender</th>\n",
       "      <th>status</th>\n",
       "    </tr>\n",
       "  </thead>\n",
       "  <tbody>\n",
       "    <tr>\n",
       "      <th>9963</th>\n",
       "      <td>Kyenjojo</td>\n",
       "      <td>Kyembogo</td>\n",
       "      <td>Mparo</td>\n",
       "      <td>Aswa</td>\n",
       "      <td>Denavensi Kobusinje</td>\n",
       "      <td>40.0</td>\n",
       "      <td>99.0</td>\n",
       "      <td>KYE-ASW-DEN-F-33784</td>\n",
       "      <td>Female Headed</td>\n",
       "      <td>target</td>\n",
       "    </tr>\n",
       "    <tr>\n",
       "      <th>9995</th>\n",
       "      <td>Kyenjojo</td>\n",
       "      <td>Kyembogo</td>\n",
       "      <td>Mparo</td>\n",
       "      <td>Aswa</td>\n",
       "      <td>Gaoudensia Tugumisirize</td>\n",
       "      <td>50.0</td>\n",
       "      <td>99.0</td>\n",
       "      <td>KYE-ASW-GAO-F-33588</td>\n",
       "      <td>Female Headed</td>\n",
       "      <td>target</td>\n",
       "    </tr>\n",
       "    <tr>\n",
       "      <th>10027</th>\n",
       "      <td>Kyenjojo</td>\n",
       "      <td>Kyembogo</td>\n",
       "      <td>Mparo</td>\n",
       "      <td>Aswa</td>\n",
       "      <td>Jovanis Tindiweji</td>\n",
       "      <td>74.0</td>\n",
       "      <td>783799882.0</td>\n",
       "      <td>KYE-ASW-JOV-F-33664</td>\n",
       "      <td>Female Headed</td>\n",
       "      <td>target</td>\n",
       "    </tr>\n",
       "    <tr>\n",
       "      <th>10157</th>\n",
       "      <td>Kyenjojo</td>\n",
       "      <td>Kihuura</td>\n",
       "      <td>Ngombe</td>\n",
       "      <td>Bisa</td>\n",
       "      <td>Jane Kabagenyi</td>\n",
       "      <td>60.0</td>\n",
       "      <td>99.0</td>\n",
       "      <td>KYE-BIS-JAN-F-47834</td>\n",
       "      <td>Female Headed</td>\n",
       "      <td>target</td>\n",
       "    </tr>\n",
       "    <tr>\n",
       "      <th>10092</th>\n",
       "      <td>Kyenjojo</td>\n",
       "      <td>Kihuura</td>\n",
       "      <td>Ngombe</td>\n",
       "      <td>Bisa</td>\n",
       "      <td>Annet Kansiime</td>\n",
       "      <td>35.0</td>\n",
       "      <td>99.0</td>\n",
       "      <td>KYE-BIS-ANN-F-108820</td>\n",
       "      <td>Female Headed</td>\n",
       "      <td>target</td>\n",
       "    </tr>\n",
       "  </tbody>\n",
       "</table>\n",
       "</div>"
      ],
      "text/plain": [
       "       district subcounty  Parish village                 hhh_name   age  \\\n",
       "9963   Kyenjojo  Kyembogo   Mparo    Aswa      Denavensi Kobusinje  40.0   \n",
       "9995   Kyenjojo  Kyembogo   Mparo    Aswa  Gaoudensia Tugumisirize  50.0   \n",
       "10027  Kyenjojo  Kyembogo   Mparo    Aswa        Jovanis Tindiweji  74.0   \n",
       "10157  Kyenjojo   Kihuura  Ngombe    Bisa           Jane Kabagenyi  60.0   \n",
       "10092  Kyenjojo   Kihuura  Ngombe    Bisa           Annet Kansiime  35.0   \n",
       "\n",
       "           Contact                    id Household_Head_Gender  status  \n",
       "9963          99.0   KYE-ASW-DEN-F-33784         Female Headed  target  \n",
       "9995          99.0   KYE-ASW-GAO-F-33588         Female Headed  target  \n",
       "10027  783799882.0   KYE-ASW-JOV-F-33664         Female Headed  target  \n",
       "10157         99.0   KYE-BIS-JAN-F-47834         Female Headed  target  \n",
       "10092         99.0  KYE-BIS-ANN-F-108820         Female Headed  target  "
      ]
     },
     "execution_count": 52,
     "metadata": {},
     "output_type": "execute_result"
    }
   ],
   "source": [
    "female_target_sample.head()"
   ]
  },
  {
   "cell_type": "markdown",
   "id": "93c2f8e6",
   "metadata": {
    "id": "ec4bd25e",
    "slideshow": {
     "slide_type": "skip"
    }
   },
   "source": [
    "## Reserve frame"
   ]
  },
  {
   "cell_type": "code",
   "execution_count": 53,
   "id": "06cfdd95",
   "metadata": {
    "id": "9172c8fa",
    "outputId": "5c13f57f-2c27-4a39-f865-a80642307f3b",
    "slideshow": {
     "slide_type": "fragment"
    }
   },
   "outputs": [
    {
     "data": {
      "text/plain": [
       "(3623, 9)"
      ]
     },
     "execution_count": 53,
     "metadata": {},
     "output_type": "execute_result"
    }
   ],
   "source": [
    "female_reserve_s_frame = female_HH_samp_frame.drop(index = female_target_sample.index)\n",
    "female_reserve_s_frame.shape"
   ]
  },
  {
   "cell_type": "code",
   "execution_count": 54,
   "id": "731e2caf",
   "metadata": {
    "id": "b7e117e4",
    "slideshow": {
     "slide_type": "skip"
    }
   },
   "outputs": [],
   "source": [
    "# female_reserve_s_frame.to_excel('mit/female_reserve_s_frame.xlsx', index=False)"
   ]
  },
  {
   "cell_type": "code",
   "execution_count": 55,
   "id": "ac1898f0",
   "metadata": {
    "id": "9b090477",
    "slideshow": {
     "slide_type": "slide"
    }
   },
   "outputs": [
    {
     "name": "stderr",
     "output_type": "stream",
     "text": [
      "/var/folders/xd/0btgr76j2zxc4__ynw0yhwbm0000gn/T/ipykernel_41015/2689120184.py:1: DeprecationWarning: DataFrameGroupBy.apply operated on the grouping columns. This behavior is deprecated, and in a future version of pandas the grouping columns will be excluded from the operation. Either pass `include_groups=False` to exclude the groupings or explicitly select the grouping columns after groupby to silence this warning.\n",
      "  female_reserve_sample = female_reserve_s_frame.groupby('village', group_keys=False).apply(lambda x: x.sample(n=min(len(x), 2)))\n"
     ]
    }
   ],
   "source": [
    "female_reserve_sample = female_reserve_s_frame.groupby('village', group_keys=False).apply(lambda x: x.sample(n=min(len(x), 2)))"
   ]
  },
  {
   "cell_type": "code",
   "execution_count": 56,
   "id": "6e7c0f11",
   "metadata": {
    "id": "b232d99b",
    "outputId": "fd809e5d-dd3d-4202-ca34-53eeaa1cd4a2",
    "slideshow": {
     "slide_type": "fragment"
    }
   },
   "outputs": [
    {
     "data": {
      "text/html": [
       "<div>\n",
       "<style scoped>\n",
       "    .dataframe tbody tr th:only-of-type {\n",
       "        vertical-align: middle;\n",
       "    }\n",
       "\n",
       "    .dataframe tbody tr th {\n",
       "        vertical-align: top;\n",
       "    }\n",
       "\n",
       "    .dataframe thead th {\n",
       "        text-align: right;\n",
       "    }\n",
       "</style>\n",
       "<table border=\"1\" class=\"dataframe\">\n",
       "  <thead>\n",
       "    <tr style=\"text-align: right;\">\n",
       "      <th></th>\n",
       "      <th>district</th>\n",
       "      <th>subcounty</th>\n",
       "      <th>Parish</th>\n",
       "      <th>village</th>\n",
       "      <th>hhh_name</th>\n",
       "      <th>age</th>\n",
       "      <th>Contact</th>\n",
       "      <th>id</th>\n",
       "      <th>Household_Head_Gender</th>\n",
       "      <th>status</th>\n",
       "    </tr>\n",
       "  </thead>\n",
       "  <tbody>\n",
       "    <tr>\n",
       "      <th>10002</th>\n",
       "      <td>Kyenjojo</td>\n",
       "      <td>Kyembogo</td>\n",
       "      <td>Mparo</td>\n",
       "      <td>Aswa</td>\n",
       "      <td>Goret Kagubale</td>\n",
       "      <td>90.0</td>\n",
       "      <td>99.0</td>\n",
       "      <td>KYE-ASW-GOR-F-33628</td>\n",
       "      <td>Female Headed</td>\n",
       "      <td>reserve</td>\n",
       "    </tr>\n",
       "    <tr>\n",
       "      <th>10019</th>\n",
       "      <td>Kyenjojo</td>\n",
       "      <td>Kyembogo</td>\n",
       "      <td>Mparo</td>\n",
       "      <td>Aswa</td>\n",
       "      <td>Jolly Kyalisima</td>\n",
       "      <td>53.0</td>\n",
       "      <td>99.0</td>\n",
       "      <td>KYE-ASW-JOL-F-33635</td>\n",
       "      <td>Female Headed</td>\n",
       "      <td>reserve</td>\n",
       "    </tr>\n",
       "    <tr>\n",
       "      <th>10185</th>\n",
       "      <td>Kyenjojo</td>\n",
       "      <td>Kihuura</td>\n",
       "      <td>Ngombe</td>\n",
       "      <td>Bisa</td>\n",
       "      <td>Lucy Nganzi</td>\n",
       "      <td>36.0</td>\n",
       "      <td>779573683.0</td>\n",
       "      <td>KYE-BIS-LUC-F-47947</td>\n",
       "      <td>Female Headed</td>\n",
       "      <td>reserve</td>\n",
       "    </tr>\n",
       "    <tr>\n",
       "      <th>10142</th>\n",
       "      <td>Kyenjojo</td>\n",
       "      <td>Kihuura</td>\n",
       "      <td>Ngombe</td>\n",
       "      <td>Bisa</td>\n",
       "      <td>Gatrude Kobusinge</td>\n",
       "      <td>33.0</td>\n",
       "      <td>99.0</td>\n",
       "      <td>KYE-BIS-GAT-F-48007</td>\n",
       "      <td>Female Headed</td>\n",
       "      <td>reserve</td>\n",
       "    </tr>\n",
       "    <tr>\n",
       "      <th>5147</th>\n",
       "      <td>Kaliro</td>\n",
       "      <td>Gadumire</td>\n",
       "      <td>Butambala</td>\n",
       "      <td>Bubalala</td>\n",
       "      <td>Jesca Bayisi</td>\n",
       "      <td>42.0</td>\n",
       "      <td>784989550.0</td>\n",
       "      <td>KAL-BUB-JES-F-4197</td>\n",
       "      <td>Female Headed</td>\n",
       "      <td>reserve</td>\n",
       "    </tr>\n",
       "  </tbody>\n",
       "</table>\n",
       "</div>"
      ],
      "text/plain": [
       "       district subcounty     Parish   village           hhh_name   age  \\\n",
       "10002  Kyenjojo  Kyembogo      Mparo      Aswa     Goret Kagubale  90.0   \n",
       "10019  Kyenjojo  Kyembogo      Mparo      Aswa    Jolly Kyalisima  53.0   \n",
       "10185  Kyenjojo   Kihuura     Ngombe      Bisa        Lucy Nganzi  36.0   \n",
       "10142  Kyenjojo   Kihuura     Ngombe      Bisa  Gatrude Kobusinge  33.0   \n",
       "5147     Kaliro  Gadumire  Butambala  Bubalala       Jesca Bayisi  42.0   \n",
       "\n",
       "           Contact                   id Household_Head_Gender   status  \n",
       "10002         99.0  KYE-ASW-GOR-F-33628         Female Headed  reserve  \n",
       "10019         99.0  KYE-ASW-JOL-F-33635         Female Headed  reserve  \n",
       "10185  779573683.0  KYE-BIS-LUC-F-47947         Female Headed  reserve  \n",
       "10142         99.0  KYE-BIS-GAT-F-48007         Female Headed  reserve  \n",
       "5147   784989550.0   KAL-BUB-JES-F-4197         Female Headed  reserve  "
      ]
     },
     "execution_count": 56,
     "metadata": {},
     "output_type": "execute_result"
    }
   ],
   "source": [
    "female_reserve_sample['status'] = 'reserve'\n",
    "female_reserve_sample.head()"
   ]
  },
  {
   "cell_type": "code",
   "execution_count": 57,
   "id": "561a5fc5",
   "metadata": {
    "id": "acca14d8",
    "slideshow": {
     "slide_type": "skip"
    }
   },
   "outputs": [],
   "source": [
    "# female_reserve_sample.to_excel('mit/female_reserve_sample.xlsx', index=False)"
   ]
  },
  {
   "cell_type": "code",
   "execution_count": 58,
   "id": "66f6e60a",
   "metadata": {
    "id": "268fa1fc",
    "slideshow": {
     "slide_type": "fragment"
    }
   },
   "outputs": [],
   "source": [
    "FEMALE_HH_SAMPLE = pd.concat([female_target_sample, female_reserve_sample])"
   ]
  },
  {
   "cell_type": "code",
   "execution_count": 59,
   "id": "58a8db1e",
   "metadata": {
    "id": "e8229818",
    "slideshow": {
     "slide_type": "skip"
    }
   },
   "outputs": [],
   "source": [
    "# FEMALE_HH_SAMPLE.to_excel('mit/FEMALE_HH_SAMPLE.xlsx', index=False)"
   ]
  },
  {
   "cell_type": "markdown",
   "id": "f5afe627",
   "metadata": {
    "id": "f1ec251a",
    "slideshow": {
     "slide_type": "slide"
    }
   },
   "source": [
    "# YOUTH Households"
   ]
  },
  {
   "cell_type": "code",
   "execution_count": 60,
   "id": "00b44a62",
   "metadata": {
    "id": "e79b4021",
    "outputId": "b7c2dad9-c4a4-4c4d-e8a5-17a86e67f13c",
    "slideshow": {
     "slide_type": "skip"
    }
   },
   "outputs": [
    {
     "data": {
      "text/plain": [
       "5523"
      ]
     },
     "execution_count": 60,
     "metadata": {},
     "output_type": "execute_result"
    }
   ],
   "source": [
    "len(youth_HH_samp_frame)"
   ]
  },
  {
   "cell_type": "code",
   "execution_count": 61,
   "id": "74a4644d",
   "metadata": {
    "id": "26e9ce59",
    "outputId": "ca6b412e-c612-4a31-8c53-b75dc6776ab9",
    "slideshow": {
     "slide_type": "skip"
    }
   },
   "outputs": [
    {
     "data": {
      "text/html": [
       "<div>\n",
       "<style scoped>\n",
       "    .dataframe tbody tr th:only-of-type {\n",
       "        vertical-align: middle;\n",
       "    }\n",
       "\n",
       "    .dataframe tbody tr th {\n",
       "        vertical-align: top;\n",
       "    }\n",
       "\n",
       "    .dataframe thead th {\n",
       "        text-align: right;\n",
       "    }\n",
       "</style>\n",
       "<table border=\"1\" class=\"dataframe\">\n",
       "  <thead>\n",
       "    <tr style=\"text-align: right;\">\n",
       "      <th></th>\n",
       "      <th>district</th>\n",
       "      <th>subcounty</th>\n",
       "      <th>Parish</th>\n",
       "      <th>village</th>\n",
       "      <th>hhh_name</th>\n",
       "      <th>age</th>\n",
       "      <th>Contact</th>\n",
       "      <th>id</th>\n",
       "      <th>Household_Head_Gender</th>\n",
       "    </tr>\n",
       "  </thead>\n",
       "  <tbody>\n",
       "    <tr>\n",
       "      <th>9</th>\n",
       "      <td>Kagadi</td>\n",
       "      <td>Ruteete</td>\n",
       "      <td>Ruboona</td>\n",
       "      <td>Bufundi</td>\n",
       "      <td>Bonefence Turyahebwa</td>\n",
       "      <td>23.0</td>\n",
       "      <td>778136313.0</td>\n",
       "      <td>KAG-BUF-BON-M-42845</td>\n",
       "      <td>Youth Headed</td>\n",
       "    </tr>\n",
       "    <tr>\n",
       "      <th>13</th>\n",
       "      <td>Kagadi</td>\n",
       "      <td>Ruteete</td>\n",
       "      <td>Ruboona</td>\n",
       "      <td>Bufundi</td>\n",
       "      <td>Edward Monday</td>\n",
       "      <td>27.0</td>\n",
       "      <td>NaN</td>\n",
       "      <td>KAG-BUF-EDW-M-108676</td>\n",
       "      <td>Youth Headed</td>\n",
       "    </tr>\n",
       "    <tr>\n",
       "      <th>15</th>\n",
       "      <td>Kagadi</td>\n",
       "      <td>Ruteete</td>\n",
       "      <td>Ruboona</td>\n",
       "      <td>Bufundi</td>\n",
       "      <td>Emmanuel Habasa</td>\n",
       "      <td>30.0</td>\n",
       "      <td>99.0</td>\n",
       "      <td>KAG-BUF-EMM-M-42809</td>\n",
       "      <td>Youth Headed</td>\n",
       "    </tr>\n",
       "    <tr>\n",
       "      <th>17</th>\n",
       "      <td>Kagadi</td>\n",
       "      <td>Ruteete</td>\n",
       "      <td>Ruboona</td>\n",
       "      <td>Bufundi</td>\n",
       "      <td>Enock Barungi</td>\n",
       "      <td>24.0</td>\n",
       "      <td>774553270.0</td>\n",
       "      <td>KAG-BUF-ENO-M-42792</td>\n",
       "      <td>Youth Headed</td>\n",
       "    </tr>\n",
       "    <tr>\n",
       "      <th>20</th>\n",
       "      <td>Kagadi</td>\n",
       "      <td>Ruteete</td>\n",
       "      <td>Ruboona</td>\n",
       "      <td>Bufundi</td>\n",
       "      <td>Evaristo Buregyeya</td>\n",
       "      <td>24.0</td>\n",
       "      <td>NaN</td>\n",
       "      <td>KAG-BUF-EVA-M-108678</td>\n",
       "      <td>Youth Headed</td>\n",
       "    </tr>\n",
       "  </tbody>\n",
       "</table>\n",
       "</div>"
      ],
      "text/plain": [
       "   district subcounty   Parish  village              hhh_name   age  \\\n",
       "9    Kagadi   Ruteete  Ruboona  Bufundi  Bonefence Turyahebwa  23.0   \n",
       "13   Kagadi   Ruteete  Ruboona  Bufundi         Edward Monday  27.0   \n",
       "15   Kagadi   Ruteete  Ruboona  Bufundi       Emmanuel Habasa  30.0   \n",
       "17   Kagadi   Ruteete  Ruboona  Bufundi         Enock Barungi  24.0   \n",
       "20   Kagadi   Ruteete  Ruboona  Bufundi    Evaristo Buregyeya  24.0   \n",
       "\n",
       "        Contact                    id Household_Head_Gender  \n",
       "9   778136313.0   KAG-BUF-BON-M-42845          Youth Headed  \n",
       "13          NaN  KAG-BUF-EDW-M-108676          Youth Headed  \n",
       "15         99.0   KAG-BUF-EMM-M-42809          Youth Headed  \n",
       "17  774553270.0   KAG-BUF-ENO-M-42792          Youth Headed  \n",
       "20          NaN  KAG-BUF-EVA-M-108678          Youth Headed  "
      ]
     },
     "execution_count": 61,
     "metadata": {},
     "output_type": "execute_result"
    }
   ],
   "source": [
    "youth_HH_samp_frame.head()"
   ]
  },
  {
   "cell_type": "code",
   "execution_count": 62,
   "id": "016af514",
   "metadata": {
    "id": "c24e4229",
    "slideshow": {
     "slide_type": "fragment"
    }
   },
   "outputs": [
    {
     "name": "stderr",
     "output_type": "stream",
     "text": [
      "/var/folders/xd/0btgr76j2zxc4__ynw0yhwbm0000gn/T/ipykernel_41015/4193345323.py:1: DeprecationWarning: DataFrameGroupBy.apply operated on the grouping columns. This behavior is deprecated, and in a future version of pandas the grouping columns will be excluded from the operation. Either pass `include_groups=False` to exclude the groupings or explicitly select the grouping columns after groupby to silence this warning.\n",
      "  youth_target_sample = youth_HH_samp_frame.groupby('village', group_keys=False).apply(lambda x: x.sample(n=min(len(x), 3)))\n"
     ]
    }
   ],
   "source": [
    "youth_target_sample = youth_HH_samp_frame.groupby('village', group_keys=False).apply(lambda x: x.sample(n=min(len(x), 3)))"
   ]
  },
  {
   "cell_type": "code",
   "execution_count": 63,
   "id": "2e9eee5f",
   "metadata": {
    "id": "518216f0",
    "outputId": "e2d199d9-f513-47a2-f1ec-bc9716eea8ac",
    "slideshow": {
     "slide_type": "skip"
    }
   },
   "outputs": [
    {
     "data": {
      "text/plain": [
       "477"
      ]
     },
     "execution_count": 63,
     "metadata": {},
     "output_type": "execute_result"
    }
   ],
   "source": [
    "len(youth_target_sample)"
   ]
  },
  {
   "cell_type": "code",
   "execution_count": 64,
   "id": "68d5fa56",
   "metadata": {
    "id": "8efb77de",
    "slideshow": {
     "slide_type": "fragment"
    }
   },
   "outputs": [],
   "source": [
    "youth_target_sample['status'] = 'target'"
   ]
  },
  {
   "cell_type": "code",
   "execution_count": 65,
   "id": "76f235a4",
   "metadata": {
    "id": "a15aafc3",
    "outputId": "48ac1dd2-e03c-4367-de06-db276ed9fb95",
    "slideshow": {
     "slide_type": "skip"
    }
   },
   "outputs": [
    {
     "data": {
      "text/html": [
       "<div>\n",
       "<style scoped>\n",
       "    .dataframe tbody tr th:only-of-type {\n",
       "        vertical-align: middle;\n",
       "    }\n",
       "\n",
       "    .dataframe tbody tr th {\n",
       "        vertical-align: top;\n",
       "    }\n",
       "\n",
       "    .dataframe thead th {\n",
       "        text-align: right;\n",
       "    }\n",
       "</style>\n",
       "<table border=\"1\" class=\"dataframe\">\n",
       "  <thead>\n",
       "    <tr style=\"text-align: right;\">\n",
       "      <th></th>\n",
       "      <th>district</th>\n",
       "      <th>subcounty</th>\n",
       "      <th>Parish</th>\n",
       "      <th>village</th>\n",
       "      <th>hhh_name</th>\n",
       "      <th>age</th>\n",
       "      <th>Contact</th>\n",
       "      <th>id</th>\n",
       "      <th>Household_Head_Gender</th>\n",
       "      <th>status</th>\n",
       "    </tr>\n",
       "  </thead>\n",
       "  <tbody>\n",
       "    <tr>\n",
       "      <th>9946</th>\n",
       "      <td>Kyenjojo</td>\n",
       "      <td>Kyembogo</td>\n",
       "      <td>Mparo</td>\n",
       "      <td>Aswa</td>\n",
       "      <td>Banet Niwamanya</td>\n",
       "      <td>25.0</td>\n",
       "      <td>99.0</td>\n",
       "      <td>KYE-ASW-BAN-M-33507</td>\n",
       "      <td>Youth Headed</td>\n",
       "      <td>target</td>\n",
       "    </tr>\n",
       "    <tr>\n",
       "      <th>9956</th>\n",
       "      <td>Kyenjojo</td>\n",
       "      <td>Kyembogo</td>\n",
       "      <td>Mparo</td>\n",
       "      <td>Aswa</td>\n",
       "      <td>Boazi Nanpamya</td>\n",
       "      <td>20.0</td>\n",
       "      <td>99.0</td>\n",
       "      <td>KYE-ASW-BOA-F-33659</td>\n",
       "      <td>Youth Headed</td>\n",
       "      <td>target</td>\n",
       "    </tr>\n",
       "    <tr>\n",
       "      <th>10063</th>\n",
       "      <td>Kyenjojo</td>\n",
       "      <td>Kyembogo</td>\n",
       "      <td>Mparo</td>\n",
       "      <td>Aswa</td>\n",
       "      <td>Sarah Kyomujisha</td>\n",
       "      <td>23.0</td>\n",
       "      <td>99.0</td>\n",
       "      <td>KYE-ASW-SAR-F-33614</td>\n",
       "      <td>Youth Headed</td>\n",
       "      <td>target</td>\n",
       "    </tr>\n",
       "    <tr>\n",
       "      <th>10171</th>\n",
       "      <td>Kyenjojo</td>\n",
       "      <td>Kihuura</td>\n",
       "      <td>Ngombe</td>\n",
       "      <td>Bisa</td>\n",
       "      <td>Joseph Baguma</td>\n",
       "      <td>21.0</td>\n",
       "      <td>99.0</td>\n",
       "      <td>KYE-BIS-JOS-M-48058</td>\n",
       "      <td>Youth Headed</td>\n",
       "      <td>target</td>\n",
       "    </tr>\n",
       "    <tr>\n",
       "      <th>10223</th>\n",
       "      <td>Kyenjojo</td>\n",
       "      <td>Kihuura</td>\n",
       "      <td>Ngombe</td>\n",
       "      <td>Bisa</td>\n",
       "      <td>Robert Kusemererwa</td>\n",
       "      <td>29.0</td>\n",
       "      <td>788144485.0</td>\n",
       "      <td>KYE-BIS-ROB-M-47929</td>\n",
       "      <td>Youth Headed</td>\n",
       "      <td>target</td>\n",
       "    </tr>\n",
       "  </tbody>\n",
       "</table>\n",
       "</div>"
      ],
      "text/plain": [
       "       district subcounty  Parish village            hhh_name   age  \\\n",
       "9946   Kyenjojo  Kyembogo   Mparo    Aswa     Banet Niwamanya  25.0   \n",
       "9956   Kyenjojo  Kyembogo   Mparo    Aswa      Boazi Nanpamya  20.0   \n",
       "10063  Kyenjojo  Kyembogo   Mparo    Aswa    Sarah Kyomujisha  23.0   \n",
       "10171  Kyenjojo   Kihuura  Ngombe    Bisa       Joseph Baguma  21.0   \n",
       "10223  Kyenjojo   Kihuura  Ngombe    Bisa  Robert Kusemererwa  29.0   \n",
       "\n",
       "           Contact                   id Household_Head_Gender  status  \n",
       "9946          99.0  KYE-ASW-BAN-M-33507          Youth Headed  target  \n",
       "9956          99.0  KYE-ASW-BOA-F-33659          Youth Headed  target  \n",
       "10063         99.0  KYE-ASW-SAR-F-33614          Youth Headed  target  \n",
       "10171         99.0  KYE-BIS-JOS-M-48058          Youth Headed  target  \n",
       "10223  788144485.0  KYE-BIS-ROB-M-47929          Youth Headed  target  "
      ]
     },
     "execution_count": 65,
     "metadata": {},
     "output_type": "execute_result"
    }
   ],
   "source": [
    "youth_target_sample.head()"
   ]
  },
  {
   "cell_type": "code",
   "execution_count": 66,
   "id": "60bf6a99",
   "metadata": {
    "id": "bf8ab55d",
    "slideshow": {
     "slide_type": "skip"
    }
   },
   "outputs": [],
   "source": [
    "# youth_target_sample.to_excel('mit/youth_target_sample.xlsx', index=False)"
   ]
  },
  {
   "cell_type": "markdown",
   "id": "a5d04874",
   "metadata": {
    "id": "c409fcb9",
    "slideshow": {
     "slide_type": "slide"
    }
   },
   "source": [
    "## Reserve frame"
   ]
  },
  {
   "cell_type": "code",
   "execution_count": 67,
   "id": "99328c13",
   "metadata": {
    "id": "ba880cf1",
    "outputId": "9dcd5661-032f-4141-834f-d84e773ebe55",
    "slideshow": {
     "slide_type": "fragment"
    }
   },
   "outputs": [
    {
     "data": {
      "text/plain": [
       "(5046, 9)"
      ]
     },
     "execution_count": 67,
     "metadata": {},
     "output_type": "execute_result"
    }
   ],
   "source": [
    "youth_reserve_s_frame = youth_HH_samp_frame.drop(index = youth_target_sample.index)\n",
    "youth_reserve_s_frame.shape"
   ]
  },
  {
   "cell_type": "code",
   "execution_count": 68,
   "id": "6694dea9",
   "metadata": {
    "id": "52e433b4",
    "slideshow": {
     "slide_type": "skip"
    }
   },
   "outputs": [],
   "source": [
    "# youth_reserve_s_frame.to_excel('mit/youth_reserve_s_frame.xlsx', index=False)"
   ]
  },
  {
   "cell_type": "code",
   "execution_count": 69,
   "id": "479b22e7",
   "metadata": {
    "id": "0d0c7d45",
    "slideshow": {
     "slide_type": "fragment"
    }
   },
   "outputs": [
    {
     "name": "stderr",
     "output_type": "stream",
     "text": [
      "/var/folders/xd/0btgr76j2zxc4__ynw0yhwbm0000gn/T/ipykernel_41015/1565627471.py:1: DeprecationWarning: DataFrameGroupBy.apply operated on the grouping columns. This behavior is deprecated, and in a future version of pandas the grouping columns will be excluded from the operation. Either pass `include_groups=False` to exclude the groupings or explicitly select the grouping columns after groupby to silence this warning.\n",
      "  youth_reserve_sample = youth_reserve_s_frame.groupby('village', group_keys=False).apply(lambda x: x.sample(n=min(len(x), 2)))\n"
     ]
    }
   ],
   "source": [
    "youth_reserve_sample = youth_reserve_s_frame.groupby('village', group_keys=False).apply(lambda x: x.sample(n=min(len(x), 2)))"
   ]
  },
  {
   "cell_type": "code",
   "execution_count": 70,
   "id": "3baef350",
   "metadata": {
    "id": "dcf49b93",
    "outputId": "2dc5de30-9a7c-49e3-b748-610562cd4b76",
    "slideshow": {
     "slide_type": "fragment"
    }
   },
   "outputs": [
    {
     "data": {
      "text/html": [
       "<div>\n",
       "<style scoped>\n",
       "    .dataframe tbody tr th:only-of-type {\n",
       "        vertical-align: middle;\n",
       "    }\n",
       "\n",
       "    .dataframe tbody tr th {\n",
       "        vertical-align: top;\n",
       "    }\n",
       "\n",
       "    .dataframe thead th {\n",
       "        text-align: right;\n",
       "    }\n",
       "</style>\n",
       "<table border=\"1\" class=\"dataframe\">\n",
       "  <thead>\n",
       "    <tr style=\"text-align: right;\">\n",
       "      <th></th>\n",
       "      <th>district</th>\n",
       "      <th>subcounty</th>\n",
       "      <th>Parish</th>\n",
       "      <th>village</th>\n",
       "      <th>hhh_name</th>\n",
       "      <th>age</th>\n",
       "      <th>Contact</th>\n",
       "      <th>id</th>\n",
       "      <th>Household_Head_Gender</th>\n",
       "      <th>status</th>\n",
       "    </tr>\n",
       "  </thead>\n",
       "  <tbody>\n",
       "    <tr>\n",
       "      <th>9945</th>\n",
       "      <td>Kyenjojo</td>\n",
       "      <td>Kyembogo</td>\n",
       "      <td>Mparo</td>\n",
       "      <td>Aswa</td>\n",
       "      <td>Ayilence Amumpire</td>\n",
       "      <td>27.0</td>\n",
       "      <td>99.0</td>\n",
       "      <td>KYE-ASW-AYI-F-33563</td>\n",
       "      <td>Youth Headed</td>\n",
       "      <td>reserve</td>\n",
       "    </tr>\n",
       "    <tr>\n",
       "      <th>9933</th>\n",
       "      <td>Kyenjojo</td>\n",
       "      <td>Kyembogo</td>\n",
       "      <td>Mparo</td>\n",
       "      <td>Aswa</td>\n",
       "      <td>Adison Turyagumanawe</td>\n",
       "      <td>29.0</td>\n",
       "      <td>99.0</td>\n",
       "      <td>KYE-ASW-ADI-M-33669</td>\n",
       "      <td>Youth Headed</td>\n",
       "      <td>reserve</td>\n",
       "    </tr>\n",
       "    <tr>\n",
       "      <th>10143</th>\n",
       "      <td>Kyenjojo</td>\n",
       "      <td>Kihuura</td>\n",
       "      <td>Ngombe</td>\n",
       "      <td>Bisa</td>\n",
       "      <td>Godfrey Mwanguhya</td>\n",
       "      <td>29.0</td>\n",
       "      <td>706433721.0</td>\n",
       "      <td>KYE-BIS-GOD-M-108818</td>\n",
       "      <td>Youth Headed</td>\n",
       "      <td>reserve</td>\n",
       "    </tr>\n",
       "    <tr>\n",
       "      <th>10200</th>\n",
       "      <td>Kyenjojo</td>\n",
       "      <td>Kihuura</td>\n",
       "      <td>Ngombe</td>\n",
       "      <td>Bisa</td>\n",
       "      <td>Moses Muhanuzi</td>\n",
       "      <td>22.0</td>\n",
       "      <td>753261972.0</td>\n",
       "      <td>KYE-BIS-MOS-M-48073</td>\n",
       "      <td>Youth Headed</td>\n",
       "      <td>reserve</td>\n",
       "    </tr>\n",
       "    <tr>\n",
       "      <th>5122</th>\n",
       "      <td>Kaliro</td>\n",
       "      <td>Gadumire</td>\n",
       "      <td>Butambala</td>\n",
       "      <td>Bubalala</td>\n",
       "      <td>Benard Nseko</td>\n",
       "      <td>28.0</td>\n",
       "      <td>776224915.0</td>\n",
       "      <td>KAL-BUB-BEN-M-4198</td>\n",
       "      <td>Youth Headed</td>\n",
       "      <td>reserve</td>\n",
       "    </tr>\n",
       "  </tbody>\n",
       "</table>\n",
       "</div>"
      ],
      "text/plain": [
       "       district subcounty     Parish   village              hhh_name   age  \\\n",
       "9945   Kyenjojo  Kyembogo      Mparo      Aswa     Ayilence Amumpire  27.0   \n",
       "9933   Kyenjojo  Kyembogo      Mparo      Aswa  Adison Turyagumanawe  29.0   \n",
       "10143  Kyenjojo   Kihuura     Ngombe      Bisa     Godfrey Mwanguhya  29.0   \n",
       "10200  Kyenjojo   Kihuura     Ngombe      Bisa        Moses Muhanuzi  22.0   \n",
       "5122     Kaliro  Gadumire  Butambala  Bubalala          Benard Nseko  28.0   \n",
       "\n",
       "           Contact                    id Household_Head_Gender   status  \n",
       "9945          99.0   KYE-ASW-AYI-F-33563          Youth Headed  reserve  \n",
       "9933          99.0   KYE-ASW-ADI-M-33669          Youth Headed  reserve  \n",
       "10143  706433721.0  KYE-BIS-GOD-M-108818          Youth Headed  reserve  \n",
       "10200  753261972.0   KYE-BIS-MOS-M-48073          Youth Headed  reserve  \n",
       "5122   776224915.0    KAL-BUB-BEN-M-4198          Youth Headed  reserve  "
      ]
     },
     "execution_count": 70,
     "metadata": {},
     "output_type": "execute_result"
    }
   ],
   "source": [
    "youth_reserve_sample['status'] = 'reserve'\n",
    "youth_reserve_sample.head()"
   ]
  },
  {
   "cell_type": "code",
   "execution_count": 71,
   "id": "35632d17",
   "metadata": {
    "id": "0aff8617",
    "slideshow": {
     "slide_type": "skip"
    }
   },
   "outputs": [],
   "source": [
    "# youth_reserve_sample.to_excel('mit/youth_reserve_sample.xlsx', index=False)"
   ]
  },
  {
   "cell_type": "markdown",
   "id": "a7eacb52",
   "metadata": {
    "id": "55c723e1",
    "slideshow": {
     "slide_type": "slide"
    }
   },
   "source": [
    "# Youth Household Sample"
   ]
  },
  {
   "cell_type": "code",
   "execution_count": 72,
   "id": "c2e86921",
   "metadata": {
    "id": "1fa36c9b",
    "outputId": "b4f3199b-b088-4116-91d9-4c5971286f16",
    "slideshow": {
     "slide_type": "skip"
    }
   },
   "outputs": [
    {
     "data": {
      "text/plain": [
       "((477, 10), (315, 10))"
      ]
     },
     "execution_count": 72,
     "metadata": {},
     "output_type": "execute_result"
    }
   ],
   "source": [
    "youth_target_sample.shape, youth_reserve_sample.shape"
   ]
  },
  {
   "cell_type": "code",
   "execution_count": 73,
   "id": "189c2382",
   "metadata": {
    "id": "dbf967a5",
    "slideshow": {
     "slide_type": "fragment"
    }
   },
   "outputs": [],
   "source": [
    "YOUTH_HH_SAMPLE = pd.concat([youth_target_sample, youth_reserve_sample])"
   ]
  },
  {
   "cell_type": "code",
   "execution_count": 74,
   "id": "adcf5732",
   "metadata": {
    "id": "42b22501",
    "slideshow": {
     "slide_type": "skip"
    }
   },
   "outputs": [],
   "source": [
    "# YOUTH_HH_SAMPLE.to_excel('mit/YOUTH_HH_SAMPLE.xlsx', index=False)"
   ]
  },
  {
   "cell_type": "markdown",
   "id": "b02055cd",
   "metadata": {
    "slideshow": {
     "slide_type": "skip"
    }
   },
   "source": [
    "We now have sample for males, females, and youths. Let's combine."
   ]
  },
  {
   "cell_type": "markdown",
   "id": "fdc3a1c3",
   "metadata": {
    "id": "6184c074",
    "slideshow": {
     "slide_type": "slide"
    }
   },
   "source": [
    "# JOINING THE DATAFRAMES"
   ]
  },
  {
   "cell_type": "code",
   "execution_count": 75,
   "id": "39d85bc3",
   "metadata": {
    "id": "4128546d",
    "outputId": "4b648906-ebb7-438e-bc28-0df3a63b5276",
    "slideshow": {
     "slide_type": "fragment"
    }
   },
   "outputs": [
    {
     "data": {
      "text/plain": [
       "((2065, 10), (796, 10), (792, 10))"
      ]
     },
     "execution_count": 75,
     "metadata": {},
     "output_type": "execute_result"
    }
   ],
   "source": [
    "MALE_HH_SAMPLE.shape, FEMALE_HH_SAMPLE.shape, YOUTH_HH_SAMPLE.shape"
   ]
  },
  {
   "cell_type": "code",
   "execution_count": 76,
   "id": "63f6138b",
   "metadata": {
    "slideshow": {
     "slide_type": "skip"
    }
   },
   "outputs": [],
   "source": [
    "import numpy as np"
   ]
  },
  {
   "cell_type": "code",
   "execution_count": 77,
   "id": "e92c861a",
   "metadata": {
    "id": "edc79f76",
    "outputId": "a762b494-3b76-412c-e022-e596bdcc665f",
    "slideshow": {
     "slide_type": "skip"
    }
   },
   "outputs": [
    {
     "data": {
      "text/plain": [
       "(3653, 20168)"
      ]
     },
     "execution_count": 77,
     "metadata": {},
     "output_type": "execute_result"
    }
   ],
   "source": [
    "np.array((MALE_HH_SAMPLE.shape[0], FEMALE_HH_SAMPLE.shape[0], YOUTH_HH_SAMPLE.shape[0])).sum(), len(df)"
   ]
  },
  {
   "cell_type": "code",
   "execution_count": 78,
   "id": "7f54a358",
   "metadata": {
    "id": "e16a7432",
    "slideshow": {
     "slide_type": "fragment"
    }
   },
   "outputs": [],
   "source": [
    "FINAL = pd.concat([MALE_HH_SAMPLE, FEMALE_HH_SAMPLE, YOUTH_HH_SAMPLE])"
   ]
  },
  {
   "cell_type": "code",
   "execution_count": 79,
   "id": "d85eade2",
   "metadata": {
    "id": "a397efd5",
    "slideshow": {
     "slide_type": "fragment"
    }
   },
   "outputs": [],
   "source": [
    "FINAL.to_excel('FINAL_Randomized.xlsx', index=False)"
   ]
  },
  {
   "cell_type": "code",
   "execution_count": null,
   "id": "84e54a27-2f24-404f-b60e-66b502929e33",
   "metadata": {},
   "outputs": [],
   "source": []
  },
  {
   "cell_type": "code",
   "execution_count": null,
   "id": "599a1bdb-373e-44cc-963e-de397020e7dd",
   "metadata": {},
   "outputs": [],
   "source": []
  }
 ],
 "metadata": {
  "celltoolbar": "Slideshow",
  "colab": {
   "provenance": []
  },
  "kernelspec": {
   "display_name": "Python 3 (ipykernel)",
   "language": "python",
   "name": "python3"
  },
  "language_info": {
   "codemirror_mode": {
    "name": "ipython",
    "version": 3
   },
   "file_extension": ".py",
   "mimetype": "text/x-python",
   "name": "python",
   "nbconvert_exporter": "python",
   "pygments_lexer": "ipython3",
   "version": "3.10.9"
  }
 },
 "nbformat": 4,
 "nbformat_minor": 5
}
