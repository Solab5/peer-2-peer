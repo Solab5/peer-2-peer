{
 "cells": [
  {
   "cell_type": "code",
   "execution_count": 21,
   "id": "13ccaef3",
   "metadata": {
    "id": "f064745d",
    "slideshow": {
     "slide_type": "fragment"
    }
   },
   "outputs": [],
   "source": [
    "import pandas as pd"
   ]
  },
  {
   "cell_type": "code",
   "execution_count": 92,
   "id": "d364f160",
   "metadata": {
    "id": "f064745d",
    "slideshow": {
     "slide_type": "slide"
    }
   },
   "outputs": [],
   "source": [
    "data = pd.read_excel(\"Household datasets for SEs (1).xlsx\")"
   ]
  },
  {
   "cell_type": "code",
   "execution_count": 93,
   "id": "d1c762e9-d708-4c78-82f9-d3b78da00b96",
   "metadata": {},
   "outputs": [],
   "source": [
    "df = data.copy()"
   ]
  },
  {
   "cell_type": "code",
   "execution_count": 94,
   "id": "dfbf7397",
   "metadata": {
    "colab": {
     "base_uri": "https://localhost:8080/",
     "height": 504
    },
    "id": "ab74a51a",
    "outputId": "12194158-8848-4224-8b9b-93fa90e4b285",
    "slideshow": {
     "slide_type": "slide"
    }
   },
   "outputs": [
    {
     "name": "stdout",
     "output_type": "stream",
     "text": [
      "(92684, 14)\n"
     ]
    },
    {
     "data": {
      "text/html": [
       "<div>\n",
       "<style scoped>\n",
       "    .dataframe tbody tr th:only-of-type {\n",
       "        vertical-align: middle;\n",
       "    }\n",
       "\n",
       "    .dataframe tbody tr th {\n",
       "        vertical-align: top;\n",
       "    }\n",
       "\n",
       "    .dataframe thead th {\n",
       "        text-align: right;\n",
       "    }\n",
       "</style>\n",
       "<table border=\"1\" class=\"dataframe\">\n",
       "  <thead>\n",
       "    <tr style=\"text-align: right;\">\n",
       "      <th></th>\n",
       "      <th>district</th>\n",
       "      <th>subcounty</th>\n",
       "      <th>Parish</th>\n",
       "      <th>Cluster</th>\n",
       "      <th>village</th>\n",
       "      <th>Cohort</th>\n",
       "      <th>Cycle</th>\n",
       "      <th>Type</th>\n",
       "      <th>id</th>\n",
       "      <th>hhh_name</th>\n",
       "      <th>Contact</th>\n",
       "      <th>test</th>\n",
       "      <th>gender</th>\n",
       "      <th>age</th>\n",
       "    </tr>\n",
       "  </thead>\n",
       "  <tbody>\n",
       "    <tr>\n",
       "      <th>92674</th>\n",
       "      <td>Rukungiri</td>\n",
       "      <td>Bugangari</td>\n",
       "      <td>Kazindiro</td>\n",
       "      <td>Kazindiro</td>\n",
       "      <td>Nyakahanga_Kazindiro</td>\n",
       "      <td>2024</td>\n",
       "      <td>A</td>\n",
       "      <td>NaN</td>\n",
       "      <td>RUK-NYA-TUM-F-70049</td>\n",
       "      <td>Tumushabe Vastina</td>\n",
       "      <td>NaN</td>\n",
       "      <td>F</td>\n",
       "      <td>F</td>\n",
       "      <td>43.0</td>\n",
       "    </tr>\n",
       "    <tr>\n",
       "      <th>92675</th>\n",
       "      <td>Rukungiri</td>\n",
       "      <td>Bugangari</td>\n",
       "      <td>Kazindiro</td>\n",
       "      <td>Kazindiro</td>\n",
       "      <td>Nyakahanga_Kazindiro</td>\n",
       "      <td>2024</td>\n",
       "      <td>A</td>\n",
       "      <td>NaN</td>\n",
       "      <td>RUK-NYA-KYA-F-70050</td>\n",
       "      <td>Kyarikunda Evas</td>\n",
       "      <td>NaN</td>\n",
       "      <td>F</td>\n",
       "      <td>F</td>\n",
       "      <td>46.0</td>\n",
       "    </tr>\n",
       "    <tr>\n",
       "      <th>92676</th>\n",
       "      <td>Rukungiri</td>\n",
       "      <td>Bugangari</td>\n",
       "      <td>Kazindiro</td>\n",
       "      <td>Kazindiro</td>\n",
       "      <td>Nyakahanga_Kazindiro</td>\n",
       "      <td>2024</td>\n",
       "      <td>A</td>\n",
       "      <td>NaN</td>\n",
       "      <td>RUK-NYA-TUG-F-70051</td>\n",
       "      <td>Tugume Gladys</td>\n",
       "      <td>NaN</td>\n",
       "      <td>F</td>\n",
       "      <td>F</td>\n",
       "      <td>50.0</td>\n",
       "    </tr>\n",
       "    <tr>\n",
       "      <th>92677</th>\n",
       "      <td>Rukungiri</td>\n",
       "      <td>Bugangari</td>\n",
       "      <td>Kazindiro</td>\n",
       "      <td>Kazindiro</td>\n",
       "      <td>Nyakahanga_Kazindiro</td>\n",
       "      <td>2024</td>\n",
       "      <td>A</td>\n",
       "      <td>NaN</td>\n",
       "      <td>RUK-NYA-BAR-F-70052</td>\n",
       "      <td>Barunga Vanis</td>\n",
       "      <td>NaN</td>\n",
       "      <td>F</td>\n",
       "      <td>F</td>\n",
       "      <td>51.0</td>\n",
       "    </tr>\n",
       "    <tr>\n",
       "      <th>92678</th>\n",
       "      <td>Rukungiri</td>\n",
       "      <td>Bugangari</td>\n",
       "      <td>Kazindiro</td>\n",
       "      <td>Kazindiro</td>\n",
       "      <td>Rwanyanja</td>\n",
       "      <td>2024</td>\n",
       "      <td>A</td>\n",
       "      <td>NaN</td>\n",
       "      <td>RUK-RWA-BIL-M-70053</td>\n",
       "      <td>Bilama Charles</td>\n",
       "      <td>NaN</td>\n",
       "      <td>M</td>\n",
       "      <td>M</td>\n",
       "      <td>50.0</td>\n",
       "    </tr>\n",
       "    <tr>\n",
       "      <th>92679</th>\n",
       "      <td>Rukungiri</td>\n",
       "      <td>Bugangari</td>\n",
       "      <td>Kazindiro</td>\n",
       "      <td>Kazindiro</td>\n",
       "      <td>Rwanyanja</td>\n",
       "      <td>2024</td>\n",
       "      <td>A</td>\n",
       "      <td>NaN</td>\n",
       "      <td>RUK-RWA-BIN-F-70054</td>\n",
       "      <td>Binaleta Kinabwine</td>\n",
       "      <td>NaN</td>\n",
       "      <td>F</td>\n",
       "      <td>F</td>\n",
       "      <td>65.0</td>\n",
       "    </tr>\n",
       "    <tr>\n",
       "      <th>92680</th>\n",
       "      <td>Rukungiri</td>\n",
       "      <td>Bugangari</td>\n",
       "      <td>Kazindiro</td>\n",
       "      <td>Kazindiro</td>\n",
       "      <td>Rwanyanja</td>\n",
       "      <td>2024</td>\n",
       "      <td>A</td>\n",
       "      <td>NaN</td>\n",
       "      <td>RUK-RWA-TUM-F-70055</td>\n",
       "      <td>Tumusiime Jovaile</td>\n",
       "      <td>NaN</td>\n",
       "      <td>F</td>\n",
       "      <td>F</td>\n",
       "      <td>67.0</td>\n",
       "    </tr>\n",
       "    <tr>\n",
       "      <th>92681</th>\n",
       "      <td>Rukungiri</td>\n",
       "      <td>Bugangari</td>\n",
       "      <td>Kazindiro</td>\n",
       "      <td>Kazindiro</td>\n",
       "      <td>Rwanyanja</td>\n",
       "      <td>2024</td>\n",
       "      <td>A</td>\n",
       "      <td>NaN</td>\n",
       "      <td>RUK-RWA-TUM-M-70056</td>\n",
       "      <td>Tumuhimbise Talasisio</td>\n",
       "      <td>NaN</td>\n",
       "      <td>M</td>\n",
       "      <td>M</td>\n",
       "      <td>49.0</td>\n",
       "    </tr>\n",
       "    <tr>\n",
       "      <th>92682</th>\n",
       "      <td>Kyenjojo</td>\n",
       "      <td>Nyantungo</td>\n",
       "      <td>Mabaale</td>\n",
       "      <td>Mabaale</td>\n",
       "      <td>Nyarugongo</td>\n",
       "      <td>2024</td>\n",
       "      <td>A</td>\n",
       "      <td>NaN</td>\n",
       "      <td>KYE-NYA-AKU-M-130701</td>\n",
       "      <td>Akugizibwe Arikanjeru</td>\n",
       "      <td>772752000</td>\n",
       "      <td>M</td>\n",
       "      <td>Male</td>\n",
       "      <td>NaN</td>\n",
       "    </tr>\n",
       "    <tr>\n",
       "      <th>92683</th>\n",
       "      <td>Kyenjojo</td>\n",
       "      <td>Nyantungo</td>\n",
       "      <td>Mabaale</td>\n",
       "      <td>Mabaale</td>\n",
       "      <td>Nyarugongo</td>\n",
       "      <td>2024</td>\n",
       "      <td>A</td>\n",
       "      <td>NaN</td>\n",
       "      <td>KYE-NYA-BRI-M-135651</td>\n",
       "      <td>Brian Twesige</td>\n",
       "      <td>777078648</td>\n",
       "      <td>M</td>\n",
       "      <td>Male</td>\n",
       "      <td>NaN</td>\n",
       "    </tr>\n",
       "  </tbody>\n",
       "</table>\n",
       "</div>"
      ],
      "text/plain": [
       "        district   subcounty     Parish    Cluster               village  \\\n",
       "92674  Rukungiri  Bugangari   Kazindiro  Kazindiro  Nyakahanga_Kazindiro   \n",
       "92675  Rukungiri  Bugangari   Kazindiro  Kazindiro  Nyakahanga_Kazindiro   \n",
       "92676  Rukungiri  Bugangari   Kazindiro  Kazindiro  Nyakahanga_Kazindiro   \n",
       "92677  Rukungiri  Bugangari   Kazindiro  Kazindiro  Nyakahanga_Kazindiro   \n",
       "92678  Rukungiri  Bugangari   Kazindiro  Kazindiro             Rwanyanja   \n",
       "92679  Rukungiri  Bugangari   Kazindiro  Kazindiro             Rwanyanja   \n",
       "92680  Rukungiri  Bugangari   Kazindiro  Kazindiro             Rwanyanja   \n",
       "92681  Rukungiri  Bugangari   Kazindiro  Kazindiro             Rwanyanja   \n",
       "92682   Kyenjojo   Nyantungo    Mabaale    Mabaale            Nyarugongo   \n",
       "92683   Kyenjojo   Nyantungo    Mabaale    Mabaale            Nyarugongo   \n",
       "\n",
       "       Cohort Cycle Type                    id               hhh_name  \\\n",
       "92674    2024     A  NaN   RUK-NYA-TUM-F-70049      Tumushabe Vastina   \n",
       "92675    2024     A  NaN   RUK-NYA-KYA-F-70050        Kyarikunda Evas   \n",
       "92676    2024     A  NaN   RUK-NYA-TUG-F-70051          Tugume Gladys   \n",
       "92677    2024     A  NaN   RUK-NYA-BAR-F-70052          Barunga Vanis   \n",
       "92678    2024     A  NaN   RUK-RWA-BIL-M-70053         Bilama Charles   \n",
       "92679    2024     A  NaN   RUK-RWA-BIN-F-70054     Binaleta Kinabwine   \n",
       "92680    2024     A  NaN   RUK-RWA-TUM-F-70055      Tumusiime Jovaile   \n",
       "92681    2024     A  NaN   RUK-RWA-TUM-M-70056  Tumuhimbise Talasisio   \n",
       "92682    2024     A  NaN  KYE-NYA-AKU-M-130701  Akugizibwe Arikanjeru   \n",
       "92683    2024     A  NaN  KYE-NYA-BRI-M-135651          Brian Twesige   \n",
       "\n",
       "         Contact test gender   age  \n",
       "92674        NaN    F      F  43.0  \n",
       "92675        NaN    F      F  46.0  \n",
       "92676        NaN    F      F  50.0  \n",
       "92677        NaN    F      F  51.0  \n",
       "92678        NaN    M      M  50.0  \n",
       "92679        NaN    F      F  65.0  \n",
       "92680        NaN    F      F  67.0  \n",
       "92681        NaN    M      M  49.0  \n",
       "92682  772752000    M   Male   NaN  \n",
       "92683  777078648    M   Male   NaN  "
      ]
     },
     "execution_count": 94,
     "metadata": {},
     "output_type": "execute_result"
    }
   ],
   "source": [
    "print(df.shape)\n",
    "df.tail(10)"
   ]
  },
  {
   "cell_type": "code",
   "execution_count": 95,
   "id": "8af759dc",
   "metadata": {
    "colab": {
     "base_uri": "https://localhost:8080/"
    },
    "id": "177ba33d",
    "outputId": "3974aacd-f661-4c0f-819c-7b13392533f7",
    "slideshow": {
     "slide_type": "slide"
    }
   },
   "outputs": [
    {
     "data": {
      "text/plain": [
       "['district',\n",
       " 'subcounty',\n",
       " 'Parish',\n",
       " 'Cluster',\n",
       " 'village',\n",
       " 'Cohort',\n",
       " 'Cycle',\n",
       " 'Type',\n",
       " 'id',\n",
       " 'hhh_name',\n",
       " 'Contact',\n",
       " 'test',\n",
       " 'gender',\n",
       " 'age']"
      ]
     },
     "execution_count": 95,
     "metadata": {},
     "output_type": "execute_result"
    }
   ],
   "source": [
    "df.columns.to_list()"
   ]
  },
  {
   "cell_type": "code",
   "execution_count": 96,
   "id": "707f280a-b892-49db-af6d-92a4e10a62d5",
   "metadata": {
    "id": "861b8440",
    "slideshow": {
     "slide_type": "slide"
    }
   },
   "outputs": [],
   "source": [
    "columns = [\n",
    " 'district',\n",
    " 'subcounty',\n",
    " 'Parish',\n",
    " 'village',\n",
    " 'hhh_name',\n",
    " 'age',\n",
    " 'Contact',\n",
    " 'gender',\n",
    " 'id',\n",
    " ]"
   ]
  },
  {
   "cell_type": "code",
   "execution_count": 97,
   "id": "dd989bc5",
   "metadata": {
    "id": "dd11ea74",
    "slideshow": {
     "slide_type": "fragment"
    }
   },
   "outputs": [],
   "source": [
    "df = df[columns]"
   ]
  },
  {
   "cell_type": "code",
   "execution_count": 98,
   "id": "012c18a4-0e54-4b2f-8825-2b95a6c17f0d",
   "metadata": {},
   "outputs": [
    {
     "data": {
      "text/html": [
       "<div>\n",
       "<style scoped>\n",
       "    .dataframe tbody tr th:only-of-type {\n",
       "        vertical-align: middle;\n",
       "    }\n",
       "\n",
       "    .dataframe tbody tr th {\n",
       "        vertical-align: top;\n",
       "    }\n",
       "\n",
       "    .dataframe thead th {\n",
       "        text-align: right;\n",
       "    }\n",
       "</style>\n",
       "<table border=\"1\" class=\"dataframe\">\n",
       "  <thead>\n",
       "    <tr style=\"text-align: right;\">\n",
       "      <th></th>\n",
       "      <th>district</th>\n",
       "      <th>subcounty</th>\n",
       "      <th>Parish</th>\n",
       "      <th>village</th>\n",
       "      <th>hhh_name</th>\n",
       "      <th>age</th>\n",
       "      <th>Contact</th>\n",
       "      <th>gender</th>\n",
       "      <th>id</th>\n",
       "    </tr>\n",
       "  </thead>\n",
       "  <tbody>\n",
       "    <tr>\n",
       "      <th>0</th>\n",
       "      <td>Kagadi</td>\n",
       "      <td>Kicucuuru</td>\n",
       "      <td>Kitooro</td>\n",
       "      <td>Kasozi_Kitooro</td>\n",
       "      <td>Akakwasa More</td>\n",
       "      <td>60.0</td>\n",
       "      <td>785534054</td>\n",
       "      <td>Female</td>\n",
       "      <td>KAG-KAS-AKA-F-075731</td>\n",
       "    </tr>\n",
       "    <tr>\n",
       "      <th>1</th>\n",
       "      <td>Kagadi</td>\n",
       "      <td>Kicucuuru</td>\n",
       "      <td>Kitooro</td>\n",
       "      <td>Kasozi_Kitooro</td>\n",
       "      <td>Akoragye Peter</td>\n",
       "      <td>30.0</td>\n",
       "      <td>771069272</td>\n",
       "      <td>Male</td>\n",
       "      <td>KAG-KAS-AKO-M-095616</td>\n",
       "    </tr>\n",
       "    <tr>\n",
       "      <th>2</th>\n",
       "      <td>Kagadi</td>\n",
       "      <td>Kicucuuru</td>\n",
       "      <td>Kitooro</td>\n",
       "      <td>Kasozi_Kitooro</td>\n",
       "      <td>Aliganyira Nikorasi</td>\n",
       "      <td>26.0</td>\n",
       "      <td>784875889</td>\n",
       "      <td>Male</td>\n",
       "      <td>KAG-KAS-ALI-M-094647</td>\n",
       "    </tr>\n",
       "    <tr>\n",
       "      <th>3</th>\n",
       "      <td>Kagadi</td>\n",
       "      <td>Kicucuuru</td>\n",
       "      <td>Kitooro</td>\n",
       "      <td>Kasozi_Kitooro</td>\n",
       "      <td>Anet Kokundeka</td>\n",
       "      <td>36.0</td>\n",
       "      <td>755236985</td>\n",
       "      <td>Female</td>\n",
       "      <td>KAG-KAS-ANE-F-093637</td>\n",
       "    </tr>\n",
       "    <tr>\n",
       "      <th>4</th>\n",
       "      <td>Kagadi</td>\n",
       "      <td>Kicucuuru</td>\n",
       "      <td>Kitooro</td>\n",
       "      <td>Kasozi_Kitooro</td>\n",
       "      <td>Ayinemani Nicorous</td>\n",
       "      <td>21.0</td>\n",
       "      <td>789236760</td>\n",
       "      <td>Male</td>\n",
       "      <td>KAG-KAS-AYI-M-114920</td>\n",
       "    </tr>\n",
       "  </tbody>\n",
       "</table>\n",
       "</div>"
      ],
      "text/plain": [
       "  district  subcounty   Parish         village             hhh_name   age  \\\n",
       "0   Kagadi  Kicucuuru  Kitooro  Kasozi_Kitooro        Akakwasa More  60.0   \n",
       "1   Kagadi  Kicucuuru  Kitooro  Kasozi_Kitooro       Akoragye Peter  30.0   \n",
       "2   Kagadi  Kicucuuru  Kitooro  Kasozi_Kitooro  Aliganyira Nikorasi  26.0   \n",
       "3   Kagadi  Kicucuuru  Kitooro  Kasozi_Kitooro       Anet Kokundeka  36.0   \n",
       "4   Kagadi  Kicucuuru  Kitooro  Kasozi_Kitooro   Ayinemani Nicorous  21.0   \n",
       "\n",
       "     Contact  gender                    id  \n",
       "0  785534054  Female  KAG-KAS-AKA-F-075731  \n",
       "1  771069272    Male  KAG-KAS-AKO-M-095616  \n",
       "2  784875889    Male  KAG-KAS-ALI-M-094647  \n",
       "3  755236985  Female  KAG-KAS-ANE-F-093637  \n",
       "4  789236760    Male  KAG-KAS-AYI-M-114920  "
      ]
     },
     "execution_count": 98,
     "metadata": {},
     "output_type": "execute_result"
    }
   ],
   "source": [
    "df.head()"
   ]
  },
  {
   "cell_type": "code",
   "execution_count": 83,
   "id": "8d934dc3",
   "metadata": {
    "id": "9bddb919-95d6-4f38-9f3b-ffb36439ae00",
    "slideshow": {
     "slide_type": "fragment"
    }
   },
   "outputs": [],
   "source": [
    "df = df.drop_duplicates('id', keep='first')"
   ]
  },
  {
   "cell_type": "code",
   "execution_count": 99,
   "id": "3125c7b7",
   "metadata": {
    "id": "85b6f7a8",
    "outputId": "49dd801c-79d9-42b3-dd17-09d582d1b6d6",
    "slideshow": {
     "slide_type": "fragment"
    }
   },
   "outputs": [
    {
     "data": {
      "text/plain": [
       "gender\n",
       "Male       64675\n",
       "Female     21627\n",
       "M           4853\n",
       "F           1455\n",
       "male          53\n",
       "female        14\n",
       "Feamale        2\n",
       "Female`        2\n",
       "FemaLe         1\n",
       "Femae          1\n",
       "Male           1\n",
       "Name: count, dtype: int64"
      ]
     },
     "execution_count": 99,
     "metadata": {},
     "output_type": "execute_result"
    }
   ],
   "source": [
    "df['gender'].value_counts(dropna=False)"
   ]
  },
  {
   "cell_type": "code",
   "execution_count": 100,
   "id": "a210539d-e9c9-403c-854b-dddf283a790a",
   "metadata": {},
   "outputs": [],
   "source": [
    "gender_mapping = {\n",
    "    'male': 'Male',\n",
    "    'm':'Male',\n",
    "    'female': 'Female',\n",
    "    'f': 'Female',\n",
    "    'feamale': 'Female',\n",
    "    'female`': 'Female',\n",
    "    'femaLe':'Female',\n",
    "    'femae': 'Female',\n",
    "    'male ': 'Male'\n",
    "}"
   ]
  },
  {
   "cell_type": "code",
   "execution_count": 101,
   "id": "e91cea52-6e95-4896-a1cd-461df58922e9",
   "metadata": {},
   "outputs": [],
   "source": [
    "df['gender'] = df['gender'].str.lower().map(gender_mapping)"
   ]
  },
  {
   "cell_type": "code",
   "execution_count": null,
   "id": "1538dea0-eba2-4d34-a832-cdc0a2098e83",
   "metadata": {},
   "outputs": [],
   "source": []
  },
  {
   "cell_type": "code",
   "execution_count": 102,
   "id": "31943233",
   "metadata": {
    "id": "be91d1c0",
    "slideshow": {
     "slide_type": "fragment"
    }
   },
   "outputs": [],
   "source": [
    "df['HHH_Gender'] = df['gender']"
   ]
  },
  {
   "cell_type": "code",
   "execution_count": 103,
   "id": "76a44571-8707-416b-87f0-a8ab0417d7cc",
   "metadata": {
    "id": "be91d1c0",
    "slideshow": {
     "slide_type": "fragment"
    }
   },
   "outputs": [
    {
     "data": {
      "text/plain": [
       "HHH_Gender\n",
       "Male      69582\n",
       "Female    23102\n",
       "Name: count, dtype: int64"
      ]
     },
     "execution_count": 103,
     "metadata": {},
     "output_type": "execute_result"
    }
   ],
   "source": [
    "df['HHH_Gender'].value_counts(dropna=False)"
   ]
  },
  {
   "cell_type": "code",
   "execution_count": 104,
   "id": "2d96c07e",
   "metadata": {
    "id": "3ea6b1cd",
    "slideshow": {
     "slide_type": "fragment"
    }
   },
   "outputs": [],
   "source": [
    "df['HHheadGender'] = df.apply(\n",
    "    lambda row: 'Youth Headed' \n",
    "    if row['age'] <= 30 \n",
    "    else str(row['gender']) + ' Headed', axis=1\n",
    ")"
   ]
  },
  {
   "cell_type": "code",
   "execution_count": 105,
   "id": "2f8d71bb-b03b-482e-88fc-78ddce25e1db",
   "metadata": {},
   "outputs": [
    {
     "data": {
      "text/html": [
       "<div>\n",
       "<style scoped>\n",
       "    .dataframe tbody tr th:only-of-type {\n",
       "        vertical-align: middle;\n",
       "    }\n",
       "\n",
       "    .dataframe tbody tr th {\n",
       "        vertical-align: top;\n",
       "    }\n",
       "\n",
       "    .dataframe thead th {\n",
       "        text-align: right;\n",
       "    }\n",
       "</style>\n",
       "<table border=\"1\" class=\"dataframe\">\n",
       "  <thead>\n",
       "    <tr style=\"text-align: right;\">\n",
       "      <th></th>\n",
       "      <th>district</th>\n",
       "      <th>subcounty</th>\n",
       "      <th>Parish</th>\n",
       "      <th>village</th>\n",
       "      <th>hhh_name</th>\n",
       "      <th>age</th>\n",
       "      <th>Contact</th>\n",
       "      <th>gender</th>\n",
       "      <th>id</th>\n",
       "      <th>HHH_Gender</th>\n",
       "      <th>HHheadGender</th>\n",
       "    </tr>\n",
       "  </thead>\n",
       "  <tbody>\n",
       "    <tr>\n",
       "      <th>92679</th>\n",
       "      <td>Rukungiri</td>\n",
       "      <td>Bugangari</td>\n",
       "      <td>Kazindiro</td>\n",
       "      <td>Rwanyanja</td>\n",
       "      <td>Binaleta Kinabwine</td>\n",
       "      <td>65.0</td>\n",
       "      <td>NaN</td>\n",
       "      <td>Female</td>\n",
       "      <td>RUK-RWA-BIN-F-70054</td>\n",
       "      <td>Female</td>\n",
       "      <td>Female Headed</td>\n",
       "    </tr>\n",
       "    <tr>\n",
       "      <th>92680</th>\n",
       "      <td>Rukungiri</td>\n",
       "      <td>Bugangari</td>\n",
       "      <td>Kazindiro</td>\n",
       "      <td>Rwanyanja</td>\n",
       "      <td>Tumusiime Jovaile</td>\n",
       "      <td>67.0</td>\n",
       "      <td>NaN</td>\n",
       "      <td>Female</td>\n",
       "      <td>RUK-RWA-TUM-F-70055</td>\n",
       "      <td>Female</td>\n",
       "      <td>Female Headed</td>\n",
       "    </tr>\n",
       "    <tr>\n",
       "      <th>92681</th>\n",
       "      <td>Rukungiri</td>\n",
       "      <td>Bugangari</td>\n",
       "      <td>Kazindiro</td>\n",
       "      <td>Rwanyanja</td>\n",
       "      <td>Tumuhimbise Talasisio</td>\n",
       "      <td>49.0</td>\n",
       "      <td>NaN</td>\n",
       "      <td>Male</td>\n",
       "      <td>RUK-RWA-TUM-M-70056</td>\n",
       "      <td>Male</td>\n",
       "      <td>Male Headed</td>\n",
       "    </tr>\n",
       "    <tr>\n",
       "      <th>92682</th>\n",
       "      <td>Kyenjojo</td>\n",
       "      <td>Nyantungo</td>\n",
       "      <td>Mabaale</td>\n",
       "      <td>Nyarugongo</td>\n",
       "      <td>Akugizibwe Arikanjeru</td>\n",
       "      <td>NaN</td>\n",
       "      <td>772752000</td>\n",
       "      <td>Male</td>\n",
       "      <td>KYE-NYA-AKU-M-130701</td>\n",
       "      <td>Male</td>\n",
       "      <td>Male Headed</td>\n",
       "    </tr>\n",
       "    <tr>\n",
       "      <th>92683</th>\n",
       "      <td>Kyenjojo</td>\n",
       "      <td>Nyantungo</td>\n",
       "      <td>Mabaale</td>\n",
       "      <td>Nyarugongo</td>\n",
       "      <td>Brian Twesige</td>\n",
       "      <td>NaN</td>\n",
       "      <td>777078648</td>\n",
       "      <td>Male</td>\n",
       "      <td>KYE-NYA-BRI-M-135651</td>\n",
       "      <td>Male</td>\n",
       "      <td>Male Headed</td>\n",
       "    </tr>\n",
       "  </tbody>\n",
       "</table>\n",
       "</div>"
      ],
      "text/plain": [
       "        district   subcounty     Parish     village               hhh_name  \\\n",
       "92679  Rukungiri  Bugangari   Kazindiro   Rwanyanja     Binaleta Kinabwine   \n",
       "92680  Rukungiri  Bugangari   Kazindiro   Rwanyanja      Tumusiime Jovaile   \n",
       "92681  Rukungiri  Bugangari   Kazindiro   Rwanyanja  Tumuhimbise Talasisio   \n",
       "92682   Kyenjojo   Nyantungo    Mabaale  Nyarugongo  Akugizibwe Arikanjeru   \n",
       "92683   Kyenjojo   Nyantungo    Mabaale  Nyarugongo          Brian Twesige   \n",
       "\n",
       "        age    Contact  gender                    id HHH_Gender   HHheadGender  \n",
       "92679  65.0        NaN  Female   RUK-RWA-BIN-F-70054     Female  Female Headed  \n",
       "92680  67.0        NaN  Female   RUK-RWA-TUM-F-70055     Female  Female Headed  \n",
       "92681  49.0        NaN    Male   RUK-RWA-TUM-M-70056       Male    Male Headed  \n",
       "92682   NaN  772752000    Male  KYE-NYA-AKU-M-130701       Male    Male Headed  \n",
       "92683   NaN  777078648    Male  KYE-NYA-BRI-M-135651       Male    Male Headed  "
      ]
     },
     "execution_count": 105,
     "metadata": {},
     "output_type": "execute_result"
    }
   ],
   "source": [
    "df.tail()"
   ]
  },
  {
   "cell_type": "code",
   "execution_count": null,
   "id": "b7808c2c-a907-4c83-ac74-217c4dd8bb3c",
   "metadata": {},
   "outputs": [],
   "source": []
  },
  {
   "cell_type": "code",
   "execution_count": 106,
   "id": "0747407e-4ca7-4958-960b-f87530d7e73a",
   "metadata": {
    "id": "be91d1c0",
    "slideshow": {
     "slide_type": "fragment"
    }
   },
   "outputs": [
    {
     "data": {
      "text/plain": [
       "gender\n",
       "Male      69582\n",
       "Female    23102\n",
       "Name: count, dtype: int64"
      ]
     },
     "execution_count": 106,
     "metadata": {},
     "output_type": "execute_result"
    }
   ],
   "source": [
    "df['gender'].value_counts()"
   ]
  },
  {
   "cell_type": "markdown",
   "id": "9a113438",
   "metadata": {
    "slideshow": {
     "slide_type": "notes"
    }
   },
   "source": [
    "The code below does exactly what we have done above, but you realize it's more complex than the latter. You might not prefer this but its good to understand how functions work because sometimes they are the deal."
   ]
  },
  {
   "cell_type": "code",
   "execution_count": 107,
   "id": "b78f873c",
   "metadata": {
    "slideshow": {
     "slide_type": "fragment"
    }
   },
   "outputs": [],
   "source": [
    "# def add_age(df, gender, age):\n",
    "#     for index, row in df.iterrows():\n",
    "#         if row[age] <= 30:\n",
    "#             df.at[index, gender] = 'Youth Headed'\n",
    "#         else:\n",
    "#             df.at[index, gender] = str(row[variable]) + ' Headed'"
   ]
  },
  {
   "cell_type": "markdown",
   "id": "2f6f16b3",
   "metadata": {
    "slideshow": {
     "slide_type": "notes"
    }
   },
   "source": [
    "We can apply the function like this by passing in the parameters, I did both ways, but the first one is even faster than this."
   ]
  },
  {
   "cell_type": "code",
   "execution_count": 108,
   "id": "d240ea40",
   "metadata": {
    "slideshow": {
     "slide_type": "fragment"
    }
   },
   "outputs": [],
   "source": [
    "# add_age(df, 'Household_Head_Gender','Household_Head_Age')"
   ]
  },
  {
   "cell_type": "code",
   "execution_count": 109,
   "id": "e0bd4fef",
   "metadata": {
    "slideshow": {
     "slide_type": "slide"
    }
   },
   "outputs": [
    {
     "data": {
      "text/html": [
       "<div>\n",
       "<style scoped>\n",
       "    .dataframe tbody tr th:only-of-type {\n",
       "        vertical-align: middle;\n",
       "    }\n",
       "\n",
       "    .dataframe tbody tr th {\n",
       "        vertical-align: top;\n",
       "    }\n",
       "\n",
       "    .dataframe thead th {\n",
       "        text-align: right;\n",
       "    }\n",
       "</style>\n",
       "<table border=\"1\" class=\"dataframe\">\n",
       "  <thead>\n",
       "    <tr style=\"text-align: right;\">\n",
       "      <th></th>\n",
       "      <th>district</th>\n",
       "      <th>subcounty</th>\n",
       "      <th>Parish</th>\n",
       "      <th>village</th>\n",
       "      <th>hhh_name</th>\n",
       "      <th>age</th>\n",
       "      <th>Contact</th>\n",
       "      <th>gender</th>\n",
       "      <th>id</th>\n",
       "      <th>HHH_Gender</th>\n",
       "      <th>HHheadGender</th>\n",
       "    </tr>\n",
       "  </thead>\n",
       "  <tbody>\n",
       "    <tr>\n",
       "      <th>0</th>\n",
       "      <td>Kagadi</td>\n",
       "      <td>Kicucuuru</td>\n",
       "      <td>Kitooro</td>\n",
       "      <td>Kasozi_Kitooro</td>\n",
       "      <td>Akakwasa More</td>\n",
       "      <td>60.0</td>\n",
       "      <td>785534054</td>\n",
       "      <td>Female</td>\n",
       "      <td>KAG-KAS-AKA-F-075731</td>\n",
       "      <td>Female</td>\n",
       "      <td>Female Headed</td>\n",
       "    </tr>\n",
       "    <tr>\n",
       "      <th>1</th>\n",
       "      <td>Kagadi</td>\n",
       "      <td>Kicucuuru</td>\n",
       "      <td>Kitooro</td>\n",
       "      <td>Kasozi_Kitooro</td>\n",
       "      <td>Akoragye Peter</td>\n",
       "      <td>30.0</td>\n",
       "      <td>771069272</td>\n",
       "      <td>Male</td>\n",
       "      <td>KAG-KAS-AKO-M-095616</td>\n",
       "      <td>Male</td>\n",
       "      <td>Youth Headed</td>\n",
       "    </tr>\n",
       "    <tr>\n",
       "      <th>2</th>\n",
       "      <td>Kagadi</td>\n",
       "      <td>Kicucuuru</td>\n",
       "      <td>Kitooro</td>\n",
       "      <td>Kasozi_Kitooro</td>\n",
       "      <td>Aliganyira Nikorasi</td>\n",
       "      <td>26.0</td>\n",
       "      <td>784875889</td>\n",
       "      <td>Male</td>\n",
       "      <td>KAG-KAS-ALI-M-094647</td>\n",
       "      <td>Male</td>\n",
       "      <td>Youth Headed</td>\n",
       "    </tr>\n",
       "    <tr>\n",
       "      <th>3</th>\n",
       "      <td>Kagadi</td>\n",
       "      <td>Kicucuuru</td>\n",
       "      <td>Kitooro</td>\n",
       "      <td>Kasozi_Kitooro</td>\n",
       "      <td>Anet Kokundeka</td>\n",
       "      <td>36.0</td>\n",
       "      <td>755236985</td>\n",
       "      <td>Female</td>\n",
       "      <td>KAG-KAS-ANE-F-093637</td>\n",
       "      <td>Female</td>\n",
       "      <td>Female Headed</td>\n",
       "    </tr>\n",
       "    <tr>\n",
       "      <th>4</th>\n",
       "      <td>Kagadi</td>\n",
       "      <td>Kicucuuru</td>\n",
       "      <td>Kitooro</td>\n",
       "      <td>Kasozi_Kitooro</td>\n",
       "      <td>Ayinemani Nicorous</td>\n",
       "      <td>21.0</td>\n",
       "      <td>789236760</td>\n",
       "      <td>Male</td>\n",
       "      <td>KAG-KAS-AYI-M-114920</td>\n",
       "      <td>Male</td>\n",
       "      <td>Youth Headed</td>\n",
       "    </tr>\n",
       "  </tbody>\n",
       "</table>\n",
       "</div>"
      ],
      "text/plain": [
       "  district  subcounty   Parish         village             hhh_name   age  \\\n",
       "0   Kagadi  Kicucuuru  Kitooro  Kasozi_Kitooro        Akakwasa More  60.0   \n",
       "1   Kagadi  Kicucuuru  Kitooro  Kasozi_Kitooro       Akoragye Peter  30.0   \n",
       "2   Kagadi  Kicucuuru  Kitooro  Kasozi_Kitooro  Aliganyira Nikorasi  26.0   \n",
       "3   Kagadi  Kicucuuru  Kitooro  Kasozi_Kitooro       Anet Kokundeka  36.0   \n",
       "4   Kagadi  Kicucuuru  Kitooro  Kasozi_Kitooro   Ayinemani Nicorous  21.0   \n",
       "\n",
       "     Contact  gender                    id HHH_Gender   HHheadGender  \n",
       "0  785534054  Female  KAG-KAS-AKA-F-075731     Female  Female Headed  \n",
       "1  771069272    Male  KAG-KAS-AKO-M-095616       Male   Youth Headed  \n",
       "2  784875889    Male  KAG-KAS-ALI-M-094647       Male   Youth Headed  \n",
       "3  755236985  Female  KAG-KAS-ANE-F-093637     Female  Female Headed  \n",
       "4  789236760    Male  KAG-KAS-AYI-M-114920       Male   Youth Headed  "
      ]
     },
     "execution_count": 109,
     "metadata": {},
     "output_type": "execute_result"
    }
   ],
   "source": [
    "df.head()"
   ]
  },
  {
   "cell_type": "code",
   "execution_count": 110,
   "id": "6bd9d4e3",
   "metadata": {
    "slideshow": {
     "slide_type": "slide"
    }
   },
   "outputs": [],
   "source": [
    "df['Household_Head_Gender'] = df['HHheadGender']"
   ]
  },
  {
   "cell_type": "code",
   "execution_count": 112,
   "id": "fb265791-7a8f-4d79-9e72-9deaec626e77",
   "metadata": {},
   "outputs": [],
   "source": [
    "df.drop(columns=['gender','HHheadGender'], inplace=True)"
   ]
  },
  {
   "cell_type": "code",
   "execution_count": 113,
   "id": "7b5b5d9a-6a4d-487c-8fa2-61b06cc62d14",
   "metadata": {
    "slideshow": {
     "slide_type": "slide"
    }
   },
   "outputs": [
    {
     "data": {
      "text/plain": [
       "Household_Head_Gender\n",
       "Male Headed      49210\n",
       "Youth Headed     23756\n",
       "Female Headed    19718\n",
       "Name: count, dtype: int64"
      ]
     },
     "execution_count": 113,
     "metadata": {},
     "output_type": "execute_result"
    }
   ],
   "source": [
    "df['Household_Head_Gender'].value_counts()"
   ]
  },
  {
   "cell_type": "code",
   "execution_count": 114,
   "id": "c694da25",
   "metadata": {
    "id": "1d3bf62c",
    "slideshow": {
     "slide_type": "fragment"
    }
   },
   "outputs": [],
   "source": [
    "male_HH_samp_frame = df[df['Household_Head_Gender']=='Male Headed']\n",
    "female_HH_samp_frame = df[df['Household_Head_Gender']=='Female Headed']\n",
    "youth_HH_samp_frame = df[df['Household_Head_Gender']=='Youth Headed']"
   ]
  },
  {
   "cell_type": "code",
   "execution_count": 115,
   "id": "e706e142",
   "metadata": {
    "id": "4a3eb44f",
    "outputId": "35f6d981-43af-4cbe-b4a8-3c08b6b3bea5",
    "slideshow": {
     "slide_type": "fragment"
    }
   },
   "outputs": [
    {
     "data": {
      "text/plain": [
       "((49210, 10), (19718, 10), (23756, 10))"
      ]
     },
     "execution_count": 115,
     "metadata": {},
     "output_type": "execute_result"
    }
   ],
   "source": [
    "male_HH_samp_frame.shape, female_HH_samp_frame.shape, youth_HH_samp_frame.shape"
   ]
  },
  {
   "cell_type": "markdown",
   "id": "eda830d9",
   "metadata": {
    "id": "0176c5b5",
    "slideshow": {
     "slide_type": "slide"
    }
   },
   "source": [
    "## Male Headed"
   ]
  },
  {
   "cell_type": "code",
   "execution_count": 116,
   "id": "47d4e988",
   "metadata": {
    "id": "09ad1f5f",
    "outputId": "952886ac-1990-454b-aa24-2e0c0f8025e0",
    "slideshow": {
     "slide_type": "fragment"
    }
   },
   "outputs": [
    {
     "data": {
      "text/plain": [
       "49210"
      ]
     },
     "execution_count": 116,
     "metadata": {},
     "output_type": "execute_result"
    }
   ],
   "source": [
    "len(male_HH_samp_frame)"
   ]
  },
  {
   "cell_type": "code",
   "execution_count": 117,
   "id": "3d51d576",
   "metadata": {
    "id": "80e33997",
    "slideshow": {
     "slide_type": "fragment"
    }
   },
   "outputs": [
    {
     "data": {
      "text/plain": [
       "9"
      ]
     },
     "execution_count": 117,
     "metadata": {},
     "output_type": "execute_result"
    }
   ],
   "source": [
    "sample_size = 9\n",
    "sample_size"
   ]
  },
  {
   "cell_type": "code",
   "execution_count": 118,
   "id": "3da2fc32",
   "metadata": {
    "id": "9a82b082-bc13-450a-98ff-904b3b330e5e",
    "slideshow": {
     "slide_type": "slide"
    }
   },
   "outputs": [],
   "source": [
    "def custom_sample(x):\n",
    "    return x.sample(n=min(len(x), 9))"
   ]
  },
  {
   "cell_type": "markdown",
   "id": "173b8c5b",
   "metadata": {
    "slideshow": {
     "slide_type": "notes"
    }
   },
   "source": [
    "Apply just works as our old lambda function, whereby you can "
   ]
  },
  {
   "cell_type": "code",
   "execution_count": 119,
   "id": "b43502e9",
   "metadata": {
    "id": "c106d912-658c-4179-ab1d-41a5a2ccffd3",
    "slideshow": {
     "slide_type": "fragment"
    }
   },
   "outputs": [
    {
     "name": "stderr",
     "output_type": "stream",
     "text": [
      "/var/folders/xd/0btgr76j2zxc4__ynw0yhwbm0000gn/T/ipykernel_54360/2781854579.py:1: DeprecationWarning: DataFrameGroupBy.apply operated on the grouping columns. This behavior is deprecated, and in a future version of pandas the grouping columns will be excluded from the operation. Either pass `include_groups=False` to exclude the groupings or explicitly select the grouping columns after groupby to silence this warning.\n",
      "  male_target_sample = male_HH_samp_frame.groupby('village', group_keys=False).apply(custom_sample)\n"
     ]
    }
   ],
   "source": [
    "male_target_sample = male_HH_samp_frame.groupby('village', group_keys=False).apply(custom_sample)"
   ]
  },
  {
   "cell_type": "code",
   "execution_count": 120,
   "id": "1d6fcdbd",
   "metadata": {
    "id": "e3dd4d40",
    "outputId": "f22abf60-8a0c-4a11-f22c-0d8591d9ac56",
    "slideshow": {
     "slide_type": "fragment"
    }
   },
   "outputs": [
    {
     "data": {
      "text/plain": [
       "7068"
      ]
     },
     "execution_count": 120,
     "metadata": {},
     "output_type": "execute_result"
    }
   ],
   "source": [
    "len(male_target_sample)"
   ]
  },
  {
   "cell_type": "code",
   "execution_count": 121,
   "id": "ec8237b7-6188-4265-bbef-f6fad9476c8f",
   "metadata": {},
   "outputs": [
    {
     "data": {
      "text/html": [
       "<div>\n",
       "<style scoped>\n",
       "    .dataframe tbody tr th:only-of-type {\n",
       "        vertical-align: middle;\n",
       "    }\n",
       "\n",
       "    .dataframe tbody tr th {\n",
       "        vertical-align: top;\n",
       "    }\n",
       "\n",
       "    .dataframe thead th {\n",
       "        text-align: right;\n",
       "    }\n",
       "</style>\n",
       "<table border=\"1\" class=\"dataframe\">\n",
       "  <thead>\n",
       "    <tr style=\"text-align: right;\">\n",
       "      <th></th>\n",
       "      <th>district</th>\n",
       "      <th>subcounty</th>\n",
       "      <th>Parish</th>\n",
       "      <th>village</th>\n",
       "      <th>hhh_name</th>\n",
       "      <th>age</th>\n",
       "      <th>Contact</th>\n",
       "      <th>id</th>\n",
       "      <th>HHH_Gender</th>\n",
       "      <th>Household_Head_Gender</th>\n",
       "    </tr>\n",
       "  </thead>\n",
       "  <tbody>\n",
       "    <tr>\n",
       "      <th>7</th>\n",
       "      <td>Kagadi</td>\n",
       "      <td>Kicucuuru</td>\n",
       "      <td>Kitooro</td>\n",
       "      <td>Kasozi_Kitooro</td>\n",
       "      <td>Banyezaki Edward</td>\n",
       "      <td>40.0</td>\n",
       "      <td>781428092</td>\n",
       "      <td>KAG-KAS-BAN-M-124157</td>\n",
       "      <td>Male</td>\n",
       "      <td>Male Headed</td>\n",
       "    </tr>\n",
       "    <tr>\n",
       "      <th>9</th>\n",
       "      <td>Kagadi</td>\n",
       "      <td>Kicucuuru</td>\n",
       "      <td>Kitooro</td>\n",
       "      <td>Kasozi_Kitooro</td>\n",
       "      <td>Buregyeya Sitivin</td>\n",
       "      <td>47.0</td>\n",
       "      <td>782604221</td>\n",
       "      <td>KAG-KAS-BUR-M-103304</td>\n",
       "      <td>Male</td>\n",
       "      <td>Male Headed</td>\n",
       "    </tr>\n",
       "    <tr>\n",
       "      <th>10</th>\n",
       "      <td>Kagadi</td>\n",
       "      <td>Kicucuuru</td>\n",
       "      <td>Kitooro</td>\n",
       "      <td>Kasozi_Kitooro</td>\n",
       "      <td>Byamukama Patrica</td>\n",
       "      <td>40.0</td>\n",
       "      <td>762877363</td>\n",
       "      <td>KAG-KAS-BYA-M-110619</td>\n",
       "      <td>Male</td>\n",
       "      <td>Male Headed</td>\n",
       "    </tr>\n",
       "    <tr>\n",
       "      <th>11</th>\n",
       "      <td>Kagadi</td>\n",
       "      <td>Kicucuuru</td>\n",
       "      <td>Kitooro</td>\n",
       "      <td>Kasozi_Kitooro</td>\n",
       "      <td>Byaruhanga Abeli</td>\n",
       "      <td>40.0</td>\n",
       "      <td>783809996</td>\n",
       "      <td>KAG-KAS-BYA-M-111938</td>\n",
       "      <td>Male</td>\n",
       "      <td>Male Headed</td>\n",
       "    </tr>\n",
       "    <tr>\n",
       "      <th>12</th>\n",
       "      <td>Kagadi</td>\n",
       "      <td>Kicucuuru</td>\n",
       "      <td>Kitooro</td>\n",
       "      <td>Kasozi_Kitooro</td>\n",
       "      <td>Byamukama Keneth</td>\n",
       "      <td>47.0</td>\n",
       "      <td>771393683</td>\n",
       "      <td>KAG-KAS-BYA-M-115556</td>\n",
       "      <td>Male</td>\n",
       "      <td>Male Headed</td>\n",
       "    </tr>\n",
       "    <tr>\n",
       "      <th>...</th>\n",
       "      <td>...</td>\n",
       "      <td>...</td>\n",
       "      <td>...</td>\n",
       "      <td>...</td>\n",
       "      <td>...</td>\n",
       "      <td>...</td>\n",
       "      <td>...</td>\n",
       "      <td>...</td>\n",
       "      <td>...</td>\n",
       "      <td>...</td>\n",
       "    </tr>\n",
       "    <tr>\n",
       "      <th>92662</th>\n",
       "      <td>Rukungiri</td>\n",
       "      <td>Bugangari</td>\n",
       "      <td>Kazindiro</td>\n",
       "      <td>Kabyooya</td>\n",
       "      <td>Ensinikweli Benon</td>\n",
       "      <td>48.0</td>\n",
       "      <td>NaN</td>\n",
       "      <td>RUK-KAB-ENS-M-70037</td>\n",
       "      <td>Male</td>\n",
       "      <td>Male Headed</td>\n",
       "    </tr>\n",
       "    <tr>\n",
       "      <th>92678</th>\n",
       "      <td>Rukungiri</td>\n",
       "      <td>Bugangari</td>\n",
       "      <td>Kazindiro</td>\n",
       "      <td>Rwanyanja</td>\n",
       "      <td>Bilama Charles</td>\n",
       "      <td>50.0</td>\n",
       "      <td>NaN</td>\n",
       "      <td>RUK-RWA-BIL-M-70053</td>\n",
       "      <td>Male</td>\n",
       "      <td>Male Headed</td>\n",
       "    </tr>\n",
       "    <tr>\n",
       "      <th>92681</th>\n",
       "      <td>Rukungiri</td>\n",
       "      <td>Bugangari</td>\n",
       "      <td>Kazindiro</td>\n",
       "      <td>Rwanyanja</td>\n",
       "      <td>Tumuhimbise Talasisio</td>\n",
       "      <td>49.0</td>\n",
       "      <td>NaN</td>\n",
       "      <td>RUK-RWA-TUM-M-70056</td>\n",
       "      <td>Male</td>\n",
       "      <td>Male Headed</td>\n",
       "    </tr>\n",
       "    <tr>\n",
       "      <th>92682</th>\n",
       "      <td>Kyenjojo</td>\n",
       "      <td>Nyantungo</td>\n",
       "      <td>Mabaale</td>\n",
       "      <td>Nyarugongo</td>\n",
       "      <td>Akugizibwe Arikanjeru</td>\n",
       "      <td>NaN</td>\n",
       "      <td>772752000</td>\n",
       "      <td>KYE-NYA-AKU-M-130701</td>\n",
       "      <td>Male</td>\n",
       "      <td>Male Headed</td>\n",
       "    </tr>\n",
       "    <tr>\n",
       "      <th>92683</th>\n",
       "      <td>Kyenjojo</td>\n",
       "      <td>Nyantungo</td>\n",
       "      <td>Mabaale</td>\n",
       "      <td>Nyarugongo</td>\n",
       "      <td>Brian Twesige</td>\n",
       "      <td>NaN</td>\n",
       "      <td>777078648</td>\n",
       "      <td>KYE-NYA-BRI-M-135651</td>\n",
       "      <td>Male</td>\n",
       "      <td>Male Headed</td>\n",
       "    </tr>\n",
       "  </tbody>\n",
       "</table>\n",
       "<p>49210 rows × 10 columns</p>\n",
       "</div>"
      ],
      "text/plain": [
       "        district   subcounty     Parish         village  \\\n",
       "7         Kagadi   Kicucuuru    Kitooro  Kasozi_Kitooro   \n",
       "9         Kagadi   Kicucuuru    Kitooro  Kasozi_Kitooro   \n",
       "10        Kagadi   Kicucuuru    Kitooro  Kasozi_Kitooro   \n",
       "11        Kagadi   Kicucuuru    Kitooro  Kasozi_Kitooro   \n",
       "12        Kagadi   Kicucuuru    Kitooro  Kasozi_Kitooro   \n",
       "...          ...         ...        ...             ...   \n",
       "92662  Rukungiri  Bugangari   Kazindiro        Kabyooya   \n",
       "92678  Rukungiri  Bugangari   Kazindiro       Rwanyanja   \n",
       "92681  Rukungiri  Bugangari   Kazindiro       Rwanyanja   \n",
       "92682   Kyenjojo   Nyantungo    Mabaale      Nyarugongo   \n",
       "92683   Kyenjojo   Nyantungo    Mabaale      Nyarugongo   \n",
       "\n",
       "                    hhh_name   age    Contact                    id  \\\n",
       "7           Banyezaki Edward  40.0  781428092  KAG-KAS-BAN-M-124157   \n",
       "9          Buregyeya Sitivin  47.0  782604221  KAG-KAS-BUR-M-103304   \n",
       "10         Byamukama Patrica  40.0  762877363  KAG-KAS-BYA-M-110619   \n",
       "11          Byaruhanga Abeli  40.0  783809996  KAG-KAS-BYA-M-111938   \n",
       "12          Byamukama Keneth  47.0  771393683  KAG-KAS-BYA-M-115556   \n",
       "...                      ...   ...        ...                   ...   \n",
       "92662      Ensinikweli Benon  48.0        NaN   RUK-KAB-ENS-M-70037   \n",
       "92678         Bilama Charles  50.0        NaN   RUK-RWA-BIL-M-70053   \n",
       "92681  Tumuhimbise Talasisio  49.0        NaN   RUK-RWA-TUM-M-70056   \n",
       "92682  Akugizibwe Arikanjeru   NaN  772752000  KYE-NYA-AKU-M-130701   \n",
       "92683          Brian Twesige   NaN  777078648  KYE-NYA-BRI-M-135651   \n",
       "\n",
       "      HHH_Gender Household_Head_Gender  \n",
       "7           Male           Male Headed  \n",
       "9           Male           Male Headed  \n",
       "10          Male           Male Headed  \n",
       "11          Male           Male Headed  \n",
       "12          Male           Male Headed  \n",
       "...          ...                   ...  \n",
       "92662       Male           Male Headed  \n",
       "92678       Male           Male Headed  \n",
       "92681       Male           Male Headed  \n",
       "92682       Male           Male Headed  \n",
       "92683       Male           Male Headed  \n",
       "\n",
       "[49210 rows x 10 columns]"
      ]
     },
     "execution_count": 121,
     "metadata": {},
     "output_type": "execute_result"
    }
   ],
   "source": [
    "male_HH_samp_frame"
   ]
  },
  {
   "cell_type": "markdown",
   "id": "8bce7f95",
   "metadata": {
    "slideshow": {
     "slide_type": "slide"
    }
   },
   "source": [
    "We can generate a new column and assign a value target"
   ]
  },
  {
   "cell_type": "code",
   "execution_count": 129,
   "id": "631d9c02",
   "metadata": {
    "id": "50f5ae21",
    "slideshow": {
     "slide_type": "fragment"
    }
   },
   "outputs": [],
   "source": [
    "male_target_sample['status'] = 'target'"
   ]
  },
  {
   "cell_type": "code",
   "execution_count": 130,
   "id": "3a01bb12-18ae-49a1-91d0-8a4fb2beae46",
   "metadata": {},
   "outputs": [
    {
     "data": {
      "text/html": [
       "<div>\n",
       "<style scoped>\n",
       "    .dataframe tbody tr th:only-of-type {\n",
       "        vertical-align: middle;\n",
       "    }\n",
       "\n",
       "    .dataframe tbody tr th {\n",
       "        vertical-align: top;\n",
       "    }\n",
       "\n",
       "    .dataframe thead th {\n",
       "        text-align: right;\n",
       "    }\n",
       "</style>\n",
       "<table border=\"1\" class=\"dataframe\">\n",
       "  <thead>\n",
       "    <tr style=\"text-align: right;\">\n",
       "      <th></th>\n",
       "      <th>district</th>\n",
       "      <th>subcounty</th>\n",
       "      <th>Parish</th>\n",
       "      <th>village</th>\n",
       "      <th>hhh_name</th>\n",
       "      <th>age</th>\n",
       "      <th>Contact</th>\n",
       "      <th>id</th>\n",
       "      <th>HHH_Gender</th>\n",
       "      <th>Household_Head_Gender</th>\n",
       "      <th>status</th>\n",
       "    </tr>\n",
       "  </thead>\n",
       "  <tbody>\n",
       "    <tr>\n",
       "      <th>13196</th>\n",
       "      <td>Kiryandongo</td>\n",
       "      <td>Mboira</td>\n",
       "      <td>Apodorwa</td>\n",
       "      <td>Abira</td>\n",
       "      <td>Emanuel Angolere</td>\n",
       "      <td>37.0</td>\n",
       "      <td>777040094</td>\n",
       "      <td>KIR-ABI-EMA-M-150149</td>\n",
       "      <td>Male</td>\n",
       "      <td>Male Headed</td>\n",
       "      <td>target</td>\n",
       "    </tr>\n",
       "    <tr>\n",
       "      <th>13309</th>\n",
       "      <td>Kiryandongo</td>\n",
       "      <td>Mboira</td>\n",
       "      <td>Apodorwa</td>\n",
       "      <td>Abira</td>\n",
       "      <td>Sam Tezicha</td>\n",
       "      <td>32.0</td>\n",
       "      <td>789620497</td>\n",
       "      <td>KIR-ABI-SAM-M-153955</td>\n",
       "      <td>Male</td>\n",
       "      <td>Male Headed</td>\n",
       "      <td>target</td>\n",
       "    </tr>\n",
       "    <tr>\n",
       "      <th>13239</th>\n",
       "      <td>Kiryandongo</td>\n",
       "      <td>Mboira</td>\n",
       "      <td>Apodorwa</td>\n",
       "      <td>Abira</td>\n",
       "      <td>Jimmy Opar</td>\n",
       "      <td>60.0</td>\n",
       "      <td>99</td>\n",
       "      <td>KIR-ABI-JIM-M-121714</td>\n",
       "      <td>Male</td>\n",
       "      <td>Male Headed</td>\n",
       "      <td>target</td>\n",
       "    </tr>\n",
       "    <tr>\n",
       "      <th>13293</th>\n",
       "      <td>Kiryandongo</td>\n",
       "      <td>Mboira</td>\n",
       "      <td>Apodorwa</td>\n",
       "      <td>Abira</td>\n",
       "      <td>Richard Okuni</td>\n",
       "      <td>45.0</td>\n",
       "      <td>779898157</td>\n",
       "      <td>KIR-ABI-RIC-M-095042</td>\n",
       "      <td>Male</td>\n",
       "      <td>Male Headed</td>\n",
       "      <td>target</td>\n",
       "    </tr>\n",
       "    <tr>\n",
       "      <th>13221</th>\n",
       "      <td>Kiryandongo</td>\n",
       "      <td>Mboira</td>\n",
       "      <td>Apodorwa</td>\n",
       "      <td>Abira</td>\n",
       "      <td>Ismail Anichan</td>\n",
       "      <td>32.0</td>\n",
       "      <td>99</td>\n",
       "      <td>KIR-ABI-ISM-M-164202</td>\n",
       "      <td>Male</td>\n",
       "      <td>Male Headed</td>\n",
       "      <td>target</td>\n",
       "    </tr>\n",
       "    <tr>\n",
       "      <th>...</th>\n",
       "      <td>...</td>\n",
       "      <td>...</td>\n",
       "      <td>...</td>\n",
       "      <td>...</td>\n",
       "      <td>...</td>\n",
       "      <td>...</td>\n",
       "      <td>...</td>\n",
       "      <td>...</td>\n",
       "      <td>...</td>\n",
       "      <td>...</td>\n",
       "      <td>...</td>\n",
       "    </tr>\n",
       "    <tr>\n",
       "      <th>68223</th>\n",
       "      <td>Kibaale</td>\n",
       "      <td>Kyebando</td>\n",
       "      <td>Kirasa</td>\n",
       "      <td>Watuna</td>\n",
       "      <td>Emmanuel Mayanja</td>\n",
       "      <td>38.0</td>\n",
       "      <td>NaN</td>\n",
       "      <td>KIB-WAT-EMM-M-073141</td>\n",
       "      <td>Male</td>\n",
       "      <td>Male Headed</td>\n",
       "      <td>target</td>\n",
       "    </tr>\n",
       "    <tr>\n",
       "      <th>68246</th>\n",
       "      <td>Kibaale</td>\n",
       "      <td>Kyebando</td>\n",
       "      <td>Kirasa</td>\n",
       "      <td>Watuna</td>\n",
       "      <td>Jurias Rukundo</td>\n",
       "      <td>42.0</td>\n",
       "      <td>NaN</td>\n",
       "      <td>KIB-WAT-JUR-M-095434</td>\n",
       "      <td>Male</td>\n",
       "      <td>Male Headed</td>\n",
       "      <td>target</td>\n",
       "    </tr>\n",
       "    <tr>\n",
       "      <th>68241</th>\n",
       "      <td>Kibaale</td>\n",
       "      <td>Kyebando</td>\n",
       "      <td>Kirasa</td>\n",
       "      <td>Watuna</td>\n",
       "      <td>Jackson Twesige</td>\n",
       "      <td>37.0</td>\n",
       "      <td>NaN</td>\n",
       "      <td>KIB-WAT-JAC-M-093006</td>\n",
       "      <td>Male</td>\n",
       "      <td>Male Headed</td>\n",
       "      <td>target</td>\n",
       "    </tr>\n",
       "    <tr>\n",
       "      <th>68264</th>\n",
       "      <td>Kibaale</td>\n",
       "      <td>Kyebando</td>\n",
       "      <td>Kirasa</td>\n",
       "      <td>Watuna</td>\n",
       "      <td>Deogratius Birungi</td>\n",
       "      <td>32.0</td>\n",
       "      <td>NaN</td>\n",
       "      <td>KIB-WAT-DEO-M-115622</td>\n",
       "      <td>Male</td>\n",
       "      <td>Male Headed</td>\n",
       "      <td>target</td>\n",
       "    </tr>\n",
       "    <tr>\n",
       "      <th>68253</th>\n",
       "      <td>Kibaale</td>\n",
       "      <td>Kyebando</td>\n",
       "      <td>Kirasa</td>\n",
       "      <td>Watuna</td>\n",
       "      <td>Jackson Musinguzi</td>\n",
       "      <td>35.0</td>\n",
       "      <td>NaN</td>\n",
       "      <td>KIB-WAT-JAC-M-103650</td>\n",
       "      <td>Male</td>\n",
       "      <td>Male Headed</td>\n",
       "      <td>target</td>\n",
       "    </tr>\n",
       "  </tbody>\n",
       "</table>\n",
       "<p>7068 rows × 11 columns</p>\n",
       "</div>"
      ],
      "text/plain": [
       "          district subcounty    Parish village            hhh_name   age  \\\n",
       "13196  Kiryandongo    Mboira  Apodorwa   Abira    Emanuel Angolere  37.0   \n",
       "13309  Kiryandongo    Mboira  Apodorwa   Abira         Sam Tezicha  32.0   \n",
       "13239  Kiryandongo    Mboira  Apodorwa   Abira          Jimmy Opar  60.0   \n",
       "13293  Kiryandongo    Mboira  Apodorwa   Abira       Richard Okuni  45.0   \n",
       "13221  Kiryandongo    Mboira  Apodorwa   Abira      Ismail Anichan  32.0   \n",
       "...            ...       ...       ...     ...                 ...   ...   \n",
       "68223      Kibaale  Kyebando    Kirasa  Watuna    Emmanuel Mayanja  38.0   \n",
       "68246      Kibaale  Kyebando    Kirasa  Watuna      Jurias Rukundo  42.0   \n",
       "68241      Kibaale  Kyebando    Kirasa  Watuna     Jackson Twesige  37.0   \n",
       "68264      Kibaale  Kyebando    Kirasa  Watuna  Deogratius Birungi  32.0   \n",
       "68253      Kibaale  Kyebando    Kirasa  Watuna   Jackson Musinguzi  35.0   \n",
       "\n",
       "         Contact                    id HHH_Gender Household_Head_Gender  \\\n",
       "13196  777040094  KIR-ABI-EMA-M-150149       Male           Male Headed   \n",
       "13309  789620497  KIR-ABI-SAM-M-153955       Male           Male Headed   \n",
       "13239         99  KIR-ABI-JIM-M-121714       Male           Male Headed   \n",
       "13293  779898157  KIR-ABI-RIC-M-095042       Male           Male Headed   \n",
       "13221         99  KIR-ABI-ISM-M-164202       Male           Male Headed   \n",
       "...          ...                   ...        ...                   ...   \n",
       "68223        NaN  KIB-WAT-EMM-M-073141       Male           Male Headed   \n",
       "68246        NaN  KIB-WAT-JUR-M-095434       Male           Male Headed   \n",
       "68241        NaN  KIB-WAT-JAC-M-093006       Male           Male Headed   \n",
       "68264        NaN  KIB-WAT-DEO-M-115622       Male           Male Headed   \n",
       "68253        NaN  KIB-WAT-JAC-M-103650       Male           Male Headed   \n",
       "\n",
       "       status  \n",
       "13196  target  \n",
       "13309  target  \n",
       "13239  target  \n",
       "13293  target  \n",
       "13221  target  \n",
       "...       ...  \n",
       "68223  target  \n",
       "68246  target  \n",
       "68241  target  \n",
       "68264  target  \n",
       "68253  target  \n",
       "\n",
       "[7068 rows x 11 columns]"
      ]
     },
     "execution_count": 130,
     "metadata": {},
     "output_type": "execute_result"
    }
   ],
   "source": [
    "male_target_sample"
   ]
  },
  {
   "cell_type": "markdown",
   "id": "c51d1bb8",
   "metadata": {
    "id": "4b6293ee",
    "slideshow": {
     "slide_type": "slide"
    }
   },
   "source": [
    "## Reserve frame"
   ]
  },
  {
   "cell_type": "markdown",
   "id": "7aede73a",
   "metadata": {
    "slideshow": {
     "slide_type": "notes"
    }
   },
   "source": [
    "we can drop the targets since we've already assigned them using the index"
   ]
  },
  {
   "cell_type": "code",
   "execution_count": 131,
   "id": "d9514ed8",
   "metadata": {
    "id": "2afb4fd5",
    "slideshow": {
     "slide_type": "fragment"
    }
   },
   "outputs": [],
   "source": [
    "male_reserve_s_frame = male_HH_samp_frame.drop(index = male_target_sample.index)"
   ]
  },
  {
   "cell_type": "code",
   "execution_count": 132,
   "id": "899bd283",
   "metadata": {
    "id": "d3ed3ca4",
    "slideshow": {
     "slide_type": "skip"
    }
   },
   "outputs": [],
   "source": [
    "# male_reserve_s_frame.to_excel('mit/male_reserve_s_frame.xlsx', index=False)"
   ]
  },
  {
   "cell_type": "code",
   "execution_count": 133,
   "id": "1466854e",
   "metadata": {
    "id": "d5caae2a-9eb3-4cdc-aed8-07ca47334f8b",
    "slideshow": {
     "slide_type": "fragment"
    }
   },
   "outputs": [
    {
     "name": "stderr",
     "output_type": "stream",
     "text": [
      "/var/folders/xd/0btgr76j2zxc4__ynw0yhwbm0000gn/T/ipykernel_54360/2138712636.py:1: DeprecationWarning: DataFrameGroupBy.apply operated on the grouping columns. This behavior is deprecated, and in a future version of pandas the grouping columns will be excluded from the operation. Either pass `include_groups=False` to exclude the groupings or explicitly select the grouping columns after groupby to silence this warning.\n",
      "  male_reserve_sample = male_reserve_s_frame.groupby('village', group_keys=False).apply(lambda x: x.sample(n=min(len(x), 4)))\n"
     ]
    }
   ],
   "source": [
    "male_reserve_sample = male_reserve_s_frame.groupby('village', group_keys=False).apply(lambda x: x.sample(n=min(len(x), 4)))"
   ]
  },
  {
   "cell_type": "code",
   "execution_count": 134,
   "id": "d8ffdbd1",
   "metadata": {
    "id": "ccfd39b7",
    "outputId": "62395bf4-395a-4e3d-9b51-0b2e82c534f8",
    "slideshow": {
     "slide_type": "fragment"
    }
   },
   "outputs": [
    {
     "data": {
      "text/html": [
       "<div>\n",
       "<style scoped>\n",
       "    .dataframe tbody tr th:only-of-type {\n",
       "        vertical-align: middle;\n",
       "    }\n",
       "\n",
       "    .dataframe tbody tr th {\n",
       "        vertical-align: top;\n",
       "    }\n",
       "\n",
       "    .dataframe thead th {\n",
       "        text-align: right;\n",
       "    }\n",
       "</style>\n",
       "<table border=\"1\" class=\"dataframe\">\n",
       "  <thead>\n",
       "    <tr style=\"text-align: right;\">\n",
       "      <th></th>\n",
       "      <th>district</th>\n",
       "      <th>subcounty</th>\n",
       "      <th>Parish</th>\n",
       "      <th>village</th>\n",
       "      <th>hhh_name</th>\n",
       "      <th>age</th>\n",
       "      <th>Contact</th>\n",
       "      <th>id</th>\n",
       "      <th>HHH_Gender</th>\n",
       "      <th>Household_Head_Gender</th>\n",
       "      <th>status</th>\n",
       "    </tr>\n",
       "  </thead>\n",
       "  <tbody>\n",
       "    <tr>\n",
       "      <th>13298</th>\n",
       "      <td>Kiryandongo</td>\n",
       "      <td>Mboira</td>\n",
       "      <td>Apodorwa</td>\n",
       "      <td>Abira</td>\n",
       "      <td>Richard Susu</td>\n",
       "      <td>40.0</td>\n",
       "      <td>99</td>\n",
       "      <td>KIR-ABI-RIC-M-170721</td>\n",
       "      <td>Male</td>\n",
       "      <td>Male Headed</td>\n",
       "      <td>reserve</td>\n",
       "    </tr>\n",
       "    <tr>\n",
       "      <th>13224</th>\n",
       "      <td>Kiryandongo</td>\n",
       "      <td>Mboira</td>\n",
       "      <td>Apodorwa</td>\n",
       "      <td>Abira</td>\n",
       "      <td>James Nyendwoha</td>\n",
       "      <td>52.0</td>\n",
       "      <td>772453069</td>\n",
       "      <td>KIR-ABI-JAM-M-101355</td>\n",
       "      <td>Male</td>\n",
       "      <td>Male Headed</td>\n",
       "      <td>reserve</td>\n",
       "    </tr>\n",
       "    <tr>\n",
       "      <th>13257</th>\n",
       "      <td>Kiryandongo</td>\n",
       "      <td>Mboira</td>\n",
       "      <td>Apodorwa</td>\n",
       "      <td>Abira</td>\n",
       "      <td>Kamilo Oketkidi</td>\n",
       "      <td>49.0</td>\n",
       "      <td>99</td>\n",
       "      <td>KIR-ABI-KAM-M-154521</td>\n",
       "      <td>Male</td>\n",
       "      <td>Male Headed</td>\n",
       "      <td>reserve</td>\n",
       "    </tr>\n",
       "    <tr>\n",
       "      <th>13176</th>\n",
       "      <td>Kiryandongo</td>\n",
       "      <td>Mboira</td>\n",
       "      <td>Apodorwa</td>\n",
       "      <td>Abira</td>\n",
       "      <td>Ciwel Odaga</td>\n",
       "      <td>58.0</td>\n",
       "      <td>99</td>\n",
       "      <td>KIR-ABI-CIW-M-123956</td>\n",
       "      <td>Male</td>\n",
       "      <td>Male Headed</td>\n",
       "      <td>reserve</td>\n",
       "    </tr>\n",
       "    <tr>\n",
       "      <th>90141</th>\n",
       "      <td>Rukiga</td>\n",
       "      <td>Rwamucucu</td>\n",
       "      <td>Burime</td>\n",
       "      <td>Ahamunyinya</td>\n",
       "      <td>Denis Karuhanga</td>\n",
       "      <td>37.0</td>\n",
       "      <td>99</td>\n",
       "      <td>RUK-AHA-DEN-M-184711</td>\n",
       "      <td>Male</td>\n",
       "      <td>Male Headed</td>\n",
       "      <td>reserve</td>\n",
       "    </tr>\n",
       "  </tbody>\n",
       "</table>\n",
       "</div>"
      ],
      "text/plain": [
       "          district  subcounty    Parish      village         hhh_name   age  \\\n",
       "13298  Kiryandongo     Mboira  Apodorwa        Abira     Richard Susu  40.0   \n",
       "13224  Kiryandongo     Mboira  Apodorwa        Abira  James Nyendwoha  52.0   \n",
       "13257  Kiryandongo     Mboira  Apodorwa        Abira  Kamilo Oketkidi  49.0   \n",
       "13176  Kiryandongo     Mboira  Apodorwa        Abira      Ciwel Odaga  58.0   \n",
       "90141       Rukiga  Rwamucucu    Burime  Ahamunyinya  Denis Karuhanga  37.0   \n",
       "\n",
       "         Contact                    id HHH_Gender Household_Head_Gender  \\\n",
       "13298         99  KIR-ABI-RIC-M-170721       Male           Male Headed   \n",
       "13224  772453069  KIR-ABI-JAM-M-101355       Male           Male Headed   \n",
       "13257         99  KIR-ABI-KAM-M-154521       Male           Male Headed   \n",
       "13176         99  KIR-ABI-CIW-M-123956       Male           Male Headed   \n",
       "90141         99  RUK-AHA-DEN-M-184711       Male           Male Headed   \n",
       "\n",
       "        status  \n",
       "13298  reserve  \n",
       "13224  reserve  \n",
       "13257  reserve  \n",
       "13176  reserve  \n",
       "90141  reserve  "
      ]
     },
     "execution_count": 134,
     "metadata": {},
     "output_type": "execute_result"
    }
   ],
   "source": [
    "male_reserve_sample['status'] = 'reserve'\n",
    "male_reserve_sample.head()"
   ]
  },
  {
   "cell_type": "code",
   "execution_count": 135,
   "id": "dad53481",
   "metadata": {
    "id": "ed57a534",
    "slideshow": {
     "slide_type": "skip"
    }
   },
   "outputs": [],
   "source": [
    "# male_reserve_sample.to_excel('mit/male_reserve_sample.xlsx', index=False)"
   ]
  },
  {
   "cell_type": "markdown",
   "id": "8c42e29d",
   "metadata": {
    "slideshow": {
     "slide_type": "skip"
    }
   },
   "source": [
    "Let's combine the targets and reserves to come up with a complete sample for males"
   ]
  },
  {
   "cell_type": "markdown",
   "id": "86801475",
   "metadata": {
    "id": "c210c150",
    "slideshow": {
     "slide_type": "slide"
    }
   },
   "source": [
    "# Male Household Sample [Combining the Target and Reserve]"
   ]
  },
  {
   "cell_type": "code",
   "execution_count": 136,
   "id": "d304b5d2",
   "metadata": {
    "id": "d33254ad",
    "outputId": "34a62b6c-3cca-4cd9-8b9b-46a67d18dba9",
    "slideshow": {
     "slide_type": "fragment"
    }
   },
   "outputs": [
    {
     "data": {
      "text/plain": [
       "((7068, 11), (3139, 11))"
      ]
     },
     "execution_count": 136,
     "metadata": {},
     "output_type": "execute_result"
    }
   ],
   "source": [
    "male_target_sample.shape, male_reserve_sample.shape"
   ]
  },
  {
   "cell_type": "code",
   "execution_count": 137,
   "id": "81444f31",
   "metadata": {
    "id": "6c290995",
    "slideshow": {
     "slide_type": "fragment"
    }
   },
   "outputs": [],
   "source": [
    "MALE_HH_SAMPLE = pd.concat([male_target_sample, male_reserve_sample])"
   ]
  },
  {
   "cell_type": "markdown",
   "id": "057db640",
   "metadata": {
    "id": "3e0ac3ed",
    "slideshow": {
     "slide_type": "slide"
    }
   },
   "source": [
    "# FEMALE  Headed"
   ]
  },
  {
   "cell_type": "code",
   "execution_count": 138,
   "id": "bd11090e",
   "metadata": {
    "id": "bb4e1a37",
    "outputId": "11deb01b-6d98-4bcd-fffb-ec25afa9b038",
    "slideshow": {
     "slide_type": "fragment"
    }
   },
   "outputs": [
    {
     "data": {
      "text/plain": [
       "19718"
      ]
     },
     "execution_count": 138,
     "metadata": {},
     "output_type": "execute_result"
    }
   ],
   "source": [
    "len(female_HH_samp_frame)"
   ]
  },
  {
   "cell_type": "code",
   "execution_count": 139,
   "id": "e74bad6d",
   "metadata": {
    "id": "72cbb9f3",
    "outputId": "236a87ad-0547-4188-c7ff-bec7fc6c9f2c",
    "slideshow": {
     "slide_type": "skip"
    }
   },
   "outputs": [
    {
     "data": {
      "text/html": [
       "<div>\n",
       "<style scoped>\n",
       "    .dataframe tbody tr th:only-of-type {\n",
       "        vertical-align: middle;\n",
       "    }\n",
       "\n",
       "    .dataframe tbody tr th {\n",
       "        vertical-align: top;\n",
       "    }\n",
       "\n",
       "    .dataframe thead th {\n",
       "        text-align: right;\n",
       "    }\n",
       "</style>\n",
       "<table border=\"1\" class=\"dataframe\">\n",
       "  <thead>\n",
       "    <tr style=\"text-align: right;\">\n",
       "      <th></th>\n",
       "      <th>district</th>\n",
       "      <th>subcounty</th>\n",
       "      <th>Parish</th>\n",
       "      <th>village</th>\n",
       "      <th>hhh_name</th>\n",
       "      <th>age</th>\n",
       "      <th>Contact</th>\n",
       "      <th>id</th>\n",
       "      <th>HHH_Gender</th>\n",
       "      <th>Household_Head_Gender</th>\n",
       "    </tr>\n",
       "  </thead>\n",
       "  <tbody>\n",
       "    <tr>\n",
       "      <th>0</th>\n",
       "      <td>Kagadi</td>\n",
       "      <td>Kicucuuru</td>\n",
       "      <td>Kitooro</td>\n",
       "      <td>Kasozi_Kitooro</td>\n",
       "      <td>Akakwasa More</td>\n",
       "      <td>60.0</td>\n",
       "      <td>785534054</td>\n",
       "      <td>KAG-KAS-AKA-F-075731</td>\n",
       "      <td>Female</td>\n",
       "      <td>Female Headed</td>\n",
       "    </tr>\n",
       "    <tr>\n",
       "      <th>3</th>\n",
       "      <td>Kagadi</td>\n",
       "      <td>Kicucuuru</td>\n",
       "      <td>Kitooro</td>\n",
       "      <td>Kasozi_Kitooro</td>\n",
       "      <td>Anet Kokundeka</td>\n",
       "      <td>36.0</td>\n",
       "      <td>755236985</td>\n",
       "      <td>KAG-KAS-ANE-F-093637</td>\n",
       "      <td>Female</td>\n",
       "      <td>Female Headed</td>\n",
       "    </tr>\n",
       "    <tr>\n",
       "      <th>14</th>\n",
       "      <td>Kagadi</td>\n",
       "      <td>Kicucuuru</td>\n",
       "      <td>Kitooro</td>\n",
       "      <td>Kasozi_Kitooro</td>\n",
       "      <td>Ester Nyirambuga</td>\n",
       "      <td>60.0</td>\n",
       "      <td>788356416</td>\n",
       "      <td>KAG-KAS-EST-F-083414</td>\n",
       "      <td>Female</td>\n",
       "      <td>Female Headed</td>\n",
       "    </tr>\n",
       "    <tr>\n",
       "      <th>17</th>\n",
       "      <td>Kagadi</td>\n",
       "      <td>Kicucuuru</td>\n",
       "      <td>Kitooro</td>\n",
       "      <td>Kasozi_Kitooro</td>\n",
       "      <td>Jenerous Norah</td>\n",
       "      <td>80.0</td>\n",
       "      <td>773245647</td>\n",
       "      <td>KAG-KAS-JEN-F-093316</td>\n",
       "      <td>Female</td>\n",
       "      <td>Female Headed</td>\n",
       "    </tr>\n",
       "    <tr>\n",
       "      <th>32</th>\n",
       "      <td>Kagadi</td>\n",
       "      <td>Kicucuuru</td>\n",
       "      <td>Kitooro</td>\n",
       "      <td>Kasozi_Kitooro</td>\n",
       "      <td>Night Jenerous</td>\n",
       "      <td>40.0</td>\n",
       "      <td>781512185</td>\n",
       "      <td>KAG-KAS-NIG-F-100503</td>\n",
       "      <td>Female</td>\n",
       "      <td>Female Headed</td>\n",
       "    </tr>\n",
       "  </tbody>\n",
       "</table>\n",
       "</div>"
      ],
      "text/plain": [
       "   district  subcounty   Parish         village          hhh_name   age  \\\n",
       "0    Kagadi  Kicucuuru  Kitooro  Kasozi_Kitooro     Akakwasa More  60.0   \n",
       "3    Kagadi  Kicucuuru  Kitooro  Kasozi_Kitooro    Anet Kokundeka  36.0   \n",
       "14   Kagadi  Kicucuuru  Kitooro  Kasozi_Kitooro  Ester Nyirambuga  60.0   \n",
       "17   Kagadi  Kicucuuru  Kitooro  Kasozi_Kitooro    Jenerous Norah  80.0   \n",
       "32   Kagadi  Kicucuuru  Kitooro  Kasozi_Kitooro    Night Jenerous  40.0   \n",
       "\n",
       "      Contact                    id HHH_Gender Household_Head_Gender  \n",
       "0   785534054  KAG-KAS-AKA-F-075731     Female         Female Headed  \n",
       "3   755236985  KAG-KAS-ANE-F-093637     Female         Female Headed  \n",
       "14  788356416  KAG-KAS-EST-F-083414     Female         Female Headed  \n",
       "17  773245647  KAG-KAS-JEN-F-093316     Female         Female Headed  \n",
       "32  781512185  KAG-KAS-NIG-F-100503     Female         Female Headed  "
      ]
     },
     "execution_count": 139,
     "metadata": {},
     "output_type": "execute_result"
    }
   ],
   "source": [
    "female_HH_samp_frame.head()"
   ]
  },
  {
   "cell_type": "code",
   "execution_count": 140,
   "id": "182b49b0",
   "metadata": {
    "id": "ea81691f",
    "slideshow": {
     "slide_type": "fragment"
    }
   },
   "outputs": [
    {
     "name": "stderr",
     "output_type": "stream",
     "text": [
      "/var/folders/xd/0btgr76j2zxc4__ynw0yhwbm0000gn/T/ipykernel_54360/449293486.py:1: DeprecationWarning: DataFrameGroupBy.apply operated on the grouping columns. This behavior is deprecated, and in a future version of pandas the grouping columns will be excluded from the operation. Either pass `include_groups=False` to exclude the groupings or explicitly select the grouping columns after groupby to silence this warning.\n",
      "  female_target_sample = female_HH_samp_frame.groupby('village', group_keys=False).apply(lambda x: x.sample(n=min(len(x), 3)))\n"
     ]
    }
   ],
   "source": [
    "female_target_sample = female_HH_samp_frame.groupby('village', group_keys=False).apply(lambda x: x.sample(n=min(len(x), 3)))"
   ]
  },
  {
   "cell_type": "code",
   "execution_count": 141,
   "id": "995614a1",
   "metadata": {
    "id": "4eda136e",
    "outputId": "9ff262dc-a690-4b20-8444-912515e98ce1",
    "slideshow": {
     "slide_type": "skip"
    }
   },
   "outputs": [
    {
     "data": {
      "text/plain": [
       "2349"
      ]
     },
     "execution_count": 141,
     "metadata": {},
     "output_type": "execute_result"
    }
   ],
   "source": [
    "len(female_target_sample)"
   ]
  },
  {
   "cell_type": "code",
   "execution_count": 142,
   "id": "75f5495b",
   "metadata": {
    "id": "2c9f1b9d",
    "slideshow": {
     "slide_type": "fragment"
    }
   },
   "outputs": [],
   "source": [
    "female_target_sample['status'] = 'target'"
   ]
  },
  {
   "cell_type": "code",
   "execution_count": 143,
   "id": "182362bf",
   "metadata": {
    "id": "6df93913",
    "outputId": "65ca229d-0969-4fa9-9e66-ad26814787af",
    "slideshow": {
     "slide_type": "skip"
    }
   },
   "outputs": [
    {
     "data": {
      "text/html": [
       "<div>\n",
       "<style scoped>\n",
       "    .dataframe tbody tr th:only-of-type {\n",
       "        vertical-align: middle;\n",
       "    }\n",
       "\n",
       "    .dataframe tbody tr th {\n",
       "        vertical-align: top;\n",
       "    }\n",
       "\n",
       "    .dataframe thead th {\n",
       "        text-align: right;\n",
       "    }\n",
       "</style>\n",
       "<table border=\"1\" class=\"dataframe\">\n",
       "  <thead>\n",
       "    <tr style=\"text-align: right;\">\n",
       "      <th></th>\n",
       "      <th>district</th>\n",
       "      <th>subcounty</th>\n",
       "      <th>Parish</th>\n",
       "      <th>village</th>\n",
       "      <th>hhh_name</th>\n",
       "      <th>age</th>\n",
       "      <th>Contact</th>\n",
       "      <th>id</th>\n",
       "      <th>HHH_Gender</th>\n",
       "      <th>Household_Head_Gender</th>\n",
       "      <th>status</th>\n",
       "    </tr>\n",
       "  </thead>\n",
       "  <tbody>\n",
       "    <tr>\n",
       "      <th>13270</th>\n",
       "      <td>Kiryandongo</td>\n",
       "      <td>Mboira</td>\n",
       "      <td>Apodorwa</td>\n",
       "      <td>Abira</td>\n",
       "      <td>Marry Pifua</td>\n",
       "      <td>50.0</td>\n",
       "      <td>99</td>\n",
       "      <td>KIR-ABI-MAR-F-124636</td>\n",
       "      <td>Female</td>\n",
       "      <td>Female Headed</td>\n",
       "      <td>target</td>\n",
       "    </tr>\n",
       "    <tr>\n",
       "      <th>13237</th>\n",
       "      <td>Kiryandongo</td>\n",
       "      <td>Mboira</td>\n",
       "      <td>Apodorwa</td>\n",
       "      <td>Abira</td>\n",
       "      <td>Jesca Adokorach</td>\n",
       "      <td>50.0</td>\n",
       "      <td>99</td>\n",
       "      <td>KIR-ABI-JES-F-153504</td>\n",
       "      <td>Female</td>\n",
       "      <td>Female Headed</td>\n",
       "      <td>target</td>\n",
       "    </tr>\n",
       "    <tr>\n",
       "      <th>13286</th>\n",
       "      <td>Kiryandongo</td>\n",
       "      <td>Mboira</td>\n",
       "      <td>Apodorwa</td>\n",
       "      <td>Abira</td>\n",
       "      <td>Paska Angoya</td>\n",
       "      <td>38.0</td>\n",
       "      <td>99</td>\n",
       "      <td>KIR-ABI-PAS-F-170131</td>\n",
       "      <td>Female</td>\n",
       "      <td>Female Headed</td>\n",
       "      <td>target</td>\n",
       "    </tr>\n",
       "    <tr>\n",
       "      <th>90240</th>\n",
       "      <td>Rukiga</td>\n",
       "      <td>Rwamucucu</td>\n",
       "      <td>Burime</td>\n",
       "      <td>Ahamunyinya</td>\n",
       "      <td>Medius Mutorinwe</td>\n",
       "      <td>35.0</td>\n",
       "      <td>780488025</td>\n",
       "      <td>RUK-AHA-MED-F-142915</td>\n",
       "      <td>Female</td>\n",
       "      <td>Female Headed</td>\n",
       "      <td>target</td>\n",
       "    </tr>\n",
       "    <tr>\n",
       "      <th>90170</th>\n",
       "      <td>Rukiga</td>\n",
       "      <td>Rwamucucu</td>\n",
       "      <td>Burime</td>\n",
       "      <td>Ahamunyinya</td>\n",
       "      <td>Daforose Kemireere</td>\n",
       "      <td>65.0</td>\n",
       "      <td>99</td>\n",
       "      <td>RUK-AHA-DAF-F-123607</td>\n",
       "      <td>Female</td>\n",
       "      <td>Female Headed</td>\n",
       "      <td>target</td>\n",
       "    </tr>\n",
       "  </tbody>\n",
       "</table>\n",
       "</div>"
      ],
      "text/plain": [
       "          district  subcounty    Parish      village            hhh_name  \\\n",
       "13270  Kiryandongo     Mboira  Apodorwa        Abira         Marry Pifua   \n",
       "13237  Kiryandongo     Mboira  Apodorwa        Abira     Jesca Adokorach   \n",
       "13286  Kiryandongo     Mboira  Apodorwa        Abira        Paska Angoya   \n",
       "90240       Rukiga  Rwamucucu    Burime  Ahamunyinya    Medius Mutorinwe   \n",
       "90170       Rukiga  Rwamucucu    Burime  Ahamunyinya  Daforose Kemireere   \n",
       "\n",
       "        age    Contact                    id HHH_Gender Household_Head_Gender  \\\n",
       "13270  50.0         99  KIR-ABI-MAR-F-124636     Female         Female Headed   \n",
       "13237  50.0         99  KIR-ABI-JES-F-153504     Female         Female Headed   \n",
       "13286  38.0         99  KIR-ABI-PAS-F-170131     Female         Female Headed   \n",
       "90240  35.0  780488025  RUK-AHA-MED-F-142915     Female         Female Headed   \n",
       "90170  65.0         99  RUK-AHA-DAF-F-123607     Female         Female Headed   \n",
       "\n",
       "       status  \n",
       "13270  target  \n",
       "13237  target  \n",
       "13286  target  \n",
       "90240  target  \n",
       "90170  target  "
      ]
     },
     "execution_count": 143,
     "metadata": {},
     "output_type": "execute_result"
    }
   ],
   "source": [
    "female_target_sample.head()"
   ]
  },
  {
   "cell_type": "markdown",
   "id": "93c2f8e6",
   "metadata": {
    "id": "ec4bd25e",
    "slideshow": {
     "slide_type": "skip"
    }
   },
   "source": [
    "## Reserve frame"
   ]
  },
  {
   "cell_type": "code",
   "execution_count": 144,
   "id": "06cfdd95",
   "metadata": {
    "id": "9172c8fa",
    "outputId": "5c13f57f-2c27-4a39-f865-a80642307f3b",
    "slideshow": {
     "slide_type": "fragment"
    }
   },
   "outputs": [
    {
     "data": {
      "text/plain": [
       "(17369, 10)"
      ]
     },
     "execution_count": 144,
     "metadata": {},
     "output_type": "execute_result"
    }
   ],
   "source": [
    "female_reserve_s_frame = female_HH_samp_frame.drop(index = female_target_sample.index)\n",
    "female_reserve_s_frame.shape"
   ]
  },
  {
   "cell_type": "code",
   "execution_count": 65,
   "id": "731e2caf",
   "metadata": {
    "id": "b7e117e4",
    "slideshow": {
     "slide_type": "skip"
    }
   },
   "outputs": [],
   "source": [
    "# female_reserve_s_frame.to_excel('mit/female_reserve_s_frame.xlsx', index=False)"
   ]
  },
  {
   "cell_type": "code",
   "execution_count": 145,
   "id": "ac1898f0",
   "metadata": {
    "id": "9b090477",
    "slideshow": {
     "slide_type": "slide"
    }
   },
   "outputs": [
    {
     "name": "stderr",
     "output_type": "stream",
     "text": [
      "/var/folders/xd/0btgr76j2zxc4__ynw0yhwbm0000gn/T/ipykernel_54360/2689120184.py:1: DeprecationWarning: DataFrameGroupBy.apply operated on the grouping columns. This behavior is deprecated, and in a future version of pandas the grouping columns will be excluded from the operation. Either pass `include_groups=False` to exclude the groupings or explicitly select the grouping columns after groupby to silence this warning.\n",
      "  female_reserve_sample = female_reserve_s_frame.groupby('village', group_keys=False).apply(lambda x: x.sample(n=min(len(x), 2)))\n"
     ]
    }
   ],
   "source": [
    "female_reserve_sample = female_reserve_s_frame.groupby('village', group_keys=False).apply(lambda x: x.sample(n=min(len(x), 2)))"
   ]
  },
  {
   "cell_type": "code",
   "execution_count": 146,
   "id": "6e7c0f11",
   "metadata": {
    "id": "b232d99b",
    "outputId": "fd809e5d-dd3d-4202-ca34-53eeaa1cd4a2",
    "slideshow": {
     "slide_type": "fragment"
    }
   },
   "outputs": [
    {
     "data": {
      "text/html": [
       "<div>\n",
       "<style scoped>\n",
       "    .dataframe tbody tr th:only-of-type {\n",
       "        vertical-align: middle;\n",
       "    }\n",
       "\n",
       "    .dataframe tbody tr th {\n",
       "        vertical-align: top;\n",
       "    }\n",
       "\n",
       "    .dataframe thead th {\n",
       "        text-align: right;\n",
       "    }\n",
       "</style>\n",
       "<table border=\"1\" class=\"dataframe\">\n",
       "  <thead>\n",
       "    <tr style=\"text-align: right;\">\n",
       "      <th></th>\n",
       "      <th>district</th>\n",
       "      <th>subcounty</th>\n",
       "      <th>Parish</th>\n",
       "      <th>village</th>\n",
       "      <th>hhh_name</th>\n",
       "      <th>age</th>\n",
       "      <th>Contact</th>\n",
       "      <th>id</th>\n",
       "      <th>HHH_Gender</th>\n",
       "      <th>Household_Head_Gender</th>\n",
       "      <th>status</th>\n",
       "    </tr>\n",
       "  </thead>\n",
       "  <tbody>\n",
       "    <tr>\n",
       "      <th>13325</th>\n",
       "      <td>Kiryandongo</td>\n",
       "      <td>Mboira</td>\n",
       "      <td>Apodorwa</td>\n",
       "      <td>Abira</td>\n",
       "      <td>Stela Mawa</td>\n",
       "      <td>48.0</td>\n",
       "      <td>995</td>\n",
       "      <td>KIR-ABI-STE-F-121540</td>\n",
       "      <td>Female</td>\n",
       "      <td>Female Headed</td>\n",
       "      <td>reserve</td>\n",
       "    </tr>\n",
       "    <tr>\n",
       "      <th>13161</th>\n",
       "      <td>Kiryandongo</td>\n",
       "      <td>Mboira</td>\n",
       "      <td>Apodorwa</td>\n",
       "      <td>Abira</td>\n",
       "      <td>Anguleta Giramiya</td>\n",
       "      <td>63.0</td>\n",
       "      <td>787137011</td>\n",
       "      <td>KIR-ABI-ANG-F-153639</td>\n",
       "      <td>Female</td>\n",
       "      <td>Female Headed</td>\n",
       "      <td>reserve</td>\n",
       "    </tr>\n",
       "    <tr>\n",
       "      <th>90245</th>\n",
       "      <td>Rukiga</td>\n",
       "      <td>Rwamucucu</td>\n",
       "      <td>Burime</td>\n",
       "      <td>Ahamunyinya</td>\n",
       "      <td>Dinavence Muvawara</td>\n",
       "      <td>49.0</td>\n",
       "      <td>99</td>\n",
       "      <td>RUK-AHA-DIN-F-151538</td>\n",
       "      <td>Female</td>\n",
       "      <td>Female Headed</td>\n",
       "      <td>reserve</td>\n",
       "    </tr>\n",
       "    <tr>\n",
       "      <th>90217</th>\n",
       "      <td>Rukiga</td>\n",
       "      <td>Rwamucucu</td>\n",
       "      <td>Burime</td>\n",
       "      <td>Ahamunyinya</td>\n",
       "      <td>Jackline Tibebuza</td>\n",
       "      <td>54.0</td>\n",
       "      <td>99</td>\n",
       "      <td>RUK-AHA-JAC-F-113304</td>\n",
       "      <td>Female</td>\n",
       "      <td>Female Headed</td>\n",
       "      <td>reserve</td>\n",
       "    </tr>\n",
       "    <tr>\n",
       "      <th>77117</th>\n",
       "      <td>Kiryandongo</td>\n",
       "      <td>Nyamahasa</td>\n",
       "      <td>Laboke</td>\n",
       "      <td>Alaro_Ogwal_Woo_A</td>\n",
       "      <td>Grace Ayerango</td>\n",
       "      <td>60.0</td>\n",
       "      <td>788307398</td>\n",
       "      <td>KIR-ALA-GRA-F-111640</td>\n",
       "      <td>Female</td>\n",
       "      <td>Female Headed</td>\n",
       "      <td>reserve</td>\n",
       "    </tr>\n",
       "  </tbody>\n",
       "</table>\n",
       "</div>"
      ],
      "text/plain": [
       "          district  subcounty    Parish            village  \\\n",
       "13325  Kiryandongo     Mboira  Apodorwa              Abira   \n",
       "13161  Kiryandongo     Mboira  Apodorwa              Abira   \n",
       "90245       Rukiga  Rwamucucu    Burime        Ahamunyinya   \n",
       "90217       Rukiga  Rwamucucu    Burime        Ahamunyinya   \n",
       "77117  Kiryandongo  Nyamahasa    Laboke  Alaro_Ogwal_Woo_A   \n",
       "\n",
       "                 hhh_name   age    Contact                    id HHH_Gender  \\\n",
       "13325          Stela Mawa  48.0        995  KIR-ABI-STE-F-121540     Female   \n",
       "13161   Anguleta Giramiya  63.0  787137011  KIR-ABI-ANG-F-153639     Female   \n",
       "90245  Dinavence Muvawara  49.0         99  RUK-AHA-DIN-F-151538     Female   \n",
       "90217   Jackline Tibebuza  54.0         99  RUK-AHA-JAC-F-113304     Female   \n",
       "77117      Grace Ayerango  60.0  788307398  KIR-ALA-GRA-F-111640     Female   \n",
       "\n",
       "      Household_Head_Gender   status  \n",
       "13325         Female Headed  reserve  \n",
       "13161         Female Headed  reserve  \n",
       "90245         Female Headed  reserve  \n",
       "90217         Female Headed  reserve  \n",
       "77117         Female Headed  reserve  "
      ]
     },
     "execution_count": 146,
     "metadata": {},
     "output_type": "execute_result"
    }
   ],
   "source": [
    "female_reserve_sample['status'] = 'reserve'\n",
    "female_reserve_sample.head()"
   ]
  },
  {
   "cell_type": "code",
   "execution_count": 147,
   "id": "561a5fc5",
   "metadata": {
    "id": "acca14d8",
    "slideshow": {
     "slide_type": "skip"
    }
   },
   "outputs": [],
   "source": [
    "# female_reserve_sample.to_excel('mit/female_reserve_sample.xlsx', index=False)"
   ]
  },
  {
   "cell_type": "code",
   "execution_count": 148,
   "id": "66f6e60a",
   "metadata": {
    "id": "268fa1fc",
    "slideshow": {
     "slide_type": "fragment"
    }
   },
   "outputs": [],
   "source": [
    "FEMALE_HH_SAMPLE = pd.concat([female_target_sample, female_reserve_sample])"
   ]
  },
  {
   "cell_type": "code",
   "execution_count": 149,
   "id": "58a8db1e",
   "metadata": {
    "id": "e8229818",
    "slideshow": {
     "slide_type": "skip"
    }
   },
   "outputs": [],
   "source": [
    "# FEMALE_HH_SAMPLE.to_excel('mit/FEMALE_HH_SAMPLE.xlsx', index=False)"
   ]
  },
  {
   "cell_type": "markdown",
   "id": "f5afe627",
   "metadata": {
    "id": "f1ec251a",
    "slideshow": {
     "slide_type": "slide"
    }
   },
   "source": [
    "# YOUTH Households"
   ]
  },
  {
   "cell_type": "code",
   "execution_count": 150,
   "id": "00b44a62",
   "metadata": {
    "id": "e79b4021",
    "outputId": "b7c2dad9-c4a4-4c4d-e8a5-17a86e67f13c",
    "slideshow": {
     "slide_type": "skip"
    }
   },
   "outputs": [
    {
     "data": {
      "text/plain": [
       "23756"
      ]
     },
     "execution_count": 150,
     "metadata": {},
     "output_type": "execute_result"
    }
   ],
   "source": [
    "len(youth_HH_samp_frame)"
   ]
  },
  {
   "cell_type": "code",
   "execution_count": 151,
   "id": "74a4644d",
   "metadata": {
    "id": "26e9ce59",
    "outputId": "ca6b412e-c612-4a31-8c53-b75dc6776ab9",
    "slideshow": {
     "slide_type": "skip"
    }
   },
   "outputs": [
    {
     "data": {
      "text/html": [
       "<div>\n",
       "<style scoped>\n",
       "    .dataframe tbody tr th:only-of-type {\n",
       "        vertical-align: middle;\n",
       "    }\n",
       "\n",
       "    .dataframe tbody tr th {\n",
       "        vertical-align: top;\n",
       "    }\n",
       "\n",
       "    .dataframe thead th {\n",
       "        text-align: right;\n",
       "    }\n",
       "</style>\n",
       "<table border=\"1\" class=\"dataframe\">\n",
       "  <thead>\n",
       "    <tr style=\"text-align: right;\">\n",
       "      <th></th>\n",
       "      <th>district</th>\n",
       "      <th>subcounty</th>\n",
       "      <th>Parish</th>\n",
       "      <th>village</th>\n",
       "      <th>hhh_name</th>\n",
       "      <th>age</th>\n",
       "      <th>Contact</th>\n",
       "      <th>id</th>\n",
       "      <th>HHH_Gender</th>\n",
       "      <th>Household_Head_Gender</th>\n",
       "    </tr>\n",
       "  </thead>\n",
       "  <tbody>\n",
       "    <tr>\n",
       "      <th>1</th>\n",
       "      <td>Kagadi</td>\n",
       "      <td>Kicucuuru</td>\n",
       "      <td>Kitooro</td>\n",
       "      <td>Kasozi_Kitooro</td>\n",
       "      <td>Akoragye Peter</td>\n",
       "      <td>30.0</td>\n",
       "      <td>771069272</td>\n",
       "      <td>KAG-KAS-AKO-M-095616</td>\n",
       "      <td>Male</td>\n",
       "      <td>Youth Headed</td>\n",
       "    </tr>\n",
       "    <tr>\n",
       "      <th>2</th>\n",
       "      <td>Kagadi</td>\n",
       "      <td>Kicucuuru</td>\n",
       "      <td>Kitooro</td>\n",
       "      <td>Kasozi_Kitooro</td>\n",
       "      <td>Aliganyira Nikorasi</td>\n",
       "      <td>26.0</td>\n",
       "      <td>784875889</td>\n",
       "      <td>KAG-KAS-ALI-M-094647</td>\n",
       "      <td>Male</td>\n",
       "      <td>Youth Headed</td>\n",
       "    </tr>\n",
       "    <tr>\n",
       "      <th>4</th>\n",
       "      <td>Kagadi</td>\n",
       "      <td>Kicucuuru</td>\n",
       "      <td>Kitooro</td>\n",
       "      <td>Kasozi_Kitooro</td>\n",
       "      <td>Ayinemani Nicorous</td>\n",
       "      <td>21.0</td>\n",
       "      <td>789236760</td>\n",
       "      <td>KAG-KAS-AYI-M-114920</td>\n",
       "      <td>Male</td>\n",
       "      <td>Youth Headed</td>\n",
       "    </tr>\n",
       "    <tr>\n",
       "      <th>5</th>\n",
       "      <td>Kagadi</td>\n",
       "      <td>Kicucuuru</td>\n",
       "      <td>Kitooro</td>\n",
       "      <td>Kasozi_Kitooro</td>\n",
       "      <td>Baguma Francis</td>\n",
       "      <td>22.0</td>\n",
       "      <td>785534054</td>\n",
       "      <td>KAG-KAS-BAG-M-100449</td>\n",
       "      <td>Male</td>\n",
       "      <td>Youth Headed</td>\n",
       "    </tr>\n",
       "    <tr>\n",
       "      <th>6</th>\n",
       "      <td>Kagadi</td>\n",
       "      <td>Kicucuuru</td>\n",
       "      <td>Kitooro</td>\n",
       "      <td>Kasozi_Kitooro</td>\n",
       "      <td>Baguma Ivan</td>\n",
       "      <td>28.0</td>\n",
       "      <td>778314660</td>\n",
       "      <td>KAG-KAS-BAG-M-123458</td>\n",
       "      <td>Male</td>\n",
       "      <td>Youth Headed</td>\n",
       "    </tr>\n",
       "  </tbody>\n",
       "</table>\n",
       "</div>"
      ],
      "text/plain": [
       "  district  subcounty   Parish         village             hhh_name   age  \\\n",
       "1   Kagadi  Kicucuuru  Kitooro  Kasozi_Kitooro       Akoragye Peter  30.0   \n",
       "2   Kagadi  Kicucuuru  Kitooro  Kasozi_Kitooro  Aliganyira Nikorasi  26.0   \n",
       "4   Kagadi  Kicucuuru  Kitooro  Kasozi_Kitooro   Ayinemani Nicorous  21.0   \n",
       "5   Kagadi  Kicucuuru  Kitooro  Kasozi_Kitooro       Baguma Francis  22.0   \n",
       "6   Kagadi  Kicucuuru  Kitooro  Kasozi_Kitooro          Baguma Ivan  28.0   \n",
       "\n",
       "     Contact                    id HHH_Gender Household_Head_Gender  \n",
       "1  771069272  KAG-KAS-AKO-M-095616       Male          Youth Headed  \n",
       "2  784875889  KAG-KAS-ALI-M-094647       Male          Youth Headed  \n",
       "4  789236760  KAG-KAS-AYI-M-114920       Male          Youth Headed  \n",
       "5  785534054  KAG-KAS-BAG-M-100449       Male          Youth Headed  \n",
       "6  778314660  KAG-KAS-BAG-M-123458       Male          Youth Headed  "
      ]
     },
     "execution_count": 151,
     "metadata": {},
     "output_type": "execute_result"
    }
   ],
   "source": [
    "youth_HH_samp_frame.head()"
   ]
  },
  {
   "cell_type": "code",
   "execution_count": 152,
   "id": "016af514",
   "metadata": {
    "id": "c24e4229",
    "slideshow": {
     "slide_type": "fragment"
    }
   },
   "outputs": [
    {
     "name": "stderr",
     "output_type": "stream",
     "text": [
      "/var/folders/xd/0btgr76j2zxc4__ynw0yhwbm0000gn/T/ipykernel_54360/4193345323.py:1: DeprecationWarning: DataFrameGroupBy.apply operated on the grouping columns. This behavior is deprecated, and in a future version of pandas the grouping columns will be excluded from the operation. Either pass `include_groups=False` to exclude the groupings or explicitly select the grouping columns after groupby to silence this warning.\n",
      "  youth_target_sample = youth_HH_samp_frame.groupby('village', group_keys=False).apply(lambda x: x.sample(n=min(len(x), 3)))\n"
     ]
    }
   ],
   "source": [
    "youth_target_sample = youth_HH_samp_frame.groupby('village', group_keys=False).apply(lambda x: x.sample(n=min(len(x), 3)))"
   ]
  },
  {
   "cell_type": "code",
   "execution_count": 153,
   "id": "2e9eee5f",
   "metadata": {
    "id": "518216f0",
    "outputId": "e2d199d9-f513-47a2-f1ec-bc9716eea8ac",
    "slideshow": {
     "slide_type": "skip"
    }
   },
   "outputs": [
    {
     "data": {
      "text/plain": [
       "2124"
      ]
     },
     "execution_count": 153,
     "metadata": {},
     "output_type": "execute_result"
    }
   ],
   "source": [
    "len(youth_target_sample)"
   ]
  },
  {
   "cell_type": "code",
   "execution_count": 154,
   "id": "68d5fa56",
   "metadata": {
    "id": "8efb77de",
    "slideshow": {
     "slide_type": "fragment"
    }
   },
   "outputs": [],
   "source": [
    "youth_target_sample['status'] = 'target'"
   ]
  },
  {
   "cell_type": "code",
   "execution_count": 155,
   "id": "76f235a4",
   "metadata": {
    "id": "a15aafc3",
    "outputId": "48ac1dd2-e03c-4367-de06-db276ed9fb95",
    "slideshow": {
     "slide_type": "skip"
    }
   },
   "outputs": [
    {
     "data": {
      "text/html": [
       "<div>\n",
       "<style scoped>\n",
       "    .dataframe tbody tr th:only-of-type {\n",
       "        vertical-align: middle;\n",
       "    }\n",
       "\n",
       "    .dataframe tbody tr th {\n",
       "        vertical-align: top;\n",
       "    }\n",
       "\n",
       "    .dataframe thead th {\n",
       "        text-align: right;\n",
       "    }\n",
       "</style>\n",
       "<table border=\"1\" class=\"dataframe\">\n",
       "  <thead>\n",
       "    <tr style=\"text-align: right;\">\n",
       "      <th></th>\n",
       "      <th>district</th>\n",
       "      <th>subcounty</th>\n",
       "      <th>Parish</th>\n",
       "      <th>village</th>\n",
       "      <th>hhh_name</th>\n",
       "      <th>age</th>\n",
       "      <th>Contact</th>\n",
       "      <th>id</th>\n",
       "      <th>HHH_Gender</th>\n",
       "      <th>Household_Head_Gender</th>\n",
       "      <th>status</th>\n",
       "    </tr>\n",
       "  </thead>\n",
       "  <tbody>\n",
       "    <tr>\n",
       "      <th>13174</th>\n",
       "      <td>Kiryandongo</td>\n",
       "      <td>Mboira</td>\n",
       "      <td>Apodorwa</td>\n",
       "      <td>Abira</td>\n",
       "      <td>Charles Ongom</td>\n",
       "      <td>29.0</td>\n",
       "      <td>99</td>\n",
       "      <td>KIR-ABI-CHA-M-143612</td>\n",
       "      <td>Male</td>\n",
       "      <td>Youth Headed</td>\n",
       "      <td>target</td>\n",
       "    </tr>\n",
       "    <tr>\n",
       "      <th>13154</th>\n",
       "      <td>Kiryandongo</td>\n",
       "      <td>Mboira</td>\n",
       "      <td>Apodorwa</td>\n",
       "      <td>Abira</td>\n",
       "      <td>Alex Ondroma</td>\n",
       "      <td>25.0</td>\n",
       "      <td>99</td>\n",
       "      <td>KIR-ABI-ALE-M-153657</td>\n",
       "      <td>Male</td>\n",
       "      <td>Youth Headed</td>\n",
       "      <td>target</td>\n",
       "    </tr>\n",
       "    <tr>\n",
       "      <th>13225</th>\n",
       "      <td>Kiryandongo</td>\n",
       "      <td>Mboira</td>\n",
       "      <td>Apodorwa</td>\n",
       "      <td>Abira</td>\n",
       "      <td>James Oryem</td>\n",
       "      <td>29.0</td>\n",
       "      <td>761858315</td>\n",
       "      <td>KIR-ABI-JAM-M-114103</td>\n",
       "      <td>Male</td>\n",
       "      <td>Youth Headed</td>\n",
       "      <td>target</td>\n",
       "    </tr>\n",
       "    <tr>\n",
       "      <th>90256</th>\n",
       "      <td>Rukiga</td>\n",
       "      <td>Rwamucucu</td>\n",
       "      <td>Burime</td>\n",
       "      <td>Ahamunyinya</td>\n",
       "      <td>John Namara</td>\n",
       "      <td>23.0</td>\n",
       "      <td>776530372</td>\n",
       "      <td>RUK-AHA-JOH-M-161612</td>\n",
       "      <td>Male</td>\n",
       "      <td>Youth Headed</td>\n",
       "      <td>target</td>\n",
       "    </tr>\n",
       "    <tr>\n",
       "      <th>90201</th>\n",
       "      <td>Rukiga</td>\n",
       "      <td>Rwamucucu</td>\n",
       "      <td>Burime</td>\n",
       "      <td>Ahamunyinya</td>\n",
       "      <td>Brian Orikwera</td>\n",
       "      <td>27.0</td>\n",
       "      <td>99</td>\n",
       "      <td>RUK-AHA-BRI-M-085601</td>\n",
       "      <td>Male</td>\n",
       "      <td>Youth Headed</td>\n",
       "      <td>target</td>\n",
       "    </tr>\n",
       "  </tbody>\n",
       "</table>\n",
       "</div>"
      ],
      "text/plain": [
       "          district  subcounty    Parish      village        hhh_name   age  \\\n",
       "13174  Kiryandongo     Mboira  Apodorwa        Abira   Charles Ongom  29.0   \n",
       "13154  Kiryandongo     Mboira  Apodorwa        Abira    Alex Ondroma  25.0   \n",
       "13225  Kiryandongo     Mboira  Apodorwa        Abira     James Oryem  29.0   \n",
       "90256       Rukiga  Rwamucucu    Burime  Ahamunyinya     John Namara  23.0   \n",
       "90201       Rukiga  Rwamucucu    Burime  Ahamunyinya  Brian Orikwera  27.0   \n",
       "\n",
       "         Contact                    id HHH_Gender Household_Head_Gender  \\\n",
       "13174         99  KIR-ABI-CHA-M-143612       Male          Youth Headed   \n",
       "13154         99  KIR-ABI-ALE-M-153657       Male          Youth Headed   \n",
       "13225  761858315  KIR-ABI-JAM-M-114103       Male          Youth Headed   \n",
       "90256  776530372  RUK-AHA-JOH-M-161612       Male          Youth Headed   \n",
       "90201         99  RUK-AHA-BRI-M-085601       Male          Youth Headed   \n",
       "\n",
       "       status  \n",
       "13174  target  \n",
       "13154  target  \n",
       "13225  target  \n",
       "90256  target  \n",
       "90201  target  "
      ]
     },
     "execution_count": 155,
     "metadata": {},
     "output_type": "execute_result"
    }
   ],
   "source": [
    "youth_target_sample.head()"
   ]
  },
  {
   "cell_type": "code",
   "execution_count": 156,
   "id": "60bf6a99",
   "metadata": {
    "id": "bf8ab55d",
    "slideshow": {
     "slide_type": "skip"
    }
   },
   "outputs": [],
   "source": [
    "# youth_target_sample.to_excel('mit/youth_target_sample.xlsx', index=False)"
   ]
  },
  {
   "cell_type": "markdown",
   "id": "a5d04874",
   "metadata": {
    "id": "c409fcb9",
    "slideshow": {
     "slide_type": "slide"
    }
   },
   "source": [
    "## Reserve frame"
   ]
  },
  {
   "cell_type": "code",
   "execution_count": 157,
   "id": "99328c13",
   "metadata": {
    "id": "ba880cf1",
    "outputId": "9dcd5661-032f-4141-834f-d84e773ebe55",
    "slideshow": {
     "slide_type": "fragment"
    }
   },
   "outputs": [
    {
     "data": {
      "text/plain": [
       "(21632, 10)"
      ]
     },
     "execution_count": 157,
     "metadata": {},
     "output_type": "execute_result"
    }
   ],
   "source": [
    "youth_reserve_s_frame = youth_HH_samp_frame.drop(index = youth_target_sample.index)\n",
    "youth_reserve_s_frame.shape"
   ]
  },
  {
   "cell_type": "code",
   "execution_count": 79,
   "id": "6694dea9",
   "metadata": {
    "id": "52e433b4",
    "slideshow": {
     "slide_type": "skip"
    }
   },
   "outputs": [],
   "source": [
    "# youth_reserve_s_frame.to_excel('mit/youth_reserve_s_frame.xlsx', index=False)"
   ]
  },
  {
   "cell_type": "code",
   "execution_count": 158,
   "id": "479b22e7",
   "metadata": {
    "id": "0d0c7d45",
    "slideshow": {
     "slide_type": "fragment"
    }
   },
   "outputs": [
    {
     "name": "stderr",
     "output_type": "stream",
     "text": [
      "/var/folders/xd/0btgr76j2zxc4__ynw0yhwbm0000gn/T/ipykernel_54360/1565627471.py:1: DeprecationWarning: DataFrameGroupBy.apply operated on the grouping columns. This behavior is deprecated, and in a future version of pandas the grouping columns will be excluded from the operation. Either pass `include_groups=False` to exclude the groupings or explicitly select the grouping columns after groupby to silence this warning.\n",
      "  youth_reserve_sample = youth_reserve_s_frame.groupby('village', group_keys=False).apply(lambda x: x.sample(n=min(len(x), 2)))\n"
     ]
    }
   ],
   "source": [
    "youth_reserve_sample = youth_reserve_s_frame.groupby('village', group_keys=False).apply(lambda x: x.sample(n=min(len(x), 2)))"
   ]
  },
  {
   "cell_type": "code",
   "execution_count": 159,
   "id": "3baef350",
   "metadata": {
    "id": "dcf49b93",
    "outputId": "2dc5de30-9a7c-49e3-b748-610562cd4b76",
    "slideshow": {
     "slide_type": "fragment"
    }
   },
   "outputs": [
    {
     "data": {
      "text/html": [
       "<div>\n",
       "<style scoped>\n",
       "    .dataframe tbody tr th:only-of-type {\n",
       "        vertical-align: middle;\n",
       "    }\n",
       "\n",
       "    .dataframe tbody tr th {\n",
       "        vertical-align: top;\n",
       "    }\n",
       "\n",
       "    .dataframe thead th {\n",
       "        text-align: right;\n",
       "    }\n",
       "</style>\n",
       "<table border=\"1\" class=\"dataframe\">\n",
       "  <thead>\n",
       "    <tr style=\"text-align: right;\">\n",
       "      <th></th>\n",
       "      <th>district</th>\n",
       "      <th>subcounty</th>\n",
       "      <th>Parish</th>\n",
       "      <th>village</th>\n",
       "      <th>hhh_name</th>\n",
       "      <th>age</th>\n",
       "      <th>Contact</th>\n",
       "      <th>id</th>\n",
       "      <th>HHH_Gender</th>\n",
       "      <th>Household_Head_Gender</th>\n",
       "      <th>status</th>\n",
       "    </tr>\n",
       "  </thead>\n",
       "  <tbody>\n",
       "    <tr>\n",
       "      <th>13207</th>\n",
       "      <td>Kiryandongo</td>\n",
       "      <td>Mboira</td>\n",
       "      <td>Apodorwa</td>\n",
       "      <td>Abira</td>\n",
       "      <td>Francis Ochokuru</td>\n",
       "      <td>23.0</td>\n",
       "      <td>99</td>\n",
       "      <td>KIR-ABI-FRA-M-171510</td>\n",
       "      <td>Male</td>\n",
       "      <td>Youth Headed</td>\n",
       "      <td>reserve</td>\n",
       "    </tr>\n",
       "    <tr>\n",
       "      <th>13331</th>\n",
       "      <td>Kiryandongo</td>\n",
       "      <td>Mboira</td>\n",
       "      <td>Apodorwa</td>\n",
       "      <td>Abira</td>\n",
       "      <td>Stteven Dukongi</td>\n",
       "      <td>19.0</td>\n",
       "      <td>99</td>\n",
       "      <td>KIR-ABI-STT-M-090506</td>\n",
       "      <td>Male</td>\n",
       "      <td>Youth Headed</td>\n",
       "      <td>reserve</td>\n",
       "    </tr>\n",
       "    <tr>\n",
       "      <th>90258</th>\n",
       "      <td>Rukiga</td>\n",
       "      <td>Rwamucucu</td>\n",
       "      <td>Burime</td>\n",
       "      <td>Ahamunyinya</td>\n",
       "      <td>Ivan Atugarukiremu</td>\n",
       "      <td>30.0</td>\n",
       "      <td>-99</td>\n",
       "      <td>RUK-AHA-IVA-M-163217</td>\n",
       "      <td>Male</td>\n",
       "      <td>Youth Headed</td>\n",
       "      <td>reserve</td>\n",
       "    </tr>\n",
       "    <tr>\n",
       "      <th>90263</th>\n",
       "      <td>Rukiga</td>\n",
       "      <td>Rwamucucu</td>\n",
       "      <td>Burime</td>\n",
       "      <td>Ahamunyinya</td>\n",
       "      <td>Elioda Muhanguzi</td>\n",
       "      <td>23.0</td>\n",
       "      <td>-99</td>\n",
       "      <td>RUK-AHA-ELI-M-180150</td>\n",
       "      <td>Male</td>\n",
       "      <td>Youth Headed</td>\n",
       "      <td>reserve</td>\n",
       "    </tr>\n",
       "    <tr>\n",
       "      <th>77284</th>\n",
       "      <td>Kiryandongo</td>\n",
       "      <td>Nyamahasa</td>\n",
       "      <td>Laboke</td>\n",
       "      <td>Alaro_Ogwal_Woo_A</td>\n",
       "      <td>Oscar Oyella</td>\n",
       "      <td>26.0</td>\n",
       "      <td>776034612</td>\n",
       "      <td>KIR-ALA-OSC-F-135721</td>\n",
       "      <td>Female</td>\n",
       "      <td>Youth Headed</td>\n",
       "      <td>reserve</td>\n",
       "    </tr>\n",
       "  </tbody>\n",
       "</table>\n",
       "</div>"
      ],
      "text/plain": [
       "          district  subcounty    Parish            village  \\\n",
       "13207  Kiryandongo     Mboira  Apodorwa              Abira   \n",
       "13331  Kiryandongo     Mboira  Apodorwa              Abira   \n",
       "90258       Rukiga  Rwamucucu    Burime        Ahamunyinya   \n",
       "90263       Rukiga  Rwamucucu    Burime        Ahamunyinya   \n",
       "77284  Kiryandongo  Nyamahasa    Laboke  Alaro_Ogwal_Woo_A   \n",
       "\n",
       "                 hhh_name   age    Contact                    id HHH_Gender  \\\n",
       "13207    Francis Ochokuru  23.0         99  KIR-ABI-FRA-M-171510       Male   \n",
       "13331     Stteven Dukongi  19.0         99  KIR-ABI-STT-M-090506       Male   \n",
       "90258  Ivan Atugarukiremu  30.0        -99  RUK-AHA-IVA-M-163217       Male   \n",
       "90263    Elioda Muhanguzi  23.0        -99  RUK-AHA-ELI-M-180150       Male   \n",
       "77284        Oscar Oyella  26.0  776034612  KIR-ALA-OSC-F-135721     Female   \n",
       "\n",
       "      Household_Head_Gender   status  \n",
       "13207          Youth Headed  reserve  \n",
       "13331          Youth Headed  reserve  \n",
       "90258          Youth Headed  reserve  \n",
       "90263          Youth Headed  reserve  \n",
       "77284          Youth Headed  reserve  "
      ]
     },
     "execution_count": 159,
     "metadata": {},
     "output_type": "execute_result"
    }
   ],
   "source": [
    "youth_reserve_sample['status'] = 'reserve'\n",
    "youth_reserve_sample.head()"
   ]
  },
  {
   "cell_type": "code",
   "execution_count": 160,
   "id": "35632d17",
   "metadata": {
    "id": "0aff8617",
    "slideshow": {
     "slide_type": "skip"
    }
   },
   "outputs": [],
   "source": [
    "# youth_reserve_sample.to_excel('mit/youth_reserve_sample.xlsx', index=False)"
   ]
  },
  {
   "cell_type": "markdown",
   "id": "a7eacb52",
   "metadata": {
    "id": "55c723e1",
    "slideshow": {
     "slide_type": "slide"
    }
   },
   "source": [
    "# Youth Household Sample"
   ]
  },
  {
   "cell_type": "code",
   "execution_count": 161,
   "id": "c2e86921",
   "metadata": {
    "id": "1fa36c9b",
    "outputId": "b4f3199b-b088-4116-91d9-4c5971286f16",
    "slideshow": {
     "slide_type": "skip"
    }
   },
   "outputs": [
    {
     "data": {
      "text/plain": [
       "((2124, 11), (1400, 11))"
      ]
     },
     "execution_count": 161,
     "metadata": {},
     "output_type": "execute_result"
    }
   ],
   "source": [
    "youth_target_sample.shape, youth_reserve_sample.shape"
   ]
  },
  {
   "cell_type": "code",
   "execution_count": 162,
   "id": "189c2382",
   "metadata": {
    "id": "dbf967a5",
    "slideshow": {
     "slide_type": "fragment"
    }
   },
   "outputs": [],
   "source": [
    "YOUTH_HH_SAMPLE = pd.concat([youth_target_sample, youth_reserve_sample])"
   ]
  },
  {
   "cell_type": "code",
   "execution_count": 163,
   "id": "adcf5732",
   "metadata": {
    "id": "42b22501",
    "slideshow": {
     "slide_type": "skip"
    }
   },
   "outputs": [],
   "source": [
    "# YOUTH_HH_SAMPLE.to_excel('mit/YOUTH_HH_SAMPLE.xlsx', index=False)"
   ]
  },
  {
   "cell_type": "markdown",
   "id": "b02055cd",
   "metadata": {
    "slideshow": {
     "slide_type": "skip"
    }
   },
   "source": [
    "We now have sample for males, females, and youths. Let's combine."
   ]
  },
  {
   "cell_type": "markdown",
   "id": "fdc3a1c3",
   "metadata": {
    "id": "6184c074",
    "slideshow": {
     "slide_type": "slide"
    }
   },
   "source": [
    "# JOINING THE DATAFRAMES"
   ]
  },
  {
   "cell_type": "code",
   "execution_count": 164,
   "id": "39d85bc3",
   "metadata": {
    "id": "4128546d",
    "outputId": "4b648906-ebb7-438e-bc28-0df3a63b5276",
    "slideshow": {
     "slide_type": "fragment"
    }
   },
   "outputs": [
    {
     "data": {
      "text/plain": [
       "((10207, 11), (3903, 11), (3524, 11))"
      ]
     },
     "execution_count": 164,
     "metadata": {},
     "output_type": "execute_result"
    }
   ],
   "source": [
    "MALE_HH_SAMPLE.shape, FEMALE_HH_SAMPLE.shape, YOUTH_HH_SAMPLE.shape"
   ]
  },
  {
   "cell_type": "code",
   "execution_count": 165,
   "id": "63f6138b",
   "metadata": {
    "slideshow": {
     "slide_type": "skip"
    }
   },
   "outputs": [],
   "source": [
    "import numpy as np"
   ]
  },
  {
   "cell_type": "code",
   "execution_count": 166,
   "id": "e92c861a",
   "metadata": {
    "id": "edc79f76",
    "outputId": "a762b494-3b76-412c-e022-e596bdcc665f",
    "slideshow": {
     "slide_type": "skip"
    }
   },
   "outputs": [
    {
     "data": {
      "text/plain": [
       "(17634, 92684)"
      ]
     },
     "execution_count": 166,
     "metadata": {},
     "output_type": "execute_result"
    }
   ],
   "source": [
    "np.array((MALE_HH_SAMPLE.shape[0], FEMALE_HH_SAMPLE.shape[0], YOUTH_HH_SAMPLE.shape[0])).sum(), len(df)"
   ]
  },
  {
   "cell_type": "code",
   "execution_count": 167,
   "id": "7f54a358",
   "metadata": {
    "id": "e16a7432",
    "slideshow": {
     "slide_type": "fragment"
    }
   },
   "outputs": [],
   "source": [
    "FINAL = pd.concat([MALE_HH_SAMPLE, FEMALE_HH_SAMPLE, YOUTH_HH_SAMPLE])"
   ]
  },
  {
   "cell_type": "code",
   "execution_count": 168,
   "id": "d85eade2",
   "metadata": {
    "id": "a397efd5",
    "slideshow": {
     "slide_type": "fragment"
    }
   },
   "outputs": [],
   "source": [
    "FINAL.to_excel('FINAL_Randomized.xlsx', index=False)"
   ]
  }
 ],
 "metadata": {
  "celltoolbar": "Slideshow",
  "colab": {
   "provenance": []
  },
  "kernelspec": {
   "display_name": "Python 3 (ipykernel)",
   "language": "python",
   "name": "python3"
  },
  "language_info": {
   "codemirror_mode": {
    "name": "ipython",
    "version": 3
   },
   "file_extension": ".py",
   "mimetype": "text/x-python",
   "name": "python",
   "nbconvert_exporter": "python",
   "pygments_lexer": "ipython3",
   "version": "3.10.9"
  }
 },
 "nbformat": 4,
 "nbformat_minor": 5
}
