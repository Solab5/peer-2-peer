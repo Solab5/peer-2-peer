{
 "cells": [
  {
   "cell_type": "markdown",
   "id": "d9dee8e3",
   "metadata": {
    "id": "9Vz_WZmMmpxl",
    "slideshow": {
     "slide_type": "slide"
    }
   },
   "source": [
    "### 01 Series Peer 2 Peer"
   ]
  },
  {
   "cell_type": "markdown",
   "id": "404ed29f",
   "metadata": {
    "id": "N71IxY32nEpd",
    "slideshow": {
     "slide_type": "notes"
    }
   },
   "source": [
    "Since we're working with tabular data, we'll be using the pandas library. This nifty tool will turn our dataset into a dataframe, which is just a fancy way of saying a table with rows and columns. Now, we won't be using the term 'table' much in this walkthrough. So, whenever you hear 'dataframe', just picture those neat rows and columns we're talking about."
   ]
  },
  {
   "cell_type": "markdown",
   "id": "9e0904e8",
   "metadata": {
    "id": "6rO2ihe0DZx2",
    "slideshow": {
     "slide_type": "notes"
    }
   },
   "source": [
    "To start utilizing a library in Python, you simply import it with the 'import' statement and then name the library. For convenience, 'pd' is often used as a shorthand alias for 'pandas', so we don't have to keep typing 'pandas' repeatedly. Let's go ahead and import it. While we won't go through every single pandas method here, you can always visit the official site at https://pandas.pydata.org/docs/user_guide/index.html to explore all the methods pandas offers."
   ]
  },
  {
   "cell_type": "code",
   "execution_count": null,
   "id": "4c6718e8",
   "metadata": {
    "id": "f064745d",
    "slideshow": {
     "slide_type": "fragment"
    }
   },
   "outputs": [],
   "source": [
    "import pandas as pd"
   ]
  },
  {
   "cell_type": "markdown",
   "id": "89df631d",
   "metadata": {
    "id": "sdMna3j9Et_K",
    "slideshow": {
     "slide_type": "notes"
    }
   },
   "source": [
    "Python, like any other programming language, allows you to use variables to store information. This means that if you ever need to use this information again, you can simply recall the variable name."
   ]
  },
  {
   "cell_type": "markdown",
   "id": "95ab92f9",
   "metadata": {
    "slideshow": {
     "slide_type": "slide"
    }
   },
   "source": [
    "### Variables"
   ]
  },
  {
   "cell_type": "markdown",
   "id": "cc67acd5",
   "metadata": {
    "id": "UlN1p_9BFjKU",
    "slideshow": {
     "slide_type": "fragment"
    }
   },
   "source": [
    "### Examples\n",
    "\n",
    "Let's assign some variables to a and b. This means that we are storing these 5 to a then 7 to b"
   ]
  },
  {
   "cell_type": "code",
   "execution_count": 1,
   "id": "6d71ff3e",
   "metadata": {
    "id": "UlN1p_9BFjKU",
    "slideshow": {
     "slide_type": "fragment"
    }
   },
   "outputs": [],
   "source": [
    "a = 5\n",
    "b = 7"
   ]
  },
  {
   "cell_type": "code",
   "execution_count": 2,
   "id": "6af93701",
   "metadata": {
    "colab": {
     "base_uri": "https://localhost:8080/"
    },
    "id": "ZElL6TTKGI5E",
    "outputId": "20c2916c-da35-4a83-e5e8-b01ab9909392",
    "slideshow": {
     "slide_type": "fragment"
    }
   },
   "outputs": [
    {
     "data": {
      "text/plain": [
       "(5, 7)"
      ]
     },
     "execution_count": 2,
     "metadata": {},
     "output_type": "execute_result"
    }
   ],
   "source": [
    "a, b"
   ]
  },
  {
   "cell_type": "markdown",
   "id": "08a72198",
   "metadata": {
    "id": "XEFGFKfkGLJa",
    "slideshow": {
     "slide_type": "notes"
    }
   },
   "source": [
    "If I print, you can see that a returns 5 whereas b returns 7. We are going to do the same and store our dataframe in a variable df. You can realize that you can get output without even using print function. but you can use it if you want, you will get the same results."
   ]
  },
  {
   "cell_type": "code",
   "execution_count": 4,
   "id": "1632898c",
   "metadata": {
    "id": "f064745d",
    "slideshow": {
     "slide_type": "slide"
    }
   },
   "outputs": [],
   "source": [
    "df = pd.read_excel(\"midwest2024.xlsx\")"
   ]
  },
  {
   "cell_type": "markdown",
   "id": "fc82879a",
   "metadata": {
    "id": "LzlTTabLD12s",
    "slideshow": {
     "slide_type": "fragment"
    }
   },
   "source": [
    "# Exploring Data with Pandas\n",
    "Most times when we read a file, we want to know what our data is all about for example how many variables it has, the number of observations and so on. Pandas provides very handy methods that can do this.\n",
    "\n",
    "- `df.shape` which returns the number of rows and columns of your table\n",
    "\n",
    "- `df.head()` which returns by default the first 5 rows of the dataframe."
   ]
  },
  {
   "cell_type": "code",
   "execution_count": 5,
   "id": "0f02cc2a",
   "metadata": {
    "colab": {
     "base_uri": "https://localhost:8080/",
     "height": 504
    },
    "id": "ab74a51a",
    "outputId": "12194158-8848-4224-8b9b-93fa90e4b285",
    "slideshow": {
     "slide_type": "slide"
    }
   },
   "outputs": [
    {
     "name": "stdout",
     "output_type": "stream",
     "text": [
      "(56262, 123)\n"
     ]
    },
    {
     "data": {
      "text/html": [
       "<div>\n",
       "<style scoped>\n",
       "    .dataframe tbody tr th:only-of-type {\n",
       "        vertical-align: middle;\n",
       "    }\n",
       "\n",
       "    .dataframe tbody tr th {\n",
       "        vertical-align: top;\n",
       "    }\n",
       "\n",
       "    .dataframe thead th {\n",
       "        text-align: right;\n",
       "    }\n",
       "</style>\n",
       "<table border=\"1\" class=\"dataframe\">\n",
       "  <thead>\n",
       "    <tr style=\"text-align: right;\">\n",
       "      <th></th>\n",
       "      <th>objectid</th>\n",
       "      <th>globalid</th>\n",
       "      <th>intro</th>\n",
       "      <th>date_visit</th>\n",
       "      <th>date_t</th>\n",
       "      <th>district</th>\n",
       "      <th>district_id</th>\n",
       "      <th>subcounty</th>\n",
       "      <th>parish_t</th>\n",
       "      <th>village</th>\n",
       "      <th>...</th>\n",
       "      <th>wash_metrics</th>\n",
       "      <th>demographics_score0</th>\n",
       "      <th>demographics_score</th>\n",
       "      <th>hh_tot_score</th>\n",
       "      <th>CreationDate</th>\n",
       "      <th>Creator</th>\n",
       "      <th>EditDate</th>\n",
       "      <th>Editor</th>\n",
       "      <th>x</th>\n",
       "      <th>y</th>\n",
       "    </tr>\n",
       "  </thead>\n",
       "  <tbody>\n",
       "    <tr>\n",
       "      <th>0</th>\n",
       "      <td>93</td>\n",
       "      <td>639d84c3-41bd-4376-bae6-c08f3d8ab87e</td>\n",
       "      <td>NaN</td>\n",
       "      <td>1706086800000</td>\n",
       "      <td>2024-01-24</td>\n",
       "      <td>Mitooma</td>\n",
       "      <td>5</td>\n",
       "      <td>Mitooma</td>\n",
       "      <td>Nyakishojwa</td>\n",
       "      <td>Kashasha</td>\n",
       "      <td>...</td>\n",
       "      <td>NaN</td>\n",
       "      <td>NaN</td>\n",
       "      <td>NaN</td>\n",
       "      <td>NaN</td>\n",
       "      <td>2024-01-24T05:35:02</td>\n",
       "      <td>rtvstaff</td>\n",
       "      <td>2024-01-24T05:35:02</td>\n",
       "      <td>rtvstaff</td>\n",
       "      <td>30.055685</td>\n",
       "      <td>-0.591898</td>\n",
       "    </tr>\n",
       "    <tr>\n",
       "      <th>1</th>\n",
       "      <td>95</td>\n",
       "      <td>d813992f-1578-4b9d-8120-a51f6b27fde9</td>\n",
       "      <td>NaN</td>\n",
       "      <td>1706086800000</td>\n",
       "      <td>2024-01-24</td>\n",
       "      <td>Mitooma</td>\n",
       "      <td>5</td>\n",
       "      <td>Mitooma</td>\n",
       "      <td>Nyakishojwa</td>\n",
       "      <td>Karoza_A</td>\n",
       "      <td>...</td>\n",
       "      <td>NaN</td>\n",
       "      <td>NaN</td>\n",
       "      <td>NaN</td>\n",
       "      <td>NaN</td>\n",
       "      <td>2024-01-24T05:36:47</td>\n",
       "      <td>rtvstaff</td>\n",
       "      <td>2024-01-24T05:36:47</td>\n",
       "      <td>rtvstaff</td>\n",
       "      <td>29.985151</td>\n",
       "      <td>-0.531977</td>\n",
       "    </tr>\n",
       "    <tr>\n",
       "      <th>2</th>\n",
       "      <td>96</td>\n",
       "      <td>5695df92-9aa9-4b3c-8dbe-89a5ea43cfd7</td>\n",
       "      <td>NaN</td>\n",
       "      <td>1706086800000</td>\n",
       "      <td>2024-01-24</td>\n",
       "      <td>Mitooma</td>\n",
       "      <td>5</td>\n",
       "      <td>Mitooma</td>\n",
       "      <td>Nyakishojwa</td>\n",
       "      <td>Kihunga_Nyakishowa</td>\n",
       "      <td>...</td>\n",
       "      <td>2.0</td>\n",
       "      <td>NaN</td>\n",
       "      <td>NaN</td>\n",
       "      <td>NaN</td>\n",
       "      <td>2024-01-24T05:38:01</td>\n",
       "      <td>rtvstaff</td>\n",
       "      <td>2024-01-24T05:38:01</td>\n",
       "      <td>rtvstaff</td>\n",
       "      <td>30.126462</td>\n",
       "      <td>-0.201384</td>\n",
       "    </tr>\n",
       "    <tr>\n",
       "      <th>3</th>\n",
       "      <td>97</td>\n",
       "      <td>033800ff-26b3-429e-9428-9cc291d844dc</td>\n",
       "      <td>NaN</td>\n",
       "      <td>1706086800000</td>\n",
       "      <td>2024-01-24</td>\n",
       "      <td>Mitooma</td>\n",
       "      <td>5</td>\n",
       "      <td>Mitooma</td>\n",
       "      <td>Nyakishojwa</td>\n",
       "      <td>Kaasha</td>\n",
       "      <td>...</td>\n",
       "      <td>2.0</td>\n",
       "      <td>NaN</td>\n",
       "      <td>NaN</td>\n",
       "      <td>NaN</td>\n",
       "      <td>2024-01-24T05:43:39</td>\n",
       "      <td>rtvstaff</td>\n",
       "      <td>2024-01-24T05:43:39</td>\n",
       "      <td>rtvstaff</td>\n",
       "      <td>30.026032</td>\n",
       "      <td>-0.644350</td>\n",
       "    </tr>\n",
       "    <tr>\n",
       "      <th>4</th>\n",
       "      <td>98</td>\n",
       "      <td>d4aa1a28-7c2e-4fab-bffc-4f5a51aa2d5d</td>\n",
       "      <td>NaN</td>\n",
       "      <td>1706086800000</td>\n",
       "      <td>2024-01-24</td>\n",
       "      <td>Mitooma</td>\n",
       "      <td>5</td>\n",
       "      <td>Mitooma</td>\n",
       "      <td>Nyakishojwa</td>\n",
       "      <td>Kibisho_A</td>\n",
       "      <td>...</td>\n",
       "      <td>2.0</td>\n",
       "      <td>NaN</td>\n",
       "      <td>NaN</td>\n",
       "      <td>NaN</td>\n",
       "      <td>2024-01-24T05:45:39</td>\n",
       "      <td>rtvstaff</td>\n",
       "      <td>2024-01-24T05:45:39</td>\n",
       "      <td>rtvstaff</td>\n",
       "      <td>30.028260</td>\n",
       "      <td>-0.585848</td>\n",
       "    </tr>\n",
       "  </tbody>\n",
       "</table>\n",
       "<p>5 rows × 123 columns</p>\n",
       "</div>"
      ],
      "text/plain": [
       "   objectid                              globalid  intro     date_visit  \\\n",
       "0        93  639d84c3-41bd-4376-bae6-c08f3d8ab87e    NaN  1706086800000   \n",
       "1        95  d813992f-1578-4b9d-8120-a51f6b27fde9    NaN  1706086800000   \n",
       "2        96  5695df92-9aa9-4b3c-8dbe-89a5ea43cfd7    NaN  1706086800000   \n",
       "3        97  033800ff-26b3-429e-9428-9cc291d844dc    NaN  1706086800000   \n",
       "4        98  d4aa1a28-7c2e-4fab-bffc-4f5a51aa2d5d    NaN  1706086800000   \n",
       "\n",
       "      date_t district  district_id subcounty     parish_t             village  \\\n",
       "0 2024-01-24  Mitooma            5   Mitooma  Nyakishojwa            Kashasha   \n",
       "1 2024-01-24  Mitooma            5   Mitooma  Nyakishojwa            Karoza_A   \n",
       "2 2024-01-24  Mitooma            5   Mitooma  Nyakishojwa  Kihunga_Nyakishowa   \n",
       "3 2024-01-24  Mitooma            5   Mitooma  Nyakishojwa              Kaasha   \n",
       "4 2024-01-24  Mitooma            5   Mitooma  Nyakishojwa           Kibisho_A   \n",
       "\n",
       "   ... wash_metrics demographics_score0  demographics_score  hh_tot_score  \\\n",
       "0  ...          NaN                 NaN                 NaN           NaN   \n",
       "1  ...          NaN                 NaN                 NaN           NaN   \n",
       "2  ...          2.0                 NaN                 NaN           NaN   \n",
       "3  ...          2.0                 NaN                 NaN           NaN   \n",
       "4  ...          2.0                 NaN                 NaN           NaN   \n",
       "\n",
       "          CreationDate   Creator             EditDate    Editor          x  \\\n",
       "0  2024-01-24T05:35:02  rtvstaff  2024-01-24T05:35:02  rtvstaff  30.055685   \n",
       "1  2024-01-24T05:36:47  rtvstaff  2024-01-24T05:36:47  rtvstaff  29.985151   \n",
       "2  2024-01-24T05:38:01  rtvstaff  2024-01-24T05:38:01  rtvstaff  30.126462   \n",
       "3  2024-01-24T05:43:39  rtvstaff  2024-01-24T05:43:39  rtvstaff  30.026032   \n",
       "4  2024-01-24T05:45:39  rtvstaff  2024-01-24T05:45:39  rtvstaff  30.028260   \n",
       "\n",
       "          y  \n",
       "0 -0.591898  \n",
       "1 -0.531977  \n",
       "2 -0.201384  \n",
       "3 -0.644350  \n",
       "4 -0.585848  \n",
       "\n",
       "[5 rows x 123 columns]"
      ]
     },
     "execution_count": 5,
     "metadata": {},
     "output_type": "execute_result"
    }
   ],
   "source": [
    "print(df.shape)\n",
    "df.head()"
   ]
  },
  {
   "cell_type": "markdown",
   "id": "44077e22",
   "metadata": {
    "slideshow": {
     "slide_type": "notes"
    }
   },
   "source": [
    "You can use the columns method that lists all the variable names, and call the `to_list()` function to wrap then in a list. A list is simply a data-structure that helps to store data. In python it's represented by closed brackets `[]`. There are other data structures including dictionaries, arrays and so on. We won't cover all of them but it's nice be aware of their existence. A very nice book I recommend about python basics is `think python` which you can find here. https://greenteapress.com/wp/think-python-2e/. It covers all the data structures used in python in detail. It's possible to do analysis without knowing python basics but knowing them will make you a better and efficient programmer. But for now, `Python for data analysis` is the best choice I can recommend for Analysis, https://wesmckinney.com/book/data-analysis-examples.html."
   ]
  },
  {
   "cell_type": "code",
   "execution_count": 6,
   "id": "99f79656",
   "metadata": {
    "colab": {
     "base_uri": "https://localhost:8080/"
    },
    "id": "177ba33d",
    "outputId": "3974aacd-f661-4c0f-819c-7b13392533f7",
    "slideshow": {
     "slide_type": "slide"
    }
   },
   "outputs": [
    {
     "data": {
      "text/plain": [
       "['objectid',\n",
       " 'globalid',\n",
       " 'intro',\n",
       " 'date_visit',\n",
       " 'date_t',\n",
       " 'district',\n",
       " 'district_id',\n",
       " 'subcounty',\n",
       " 'parish_t',\n",
       " 'village',\n",
       " 'surveyor',\n",
       " 'surveyor_n',\n",
       " 'conscent',\n",
       " 'lat_x',\n",
       " 'long_y',\n",
       " 'altit_z',\n",
       " 'long_y_f',\n",
       " 'lat_x_err',\n",
       " 'long_y_err',\n",
       " 'gps_err_r',\n",
       " 'gps_err_r_f',\n",
       " 'bad_gps_err',\n",
       " 'Household_Head_First_Name',\n",
       " 'Household_Head_Last_Name',\n",
       " 'hhh_full_name',\n",
       " 'Household_Head_Age',\n",
       " 'Household_Head_Contact',\n",
       " 'Marital_Status',\n",
       " 'Household_Head_Gender',\n",
       " 'Spouse_First_Name',\n",
       " 'Spouse_Last_Name',\n",
       " 'Spouse_Name',\n",
       " 'Spouse_Age',\n",
       " 'Telephone_Contact',\n",
       " 'tot_hhmembers',\n",
       " 'hh_married',\n",
       " 'hh_unmarried',\n",
       " 'hh_size_adjusted',\n",
       " 'fname1',\n",
       " 'hh_sex1',\n",
       " 'hh_age1',\n",
       " 'chld_sch1',\n",
       " 'fname2',\n",
       " 'hh_sex2',\n",
       " 'hh_age2',\n",
       " 'chld_sch2',\n",
       " 'fname3',\n",
       " 'hh_sex3',\n",
       " 'hh_age3',\n",
       " 'chld_sch3',\n",
       " 'fname4',\n",
       " 'hh_sex4',\n",
       " 'hh_age4',\n",
       " 'chld_sch4',\n",
       " 'fname5',\n",
       " 'hh_sex5',\n",
       " 'hh_age5',\n",
       " 'chld_sch5',\n",
       " 'fname6',\n",
       " 'hh_sex6',\n",
       " 'hh_age6',\n",
       " 'chld_sch6',\n",
       " 'fname7',\n",
       " 'hh_sex7',\n",
       " 'hh_age7',\n",
       " 'chld_sch7',\n",
       " 'fname8',\n",
       " 'hh_sex8',\n",
       " 'hh_age8',\n",
       " 'chld_sch8',\n",
       " 'fname9',\n",
       " 'hh_sex9',\n",
       " 'hh_age9',\n",
       " 'chld_sch9',\n",
       " 'fname10',\n",
       " 'hh_sex10',\n",
       " 'hh_age10',\n",
       " 'chld_sch10',\n",
       " 'fname11',\n",
       " 'hh_sex11',\n",
       " 'hh_age11',\n",
       " 'chld_sch11',\n",
       " 'fname12',\n",
       " 'hh_sex12',\n",
       " 'hh_age12',\n",
       " 'chld_sch12',\n",
       " 'key_string',\n",
       " 'hhid',\n",
       " 'hhs_income',\n",
       " 'hh_income_contributor',\n",
       " 'hh_dependents',\n",
       " 'hh_income_sources',\n",
       " 'hh_income_sources_num',\n",
       " 'saving_groups',\n",
       " 'lessen_shocks_num',\n",
       " 'major_economic_shock',\n",
       " 'land_acres',\n",
       " 'land_rent',\n",
       " 'rent_acres',\n",
       " 'hhs_meals',\n",
       " 'functional_latrine',\n",
       " 'hhs_chronic_illness',\n",
       " 'hhs_chronic',\n",
       " 'chronic_illness',\n",
       " 'hhh_age',\n",
       " 'member_household_impairment',\n",
       " 'impairment_productivity',\n",
       " 'impairment_type',\n",
       " 'hhs_income_earners_sc',\n",
       " 'hh_dependents_sc',\n",
       " 'hh_income_sources_sc',\n",
       " 'hhs_income_metrics',\n",
       " 'food_security_Nutrition_score',\n",
       " 'wash_metrics',\n",
       " 'demographics_score0',\n",
       " 'demographics_score',\n",
       " 'hh_tot_score',\n",
       " 'CreationDate',\n",
       " 'Creator',\n",
       " 'EditDate',\n",
       " 'Editor',\n",
       " 'x',\n",
       " 'y']"
      ]
     },
     "execution_count": 6,
     "metadata": {},
     "output_type": "execute_result"
    }
   ],
   "source": [
    "df.columns.to_list()"
   ]
  },
  {
   "cell_type": "markdown",
   "id": "e459ed74",
   "metadata": {
    "slideshow": {
     "slide_type": "notes"
    }
   },
   "source": [
    "For our randomization, we don't need all the columns, we can just pick the ones we want by defining them in a list. Let's assign a variable to the list. For now, we can name it `columns`."
   ]
  },
  {
   "cell_type": "code",
   "execution_count": 7,
   "id": "c96df86f",
   "metadata": {
    "id": "861b8440",
    "slideshow": {
     "slide_type": "slide"
    }
   },
   "outputs": [],
   "source": [
    "columns = [\n",
    " 'district',\n",
    " 'subcounty',\n",
    " 'parish_t',\n",
    " 'village',\n",
    " 'hhh_full_name',\n",
    " 'Household_Head_Age',\n",
    " 'Household_Head_Contact',\n",
    " 'Household_Head_Gender',\n",
    " 'hhid',\n",
    " ]"
   ]
  },
  {
   "cell_type": "markdown",
   "id": "5197119b",
   "metadata": {
    "slideshow": {
     "slide_type": "notes"
    }
   },
   "source": [
    "When you apply a mask to your dataframe, it's like giving it a new shape, only showing the columns you tell it to. It's a bit like magic! Just remember, when you reassign 'df', you're basically telling the old one to take a hike, because there's a new dataframe in town."
   ]
  },
  {
   "cell_type": "code",
   "execution_count": 8,
   "id": "ed2080a1",
   "metadata": {
    "id": "dd11ea74",
    "slideshow": {
     "slide_type": "fragment"
    }
   },
   "outputs": [],
   "source": [
    "df = df[columns]"
   ]
  },
  {
   "cell_type": "markdown",
   "id": "1432bafb",
   "metadata": {
    "slideshow": {
     "slide_type": "notes"
    }
   },
   "source": [
    "Pandas has another interesting method that gives you the counts of each category in a particular column. It's super handy when you're trying to get a quick overview of your data and see which categories are the most common. Just a few lines of code, and you've got yourself a neat little summary of your dataset!"
   ]
  },
  {
   "cell_type": "code",
   "execution_count": 9,
   "id": "1eae3e88",
   "metadata": {
    "id": "36f9251e-efd4-4782-a18e-7d3d1799a77f",
    "outputId": "c64f2015-fae2-43ae-d1da-3b58eaddb84e",
    "slideshow": {
     "slide_type": "slide"
    }
   },
   "outputs": [
    {
     "data": {
      "text/plain": [
       "district\n",
       "Kiryandongo    11934\n",
       "Kibaale         7803\n",
       "Mitooma         5746\n",
       "Rukungiri       5121\n",
       "Rubanda         4953\n",
       "Rubirizi        4112\n",
       "Rukiga          3954\n",
       "Kakumiro        3322\n",
       "Kyenjojo        2777\n",
       "Kagadi          2476\n",
       "Buhweju         2051\n",
       "Bunyangabu      1252\n",
       "Kanungu          761\n",
       "Name: count, dtype: int64"
      ]
     },
     "execution_count": 9,
     "metadata": {},
     "output_type": "execute_result"
    }
   ],
   "source": [
    "df['district'].value_counts()"
   ]
  },
  {
   "cell_type": "markdown",
   "id": "6865433a",
   "metadata": {
    "slideshow": {
     "slide_type": "notes"
    }
   },
   "source": [
    "In fact, when you're crunching numbers and diving into data analysis, tweaking a few parameters can make a world of difference. For instance, setting normalize=True is like flipping a switch that transforms raw numbers into proportions. It's a nifty trick that comes in handy almost daily, especially when you're piecing together reports and need to present your findings in a way that's easy to digest."
   ]
  },
  {
   "cell_type": "code",
   "execution_count": 10,
   "id": "2469a7dd",
   "metadata": {
    "id": "36f9251e-efd4-4782-a18e-7d3d1799a77f",
    "outputId": "c64f2015-fae2-43ae-d1da-3b58eaddb84e",
    "slideshow": {
     "slide_type": "fragment"
    }
   },
   "outputs": [
    {
     "data": {
      "text/plain": [
       "district\n",
       "Kiryandongo    0.212115\n",
       "Kibaale        0.138690\n",
       "Mitooma        0.102129\n",
       "Rukungiri      0.091021\n",
       "Rubanda        0.088035\n",
       "Rubirizi       0.073087\n",
       "Rukiga         0.070278\n",
       "Kakumiro       0.059045\n",
       "Kyenjojo       0.049358\n",
       "Kagadi         0.044008\n",
       "Buhweju        0.036454\n",
       "Bunyangabu     0.022253\n",
       "Kanungu        0.013526\n",
       "Name: proportion, dtype: float64"
      ]
     },
     "execution_count": 10,
     "metadata": {},
     "output_type": "execute_result"
    }
   ],
   "source": [
    "df['district'].value_counts(normalize=True)"
   ]
  },
  {
   "cell_type": "markdown",
   "id": "3f814dff",
   "metadata": {
    "slideshow": {
     "slide_type": "slide"
    }
   },
   "source": [
    "### Duplicates"
   ]
  },
  {
   "cell_type": "markdown",
   "id": "1f43c8c8",
   "metadata": {
    "slideshow": {
     "slide_type": "notes"
    }
   },
   "source": [
    "Since we are trying to do randomization, we don't want any case of duplicated values. Thankfully, pandas has support for us. We can just use the method drop_duplicates, and pass in the `column` where we want to get rid of duplicates. \n",
    "\n",
    "A duplicate means some values are repeating, so using 'first' retains the first occurrence, whereas 'last' would return the last duplicated value."
   ]
  },
  {
   "cell_type": "code",
   "execution_count": null,
   "id": "398f1086",
   "metadata": {
    "id": "9bddb919-95d6-4f38-9f3b-ffb36439ae00",
    "slideshow": {
     "slide_type": "fragment"
    }
   },
   "outputs": [],
   "source": [
    "df = df.drop_duplicates('hhid', keep='first')"
   ]
  },
  {
   "cell_type": "markdown",
   "id": "9892c8d2",
   "metadata": {
    "id": "9bddb919-95d6-4f38-9f3b-ffb36439ae00",
    "slideshow": {
     "slide_type": "notes"
    }
   },
   "source": [
    "Filtering is a common task in data manipulation, especially when you need to focus on a specific subset of data. For instance, if you're only interested in analyzing data from Kiryandongo district, you can easily filter out the rest. Here's how you do it: simply use the filtering code (==) to isolate Kiryandongo's data. The beauty of it is that you can assign this filtered data to a new variable, keeping your original dataframe intact for further use."
   ]
  },
  {
   "cell_type": "markdown",
   "id": "697f37f8",
   "metadata": {
    "slideshow": {
     "slide_type": "slide"
    }
   },
   "source": [
    "### Filtering"
   ]
  },
  {
   "cell_type": "code",
   "execution_count": 12,
   "id": "a86a343b",
   "metadata": {
    "id": "9c8e5826",
    "slideshow": {
     "slide_type": "fragment"
    }
   },
   "outputs": [],
   "source": [
    "Kiryandongo = df[df['district'] == 'Kiryandongo']"
   ]
  },
  {
   "cell_type": "code",
   "execution_count": 13,
   "id": "ee7637fe",
   "metadata": {
    "slideshow": {
     "slide_type": "fragment"
    }
   },
   "outputs": [
    {
     "data": {
      "text/plain": [
       "(11905, 9)"
      ]
     },
     "execution_count": 13,
     "metadata": {},
     "output_type": "execute_result"
    }
   ],
   "source": [
    "Kiryandongo.shape"
   ]
  },
  {
   "cell_type": "markdown",
   "id": "e7195563",
   "metadata": {
    "slideshow": {
     "slide_type": "slide"
    }
   },
   "source": [
    "### Creating new variables"
   ]
  },
  {
   "cell_type": "code",
   "execution_count": 14,
   "id": "776fd7c7",
   "metadata": {
    "id": "85b6f7a8",
    "outputId": "49dd801c-79d9-42b3-dd17-09d582d1b6d6",
    "slideshow": {
     "slide_type": "fragment"
    }
   },
   "outputs": [
    {
     "data": {
      "text/plain": [
       "Household_Head_Gender\n",
       "Male      41386\n",
       "Female    14801\n",
       "Name: count, dtype: int64"
      ]
     },
     "execution_count": 14,
     "metadata": {},
     "output_type": "execute_result"
    }
   ],
   "source": [
    "df['Household_Head_Gender'].value_counts()"
   ]
  },
  {
   "cell_type": "markdown",
   "id": "ef443161",
   "metadata": {
    "slideshow": {
     "slide_type": "notes"
    }
   },
   "source": [
    "We have females and males but we need to include youths in our sampling. Its a bad idea to always change values of an original variable. Let's create a new variable and make all our changes on it. Generating an new variable is very simple using pandas, Just mask the dataframe with the name of the new variable on the left. The right should have the content of this new variable. The code below just shows that generate a new variable, name it Gender and populate it values of Household head gender."
   ]
  },
  {
   "cell_type": "code",
   "execution_count": 15,
   "id": "f3b39ade",
   "metadata": {
    "id": "be91d1c0",
    "slideshow": {
     "slide_type": "fragment"
    }
   },
   "outputs": [],
   "source": [
    "df['Gender'] = df['Household_Head_Gender']"
   ]
  },
  {
   "cell_type": "markdown",
   "id": "2a3bf195",
   "metadata": {
    "slideshow": {
     "slide_type": "notes"
    }
   },
   "source": [
    "If you print, the first two rows, you can notice that the Household_Head_Gender and Gender variable have the same contents"
   ]
  },
  {
   "cell_type": "code",
   "execution_count": 16,
   "id": "40ec41be",
   "metadata": {
    "id": "5fc8f60b",
    "outputId": "90872647-2da1-4845-d772-a9a0259e5125",
    "slideshow": {
     "slide_type": "fragment"
    }
   },
   "outputs": [
    {
     "data": {
      "text/html": [
       "<div>\n",
       "<style scoped>\n",
       "    .dataframe tbody tr th:only-of-type {\n",
       "        vertical-align: middle;\n",
       "    }\n",
       "\n",
       "    .dataframe tbody tr th {\n",
       "        vertical-align: top;\n",
       "    }\n",
       "\n",
       "    .dataframe thead th {\n",
       "        text-align: right;\n",
       "    }\n",
       "</style>\n",
       "<table border=\"1\" class=\"dataframe\">\n",
       "  <thead>\n",
       "    <tr style=\"text-align: right;\">\n",
       "      <th></th>\n",
       "      <th>district</th>\n",
       "      <th>subcounty</th>\n",
       "      <th>parish_t</th>\n",
       "      <th>village</th>\n",
       "      <th>hhh_full_name</th>\n",
       "      <th>Household_Head_Age</th>\n",
       "      <th>Household_Head_Contact</th>\n",
       "      <th>Household_Head_Gender</th>\n",
       "      <th>hhid</th>\n",
       "      <th>Gender</th>\n",
       "    </tr>\n",
       "  </thead>\n",
       "  <tbody>\n",
       "    <tr>\n",
       "      <th>0</th>\n",
       "      <td>Mitooma</td>\n",
       "      <td>Mitooma</td>\n",
       "      <td>Nyakishojwa</td>\n",
       "      <td>Kashasha</td>\n",
       "      <td>Kyomuhangi Jadress</td>\n",
       "      <td>79</td>\n",
       "      <td>0763-25-28-10</td>\n",
       "      <td>Female</td>\n",
       "      <td>Mit-Kas-Kyo-F-082932-5</td>\n",
       "      <td>Female</td>\n",
       "    </tr>\n",
       "    <tr>\n",
       "      <th>1</th>\n",
       "      <td>Mitooma</td>\n",
       "      <td>Mitooma</td>\n",
       "      <td>Nyakishojwa</td>\n",
       "      <td>Karoza_A</td>\n",
       "      <td>Nuwagaba Charity</td>\n",
       "      <td>43</td>\n",
       "      <td>0778-56-33-66</td>\n",
       "      <td>Female</td>\n",
       "      <td>Mit-Kar-Nuw-F-082625-5</td>\n",
       "      <td>Female</td>\n",
       "    </tr>\n",
       "  </tbody>\n",
       "</table>\n",
       "</div>"
      ],
      "text/plain": [
       "  district subcounty     parish_t   village       hhh_full_name  \\\n",
       "0  Mitooma   Mitooma  Nyakishojwa  Kashasha  Kyomuhangi Jadress   \n",
       "1  Mitooma   Mitooma  Nyakishojwa  Karoza_A    Nuwagaba Charity   \n",
       "\n",
       "   Household_Head_Age Household_Head_Contact Household_Head_Gender  \\\n",
       "0                  79          0763-25-28-10                Female   \n",
       "1                  43          0778-56-33-66                Female   \n",
       "\n",
       "                     hhid  Gender  \n",
       "0  Mit-Kas-Kyo-F-082932-5  Female  \n",
       "1  Mit-Kar-Nuw-F-082625-5  Female  "
      ]
     },
     "execution_count": 16,
     "metadata": {},
     "output_type": "execute_result"
    }
   ],
   "source": [
    "df.head(2)"
   ]
  },
  {
   "cell_type": "markdown",
   "id": "1b12debb",
   "metadata": {
    "slideshow": {
     "slide_type": "slide"
    }
   },
   "source": [
    "## functions"
   ]
  },
  {
   "cell_type": "markdown",
   "id": "cc43d937",
   "metadata": {
    "slideshow": {
     "slide_type": "notes"
    }
   },
   "source": [
    "In programming, functions are like your go-to tools for tasks you perform often. When it comes to data analysis, I've found that lambda functions are just slicker and quicker for whipping things into shape. Take this code below for instance.\n",
    "\n",
    "Here's the breakdown:\n",
    "- Spot a row with a value 30 or less? Tag it as 'Youth Headed'.\n",
    "- Otherwise, keep it as 'Male' or 'Female', but tack on 'Headed' to get 'Male Headed' or 'Female Headed'."
   ]
  },
  {
   "cell_type": "code",
   "execution_count": 17,
   "id": "e5bc3d57",
   "metadata": {
    "id": "3ea6b1cd",
    "slideshow": {
     "slide_type": "fragment"
    }
   },
   "outputs": [],
   "source": [
    "df['Household_Head_Gender'] = df.apply(\n",
    "    lambda row: 'Youth Headed' \n",
    "    if row['Household_Head_Age'] <= 30 \n",
    "    else str(row['Household_Head_Gender']) + ' Headed', axis=1\n",
    ")"
   ]
  },
  {
   "cell_type": "markdown",
   "id": "1ef771dc",
   "metadata": {
    "slideshow": {
     "slide_type": "notes"
    }
   },
   "source": [
    "The code below does exactly what we have done above, but you realize it's more complex than the latter. You might not prefer this but its good to understand how functions work because sometimes they are the deal."
   ]
  },
  {
   "cell_type": "code",
   "execution_count": 18,
   "id": "d257bc58",
   "metadata": {
    "slideshow": {
     "slide_type": "fragment"
    }
   },
   "outputs": [],
   "source": [
    "# def add_age(df, variable, age):\n",
    "#     for index, row in df.iterrows():\n",
    "#         if row[age] <= 30:\n",
    "#             df.at[index, variable] = 'Youth Headed'\n",
    "#         else:\n",
    "#             df.at[index, variable] = str(row[variable]) + ' Headed'"
   ]
  },
  {
   "cell_type": "markdown",
   "id": "640b6d2a",
   "metadata": {
    "slideshow": {
     "slide_type": "notes"
    }
   },
   "source": [
    "We can apply the function like this by passing in the parameters, I did both ways, but the first one is even faster than this."
   ]
  },
  {
   "cell_type": "code",
   "execution_count": 19,
   "id": "f7bf3a53",
   "metadata": {
    "slideshow": {
     "slide_type": "fragment"
    }
   },
   "outputs": [],
   "source": [
    "# add_age(df, 'Household_Head_Gender','Household_Head_Age')"
   ]
  },
  {
   "cell_type": "code",
   "execution_count": 20,
   "id": "32591369",
   "metadata": {
    "slideshow": {
     "slide_type": "slide"
    }
   },
   "outputs": [
    {
     "data": {
      "text/html": [
       "<div>\n",
       "<style scoped>\n",
       "    .dataframe tbody tr th:only-of-type {\n",
       "        vertical-align: middle;\n",
       "    }\n",
       "\n",
       "    .dataframe tbody tr th {\n",
       "        vertical-align: top;\n",
       "    }\n",
       "\n",
       "    .dataframe thead th {\n",
       "        text-align: right;\n",
       "    }\n",
       "</style>\n",
       "<table border=\"1\" class=\"dataframe\">\n",
       "  <thead>\n",
       "    <tr style=\"text-align: right;\">\n",
       "      <th></th>\n",
       "      <th>district</th>\n",
       "      <th>subcounty</th>\n",
       "      <th>parish_t</th>\n",
       "      <th>village</th>\n",
       "      <th>hhh_full_name</th>\n",
       "      <th>Household_Head_Age</th>\n",
       "      <th>Household_Head_Contact</th>\n",
       "      <th>Household_Head_Gender</th>\n",
       "      <th>hhid</th>\n",
       "      <th>Gender</th>\n",
       "    </tr>\n",
       "  </thead>\n",
       "  <tbody>\n",
       "    <tr>\n",
       "      <th>0</th>\n",
       "      <td>Mitooma</td>\n",
       "      <td>Mitooma</td>\n",
       "      <td>Nyakishojwa</td>\n",
       "      <td>Kashasha</td>\n",
       "      <td>Kyomuhangi Jadress</td>\n",
       "      <td>79</td>\n",
       "      <td>0763-25-28-10</td>\n",
       "      <td>Female Headed</td>\n",
       "      <td>Mit-Kas-Kyo-F-082932-5</td>\n",
       "      <td>Female</td>\n",
       "    </tr>\n",
       "    <tr>\n",
       "      <th>1</th>\n",
       "      <td>Mitooma</td>\n",
       "      <td>Mitooma</td>\n",
       "      <td>Nyakishojwa</td>\n",
       "      <td>Karoza_A</td>\n",
       "      <td>Nuwagaba Charity</td>\n",
       "      <td>43</td>\n",
       "      <td>0778-56-33-66</td>\n",
       "      <td>Female Headed</td>\n",
       "      <td>Mit-Kar-Nuw-F-082625-5</td>\n",
       "      <td>Female</td>\n",
       "    </tr>\n",
       "    <tr>\n",
       "      <th>2</th>\n",
       "      <td>Mitooma</td>\n",
       "      <td>Mitooma</td>\n",
       "      <td>Nyakishojwa</td>\n",
       "      <td>Kihunga_Nyakishowa</td>\n",
       "      <td>Twogirwe Mollias</td>\n",
       "      <td>36</td>\n",
       "      <td>0773-35-56-76</td>\n",
       "      <td>Female Headed</td>\n",
       "      <td>Mit-Kih-Two-F-083135-5</td>\n",
       "      <td>Female</td>\n",
       "    </tr>\n",
       "    <tr>\n",
       "      <th>3</th>\n",
       "      <td>Mitooma</td>\n",
       "      <td>Mitooma</td>\n",
       "      <td>Nyakishojwa</td>\n",
       "      <td>Kaasha</td>\n",
       "      <td>Nomuhwezi Felix</td>\n",
       "      <td>57</td>\n",
       "      <td>0774-39-61-02</td>\n",
       "      <td>Male Headed</td>\n",
       "      <td>Mit-Kaa-Nom-M-082154-5</td>\n",
       "      <td>Male</td>\n",
       "    </tr>\n",
       "    <tr>\n",
       "      <th>4</th>\n",
       "      <td>Mitooma</td>\n",
       "      <td>Mitooma</td>\n",
       "      <td>Nyakishojwa</td>\n",
       "      <td>Kibisho_A</td>\n",
       "      <td>Mauda Ndebwomwe</td>\n",
       "      <td>67</td>\n",
       "      <td>0706-94-93-06</td>\n",
       "      <td>Female Headed</td>\n",
       "      <td>Mit-Kib-Mau-F-083009-5</td>\n",
       "      <td>Female</td>\n",
       "    </tr>\n",
       "  </tbody>\n",
       "</table>\n",
       "</div>"
      ],
      "text/plain": [
       "  district subcounty     parish_t             village       hhh_full_name  \\\n",
       "0  Mitooma   Mitooma  Nyakishojwa            Kashasha  Kyomuhangi Jadress   \n",
       "1  Mitooma   Mitooma  Nyakishojwa            Karoza_A    Nuwagaba Charity   \n",
       "2  Mitooma   Mitooma  Nyakishojwa  Kihunga_Nyakishowa    Twogirwe Mollias   \n",
       "3  Mitooma   Mitooma  Nyakishojwa              Kaasha     Nomuhwezi Felix   \n",
       "4  Mitooma   Mitooma  Nyakishojwa           Kibisho_A     Mauda Ndebwomwe   \n",
       "\n",
       "   Household_Head_Age Household_Head_Contact Household_Head_Gender  \\\n",
       "0                  79          0763-25-28-10         Female Headed   \n",
       "1                  43          0778-56-33-66         Female Headed   \n",
       "2                  36          0773-35-56-76         Female Headed   \n",
       "3                  57          0774-39-61-02           Male Headed   \n",
       "4                  67          0706-94-93-06         Female Headed   \n",
       "\n",
       "                     hhid  Gender  \n",
       "0  Mit-Kas-Kyo-F-082932-5  Female  \n",
       "1  Mit-Kar-Nuw-F-082625-5  Female  \n",
       "2  Mit-Kih-Two-F-083135-5  Female  \n",
       "3  Mit-Kaa-Nom-M-082154-5    Male  \n",
       "4  Mit-Kib-Mau-F-083009-5  Female  "
      ]
     },
     "execution_count": 20,
     "metadata": {},
     "output_type": "execute_result"
    }
   ],
   "source": [
    "df.head()"
   ]
  },
  {
   "cell_type": "code",
   "execution_count": 21,
   "id": "b3559cad",
   "metadata": {
    "slideshow": {
     "slide_type": "slide"
    }
   },
   "outputs": [
    {
     "data": {
      "text/plain": [
       "Household_Head_Gender\n",
       "Male Headed      29105\n",
       "Youth Headed     14634\n",
       "Female Headed    12448\n",
       "Name: count, dtype: int64"
      ]
     },
     "execution_count": 21,
     "metadata": {},
     "output_type": "execute_result"
    }
   ],
   "source": [
    "df['Household_Head_Gender'].value_counts()"
   ]
  },
  {
   "cell_type": "markdown",
   "id": "91f80b38",
   "metadata": {
    "slideshow": {
     "slide_type": "notes"
    }
   },
   "source": [
    "Violla, you can see that we now have three categories with Youth included. We can get rid of the Gender and age columns since we nolonger need them. Pandas has another drop method. You just pass in a list of the columns you want to delete. Setting Inplace to true just makes the change parmanent. False makes it temporary."
   ]
  },
  {
   "cell_type": "markdown",
   "id": "ded9fca7",
   "metadata": {
    "slideshow": {
     "slide_type": "slide"
    }
   },
   "source": [
    "### Dropping columns"
   ]
  },
  {
   "cell_type": "code",
   "execution_count": 22,
   "id": "51fc5b21",
   "metadata": {
    "id": "84328628",
    "slideshow": {
     "slide_type": "fragment"
    }
   },
   "outputs": [],
   "source": [
    "df.drop(columns=['Gender','Household_Head_Age'], inplace=True)"
   ]
  },
  {
   "cell_type": "markdown",
   "id": "72002fb8",
   "metadata": {
    "slideshow": {
     "slide_type": "fragment"
    }
   },
   "source": [
    "We can make filter subsets for these gender types using the tricks that we've learnt and store them in variables."
   ]
  },
  {
   "cell_type": "code",
   "execution_count": 23,
   "id": "806f1cc2",
   "metadata": {
    "id": "1d3bf62c",
    "slideshow": {
     "slide_type": "fragment"
    }
   },
   "outputs": [],
   "source": [
    "male_HH_samp_frame = df[df['Household_Head_Gender']=='Male Headed']\n",
    "female_HH_samp_frame = df[df['Household_Head_Gender']=='Female Headed']\n",
    "youth_HH_samp_frame = df[df['Household_Head_Gender']=='Youth Headed']"
   ]
  },
  {
   "cell_type": "code",
   "execution_count": 24,
   "id": "571d6cca",
   "metadata": {
    "id": "4a3eb44f",
    "outputId": "35f6d981-43af-4cbe-b4a8-3c08b6b3bea5",
    "slideshow": {
     "slide_type": "fragment"
    }
   },
   "outputs": [
    {
     "data": {
      "text/plain": [
       "((29105, 8), (12448, 8), (14634, 8))"
      ]
     },
     "execution_count": 24,
     "metadata": {},
     "output_type": "execute_result"
    }
   ],
   "source": [
    "male_HH_samp_frame.shape, female_HH_samp_frame.shape, youth_HH_samp_frame.shape"
   ]
  },
  {
   "cell_type": "code",
   "execution_count": 25,
   "id": "146668f3",
   "metadata": {
    "id": "07cfa959",
    "slideshow": {
     "slide_type": "skip"
    }
   },
   "outputs": [],
   "source": [
    "# male_HH_samp_frame.to_excel('mit/male_HH_samp_frame.xlsx', index=False)\n",
    "# female_HH_samp_frame.to_excel('mit/female_HH_samp_frame.xlsx', index=False)\n",
    "# youth_HH_samp_frame.to_excel('mit/youth_HH_samp_frame.xlsx', index=False)"
   ]
  },
  {
   "cell_type": "markdown",
   "id": "8e29dbbe",
   "metadata": {
    "slideshow": {
     "slide_type": "notes"
    }
   },
   "source": [
    "If you want to store these subsets as excel files you can use the to_excel method and pass in the path."
   ]
  },
  {
   "cell_type": "markdown",
   "id": "24319ba8",
   "metadata": {
    "slideshow": {
     "slide_type": "slide"
    }
   },
   "source": [
    "To take it slow, we are going to sample males, females and youths separately"
   ]
  },
  {
   "cell_type": "markdown",
   "id": "2b5e7afb",
   "metadata": {
    "slideshow": {
     "slide_type": "fragment"
    }
   },
   "source": [
    "Using our distribution\n",
    "- For villages > 100 samples we use 60 20 20 (Male Female Youths)\n",
    "- otherwise we use 50 25 25 (Male Female Youths)"
   ]
  },
  {
   "cell_type": "markdown",
   "id": "c8fe36fe",
   "metadata": {
    "slideshow": {
     "slide_type": "fragment"
    }
   },
   "source": [
    "for n >= 100 we need 30 sample, \n",
    "for n < 100 we need 24 samples"
   ]
  },
  {
   "cell_type": "markdown",
   "id": "1ded5b4b",
   "metadata": {
    "id": "0176c5b5",
    "slideshow": {
     "slide_type": "slide"
    }
   },
   "source": [
    "## Male Headed"
   ]
  },
  {
   "cell_type": "code",
   "execution_count": 27,
   "id": "a8381f59",
   "metadata": {
    "id": "09ad1f5f",
    "outputId": "952886ac-1990-454b-aa24-2e0c0f8025e0",
    "slideshow": {
     "slide_type": "fragment"
    }
   },
   "outputs": [
    {
     "data": {
      "text/plain": [
       "29105"
      ]
     },
     "execution_count": 27,
     "metadata": {},
     "output_type": "execute_result"
    }
   ],
   "source": [
    "len(male_HH_samp_frame)"
   ]
  },
  {
   "cell_type": "code",
   "execution_count": 28,
   "id": "1e737093",
   "metadata": {
    "slideshow": {
     "slide_type": "fragment"
    }
   },
   "outputs": [
    {
     "name": "stdout",
     "output_type": "stream",
     "text": [
      "60% of 30 is 18.0 whereas 50% of 24 is 12.0\n"
     ]
    }
   ],
   "source": [
    "# 60% of 30 and 60% of 24\n",
    "print(f\"60% of 30 is {0.6*30} whereas 50% of 24 is {0.5*24}\")"
   ]
  },
  {
   "cell_type": "code",
   "execution_count": 40,
   "id": "b3e7336e",
   "metadata": {
    "id": "80e33997",
    "slideshow": {
     "slide_type": "fragment"
    }
   },
   "outputs": [
    {
     "data": {
      "text/plain": [
       "18"
      ]
     },
     "execution_count": 40,
     "metadata": {},
     "output_type": "execute_result"
    }
   ],
   "source": [
    "sample_size = int(0.6*30)\n",
    "sample_size"
   ]
  },
  {
   "cell_type": "code",
   "execution_count": 30,
   "id": "d87af73a",
   "metadata": {
    "id": "0cfa982e-878e-4d04-a6bc-05828f0f71b6",
    "slideshow": {
     "slide_type": "fragment"
    }
   },
   "outputs": [],
   "source": [
    "threshold_count = 100"
   ]
  },
  {
   "cell_type": "code",
   "execution_count": 31,
   "id": "9e1c89c9",
   "metadata": {
    "id": "198ff912-eddf-4659-bc4f-8f468702a73a",
    "slideshow": {
     "slide_type": "slide"
    }
   },
   "outputs": [
    {
     "data": {
      "text/plain": [
       "village\n",
       "Kiogoma_1           850\n",
       "Itomero             570\n",
       "Kakindo_Nyamarwa    561\n",
       "Katulikire_A        539\n",
       "Katulikire_B        500\n",
       "                   ... \n",
       "Miniho_B             27\n",
       "Yeruzalemu_B         27\n",
       "Kyawaako             26\n",
       "Nyamigongo           23\n",
       "Kashagali_B          20\n",
       "Name: count, Length: 452, dtype: int64"
      ]
     },
     "execution_count": 31,
     "metadata": {},
     "output_type": "execute_result"
    }
   ],
   "source": [
    "village_counts = df['village'].value_counts()\n",
    "village_counts"
   ]
  },
  {
   "cell_type": "code",
   "execution_count": 32,
   "id": "0e9a9155",
   "metadata": {
    "slideshow": {
     "slide_type": "slide"
    }
   },
   "outputs": [
    {
     "data": {
      "text/plain": [
       "'Kashasha'"
      ]
     },
     "execution_count": 32,
     "metadata": {},
     "output_type": "execute_result"
    }
   ],
   "source": [
    "df['village'].iloc[0]"
   ]
  },
  {
   "cell_type": "code",
   "execution_count": 33,
   "id": "e3ce4141",
   "metadata": {
    "slideshow": {
     "slide_type": "fragment"
    }
   },
   "outputs": [
    {
     "data": {
      "text/plain": [
       "27"
      ]
     },
     "execution_count": 33,
     "metadata": {},
     "output_type": "execute_result"
    }
   ],
   "source": [
    "village_counts.get('Miniho_B')"
   ]
  },
  {
   "cell_type": "markdown",
   "id": "79e99f7c",
   "metadata": {
    "slideshow": {
     "slide_type": "notes"
    }
   },
   "source": [
    "What this function does is that it takes a sample, picks the village name by index, checks wether the sample number is greater than or equal to the threshold. Does the sampling depending on the number."
   ]
  },
  {
   "cell_type": "code",
   "execution_count": 38,
   "id": "5afa78b2",
   "metadata": {
    "id": "9a82b082-bc13-450a-98ff-904b3b330e5e",
    "slideshow": {
     "slide_type": "slide"
    }
   },
   "outputs": [],
   "source": [
    "def custom_sample(x):\n",
    "    village_name = x['village'].iloc[0]\n",
    "    if village_counts.get(village_name, 0) >= threshold_count:\n",
    "        return x.sample(n=min(len(x), sample_size))\n",
    "    else:\n",
    "        return x.sample(n=min(len(x), 12))"
   ]
  },
  {
   "cell_type": "markdown",
   "id": "6b73613d",
   "metadata": {
    "slideshow": {
     "slide_type": "notes"
    }
   },
   "source": [
    "Apply just works as our old lambda function, whereby you can "
   ]
  },
  {
   "cell_type": "code",
   "execution_count": 41,
   "id": "a99cffd5",
   "metadata": {
    "id": "c106d912-658c-4179-ab1d-41a5a2ccffd3",
    "slideshow": {
     "slide_type": "fragment"
    }
   },
   "outputs": [],
   "source": [
    "male_target_sample = male_HH_samp_frame.groupby('village', group_keys=False).apply(custom_sample)"
   ]
  },
  {
   "cell_type": "code",
   "execution_count": 42,
   "id": "1e233cfd",
   "metadata": {
    "id": "e3dd4d40",
    "outputId": "f22abf60-8a0c-4a11-f22c-0d8591d9ac56",
    "slideshow": {
     "slide_type": "fragment"
    }
   },
   "outputs": [
    {
     "data": {
      "text/plain": [
       "6787"
      ]
     },
     "execution_count": 42,
     "metadata": {},
     "output_type": "execute_result"
    }
   ],
   "source": [
    "len(male_target_sample)"
   ]
  },
  {
   "cell_type": "markdown",
   "id": "174f3390",
   "metadata": {
    "slideshow": {
     "slide_type": "slide"
    }
   },
   "source": [
    "We can generate a new column and assign a value target"
   ]
  },
  {
   "cell_type": "code",
   "execution_count": 43,
   "id": "92ffc92c",
   "metadata": {
    "id": "50f5ae21",
    "slideshow": {
     "slide_type": "fragment"
    }
   },
   "outputs": [],
   "source": [
    "male_target_sample['status'] = 'target'"
   ]
  },
  {
   "cell_type": "code",
   "execution_count": 44,
   "id": "cc029f94",
   "metadata": {
    "id": "bbd76c42",
    "outputId": "c28ecad2-9dc6-47fa-f176-3ae8923fd329",
    "slideshow": {
     "slide_type": "fragment"
    }
   },
   "outputs": [
    {
     "data": {
      "text/html": [
       "<div>\n",
       "<style scoped>\n",
       "    .dataframe tbody tr th:only-of-type {\n",
       "        vertical-align: middle;\n",
       "    }\n",
       "\n",
       "    .dataframe tbody tr th {\n",
       "        vertical-align: top;\n",
       "    }\n",
       "\n",
       "    .dataframe thead th {\n",
       "        text-align: right;\n",
       "    }\n",
       "</style>\n",
       "<table border=\"1\" class=\"dataframe\">\n",
       "  <thead>\n",
       "    <tr style=\"text-align: right;\">\n",
       "      <th></th>\n",
       "      <th>district</th>\n",
       "      <th>subcounty</th>\n",
       "      <th>parish_t</th>\n",
       "      <th>village</th>\n",
       "      <th>hhh_full_name</th>\n",
       "      <th>Household_Head_Contact</th>\n",
       "      <th>Household_Head_Gender</th>\n",
       "      <th>hhid</th>\n",
       "      <th>status</th>\n",
       "    </tr>\n",
       "  </thead>\n",
       "  <tbody>\n",
       "    <tr>\n",
       "      <th>1740</th>\n",
       "      <td>Buhweju</td>\n",
       "      <td>Kyahenda</td>\n",
       "      <td>Nyamihira</td>\n",
       "      <td>Akatojo</td>\n",
       "      <td>Jackson Musinguzi</td>\n",
       "      <td>0788-81-29-04</td>\n",
       "      <td>Male Headed</td>\n",
       "      <td>Buh-Aka-Jac-M-180309-14</td>\n",
       "      <td>target</td>\n",
       "    </tr>\n",
       "    <tr>\n",
       "      <th>3363</th>\n",
       "      <td>Buhweju</td>\n",
       "      <td>Kyahenda</td>\n",
       "      <td>Nyamihira</td>\n",
       "      <td>Akatojo</td>\n",
       "      <td>Pauson Katunguka</td>\n",
       "      <td>0772-98-63-99</td>\n",
       "      <td>Male Headed</td>\n",
       "      <td>Buh-Aka-Pau-M-100640-14</td>\n",
       "      <td>target</td>\n",
       "    </tr>\n",
       "    <tr>\n",
       "      <th>1737</th>\n",
       "      <td>Buhweju</td>\n",
       "      <td>Kyahenda</td>\n",
       "      <td>Nyamihira</td>\n",
       "      <td>Akatojo</td>\n",
       "      <td>Wilson Tuhame</td>\n",
       "      <td>0788-65-73-74</td>\n",
       "      <td>Male Headed</td>\n",
       "      <td>Buh-Aka-Wil-M-173148-14</td>\n",
       "      <td>target</td>\n",
       "    </tr>\n",
       "    <tr>\n",
       "      <th>3369</th>\n",
       "      <td>Buhweju</td>\n",
       "      <td>Kyahenda</td>\n",
       "      <td>Nyamihira</td>\n",
       "      <td>Akatojo</td>\n",
       "      <td>John Bundaga</td>\n",
       "      <td>0788-65-73-74</td>\n",
       "      <td>Male Headed</td>\n",
       "      <td>Buh-Aka-Joh-M-110920-14</td>\n",
       "      <td>target</td>\n",
       "    </tr>\n",
       "    <tr>\n",
       "      <th>3359</th>\n",
       "      <td>Buhweju</td>\n",
       "      <td>Kyahenda</td>\n",
       "      <td>Nyamihira</td>\n",
       "      <td>Akatojo</td>\n",
       "      <td>Isamen Nowamaani</td>\n",
       "      <td>0760-96-99-69</td>\n",
       "      <td>Male Headed</td>\n",
       "      <td>Buh-Aka-Isa-M-090850-14</td>\n",
       "      <td>target</td>\n",
       "    </tr>\n",
       "  </tbody>\n",
       "</table>\n",
       "</div>"
      ],
      "text/plain": [
       "     district subcounty   parish_t  village      hhh_full_name  \\\n",
       "1740  Buhweju  Kyahenda  Nyamihira  Akatojo  Jackson Musinguzi   \n",
       "3363  Buhweju  Kyahenda  Nyamihira  Akatojo   Pauson Katunguka   \n",
       "1737  Buhweju  Kyahenda  Nyamihira  Akatojo      Wilson Tuhame   \n",
       "3369  Buhweju  Kyahenda  Nyamihira  Akatojo       John Bundaga   \n",
       "3359  Buhweju  Kyahenda  Nyamihira  Akatojo   Isamen Nowamaani   \n",
       "\n",
       "     Household_Head_Contact Household_Head_Gender                     hhid  \\\n",
       "1740          0788-81-29-04           Male Headed  Buh-Aka-Jac-M-180309-14   \n",
       "3363          0772-98-63-99           Male Headed  Buh-Aka-Pau-M-100640-14   \n",
       "1737          0788-65-73-74           Male Headed  Buh-Aka-Wil-M-173148-14   \n",
       "3369          0788-65-73-74           Male Headed  Buh-Aka-Joh-M-110920-14   \n",
       "3359          0760-96-99-69           Male Headed  Buh-Aka-Isa-M-090850-14   \n",
       "\n",
       "      status  \n",
       "1740  target  \n",
       "3363  target  \n",
       "1737  target  \n",
       "3369  target  \n",
       "3359  target  "
      ]
     },
     "execution_count": 44,
     "metadata": {},
     "output_type": "execute_result"
    }
   ],
   "source": [
    "male_target_sample.head()"
   ]
  },
  {
   "cell_type": "markdown",
   "id": "47e2aa2a",
   "metadata": {
    "slideshow": {
     "slide_type": "notes"
    }
   },
   "source": [
    "Let's try to check the number of samples in Kako village, its 18"
   ]
  },
  {
   "cell_type": "code",
   "execution_count": 46,
   "id": "c6bc44a8",
   "metadata": {
    "id": "26a26ff4-e964-411a-a0f8-d61c2ea7e3a7",
    "outputId": "0854033c-0787-4d39-9c96-cad444214568",
    "slideshow": {
     "slide_type": "fragment"
    }
   },
   "outputs": [
    {
     "data": {
      "text/plain": [
       "18"
      ]
     },
     "execution_count": 46,
     "metadata": {},
     "output_type": "execute_result"
    }
   ],
   "source": [
    "len(male_target_sample[male_target_sample['village'] == 'Kako'])"
   ]
  },
  {
   "cell_type": "code",
   "execution_count": 47,
   "id": "7eb87430",
   "metadata": {
    "id": "57c40ea1",
    "slideshow": {
     "slide_type": "skip"
    }
   },
   "outputs": [],
   "source": [
    "# male_target_sample.to_excel('mit/male_target_sample.xlsx', index=False)"
   ]
  },
  {
   "cell_type": "markdown",
   "id": "e14fd116",
   "metadata": {
    "slideshow": {
     "slide_type": "slide"
    }
   },
   "source": [
    "But we need some reserves, let's do the same"
   ]
  },
  {
   "cell_type": "markdown",
   "id": "a97e664d",
   "metadata": {
    "id": "4b6293ee",
    "slideshow": {
     "slide_type": "slide"
    }
   },
   "source": [
    "## Reserve frame"
   ]
  },
  {
   "cell_type": "markdown",
   "id": "c2eda67e",
   "metadata": {
    "slideshow": {
     "slide_type": "notes"
    }
   },
   "source": [
    "we can drop the targets since we've already assigned them using the index"
   ]
  },
  {
   "cell_type": "code",
   "execution_count": 48,
   "id": "a0bdb8a3",
   "metadata": {
    "id": "2afb4fd5",
    "slideshow": {
     "slide_type": "fragment"
    }
   },
   "outputs": [],
   "source": [
    "male_reserve_s_frame = male_HH_samp_frame.drop(index = male_target_sample.index)"
   ]
  },
  {
   "cell_type": "code",
   "execution_count": 49,
   "id": "37fa6e37",
   "metadata": {
    "id": "d3ed3ca4",
    "slideshow": {
     "slide_type": "skip"
    }
   },
   "outputs": [],
   "source": [
    "# male_reserve_s_frame.to_excel('mit/male_reserve_s_frame.xlsx', index=False)"
   ]
  },
  {
   "cell_type": "code",
   "execution_count": 50,
   "id": "7ff7df3a",
   "metadata": {
    "id": "d5caae2a-9eb3-4cdc-aed8-07ca47334f8b",
    "slideshow": {
     "slide_type": "fragment"
    }
   },
   "outputs": [],
   "source": [
    "male_reserve_sample = male_reserve_s_frame.groupby('village', group_keys=False).apply(custom_sample)"
   ]
  },
  {
   "cell_type": "code",
   "execution_count": 51,
   "id": "b2b52665",
   "metadata": {
    "id": "ccfd39b7",
    "outputId": "62395bf4-395a-4e3d-9b51-0b2e82c534f8",
    "slideshow": {
     "slide_type": "fragment"
    }
   },
   "outputs": [
    {
     "data": {
      "text/html": [
       "<div>\n",
       "<style scoped>\n",
       "    .dataframe tbody tr th:only-of-type {\n",
       "        vertical-align: middle;\n",
       "    }\n",
       "\n",
       "    .dataframe tbody tr th {\n",
       "        vertical-align: top;\n",
       "    }\n",
       "\n",
       "    .dataframe thead th {\n",
       "        text-align: right;\n",
       "    }\n",
       "</style>\n",
       "<table border=\"1\" class=\"dataframe\">\n",
       "  <thead>\n",
       "    <tr style=\"text-align: right;\">\n",
       "      <th></th>\n",
       "      <th>district</th>\n",
       "      <th>subcounty</th>\n",
       "      <th>parish_t</th>\n",
       "      <th>village</th>\n",
       "      <th>hhh_full_name</th>\n",
       "      <th>Household_Head_Contact</th>\n",
       "      <th>Household_Head_Gender</th>\n",
       "      <th>hhid</th>\n",
       "      <th>status</th>\n",
       "    </tr>\n",
       "  </thead>\n",
       "  <tbody>\n",
       "    <tr>\n",
       "      <th>1726</th>\n",
       "      <td>Buhweju</td>\n",
       "      <td>Kyahenda</td>\n",
       "      <td>Nyamihira</td>\n",
       "      <td>Akatojo</td>\n",
       "      <td>Yowasi Nyangi</td>\n",
       "      <td>0788-65-73-74</td>\n",
       "      <td>Male Headed</td>\n",
       "      <td>Buh-Aka-Yow-M-151028-14</td>\n",
       "      <td>reserve</td>\n",
       "    </tr>\n",
       "    <tr>\n",
       "      <th>1719</th>\n",
       "      <td>Buhweju</td>\n",
       "      <td>Kyahenda</td>\n",
       "      <td>Nyamihira</td>\n",
       "      <td>Akatojo</td>\n",
       "      <td>Robert Manzi</td>\n",
       "      <td>0783-62-75-05</td>\n",
       "      <td>Male Headed</td>\n",
       "      <td>Buh-Aka-Rob-M-134714-14</td>\n",
       "      <td>reserve</td>\n",
       "    </tr>\n",
       "    <tr>\n",
       "      <th>1721</th>\n",
       "      <td>Buhweju</td>\n",
       "      <td>Kyahenda</td>\n",
       "      <td>Nyamihira</td>\n",
       "      <td>Akatojo</td>\n",
       "      <td>Gard Sabit</td>\n",
       "      <td>0788-65-73-74</td>\n",
       "      <td>Male Headed</td>\n",
       "      <td>Buh-Aka-Gar-M-140928-14</td>\n",
       "      <td>reserve</td>\n",
       "    </tr>\n",
       "    <tr>\n",
       "      <th>3378</th>\n",
       "      <td>Buhweju</td>\n",
       "      <td>Kyahenda</td>\n",
       "      <td>Nyamihira</td>\n",
       "      <td>Akatojo</td>\n",
       "      <td>Justus Banturaki</td>\n",
       "      <td>0778-76-35-38</td>\n",
       "      <td>Male Headed</td>\n",
       "      <td>Buh-Aka-Jus-M-123623-14</td>\n",
       "      <td>reserve</td>\n",
       "    </tr>\n",
       "    <tr>\n",
       "      <th>1728</th>\n",
       "      <td>Buhweju</td>\n",
       "      <td>Kyahenda</td>\n",
       "      <td>Nyamihira</td>\n",
       "      <td>Akatojo</td>\n",
       "      <td>Fuderi Tumusime</td>\n",
       "      <td>0772-47-91-23</td>\n",
       "      <td>Male Headed</td>\n",
       "      <td>Buh-Aka-Fud-M-153058-14</td>\n",
       "      <td>reserve</td>\n",
       "    </tr>\n",
       "  </tbody>\n",
       "</table>\n",
       "</div>"
      ],
      "text/plain": [
       "     district subcounty   parish_t  village     hhh_full_name  \\\n",
       "1726  Buhweju  Kyahenda  Nyamihira  Akatojo     Yowasi Nyangi   \n",
       "1719  Buhweju  Kyahenda  Nyamihira  Akatojo      Robert Manzi   \n",
       "1721  Buhweju  Kyahenda  Nyamihira  Akatojo        Gard Sabit   \n",
       "3378  Buhweju  Kyahenda  Nyamihira  Akatojo  Justus Banturaki   \n",
       "1728  Buhweju  Kyahenda  Nyamihira  Akatojo   Fuderi Tumusime   \n",
       "\n",
       "     Household_Head_Contact Household_Head_Gender                     hhid  \\\n",
       "1726          0788-65-73-74           Male Headed  Buh-Aka-Yow-M-151028-14   \n",
       "1719          0783-62-75-05           Male Headed  Buh-Aka-Rob-M-134714-14   \n",
       "1721          0788-65-73-74           Male Headed  Buh-Aka-Gar-M-140928-14   \n",
       "3378          0778-76-35-38           Male Headed  Buh-Aka-Jus-M-123623-14   \n",
       "1728          0772-47-91-23           Male Headed  Buh-Aka-Fud-M-153058-14   \n",
       "\n",
       "       status  \n",
       "1726  reserve  \n",
       "1719  reserve  \n",
       "1721  reserve  \n",
       "3378  reserve  \n",
       "1728  reserve  "
      ]
     },
     "execution_count": 51,
     "metadata": {},
     "output_type": "execute_result"
    }
   ],
   "source": [
    "male_reserve_sample['status'] = 'reserve'\n",
    "male_reserve_sample.head()"
   ]
  },
  {
   "cell_type": "code",
   "execution_count": 52,
   "id": "9e927f26",
   "metadata": {
    "id": "1fa5dabe-48fc-4670-aa88-091b032b18f0",
    "outputId": "0423bd4c-f5fa-48c9-9831-6c852c111019",
    "slideshow": {
     "slide_type": "fragment"
    }
   },
   "outputs": [
    {
     "data": {
      "text/plain": [
       "18"
      ]
     },
     "execution_count": 52,
     "metadata": {},
     "output_type": "execute_result"
    }
   ],
   "source": [
    "len(male_reserve_sample[male_reserve_sample['village'] == 'Kako'])"
   ]
  },
  {
   "cell_type": "code",
   "execution_count": 53,
   "id": "df70640c",
   "metadata": {
    "id": "ed57a534",
    "slideshow": {
     "slide_type": "skip"
    }
   },
   "outputs": [],
   "source": [
    "# male_reserve_sample.to_excel('mit/male_reserve_sample.xlsx', index=False)"
   ]
  },
  {
   "cell_type": "markdown",
   "id": "6782ee02",
   "metadata": {
    "slideshow": {
     "slide_type": "skip"
    }
   },
   "source": [
    "Let's combine the targets and reserves to come up with a complete sample for males"
   ]
  },
  {
   "cell_type": "markdown",
   "id": "154dc88a",
   "metadata": {
    "id": "c210c150",
    "slideshow": {
     "slide_type": "slide"
    }
   },
   "source": [
    "# Male Household Sample [Combining the Target and Reserve]"
   ]
  },
  {
   "cell_type": "code",
   "execution_count": 54,
   "id": "002607cf",
   "metadata": {
    "id": "d33254ad",
    "outputId": "34a62b6c-3cca-4cd9-8b9b-46a67d18dba9",
    "slideshow": {
     "slide_type": "fragment"
    }
   },
   "outputs": [
    {
     "data": {
      "text/plain": [
       "((6787, 9), (6614, 9))"
      ]
     },
     "execution_count": 54,
     "metadata": {},
     "output_type": "execute_result"
    }
   ],
   "source": [
    "male_target_sample.shape, male_reserve_sample.shape"
   ]
  },
  {
   "cell_type": "code",
   "execution_count": 55,
   "id": "5b0a32f2",
   "metadata": {
    "id": "6c290995",
    "slideshow": {
     "slide_type": "fragment"
    }
   },
   "outputs": [],
   "source": [
    "MALE_HH_SAMPLE = pd.concat([male_target_sample, male_reserve_sample])"
   ]
  },
  {
   "cell_type": "markdown",
   "id": "b5aab80d",
   "metadata": {
    "slideshow": {
     "slide_type": "fragment"
    }
   },
   "source": [
    "If you have data frames with primary keys, you can rather join using merge, You can google it up."
   ]
  },
  {
   "cell_type": "code",
   "execution_count": 56,
   "id": "61164c08",
   "metadata": {
    "id": "9736f93e"
   },
   "outputs": [],
   "source": [
    "# MALE_HH_SAMPLE.to_excel('mit/MALE_HH_SAMPLE.xlsx', index=False)"
   ]
  },
  {
   "cell_type": "markdown",
   "id": "eb0bc452",
   "metadata": {
    "id": "a1daf0d4",
    "slideshow": {
     "slide_type": "slide"
    }
   },
   "source": [
    "We are done, let's simply do the same for females and youths"
   ]
  },
  {
   "cell_type": "markdown",
   "id": "324904e9",
   "metadata": {
    "id": "3e0ac3ed",
    "slideshow": {
     "slide_type": "slide"
    }
   },
   "source": [
    "# FEMALE  Headed"
   ]
  },
  {
   "cell_type": "code",
   "execution_count": 57,
   "id": "c936a3dc",
   "metadata": {
    "id": "bb4e1a37",
    "outputId": "11deb01b-6d98-4bcd-fffb-ec25afa9b038",
    "slideshow": {
     "slide_type": "fragment"
    }
   },
   "outputs": [
    {
     "data": {
      "text/plain": [
       "12448"
      ]
     },
     "execution_count": 57,
     "metadata": {},
     "output_type": "execute_result"
    }
   ],
   "source": [
    "len(female_HH_samp_frame)"
   ]
  },
  {
   "cell_type": "code",
   "execution_count": 58,
   "id": "657c44e7",
   "metadata": {
    "id": "72cbb9f3",
    "outputId": "236a87ad-0547-4188-c7ff-bec7fc6c9f2c",
    "slideshow": {
     "slide_type": "skip"
    }
   },
   "outputs": [
    {
     "data": {
      "text/html": [
       "<div>\n",
       "<style scoped>\n",
       "    .dataframe tbody tr th:only-of-type {\n",
       "        vertical-align: middle;\n",
       "    }\n",
       "\n",
       "    .dataframe tbody tr th {\n",
       "        vertical-align: top;\n",
       "    }\n",
       "\n",
       "    .dataframe thead th {\n",
       "        text-align: right;\n",
       "    }\n",
       "</style>\n",
       "<table border=\"1\" class=\"dataframe\">\n",
       "  <thead>\n",
       "    <tr style=\"text-align: right;\">\n",
       "      <th></th>\n",
       "      <th>district</th>\n",
       "      <th>subcounty</th>\n",
       "      <th>parish_t</th>\n",
       "      <th>village</th>\n",
       "      <th>hhh_full_name</th>\n",
       "      <th>Household_Head_Contact</th>\n",
       "      <th>Household_Head_Gender</th>\n",
       "      <th>hhid</th>\n",
       "    </tr>\n",
       "  </thead>\n",
       "  <tbody>\n",
       "    <tr>\n",
       "      <th>0</th>\n",
       "      <td>Mitooma</td>\n",
       "      <td>Mitooma</td>\n",
       "      <td>Nyakishojwa</td>\n",
       "      <td>Kashasha</td>\n",
       "      <td>Kyomuhangi Jadress</td>\n",
       "      <td>0763-25-28-10</td>\n",
       "      <td>Female Headed</td>\n",
       "      <td>Mit-Kas-Kyo-F-082932-5</td>\n",
       "    </tr>\n",
       "    <tr>\n",
       "      <th>1</th>\n",
       "      <td>Mitooma</td>\n",
       "      <td>Mitooma</td>\n",
       "      <td>Nyakishojwa</td>\n",
       "      <td>Karoza_A</td>\n",
       "      <td>Nuwagaba Charity</td>\n",
       "      <td>0778-56-33-66</td>\n",
       "      <td>Female Headed</td>\n",
       "      <td>Mit-Kar-Nuw-F-082625-5</td>\n",
       "    </tr>\n",
       "    <tr>\n",
       "      <th>2</th>\n",
       "      <td>Mitooma</td>\n",
       "      <td>Mitooma</td>\n",
       "      <td>Nyakishojwa</td>\n",
       "      <td>Kihunga_Nyakishowa</td>\n",
       "      <td>Twogirwe Mollias</td>\n",
       "      <td>0773-35-56-76</td>\n",
       "      <td>Female Headed</td>\n",
       "      <td>Mit-Kih-Two-F-083135-5</td>\n",
       "    </tr>\n",
       "    <tr>\n",
       "      <th>4</th>\n",
       "      <td>Mitooma</td>\n",
       "      <td>Mitooma</td>\n",
       "      <td>Nyakishojwa</td>\n",
       "      <td>Kibisho_A</td>\n",
       "      <td>Mauda Ndebwomwe</td>\n",
       "      <td>0706-94-93-06</td>\n",
       "      <td>Female Headed</td>\n",
       "      <td>Mit-Kib-Mau-F-083009-5</td>\n",
       "    </tr>\n",
       "    <tr>\n",
       "      <th>6</th>\n",
       "      <td>Mitooma</td>\n",
       "      <td>Mitooma</td>\n",
       "      <td>Nyakishojwa</td>\n",
       "      <td>Karoza_A</td>\n",
       "      <td>komwani Mary</td>\n",
       "      <td>0775-65-31-17</td>\n",
       "      <td>Female Headed</td>\n",
       "      <td>Mit-Kar-kom-F-083805-5</td>\n",
       "    </tr>\n",
       "  </tbody>\n",
       "</table>\n",
       "</div>"
      ],
      "text/plain": [
       "  district subcounty     parish_t             village       hhh_full_name  \\\n",
       "0  Mitooma   Mitooma  Nyakishojwa            Kashasha  Kyomuhangi Jadress   \n",
       "1  Mitooma   Mitooma  Nyakishojwa            Karoza_A    Nuwagaba Charity   \n",
       "2  Mitooma   Mitooma  Nyakishojwa  Kihunga_Nyakishowa    Twogirwe Mollias   \n",
       "4  Mitooma   Mitooma  Nyakishojwa           Kibisho_A     Mauda Ndebwomwe   \n",
       "6  Mitooma   Mitooma  Nyakishojwa            Karoza_A        komwani Mary   \n",
       "\n",
       "  Household_Head_Contact Household_Head_Gender                    hhid  \n",
       "0          0763-25-28-10         Female Headed  Mit-Kas-Kyo-F-082932-5  \n",
       "1          0778-56-33-66         Female Headed  Mit-Kar-Nuw-F-082625-5  \n",
       "2          0773-35-56-76         Female Headed  Mit-Kih-Two-F-083135-5  \n",
       "4          0706-94-93-06         Female Headed  Mit-Kib-Mau-F-083009-5  \n",
       "6          0775-65-31-17         Female Headed  Mit-Kar-kom-F-083805-5  "
      ]
     },
     "execution_count": 58,
     "metadata": {},
     "output_type": "execute_result"
    }
   ],
   "source": [
    "female_HH_samp_frame.head()"
   ]
  },
  {
   "cell_type": "markdown",
   "id": "37204938",
   "metadata": {
    "slideshow": {
     "slide_type": "slide"
    }
   },
   "source": [
    "You realize here that I am not using the custom function, because 20% of 30 and 25% of 24 all give 6 samples. We can just sample"
   ]
  },
  {
   "cell_type": "code",
   "execution_count": 59,
   "id": "30e949b7",
   "metadata": {
    "id": "ea81691f",
    "slideshow": {
     "slide_type": "fragment"
    }
   },
   "outputs": [],
   "source": [
    "female_target_sample = female_HH_samp_frame.groupby('village', group_keys=False).apply(lambda x: x.sample(n=min(len(x), 6)))"
   ]
  },
  {
   "cell_type": "code",
   "execution_count": 60,
   "id": "d6c74ee6",
   "metadata": {
    "id": "4eda136e",
    "outputId": "9ff262dc-a690-4b20-8444-912515e98ce1",
    "slideshow": {
     "slide_type": "skip"
    }
   },
   "outputs": [
    {
     "data": {
      "text/plain": [
       "2702"
      ]
     },
     "execution_count": 60,
     "metadata": {},
     "output_type": "execute_result"
    }
   ],
   "source": [
    "len(female_target_sample)"
   ]
  },
  {
   "cell_type": "code",
   "execution_count": 61,
   "id": "aa46bc98",
   "metadata": {
    "id": "2c9f1b9d",
    "slideshow": {
     "slide_type": "fragment"
    }
   },
   "outputs": [],
   "source": [
    "female_target_sample['status'] = 'target'"
   ]
  },
  {
   "cell_type": "code",
   "execution_count": 62,
   "id": "aba33685",
   "metadata": {
    "id": "6df93913",
    "outputId": "65ca229d-0969-4fa9-9e66-ad26814787af",
    "slideshow": {
     "slide_type": "skip"
    }
   },
   "outputs": [
    {
     "data": {
      "text/html": [
       "<div>\n",
       "<style scoped>\n",
       "    .dataframe tbody tr th:only-of-type {\n",
       "        vertical-align: middle;\n",
       "    }\n",
       "\n",
       "    .dataframe tbody tr th {\n",
       "        vertical-align: top;\n",
       "    }\n",
       "\n",
       "    .dataframe thead th {\n",
       "        text-align: right;\n",
       "    }\n",
       "</style>\n",
       "<table border=\"1\" class=\"dataframe\">\n",
       "  <thead>\n",
       "    <tr style=\"text-align: right;\">\n",
       "      <th></th>\n",
       "      <th>district</th>\n",
       "      <th>subcounty</th>\n",
       "      <th>parish_t</th>\n",
       "      <th>village</th>\n",
       "      <th>hhh_full_name</th>\n",
       "      <th>Household_Head_Contact</th>\n",
       "      <th>Household_Head_Gender</th>\n",
       "      <th>hhid</th>\n",
       "      <th>status</th>\n",
       "    </tr>\n",
       "  </thead>\n",
       "  <tbody>\n",
       "    <tr>\n",
       "      <th>3367</th>\n",
       "      <td>Buhweju</td>\n",
       "      <td>Kyahenda</td>\n",
       "      <td>Nyamihira</td>\n",
       "      <td>Akatojo</td>\n",
       "      <td>Hairet Natukunda</td>\n",
       "      <td>0788-65-73-74</td>\n",
       "      <td>Female Headed</td>\n",
       "      <td>Buh-Aka-Hai-F-105346-14</td>\n",
       "      <td>target</td>\n",
       "    </tr>\n",
       "    <tr>\n",
       "      <th>3383</th>\n",
       "      <td>Buhweju</td>\n",
       "      <td>Kyahenda</td>\n",
       "      <td>Nyamihira</td>\n",
       "      <td>Akatojo</td>\n",
       "      <td>Kyomuhangi Jane</td>\n",
       "      <td>0788-65-72-74</td>\n",
       "      <td>Female Headed</td>\n",
       "      <td>Buh-Aka-Kyo-F-135222-14</td>\n",
       "      <td>target</td>\n",
       "    </tr>\n",
       "    <tr>\n",
       "      <th>1735</th>\n",
       "      <td>Buhweju</td>\n",
       "      <td>Kyahenda</td>\n",
       "      <td>Nyamihira</td>\n",
       "      <td>Akatojo</td>\n",
       "      <td>Adrine Tumuhirye</td>\n",
       "      <td>0784-80-38-86</td>\n",
       "      <td>Female Headed</td>\n",
       "      <td>Buh-Aka-Adr-F-170549-14</td>\n",
       "      <td>target</td>\n",
       "    </tr>\n",
       "    <tr>\n",
       "      <th>1713</th>\n",
       "      <td>Buhweju</td>\n",
       "      <td>Kyahenda</td>\n",
       "      <td>Nyamihira</td>\n",
       "      <td>Akatojo</td>\n",
       "      <td>Anitah Natukwasa</td>\n",
       "      <td>0789-53-44-09</td>\n",
       "      <td>Female Headed</td>\n",
       "      <td>Buh-Aka-Ani-F-124217-14</td>\n",
       "      <td>target</td>\n",
       "    </tr>\n",
       "    <tr>\n",
       "      <th>3381</th>\n",
       "      <td>Buhweju</td>\n",
       "      <td>Kyahenda</td>\n",
       "      <td>Nyamihira</td>\n",
       "      <td>Akatojo</td>\n",
       "      <td>Asiya Karunga</td>\n",
       "      <td>0788-65-73-74</td>\n",
       "      <td>Female Headed</td>\n",
       "      <td>Buh-Aka-Asi-F-132140-14</td>\n",
       "      <td>target</td>\n",
       "    </tr>\n",
       "  </tbody>\n",
       "</table>\n",
       "</div>"
      ],
      "text/plain": [
       "     district subcounty   parish_t  village     hhh_full_name  \\\n",
       "3367  Buhweju  Kyahenda  Nyamihira  Akatojo  Hairet Natukunda   \n",
       "3383  Buhweju  Kyahenda  Nyamihira  Akatojo   Kyomuhangi Jane   \n",
       "1735  Buhweju  Kyahenda  Nyamihira  Akatojo  Adrine Tumuhirye   \n",
       "1713  Buhweju  Kyahenda  Nyamihira  Akatojo  Anitah Natukwasa   \n",
       "3381  Buhweju  Kyahenda  Nyamihira  Akatojo     Asiya Karunga   \n",
       "\n",
       "     Household_Head_Contact Household_Head_Gender                     hhid  \\\n",
       "3367          0788-65-73-74         Female Headed  Buh-Aka-Hai-F-105346-14   \n",
       "3383          0788-65-72-74         Female Headed  Buh-Aka-Kyo-F-135222-14   \n",
       "1735          0784-80-38-86         Female Headed  Buh-Aka-Adr-F-170549-14   \n",
       "1713          0789-53-44-09         Female Headed  Buh-Aka-Ani-F-124217-14   \n",
       "3381          0788-65-73-74         Female Headed  Buh-Aka-Asi-F-132140-14   \n",
       "\n",
       "      status  \n",
       "3367  target  \n",
       "3383  target  \n",
       "1735  target  \n",
       "1713  target  \n",
       "3381  target  "
      ]
     },
     "execution_count": 62,
     "metadata": {},
     "output_type": "execute_result"
    }
   ],
   "source": [
    "female_target_sample.head()"
   ]
  },
  {
   "cell_type": "code",
   "execution_count": 63,
   "id": "f0f4c5e4",
   "metadata": {
    "id": "1fb9b959",
    "slideshow": {
     "slide_type": "skip"
    }
   },
   "outputs": [],
   "source": [
    "# female_target_sample.to_excel('mit/female_target_sample.xlsx', index=False)"
   ]
  },
  {
   "cell_type": "markdown",
   "id": "cc796a87",
   "metadata": {
    "id": "ec4bd25e",
    "slideshow": {
     "slide_type": "skip"
    }
   },
   "source": [
    "## Reserve frame"
   ]
  },
  {
   "cell_type": "code",
   "execution_count": 64,
   "id": "92ae40d2",
   "metadata": {
    "id": "9172c8fa",
    "outputId": "5c13f57f-2c27-4a39-f865-a80642307f3b",
    "slideshow": {
     "slide_type": "fragment"
    }
   },
   "outputs": [
    {
     "data": {
      "text/plain": [
       "(9746, 8)"
      ]
     },
     "execution_count": 64,
     "metadata": {},
     "output_type": "execute_result"
    }
   ],
   "source": [
    "female_reserve_s_frame = female_HH_samp_frame.drop(index = female_target_sample.index)\n",
    "female_reserve_s_frame.shape"
   ]
  },
  {
   "cell_type": "code",
   "execution_count": 65,
   "id": "0b7ef3f5",
   "metadata": {
    "id": "b7e117e4",
    "slideshow": {
     "slide_type": "skip"
    }
   },
   "outputs": [],
   "source": [
    "# female_reserve_s_frame.to_excel('mit/female_reserve_s_frame.xlsx', index=False)"
   ]
  },
  {
   "cell_type": "code",
   "execution_count": 66,
   "id": "7818af7d",
   "metadata": {
    "id": "9b090477",
    "slideshow": {
     "slide_type": "slide"
    }
   },
   "outputs": [],
   "source": [
    "female_reserve_sample = female_reserve_s_frame.groupby('village', group_keys=False).apply(lambda x: x.sample(n=min(len(x), 6)))"
   ]
  },
  {
   "cell_type": "code",
   "execution_count": 67,
   "id": "4428042c",
   "metadata": {
    "id": "b232d99b",
    "outputId": "fd809e5d-dd3d-4202-ca34-53eeaa1cd4a2",
    "slideshow": {
     "slide_type": "fragment"
    }
   },
   "outputs": [
    {
     "data": {
      "text/html": [
       "<div>\n",
       "<style scoped>\n",
       "    .dataframe tbody tr th:only-of-type {\n",
       "        vertical-align: middle;\n",
       "    }\n",
       "\n",
       "    .dataframe tbody tr th {\n",
       "        vertical-align: top;\n",
       "    }\n",
       "\n",
       "    .dataframe thead th {\n",
       "        text-align: right;\n",
       "    }\n",
       "</style>\n",
       "<table border=\"1\" class=\"dataframe\">\n",
       "  <thead>\n",
       "    <tr style=\"text-align: right;\">\n",
       "      <th></th>\n",
       "      <th>district</th>\n",
       "      <th>subcounty</th>\n",
       "      <th>parish_t</th>\n",
       "      <th>village</th>\n",
       "      <th>hhh_full_name</th>\n",
       "      <th>Household_Head_Contact</th>\n",
       "      <th>Household_Head_Gender</th>\n",
       "      <th>hhid</th>\n",
       "      <th>status</th>\n",
       "    </tr>\n",
       "  </thead>\n",
       "  <tbody>\n",
       "    <tr>\n",
       "      <th>1725</th>\n",
       "      <td>Buhweju</td>\n",
       "      <td>Kyahenda</td>\n",
       "      <td>Nyamihira</td>\n",
       "      <td>Akatojo</td>\n",
       "      <td>Dovina Tukamuhabwa</td>\n",
       "      <td>0788-65-73-74</td>\n",
       "      <td>Female Headed</td>\n",
       "      <td>Buh-Aka-Dov-F-150345-14</td>\n",
       "      <td>reserve</td>\n",
       "    </tr>\n",
       "    <tr>\n",
       "      <th>1739</th>\n",
       "      <td>Buhweju</td>\n",
       "      <td>Kyahenda</td>\n",
       "      <td>Nyamihira</td>\n",
       "      <td>Akatojo</td>\n",
       "      <td>Provia Tumusiime</td>\n",
       "      <td>0788-65-73-74</td>\n",
       "      <td>Female Headed</td>\n",
       "      <td>Buh-Aka-Pro-F-175529-14</td>\n",
       "      <td>reserve</td>\n",
       "    </tr>\n",
       "    <tr>\n",
       "      <th>1717</th>\n",
       "      <td>Buhweju</td>\n",
       "      <td>Kyahenda</td>\n",
       "      <td>Nyamihira</td>\n",
       "      <td>Akatojo</td>\n",
       "      <td>Lidya Tumworebere</td>\n",
       "      <td>0788-65-73-74</td>\n",
       "      <td>Female Headed</td>\n",
       "      <td>Buh-Aka-Lid-F-132006-14</td>\n",
       "      <td>reserve</td>\n",
       "    </tr>\n",
       "    <tr>\n",
       "      <th>1732</th>\n",
       "      <td>Buhweju</td>\n",
       "      <td>Kyahenda</td>\n",
       "      <td>Nyamihira</td>\n",
       "      <td>Akatojo</td>\n",
       "      <td>Mary Turyamuhebwa</td>\n",
       "      <td>0779-44-60-29</td>\n",
       "      <td>Female Headed</td>\n",
       "      <td>Buh-Aka-Mar-F-163632-14</td>\n",
       "      <td>reserve</td>\n",
       "    </tr>\n",
       "    <tr>\n",
       "      <th>3364</th>\n",
       "      <td>Buhweju</td>\n",
       "      <td>Kyahenda</td>\n",
       "      <td>Nyamihira</td>\n",
       "      <td>Akatojo</td>\n",
       "      <td>Lillian Kibatenga</td>\n",
       "      <td>0788-65-73-74</td>\n",
       "      <td>Female Headed</td>\n",
       "      <td>Buh-Aka-Lil-F-101914-14</td>\n",
       "      <td>reserve</td>\n",
       "    </tr>\n",
       "  </tbody>\n",
       "</table>\n",
       "</div>"
      ],
      "text/plain": [
       "     district subcounty   parish_t  village       hhh_full_name  \\\n",
       "1725  Buhweju  Kyahenda  Nyamihira  Akatojo  Dovina Tukamuhabwa   \n",
       "1739  Buhweju  Kyahenda  Nyamihira  Akatojo    Provia Tumusiime   \n",
       "1717  Buhweju  Kyahenda  Nyamihira  Akatojo   Lidya Tumworebere   \n",
       "1732  Buhweju  Kyahenda  Nyamihira  Akatojo   Mary Turyamuhebwa   \n",
       "3364  Buhweju  Kyahenda  Nyamihira  Akatojo   Lillian Kibatenga   \n",
       "\n",
       "     Household_Head_Contact Household_Head_Gender                     hhid  \\\n",
       "1725          0788-65-73-74         Female Headed  Buh-Aka-Dov-F-150345-14   \n",
       "1739          0788-65-73-74         Female Headed  Buh-Aka-Pro-F-175529-14   \n",
       "1717          0788-65-73-74         Female Headed  Buh-Aka-Lid-F-132006-14   \n",
       "1732          0779-44-60-29         Female Headed  Buh-Aka-Mar-F-163632-14   \n",
       "3364          0788-65-73-74         Female Headed  Buh-Aka-Lil-F-101914-14   \n",
       "\n",
       "       status  \n",
       "1725  reserve  \n",
       "1739  reserve  \n",
       "1717  reserve  \n",
       "1732  reserve  \n",
       "3364  reserve  "
      ]
     },
     "execution_count": 67,
     "metadata": {},
     "output_type": "execute_result"
    }
   ],
   "source": [
    "female_reserve_sample['status'] = 'reserve'\n",
    "female_reserve_sample.head()"
   ]
  },
  {
   "cell_type": "code",
   "execution_count": 68,
   "id": "57af7f7e",
   "metadata": {
    "id": "acca14d8",
    "slideshow": {
     "slide_type": "skip"
    }
   },
   "outputs": [],
   "source": [
    "# female_reserve_sample.to_excel('mit/female_reserve_sample.xlsx', index=False)"
   ]
  },
  {
   "cell_type": "code",
   "execution_count": 69,
   "id": "40d10df4",
   "metadata": {
    "id": "268fa1fc",
    "slideshow": {
     "slide_type": "fragment"
    }
   },
   "outputs": [],
   "source": [
    "FEMALE_HH_SAMPLE = pd.concat([female_target_sample, female_reserve_sample])"
   ]
  },
  {
   "cell_type": "code",
   "execution_count": 70,
   "id": "c22a9f24",
   "metadata": {
    "id": "e8229818",
    "slideshow": {
     "slide_type": "skip"
    }
   },
   "outputs": [],
   "source": [
    "# FEMALE_HH_SAMPLE.to_excel('mit/FEMALE_HH_SAMPLE.xlsx', index=False)"
   ]
  },
  {
   "cell_type": "markdown",
   "id": "6f4ace6d",
   "metadata": {
    "id": "f1ec251a",
    "slideshow": {
     "slide_type": "slide"
    }
   },
   "source": [
    "# YOUTH Households"
   ]
  },
  {
   "cell_type": "code",
   "execution_count": 71,
   "id": "7425ae63",
   "metadata": {
    "id": "e79b4021",
    "outputId": "b7c2dad9-c4a4-4c4d-e8a5-17a86e67f13c",
    "slideshow": {
     "slide_type": "skip"
    }
   },
   "outputs": [
    {
     "data": {
      "text/plain": [
       "14634"
      ]
     },
     "execution_count": 71,
     "metadata": {},
     "output_type": "execute_result"
    }
   ],
   "source": [
    "len(youth_HH_samp_frame)"
   ]
  },
  {
   "cell_type": "code",
   "execution_count": 72,
   "id": "a62fd3a0",
   "metadata": {
    "id": "26e9ce59",
    "outputId": "ca6b412e-c612-4a31-8c53-b75dc6776ab9",
    "slideshow": {
     "slide_type": "skip"
    }
   },
   "outputs": [
    {
     "data": {
      "text/html": [
       "<div>\n",
       "<style scoped>\n",
       "    .dataframe tbody tr th:only-of-type {\n",
       "        vertical-align: middle;\n",
       "    }\n",
       "\n",
       "    .dataframe tbody tr th {\n",
       "        vertical-align: top;\n",
       "    }\n",
       "\n",
       "    .dataframe thead th {\n",
       "        text-align: right;\n",
       "    }\n",
       "</style>\n",
       "<table border=\"1\" class=\"dataframe\">\n",
       "  <thead>\n",
       "    <tr style=\"text-align: right;\">\n",
       "      <th></th>\n",
       "      <th>district</th>\n",
       "      <th>subcounty</th>\n",
       "      <th>parish_t</th>\n",
       "      <th>village</th>\n",
       "      <th>hhh_full_name</th>\n",
       "      <th>Household_Head_Contact</th>\n",
       "      <th>Household_Head_Gender</th>\n",
       "      <th>hhid</th>\n",
       "    </tr>\n",
       "  </thead>\n",
       "  <tbody>\n",
       "    <tr>\n",
       "      <th>10</th>\n",
       "      <td>Mitooma</td>\n",
       "      <td>Mitooma</td>\n",
       "      <td>Nyakishojwa</td>\n",
       "      <td>Kashasha</td>\n",
       "      <td>Ainomujuni Mavini</td>\n",
       "      <td>0706-55-49-45</td>\n",
       "      <td>Youth Headed</td>\n",
       "      <td>Mit-Kas-Ain-M-085223-5</td>\n",
       "    </tr>\n",
       "    <tr>\n",
       "      <th>20</th>\n",
       "      <td>Mitooma</td>\n",
       "      <td>Mitooma</td>\n",
       "      <td>Nyakishojwa</td>\n",
       "      <td>Kashasha</td>\n",
       "      <td>Twesigye Gilbert</td>\n",
       "      <td>0787-12-15-05</td>\n",
       "      <td>Youth Headed</td>\n",
       "      <td>Mit-Kas-Twe-M-091417-5</td>\n",
       "    </tr>\n",
       "    <tr>\n",
       "      <th>25</th>\n",
       "      <td>Mitooma</td>\n",
       "      <td>Mitooma</td>\n",
       "      <td>Nyakishojwa</td>\n",
       "      <td>Kihunga_Nyakishowa</td>\n",
       "      <td>Tumwine Asaph</td>\n",
       "      <td>0775-14-86-49</td>\n",
       "      <td>Youth Headed</td>\n",
       "      <td>Mit-Kih-Tum-M-091142-5</td>\n",
       "    </tr>\n",
       "    <tr>\n",
       "      <th>40</th>\n",
       "      <td>Mitooma</td>\n",
       "      <td>Mitooma</td>\n",
       "      <td>Nyakishojwa</td>\n",
       "      <td>Nyakishojwa_Central</td>\n",
       "      <td>Amutuhaire Sikora</td>\n",
       "      <td>0773-15-11-61</td>\n",
       "      <td>Youth Headed</td>\n",
       "      <td>Mit-Nya-Amu-F-095910-5</td>\n",
       "    </tr>\n",
       "    <tr>\n",
       "      <th>47</th>\n",
       "      <td>Buhweju</td>\n",
       "      <td>Kyahenda</td>\n",
       "      <td>Kiyanja</td>\n",
       "      <td>Kakonkoma</td>\n",
       "      <td>Ronald Keinerugaba</td>\n",
       "      <td>0780-10-71-85</td>\n",
       "      <td>Youth Headed</td>\n",
       "      <td>Buh-Kak-Ron-M-083202-14</td>\n",
       "    </tr>\n",
       "  </tbody>\n",
       "</table>\n",
       "</div>"
      ],
      "text/plain": [
       "   district subcounty     parish_t              village       hhh_full_name  \\\n",
       "10  Mitooma   Mitooma  Nyakishojwa             Kashasha   Ainomujuni Mavini   \n",
       "20  Mitooma   Mitooma  Nyakishojwa             Kashasha    Twesigye Gilbert   \n",
       "25  Mitooma   Mitooma  Nyakishojwa   Kihunga_Nyakishowa       Tumwine Asaph   \n",
       "40  Mitooma   Mitooma  Nyakishojwa  Nyakishojwa_Central   Amutuhaire Sikora   \n",
       "47  Buhweju  Kyahenda      Kiyanja            Kakonkoma  Ronald Keinerugaba   \n",
       "\n",
       "   Household_Head_Contact Household_Head_Gender                     hhid  \n",
       "10          0706-55-49-45          Youth Headed   Mit-Kas-Ain-M-085223-5  \n",
       "20          0787-12-15-05          Youth Headed   Mit-Kas-Twe-M-091417-5  \n",
       "25          0775-14-86-49          Youth Headed   Mit-Kih-Tum-M-091142-5  \n",
       "40          0773-15-11-61          Youth Headed   Mit-Nya-Amu-F-095910-5  \n",
       "47          0780-10-71-85          Youth Headed  Buh-Kak-Ron-M-083202-14  "
      ]
     },
     "execution_count": 72,
     "metadata": {},
     "output_type": "execute_result"
    }
   ],
   "source": [
    "youth_HH_samp_frame.head()"
   ]
  },
  {
   "cell_type": "code",
   "execution_count": 73,
   "id": "5c4147bc",
   "metadata": {
    "id": "c24e4229",
    "slideshow": {
     "slide_type": "fragment"
    }
   },
   "outputs": [],
   "source": [
    "youth_target_sample = youth_HH_samp_frame.groupby('village', group_keys=False).apply(lambda x: x.sample(n=min(len(x), 6)))"
   ]
  },
  {
   "cell_type": "code",
   "execution_count": 74,
   "id": "686c1f83",
   "metadata": {
    "id": "518216f0",
    "outputId": "e2d199d9-f513-47a2-f1ec-bc9716eea8ac",
    "slideshow": {
     "slide_type": "skip"
    }
   },
   "outputs": [
    {
     "data": {
      "text/plain": [
       "2643"
      ]
     },
     "execution_count": 74,
     "metadata": {},
     "output_type": "execute_result"
    }
   ],
   "source": [
    "len(youth_target_sample)"
   ]
  },
  {
   "cell_type": "code",
   "execution_count": 75,
   "id": "a98b6d0f",
   "metadata": {
    "id": "8efb77de",
    "slideshow": {
     "slide_type": "fragment"
    }
   },
   "outputs": [],
   "source": [
    "youth_target_sample['status'] = 'target'"
   ]
  },
  {
   "cell_type": "code",
   "execution_count": 76,
   "id": "bf8b2d04",
   "metadata": {
    "id": "a15aafc3",
    "outputId": "48ac1dd2-e03c-4367-de06-db276ed9fb95",
    "slideshow": {
     "slide_type": "skip"
    }
   },
   "outputs": [
    {
     "data": {
      "text/html": [
       "<div>\n",
       "<style scoped>\n",
       "    .dataframe tbody tr th:only-of-type {\n",
       "        vertical-align: middle;\n",
       "    }\n",
       "\n",
       "    .dataframe tbody tr th {\n",
       "        vertical-align: top;\n",
       "    }\n",
       "\n",
       "    .dataframe thead th {\n",
       "        text-align: right;\n",
       "    }\n",
       "</style>\n",
       "<table border=\"1\" class=\"dataframe\">\n",
       "  <thead>\n",
       "    <tr style=\"text-align: right;\">\n",
       "      <th></th>\n",
       "      <th>district</th>\n",
       "      <th>subcounty</th>\n",
       "      <th>parish_t</th>\n",
       "      <th>village</th>\n",
       "      <th>hhh_full_name</th>\n",
       "      <th>Household_Head_Contact</th>\n",
       "      <th>Household_Head_Gender</th>\n",
       "      <th>hhid</th>\n",
       "      <th>status</th>\n",
       "    </tr>\n",
       "  </thead>\n",
       "  <tbody>\n",
       "    <tr>\n",
       "      <th>3375</th>\n",
       "      <td>Buhweju</td>\n",
       "      <td>Kyahenda</td>\n",
       "      <td>Nyamihira</td>\n",
       "      <td>Akatojo</td>\n",
       "      <td>Adson Oweyesigire</td>\n",
       "      <td>0778-57-44-93</td>\n",
       "      <td>Youth Headed</td>\n",
       "      <td>Buh-Aka-Ads-M-120945-14</td>\n",
       "      <td>target</td>\n",
       "    </tr>\n",
       "    <tr>\n",
       "      <th>4082</th>\n",
       "      <td>Buhweju</td>\n",
       "      <td>Kyahenda</td>\n",
       "      <td>Nyamihira</td>\n",
       "      <td>Akatojo</td>\n",
       "      <td>Siliverio Ashabahebwa</td>\n",
       "      <td>0787-37-92-51</td>\n",
       "      <td>Youth Headed</td>\n",
       "      <td>Buh-Aka-Sil-M-142549-14</td>\n",
       "      <td>target</td>\n",
       "    </tr>\n",
       "    <tr>\n",
       "      <th>3371</th>\n",
       "      <td>Buhweju</td>\n",
       "      <td>Kyahenda</td>\n",
       "      <td>Nyamihira</td>\n",
       "      <td>Akatojo</td>\n",
       "      <td>Babra Barbra</td>\n",
       "      <td>0782-56-98-77</td>\n",
       "      <td>Youth Headed</td>\n",
       "      <td>Buh-Aka-Bab-F-113109-14</td>\n",
       "      <td>target</td>\n",
       "    </tr>\n",
       "    <tr>\n",
       "      <th>276</th>\n",
       "      <td>Buhweju</td>\n",
       "      <td>Kyahenda</td>\n",
       "      <td>Nyamihira</td>\n",
       "      <td>Akatojo</td>\n",
       "      <td>Ivan Nuwagira</td>\n",
       "      <td>0704-56-42-99</td>\n",
       "      <td>Youth Headed</td>\n",
       "      <td>Buh-Aka-Iva-M-104508-14</td>\n",
       "      <td>target</td>\n",
       "    </tr>\n",
       "    <tr>\n",
       "      <th>3368</th>\n",
       "      <td>Buhweju</td>\n",
       "      <td>Kyahenda</td>\n",
       "      <td>Nyamihira</td>\n",
       "      <td>Akatojo</td>\n",
       "      <td>Boaz Arinitwe</td>\n",
       "      <td>0778-25-86-41</td>\n",
       "      <td>Youth Headed</td>\n",
       "      <td>Buh-Aka-Boa-M-105949-14</td>\n",
       "      <td>target</td>\n",
       "    </tr>\n",
       "  </tbody>\n",
       "</table>\n",
       "</div>"
      ],
      "text/plain": [
       "     district subcounty   parish_t  village          hhh_full_name  \\\n",
       "3375  Buhweju  Kyahenda  Nyamihira  Akatojo      Adson Oweyesigire   \n",
       "4082  Buhweju  Kyahenda  Nyamihira  Akatojo  Siliverio Ashabahebwa   \n",
       "3371  Buhweju  Kyahenda  Nyamihira  Akatojo           Babra Barbra   \n",
       "276   Buhweju  Kyahenda  Nyamihira  Akatojo          Ivan Nuwagira   \n",
       "3368  Buhweju  Kyahenda  Nyamihira  Akatojo          Boaz Arinitwe   \n",
       "\n",
       "     Household_Head_Contact Household_Head_Gender                     hhid  \\\n",
       "3375          0778-57-44-93          Youth Headed  Buh-Aka-Ads-M-120945-14   \n",
       "4082          0787-37-92-51          Youth Headed  Buh-Aka-Sil-M-142549-14   \n",
       "3371          0782-56-98-77          Youth Headed  Buh-Aka-Bab-F-113109-14   \n",
       "276           0704-56-42-99          Youth Headed  Buh-Aka-Iva-M-104508-14   \n",
       "3368          0778-25-86-41          Youth Headed  Buh-Aka-Boa-M-105949-14   \n",
       "\n",
       "      status  \n",
       "3375  target  \n",
       "4082  target  \n",
       "3371  target  \n",
       "276   target  \n",
       "3368  target  "
      ]
     },
     "execution_count": 76,
     "metadata": {},
     "output_type": "execute_result"
    }
   ],
   "source": [
    "youth_target_sample.head()"
   ]
  },
  {
   "cell_type": "code",
   "execution_count": 77,
   "id": "3f41386b",
   "metadata": {
    "id": "bf8ab55d",
    "slideshow": {
     "slide_type": "skip"
    }
   },
   "outputs": [],
   "source": [
    "# youth_target_sample.to_excel('mit/youth_target_sample.xlsx', index=False)"
   ]
  },
  {
   "cell_type": "markdown",
   "id": "2ce8f350",
   "metadata": {
    "id": "c409fcb9",
    "slideshow": {
     "slide_type": "slide"
    }
   },
   "source": [
    "## Reserve frame"
   ]
  },
  {
   "cell_type": "code",
   "execution_count": 78,
   "id": "2a325fb4",
   "metadata": {
    "id": "ba880cf1",
    "outputId": "9dcd5661-032f-4141-834f-d84e773ebe55",
    "slideshow": {
     "slide_type": "fragment"
    }
   },
   "outputs": [
    {
     "data": {
      "text/plain": [
       "(11991, 8)"
      ]
     },
     "execution_count": 78,
     "metadata": {},
     "output_type": "execute_result"
    }
   ],
   "source": [
    "youth_reserve_s_frame = youth_HH_samp_frame.drop(index = youth_target_sample.index)\n",
    "youth_reserve_s_frame.shape"
   ]
  },
  {
   "cell_type": "code",
   "execution_count": 79,
   "id": "2837238d",
   "metadata": {
    "id": "52e433b4",
    "slideshow": {
     "slide_type": "skip"
    }
   },
   "outputs": [],
   "source": [
    "# youth_reserve_s_frame.to_excel('mit/youth_reserve_s_frame.xlsx', index=False)"
   ]
  },
  {
   "cell_type": "code",
   "execution_count": 80,
   "id": "057bcfd1",
   "metadata": {
    "id": "0d0c7d45",
    "slideshow": {
     "slide_type": "fragment"
    }
   },
   "outputs": [],
   "source": [
    "youth_reserve_sample = youth_reserve_s_frame.groupby('village', group_keys=False).apply(lambda x: x.sample(n=min(len(x), 6)))"
   ]
  },
  {
   "cell_type": "code",
   "execution_count": 81,
   "id": "2aa5b067",
   "metadata": {
    "id": "dcf49b93",
    "outputId": "2dc5de30-9a7c-49e3-b748-610562cd4b76",
    "slideshow": {
     "slide_type": "fragment"
    }
   },
   "outputs": [
    {
     "data": {
      "text/html": [
       "<div>\n",
       "<style scoped>\n",
       "    .dataframe tbody tr th:only-of-type {\n",
       "        vertical-align: middle;\n",
       "    }\n",
       "\n",
       "    .dataframe tbody tr th {\n",
       "        vertical-align: top;\n",
       "    }\n",
       "\n",
       "    .dataframe thead th {\n",
       "        text-align: right;\n",
       "    }\n",
       "</style>\n",
       "<table border=\"1\" class=\"dataframe\">\n",
       "  <thead>\n",
       "    <tr style=\"text-align: right;\">\n",
       "      <th></th>\n",
       "      <th>district</th>\n",
       "      <th>subcounty</th>\n",
       "      <th>parish_t</th>\n",
       "      <th>village</th>\n",
       "      <th>hhh_full_name</th>\n",
       "      <th>Household_Head_Contact</th>\n",
       "      <th>Household_Head_Gender</th>\n",
       "      <th>hhid</th>\n",
       "      <th>status</th>\n",
       "    </tr>\n",
       "  </thead>\n",
       "  <tbody>\n",
       "    <tr>\n",
       "      <th>3361</th>\n",
       "      <td>Buhweju</td>\n",
       "      <td>Kyahenda</td>\n",
       "      <td>Nyamihira</td>\n",
       "      <td>Akatojo</td>\n",
       "      <td>Ambrose Tumusingize</td>\n",
       "      <td>0781-78-11-27</td>\n",
       "      <td>Youth Headed</td>\n",
       "      <td>Buh-Aka-Amb-M-095140-14</td>\n",
       "      <td>reserve</td>\n",
       "    </tr>\n",
       "    <tr>\n",
       "      <th>1736</th>\n",
       "      <td>Buhweju</td>\n",
       "      <td>Kyahenda</td>\n",
       "      <td>Nyamihira</td>\n",
       "      <td>Akatojo</td>\n",
       "      <td>Ronard Mbabazi</td>\n",
       "      <td>0783-61-62-11</td>\n",
       "      <td>Youth Headed</td>\n",
       "      <td>Buh-Aka-Ron-M-172233-14</td>\n",
       "      <td>reserve</td>\n",
       "    </tr>\n",
       "    <tr>\n",
       "      <th>273</th>\n",
       "      <td>Buhweju</td>\n",
       "      <td>Kyahenda</td>\n",
       "      <td>Nyamihira</td>\n",
       "      <td>Akatojo</td>\n",
       "      <td>Asani Nuwamanya</td>\n",
       "      <td>0753-46-83-52</td>\n",
       "      <td>Youth Headed</td>\n",
       "      <td>Buh-Aka-Asa-M-101415-14</td>\n",
       "      <td>reserve</td>\n",
       "    </tr>\n",
       "    <tr>\n",
       "      <th>3372</th>\n",
       "      <td>Buhweju</td>\n",
       "      <td>Kyahenda</td>\n",
       "      <td>Nyamihira</td>\n",
       "      <td>Akatojo</td>\n",
       "      <td>Ronard Muhweju</td>\n",
       "      <td>0763-93-28-08</td>\n",
       "      <td>Youth Headed</td>\n",
       "      <td>Buh-Aka-Ron-M-114224-14</td>\n",
       "      <td>reserve</td>\n",
       "    </tr>\n",
       "    <tr>\n",
       "      <th>274</th>\n",
       "      <td>Buhweju</td>\n",
       "      <td>Kyahenda</td>\n",
       "      <td>Nyamihira</td>\n",
       "      <td>Akatojo</td>\n",
       "      <td>Bashiru Arinitwe</td>\n",
       "      <td>0789-42-66-54</td>\n",
       "      <td>Youth Headed</td>\n",
       "      <td>Buh-Aka-Bas-M-102520-14</td>\n",
       "      <td>reserve</td>\n",
       "    </tr>\n",
       "  </tbody>\n",
       "</table>\n",
       "</div>"
      ],
      "text/plain": [
       "     district subcounty   parish_t  village        hhh_full_name  \\\n",
       "3361  Buhweju  Kyahenda  Nyamihira  Akatojo  Ambrose Tumusingize   \n",
       "1736  Buhweju  Kyahenda  Nyamihira  Akatojo       Ronard Mbabazi   \n",
       "273   Buhweju  Kyahenda  Nyamihira  Akatojo      Asani Nuwamanya   \n",
       "3372  Buhweju  Kyahenda  Nyamihira  Akatojo       Ronard Muhweju   \n",
       "274   Buhweju  Kyahenda  Nyamihira  Akatojo     Bashiru Arinitwe   \n",
       "\n",
       "     Household_Head_Contact Household_Head_Gender                     hhid  \\\n",
       "3361          0781-78-11-27          Youth Headed  Buh-Aka-Amb-M-095140-14   \n",
       "1736          0783-61-62-11          Youth Headed  Buh-Aka-Ron-M-172233-14   \n",
       "273           0753-46-83-52          Youth Headed  Buh-Aka-Asa-M-101415-14   \n",
       "3372          0763-93-28-08          Youth Headed  Buh-Aka-Ron-M-114224-14   \n",
       "274           0789-42-66-54          Youth Headed  Buh-Aka-Bas-M-102520-14   \n",
       "\n",
       "       status  \n",
       "3361  reserve  \n",
       "1736  reserve  \n",
       "273   reserve  \n",
       "3372  reserve  \n",
       "274   reserve  "
      ]
     },
     "execution_count": 81,
     "metadata": {},
     "output_type": "execute_result"
    }
   ],
   "source": [
    "youth_reserve_sample['status'] = 'reserve'\n",
    "youth_reserve_sample.head()"
   ]
  },
  {
   "cell_type": "code",
   "execution_count": 82,
   "id": "ef00df30",
   "metadata": {
    "id": "0aff8617",
    "slideshow": {
     "slide_type": "skip"
    }
   },
   "outputs": [],
   "source": [
    "# youth_reserve_sample.to_excel('mit/youth_reserve_sample.xlsx', index=False)"
   ]
  },
  {
   "cell_type": "markdown",
   "id": "758d72a4",
   "metadata": {
    "id": "55c723e1",
    "slideshow": {
     "slide_type": "slide"
    }
   },
   "source": [
    "# Youth Household Sample"
   ]
  },
  {
   "cell_type": "code",
   "execution_count": 83,
   "id": "07c6ddc6",
   "metadata": {
    "id": "1fa36c9b",
    "outputId": "b4f3199b-b088-4116-91d9-4c5971286f16",
    "slideshow": {
     "slide_type": "skip"
    }
   },
   "outputs": [
    {
     "data": {
      "text/plain": [
       "((2643, 9), (2263, 9))"
      ]
     },
     "execution_count": 83,
     "metadata": {},
     "output_type": "execute_result"
    }
   ],
   "source": [
    "youth_target_sample.shape, youth_reserve_sample.shape"
   ]
  },
  {
   "cell_type": "code",
   "execution_count": 84,
   "id": "cdec643a",
   "metadata": {
    "id": "dbf967a5",
    "slideshow": {
     "slide_type": "fragment"
    }
   },
   "outputs": [],
   "source": [
    "YOUTH_HH_SAMPLE = pd.concat([youth_target_sample, youth_reserve_sample])"
   ]
  },
  {
   "cell_type": "code",
   "execution_count": 85,
   "id": "ad622f83",
   "metadata": {
    "id": "42b22501",
    "slideshow": {
     "slide_type": "skip"
    }
   },
   "outputs": [],
   "source": [
    "# YOUTH_HH_SAMPLE.to_excel('mit/YOUTH_HH_SAMPLE.xlsx', index=False)"
   ]
  },
  {
   "cell_type": "markdown",
   "id": "055cf767",
   "metadata": {
    "slideshow": {
     "slide_type": "skip"
    }
   },
   "source": [
    "We now have sample for males, females, and youths. Let's combine."
   ]
  },
  {
   "cell_type": "markdown",
   "id": "a760a3ae",
   "metadata": {
    "id": "6184c074",
    "slideshow": {
     "slide_type": "slide"
    }
   },
   "source": [
    "# JOINING THE DATAFRAMES"
   ]
  },
  {
   "cell_type": "code",
   "execution_count": 88,
   "id": "9459fc71",
   "metadata": {
    "id": "4128546d",
    "outputId": "4b648906-ebb7-438e-bc28-0df3a63b5276",
    "slideshow": {
     "slide_type": "fragment"
    }
   },
   "outputs": [
    {
     "data": {
      "text/plain": [
       "((13401, 9), (5212, 9), (4906, 9))"
      ]
     },
     "execution_count": 88,
     "metadata": {},
     "output_type": "execute_result"
    }
   ],
   "source": [
    "MALE_HH_SAMPLE.shape, FEMALE_HH_SAMPLE.shape, YOUTH_HH_SAMPLE.shape"
   ]
  },
  {
   "cell_type": "code",
   "execution_count": 5,
   "id": "fe552826",
   "metadata": {
    "slideshow": {
     "slide_type": "skip"
    }
   },
   "outputs": [],
   "source": [
    "import numpy as np"
   ]
  },
  {
   "cell_type": "code",
   "execution_count": 91,
   "id": "3066a0f4",
   "metadata": {
    "id": "edc79f76",
    "outputId": "a762b494-3b76-412c-e022-e596bdcc665f",
    "slideshow": {
     "slide_type": "skip"
    }
   },
   "outputs": [
    {
     "data": {
      "text/plain": [
       "(23519, 56187)"
      ]
     },
     "execution_count": 91,
     "metadata": {},
     "output_type": "execute_result"
    }
   ],
   "source": [
    "np.array((MALE_HH_SAMPLE.shape[0], FEMALE_HH_SAMPLE.shape[0], YOUTH_HH_SAMPLE.shape[0])).sum(), len(df)"
   ]
  },
  {
   "cell_type": "code",
   "execution_count": 92,
   "id": "f96387d8",
   "metadata": {
    "id": "e16a7432",
    "slideshow": {
     "slide_type": "fragment"
    }
   },
   "outputs": [],
   "source": [
    "FINAL = pd.concat([MALE_HH_SAMPLE, FEMALE_HH_SAMPLE, YOUTH_HH_SAMPLE])"
   ]
  },
  {
   "cell_type": "code",
   "execution_count": 94,
   "id": "746e84e1",
   "metadata": {
    "id": "a397efd5",
    "slideshow": {
     "slide_type": "fragment"
    }
   },
   "outputs": [],
   "source": [
    "FINAL.to_excel('FINAL_Track_sheets.xlsx', index=False)"
   ]
  },
  {
   "cell_type": "code",
   "execution_count": 95,
   "id": "d529e07a",
   "metadata": {
    "id": "2a9e868a",
    "outputId": "9451ed2f-85de-4e1f-c460-a83e20318353",
    "slideshow": {
     "slide_type": "slide"
    }
   },
   "outputs": [
    {
     "data": {
      "text/html": [
       "<div>\n",
       "<style scoped>\n",
       "    .dataframe tbody tr th:only-of-type {\n",
       "        vertical-align: middle;\n",
       "    }\n",
       "\n",
       "    .dataframe tbody tr th {\n",
       "        vertical-align: top;\n",
       "    }\n",
       "\n",
       "    .dataframe thead th {\n",
       "        text-align: right;\n",
       "    }\n",
       "</style>\n",
       "<table border=\"1\" class=\"dataframe\">\n",
       "  <thead>\n",
       "    <tr style=\"text-align: right;\">\n",
       "      <th></th>\n",
       "      <th>district</th>\n",
       "      <th>subcounty</th>\n",
       "      <th>parish_t</th>\n",
       "      <th>village</th>\n",
       "      <th>hhh_full_name</th>\n",
       "      <th>Household_Head_Contact</th>\n",
       "      <th>Household_Head_Gender</th>\n",
       "      <th>hhid</th>\n",
       "      <th>status</th>\n",
       "    </tr>\n",
       "  </thead>\n",
       "  <tbody>\n",
       "    <tr>\n",
       "      <th>1740</th>\n",
       "      <td>Buhweju</td>\n",
       "      <td>Kyahenda</td>\n",
       "      <td>Nyamihira</td>\n",
       "      <td>Akatojo</td>\n",
       "      <td>Jackson Musinguzi</td>\n",
       "      <td>0788-81-29-04</td>\n",
       "      <td>Male Headed</td>\n",
       "      <td>Buh-Aka-Jac-M-180309-14</td>\n",
       "      <td>target</td>\n",
       "    </tr>\n",
       "    <tr>\n",
       "      <th>3363</th>\n",
       "      <td>Buhweju</td>\n",
       "      <td>Kyahenda</td>\n",
       "      <td>Nyamihira</td>\n",
       "      <td>Akatojo</td>\n",
       "      <td>Pauson Katunguka</td>\n",
       "      <td>0772-98-63-99</td>\n",
       "      <td>Male Headed</td>\n",
       "      <td>Buh-Aka-Pau-M-100640-14</td>\n",
       "      <td>target</td>\n",
       "    </tr>\n",
       "    <tr>\n",
       "      <th>1737</th>\n",
       "      <td>Buhweju</td>\n",
       "      <td>Kyahenda</td>\n",
       "      <td>Nyamihira</td>\n",
       "      <td>Akatojo</td>\n",
       "      <td>Wilson Tuhame</td>\n",
       "      <td>0788-65-73-74</td>\n",
       "      <td>Male Headed</td>\n",
       "      <td>Buh-Aka-Wil-M-173148-14</td>\n",
       "      <td>target</td>\n",
       "    </tr>\n",
       "    <tr>\n",
       "      <th>3369</th>\n",
       "      <td>Buhweju</td>\n",
       "      <td>Kyahenda</td>\n",
       "      <td>Nyamihira</td>\n",
       "      <td>Akatojo</td>\n",
       "      <td>John Bundaga</td>\n",
       "      <td>0788-65-73-74</td>\n",
       "      <td>Male Headed</td>\n",
       "      <td>Buh-Aka-Joh-M-110920-14</td>\n",
       "      <td>target</td>\n",
       "    </tr>\n",
       "    <tr>\n",
       "      <th>3359</th>\n",
       "      <td>Buhweju</td>\n",
       "      <td>Kyahenda</td>\n",
       "      <td>Nyamihira</td>\n",
       "      <td>Akatojo</td>\n",
       "      <td>Isamen Nowamaani</td>\n",
       "      <td>0760-96-99-69</td>\n",
       "      <td>Male Headed</td>\n",
       "      <td>Buh-Aka-Isa-M-090850-14</td>\n",
       "      <td>target</td>\n",
       "    </tr>\n",
       "    <tr>\n",
       "      <th>...</th>\n",
       "      <td>...</td>\n",
       "      <td>...</td>\n",
       "      <td>...</td>\n",
       "      <td>...</td>\n",
       "      <td>...</td>\n",
       "      <td>...</td>\n",
       "      <td>...</td>\n",
       "      <td>...</td>\n",
       "      <td>...</td>\n",
       "    </tr>\n",
       "    <tr>\n",
       "      <th>28042</th>\n",
       "      <td>Kagadi</td>\n",
       "      <td>Kanyabeebe</td>\n",
       "      <td>Kashagali</td>\n",
       "      <td>Yeruzalemu_B</td>\n",
       "      <td>Keresi Niwamanya</td>\n",
       "      <td>0771-22-54-91</td>\n",
       "      <td>Youth Headed</td>\n",
       "      <td>Kag-Yer-Ker-M-140235-9</td>\n",
       "      <td>reserve</td>\n",
       "    </tr>\n",
       "    <tr>\n",
       "      <th>27967</th>\n",
       "      <td>Kagadi</td>\n",
       "      <td>Kanyabeebe</td>\n",
       "      <td>Kashagali</td>\n",
       "      <td>Yeruzalemu_C</td>\n",
       "      <td>Kukahirwa Busobozi</td>\n",
       "      <td>0763-81-93-13</td>\n",
       "      <td>Youth Headed</td>\n",
       "      <td>Kag-Yer-Kuk-M-135234-9</td>\n",
       "      <td>reserve</td>\n",
       "    </tr>\n",
       "    <tr>\n",
       "      <th>27957</th>\n",
       "      <td>Kagadi</td>\n",
       "      <td>Kanyabeebe</td>\n",
       "      <td>Kashagali</td>\n",
       "      <td>Yeruzalemu_C</td>\n",
       "      <td>Katurebe Asafu</td>\n",
       "      <td>0785-57-26-34</td>\n",
       "      <td>Youth Headed</td>\n",
       "      <td>Kag-Yer-Kat-M-121226-9</td>\n",
       "      <td>reserve</td>\n",
       "    </tr>\n",
       "    <tr>\n",
       "      <th>27962</th>\n",
       "      <td>Kagadi</td>\n",
       "      <td>Kanyabeebe</td>\n",
       "      <td>Kashagali</td>\n",
       "      <td>Yeruzalemu_C</td>\n",
       "      <td>Maniraguha Mozesi</td>\n",
       "      <td>0785-57-26-34</td>\n",
       "      <td>Youth Headed</td>\n",
       "      <td>Kag-Yer-Man-M-131059-9</td>\n",
       "      <td>reserve</td>\n",
       "    </tr>\n",
       "    <tr>\n",
       "      <th>30497</th>\n",
       "      <td>Kagadi</td>\n",
       "      <td>Kanyabeebe</td>\n",
       "      <td>Kashagali</td>\n",
       "      <td>Yeruzalemu_C</td>\n",
       "      <td>Murebire Venansio</td>\n",
       "      <td>0786-75-03-94</td>\n",
       "      <td>Youth Headed</td>\n",
       "      <td>Kag-Yer-Mur-M-094224-9</td>\n",
       "      <td>reserve</td>\n",
       "    </tr>\n",
       "  </tbody>\n",
       "</table>\n",
       "<p>23519 rows × 9 columns</p>\n",
       "</div>"
      ],
      "text/plain": [
       "      district   subcounty   parish_t       village       hhh_full_name  \\\n",
       "1740   Buhweju    Kyahenda  Nyamihira       Akatojo   Jackson Musinguzi   \n",
       "3363   Buhweju    Kyahenda  Nyamihira       Akatojo    Pauson Katunguka   \n",
       "1737   Buhweju    Kyahenda  Nyamihira       Akatojo       Wilson Tuhame   \n",
       "3369   Buhweju    Kyahenda  Nyamihira       Akatojo        John Bundaga   \n",
       "3359   Buhweju    Kyahenda  Nyamihira       Akatojo    Isamen Nowamaani   \n",
       "...        ...         ...        ...           ...                 ...   \n",
       "28042   Kagadi  Kanyabeebe  Kashagali  Yeruzalemu_B    Keresi Niwamanya   \n",
       "27967   Kagadi  Kanyabeebe  Kashagali  Yeruzalemu_C  Kukahirwa Busobozi   \n",
       "27957   Kagadi  Kanyabeebe  Kashagali  Yeruzalemu_C      Katurebe Asafu   \n",
       "27962   Kagadi  Kanyabeebe  Kashagali  Yeruzalemu_C   Maniraguha Mozesi   \n",
       "30497   Kagadi  Kanyabeebe  Kashagali  Yeruzalemu_C   Murebire Venansio   \n",
       "\n",
       "      Household_Head_Contact Household_Head_Gender                     hhid  \\\n",
       "1740           0788-81-29-04           Male Headed  Buh-Aka-Jac-M-180309-14   \n",
       "3363           0772-98-63-99           Male Headed  Buh-Aka-Pau-M-100640-14   \n",
       "1737           0788-65-73-74           Male Headed  Buh-Aka-Wil-M-173148-14   \n",
       "3369           0788-65-73-74           Male Headed  Buh-Aka-Joh-M-110920-14   \n",
       "3359           0760-96-99-69           Male Headed  Buh-Aka-Isa-M-090850-14   \n",
       "...                      ...                   ...                      ...   \n",
       "28042          0771-22-54-91          Youth Headed   Kag-Yer-Ker-M-140235-9   \n",
       "27967          0763-81-93-13          Youth Headed   Kag-Yer-Kuk-M-135234-9   \n",
       "27957          0785-57-26-34          Youth Headed   Kag-Yer-Kat-M-121226-9   \n",
       "27962          0785-57-26-34          Youth Headed   Kag-Yer-Man-M-131059-9   \n",
       "30497          0786-75-03-94          Youth Headed   Kag-Yer-Mur-M-094224-9   \n",
       "\n",
       "        status  \n",
       "1740    target  \n",
       "3363    target  \n",
       "1737    target  \n",
       "3369    target  \n",
       "3359    target  \n",
       "...        ...  \n",
       "28042  reserve  \n",
       "27967  reserve  \n",
       "27957  reserve  \n",
       "27962  reserve  \n",
       "30497  reserve  \n",
       "\n",
       "[23519 rows x 9 columns]"
      ]
     },
     "execution_count": 95,
     "metadata": {},
     "output_type": "execute_result"
    }
   ],
   "source": [
    "FINAL"
   ]
  },
  {
   "cell_type": "code",
   "execution_count": 102,
   "id": "81a46382",
   "metadata": {
    "id": "039b8561",
    "outputId": "930064e8-2152-45a1-d48a-08f365e7d2ff",
    "slideshow": {
     "slide_type": "skip"
    }
   },
   "outputs": [
    {
     "data": {
      "text/plain": [
       "34"
      ]
     },
     "execution_count": 102,
     "metadata": {},
     "output_type": "execute_result"
    }
   ],
   "source": [
    "len(FINAL[FINAL['village'] == 'Yeruzalemu_C'])"
   ]
  },
  {
   "cell_type": "markdown",
   "id": "2a1c0510",
   "metadata": {
    "id": "523de8db",
    "slideshow": {
     "slide_type": "notes"
    }
   },
   "source": [
    "## There is a term DRY used in software engineering meaning Dont Repeat yourself. There is alot of code repeating itself. However much the code works and does what it is intended to do, If an expert reads the code, they can easily grade you as a beginner.\n",
    "- Let's see in the next series how we can write high quality code. If you curious you can try it yourself.\n",
    "- You can also make this a script other than a jupyter notebook, can you do that. Give it a try. Notebooks are great for data analysis and exploratory anaysis plus experimenting things. But if your goal is to become a serious programmer, they might not take you that far. It's so easy to feel lazy to"
   ]
  },
  {
   "cell_type": "code",
   "execution_count": 100,
   "id": "904cd942",
   "metadata": {
    "id": "e21f1503-568f-4772-a9c6-ebbde8b1fe37",
    "slideshow": {
     "slide_type": "notes"
    }
   },
   "outputs": [],
   "source": [
    "# grouped_data = FINAL.groupby('status')\n",
    "\n",
    "# with pd.ExcelWriter('mit/01_Mitooma.xlsx', engine='openpyxl') as writer:\n",
    "#     for status, group_df in grouped_data:\n",
    "#         group_df.to_excel(writer, sheet_name=f'{status}', index=False)"
   ]
  }
 ],
 "metadata": {
  "celltoolbar": "Slideshow",
  "colab": {
   "provenance": []
  },
  "kernelspec": {
   "display_name": "Python 3 (ipykernel)",
   "language": "python",
   "name": "python3"
  },
  "language_info": {
   "codemirror_mode": {
    "name": "ipython",
    "version": 3
   },
   "file_extension": ".py",
   "mimetype": "text/x-python",
   "name": "python",
   "nbconvert_exporter": "python",
   "pygments_lexer": "ipython3",
   "version": "3.10.12"
  }
 },
 "nbformat": 4,
 "nbformat_minor": 5
}
