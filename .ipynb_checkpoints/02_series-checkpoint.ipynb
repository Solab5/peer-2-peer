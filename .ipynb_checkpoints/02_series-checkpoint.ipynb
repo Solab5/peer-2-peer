{
 "cells": [
  {
   "cell_type": "code",
   "execution_count": 10,
   "id": "45a6f765-86ab-4904-abda-8958c99fd666",
   "metadata": {
    "tags": []
   },
   "outputs": [],
   "source": [
    "%load_ext autoreload\n",
    "%autoreload 2"
   ]
  },
  {
   "cell_type": "code",
   "execution_count": 44,
   "id": "4c695eed-9709-4033-9b8d-c4a00a047892",
   "metadata": {
    "tags": []
   },
   "outputs": [],
   "source": [
    "import numpy as np\n",
    "import pandas as pd\n",
    "from pathlib import Path"
   ]
  },
  {
   "cell_type": "code",
   "execution_count": 106,
   "id": "141edbb6-06f6-4d57-a8b0-0ac9c8555291",
   "metadata": {
    "tags": []
   },
   "outputs": [],
   "source": [
    "from common_functions.utils import read_file, prepare_data\n",
    "from sampling.sampling_functions import *"
   ]
  },
  {
   "cell_type": "code",
   "execution_count": 32,
   "id": "c8518589-8c54-435e-bd25-1c96cf4efbdc",
   "metadata": {
    "tags": []
   },
   "outputs": [],
   "source": [
    "path = Path(\"midwest2024.xlsx\")\n",
    "data = read_file(path)"
   ]
  },
  {
   "cell_type": "markdown",
   "id": "a116a779-d103-42e8-9ea7-2fc04e9aae39",
   "metadata": {},
   "source": [
    "### Data Processing"
   ]
  },
  {
   "cell_type": "code",
   "execution_count": 111,
   "id": "3407d673-8b84-4ed4-9a57-98c764244290",
   "metadata": {
    "tags": []
   },
   "outputs": [],
   "source": [
    "# Prepare a copy of our data so that we don't read the file all the time.\n",
    "df = data.copy()"
   ]
  },
  {
   "cell_type": "code",
   "execution_count": 112,
   "id": "0e64a2fb-ca57-4c76-86d9-785380cb60a0",
   "metadata": {
    "tags": []
   },
   "outputs": [],
   "source": [
    "df = prepare_data(df)"
   ]
  },
  {
   "cell_type": "code",
   "execution_count": 114,
   "id": "64425a16-7726-4066-ac9e-5a77d4bae1e1",
   "metadata": {
    "tags": []
   },
   "outputs": [],
   "source": [
    "# Let's get the counts for the villages\n",
    "village_counts = df['village'].value_counts()"
   ]
  },
  {
   "cell_type": "markdown",
   "id": "ce2fd96e-4c71-40b1-a00b-6fbebb587ee2",
   "metadata": {},
   "source": [
    "## Calling Sampling function to do all the heavy lifting."
   ]
  },
  {
   "cell_type": "code",
   "execution_count": 116,
   "id": "fa33259f-fd7a-48df-823a-1e584ad04c1d",
   "metadata": {
    "tags": []
   },
   "outputs": [],
   "source": [
    "FINAL = get_final_df(df.copy(), village_counts)"
   ]
  },
  {
   "cell_type": "code",
   "execution_count": 117,
   "id": "4452a8e3-ef09-4e89-a9f5-61ca631f179e",
   "metadata": {
    "tags": []
   },
   "outputs": [
    {
     "data": {
      "text/html": [
       "<div>\n",
       "<style scoped>\n",
       "    .dataframe tbody tr th:only-of-type {\n",
       "        vertical-align: middle;\n",
       "    }\n",
       "\n",
       "    .dataframe tbody tr th {\n",
       "        vertical-align: top;\n",
       "    }\n",
       "\n",
       "    .dataframe thead th {\n",
       "        text-align: right;\n",
       "    }\n",
       "</style>\n",
       "<table border=\"1\" class=\"dataframe\">\n",
       "  <thead>\n",
       "    <tr style=\"text-align: right;\">\n",
       "      <th></th>\n",
       "      <th>district</th>\n",
       "      <th>subcounty</th>\n",
       "      <th>parish_t</th>\n",
       "      <th>village</th>\n",
       "      <th>hhh_full_name</th>\n",
       "      <th>Household_Head_Contact</th>\n",
       "      <th>Household_Head_Gender</th>\n",
       "      <th>hhid</th>\n",
       "      <th>status</th>\n",
       "    </tr>\n",
       "  </thead>\n",
       "  <tbody>\n",
       "    <tr>\n",
       "      <th>38853</th>\n",
       "      <td>Kakumiro</td>\n",
       "      <td>Kikoora</td>\n",
       "      <td>Kigoma</td>\n",
       "      <td>Kigoma</td>\n",
       "      <td>Denis Byaruhanga</td>\n",
       "      <td>0777-66-73-01</td>\n",
       "      <td>Male Headed</td>\n",
       "      <td>Kak-Kig-Den-M-131619-9</td>\n",
       "      <td>reserve</td>\n",
       "    </tr>\n",
       "    <tr>\n",
       "      <th>19695</th>\n",
       "      <td>Rukiga</td>\n",
       "      <td>Kamwezi</td>\n",
       "      <td>Kyabuhangwa</td>\n",
       "      <td>Kankiro</td>\n",
       "      <td>Annet Gloria</td>\n",
       "      <td>0784-05-38-96</td>\n",
       "      <td>Female Headed</td>\n",
       "      <td>Ruk-Kan-Ann-F-164758-13</td>\n",
       "      <td>reserve</td>\n",
       "    </tr>\n",
       "    <tr>\n",
       "      <th>3372</th>\n",
       "      <td>Buhweju</td>\n",
       "      <td>Kyahenda</td>\n",
       "      <td>Nyamihira</td>\n",
       "      <td>Akatojo</td>\n",
       "      <td>Ronard Muhweju</td>\n",
       "      <td>0763-93-28-08</td>\n",
       "      <td>Youth Headed</td>\n",
       "      <td>Buh-Aka-Ron-M-114224-14</td>\n",
       "      <td>target</td>\n",
       "    </tr>\n",
       "    <tr>\n",
       "      <th>3034</th>\n",
       "      <td>Rubirizi</td>\n",
       "      <td>Magambo</td>\n",
       "      <td>Butoha</td>\n",
       "      <td>Nyangorogoro_1</td>\n",
       "      <td>GASTON Ngabirano</td>\n",
       "      <td>0774-36-55-94</td>\n",
       "      <td>Male Headed</td>\n",
       "      <td>Rub-Nya-GAS-M-124510-9</td>\n",
       "      <td>target</td>\n",
       "    </tr>\n",
       "    <tr>\n",
       "      <th>36621</th>\n",
       "      <td>Kyenjojo</td>\n",
       "      <td>Bugaaki</td>\n",
       "      <td>Kasenyi</td>\n",
       "      <td>Katooke</td>\n",
       "      <td>Christopher Byamukama</td>\n",
       "      <td>0775-83-28-59</td>\n",
       "      <td>Male Headed</td>\n",
       "      <td>Kye-Kat-Chr-M-122625-9</td>\n",
       "      <td>reserve</td>\n",
       "    </tr>\n",
       "    <tr>\n",
       "      <th>7501</th>\n",
       "      <td>Mitooma</td>\n",
       "      <td>Mitooma</td>\n",
       "      <td>Nyakishojwa</td>\n",
       "      <td>Kihumuro_Nyakishowa</td>\n",
       "      <td>Mugaiga Augastus</td>\n",
       "      <td>0774-12-71-44</td>\n",
       "      <td>Male Headed</td>\n",
       "      <td>Mit-Kih-Mug-M-173136-5</td>\n",
       "      <td>target</td>\n",
       "    </tr>\n",
       "    <tr>\n",
       "      <th>23056</th>\n",
       "      <td>Rukiga</td>\n",
       "      <td>Rwamucucu</td>\n",
       "      <td>Nyarurambi_Rukiga</td>\n",
       "      <td>Nyakahanga_Rwamucucu</td>\n",
       "      <td>Derrick Niwagaba</td>\n",
       "      <td>0703-25-51-61</td>\n",
       "      <td>Youth Headed</td>\n",
       "      <td>Ruk-Nya-Der-M-024952-13</td>\n",
       "      <td>target</td>\n",
       "    </tr>\n",
       "    <tr>\n",
       "      <th>24430</th>\n",
       "      <td>Rukiga</td>\n",
       "      <td>Rwamucucu</td>\n",
       "      <td>Ibumba</td>\n",
       "      <td>Omukishenyi</td>\n",
       "      <td>TURYASINGURA WILLIAM</td>\n",
       "      <td>0741-94-46-12</td>\n",
       "      <td>Male Headed</td>\n",
       "      <td>Ruk-Omu-TUR-M-175521-13</td>\n",
       "      <td>reserve</td>\n",
       "    </tr>\n",
       "    <tr>\n",
       "      <th>23567</th>\n",
       "      <td>Rukungiri</td>\n",
       "      <td>Bwambara</td>\n",
       "      <td>Nyabubare</td>\n",
       "      <td>Rutoomae_Bwambara</td>\n",
       "      <td>Robert Muhwezi</td>\n",
       "      <td>0762-29-03-94</td>\n",
       "      <td>Youth Headed</td>\n",
       "      <td>Ruk-Rut-Rob-M-182705-3</td>\n",
       "      <td>reserve</td>\n",
       "    </tr>\n",
       "    <tr>\n",
       "      <th>29619</th>\n",
       "      <td>Kibaale</td>\n",
       "      <td>Mugarama</td>\n",
       "      <td>Imara</td>\n",
       "      <td>Kiteedi</td>\n",
       "      <td>TUSIME SERERE</td>\n",
       "      <td>0780-94-13-65</td>\n",
       "      <td>Male Headed</td>\n",
       "      <td>Kib-Kit-TUS-M-083555-9</td>\n",
       "      <td>reserve</td>\n",
       "    </tr>\n",
       "  </tbody>\n",
       "</table>\n",
       "</div>"
      ],
      "text/plain": [
       "        district  subcounty           parish_t               village  \\\n",
       "38853   Kakumiro    Kikoora             Kigoma                Kigoma   \n",
       "19695     Rukiga    Kamwezi        Kyabuhangwa               Kankiro   \n",
       "3372     Buhweju   Kyahenda          Nyamihira               Akatojo   \n",
       "3034    Rubirizi    Magambo             Butoha        Nyangorogoro_1   \n",
       "36621   Kyenjojo    Bugaaki            Kasenyi               Katooke   \n",
       "7501     Mitooma    Mitooma        Nyakishojwa   Kihumuro_Nyakishowa   \n",
       "23056     Rukiga  Rwamucucu  Nyarurambi_Rukiga  Nyakahanga_Rwamucucu   \n",
       "24430     Rukiga  Rwamucucu             Ibumba           Omukishenyi   \n",
       "23567  Rukungiri   Bwambara          Nyabubare     Rutoomae_Bwambara   \n",
       "29619    Kibaale   Mugarama              Imara               Kiteedi   \n",
       "\n",
       "               hhh_full_name Household_Head_Contact Household_Head_Gender  \\\n",
       "38853       Denis Byaruhanga          0777-66-73-01           Male Headed   \n",
       "19695           Annet Gloria          0784-05-38-96         Female Headed   \n",
       "3372          Ronard Muhweju          0763-93-28-08          Youth Headed   \n",
       "3034        GASTON Ngabirano          0774-36-55-94           Male Headed   \n",
       "36621  Christopher Byamukama          0775-83-28-59           Male Headed   \n",
       "7501        Mugaiga Augastus          0774-12-71-44           Male Headed   \n",
       "23056       Derrick Niwagaba          0703-25-51-61          Youth Headed   \n",
       "24430   TURYASINGURA WILLIAM          0741-94-46-12           Male Headed   \n",
       "23567         Robert Muhwezi          0762-29-03-94          Youth Headed   \n",
       "29619          TUSIME SERERE          0780-94-13-65           Male Headed   \n",
       "\n",
       "                          hhid   status  \n",
       "38853   Kak-Kig-Den-M-131619-9  reserve  \n",
       "19695  Ruk-Kan-Ann-F-164758-13  reserve  \n",
       "3372   Buh-Aka-Ron-M-114224-14   target  \n",
       "3034    Rub-Nya-GAS-M-124510-9   target  \n",
       "36621   Kye-Kat-Chr-M-122625-9  reserve  \n",
       "7501    Mit-Kih-Mug-M-173136-5   target  \n",
       "23056  Ruk-Nya-Der-M-024952-13   target  \n",
       "24430  Ruk-Omu-TUR-M-175521-13  reserve  \n",
       "23567   Ruk-Rut-Rob-M-182705-3  reserve  \n",
       "29619   Kib-Kit-TUS-M-083555-9  reserve  "
      ]
     },
     "execution_count": 117,
     "metadata": {},
     "output_type": "execute_result"
    }
   ],
   "source": [
    "FINAL.sample(10)"
   ]
  }
 ],
 "metadata": {
  "kernelspec": {
   "display_name": "Python 3 (ipykernel)",
   "language": "python",
   "name": "python3"
  },
  "language_info": {
   "codemirror_mode": {
    "name": "ipython",
    "version": 3
   },
   "file_extension": ".py",
   "mimetype": "text/x-python",
   "name": "python",
   "nbconvert_exporter": "python",
   "pygments_lexer": "ipython3",
   "version": "3.10.12"
  }
 },
 "nbformat": 4,
 "nbformat_minor": 5
}
