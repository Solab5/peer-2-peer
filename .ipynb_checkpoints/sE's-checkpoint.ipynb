{
 "cells": [
  {
   "cell_type": "markdown",
   "id": "1cca0fdb",
   "metadata": {
    "id": "9Vz_WZmMmpxl",
    "slideshow": {
     "slide_type": "slide"
    }
   },
   "source": [
    "### 01 Series Peer 2 Peer"
   ]
  },
  {
   "cell_type": "markdown",
   "id": "935c03f7",
   "metadata": {
    "id": "N71IxY32nEpd",
    "slideshow": {
     "slide_type": "notes"
    }
   },
   "source": [
    "Since we're working with tabular data, we'll be using the pandas library. This nifty tool will turn our dataset into a dataframe, which is just a fancy way of saying a table with rows and columns. Now, we won't be using the term 'table' much in this walkthrough. So, whenever you hear 'dataframe', just picture those neat rows and columns we're talking about."
   ]
  },
  {
   "cell_type": "markdown",
   "id": "4d152d03",
   "metadata": {
    "id": "6rO2ihe0DZx2",
    "slideshow": {
     "slide_type": "notes"
    }
   },
   "source": [
    "To start utilizing a library in Python, you simply import it with the 'import' statement and then name the library. For convenience, 'pd' is often used as a shorthand alias for 'pandas', so we don't have to keep typing 'pandas' repeatedly. Let's go ahead and import it. While we won't go through every single pandas method here, you can always visit the official site at https://pandas.pydata.org/docs/user_guide/index.html to explore all the methods pandas offers."
   ]
  },
  {
   "cell_type": "code",
   "execution_count": 1,
   "id": "13ccaef3",
   "metadata": {
    "id": "f064745d",
    "slideshow": {
     "slide_type": "fragment"
    }
   },
   "outputs": [],
   "source": [
    "import pandas as pd"
   ]
  },
  {
   "cell_type": "markdown",
   "id": "90f39bf0",
   "metadata": {
    "id": "sdMna3j9Et_K",
    "slideshow": {
     "slide_type": "notes"
    }
   },
   "source": [
    "Python, like any other programming language, allows you to use variables to store information. This means that if you ever need to use this information again, you can simply recall the variable name."
   ]
  },
  {
   "cell_type": "markdown",
   "id": "c8b0f2de",
   "metadata": {
    "slideshow": {
     "slide_type": "slide"
    }
   },
   "source": [
    "### Variables"
   ]
  },
  {
   "cell_type": "markdown",
   "id": "6894aa8f",
   "metadata": {
    "id": "UlN1p_9BFjKU",
    "slideshow": {
     "slide_type": "fragment"
    }
   },
   "source": [
    "### Examples\n",
    "\n",
    "Let's assign some variables to a and b. This means that we are storing these 5 to a then 7 to b"
   ]
  },
  {
   "cell_type": "code",
   "execution_count": 2,
   "id": "f1f570d2",
   "metadata": {
    "id": "UlN1p_9BFjKU",
    "slideshow": {
     "slide_type": "fragment"
    }
   },
   "outputs": [],
   "source": [
    "a = 5\n",
    "b = 7"
   ]
  },
  {
   "cell_type": "code",
   "execution_count": 3,
   "id": "bee44478",
   "metadata": {
    "colab": {
     "base_uri": "https://localhost:8080/"
    },
    "id": "ZElL6TTKGI5E",
    "outputId": "20c2916c-da35-4a83-e5e8-b01ab9909392",
    "slideshow": {
     "slide_type": "fragment"
    }
   },
   "outputs": [
    {
     "data": {
      "text/plain": [
       "(5, 7)"
      ]
     },
     "execution_count": 3,
     "metadata": {},
     "output_type": "execute_result"
    }
   ],
   "source": [
    "a, b"
   ]
  },
  {
   "cell_type": "markdown",
   "id": "2814140b",
   "metadata": {
    "id": "XEFGFKfkGLJa",
    "slideshow": {
     "slide_type": "notes"
    }
   },
   "source": [
    "If I print, you can see that a returns 5 whereas b returns 7. We are going to do the same and store our dataframe in a variable df. You can realize that you can get output without even using print function. but you can use it if you want, you will get the same results."
   ]
  },
  {
   "cell_type": "code",
   "execution_count": 39,
   "id": "d364f160",
   "metadata": {
    "id": "f064745d",
    "slideshow": {
     "slide_type": "slide"
    }
   },
   "outputs": [],
   "source": [
    "df = pd.read_excel(\"Household datasets for SEs.xlsx\")"
   ]
  },
  {
   "cell_type": "markdown",
   "id": "091683a7",
   "metadata": {
    "id": "LzlTTabLD12s",
    "slideshow": {
     "slide_type": "fragment"
    }
   },
   "source": [
    "# Exploring Data with Pandas\n",
    "Most times when we read a file, we want to know what our data is all about for example how many variables it has, the number of observations and so on. Pandas provides very handy methods that can do this.\n",
    "\n",
    "- `df.shape` which returns the number of rows and columns of your table\n",
    "\n",
    "- `df.head()` which returns by default the first 5 rows of the dataframe."
   ]
  },
  {
   "cell_type": "code",
   "execution_count": 40,
   "id": "dfbf7397",
   "metadata": {
    "colab": {
     "base_uri": "https://localhost:8080/",
     "height": 504
    },
    "id": "ab74a51a",
    "outputId": "12194158-8848-4224-8b9b-93fa90e4b285",
    "slideshow": {
     "slide_type": "slide"
    }
   },
   "outputs": [
    {
     "name": "stdout",
     "output_type": "stream",
     "text": [
      "(92684, 14)\n"
     ]
    },
    {
     "data": {
      "text/html": [
       "<div>\n",
       "<style scoped>\n",
       "    .dataframe tbody tr th:only-of-type {\n",
       "        vertical-align: middle;\n",
       "    }\n",
       "\n",
       "    .dataframe tbody tr th {\n",
       "        vertical-align: top;\n",
       "    }\n",
       "\n",
       "    .dataframe thead th {\n",
       "        text-align: right;\n",
       "    }\n",
       "</style>\n",
       "<table border=\"1\" class=\"dataframe\">\n",
       "  <thead>\n",
       "    <tr style=\"text-align: right;\">\n",
       "      <th></th>\n",
       "      <th>district</th>\n",
       "      <th>subcounty</th>\n",
       "      <th>Parish</th>\n",
       "      <th>Cluster</th>\n",
       "      <th>village</th>\n",
       "      <th>Cohort</th>\n",
       "      <th>Cycle</th>\n",
       "      <th>Type</th>\n",
       "      <th>id</th>\n",
       "      <th>hhh_name</th>\n",
       "      <th>Contact</th>\n",
       "      <th>OX_ID</th>\n",
       "      <th>gender</th>\n",
       "      <th>age</th>\n",
       "    </tr>\n",
       "  </thead>\n",
       "  <tbody>\n",
       "    <tr>\n",
       "      <th>92682</th>\n",
       "      <td>Kyenjojo</td>\n",
       "      <td>Nyantungo</td>\n",
       "      <td>Mabaale</td>\n",
       "      <td>Mabaale</td>\n",
       "      <td>Nyarugongo</td>\n",
       "      <td>2024</td>\n",
       "      <td>A</td>\n",
       "      <td>NaN</td>\n",
       "      <td>KYE-NYA-AKU-M-130701</td>\n",
       "      <td>Akugizibwe Arikanjeru</td>\n",
       "      <td>772752000</td>\n",
       "      <td>KYE-NYA-AKU-M-130701</td>\n",
       "      <td>Male</td>\n",
       "      <td>NaN</td>\n",
       "    </tr>\n",
       "    <tr>\n",
       "      <th>92683</th>\n",
       "      <td>Kyenjojo</td>\n",
       "      <td>Nyantungo</td>\n",
       "      <td>Mabaale</td>\n",
       "      <td>Mabaale</td>\n",
       "      <td>Nyarugongo</td>\n",
       "      <td>2024</td>\n",
       "      <td>A</td>\n",
       "      <td>NaN</td>\n",
       "      <td>KYE-NYA-BRI-M-135651</td>\n",
       "      <td>Brian Twesige</td>\n",
       "      <td>777078648</td>\n",
       "      <td>KYE-NYA-BRI-M-135651</td>\n",
       "      <td>Male</td>\n",
       "      <td>NaN</td>\n",
       "    </tr>\n",
       "  </tbody>\n",
       "</table>\n",
       "</div>"
      ],
      "text/plain": [
       "       district  subcounty   Parish  Cluster     village  Cohort Cycle Type  \\\n",
       "92682  Kyenjojo  Nyantungo  Mabaale  Mabaale  Nyarugongo    2024     A  NaN   \n",
       "92683  Kyenjojo  Nyantungo  Mabaale  Mabaale  Nyarugongo    2024     A  NaN   \n",
       "\n",
       "                         id               hhh_name    Contact  \\\n",
       "92682  KYE-NYA-AKU-M-130701  Akugizibwe Arikanjeru  772752000   \n",
       "92683  KYE-NYA-BRI-M-135651          Brian Twesige  777078648   \n",
       "\n",
       "                      OX_ID gender  age  \n",
       "92682  KYE-NYA-AKU-M-130701   Male  NaN  \n",
       "92683  KYE-NYA-BRI-M-135651   Male  NaN  "
      ]
     },
     "execution_count": 40,
     "metadata": {},
     "output_type": "execute_result"
    }
   ],
   "source": [
    "print(df.shape)\n",
    "df.tail(2)"
   ]
  },
  {
   "cell_type": "markdown",
   "id": "4198166a",
   "metadata": {
    "slideshow": {
     "slide_type": "notes"
    }
   },
   "source": [
    "You can use the columns method that lists all the variable names, and call the `to_list()` function to wrap then in a list. A list is simply a data-structure that helps to store data. In python it's represented by closed brackets `[]`. There are other data structures including dictionaries, arrays and so on. We won't cover all of them but it's nice be aware of their existence. A very nice book I recommend about python basics is `think python` which you can find here. https://greenteapress.com/wp/think-python-2e/. It covers all the data structures used in python in detail. It's possible to do analysis without knowing python basics but knowing them will make you a better and efficient programmer. But for now, `Python for data analysis` is the best choice I can recommend for Analysis, https://wesmckinney.com/book/data-analysis-examples.html."
   ]
  },
  {
   "cell_type": "code",
   "execution_count": 41,
   "id": "8af759dc",
   "metadata": {
    "colab": {
     "base_uri": "https://localhost:8080/"
    },
    "id": "177ba33d",
    "outputId": "3974aacd-f661-4c0f-819c-7b13392533f7",
    "slideshow": {
     "slide_type": "slide"
    }
   },
   "outputs": [
    {
     "data": {
      "text/plain": [
       "['district',\n",
       " 'subcounty',\n",
       " 'Parish',\n",
       " 'Cluster',\n",
       " 'village',\n",
       " 'Cohort',\n",
       " 'Cycle',\n",
       " 'Type',\n",
       " 'id',\n",
       " 'hhh_name',\n",
       " 'Contact',\n",
       " 'OX_ID',\n",
       " 'gender',\n",
       " 'age']"
      ]
     },
     "execution_count": 41,
     "metadata": {},
     "output_type": "execute_result"
    }
   ],
   "source": [
    "df.columns.to_list()"
   ]
  },
  {
   "cell_type": "markdown",
   "id": "4e8789e4",
   "metadata": {
    "slideshow": {
     "slide_type": "notes"
    }
   },
   "source": [
    "For our randomization, we don't need all the columns, we can just pick the ones we want by defining them in a list. Let's assign a variable to the list. For now, we can name it `columns`."
   ]
  },
  {
   "cell_type": "code",
   "execution_count": 7,
   "id": "ea8a54ca",
   "metadata": {
    "id": "861b8440",
    "slideshow": {
     "slide_type": "slide"
    }
   },
   "outputs": [],
   "source": [
    "# columns = [\n",
    "#  'district',\n",
    "#  'subcounty',\n",
    "#  'parish_t',\n",
    "#  'village',\n",
    "#  'hhh_full_name',\n",
    "#  'Household_Head_Age',\n",
    "#  'Household_Head_Contact',\n",
    "#  'Household_Head_Gender',\n",
    "#  'hhid',\n",
    "#  ]"
   ]
  },
  {
   "cell_type": "code",
   "execution_count": 42,
   "id": "707f280a-b892-49db-af6d-92a4e10a62d5",
   "metadata": {
    "id": "861b8440",
    "slideshow": {
     "slide_type": "slide"
    }
   },
   "outputs": [],
   "source": [
    "columns = [\n",
    " 'district',\n",
    " 'subcounty',\n",
    " 'Parish',\n",
    " 'village',\n",
    " 'hhh_name',\n",
    " 'age',\n",
    " 'Contact',\n",
    " 'gender',\n",
    " 'id',\n",
    " ]"
   ]
  },
  {
   "cell_type": "markdown",
   "id": "1b36300f",
   "metadata": {
    "slideshow": {
     "slide_type": "notes"
    }
   },
   "source": [
    "When you apply a mask to your dataframe, it's like giving it a new shape, only showing the columns you tell it to. It's a bit like magic! Just remember, when you reassign 'df', you're basically telling the old one to take a hike, because there's a new dataframe in town."
   ]
  },
  {
   "cell_type": "code",
   "execution_count": 43,
   "id": "dd989bc5",
   "metadata": {
    "id": "dd11ea74",
    "slideshow": {
     "slide_type": "fragment"
    }
   },
   "outputs": [],
   "source": [
    "df = df[columns]"
   ]
  },
  {
   "cell_type": "markdown",
   "id": "065a8e7b",
   "metadata": {
    "slideshow": {
     "slide_type": "notes"
    }
   },
   "source": [
    "Pandas has another interesting method that gives you the counts of each category in a particular column. It's super handy when you're trying to get a quick overview of your data and see which categories are the most common. Just a few lines of code, and you've got yourself a neat little summary of your dataset!"
   ]
  },
  {
   "cell_type": "code",
   "execution_count": 44,
   "id": "012c18a4-0e54-4b2f-8825-2b95a6c17f0d",
   "metadata": {},
   "outputs": [
    {
     "data": {
      "text/html": [
       "<div>\n",
       "<style scoped>\n",
       "    .dataframe tbody tr th:only-of-type {\n",
       "        vertical-align: middle;\n",
       "    }\n",
       "\n",
       "    .dataframe tbody tr th {\n",
       "        vertical-align: top;\n",
       "    }\n",
       "\n",
       "    .dataframe thead th {\n",
       "        text-align: right;\n",
       "    }\n",
       "</style>\n",
       "<table border=\"1\" class=\"dataframe\">\n",
       "  <thead>\n",
       "    <tr style=\"text-align: right;\">\n",
       "      <th></th>\n",
       "      <th>district</th>\n",
       "      <th>subcounty</th>\n",
       "      <th>Parish</th>\n",
       "      <th>village</th>\n",
       "      <th>hhh_name</th>\n",
       "      <th>age</th>\n",
       "      <th>Contact</th>\n",
       "      <th>gender</th>\n",
       "      <th>id</th>\n",
       "    </tr>\n",
       "  </thead>\n",
       "  <tbody>\n",
       "    <tr>\n",
       "      <th>0</th>\n",
       "      <td>Kagadi</td>\n",
       "      <td>Kicucuuru</td>\n",
       "      <td>Kitooro</td>\n",
       "      <td>Kasozi_Kitooro</td>\n",
       "      <td>Akakwasa More</td>\n",
       "      <td>60.0</td>\n",
       "      <td>785534054</td>\n",
       "      <td>Female</td>\n",
       "      <td>KAG-KAS-AKA-F-075731</td>\n",
       "    </tr>\n",
       "    <tr>\n",
       "      <th>1</th>\n",
       "      <td>Kagadi</td>\n",
       "      <td>Kicucuuru</td>\n",
       "      <td>Kitooro</td>\n",
       "      <td>Kasozi_Kitooro</td>\n",
       "      <td>Akoragye Peter</td>\n",
       "      <td>30.0</td>\n",
       "      <td>771069272</td>\n",
       "      <td>Male</td>\n",
       "      <td>KAG-KAS-AKO-M-095616</td>\n",
       "    </tr>\n",
       "    <tr>\n",
       "      <th>2</th>\n",
       "      <td>Kagadi</td>\n",
       "      <td>Kicucuuru</td>\n",
       "      <td>Kitooro</td>\n",
       "      <td>Kasozi_Kitooro</td>\n",
       "      <td>Aliganyira Nikorasi</td>\n",
       "      <td>26.0</td>\n",
       "      <td>784875889</td>\n",
       "      <td>Male</td>\n",
       "      <td>KAG-KAS-ALI-M-094647</td>\n",
       "    </tr>\n",
       "    <tr>\n",
       "      <th>3</th>\n",
       "      <td>Kagadi</td>\n",
       "      <td>Kicucuuru</td>\n",
       "      <td>Kitooro</td>\n",
       "      <td>Kasozi_Kitooro</td>\n",
       "      <td>Anet Kokundeka</td>\n",
       "      <td>36.0</td>\n",
       "      <td>755236985</td>\n",
       "      <td>Female</td>\n",
       "      <td>KAG-KAS-ANE-F-093637</td>\n",
       "    </tr>\n",
       "    <tr>\n",
       "      <th>4</th>\n",
       "      <td>Kagadi</td>\n",
       "      <td>Kicucuuru</td>\n",
       "      <td>Kitooro</td>\n",
       "      <td>Kasozi_Kitooro</td>\n",
       "      <td>Ayinemani Nicorous</td>\n",
       "      <td>21.0</td>\n",
       "      <td>789236760</td>\n",
       "      <td>Male</td>\n",
       "      <td>KAG-KAS-AYI-M-114920</td>\n",
       "    </tr>\n",
       "  </tbody>\n",
       "</table>\n",
       "</div>"
      ],
      "text/plain": [
       "  district  subcounty   Parish         village             hhh_name   age  \\\n",
       "0   Kagadi  Kicucuuru  Kitooro  Kasozi_Kitooro        Akakwasa More  60.0   \n",
       "1   Kagadi  Kicucuuru  Kitooro  Kasozi_Kitooro       Akoragye Peter  30.0   \n",
       "2   Kagadi  Kicucuuru  Kitooro  Kasozi_Kitooro  Aliganyira Nikorasi  26.0   \n",
       "3   Kagadi  Kicucuuru  Kitooro  Kasozi_Kitooro       Anet Kokundeka  36.0   \n",
       "4   Kagadi  Kicucuuru  Kitooro  Kasozi_Kitooro   Ayinemani Nicorous  21.0   \n",
       "\n",
       "     Contact  gender                    id  \n",
       "0  785534054  Female  KAG-KAS-AKA-F-075731  \n",
       "1  771069272    Male  KAG-KAS-AKO-M-095616  \n",
       "2  784875889    Male  KAG-KAS-ALI-M-094647  \n",
       "3  755236985  Female  KAG-KAS-ANE-F-093637  \n",
       "4  789236760    Male  KAG-KAS-AYI-M-114920  "
      ]
     },
     "execution_count": 44,
     "metadata": {},
     "output_type": "execute_result"
    }
   ],
   "source": [
    "df.head()"
   ]
  },
  {
   "cell_type": "code",
   "execution_count": 12,
   "id": "7f923f99",
   "metadata": {
    "id": "36f9251e-efd4-4782-a18e-7d3d1799a77f",
    "outputId": "c64f2015-fae2-43ae-d1da-3b58eaddb84e",
    "slideshow": {
     "slide_type": "slide"
    }
   },
   "outputs": [
    {
     "data": {
      "text/plain": [
       "district\n",
       "Rubirizi       12666\n",
       "Kiryandongo    12554\n",
       "Kibaale        10344\n",
       "Kagadi          9586\n",
       "Rubanda         7844\n",
       "Mitooma         7261\n",
       "Kyenjojo        6851\n",
       "Rukungiri       5869\n",
       "Kanungu         5486\n",
       "Luuka           5291\n",
       "Rukiga          2832\n",
       "Kaliro          2738\n",
       "Buhweju         1994\n",
       "Kitagwenda      1368\n",
       "Name: count, dtype: int64"
      ]
     },
     "execution_count": 12,
     "metadata": {},
     "output_type": "execute_result"
    }
   ],
   "source": [
    "df['district'].value_counts()"
   ]
  },
  {
   "cell_type": "markdown",
   "id": "adf42d58",
   "metadata": {
    "slideshow": {
     "slide_type": "notes"
    }
   },
   "source": [
    "In fact, when you're crunching numbers and diving into data analysis, tweaking a few parameters can make a world of difference. For instance, setting normalize=True is like flipping a switch that transforms raw numbers into proportions. It's a nifty trick that comes in handy almost daily, especially when you're piecing together reports and need to present your findings in a way that's easy to digest."
   ]
  },
  {
   "cell_type": "code",
   "execution_count": 45,
   "id": "06c027a8",
   "metadata": {
    "id": "36f9251e-efd4-4782-a18e-7d3d1799a77f",
    "outputId": "c64f2015-fae2-43ae-d1da-3b58eaddb84e",
    "slideshow": {
     "slide_type": "fragment"
    }
   },
   "outputs": [
    {
     "data": {
      "text/plain": [
       "district\n",
       "Rubirizi       0.136658\n",
       "Kiryandongo    0.135449\n",
       "Kibaale        0.111605\n",
       "Kagadi         0.103427\n",
       "Rubanda        0.084632\n",
       "Mitooma        0.078341\n",
       "Kyenjojo       0.073918\n",
       "Rukungiri      0.063323\n",
       "Kanungu        0.059190\n",
       "Luuka          0.057086\n",
       "Rukiga         0.030555\n",
       "Kaliro         0.029541\n",
       "Buhweju        0.021514\n",
       "Kitagwenda     0.014760\n",
       "Name: proportion, dtype: float64"
      ]
     },
     "execution_count": 45,
     "metadata": {},
     "output_type": "execute_result"
    }
   ],
   "source": [
    "df['district'].value_counts(normalize=True) "
   ]
  },
  {
   "cell_type": "markdown",
   "id": "7927e939",
   "metadata": {
    "slideshow": {
     "slide_type": "slide"
    }
   },
   "source": [
    "### Duplicates"
   ]
  },
  {
   "cell_type": "markdown",
   "id": "26f50b5e",
   "metadata": {
    "slideshow": {
     "slide_type": "notes"
    }
   },
   "source": [
    "Since we are trying to do randomization, we don't want any case of duplicated values. Thankfully, pandas has support for us. We can just use the method drop_duplicates, and pass in the `column` where we want to get rid of duplicates. \n",
    "\n",
    "A duplicate means some values are repeating, so using 'first' retains the first occurrence, whereas 'last' would return the last duplicated value."
   ]
  },
  {
   "cell_type": "code",
   "execution_count": 46,
   "id": "8d934dc3",
   "metadata": {
    "id": "9bddb919-95d6-4f38-9f3b-ffb36439ae00",
    "slideshow": {
     "slide_type": "fragment"
    }
   },
   "outputs": [],
   "source": [
    "df = df.drop_duplicates('id', keep='first')"
   ]
  },
  {
   "cell_type": "markdown",
   "id": "484120ef",
   "metadata": {
    "id": "9bddb919-95d6-4f38-9f3b-ffb36439ae00",
    "slideshow": {
     "slide_type": "notes"
    }
   },
   "source": [
    "Filtering is a common task in data manipulation, especially when you need to focus on a specific subset of data. For instance, if you're only interested in analyzing data from Kiryandongo district, you can easily filter out the rest. Here's how you do it: simply use the filtering code (==) to isolate Kiryandongo's data. The beauty of it is that you can assign this filtered data to a new variable, keeping your original dataframe intact for further use."
   ]
  },
  {
   "cell_type": "markdown",
   "id": "9e2d4c24",
   "metadata": {
    "slideshow": {
     "slide_type": "slide"
    }
   },
   "source": [
    "### Filtering"
   ]
  },
  {
   "cell_type": "code",
   "execution_count": 17,
   "id": "97f49364",
   "metadata": {
    "id": "9c8e5826",
    "slideshow": {
     "slide_type": "fragment"
    }
   },
   "outputs": [],
   "source": [
    "Kiryandongo = df[df['district'] == 'Kiryandongo']"
   ]
  },
  {
   "cell_type": "code",
   "execution_count": 13,
   "id": "15c53d5d",
   "metadata": {
    "slideshow": {
     "slide_type": "fragment"
    }
   },
   "outputs": [
    {
     "data": {
      "text/plain": [
       "(11905, 9)"
      ]
     },
     "execution_count": 13,
     "metadata": {},
     "output_type": "execute_result"
    }
   ],
   "source": [
    "Kiryandongo.shape"
   ]
  },
  {
   "cell_type": "markdown",
   "id": "9de04e87",
   "metadata": {
    "slideshow": {
     "slide_type": "slide"
    }
   },
   "source": [
    "### Creating new variables"
   ]
  },
  {
   "cell_type": "code",
   "execution_count": 50,
   "id": "3125c7b7",
   "metadata": {
    "id": "85b6f7a8",
    "outputId": "49dd801c-79d9-42b3-dd17-09d582d1b6d6",
    "slideshow": {
     "slide_type": "fragment"
    }
   },
   "outputs": [
    {
     "data": {
      "text/plain": [
       "gender\n",
       "Male      60892\n",
       "Female    20493\n",
       "Name: count, dtype: int64"
      ]
     },
     "execution_count": 50,
     "metadata": {},
     "output_type": "execute_result"
    }
   ],
   "source": [
    "df['gender'].value_counts()"
   ]
  },
  {
   "cell_type": "code",
   "execution_count": 48,
   "id": "a210539d-e9c9-403c-854b-dddf283a790a",
   "metadata": {},
   "outputs": [],
   "source": [
    "gender_mapping = {\n",
    "    'male': 'Male',\n",
    "    'M':'Male',\n",
    "    'female': 'Female',\n",
    "    'F': 'Female',\n",
    "    'Feamale': 'Female',\n",
    "    'Female`': 'Female',\n",
    "    'FemaLe':'Female',\n",
    "    'Femae': 'Female',\n",
    "    'Male ': 'Male'\n",
    "}"
   ]
  },
  {
   "cell_type": "code",
   "execution_count": 49,
   "id": "e91cea52-6e95-4896-a1cd-461df58922e9",
   "metadata": {},
   "outputs": [],
   "source": [
    "df['gender'] = df['gender'].str.lower().map(gender_mapping)"
   ]
  },
  {
   "cell_type": "code",
   "execution_count": null,
   "id": "1538dea0-eba2-4d34-a832-cdc0a2098e83",
   "metadata": {},
   "outputs": [],
   "source": []
  },
  {
   "cell_type": "markdown",
   "id": "9ebbaceb",
   "metadata": {
    "slideshow": {
     "slide_type": "notes"
    }
   },
   "source": [
    "We have females and males but we need to include youths in our sampling. Its a bad idea to always change values of an original variable. Let's create a new variable and make all our changes on it. Generating an new variable is very simple using pandas, Just mask the dataframe with the name of the new variable on the left. The right should have the content of this new variable. The code below just shows that generate a new variable, name it Gender and populate it values of Household head gender."
   ]
  },
  {
   "cell_type": "code",
   "execution_count": 32,
   "id": "31943233",
   "metadata": {
    "id": "be91d1c0",
    "slideshow": {
     "slide_type": "fragment"
    }
   },
   "outputs": [],
   "source": [
    "df['Gender'] = df['gender']"
   ]
  },
  {
   "cell_type": "markdown",
   "id": "8554053b",
   "metadata": {
    "slideshow": {
     "slide_type": "notes"
    }
   },
   "source": [
    "If you print, the first two rows, you can notice that the Household_Head_Gender and Gender variable have the same contents"
   ]
  },
  {
   "cell_type": "code",
   "execution_count": 33,
   "id": "8daa8788",
   "metadata": {
    "id": "5fc8f60b",
    "outputId": "90872647-2da1-4845-d772-a9a0259e5125",
    "slideshow": {
     "slide_type": "fragment"
    }
   },
   "outputs": [
    {
     "data": {
      "text/html": [
       "<div>\n",
       "<style scoped>\n",
       "    .dataframe tbody tr th:only-of-type {\n",
       "        vertical-align: middle;\n",
       "    }\n",
       "\n",
       "    .dataframe tbody tr th {\n",
       "        vertical-align: top;\n",
       "    }\n",
       "\n",
       "    .dataframe thead th {\n",
       "        text-align: right;\n",
       "    }\n",
       "</style>\n",
       "<table border=\"1\" class=\"dataframe\">\n",
       "  <thead>\n",
       "    <tr style=\"text-align: right;\">\n",
       "      <th></th>\n",
       "      <th>district</th>\n",
       "      <th>subcounty</th>\n",
       "      <th>Parish</th>\n",
       "      <th>village</th>\n",
       "      <th>hhh_name</th>\n",
       "      <th>age</th>\n",
       "      <th>Contact</th>\n",
       "      <th>gender</th>\n",
       "      <th>id</th>\n",
       "      <th>Gender</th>\n",
       "    </tr>\n",
       "  </thead>\n",
       "  <tbody>\n",
       "    <tr>\n",
       "      <th>0</th>\n",
       "      <td>Kagadi</td>\n",
       "      <td>Kicucuuru</td>\n",
       "      <td>Kitooro</td>\n",
       "      <td>Kasozi_Kitooro</td>\n",
       "      <td>Akakwasa More</td>\n",
       "      <td>60.0</td>\n",
       "      <td>785534054</td>\n",
       "      <td>Female</td>\n",
       "      <td>KAG-KAS-AKA-F-075731</td>\n",
       "      <td>Female</td>\n",
       "    </tr>\n",
       "    <tr>\n",
       "      <th>1</th>\n",
       "      <td>Kagadi</td>\n",
       "      <td>Kicucuuru</td>\n",
       "      <td>Kitooro</td>\n",
       "      <td>Kasozi_Kitooro</td>\n",
       "      <td>Akoragye Peter</td>\n",
       "      <td>30.0</td>\n",
       "      <td>771069272</td>\n",
       "      <td>Male</td>\n",
       "      <td>KAG-KAS-AKO-M-095616</td>\n",
       "      <td>Male</td>\n",
       "    </tr>\n",
       "  </tbody>\n",
       "</table>\n",
       "</div>"
      ],
      "text/plain": [
       "  district  subcounty   Parish         village        hhh_name   age  \\\n",
       "0   Kagadi  Kicucuuru  Kitooro  Kasozi_Kitooro   Akakwasa More  60.0   \n",
       "1   Kagadi  Kicucuuru  Kitooro  Kasozi_Kitooro  Akoragye Peter  30.0   \n",
       "\n",
       "     Contact  gender                    id  Gender  \n",
       "0  785534054  Female  KAG-KAS-AKA-F-075731  Female  \n",
       "1  771069272    Male  KAG-KAS-AKO-M-095616    Male  "
      ]
     },
     "execution_count": 33,
     "metadata": {},
     "output_type": "execute_result"
    }
   ],
   "source": [
    "df.head(2)"
   ]
  },
  {
   "cell_type": "markdown",
   "id": "99e6023a",
   "metadata": {
    "slideshow": {
     "slide_type": "slide"
    }
   },
   "source": [
    "## functions"
   ]
  },
  {
   "cell_type": "markdown",
   "id": "7ac27f7d",
   "metadata": {
    "slideshow": {
     "slide_type": "notes"
    }
   },
   "source": [
    "In programming, functions are like your go-to tools for tasks you perform often. When it comes to data analysis, I've found that lambda functions are just slicker and quicker for whipping things into shape. Take this code below for instance.\n",
    "\n",
    "Here's the breakdown:\n",
    "- Spot a row with a value 30 or less? Tag it as 'Youth Headed'.\n",
    "- Otherwise, keep it as 'Male' or 'Female', but tack on 'Headed' to get 'Male Headed' or 'Female Headed'."
   ]
  },
  {
   "cell_type": "code",
   "execution_count": 51,
   "id": "2d96c07e",
   "metadata": {
    "id": "3ea6b1cd",
    "slideshow": {
     "slide_type": "fragment"
    }
   },
   "outputs": [],
   "source": [
    "df['gender'] = df.apply(\n",
    "    lambda row: 'Youth Headed' \n",
    "    if row['age'] <= 30 \n",
    "    else str(row['gender']) + ' Headed', axis=1\n",
    ")"
   ]
  },
  {
   "cell_type": "markdown",
   "id": "9a113438",
   "metadata": {
    "slideshow": {
     "slide_type": "notes"
    }
   },
   "source": [
    "The code below does exactly what we have done above, but you realize it's more complex than the latter. You might not prefer this but its good to understand how functions work because sometimes they are the deal."
   ]
  },
  {
   "cell_type": "code",
   "execution_count": 31,
   "id": "b78f873c",
   "metadata": {
    "slideshow": {
     "slide_type": "fragment"
    }
   },
   "outputs": [],
   "source": [
    "# def add_age(df, gender, age):\n",
    "#     for index, row in df.iterrows():\n",
    "#         if row[age] <= 30:\n",
    "#             df.at[index, gender] = 'Youth Headed'\n",
    "#         else:\n",
    "#             df.at[index, gender] = str(row[variable]) + ' Headed'"
   ]
  },
  {
   "cell_type": "markdown",
   "id": "2f6f16b3",
   "metadata": {
    "slideshow": {
     "slide_type": "notes"
    }
   },
   "source": [
    "We can apply the function like this by passing in the parameters, I did both ways, but the first one is even faster than this."
   ]
  },
  {
   "cell_type": "code",
   "execution_count": 19,
   "id": "d240ea40",
   "metadata": {
    "slideshow": {
     "slide_type": "fragment"
    }
   },
   "outputs": [],
   "source": [
    "# add_age(df, 'Household_Head_Gender','Household_Head_Age')"
   ]
  },
  {
   "cell_type": "code",
   "execution_count": 52,
   "id": "e0bd4fef",
   "metadata": {
    "slideshow": {
     "slide_type": "slide"
    }
   },
   "outputs": [
    {
     "data": {
      "text/html": [
       "<div>\n",
       "<style scoped>\n",
       "    .dataframe tbody tr th:only-of-type {\n",
       "        vertical-align: middle;\n",
       "    }\n",
       "\n",
       "    .dataframe tbody tr th {\n",
       "        vertical-align: top;\n",
       "    }\n",
       "\n",
       "    .dataframe thead th {\n",
       "        text-align: right;\n",
       "    }\n",
       "</style>\n",
       "<table border=\"1\" class=\"dataframe\">\n",
       "  <thead>\n",
       "    <tr style=\"text-align: right;\">\n",
       "      <th></th>\n",
       "      <th>district</th>\n",
       "      <th>subcounty</th>\n",
       "      <th>Parish</th>\n",
       "      <th>village</th>\n",
       "      <th>hhh_name</th>\n",
       "      <th>age</th>\n",
       "      <th>Contact</th>\n",
       "      <th>gender</th>\n",
       "      <th>id</th>\n",
       "    </tr>\n",
       "  </thead>\n",
       "  <tbody>\n",
       "    <tr>\n",
       "      <th>0</th>\n",
       "      <td>Kagadi</td>\n",
       "      <td>Kicucuuru</td>\n",
       "      <td>Kitooro</td>\n",
       "      <td>Kasozi_Kitooro</td>\n",
       "      <td>Akakwasa More</td>\n",
       "      <td>60.0</td>\n",
       "      <td>785534054</td>\n",
       "      <td>Female Headed</td>\n",
       "      <td>KAG-KAS-AKA-F-075731</td>\n",
       "    </tr>\n",
       "    <tr>\n",
       "      <th>1</th>\n",
       "      <td>Kagadi</td>\n",
       "      <td>Kicucuuru</td>\n",
       "      <td>Kitooro</td>\n",
       "      <td>Kasozi_Kitooro</td>\n",
       "      <td>Akoragye Peter</td>\n",
       "      <td>30.0</td>\n",
       "      <td>771069272</td>\n",
       "      <td>Youth Headed</td>\n",
       "      <td>KAG-KAS-AKO-M-095616</td>\n",
       "    </tr>\n",
       "    <tr>\n",
       "      <th>2</th>\n",
       "      <td>Kagadi</td>\n",
       "      <td>Kicucuuru</td>\n",
       "      <td>Kitooro</td>\n",
       "      <td>Kasozi_Kitooro</td>\n",
       "      <td>Aliganyira Nikorasi</td>\n",
       "      <td>26.0</td>\n",
       "      <td>784875889</td>\n",
       "      <td>Youth Headed</td>\n",
       "      <td>KAG-KAS-ALI-M-094647</td>\n",
       "    </tr>\n",
       "    <tr>\n",
       "      <th>3</th>\n",
       "      <td>Kagadi</td>\n",
       "      <td>Kicucuuru</td>\n",
       "      <td>Kitooro</td>\n",
       "      <td>Kasozi_Kitooro</td>\n",
       "      <td>Anet Kokundeka</td>\n",
       "      <td>36.0</td>\n",
       "      <td>755236985</td>\n",
       "      <td>Female Headed</td>\n",
       "      <td>KAG-KAS-ANE-F-093637</td>\n",
       "    </tr>\n",
       "    <tr>\n",
       "      <th>4</th>\n",
       "      <td>Kagadi</td>\n",
       "      <td>Kicucuuru</td>\n",
       "      <td>Kitooro</td>\n",
       "      <td>Kasozi_Kitooro</td>\n",
       "      <td>Ayinemani Nicorous</td>\n",
       "      <td>21.0</td>\n",
       "      <td>789236760</td>\n",
       "      <td>Youth Headed</td>\n",
       "      <td>KAG-KAS-AYI-M-114920</td>\n",
       "    </tr>\n",
       "  </tbody>\n",
       "</table>\n",
       "</div>"
      ],
      "text/plain": [
       "  district  subcounty   Parish         village             hhh_name   age  \\\n",
       "0   Kagadi  Kicucuuru  Kitooro  Kasozi_Kitooro        Akakwasa More  60.0   \n",
       "1   Kagadi  Kicucuuru  Kitooro  Kasozi_Kitooro       Akoragye Peter  30.0   \n",
       "2   Kagadi  Kicucuuru  Kitooro  Kasozi_Kitooro  Aliganyira Nikorasi  26.0   \n",
       "3   Kagadi  Kicucuuru  Kitooro  Kasozi_Kitooro       Anet Kokundeka  36.0   \n",
       "4   Kagadi  Kicucuuru  Kitooro  Kasozi_Kitooro   Ayinemani Nicorous  21.0   \n",
       "\n",
       "     Contact         gender                    id  \n",
       "0  785534054  Female Headed  KAG-KAS-AKA-F-075731  \n",
       "1  771069272   Youth Headed  KAG-KAS-AKO-M-095616  \n",
       "2  784875889   Youth Headed  KAG-KAS-ALI-M-094647  \n",
       "3  755236985  Female Headed  KAG-KAS-ANE-F-093637  \n",
       "4  789236760   Youth Headed  KAG-KAS-AYI-M-114920  "
      ]
     },
     "execution_count": 52,
     "metadata": {},
     "output_type": "execute_result"
    }
   ],
   "source": [
    "df.head()"
   ]
  },
  {
   "cell_type": "code",
   "execution_count": 53,
   "id": "6bd9d4e3",
   "metadata": {
    "slideshow": {
     "slide_type": "slide"
    }
   },
   "outputs": [],
   "source": [
    "df['Household_Head_Gender'] = df['gender']"
   ]
  },
  {
   "cell_type": "code",
   "execution_count": 54,
   "id": "7b5b5d9a-6a4d-487c-8fa2-61b06cc62d14",
   "metadata": {
    "slideshow": {
     "slide_type": "slide"
    }
   },
   "outputs": [
    {
     "data": {
      "text/plain": [
       "Household_Head_Gender\n",
       "Male Headed      42341\n",
       "Youth Headed     21873\n",
       "Female Headed    17421\n",
       "nan Headed        6067\n",
       "Name: count, dtype: int64"
      ]
     },
     "execution_count": 54,
     "metadata": {},
     "output_type": "execute_result"
    }
   ],
   "source": [
    "df['Household_Head_Gender'].value_counts()"
   ]
  },
  {
   "cell_type": "markdown",
   "id": "d4a5b97c",
   "metadata": {
    "slideshow": {
     "slide_type": "notes"
    }
   },
   "source": [
    "Violla, you can see that we now have three categories with Youth included. We can get rid of the Gender and age columns since we nolonger need them. Pandas has another drop method. You just pass in a list of the columns you want to delete. Setting Inplace to true just makes the change parmanent. False makes it temporary."
   ]
  },
  {
   "cell_type": "markdown",
   "id": "630a3b04",
   "metadata": {
    "slideshow": {
     "slide_type": "slide"
    }
   },
   "source": [
    "### Dropping columns"
   ]
  },
  {
   "cell_type": "code",
   "execution_count": 55,
   "id": "c289246e",
   "metadata": {
    "id": "84328628",
    "slideshow": {
     "slide_type": "fragment"
    }
   },
   "outputs": [],
   "source": [
    "df.drop(columns=['gender',], inplace=True)"
   ]
  },
  {
   "cell_type": "markdown",
   "id": "51c5158b",
   "metadata": {
    "slideshow": {
     "slide_type": "fragment"
    }
   },
   "source": [
    "We can make filter subsets for these gender types using the tricks that we've learnt and store them in variables."
   ]
  },
  {
   "cell_type": "code",
   "execution_count": 56,
   "id": "c694da25",
   "metadata": {
    "id": "1d3bf62c",
    "slideshow": {
     "slide_type": "fragment"
    }
   },
   "outputs": [],
   "source": [
    "male_HH_samp_frame = df[df['Household_Head_Gender']=='Male Headed']\n",
    "female_HH_samp_frame = df[df['Household_Head_Gender']=='Female Headed']\n",
    "youth_HH_samp_frame = df[df['Household_Head_Gender']=='Youth Headed']"
   ]
  },
  {
   "cell_type": "code",
   "execution_count": 57,
   "id": "e706e142",
   "metadata": {
    "id": "4a3eb44f",
    "outputId": "35f6d981-43af-4cbe-b4a8-3c08b6b3bea5",
    "slideshow": {
     "slide_type": "fragment"
    }
   },
   "outputs": [
    {
     "data": {
      "text/plain": [
       "((42341, 9), (17421, 9), (21873, 9))"
      ]
     },
     "execution_count": 57,
     "metadata": {},
     "output_type": "execute_result"
    }
   ],
   "source": [
    "male_HH_samp_frame.shape, female_HH_samp_frame.shape, youth_HH_samp_frame.shape"
   ]
  },
  {
   "cell_type": "code",
   "execution_count": 58,
   "id": "9e197b3f",
   "metadata": {
    "id": "07cfa959",
    "slideshow": {
     "slide_type": "skip"
    }
   },
   "outputs": [],
   "source": [
    "# male_HH_samp_frame.to_excel('mit/male_HH_samp_frame.xlsx', index=False)\n",
    "# female_HH_samp_frame.to_excel('mit/female_HH_samp_frame.xlsx', index=False)\n",
    "# youth_HH_samp_frame.to_excel('mit/youth_HH_samp_frame.xlsx', index=False)"
   ]
  },
  {
   "cell_type": "markdown",
   "id": "e5987d55",
   "metadata": {
    "slideshow": {
     "slide_type": "notes"
    }
   },
   "source": [
    "If you want to store these subsets as excel files you can use the to_excel method and pass in the path."
   ]
  },
  {
   "cell_type": "markdown",
   "id": "06290168",
   "metadata": {
    "slideshow": {
     "slide_type": "slide"
    }
   },
   "source": [
    "To take it slow, we are going to sample males, females and youths separately"
   ]
  },
  {
   "cell_type": "markdown",
   "id": "74159163",
   "metadata": {
    "slideshow": {
     "slide_type": "fragment"
    }
   },
   "source": [
    "Using our distribution\n",
    "- For villages > 100 samples we use 60 20 20 (Male Female Youths)\n",
    "- otherwise we use 50 25 25 (Male Female Youths)"
   ]
  },
  {
   "cell_type": "markdown",
   "id": "600d302f-02ee-4187-b175-dc83601299c0",
   "metadata": {},
   "source": [
    "can we incorporate this:\n",
    "for the sampling function\n",
    "\n",
    "For villages > 100 samples we use \n",
    "60% of 30  for the males\n",
    "20% of 30  for the females\n",
    "20% of 30  for the youths\n",
    "\n",
    "For villages < 100 samples we use\n",
    "50% of 24 works is for the males\n",
    "250% of 24 and for the females\n",
    "25% of 24 and for the youths"
   ]
  },
  {
   "cell_type": "markdown",
   "id": "cad416e6",
   "metadata": {
    "slideshow": {
     "slide_type": "fragment"
    }
   },
   "source": [
    "for n >= 100 we need 30 sample, \n",
    "for n < 100 we need 24 samples"
   ]
  },
  {
   "cell_type": "markdown",
   "id": "eda830d9",
   "metadata": {
    "id": "0176c5b5",
    "slideshow": {
     "slide_type": "slide"
    }
   },
   "source": [
    "## Male Headed"
   ]
  },
  {
   "cell_type": "code",
   "execution_count": 59,
   "id": "47d4e988",
   "metadata": {
    "id": "09ad1f5f",
    "outputId": "952886ac-1990-454b-aa24-2e0c0f8025e0",
    "slideshow": {
     "slide_type": "fragment"
    }
   },
   "outputs": [
    {
     "data": {
      "text/plain": [
       "42341"
      ]
     },
     "execution_count": 59,
     "metadata": {},
     "output_type": "execute_result"
    }
   ],
   "source": [
    "len(male_HH_samp_frame)"
   ]
  },
  {
   "cell_type": "code",
   "execution_count": 60,
   "id": "0c35ab7c",
   "metadata": {
    "slideshow": {
     "slide_type": "fragment"
    }
   },
   "outputs": [
    {
     "name": "stdout",
     "output_type": "stream",
     "text": [
      "60% of 30 is 18.0 whereas 50% of 24 is 12.0\n"
     ]
    }
   ],
   "source": [
    "# 60% of 30 and 60% of 24\n",
    "print(f\"60% of 30 is {0.6*30} whereas 50% of 24 is {0.5*24}\")"
   ]
  },
  {
   "cell_type": "code",
   "execution_count": 61,
   "id": "3d51d576",
   "metadata": {
    "id": "80e33997",
    "slideshow": {
     "slide_type": "fragment"
    }
   },
   "outputs": [
    {
     "data": {
      "text/plain": [
       "18"
      ]
     },
     "execution_count": 61,
     "metadata": {},
     "output_type": "execute_result"
    }
   ],
   "source": [
    "sample_size = int(0.6*30)\n",
    "sample_size"
   ]
  },
  {
   "cell_type": "code",
   "execution_count": 62,
   "id": "dd77065a",
   "metadata": {
    "id": "0cfa982e-878e-4d04-a6bc-05828f0f71b6",
    "slideshow": {
     "slide_type": "fragment"
    }
   },
   "outputs": [],
   "source": [
    "threshold_count = 100"
   ]
  },
  {
   "cell_type": "code",
   "execution_count": 63,
   "id": "0149950c",
   "metadata": {
    "id": "198ff912-eddf-4659-bc4f-8f468702a73a",
    "slideshow": {
     "slide_type": "slide"
    }
   },
   "outputs": [
    {
     "data": {
      "text/plain": [
       "village\n",
       "Ikumbya       637\n",
       "Ntayigirwa    513\n",
       "Wandago       491\n",
       "Bujogoro_A    452\n",
       "Nsambya       433\n",
       "             ... \n",
       "Buwumba         8\n",
       "Kafuro_3        1\n",
       "Kafuro_4        1\n",
       "Kafuro_6        1\n",
       "Kafuro_5        1\n",
       "Name: count, Length: 788, dtype: int64"
      ]
     },
     "execution_count": 63,
     "metadata": {},
     "output_type": "execute_result"
    }
   ],
   "source": [
    "village_counts = df['village'].value_counts()\n",
    "village_counts"
   ]
  },
  {
   "cell_type": "code",
   "execution_count": 67,
   "id": "f7564689-7291-42d4-b1a5-e4c0b7d4da3c",
   "metadata": {},
   "outputs": [
    {
     "data": {
      "text/plain": [
       "village\n",
       "Kashenshero_A        27\n",
       "Mugurante_Kiyembe    27\n",
       "Kibaale_North        25\n",
       "Nyamatongo_1         23\n",
       "Kamakora             22\n",
       "Buwumba               8\n",
       "Kafuro_3              1\n",
       "Kafuro_4              1\n",
       "Kafuro_6              1\n",
       "Kafuro_5              1\n",
       "Name: count, dtype: int64"
      ]
     },
     "execution_count": 67,
     "metadata": {},
     "output_type": "execute_result"
    }
   ],
   "source": [
    "village_counts[village_counts < 30]"
   ]
  },
  {
   "cell_type": "code",
   "execution_count": 37,
   "id": "82498835",
   "metadata": {
    "slideshow": {
     "slide_type": "slide"
    }
   },
   "outputs": [
    {
     "data": {
      "text/plain": [
       "'Kihunga_Nyakishowa'"
      ]
     },
     "execution_count": 37,
     "metadata": {},
     "output_type": "execute_result"
    }
   ],
   "source": [
    "df['village'].iloc[2]"
   ]
  },
  {
   "cell_type": "code",
   "execution_count": 41,
   "id": "6bc2c320",
   "metadata": {
    "slideshow": {
     "slide_type": "fragment"
    }
   },
   "outputs": [
    {
     "data": {
      "text/plain": [
       "850"
      ]
     },
     "execution_count": 41,
     "metadata": {},
     "output_type": "execute_result"
    }
   ],
   "source": [
    "village_counts.get('Kiogoma_1',0)"
   ]
  },
  {
   "cell_type": "markdown",
   "id": "305e459e",
   "metadata": {
    "slideshow": {
     "slide_type": "notes"
    }
   },
   "source": [
    "What this function does is that it takes a sample, picks the village name by index, checks wether the sample number is greater than or equal to the threshold. Does the sampling depending on the number."
   ]
  },
  {
   "cell_type": "code",
   "execution_count": 38,
   "id": "3da2fc32",
   "metadata": {
    "id": "9a82b082-bc13-450a-98ff-904b3b330e5e",
    "slideshow": {
     "slide_type": "slide"
    }
   },
   "outputs": [],
   "source": [
    "def custom_sample(x):\n",
    "    village_name = x['village'].iloc[0]\n",
    "    if village_counts.get(village_name, 0) >= 100:\n",
    "        return x.sample(n=min(len(x), 18))\n",
    "    else:\n",
    "        return x.sample(n=min(len(x), 12))"
   ]
  },
  {
   "cell_type": "markdown",
   "id": "173b8c5b",
   "metadata": {
    "slideshow": {
     "slide_type": "notes"
    }
   },
   "source": [
    "Apply just works as our old lambda function, whereby you can "
   ]
  },
  {
   "cell_type": "code",
   "execution_count": 41,
   "id": "b43502e9",
   "metadata": {
    "id": "c106d912-658c-4179-ab1d-41a5a2ccffd3",
    "slideshow": {
     "slide_type": "fragment"
    }
   },
   "outputs": [],
   "source": [
    "male_target_sample = male_HH_samp_frame.groupby('village', group_keys=False).apply(custom_sample)"
   ]
  },
  {
   "cell_type": "code",
   "execution_count": 42,
   "id": "1d6fcdbd",
   "metadata": {
    "id": "e3dd4d40",
    "outputId": "f22abf60-8a0c-4a11-f22c-0d8591d9ac56",
    "slideshow": {
     "slide_type": "fragment"
    }
   },
   "outputs": [
    {
     "data": {
      "text/plain": [
       "6787"
      ]
     },
     "execution_count": 42,
     "metadata": {},
     "output_type": "execute_result"
    }
   ],
   "source": [
    "len(male_target_sample)"
   ]
  },
  {
   "cell_type": "markdown",
   "id": "8bce7f95",
   "metadata": {
    "slideshow": {
     "slide_type": "slide"
    }
   },
   "source": [
    "We can generate a new column and assign a value target"
   ]
  },
  {
   "cell_type": "code",
   "execution_count": 43,
   "id": "631d9c02",
   "metadata": {
    "id": "50f5ae21",
    "slideshow": {
     "slide_type": "fragment"
    }
   },
   "outputs": [],
   "source": [
    "male_target_sample['status'] = 'target'"
   ]
  },
  {
   "cell_type": "code",
   "execution_count": 44,
   "id": "92d5cd58",
   "metadata": {
    "id": "bbd76c42",
    "outputId": "c28ecad2-9dc6-47fa-f176-3ae8923fd329",
    "slideshow": {
     "slide_type": "fragment"
    }
   },
   "outputs": [
    {
     "data": {
      "text/html": [
       "<div>\n",
       "<style scoped>\n",
       "    .dataframe tbody tr th:only-of-type {\n",
       "        vertical-align: middle;\n",
       "    }\n",
       "\n",
       "    .dataframe tbody tr th {\n",
       "        vertical-align: top;\n",
       "    }\n",
       "\n",
       "    .dataframe thead th {\n",
       "        text-align: right;\n",
       "    }\n",
       "</style>\n",
       "<table border=\"1\" class=\"dataframe\">\n",
       "  <thead>\n",
       "    <tr style=\"text-align: right;\">\n",
       "      <th></th>\n",
       "      <th>district</th>\n",
       "      <th>subcounty</th>\n",
       "      <th>parish_t</th>\n",
       "      <th>village</th>\n",
       "      <th>hhh_full_name</th>\n",
       "      <th>Household_Head_Contact</th>\n",
       "      <th>Household_Head_Gender</th>\n",
       "      <th>hhid</th>\n",
       "      <th>status</th>\n",
       "    </tr>\n",
       "  </thead>\n",
       "  <tbody>\n",
       "    <tr>\n",
       "      <th>1740</th>\n",
       "      <td>Buhweju</td>\n",
       "      <td>Kyahenda</td>\n",
       "      <td>Nyamihira</td>\n",
       "      <td>Akatojo</td>\n",
       "      <td>Jackson Musinguzi</td>\n",
       "      <td>0788-81-29-04</td>\n",
       "      <td>Male Headed</td>\n",
       "      <td>Buh-Aka-Jac-M-180309-14</td>\n",
       "      <td>target</td>\n",
       "    </tr>\n",
       "    <tr>\n",
       "      <th>3363</th>\n",
       "      <td>Buhweju</td>\n",
       "      <td>Kyahenda</td>\n",
       "      <td>Nyamihira</td>\n",
       "      <td>Akatojo</td>\n",
       "      <td>Pauson Katunguka</td>\n",
       "      <td>0772-98-63-99</td>\n",
       "      <td>Male Headed</td>\n",
       "      <td>Buh-Aka-Pau-M-100640-14</td>\n",
       "      <td>target</td>\n",
       "    </tr>\n",
       "    <tr>\n",
       "      <th>1737</th>\n",
       "      <td>Buhweju</td>\n",
       "      <td>Kyahenda</td>\n",
       "      <td>Nyamihira</td>\n",
       "      <td>Akatojo</td>\n",
       "      <td>Wilson Tuhame</td>\n",
       "      <td>0788-65-73-74</td>\n",
       "      <td>Male Headed</td>\n",
       "      <td>Buh-Aka-Wil-M-173148-14</td>\n",
       "      <td>target</td>\n",
       "    </tr>\n",
       "    <tr>\n",
       "      <th>3369</th>\n",
       "      <td>Buhweju</td>\n",
       "      <td>Kyahenda</td>\n",
       "      <td>Nyamihira</td>\n",
       "      <td>Akatojo</td>\n",
       "      <td>John Bundaga</td>\n",
       "      <td>0788-65-73-74</td>\n",
       "      <td>Male Headed</td>\n",
       "      <td>Buh-Aka-Joh-M-110920-14</td>\n",
       "      <td>target</td>\n",
       "    </tr>\n",
       "    <tr>\n",
       "      <th>3359</th>\n",
       "      <td>Buhweju</td>\n",
       "      <td>Kyahenda</td>\n",
       "      <td>Nyamihira</td>\n",
       "      <td>Akatojo</td>\n",
       "      <td>Isamen Nowamaani</td>\n",
       "      <td>0760-96-99-69</td>\n",
       "      <td>Male Headed</td>\n",
       "      <td>Buh-Aka-Isa-M-090850-14</td>\n",
       "      <td>target</td>\n",
       "    </tr>\n",
       "  </tbody>\n",
       "</table>\n",
       "</div>"
      ],
      "text/plain": [
       "     district subcounty   parish_t  village      hhh_full_name  \\\n",
       "1740  Buhweju  Kyahenda  Nyamihira  Akatojo  Jackson Musinguzi   \n",
       "3363  Buhweju  Kyahenda  Nyamihira  Akatojo   Pauson Katunguka   \n",
       "1737  Buhweju  Kyahenda  Nyamihira  Akatojo      Wilson Tuhame   \n",
       "3369  Buhweju  Kyahenda  Nyamihira  Akatojo       John Bundaga   \n",
       "3359  Buhweju  Kyahenda  Nyamihira  Akatojo   Isamen Nowamaani   \n",
       "\n",
       "     Household_Head_Contact Household_Head_Gender                     hhid  \\\n",
       "1740          0788-81-29-04           Male Headed  Buh-Aka-Jac-M-180309-14   \n",
       "3363          0772-98-63-99           Male Headed  Buh-Aka-Pau-M-100640-14   \n",
       "1737          0788-65-73-74           Male Headed  Buh-Aka-Wil-M-173148-14   \n",
       "3369          0788-65-73-74           Male Headed  Buh-Aka-Joh-M-110920-14   \n",
       "3359          0760-96-99-69           Male Headed  Buh-Aka-Isa-M-090850-14   \n",
       "\n",
       "      status  \n",
       "1740  target  \n",
       "3363  target  \n",
       "1737  target  \n",
       "3369  target  \n",
       "3359  target  "
      ]
     },
     "execution_count": 44,
     "metadata": {},
     "output_type": "execute_result"
    }
   ],
   "source": [
    "male_target_sample.head()"
   ]
  },
  {
   "cell_type": "markdown",
   "id": "6d6f4f31",
   "metadata": {
    "slideshow": {
     "slide_type": "notes"
    }
   },
   "source": [
    "Let's try to check the number of samples in Kako village, its 18"
   ]
  },
  {
   "cell_type": "code",
   "execution_count": 46,
   "id": "7bba0578",
   "metadata": {
    "id": "26a26ff4-e964-411a-a0f8-d61c2ea7e3a7",
    "outputId": "0854033c-0787-4d39-9c96-cad444214568",
    "slideshow": {
     "slide_type": "fragment"
    }
   },
   "outputs": [
    {
     "data": {
      "text/plain": [
       "18"
      ]
     },
     "execution_count": 46,
     "metadata": {},
     "output_type": "execute_result"
    }
   ],
   "source": [
    "len(male_target_sample[male_target_sample['village'] == 'Kako'])"
   ]
  },
  {
   "cell_type": "code",
   "execution_count": 47,
   "id": "79dc2971",
   "metadata": {
    "id": "57c40ea1",
    "slideshow": {
     "slide_type": "skip"
    }
   },
   "outputs": [],
   "source": [
    "# male_target_sample.to_excel('mit/male_target_sample.xlsx', index=False)"
   ]
  },
  {
   "cell_type": "markdown",
   "id": "825aa6e3",
   "metadata": {
    "slideshow": {
     "slide_type": "slide"
    }
   },
   "source": [
    "But we need some reserves, let's do the same"
   ]
  },
  {
   "cell_type": "markdown",
   "id": "c51d1bb8",
   "metadata": {
    "id": "4b6293ee",
    "slideshow": {
     "slide_type": "slide"
    }
   },
   "source": [
    "## Reserve frame"
   ]
  },
  {
   "cell_type": "markdown",
   "id": "7aede73a",
   "metadata": {
    "slideshow": {
     "slide_type": "notes"
    }
   },
   "source": [
    "we can drop the targets since we've already assigned them using the index"
   ]
  },
  {
   "cell_type": "code",
   "execution_count": 48,
   "id": "d9514ed8",
   "metadata": {
    "id": "2afb4fd5",
    "slideshow": {
     "slide_type": "fragment"
    }
   },
   "outputs": [],
   "source": [
    "male_reserve_s_frame = male_HH_samp_frame.drop(index = male_target_sample.index)"
   ]
  },
  {
   "cell_type": "code",
   "execution_count": 49,
   "id": "899bd283",
   "metadata": {
    "id": "d3ed3ca4",
    "slideshow": {
     "slide_type": "skip"
    }
   },
   "outputs": [],
   "source": [
    "# male_reserve_s_frame.to_excel('mit/male_reserve_s_frame.xlsx', index=False)"
   ]
  },
  {
   "cell_type": "code",
   "execution_count": 50,
   "id": "1466854e",
   "metadata": {
    "id": "d5caae2a-9eb3-4cdc-aed8-07ca47334f8b",
    "slideshow": {
     "slide_type": "fragment"
    }
   },
   "outputs": [],
   "source": [
    "male_reserve_sample = male_reserve_s_frame.groupby('village', group_keys=False).apply(custom_sample)"
   ]
  },
  {
   "cell_type": "code",
   "execution_count": 51,
   "id": "d8ffdbd1",
   "metadata": {
    "id": "ccfd39b7",
    "outputId": "62395bf4-395a-4e3d-9b51-0b2e82c534f8",
    "slideshow": {
     "slide_type": "fragment"
    }
   },
   "outputs": [
    {
     "data": {
      "text/html": [
       "<div>\n",
       "<style scoped>\n",
       "    .dataframe tbody tr th:only-of-type {\n",
       "        vertical-align: middle;\n",
       "    }\n",
       "\n",
       "    .dataframe tbody tr th {\n",
       "        vertical-align: top;\n",
       "    }\n",
       "\n",
       "    .dataframe thead th {\n",
       "        text-align: right;\n",
       "    }\n",
       "</style>\n",
       "<table border=\"1\" class=\"dataframe\">\n",
       "  <thead>\n",
       "    <tr style=\"text-align: right;\">\n",
       "      <th></th>\n",
       "      <th>district</th>\n",
       "      <th>subcounty</th>\n",
       "      <th>parish_t</th>\n",
       "      <th>village</th>\n",
       "      <th>hhh_full_name</th>\n",
       "      <th>Household_Head_Contact</th>\n",
       "      <th>Household_Head_Gender</th>\n",
       "      <th>hhid</th>\n",
       "      <th>status</th>\n",
       "    </tr>\n",
       "  </thead>\n",
       "  <tbody>\n",
       "    <tr>\n",
       "      <th>1726</th>\n",
       "      <td>Buhweju</td>\n",
       "      <td>Kyahenda</td>\n",
       "      <td>Nyamihira</td>\n",
       "      <td>Akatojo</td>\n",
       "      <td>Yowasi Nyangi</td>\n",
       "      <td>0788-65-73-74</td>\n",
       "      <td>Male Headed</td>\n",
       "      <td>Buh-Aka-Yow-M-151028-14</td>\n",
       "      <td>reserve</td>\n",
       "    </tr>\n",
       "    <tr>\n",
       "      <th>1719</th>\n",
       "      <td>Buhweju</td>\n",
       "      <td>Kyahenda</td>\n",
       "      <td>Nyamihira</td>\n",
       "      <td>Akatojo</td>\n",
       "      <td>Robert Manzi</td>\n",
       "      <td>0783-62-75-05</td>\n",
       "      <td>Male Headed</td>\n",
       "      <td>Buh-Aka-Rob-M-134714-14</td>\n",
       "      <td>reserve</td>\n",
       "    </tr>\n",
       "    <tr>\n",
       "      <th>1721</th>\n",
       "      <td>Buhweju</td>\n",
       "      <td>Kyahenda</td>\n",
       "      <td>Nyamihira</td>\n",
       "      <td>Akatojo</td>\n",
       "      <td>Gard Sabit</td>\n",
       "      <td>0788-65-73-74</td>\n",
       "      <td>Male Headed</td>\n",
       "      <td>Buh-Aka-Gar-M-140928-14</td>\n",
       "      <td>reserve</td>\n",
       "    </tr>\n",
       "    <tr>\n",
       "      <th>3378</th>\n",
       "      <td>Buhweju</td>\n",
       "      <td>Kyahenda</td>\n",
       "      <td>Nyamihira</td>\n",
       "      <td>Akatojo</td>\n",
       "      <td>Justus Banturaki</td>\n",
       "      <td>0778-76-35-38</td>\n",
       "      <td>Male Headed</td>\n",
       "      <td>Buh-Aka-Jus-M-123623-14</td>\n",
       "      <td>reserve</td>\n",
       "    </tr>\n",
       "    <tr>\n",
       "      <th>1728</th>\n",
       "      <td>Buhweju</td>\n",
       "      <td>Kyahenda</td>\n",
       "      <td>Nyamihira</td>\n",
       "      <td>Akatojo</td>\n",
       "      <td>Fuderi Tumusime</td>\n",
       "      <td>0772-47-91-23</td>\n",
       "      <td>Male Headed</td>\n",
       "      <td>Buh-Aka-Fud-M-153058-14</td>\n",
       "      <td>reserve</td>\n",
       "    </tr>\n",
       "  </tbody>\n",
       "</table>\n",
       "</div>"
      ],
      "text/plain": [
       "     district subcounty   parish_t  village     hhh_full_name  \\\n",
       "1726  Buhweju  Kyahenda  Nyamihira  Akatojo     Yowasi Nyangi   \n",
       "1719  Buhweju  Kyahenda  Nyamihira  Akatojo      Robert Manzi   \n",
       "1721  Buhweju  Kyahenda  Nyamihira  Akatojo        Gard Sabit   \n",
       "3378  Buhweju  Kyahenda  Nyamihira  Akatojo  Justus Banturaki   \n",
       "1728  Buhweju  Kyahenda  Nyamihira  Akatojo   Fuderi Tumusime   \n",
       "\n",
       "     Household_Head_Contact Household_Head_Gender                     hhid  \\\n",
       "1726          0788-65-73-74           Male Headed  Buh-Aka-Yow-M-151028-14   \n",
       "1719          0783-62-75-05           Male Headed  Buh-Aka-Rob-M-134714-14   \n",
       "1721          0788-65-73-74           Male Headed  Buh-Aka-Gar-M-140928-14   \n",
       "3378          0778-76-35-38           Male Headed  Buh-Aka-Jus-M-123623-14   \n",
       "1728          0772-47-91-23           Male Headed  Buh-Aka-Fud-M-153058-14   \n",
       "\n",
       "       status  \n",
       "1726  reserve  \n",
       "1719  reserve  \n",
       "1721  reserve  \n",
       "3378  reserve  \n",
       "1728  reserve  "
      ]
     },
     "execution_count": 51,
     "metadata": {},
     "output_type": "execute_result"
    }
   ],
   "source": [
    "male_reserve_sample['status'] = 'reserve'\n",
    "male_reserve_sample.head()"
   ]
  },
  {
   "cell_type": "code",
   "execution_count": 52,
   "id": "c079f9cf",
   "metadata": {
    "id": "1fa5dabe-48fc-4670-aa88-091b032b18f0",
    "outputId": "0423bd4c-f5fa-48c9-9831-6c852c111019",
    "slideshow": {
     "slide_type": "fragment"
    }
   },
   "outputs": [
    {
     "data": {
      "text/plain": [
       "18"
      ]
     },
     "execution_count": 52,
     "metadata": {},
     "output_type": "execute_result"
    }
   ],
   "source": [
    "len(male_reserve_sample[male_reserve_sample['village'] == 'Kako'])"
   ]
  },
  {
   "cell_type": "code",
   "execution_count": 53,
   "id": "dad53481",
   "metadata": {
    "id": "ed57a534",
    "slideshow": {
     "slide_type": "skip"
    }
   },
   "outputs": [],
   "source": [
    "# male_reserve_sample.to_excel('mit/male_reserve_sample.xlsx', index=False)"
   ]
  },
  {
   "cell_type": "markdown",
   "id": "8c42e29d",
   "metadata": {
    "slideshow": {
     "slide_type": "skip"
    }
   },
   "source": [
    "Let's combine the targets and reserves to come up with a complete sample for males"
   ]
  },
  {
   "cell_type": "markdown",
   "id": "86801475",
   "metadata": {
    "id": "c210c150",
    "slideshow": {
     "slide_type": "slide"
    }
   },
   "source": [
    "# Male Household Sample [Combining the Target and Reserve]"
   ]
  },
  {
   "cell_type": "code",
   "execution_count": 54,
   "id": "d304b5d2",
   "metadata": {
    "id": "d33254ad",
    "outputId": "34a62b6c-3cca-4cd9-8b9b-46a67d18dba9",
    "slideshow": {
     "slide_type": "fragment"
    }
   },
   "outputs": [
    {
     "data": {
      "text/plain": [
       "((6787, 9), (6614, 9))"
      ]
     },
     "execution_count": 54,
     "metadata": {},
     "output_type": "execute_result"
    }
   ],
   "source": [
    "male_target_sample.shape, male_reserve_sample.shape"
   ]
  },
  {
   "cell_type": "code",
   "execution_count": 55,
   "id": "81444f31",
   "metadata": {
    "id": "6c290995",
    "slideshow": {
     "slide_type": "fragment"
    }
   },
   "outputs": [],
   "source": [
    "MALE_HH_SAMPLE = pd.concat([male_target_sample, male_reserve_sample])"
   ]
  },
  {
   "cell_type": "markdown",
   "id": "ee63cd45",
   "metadata": {
    "slideshow": {
     "slide_type": "fragment"
    }
   },
   "source": [
    "If you have data frames with primary keys, you can rather join using merge, You can google it up."
   ]
  },
  {
   "cell_type": "code",
   "execution_count": 56,
   "id": "a8b13d69",
   "metadata": {
    "id": "9736f93e"
   },
   "outputs": [],
   "source": [
    "# MALE_HH_SAMPLE.to_excel('mit/MALE_HH_SAMPLE.xlsx', index=False)"
   ]
  },
  {
   "cell_type": "markdown",
   "id": "b4753793",
   "metadata": {
    "id": "a1daf0d4",
    "slideshow": {
     "slide_type": "slide"
    }
   },
   "source": [
    "We are done, let's simply do the same for females and youths"
   ]
  },
  {
   "cell_type": "markdown",
   "id": "057db640",
   "metadata": {
    "id": "3e0ac3ed",
    "slideshow": {
     "slide_type": "slide"
    }
   },
   "source": [
    "# FEMALE  Headed"
   ]
  },
  {
   "cell_type": "code",
   "execution_count": 57,
   "id": "bd11090e",
   "metadata": {
    "id": "bb4e1a37",
    "outputId": "11deb01b-6d98-4bcd-fffb-ec25afa9b038",
    "slideshow": {
     "slide_type": "fragment"
    }
   },
   "outputs": [
    {
     "data": {
      "text/plain": [
       "12448"
      ]
     },
     "execution_count": 57,
     "metadata": {},
     "output_type": "execute_result"
    }
   ],
   "source": [
    "len(female_HH_samp_frame)"
   ]
  },
  {
   "cell_type": "code",
   "execution_count": 58,
   "id": "e74bad6d",
   "metadata": {
    "id": "72cbb9f3",
    "outputId": "236a87ad-0547-4188-c7ff-bec7fc6c9f2c",
    "slideshow": {
     "slide_type": "skip"
    }
   },
   "outputs": [
    {
     "data": {
      "text/html": [
       "<div>\n",
       "<style scoped>\n",
       "    .dataframe tbody tr th:only-of-type {\n",
       "        vertical-align: middle;\n",
       "    }\n",
       "\n",
       "    .dataframe tbody tr th {\n",
       "        vertical-align: top;\n",
       "    }\n",
       "\n",
       "    .dataframe thead th {\n",
       "        text-align: right;\n",
       "    }\n",
       "</style>\n",
       "<table border=\"1\" class=\"dataframe\">\n",
       "  <thead>\n",
       "    <tr style=\"text-align: right;\">\n",
       "      <th></th>\n",
       "      <th>district</th>\n",
       "      <th>subcounty</th>\n",
       "      <th>parish_t</th>\n",
       "      <th>village</th>\n",
       "      <th>hhh_full_name</th>\n",
       "      <th>Household_Head_Contact</th>\n",
       "      <th>Household_Head_Gender</th>\n",
       "      <th>hhid</th>\n",
       "    </tr>\n",
       "  </thead>\n",
       "  <tbody>\n",
       "    <tr>\n",
       "      <th>0</th>\n",
       "      <td>Mitooma</td>\n",
       "      <td>Mitooma</td>\n",
       "      <td>Nyakishojwa</td>\n",
       "      <td>Kashasha</td>\n",
       "      <td>Kyomuhangi Jadress</td>\n",
       "      <td>0763-25-28-10</td>\n",
       "      <td>Female Headed</td>\n",
       "      <td>Mit-Kas-Kyo-F-082932-5</td>\n",
       "    </tr>\n",
       "    <tr>\n",
       "      <th>1</th>\n",
       "      <td>Mitooma</td>\n",
       "      <td>Mitooma</td>\n",
       "      <td>Nyakishojwa</td>\n",
       "      <td>Karoza_A</td>\n",
       "      <td>Nuwagaba Charity</td>\n",
       "      <td>0778-56-33-66</td>\n",
       "      <td>Female Headed</td>\n",
       "      <td>Mit-Kar-Nuw-F-082625-5</td>\n",
       "    </tr>\n",
       "    <tr>\n",
       "      <th>2</th>\n",
       "      <td>Mitooma</td>\n",
       "      <td>Mitooma</td>\n",
       "      <td>Nyakishojwa</td>\n",
       "      <td>Kihunga_Nyakishowa</td>\n",
       "      <td>Twogirwe Mollias</td>\n",
       "      <td>0773-35-56-76</td>\n",
       "      <td>Female Headed</td>\n",
       "      <td>Mit-Kih-Two-F-083135-5</td>\n",
       "    </tr>\n",
       "    <tr>\n",
       "      <th>4</th>\n",
       "      <td>Mitooma</td>\n",
       "      <td>Mitooma</td>\n",
       "      <td>Nyakishojwa</td>\n",
       "      <td>Kibisho_A</td>\n",
       "      <td>Mauda Ndebwomwe</td>\n",
       "      <td>0706-94-93-06</td>\n",
       "      <td>Female Headed</td>\n",
       "      <td>Mit-Kib-Mau-F-083009-5</td>\n",
       "    </tr>\n",
       "    <tr>\n",
       "      <th>6</th>\n",
       "      <td>Mitooma</td>\n",
       "      <td>Mitooma</td>\n",
       "      <td>Nyakishojwa</td>\n",
       "      <td>Karoza_A</td>\n",
       "      <td>komwani Mary</td>\n",
       "      <td>0775-65-31-17</td>\n",
       "      <td>Female Headed</td>\n",
       "      <td>Mit-Kar-kom-F-083805-5</td>\n",
       "    </tr>\n",
       "  </tbody>\n",
       "</table>\n",
       "</div>"
      ],
      "text/plain": [
       "  district subcounty     parish_t             village       hhh_full_name  \\\n",
       "0  Mitooma   Mitooma  Nyakishojwa            Kashasha  Kyomuhangi Jadress   \n",
       "1  Mitooma   Mitooma  Nyakishojwa            Karoza_A    Nuwagaba Charity   \n",
       "2  Mitooma   Mitooma  Nyakishojwa  Kihunga_Nyakishowa    Twogirwe Mollias   \n",
       "4  Mitooma   Mitooma  Nyakishojwa           Kibisho_A     Mauda Ndebwomwe   \n",
       "6  Mitooma   Mitooma  Nyakishojwa            Karoza_A        komwani Mary   \n",
       "\n",
       "  Household_Head_Contact Household_Head_Gender                    hhid  \n",
       "0          0763-25-28-10         Female Headed  Mit-Kas-Kyo-F-082932-5  \n",
       "1          0778-56-33-66         Female Headed  Mit-Kar-Nuw-F-082625-5  \n",
       "2          0773-35-56-76         Female Headed  Mit-Kih-Two-F-083135-5  \n",
       "4          0706-94-93-06         Female Headed  Mit-Kib-Mau-F-083009-5  \n",
       "6          0775-65-31-17         Female Headed  Mit-Kar-kom-F-083805-5  "
      ]
     },
     "execution_count": 58,
     "metadata": {},
     "output_type": "execute_result"
    }
   ],
   "source": [
    "female_HH_samp_frame.head()"
   ]
  },
  {
   "cell_type": "markdown",
   "id": "856d9a88",
   "metadata": {
    "slideshow": {
     "slide_type": "slide"
    }
   },
   "source": [
    "You realize here that I am not using the custom function, because 20% of 30 and 25% of 24 all give 6 samples. We can just sample"
   ]
  },
  {
   "cell_type": "code",
   "execution_count": 59,
   "id": "182b49b0",
   "metadata": {
    "id": "ea81691f",
    "slideshow": {
     "slide_type": "fragment"
    }
   },
   "outputs": [],
   "source": [
    "female_target_sample = female_HH_samp_frame.groupby('village', group_keys=False).apply(lambda x: x.sample(n=min(len(x), 6)))"
   ]
  },
  {
   "cell_type": "code",
   "execution_count": 60,
   "id": "995614a1",
   "metadata": {
    "id": "4eda136e",
    "outputId": "9ff262dc-a690-4b20-8444-912515e98ce1",
    "slideshow": {
     "slide_type": "skip"
    }
   },
   "outputs": [
    {
     "data": {
      "text/plain": [
       "2702"
      ]
     },
     "execution_count": 60,
     "metadata": {},
     "output_type": "execute_result"
    }
   ],
   "source": [
    "len(female_target_sample)"
   ]
  },
  {
   "cell_type": "code",
   "execution_count": 61,
   "id": "75f5495b",
   "metadata": {
    "id": "2c9f1b9d",
    "slideshow": {
     "slide_type": "fragment"
    }
   },
   "outputs": [],
   "source": [
    "female_target_sample['status'] = 'target'"
   ]
  },
  {
   "cell_type": "code",
   "execution_count": 62,
   "id": "182362bf",
   "metadata": {
    "id": "6df93913",
    "outputId": "65ca229d-0969-4fa9-9e66-ad26814787af",
    "slideshow": {
     "slide_type": "skip"
    }
   },
   "outputs": [
    {
     "data": {
      "text/html": [
       "<div>\n",
       "<style scoped>\n",
       "    .dataframe tbody tr th:only-of-type {\n",
       "        vertical-align: middle;\n",
       "    }\n",
       "\n",
       "    .dataframe tbody tr th {\n",
       "        vertical-align: top;\n",
       "    }\n",
       "\n",
       "    .dataframe thead th {\n",
       "        text-align: right;\n",
       "    }\n",
       "</style>\n",
       "<table border=\"1\" class=\"dataframe\">\n",
       "  <thead>\n",
       "    <tr style=\"text-align: right;\">\n",
       "      <th></th>\n",
       "      <th>district</th>\n",
       "      <th>subcounty</th>\n",
       "      <th>parish_t</th>\n",
       "      <th>village</th>\n",
       "      <th>hhh_full_name</th>\n",
       "      <th>Household_Head_Contact</th>\n",
       "      <th>Household_Head_Gender</th>\n",
       "      <th>hhid</th>\n",
       "      <th>status</th>\n",
       "    </tr>\n",
       "  </thead>\n",
       "  <tbody>\n",
       "    <tr>\n",
       "      <th>3367</th>\n",
       "      <td>Buhweju</td>\n",
       "      <td>Kyahenda</td>\n",
       "      <td>Nyamihira</td>\n",
       "      <td>Akatojo</td>\n",
       "      <td>Hairet Natukunda</td>\n",
       "      <td>0788-65-73-74</td>\n",
       "      <td>Female Headed</td>\n",
       "      <td>Buh-Aka-Hai-F-105346-14</td>\n",
       "      <td>target</td>\n",
       "    </tr>\n",
       "    <tr>\n",
       "      <th>3383</th>\n",
       "      <td>Buhweju</td>\n",
       "      <td>Kyahenda</td>\n",
       "      <td>Nyamihira</td>\n",
       "      <td>Akatojo</td>\n",
       "      <td>Kyomuhangi Jane</td>\n",
       "      <td>0788-65-72-74</td>\n",
       "      <td>Female Headed</td>\n",
       "      <td>Buh-Aka-Kyo-F-135222-14</td>\n",
       "      <td>target</td>\n",
       "    </tr>\n",
       "    <tr>\n",
       "      <th>1735</th>\n",
       "      <td>Buhweju</td>\n",
       "      <td>Kyahenda</td>\n",
       "      <td>Nyamihira</td>\n",
       "      <td>Akatojo</td>\n",
       "      <td>Adrine Tumuhirye</td>\n",
       "      <td>0784-80-38-86</td>\n",
       "      <td>Female Headed</td>\n",
       "      <td>Buh-Aka-Adr-F-170549-14</td>\n",
       "      <td>target</td>\n",
       "    </tr>\n",
       "    <tr>\n",
       "      <th>1713</th>\n",
       "      <td>Buhweju</td>\n",
       "      <td>Kyahenda</td>\n",
       "      <td>Nyamihira</td>\n",
       "      <td>Akatojo</td>\n",
       "      <td>Anitah Natukwasa</td>\n",
       "      <td>0789-53-44-09</td>\n",
       "      <td>Female Headed</td>\n",
       "      <td>Buh-Aka-Ani-F-124217-14</td>\n",
       "      <td>target</td>\n",
       "    </tr>\n",
       "    <tr>\n",
       "      <th>3381</th>\n",
       "      <td>Buhweju</td>\n",
       "      <td>Kyahenda</td>\n",
       "      <td>Nyamihira</td>\n",
       "      <td>Akatojo</td>\n",
       "      <td>Asiya Karunga</td>\n",
       "      <td>0788-65-73-74</td>\n",
       "      <td>Female Headed</td>\n",
       "      <td>Buh-Aka-Asi-F-132140-14</td>\n",
       "      <td>target</td>\n",
       "    </tr>\n",
       "  </tbody>\n",
       "</table>\n",
       "</div>"
      ],
      "text/plain": [
       "     district subcounty   parish_t  village     hhh_full_name  \\\n",
       "3367  Buhweju  Kyahenda  Nyamihira  Akatojo  Hairet Natukunda   \n",
       "3383  Buhweju  Kyahenda  Nyamihira  Akatojo   Kyomuhangi Jane   \n",
       "1735  Buhweju  Kyahenda  Nyamihira  Akatojo  Adrine Tumuhirye   \n",
       "1713  Buhweju  Kyahenda  Nyamihira  Akatojo  Anitah Natukwasa   \n",
       "3381  Buhweju  Kyahenda  Nyamihira  Akatojo     Asiya Karunga   \n",
       "\n",
       "     Household_Head_Contact Household_Head_Gender                     hhid  \\\n",
       "3367          0788-65-73-74         Female Headed  Buh-Aka-Hai-F-105346-14   \n",
       "3383          0788-65-72-74         Female Headed  Buh-Aka-Kyo-F-135222-14   \n",
       "1735          0784-80-38-86         Female Headed  Buh-Aka-Adr-F-170549-14   \n",
       "1713          0789-53-44-09         Female Headed  Buh-Aka-Ani-F-124217-14   \n",
       "3381          0788-65-73-74         Female Headed  Buh-Aka-Asi-F-132140-14   \n",
       "\n",
       "      status  \n",
       "3367  target  \n",
       "3383  target  \n",
       "1735  target  \n",
       "1713  target  \n",
       "3381  target  "
      ]
     },
     "execution_count": 62,
     "metadata": {},
     "output_type": "execute_result"
    }
   ],
   "source": [
    "female_target_sample.head()"
   ]
  },
  {
   "cell_type": "code",
   "execution_count": 63,
   "id": "c203386c",
   "metadata": {
    "id": "1fb9b959",
    "slideshow": {
     "slide_type": "skip"
    }
   },
   "outputs": [],
   "source": [
    "# female_target_sample.to_excel('mit/female_target_sample.xlsx', index=False)"
   ]
  },
  {
   "cell_type": "markdown",
   "id": "93c2f8e6",
   "metadata": {
    "id": "ec4bd25e",
    "slideshow": {
     "slide_type": "skip"
    }
   },
   "source": [
    "## Reserve frame"
   ]
  },
  {
   "cell_type": "code",
   "execution_count": 64,
   "id": "06cfdd95",
   "metadata": {
    "id": "9172c8fa",
    "outputId": "5c13f57f-2c27-4a39-f865-a80642307f3b",
    "slideshow": {
     "slide_type": "fragment"
    }
   },
   "outputs": [
    {
     "data": {
      "text/plain": [
       "(9746, 8)"
      ]
     },
     "execution_count": 64,
     "metadata": {},
     "output_type": "execute_result"
    }
   ],
   "source": [
    "female_reserve_s_frame = female_HH_samp_frame.drop(index = female_target_sample.index)\n",
    "female_reserve_s_frame.shape"
   ]
  },
  {
   "cell_type": "code",
   "execution_count": 65,
   "id": "731e2caf",
   "metadata": {
    "id": "b7e117e4",
    "slideshow": {
     "slide_type": "skip"
    }
   },
   "outputs": [],
   "source": [
    "# female_reserve_s_frame.to_excel('mit/female_reserve_s_frame.xlsx', index=False)"
   ]
  },
  {
   "cell_type": "code",
   "execution_count": 66,
   "id": "ac1898f0",
   "metadata": {
    "id": "9b090477",
    "slideshow": {
     "slide_type": "slide"
    }
   },
   "outputs": [],
   "source": [
    "female_reserve_sample = female_reserve_s_frame.groupby('village', group_keys=False).apply(lambda x: x.sample(n=min(len(x), 6)))"
   ]
  },
  {
   "cell_type": "code",
   "execution_count": 67,
   "id": "6e7c0f11",
   "metadata": {
    "id": "b232d99b",
    "outputId": "fd809e5d-dd3d-4202-ca34-53eeaa1cd4a2",
    "slideshow": {
     "slide_type": "fragment"
    }
   },
   "outputs": [
    {
     "data": {
      "text/html": [
       "<div>\n",
       "<style scoped>\n",
       "    .dataframe tbody tr th:only-of-type {\n",
       "        vertical-align: middle;\n",
       "    }\n",
       "\n",
       "    .dataframe tbody tr th {\n",
       "        vertical-align: top;\n",
       "    }\n",
       "\n",
       "    .dataframe thead th {\n",
       "        text-align: right;\n",
       "    }\n",
       "</style>\n",
       "<table border=\"1\" class=\"dataframe\">\n",
       "  <thead>\n",
       "    <tr style=\"text-align: right;\">\n",
       "      <th></th>\n",
       "      <th>district</th>\n",
       "      <th>subcounty</th>\n",
       "      <th>parish_t</th>\n",
       "      <th>village</th>\n",
       "      <th>hhh_full_name</th>\n",
       "      <th>Household_Head_Contact</th>\n",
       "      <th>Household_Head_Gender</th>\n",
       "      <th>hhid</th>\n",
       "      <th>status</th>\n",
       "    </tr>\n",
       "  </thead>\n",
       "  <tbody>\n",
       "    <tr>\n",
       "      <th>1725</th>\n",
       "      <td>Buhweju</td>\n",
       "      <td>Kyahenda</td>\n",
       "      <td>Nyamihira</td>\n",
       "      <td>Akatojo</td>\n",
       "      <td>Dovina Tukamuhabwa</td>\n",
       "      <td>0788-65-73-74</td>\n",
       "      <td>Female Headed</td>\n",
       "      <td>Buh-Aka-Dov-F-150345-14</td>\n",
       "      <td>reserve</td>\n",
       "    </tr>\n",
       "    <tr>\n",
       "      <th>1739</th>\n",
       "      <td>Buhweju</td>\n",
       "      <td>Kyahenda</td>\n",
       "      <td>Nyamihira</td>\n",
       "      <td>Akatojo</td>\n",
       "      <td>Provia Tumusiime</td>\n",
       "      <td>0788-65-73-74</td>\n",
       "      <td>Female Headed</td>\n",
       "      <td>Buh-Aka-Pro-F-175529-14</td>\n",
       "      <td>reserve</td>\n",
       "    </tr>\n",
       "    <tr>\n",
       "      <th>1717</th>\n",
       "      <td>Buhweju</td>\n",
       "      <td>Kyahenda</td>\n",
       "      <td>Nyamihira</td>\n",
       "      <td>Akatojo</td>\n",
       "      <td>Lidya Tumworebere</td>\n",
       "      <td>0788-65-73-74</td>\n",
       "      <td>Female Headed</td>\n",
       "      <td>Buh-Aka-Lid-F-132006-14</td>\n",
       "      <td>reserve</td>\n",
       "    </tr>\n",
       "    <tr>\n",
       "      <th>1732</th>\n",
       "      <td>Buhweju</td>\n",
       "      <td>Kyahenda</td>\n",
       "      <td>Nyamihira</td>\n",
       "      <td>Akatojo</td>\n",
       "      <td>Mary Turyamuhebwa</td>\n",
       "      <td>0779-44-60-29</td>\n",
       "      <td>Female Headed</td>\n",
       "      <td>Buh-Aka-Mar-F-163632-14</td>\n",
       "      <td>reserve</td>\n",
       "    </tr>\n",
       "    <tr>\n",
       "      <th>3364</th>\n",
       "      <td>Buhweju</td>\n",
       "      <td>Kyahenda</td>\n",
       "      <td>Nyamihira</td>\n",
       "      <td>Akatojo</td>\n",
       "      <td>Lillian Kibatenga</td>\n",
       "      <td>0788-65-73-74</td>\n",
       "      <td>Female Headed</td>\n",
       "      <td>Buh-Aka-Lil-F-101914-14</td>\n",
       "      <td>reserve</td>\n",
       "    </tr>\n",
       "  </tbody>\n",
       "</table>\n",
       "</div>"
      ],
      "text/plain": [
       "     district subcounty   parish_t  village       hhh_full_name  \\\n",
       "1725  Buhweju  Kyahenda  Nyamihira  Akatojo  Dovina Tukamuhabwa   \n",
       "1739  Buhweju  Kyahenda  Nyamihira  Akatojo    Provia Tumusiime   \n",
       "1717  Buhweju  Kyahenda  Nyamihira  Akatojo   Lidya Tumworebere   \n",
       "1732  Buhweju  Kyahenda  Nyamihira  Akatojo   Mary Turyamuhebwa   \n",
       "3364  Buhweju  Kyahenda  Nyamihira  Akatojo   Lillian Kibatenga   \n",
       "\n",
       "     Household_Head_Contact Household_Head_Gender                     hhid  \\\n",
       "1725          0788-65-73-74         Female Headed  Buh-Aka-Dov-F-150345-14   \n",
       "1739          0788-65-73-74         Female Headed  Buh-Aka-Pro-F-175529-14   \n",
       "1717          0788-65-73-74         Female Headed  Buh-Aka-Lid-F-132006-14   \n",
       "1732          0779-44-60-29         Female Headed  Buh-Aka-Mar-F-163632-14   \n",
       "3364          0788-65-73-74         Female Headed  Buh-Aka-Lil-F-101914-14   \n",
       "\n",
       "       status  \n",
       "1725  reserve  \n",
       "1739  reserve  \n",
       "1717  reserve  \n",
       "1732  reserve  \n",
       "3364  reserve  "
      ]
     },
     "execution_count": 67,
     "metadata": {},
     "output_type": "execute_result"
    }
   ],
   "source": [
    "female_reserve_sample['status'] = 'reserve'\n",
    "female_reserve_sample.head()"
   ]
  },
  {
   "cell_type": "code",
   "execution_count": 68,
   "id": "561a5fc5",
   "metadata": {
    "id": "acca14d8",
    "slideshow": {
     "slide_type": "skip"
    }
   },
   "outputs": [],
   "source": [
    "# female_reserve_sample.to_excel('mit/female_reserve_sample.xlsx', index=False)"
   ]
  },
  {
   "cell_type": "code",
   "execution_count": 69,
   "id": "66f6e60a",
   "metadata": {
    "id": "268fa1fc",
    "slideshow": {
     "slide_type": "fragment"
    }
   },
   "outputs": [],
   "source": [
    "FEMALE_HH_SAMPLE = pd.concat([female_target_sample, female_reserve_sample])"
   ]
  },
  {
   "cell_type": "code",
   "execution_count": 70,
   "id": "58a8db1e",
   "metadata": {
    "id": "e8229818",
    "slideshow": {
     "slide_type": "skip"
    }
   },
   "outputs": [],
   "source": [
    "# FEMALE_HH_SAMPLE.to_excel('mit/FEMALE_HH_SAMPLE.xlsx', index=False)"
   ]
  },
  {
   "cell_type": "markdown",
   "id": "f5afe627",
   "metadata": {
    "id": "f1ec251a",
    "slideshow": {
     "slide_type": "slide"
    }
   },
   "source": [
    "# YOUTH Households"
   ]
  },
  {
   "cell_type": "code",
   "execution_count": 71,
   "id": "00b44a62",
   "metadata": {
    "id": "e79b4021",
    "outputId": "b7c2dad9-c4a4-4c4d-e8a5-17a86e67f13c",
    "slideshow": {
     "slide_type": "skip"
    }
   },
   "outputs": [
    {
     "data": {
      "text/plain": [
       "14634"
      ]
     },
     "execution_count": 71,
     "metadata": {},
     "output_type": "execute_result"
    }
   ],
   "source": [
    "len(youth_HH_samp_frame)"
   ]
  },
  {
   "cell_type": "code",
   "execution_count": 72,
   "id": "74a4644d",
   "metadata": {
    "id": "26e9ce59",
    "outputId": "ca6b412e-c612-4a31-8c53-b75dc6776ab9",
    "slideshow": {
     "slide_type": "skip"
    }
   },
   "outputs": [
    {
     "data": {
      "text/html": [
       "<div>\n",
       "<style scoped>\n",
       "    .dataframe tbody tr th:only-of-type {\n",
       "        vertical-align: middle;\n",
       "    }\n",
       "\n",
       "    .dataframe tbody tr th {\n",
       "        vertical-align: top;\n",
       "    }\n",
       "\n",
       "    .dataframe thead th {\n",
       "        text-align: right;\n",
       "    }\n",
       "</style>\n",
       "<table border=\"1\" class=\"dataframe\">\n",
       "  <thead>\n",
       "    <tr style=\"text-align: right;\">\n",
       "      <th></th>\n",
       "      <th>district</th>\n",
       "      <th>subcounty</th>\n",
       "      <th>parish_t</th>\n",
       "      <th>village</th>\n",
       "      <th>hhh_full_name</th>\n",
       "      <th>Household_Head_Contact</th>\n",
       "      <th>Household_Head_Gender</th>\n",
       "      <th>hhid</th>\n",
       "    </tr>\n",
       "  </thead>\n",
       "  <tbody>\n",
       "    <tr>\n",
       "      <th>10</th>\n",
       "      <td>Mitooma</td>\n",
       "      <td>Mitooma</td>\n",
       "      <td>Nyakishojwa</td>\n",
       "      <td>Kashasha</td>\n",
       "      <td>Ainomujuni Mavini</td>\n",
       "      <td>0706-55-49-45</td>\n",
       "      <td>Youth Headed</td>\n",
       "      <td>Mit-Kas-Ain-M-085223-5</td>\n",
       "    </tr>\n",
       "    <tr>\n",
       "      <th>20</th>\n",
       "      <td>Mitooma</td>\n",
       "      <td>Mitooma</td>\n",
       "      <td>Nyakishojwa</td>\n",
       "      <td>Kashasha</td>\n",
       "      <td>Twesigye Gilbert</td>\n",
       "      <td>0787-12-15-05</td>\n",
       "      <td>Youth Headed</td>\n",
       "      <td>Mit-Kas-Twe-M-091417-5</td>\n",
       "    </tr>\n",
       "    <tr>\n",
       "      <th>25</th>\n",
       "      <td>Mitooma</td>\n",
       "      <td>Mitooma</td>\n",
       "      <td>Nyakishojwa</td>\n",
       "      <td>Kihunga_Nyakishowa</td>\n",
       "      <td>Tumwine Asaph</td>\n",
       "      <td>0775-14-86-49</td>\n",
       "      <td>Youth Headed</td>\n",
       "      <td>Mit-Kih-Tum-M-091142-5</td>\n",
       "    </tr>\n",
       "    <tr>\n",
       "      <th>40</th>\n",
       "      <td>Mitooma</td>\n",
       "      <td>Mitooma</td>\n",
       "      <td>Nyakishojwa</td>\n",
       "      <td>Nyakishojwa_Central</td>\n",
       "      <td>Amutuhaire Sikora</td>\n",
       "      <td>0773-15-11-61</td>\n",
       "      <td>Youth Headed</td>\n",
       "      <td>Mit-Nya-Amu-F-095910-5</td>\n",
       "    </tr>\n",
       "    <tr>\n",
       "      <th>47</th>\n",
       "      <td>Buhweju</td>\n",
       "      <td>Kyahenda</td>\n",
       "      <td>Kiyanja</td>\n",
       "      <td>Kakonkoma</td>\n",
       "      <td>Ronald Keinerugaba</td>\n",
       "      <td>0780-10-71-85</td>\n",
       "      <td>Youth Headed</td>\n",
       "      <td>Buh-Kak-Ron-M-083202-14</td>\n",
       "    </tr>\n",
       "  </tbody>\n",
       "</table>\n",
       "</div>"
      ],
      "text/plain": [
       "   district subcounty     parish_t              village       hhh_full_name  \\\n",
       "10  Mitooma   Mitooma  Nyakishojwa             Kashasha   Ainomujuni Mavini   \n",
       "20  Mitooma   Mitooma  Nyakishojwa             Kashasha    Twesigye Gilbert   \n",
       "25  Mitooma   Mitooma  Nyakishojwa   Kihunga_Nyakishowa       Tumwine Asaph   \n",
       "40  Mitooma   Mitooma  Nyakishojwa  Nyakishojwa_Central   Amutuhaire Sikora   \n",
       "47  Buhweju  Kyahenda      Kiyanja            Kakonkoma  Ronald Keinerugaba   \n",
       "\n",
       "   Household_Head_Contact Household_Head_Gender                     hhid  \n",
       "10          0706-55-49-45          Youth Headed   Mit-Kas-Ain-M-085223-5  \n",
       "20          0787-12-15-05          Youth Headed   Mit-Kas-Twe-M-091417-5  \n",
       "25          0775-14-86-49          Youth Headed   Mit-Kih-Tum-M-091142-5  \n",
       "40          0773-15-11-61          Youth Headed   Mit-Nya-Amu-F-095910-5  \n",
       "47          0780-10-71-85          Youth Headed  Buh-Kak-Ron-M-083202-14  "
      ]
     },
     "execution_count": 72,
     "metadata": {},
     "output_type": "execute_result"
    }
   ],
   "source": [
    "youth_HH_samp_frame.head()"
   ]
  },
  {
   "cell_type": "code",
   "execution_count": 73,
   "id": "016af514",
   "metadata": {
    "id": "c24e4229",
    "slideshow": {
     "slide_type": "fragment"
    }
   },
   "outputs": [],
   "source": [
    "youth_target_sample = youth_HH_samp_frame.groupby('village', group_keys=False).apply(lambda x: x.sample(n=min(len(x), 6)))"
   ]
  },
  {
   "cell_type": "code",
   "execution_count": 74,
   "id": "2e9eee5f",
   "metadata": {
    "id": "518216f0",
    "outputId": "e2d199d9-f513-47a2-f1ec-bc9716eea8ac",
    "slideshow": {
     "slide_type": "skip"
    }
   },
   "outputs": [
    {
     "data": {
      "text/plain": [
       "2643"
      ]
     },
     "execution_count": 74,
     "metadata": {},
     "output_type": "execute_result"
    }
   ],
   "source": [
    "len(youth_target_sample)"
   ]
  },
  {
   "cell_type": "code",
   "execution_count": 75,
   "id": "68d5fa56",
   "metadata": {
    "id": "8efb77de",
    "slideshow": {
     "slide_type": "fragment"
    }
   },
   "outputs": [],
   "source": [
    "youth_target_sample['status'] = 'target'"
   ]
  },
  {
   "cell_type": "code",
   "execution_count": 76,
   "id": "76f235a4",
   "metadata": {
    "id": "a15aafc3",
    "outputId": "48ac1dd2-e03c-4367-de06-db276ed9fb95",
    "slideshow": {
     "slide_type": "skip"
    }
   },
   "outputs": [
    {
     "data": {
      "text/html": [
       "<div>\n",
       "<style scoped>\n",
       "    .dataframe tbody tr th:only-of-type {\n",
       "        vertical-align: middle;\n",
       "    }\n",
       "\n",
       "    .dataframe tbody tr th {\n",
       "        vertical-align: top;\n",
       "    }\n",
       "\n",
       "    .dataframe thead th {\n",
       "        text-align: right;\n",
       "    }\n",
       "</style>\n",
       "<table border=\"1\" class=\"dataframe\">\n",
       "  <thead>\n",
       "    <tr style=\"text-align: right;\">\n",
       "      <th></th>\n",
       "      <th>district</th>\n",
       "      <th>subcounty</th>\n",
       "      <th>parish_t</th>\n",
       "      <th>village</th>\n",
       "      <th>hhh_full_name</th>\n",
       "      <th>Household_Head_Contact</th>\n",
       "      <th>Household_Head_Gender</th>\n",
       "      <th>hhid</th>\n",
       "      <th>status</th>\n",
       "    </tr>\n",
       "  </thead>\n",
       "  <tbody>\n",
       "    <tr>\n",
       "      <th>3375</th>\n",
       "      <td>Buhweju</td>\n",
       "      <td>Kyahenda</td>\n",
       "      <td>Nyamihira</td>\n",
       "      <td>Akatojo</td>\n",
       "      <td>Adson Oweyesigire</td>\n",
       "      <td>0778-57-44-93</td>\n",
       "      <td>Youth Headed</td>\n",
       "      <td>Buh-Aka-Ads-M-120945-14</td>\n",
       "      <td>target</td>\n",
       "    </tr>\n",
       "    <tr>\n",
       "      <th>4082</th>\n",
       "      <td>Buhweju</td>\n",
       "      <td>Kyahenda</td>\n",
       "      <td>Nyamihira</td>\n",
       "      <td>Akatojo</td>\n",
       "      <td>Siliverio Ashabahebwa</td>\n",
       "      <td>0787-37-92-51</td>\n",
       "      <td>Youth Headed</td>\n",
       "      <td>Buh-Aka-Sil-M-142549-14</td>\n",
       "      <td>target</td>\n",
       "    </tr>\n",
       "    <tr>\n",
       "      <th>3371</th>\n",
       "      <td>Buhweju</td>\n",
       "      <td>Kyahenda</td>\n",
       "      <td>Nyamihira</td>\n",
       "      <td>Akatojo</td>\n",
       "      <td>Babra Barbra</td>\n",
       "      <td>0782-56-98-77</td>\n",
       "      <td>Youth Headed</td>\n",
       "      <td>Buh-Aka-Bab-F-113109-14</td>\n",
       "      <td>target</td>\n",
       "    </tr>\n",
       "    <tr>\n",
       "      <th>276</th>\n",
       "      <td>Buhweju</td>\n",
       "      <td>Kyahenda</td>\n",
       "      <td>Nyamihira</td>\n",
       "      <td>Akatojo</td>\n",
       "      <td>Ivan Nuwagira</td>\n",
       "      <td>0704-56-42-99</td>\n",
       "      <td>Youth Headed</td>\n",
       "      <td>Buh-Aka-Iva-M-104508-14</td>\n",
       "      <td>target</td>\n",
       "    </tr>\n",
       "    <tr>\n",
       "      <th>3368</th>\n",
       "      <td>Buhweju</td>\n",
       "      <td>Kyahenda</td>\n",
       "      <td>Nyamihira</td>\n",
       "      <td>Akatojo</td>\n",
       "      <td>Boaz Arinitwe</td>\n",
       "      <td>0778-25-86-41</td>\n",
       "      <td>Youth Headed</td>\n",
       "      <td>Buh-Aka-Boa-M-105949-14</td>\n",
       "      <td>target</td>\n",
       "    </tr>\n",
       "  </tbody>\n",
       "</table>\n",
       "</div>"
      ],
      "text/plain": [
       "     district subcounty   parish_t  village          hhh_full_name  \\\n",
       "3375  Buhweju  Kyahenda  Nyamihira  Akatojo      Adson Oweyesigire   \n",
       "4082  Buhweju  Kyahenda  Nyamihira  Akatojo  Siliverio Ashabahebwa   \n",
       "3371  Buhweju  Kyahenda  Nyamihira  Akatojo           Babra Barbra   \n",
       "276   Buhweju  Kyahenda  Nyamihira  Akatojo          Ivan Nuwagira   \n",
       "3368  Buhweju  Kyahenda  Nyamihira  Akatojo          Boaz Arinitwe   \n",
       "\n",
       "     Household_Head_Contact Household_Head_Gender                     hhid  \\\n",
       "3375          0778-57-44-93          Youth Headed  Buh-Aka-Ads-M-120945-14   \n",
       "4082          0787-37-92-51          Youth Headed  Buh-Aka-Sil-M-142549-14   \n",
       "3371          0782-56-98-77          Youth Headed  Buh-Aka-Bab-F-113109-14   \n",
       "276           0704-56-42-99          Youth Headed  Buh-Aka-Iva-M-104508-14   \n",
       "3368          0778-25-86-41          Youth Headed  Buh-Aka-Boa-M-105949-14   \n",
       "\n",
       "      status  \n",
       "3375  target  \n",
       "4082  target  \n",
       "3371  target  \n",
       "276   target  \n",
       "3368  target  "
      ]
     },
     "execution_count": 76,
     "metadata": {},
     "output_type": "execute_result"
    }
   ],
   "source": [
    "youth_target_sample.head()"
   ]
  },
  {
   "cell_type": "code",
   "execution_count": 77,
   "id": "60bf6a99",
   "metadata": {
    "id": "bf8ab55d",
    "slideshow": {
     "slide_type": "skip"
    }
   },
   "outputs": [],
   "source": [
    "# youth_target_sample.to_excel('mit/youth_target_sample.xlsx', index=False)"
   ]
  },
  {
   "cell_type": "markdown",
   "id": "a5d04874",
   "metadata": {
    "id": "c409fcb9",
    "slideshow": {
     "slide_type": "slide"
    }
   },
   "source": [
    "## Reserve frame"
   ]
  },
  {
   "cell_type": "code",
   "execution_count": 78,
   "id": "99328c13",
   "metadata": {
    "id": "ba880cf1",
    "outputId": "9dcd5661-032f-4141-834f-d84e773ebe55",
    "slideshow": {
     "slide_type": "fragment"
    }
   },
   "outputs": [
    {
     "data": {
      "text/plain": [
       "(11991, 8)"
      ]
     },
     "execution_count": 78,
     "metadata": {},
     "output_type": "execute_result"
    }
   ],
   "source": [
    "youth_reserve_s_frame = youth_HH_samp_frame.drop(index = youth_target_sample.index)\n",
    "youth_reserve_s_frame.shape"
   ]
  },
  {
   "cell_type": "code",
   "execution_count": 79,
   "id": "6694dea9",
   "metadata": {
    "id": "52e433b4",
    "slideshow": {
     "slide_type": "skip"
    }
   },
   "outputs": [],
   "source": [
    "# youth_reserve_s_frame.to_excel('mit/youth_reserve_s_frame.xlsx', index=False)"
   ]
  },
  {
   "cell_type": "code",
   "execution_count": 80,
   "id": "479b22e7",
   "metadata": {
    "id": "0d0c7d45",
    "slideshow": {
     "slide_type": "fragment"
    }
   },
   "outputs": [],
   "source": [
    "youth_reserve_sample = youth_reserve_s_frame.groupby('village', group_keys=False).apply(lambda x: x.sample(n=min(len(x), 6)))"
   ]
  },
  {
   "cell_type": "code",
   "execution_count": 81,
   "id": "3baef350",
   "metadata": {
    "id": "dcf49b93",
    "outputId": "2dc5de30-9a7c-49e3-b748-610562cd4b76",
    "slideshow": {
     "slide_type": "fragment"
    }
   },
   "outputs": [
    {
     "data": {
      "text/html": [
       "<div>\n",
       "<style scoped>\n",
       "    .dataframe tbody tr th:only-of-type {\n",
       "        vertical-align: middle;\n",
       "    }\n",
       "\n",
       "    .dataframe tbody tr th {\n",
       "        vertical-align: top;\n",
       "    }\n",
       "\n",
       "    .dataframe thead th {\n",
       "        text-align: right;\n",
       "    }\n",
       "</style>\n",
       "<table border=\"1\" class=\"dataframe\">\n",
       "  <thead>\n",
       "    <tr style=\"text-align: right;\">\n",
       "      <th></th>\n",
       "      <th>district</th>\n",
       "      <th>subcounty</th>\n",
       "      <th>parish_t</th>\n",
       "      <th>village</th>\n",
       "      <th>hhh_full_name</th>\n",
       "      <th>Household_Head_Contact</th>\n",
       "      <th>Household_Head_Gender</th>\n",
       "      <th>hhid</th>\n",
       "      <th>status</th>\n",
       "    </tr>\n",
       "  </thead>\n",
       "  <tbody>\n",
       "    <tr>\n",
       "      <th>3361</th>\n",
       "      <td>Buhweju</td>\n",
       "      <td>Kyahenda</td>\n",
       "      <td>Nyamihira</td>\n",
       "      <td>Akatojo</td>\n",
       "      <td>Ambrose Tumusingize</td>\n",
       "      <td>0781-78-11-27</td>\n",
       "      <td>Youth Headed</td>\n",
       "      <td>Buh-Aka-Amb-M-095140-14</td>\n",
       "      <td>reserve</td>\n",
       "    </tr>\n",
       "    <tr>\n",
       "      <th>1736</th>\n",
       "      <td>Buhweju</td>\n",
       "      <td>Kyahenda</td>\n",
       "      <td>Nyamihira</td>\n",
       "      <td>Akatojo</td>\n",
       "      <td>Ronard Mbabazi</td>\n",
       "      <td>0783-61-62-11</td>\n",
       "      <td>Youth Headed</td>\n",
       "      <td>Buh-Aka-Ron-M-172233-14</td>\n",
       "      <td>reserve</td>\n",
       "    </tr>\n",
       "    <tr>\n",
       "      <th>273</th>\n",
       "      <td>Buhweju</td>\n",
       "      <td>Kyahenda</td>\n",
       "      <td>Nyamihira</td>\n",
       "      <td>Akatojo</td>\n",
       "      <td>Asani Nuwamanya</td>\n",
       "      <td>0753-46-83-52</td>\n",
       "      <td>Youth Headed</td>\n",
       "      <td>Buh-Aka-Asa-M-101415-14</td>\n",
       "      <td>reserve</td>\n",
       "    </tr>\n",
       "    <tr>\n",
       "      <th>3372</th>\n",
       "      <td>Buhweju</td>\n",
       "      <td>Kyahenda</td>\n",
       "      <td>Nyamihira</td>\n",
       "      <td>Akatojo</td>\n",
       "      <td>Ronard Muhweju</td>\n",
       "      <td>0763-93-28-08</td>\n",
       "      <td>Youth Headed</td>\n",
       "      <td>Buh-Aka-Ron-M-114224-14</td>\n",
       "      <td>reserve</td>\n",
       "    </tr>\n",
       "    <tr>\n",
       "      <th>274</th>\n",
       "      <td>Buhweju</td>\n",
       "      <td>Kyahenda</td>\n",
       "      <td>Nyamihira</td>\n",
       "      <td>Akatojo</td>\n",
       "      <td>Bashiru Arinitwe</td>\n",
       "      <td>0789-42-66-54</td>\n",
       "      <td>Youth Headed</td>\n",
       "      <td>Buh-Aka-Bas-M-102520-14</td>\n",
       "      <td>reserve</td>\n",
       "    </tr>\n",
       "  </tbody>\n",
       "</table>\n",
       "</div>"
      ],
      "text/plain": [
       "     district subcounty   parish_t  village        hhh_full_name  \\\n",
       "3361  Buhweju  Kyahenda  Nyamihira  Akatojo  Ambrose Tumusingize   \n",
       "1736  Buhweju  Kyahenda  Nyamihira  Akatojo       Ronard Mbabazi   \n",
       "273   Buhweju  Kyahenda  Nyamihira  Akatojo      Asani Nuwamanya   \n",
       "3372  Buhweju  Kyahenda  Nyamihira  Akatojo       Ronard Muhweju   \n",
       "274   Buhweju  Kyahenda  Nyamihira  Akatojo     Bashiru Arinitwe   \n",
       "\n",
       "     Household_Head_Contact Household_Head_Gender                     hhid  \\\n",
       "3361          0781-78-11-27          Youth Headed  Buh-Aka-Amb-M-095140-14   \n",
       "1736          0783-61-62-11          Youth Headed  Buh-Aka-Ron-M-172233-14   \n",
       "273           0753-46-83-52          Youth Headed  Buh-Aka-Asa-M-101415-14   \n",
       "3372          0763-93-28-08          Youth Headed  Buh-Aka-Ron-M-114224-14   \n",
       "274           0789-42-66-54          Youth Headed  Buh-Aka-Bas-M-102520-14   \n",
       "\n",
       "       status  \n",
       "3361  reserve  \n",
       "1736  reserve  \n",
       "273   reserve  \n",
       "3372  reserve  \n",
       "274   reserve  "
      ]
     },
     "execution_count": 81,
     "metadata": {},
     "output_type": "execute_result"
    }
   ],
   "source": [
    "youth_reserve_sample['status'] = 'reserve'\n",
    "youth_reserve_sample.head()"
   ]
  },
  {
   "cell_type": "code",
   "execution_count": 82,
   "id": "35632d17",
   "metadata": {
    "id": "0aff8617",
    "slideshow": {
     "slide_type": "skip"
    }
   },
   "outputs": [],
   "source": [
    "# youth_reserve_sample.to_excel('mit/youth_reserve_sample.xlsx', index=False)"
   ]
  },
  {
   "cell_type": "markdown",
   "id": "a7eacb52",
   "metadata": {
    "id": "55c723e1",
    "slideshow": {
     "slide_type": "slide"
    }
   },
   "source": [
    "# Youth Household Sample"
   ]
  },
  {
   "cell_type": "code",
   "execution_count": 83,
   "id": "c2e86921",
   "metadata": {
    "id": "1fa36c9b",
    "outputId": "b4f3199b-b088-4116-91d9-4c5971286f16",
    "slideshow": {
     "slide_type": "skip"
    }
   },
   "outputs": [
    {
     "data": {
      "text/plain": [
       "((2643, 9), (2263, 9))"
      ]
     },
     "execution_count": 83,
     "metadata": {},
     "output_type": "execute_result"
    }
   ],
   "source": [
    "youth_target_sample.shape, youth_reserve_sample.shape"
   ]
  },
  {
   "cell_type": "code",
   "execution_count": 84,
   "id": "189c2382",
   "metadata": {
    "id": "dbf967a5",
    "slideshow": {
     "slide_type": "fragment"
    }
   },
   "outputs": [],
   "source": [
    "YOUTH_HH_SAMPLE = pd.concat([youth_target_sample, youth_reserve_sample])"
   ]
  },
  {
   "cell_type": "code",
   "execution_count": 85,
   "id": "adcf5732",
   "metadata": {
    "id": "42b22501",
    "slideshow": {
     "slide_type": "skip"
    }
   },
   "outputs": [],
   "source": [
    "# YOUTH_HH_SAMPLE.to_excel('mit/YOUTH_HH_SAMPLE.xlsx', index=False)"
   ]
  },
  {
   "cell_type": "markdown",
   "id": "b02055cd",
   "metadata": {
    "slideshow": {
     "slide_type": "skip"
    }
   },
   "source": [
    "We now have sample for males, females, and youths. Let's combine."
   ]
  },
  {
   "cell_type": "markdown",
   "id": "fdc3a1c3",
   "metadata": {
    "id": "6184c074",
    "slideshow": {
     "slide_type": "slide"
    }
   },
   "source": [
    "# JOINING THE DATAFRAMES"
   ]
  },
  {
   "cell_type": "code",
   "execution_count": 88,
   "id": "39d85bc3",
   "metadata": {
    "id": "4128546d",
    "outputId": "4b648906-ebb7-438e-bc28-0df3a63b5276",
    "slideshow": {
     "slide_type": "fragment"
    }
   },
   "outputs": [
    {
     "data": {
      "text/plain": [
       "((13401, 9), (5212, 9), (4906, 9))"
      ]
     },
     "execution_count": 88,
     "metadata": {},
     "output_type": "execute_result"
    }
   ],
   "source": [
    "MALE_HH_SAMPLE.shape, FEMALE_HH_SAMPLE.shape, YOUTH_HH_SAMPLE.shape"
   ]
  },
  {
   "cell_type": "code",
   "execution_count": 5,
   "id": "63f6138b",
   "metadata": {
    "slideshow": {
     "slide_type": "skip"
    }
   },
   "outputs": [],
   "source": [
    "import numpy as np"
   ]
  },
  {
   "cell_type": "code",
   "execution_count": 91,
   "id": "e92c861a",
   "metadata": {
    "id": "edc79f76",
    "outputId": "a762b494-3b76-412c-e022-e596bdcc665f",
    "slideshow": {
     "slide_type": "skip"
    }
   },
   "outputs": [
    {
     "data": {
      "text/plain": [
       "(23519, 56187)"
      ]
     },
     "execution_count": 91,
     "metadata": {},
     "output_type": "execute_result"
    }
   ],
   "source": [
    "np.array((MALE_HH_SAMPLE.shape[0], FEMALE_HH_SAMPLE.shape[0], YOUTH_HH_SAMPLE.shape[0])).sum(), len(df)"
   ]
  },
  {
   "cell_type": "code",
   "execution_count": 92,
   "id": "7f54a358",
   "metadata": {
    "id": "e16a7432",
    "slideshow": {
     "slide_type": "fragment"
    }
   },
   "outputs": [],
   "source": [
    "FINAL = pd.concat([MALE_HH_SAMPLE, FEMALE_HH_SAMPLE, YOUTH_HH_SAMPLE])"
   ]
  },
  {
   "cell_type": "code",
   "execution_count": 94,
   "id": "d85eade2",
   "metadata": {
    "id": "a397efd5",
    "slideshow": {
     "slide_type": "fragment"
    }
   },
   "outputs": [],
   "source": [
    "FINAL.to_excel('FINAL_Track_sheets.xlsx', index=False)"
   ]
  },
  {
   "cell_type": "code",
   "execution_count": 95,
   "id": "00879ad5",
   "metadata": {
    "id": "2a9e868a",
    "outputId": "9451ed2f-85de-4e1f-c460-a83e20318353",
    "slideshow": {
     "slide_type": "slide"
    }
   },
   "outputs": [
    {
     "data": {
      "text/html": [
       "<div>\n",
       "<style scoped>\n",
       "    .dataframe tbody tr th:only-of-type {\n",
       "        vertical-align: middle;\n",
       "    }\n",
       "\n",
       "    .dataframe tbody tr th {\n",
       "        vertical-align: top;\n",
       "    }\n",
       "\n",
       "    .dataframe thead th {\n",
       "        text-align: right;\n",
       "    }\n",
       "</style>\n",
       "<table border=\"1\" class=\"dataframe\">\n",
       "  <thead>\n",
       "    <tr style=\"text-align: right;\">\n",
       "      <th></th>\n",
       "      <th>district</th>\n",
       "      <th>subcounty</th>\n",
       "      <th>parish_t</th>\n",
       "      <th>village</th>\n",
       "      <th>hhh_full_name</th>\n",
       "      <th>Household_Head_Contact</th>\n",
       "      <th>Household_Head_Gender</th>\n",
       "      <th>hhid</th>\n",
       "      <th>status</th>\n",
       "    </tr>\n",
       "  </thead>\n",
       "  <tbody>\n",
       "    <tr>\n",
       "      <th>1740</th>\n",
       "      <td>Buhweju</td>\n",
       "      <td>Kyahenda</td>\n",
       "      <td>Nyamihira</td>\n",
       "      <td>Akatojo</td>\n",
       "      <td>Jackson Musinguzi</td>\n",
       "      <td>0788-81-29-04</td>\n",
       "      <td>Male Headed</td>\n",
       "      <td>Buh-Aka-Jac-M-180309-14</td>\n",
       "      <td>target</td>\n",
       "    </tr>\n",
       "    <tr>\n",
       "      <th>3363</th>\n",
       "      <td>Buhweju</td>\n",
       "      <td>Kyahenda</td>\n",
       "      <td>Nyamihira</td>\n",
       "      <td>Akatojo</td>\n",
       "      <td>Pauson Katunguka</td>\n",
       "      <td>0772-98-63-99</td>\n",
       "      <td>Male Headed</td>\n",
       "      <td>Buh-Aka-Pau-M-100640-14</td>\n",
       "      <td>target</td>\n",
       "    </tr>\n",
       "    <tr>\n",
       "      <th>1737</th>\n",
       "      <td>Buhweju</td>\n",
       "      <td>Kyahenda</td>\n",
       "      <td>Nyamihira</td>\n",
       "      <td>Akatojo</td>\n",
       "      <td>Wilson Tuhame</td>\n",
       "      <td>0788-65-73-74</td>\n",
       "      <td>Male Headed</td>\n",
       "      <td>Buh-Aka-Wil-M-173148-14</td>\n",
       "      <td>target</td>\n",
       "    </tr>\n",
       "    <tr>\n",
       "      <th>3369</th>\n",
       "      <td>Buhweju</td>\n",
       "      <td>Kyahenda</td>\n",
       "      <td>Nyamihira</td>\n",
       "      <td>Akatojo</td>\n",
       "      <td>John Bundaga</td>\n",
       "      <td>0788-65-73-74</td>\n",
       "      <td>Male Headed</td>\n",
       "      <td>Buh-Aka-Joh-M-110920-14</td>\n",
       "      <td>target</td>\n",
       "    </tr>\n",
       "    <tr>\n",
       "      <th>3359</th>\n",
       "      <td>Buhweju</td>\n",
       "      <td>Kyahenda</td>\n",
       "      <td>Nyamihira</td>\n",
       "      <td>Akatojo</td>\n",
       "      <td>Isamen Nowamaani</td>\n",
       "      <td>0760-96-99-69</td>\n",
       "      <td>Male Headed</td>\n",
       "      <td>Buh-Aka-Isa-M-090850-14</td>\n",
       "      <td>target</td>\n",
       "    </tr>\n",
       "    <tr>\n",
       "      <th>...</th>\n",
       "      <td>...</td>\n",
       "      <td>...</td>\n",
       "      <td>...</td>\n",
       "      <td>...</td>\n",
       "      <td>...</td>\n",
       "      <td>...</td>\n",
       "      <td>...</td>\n",
       "      <td>...</td>\n",
       "      <td>...</td>\n",
       "    </tr>\n",
       "    <tr>\n",
       "      <th>28042</th>\n",
       "      <td>Kagadi</td>\n",
       "      <td>Kanyabeebe</td>\n",
       "      <td>Kashagali</td>\n",
       "      <td>Yeruzalemu_B</td>\n",
       "      <td>Keresi Niwamanya</td>\n",
       "      <td>0771-22-54-91</td>\n",
       "      <td>Youth Headed</td>\n",
       "      <td>Kag-Yer-Ker-M-140235-9</td>\n",
       "      <td>reserve</td>\n",
       "    </tr>\n",
       "    <tr>\n",
       "      <th>27967</th>\n",
       "      <td>Kagadi</td>\n",
       "      <td>Kanyabeebe</td>\n",
       "      <td>Kashagali</td>\n",
       "      <td>Yeruzalemu_C</td>\n",
       "      <td>Kukahirwa Busobozi</td>\n",
       "      <td>0763-81-93-13</td>\n",
       "      <td>Youth Headed</td>\n",
       "      <td>Kag-Yer-Kuk-M-135234-9</td>\n",
       "      <td>reserve</td>\n",
       "    </tr>\n",
       "    <tr>\n",
       "      <th>27957</th>\n",
       "      <td>Kagadi</td>\n",
       "      <td>Kanyabeebe</td>\n",
       "      <td>Kashagali</td>\n",
       "      <td>Yeruzalemu_C</td>\n",
       "      <td>Katurebe Asafu</td>\n",
       "      <td>0785-57-26-34</td>\n",
       "      <td>Youth Headed</td>\n",
       "      <td>Kag-Yer-Kat-M-121226-9</td>\n",
       "      <td>reserve</td>\n",
       "    </tr>\n",
       "    <tr>\n",
       "      <th>27962</th>\n",
       "      <td>Kagadi</td>\n",
       "      <td>Kanyabeebe</td>\n",
       "      <td>Kashagali</td>\n",
       "      <td>Yeruzalemu_C</td>\n",
       "      <td>Maniraguha Mozesi</td>\n",
       "      <td>0785-57-26-34</td>\n",
       "      <td>Youth Headed</td>\n",
       "      <td>Kag-Yer-Man-M-131059-9</td>\n",
       "      <td>reserve</td>\n",
       "    </tr>\n",
       "    <tr>\n",
       "      <th>30497</th>\n",
       "      <td>Kagadi</td>\n",
       "      <td>Kanyabeebe</td>\n",
       "      <td>Kashagali</td>\n",
       "      <td>Yeruzalemu_C</td>\n",
       "      <td>Murebire Venansio</td>\n",
       "      <td>0786-75-03-94</td>\n",
       "      <td>Youth Headed</td>\n",
       "      <td>Kag-Yer-Mur-M-094224-9</td>\n",
       "      <td>reserve</td>\n",
       "    </tr>\n",
       "  </tbody>\n",
       "</table>\n",
       "<p>23519 rows × 9 columns</p>\n",
       "</div>"
      ],
      "text/plain": [
       "      district   subcounty   parish_t       village       hhh_full_name  \\\n",
       "1740   Buhweju    Kyahenda  Nyamihira       Akatojo   Jackson Musinguzi   \n",
       "3363   Buhweju    Kyahenda  Nyamihira       Akatojo    Pauson Katunguka   \n",
       "1737   Buhweju    Kyahenda  Nyamihira       Akatojo       Wilson Tuhame   \n",
       "3369   Buhweju    Kyahenda  Nyamihira       Akatojo        John Bundaga   \n",
       "3359   Buhweju    Kyahenda  Nyamihira       Akatojo    Isamen Nowamaani   \n",
       "...        ...         ...        ...           ...                 ...   \n",
       "28042   Kagadi  Kanyabeebe  Kashagali  Yeruzalemu_B    Keresi Niwamanya   \n",
       "27967   Kagadi  Kanyabeebe  Kashagali  Yeruzalemu_C  Kukahirwa Busobozi   \n",
       "27957   Kagadi  Kanyabeebe  Kashagali  Yeruzalemu_C      Katurebe Asafu   \n",
       "27962   Kagadi  Kanyabeebe  Kashagali  Yeruzalemu_C   Maniraguha Mozesi   \n",
       "30497   Kagadi  Kanyabeebe  Kashagali  Yeruzalemu_C   Murebire Venansio   \n",
       "\n",
       "      Household_Head_Contact Household_Head_Gender                     hhid  \\\n",
       "1740           0788-81-29-04           Male Headed  Buh-Aka-Jac-M-180309-14   \n",
       "3363           0772-98-63-99           Male Headed  Buh-Aka-Pau-M-100640-14   \n",
       "1737           0788-65-73-74           Male Headed  Buh-Aka-Wil-M-173148-14   \n",
       "3369           0788-65-73-74           Male Headed  Buh-Aka-Joh-M-110920-14   \n",
       "3359           0760-96-99-69           Male Headed  Buh-Aka-Isa-M-090850-14   \n",
       "...                      ...                   ...                      ...   \n",
       "28042          0771-22-54-91          Youth Headed   Kag-Yer-Ker-M-140235-9   \n",
       "27967          0763-81-93-13          Youth Headed   Kag-Yer-Kuk-M-135234-9   \n",
       "27957          0785-57-26-34          Youth Headed   Kag-Yer-Kat-M-121226-9   \n",
       "27962          0785-57-26-34          Youth Headed   Kag-Yer-Man-M-131059-9   \n",
       "30497          0786-75-03-94          Youth Headed   Kag-Yer-Mur-M-094224-9   \n",
       "\n",
       "        status  \n",
       "1740    target  \n",
       "3363    target  \n",
       "1737    target  \n",
       "3369    target  \n",
       "3359    target  \n",
       "...        ...  \n",
       "28042  reserve  \n",
       "27967  reserve  \n",
       "27957  reserve  \n",
       "27962  reserve  \n",
       "30497  reserve  \n",
       "\n",
       "[23519 rows x 9 columns]"
      ]
     },
     "execution_count": 95,
     "metadata": {},
     "output_type": "execute_result"
    }
   ],
   "source": [
    "FINAL"
   ]
  },
  {
   "cell_type": "code",
   "execution_count": 102,
   "id": "59052fc3",
   "metadata": {
    "id": "039b8561",
    "outputId": "930064e8-2152-45a1-d48a-08f365e7d2ff",
    "slideshow": {
     "slide_type": "skip"
    }
   },
   "outputs": [
    {
     "data": {
      "text/plain": [
       "34"
      ]
     },
     "execution_count": 102,
     "metadata": {},
     "output_type": "execute_result"
    }
   ],
   "source": [
    "len(FINAL[FINAL['village'] == 'Yeruzalemu_C'])"
   ]
  },
  {
   "cell_type": "markdown",
   "id": "ef5d6157",
   "metadata": {
    "id": "523de8db",
    "slideshow": {
     "slide_type": "notes"
    }
   },
   "source": [
    "## There is a term DRY used in software engineering meaning Dont Repeat yourself. There is alot of code repeating itself. However much the code works and does what it is intended to do, If an expert reads the code, they can easily grade you as a beginner.\n",
    "- Let's see in the next series how we can write high quality code. If you curious you can try it yourself.\n",
    "- You can also make this a script other than a jupyter notebook, can you do that. Give it a try. Notebooks are great for data analysis and exploratory anaysis plus experimenting things. But if your goal is to become a serious programmer, they might not take you that far. It's so easy to feel lazy to"
   ]
  },
  {
   "cell_type": "code",
   "execution_count": 100,
   "id": "ee3626c0",
   "metadata": {
    "id": "e21f1503-568f-4772-a9c6-ebbde8b1fe37",
    "slideshow": {
     "slide_type": "notes"
    }
   },
   "outputs": [],
   "source": [
    "# grouped_data = FINAL.groupby('status')\n",
    "\n",
    "# with pd.ExcelWriter('mit/01_Mitooma.xlsx', engine='openpyxl') as writer:\n",
    "#     for status, group_df in grouped_data:\n",
    "#         group_df.to_excel(writer, sheet_name=f'{status}', index=False)"
   ]
  },
  {
   "cell_type": "code",
   "execution_count": null,
   "id": "2f2c104b-2b83-49cc-b879-5de56afdd311",
   "metadata": {},
   "outputs": [],
   "source": []
  },
  {
   "cell_type": "code",
   "execution_count": null,
   "id": "1b18cfb9-f3dc-4227-890c-03bd46c682eb",
   "metadata": {},
   "outputs": [],
   "source": []
  },
  {
   "cell_type": "code",
   "execution_count": 23,
   "id": "1c9c81f1-02db-4d5c-a5fb-a5a2018966a7",
   "metadata": {
    "id": "1d3bf62c",
    "slideshow": {
     "slide_type": "fragment"
    }
   },
   "outputs": [],
   "source": [
    "male_HH_samp_frame = df[df['Household_Head_Gender']=='Male Headed']\n",
    "female_HH_samp_frame = df[df['Household_Head_Gender']=='Female Headed']\n",
    "youth_HH_samp_frame = df[df['Household_Head_Gender']=='Youth Headed']\n",
    "\n",
    "male_HH_samp_frame.shape, female_HH_samp_frame.shape, youth_HH_samp_frame.shape\n",
    "\n",
    "# male_HH_samp_frame.to_excel('mit/male_HH_samp_frame.xlsx', index=False)\n",
    "# female_HH_samp_frame.to_excel('mit/female_HH_samp_frame.xlsx', index=False)\n",
    "# youth_HH_samp_frame.to_excel('mit/youth_HH_samp_frame.xlsx', index=False)\n",
    "\n",
    "If you want to store these subsets as excel files you can use the to_excel method and pass in the path.\n",
    "\n",
    "To take it slow, we are going to sample males, females and youths separately\n",
    "\n",
    "Using our distribution\n",
    "- For villages > 100 samples we use 60 20 20 (Male Female Youths)\n",
    "- otherwise we use 50 25 25 (Male Female Youths)\n",
    "\n",
    "for n >= 100 we need 30 sample, \n",
    "for n < 100 we need 24 samples\n",
    "\n",
    "## Male Headed\n",
    "\n",
    "len(male_HH_samp_frame)\n",
    "\n",
    "# 60% of 30 and 60% of 24\n",
    "print(f\"60% of 30 is {0.6*30} whereas 50% of 24 is {0.5*24}\")\n",
    "\n",
    "sample_size = int(0.6*30)\n",
    "sample_size\n",
    "\n",
    "threshold_count = 100\n",
    "\n",
    "village_counts = df['village'].value_counts()\n",
    "village_counts\n",
    "\n",
    "df['village'].iloc[2]\n",
    "\n",
    "village_counts.get('Kiogoma_1',0)\n",
    "\n",
    "What this function does is that it takes a sample, picks the village name by index, checks wether the sample number is greater than or equal to the threshold. Does the sampling depending on the number.\n",
    "\n",
    "def custom_sample(x):\n",
    "    village_name = x['village'].iloc[0]\n",
    "    if village_counts.get(village_name, 0) >= 100:\n",
    "        return x.sample(n=min(len(x), 18))\n",
    "    else:\n",
    "        return x.sample(n=min(len(x), 12))\n",
    "\n",
    "Apply just works as our old lambda function, whereby you can \n",
    "\n",
    "male_target_sample = male_HH_samp_frame.groupby('village', group_keys=False).apply(custom_sample)\n",
    "\n",
    "len(male_target_sample)\n",
    "\n",
    "We can generate a new column and assign a value target\n",
    "\n",
    "male_target_sample['status'] = 'target'\n",
    "\n",
    "male_target_sample.head()\n",
    "\n",
    "Let's try to check the number of samples in Kako village, its 18\n",
    "\n",
    "len(male_target_sample[male_target_sample['village'] == 'Kako'])\n",
    "\n",
    "# male_target_sample.to_excel('mit/male_target_sample.xlsx', index=False)\n",
    "\n",
    "But we need some reserves, let's do the same\n",
    "\n",
    "## Reserve frame\n",
    "\n",
    "we can drop the targets since we've already assigned them using the index\n",
    "\n",
    "male_reserve_s_frame = male_HH_samp_frame.drop(index = male_target_sample.index)\n",
    "\n",
    "# male_reserve_s_frame.to_excel('mit/male_reserve_s_frame.xlsx', index=False)\n",
    "\n",
    "male_reserve_sample = male_reserve_s_frame.groupby('village', group_keys=False).apply(custom_sample)\n",
    "\n",
    "male_reserve_sample['status'] = 'reserve'\n",
    "male_reserve_sample.head()\n",
    "\n",
    "len(male_reserve_sample[male_reserve_sample['village'] == 'Kako'])\n",
    "\n",
    "# male_reserve_sample.to_excel('mit/male_reserve_sample.xlsx', index=False)\n",
    "\n",
    "Let's combine the targets and reserves to come up with a complete sample for males\n",
    "\n",
    "# Male Household Sample [Combining the Target and Reserve]\n",
    "\n",
    "male_target_sample.shape, male_reserve_sample.shape\n",
    "\n",
    "MALE_HH_SAMPLE = pd.concat([male_target_sample, male_reserve_sample])\n",
    "\n",
    "If you have data frames with primary keys, you can rather join using merge, You can google it up.\n",
    "\n",
    "# MALE_HH_SAMPLE.to_excel('mit/MALE_HH_SAMPLE.xlsx', index=False)\n",
    "\n",
    "We are done, let's simply do the same for females and youths\n",
    "\n",
    "# FEMALE  Headed\n",
    "\n",
    "len(female_HH_samp_frame)\n",
    "\n",
    "female_HH_samp_frame.head()\n",
    "\n",
    "You realize here that I am not using the custom function, because 20% of 30 and 25% of 24 all give 6 samples. We can just sample\n",
    "\n",
    "female_target_sample = female_HH_samp_frame.groupby('village', group_keys=False).apply(lambda x: x.sample(n=min(len(x), 6)))\n",
    "\n",
    "len(female_target_sample)\n",
    "\n",
    "female_target_sample['status'] = 'target'\n",
    "\n",
    "female_target_sample.head()\n",
    "\n",
    "# female_target_sample.to_excel('mit/female_target_sample.xlsx', index=False)\n",
    "\n",
    "## Reserve frame\n",
    "\n",
    "female_reserve_s_frame = female_HH_samp_frame.drop(index = female_target_sample.index)\n",
    "female_reserve_s_frame.shape\n",
    "\n",
    "# female_reserve_s_frame.to_excel('mit/female_reserve_s_frame.xlsx', index=False)\n",
    "\n",
    "female_reserve_sample = female_reserve_s_frame.groupby('village', group_keys=False).apply(lambda x: x.sample(n=min(len(x), 6)))\n",
    "\n",
    "female_reserve_sample['status'] = 'reserve'\n",
    "female_reserve_sample.head()\n",
    "\n",
    "# female_reserve_sample.to_excel('mit/female_reserve_sample.xlsx', index=False)\n",
    "\n",
    "FEMALE_HH_SAMPLE = pd.concat([female_target_sample, female_reserve_sample])\n",
    "\n",
    "# FEMALE_HH_SAMPLE.to_excel('mit/FEMALE_HH_SAMPLE.xlsx', index=False)\n",
    "\n",
    "# YOUTH Households\n",
    "\n",
    "len(youth_HH_samp_frame)\n",
    "\n",
    "youth_HH_samp_frame.head()\n",
    "\n",
    "youth_target_sample = youth_HH_samp_frame.groupby('village', group_keys=False).apply(lambda x: x.sample(n=min(len(x), 6)))\n",
    "\n",
    "len(youth_target_sample)\n",
    "\n",
    "youth_target_sample['status'] = 'target'\n",
    "\n",
    "youth_target_sample.head()\n",
    "\n",
    "# youth_target_sample.to_excel('mit/youth_target_sample.xlsx', index=False)\n",
    "\n",
    "## Reserve frame\n",
    "\n",
    "youth_reserve_s_frame = youth_HH_samp_frame.drop(index = youth_target_sample.index)\n",
    "youth_reserve_s_frame.shape\n",
    "\n",
    "# youth_reserve_s_frame.to_excel('mit/youth_reserve_s_frame.xlsx', index=False)\n",
    "\n",
    "youth_reserve_sample = youth_reserve_s_frame.groupby('village', group_keys=False).apply(lambda x: x.sample(n=min(len(x), 6)))\n",
    "\n",
    "youth_reserve_sample['status'] = 'reserve'\n",
    "youth_reserve_sample.head()\n",
    "\n",
    "# youth_reserve_sample.to_excel('mit/youth_reserve_sample.xlsx', index=False)\n",
    "\n",
    "# Youth Household Sample\n",
    "\n",
    "youth_target_sample.shape, youth_reserve_sample.shape\n",
    "\n",
    "YOUTH_HH_SAMPLE = pd.concat([youth_target_sample, youth_reserve_sample])\n",
    "\n",
    "# YOUTH_HH_SAMPLE.to_excel('mit/YOUTH_HH_SAMPLE.xlsx', index=False)\n",
    "\n",
    "We now have sample for males, females, and youths. Let's combine.\n",
    "\n",
    "# JOINING THE DATAFRAMES\n",
    "\n",
    "MALE_HH_SAMPLE.shape, FEMALE_HH_SAMPLE.shape, YOUTH_HH_SAMPLE.shape\n",
    "\n",
    "import numpy as np\n",
    "\n",
    "np.array((MALE_HH_SAMPLE.shape[0], FEMALE_HH_SAMPLE.shape[0], YOUTH_HH_SAMPLE.shape[0])).sum(), len(df)\n",
    "\n",
    "FINAL = pd.concat([MALE_HH_SAMPLE, FEMALE_HH_SAMPLE, YOUTH_HH_SAMPLE])"
   ]
  }
 ],
 "metadata": {
  "celltoolbar": "Slideshow",
  "colab": {
   "provenance": []
  },
  "kernelspec": {
   "display_name": "Python 3 (ipykernel)",
   "language": "python",
   "name": "python3"
  },
  "language_info": {
   "codemirror_mode": {
    "name": "ipython",
    "version": 3
   },
   "file_extension": ".py",
   "mimetype": "text/x-python",
   "name": "python",
   "nbconvert_exporter": "python",
   "pygments_lexer": "ipython3",
   "version": "3.10.9"
  }
 },
 "nbformat": 4,
 "nbformat_minor": 5
}
