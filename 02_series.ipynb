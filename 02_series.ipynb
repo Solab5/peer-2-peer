{
 "cells": [
  {
   "cell_type": "code",
   "execution_count": null,
   "id": "45a6f765-86ab-4904-abda-8958c99fd666",
   "metadata": {
    "tags": []
   },
   "outputs": [],
   "source": [
    "%load_ext autoreload\n",
    "%autoreload 2"
   ]
  },
  {
   "cell_type": "code",
   "execution_count": 1,
   "id": "4c695eed-9709-4033-9b8d-c4a00a047892",
   "metadata": {
    "tags": []
   },
   "outputs": [
    {
     "ename": "ModuleNotFoundError",
     "evalue": "No module named 'numpy'",
     "output_type": "error",
     "traceback": [
      "\u001b[0;31m---------------------------------------------------------------------------\u001b[0m",
      "\u001b[0;31mModuleNotFoundError\u001b[0m                       Traceback (most recent call last)",
      "Cell \u001b[0;32mIn[1], line 1\u001b[0m\n\u001b[0;32m----> 1\u001b[0m \u001b[38;5;28;01mimport\u001b[39;00m \u001b[38;5;21;01mnumpy\u001b[39;00m \u001b[38;5;28;01mas\u001b[39;00m \u001b[38;5;21;01mnp\u001b[39;00m\n\u001b[1;32m      2\u001b[0m \u001b[38;5;28;01mimport\u001b[39;00m \u001b[38;5;21;01mpandas\u001b[39;00m \u001b[38;5;28;01mas\u001b[39;00m \u001b[38;5;21;01mpd\u001b[39;00m\n\u001b[1;32m      3\u001b[0m \u001b[38;5;28;01mfrom\u001b[39;00m \u001b[38;5;21;01mpathlib\u001b[39;00m \u001b[38;5;28;01mimport\u001b[39;00m Path\n",
      "\u001b[0;31mModuleNotFoundError\u001b[0m: No module named 'numpy'"
     ]
    }
   ],
   "source": [
    "import numpy as np\n",
    "import pandas as pd\n",
    "from pathlib import Path"
   ]
  },
  {
   "cell_type": "code",
   "execution_count": null,
   "id": "141edbb6-06f6-4d57-a8b0-0ac9c8555291",
   "metadata": {
    "tags": []
   },
   "outputs": [],
   "source": [
    "from common_functions.utils import read_file, prepare_data\n",
    "from sampling.sampling_functions import *"
   ]
  },
  {
   "cell_type": "code",
   "execution_count": null,
   "id": "c8518589-8c54-435e-bd25-1c96cf4efbdc",
   "metadata": {
    "tags": []
   },
   "outputs": [],
   "source": [
    "path = Path(\"Kawiti.xlsx\")\n",
    "data = read_file(path)"
   ]
  },
  {
   "cell_type": "markdown",
   "id": "a116a779-d103-42e8-9ea7-2fc04e9aae39",
   "metadata": {},
   "source": [
    "### Data Processing"
   ]
  },
  {
   "cell_type": "code",
   "execution_count": null,
   "id": "3407d673-8b84-4ed4-9a57-98c764244290",
   "metadata": {
    "tags": []
   },
   "outputs": [],
   "source": [
    "# Prepare a copy of our data so that we don't read the file all the time.\n",
    "df = data.copy()"
   ]
  },
  {
   "cell_type": "code",
   "execution_count": null,
   "id": "0e64a2fb-ca57-4c76-86d9-785380cb60a0",
   "metadata": {
    "tags": []
   },
   "outputs": [],
   "source": [
    "df = prepare_data(df)"
   ]
  },
  {
   "cell_type": "code",
   "execution_count": null,
   "id": "64425a16-7726-4066-ac9e-5a77d4bae1e1",
   "metadata": {
    "tags": []
   },
   "outputs": [],
   "source": [
    "# Let's get the counts for the villages\n",
    "village_counts = df['village'].value_counts()"
   ]
  },
  {
   "cell_type": "markdown",
   "id": "ce2fd96e-4c71-40b1-a00b-6fbebb587ee2",
   "metadata": {},
   "source": [
    "## Calling Sampling function to do all the heavy lifting."
   ]
  },
  {
   "cell_type": "code",
   "execution_count": null,
   "id": "fa33259f-fd7a-48df-823a-1e584ad04c1d",
   "metadata": {
    "tags": []
   },
   "outputs": [],
   "source": [
    "FINAL = get_final_df(df.copy(), village_counts)"
   ]
  },
  {
   "cell_type": "code",
   "execution_count": null,
   "id": "53e07560-a6e2-48c3-9036-6c858b254cfa",
   "metadata": {
    "tags": []
   },
   "outputs": [],
   "source": [
    "FINAL"
   ]
  },
  {
   "cell_type": "code",
   "execution_count": null,
   "id": "fbdf2133-e4f2-4e84-bdfd-439a25963724",
   "metadata": {},
   "outputs": [],
   "source": [
    "FINAL.to_excel(\"Kawiti.xlsx\", index=False)"
   ]
  },
  {
   "cell_type": "code",
   "execution_count": null,
   "id": "dfe784b8-a015-440b-920a-0ae13862583c",
   "metadata": {},
   "outputs": [],
   "source": []
  },
  {
   "cell_type": "code",
   "execution_count": null,
   "id": "a959bdad-1b7a-47f8-814e-274cd9b1431e",
   "metadata": {},
   "outputs": [],
   "source": []
  },
  {
   "cell_type": "code",
   "execution_count": null,
   "id": "37692a99-9eac-492b-bc2b-e7017c2bcfbc",
   "metadata": {
    "tags": []
   },
   "outputs": [],
   "source": []
  }
 ],
 "metadata": {
  "kernelspec": {
   "display_name": "Python 3 (ipykernel)",
   "language": "python",
   "name": "python3"
  },
  "language_info": {
   "codemirror_mode": {
    "name": "ipython",
    "version": 3
   },
   "file_extension": ".py",
   "mimetype": "text/x-python",
   "name": "python",
   "nbconvert_exporter": "python",
   "pygments_lexer": "ipython3",
   "version": "3.12.2"
  }
 },
 "nbformat": 4,
 "nbformat_minor": 5
}
