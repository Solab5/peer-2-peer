{
 "cells": [
  {
   "cell_type": "code",
   "execution_count": null,
   "id": "13ccaef3",
   "metadata": {
    "id": "f064745d",
    "slideshow": {
     "slide_type": "fragment"
    }
   },
   "outputs": [],
   "source": [
    "import pandas as pd"
   ]
  },
  {
   "cell_type": "code",
   "execution_count": null,
   "id": "d364f160",
   "metadata": {
    "id": "f064745d",
    "slideshow": {
     "slide_type": "slide"
    }
   },
   "outputs": [],
   "source": [
    "data = pd.read_excel(\"Master_Missing_Clusters corrected.xlsx\")"
   ]
  },
  {
   "cell_type": "code",
   "execution_count": null,
   "id": "d1c762e9-d708-4c78-82f9-d3b78da00b96",
   "metadata": {},
   "outputs": [],
   "source": [
    "df = data.copy()"
   ]
  },
  {
   "cell_type": "code",
   "execution_count": null,
   "id": "dfbf7397",
   "metadata": {
    "colab": {
     "base_uri": "https://localhost:8080/",
     "height": 504
    },
    "id": "ab74a51a",
    "outputId": "12194158-8848-4224-8b9b-93fa90e4b285",
    "slideshow": {
     "slide_type": "slide"
    }
   },
   "outputs": [],
   "source": [
    "print(df.shape)\n",
    "df.tail(10)"
   ]
  },
  {
   "cell_type": "code",
   "execution_count": null,
   "id": "8af759dc",
   "metadata": {
    "colab": {
     "base_uri": "https://localhost:8080/"
    },
    "id": "177ba33d",
    "outputId": "3974aacd-f661-4c0f-819c-7b13392533f7",
    "slideshow": {
     "slide_type": "slide"
    }
   },
   "outputs": [],
   "source": [
    "df.columns.to_list()"
   ]
  },
  {
   "cell_type": "code",
   "execution_count": null,
   "id": "707f280a-b892-49db-af6d-92a4e10a62d5",
   "metadata": {
    "id": "861b8440",
    "slideshow": {
     "slide_type": "slide"
    }
   },
   "outputs": [],
   "source": [
    "columns = [\n",
    " 'district',\n",
    " 'subcounty',\n",
    " 'Parish',\n",
    " 'village',\n",
    " 'hhh_name',\n",
    " 'age',\n",
    " 'Contact',\n",
    " 'gender',\n",
    " 'id',\n",
    " ]"
   ]
  },
  {
   "cell_type": "code",
   "execution_count": null,
   "id": "dd989bc5",
   "metadata": {
    "id": "dd11ea74",
    "slideshow": {
     "slide_type": "fragment"
    }
   },
   "outputs": [],
   "source": [
    "df = df[columns]"
   ]
  },
  {
   "cell_type": "code",
   "execution_count": null,
   "id": "012c18a4-0e54-4b2f-8825-2b95a6c17f0d",
   "metadata": {},
   "outputs": [],
   "source": [
    "df.head()"
   ]
  },
  {
   "cell_type": "code",
   "execution_count": null,
   "id": "8d934dc3",
   "metadata": {
    "id": "9bddb919-95d6-4f38-9f3b-ffb36439ae00",
    "slideshow": {
     "slide_type": "fragment"
    }
   },
   "outputs": [],
   "source": [
    "df = df.drop_duplicates('id', keep='first')"
   ]
  },
  {
   "cell_type": "code",
   "execution_count": null,
   "id": "3125c7b7",
   "metadata": {
    "id": "85b6f7a8",
    "outputId": "49dd801c-79d9-42b3-dd17-09d582d1b6d6",
    "slideshow": {
     "slide_type": "fragment"
    }
   },
   "outputs": [],
   "source": [
    "df['gender'].value_counts(dropna=False)"
   ]
  },
  {
   "cell_type": "code",
   "execution_count": null,
   "id": "a210539d-e9c9-403c-854b-dddf283a790a",
   "metadata": {},
   "outputs": [],
   "source": [
    "gender_mapping = {\n",
    "    'male': 'Male',\n",
    "    'm':'Male',\n",
    "    'female': 'Female',\n",
    "    'f': 'Female',\n",
    "    'feamale': 'Female',\n",
    "    'female`': 'Female',\n",
    "    'femaLe':'Female',\n",
    "    'femae': 'Female',\n",
    "    'male ': 'Male'\n",
    "}"
   ]
  },
  {
   "cell_type": "code",
   "execution_count": null,
   "id": "e91cea52-6e95-4896-a1cd-461df58922e9",
   "metadata": {},
   "outputs": [],
   "source": [
    "df['gender'] = df['gender'].str.lower().map(gender_mapping)"
   ]
  },
  {
   "cell_type": "code",
   "execution_count": null,
   "id": "1538dea0-eba2-4d34-a832-cdc0a2098e83",
   "metadata": {},
   "outputs": [],
   "source": []
  },
  {
   "cell_type": "code",
   "execution_count": null,
   "id": "31943233",
   "metadata": {
    "id": "be91d1c0",
    "slideshow": {
     "slide_type": "fragment"
    }
   },
   "outputs": [],
   "source": [
    "df['HHH_Gender'] = df['gender']"
   ]
  },
  {
   "cell_type": "code",
   "execution_count": null,
   "id": "76a44571-8707-416b-87f0-a8ab0417d7cc",
   "metadata": {
    "id": "be91d1c0",
    "slideshow": {
     "slide_type": "fragment"
    }
   },
   "outputs": [],
   "source": [
    "df['HHH_Gender'].value_counts(dropna=False)"
   ]
  },
  {
   "cell_type": "code",
   "execution_count": null,
   "id": "2d96c07e",
   "metadata": {
    "id": "3ea6b1cd",
    "slideshow": {
     "slide_type": "fragment"
    }
   },
   "outputs": [],
   "source": [
    "df['gender'] = df.apply(\n",
    "    lambda row: 'Youth Headed' \n",
    "    if row['age'] <= 30 \n",
    "    else str(row['gender']) + ' Headed', axis=1\n",
    ")"
   ]
  },
  {
   "cell_type": "code",
   "execution_count": null,
   "id": "2f8d71bb-b03b-482e-88fc-78ddce25e1db",
   "metadata": {},
   "outputs": [],
   "source": [
    "df.tail(15)"
   ]
  },
  {
   "cell_type": "code",
   "execution_count": null,
   "id": "b7808c2c-a907-4c83-ac74-217c4dd8bb3c",
   "metadata": {},
   "outputs": [],
   "source": []
  },
  {
   "cell_type": "code",
   "execution_count": null,
   "id": "0747407e-4ca7-4958-960b-f87530d7e73a",
   "metadata": {
    "id": "be91d1c0",
    "slideshow": {
     "slide_type": "fragment"
    }
   },
   "outputs": [],
   "source": [
    "df['gender'].value_counts()"
   ]
  },
  {
   "cell_type": "markdown",
   "id": "9a113438",
   "metadata": {
    "slideshow": {
     "slide_type": "notes"
    }
   },
   "source": [
    "The code below does exactly what we have done above, but you realize it's more complex than the latter. You might not prefer this but its good to understand how functions work because sometimes they are the deal."
   ]
  },
  {
   "cell_type": "code",
   "execution_count": null,
   "id": "b78f873c",
   "metadata": {
    "slideshow": {
     "slide_type": "fragment"
    }
   },
   "outputs": [],
   "source": [
    "# def add_age(df, gender, age):\n",
    "#     for index, row in df.iterrows():\n",
    "#         if row[age] <= 30:\n",
    "#             df.at[index, gender] = 'Youth Headed'\n",
    "#         else:\n",
    "#             df.at[index, gender] = str(row[variable]) + ' Headed'"
   ]
  },
  {
   "cell_type": "markdown",
   "id": "2f6f16b3",
   "metadata": {
    "slideshow": {
     "slide_type": "notes"
    }
   },
   "source": [
    "We can apply the function like this by passing in the parameters, I did both ways, but the first one is even faster than this."
   ]
  },
  {
   "cell_type": "code",
   "execution_count": null,
   "id": "d240ea40",
   "metadata": {
    "slideshow": {
     "slide_type": "fragment"
    }
   },
   "outputs": [],
   "source": [
    "# add_age(df, 'Household_Head_Gender','Household_Head_Age')"
   ]
  },
  {
   "cell_type": "code",
   "execution_count": null,
   "id": "e0bd4fef",
   "metadata": {
    "slideshow": {
     "slide_type": "slide"
    }
   },
   "outputs": [],
   "source": [
    "df.head()"
   ]
  },
  {
   "cell_type": "code",
   "execution_count": null,
   "id": "6bd9d4e3",
   "metadata": {
    "slideshow": {
     "slide_type": "slide"
    }
   },
   "outputs": [],
   "source": [
    "df['Household_Head_Gender'] = df['gender']"
   ]
  },
  {
   "cell_type": "code",
   "execution_count": null,
   "id": "fb265791-7a8f-4d79-9e72-9deaec626e77",
   "metadata": {},
   "outputs": [],
   "source": [
    "df.drop(columns=['gender','HHH_Gender'], inplace=True)"
   ]
  },
  {
   "cell_type": "code",
   "execution_count": null,
   "id": "7b5b5d9a-6a4d-487c-8fa2-61b06cc62d14",
   "metadata": {
    "slideshow": {
     "slide_type": "slide"
    }
   },
   "outputs": [],
   "source": [
    "df['Household_Head_Gender'].value_counts()"
   ]
  },
  {
   "cell_type": "code",
   "execution_count": null,
   "id": "c694da25",
   "metadata": {
    "id": "1d3bf62c",
    "slideshow": {
     "slide_type": "fragment"
    }
   },
   "outputs": [],
   "source": [
    "male_HH_samp_frame = df[df['Household_Head_Gender']=='Male Headed']\n",
    "female_HH_samp_frame = df[df['Household_Head_Gender']=='Female Headed']\n",
    "youth_HH_samp_frame = df[df['Household_Head_Gender']=='Youth Headed']"
   ]
  },
  {
   "cell_type": "code",
   "execution_count": null,
   "id": "e706e142",
   "metadata": {
    "id": "4a3eb44f",
    "outputId": "35f6d981-43af-4cbe-b4a8-3c08b6b3bea5",
    "slideshow": {
     "slide_type": "fragment"
    }
   },
   "outputs": [],
   "source": [
    "male_HH_samp_frame.shape, female_HH_samp_frame.shape, youth_HH_samp_frame.shape"
   ]
  },
  {
   "cell_type": "markdown",
   "id": "eda830d9",
   "metadata": {
    "id": "0176c5b5",
    "slideshow": {
     "slide_type": "slide"
    }
   },
   "source": [
    "## Male Headed"
   ]
  },
  {
   "cell_type": "code",
   "execution_count": null,
   "id": "47d4e988",
   "metadata": {
    "id": "09ad1f5f",
    "outputId": "952886ac-1990-454b-aa24-2e0c0f8025e0",
    "slideshow": {
     "slide_type": "fragment"
    }
   },
   "outputs": [],
   "source": [
    "len(male_HH_samp_frame)"
   ]
  },
  {
   "cell_type": "code",
   "execution_count": null,
   "id": "3d51d576",
   "metadata": {
    "id": "80e33997",
    "slideshow": {
     "slide_type": "fragment"
    }
   },
   "outputs": [],
   "source": [
    "sample_size = 9\n",
    "sample_size"
   ]
  },
  {
   "cell_type": "code",
   "execution_count": null,
   "id": "3da2fc32",
   "metadata": {
    "id": "9a82b082-bc13-450a-98ff-904b3b330e5e",
    "slideshow": {
     "slide_type": "slide"
    }
   },
   "outputs": [],
   "source": [
    "def custom_sample(x):\n",
    "    return x.sample(n=min(len(x), 9))"
   ]
  },
  {
   "cell_type": "markdown",
   "id": "173b8c5b",
   "metadata": {
    "slideshow": {
     "slide_type": "notes"
    }
   },
   "source": [
    "Apply just works as our old lambda function, whereby you can "
   ]
  },
  {
   "cell_type": "code",
   "execution_count": null,
   "id": "b43502e9",
   "metadata": {
    "id": "c106d912-658c-4179-ab1d-41a5a2ccffd3",
    "slideshow": {
     "slide_type": "fragment"
    }
   },
   "outputs": [],
   "source": [
    "male_target_sample = male_HH_samp_frame.groupby('village', group_keys=False).apply(custom_sample)"
   ]
  },
  {
   "cell_type": "code",
   "execution_count": null,
   "id": "1d6fcdbd",
   "metadata": {
    "id": "e3dd4d40",
    "outputId": "f22abf60-8a0c-4a11-f22c-0d8591d9ac56",
    "slideshow": {
     "slide_type": "fragment"
    }
   },
   "outputs": [],
   "source": [
    "len(male_target_sample)"
   ]
  },
  {
   "cell_type": "code",
   "execution_count": null,
   "id": "ec8237b7-6188-4265-bbef-f6fad9476c8f",
   "metadata": {},
   "outputs": [],
   "source": [
    "male_HH_samp_frame"
   ]
  },
  {
   "cell_type": "markdown",
   "id": "8bce7f95",
   "metadata": {
    "slideshow": {
     "slide_type": "slide"
    }
   },
   "source": [
    "We can generate a new column and assign a value target"
   ]
  },
  {
   "cell_type": "code",
   "execution_count": null,
   "id": "631d9c02",
   "metadata": {
    "id": "50f5ae21",
    "slideshow": {
     "slide_type": "fragment"
    }
   },
   "outputs": [],
   "source": [
    "male_target_sample['status'] = 'target'"
   ]
  },
  {
   "cell_type": "code",
   "execution_count": null,
   "id": "3a01bb12-18ae-49a1-91d0-8a4fb2beae46",
   "metadata": {},
   "outputs": [],
   "source": [
    "male_target_sample"
   ]
  },
  {
   "cell_type": "markdown",
   "id": "c51d1bb8",
   "metadata": {
    "id": "4b6293ee",
    "slideshow": {
     "slide_type": "slide"
    }
   },
   "source": [
    "## Reserve frame"
   ]
  },
  {
   "cell_type": "markdown",
   "id": "7aede73a",
   "metadata": {
    "slideshow": {
     "slide_type": "notes"
    }
   },
   "source": [
    "we can drop the targets since we've already assigned them using the index"
   ]
  },
  {
   "cell_type": "code",
   "execution_count": null,
   "id": "d9514ed8",
   "metadata": {
    "id": "2afb4fd5",
    "slideshow": {
     "slide_type": "fragment"
    }
   },
   "outputs": [],
   "source": [
    "male_reserve_s_frame = male_HH_samp_frame.drop(index = male_target_sample.index)"
   ]
  },
  {
   "cell_type": "code",
   "execution_count": null,
   "id": "899bd283",
   "metadata": {
    "id": "d3ed3ca4",
    "slideshow": {
     "slide_type": "skip"
    }
   },
   "outputs": [],
   "source": [
    "# male_reserve_s_frame.to_excel('mit/male_reserve_s_frame.xlsx', index=False)"
   ]
  },
  {
   "cell_type": "code",
   "execution_count": null,
   "id": "1466854e",
   "metadata": {
    "id": "d5caae2a-9eb3-4cdc-aed8-07ca47334f8b",
    "slideshow": {
     "slide_type": "fragment"
    }
   },
   "outputs": [],
   "source": [
    "male_reserve_sample = male_reserve_s_frame.groupby('village', group_keys=False).apply(lambda x: x.sample(n=min(len(x), 4)))"
   ]
  },
  {
   "cell_type": "code",
   "execution_count": null,
   "id": "d8ffdbd1",
   "metadata": {
    "id": "ccfd39b7",
    "outputId": "62395bf4-395a-4e3d-9b51-0b2e82c534f8",
    "slideshow": {
     "slide_type": "fragment"
    }
   },
   "outputs": [],
   "source": [
    "male_reserve_sample['status'] = 'reserve'\n",
    "male_reserve_sample.head()"
   ]
  },
  {
   "cell_type": "code",
   "execution_count": null,
   "id": "dad53481",
   "metadata": {
    "id": "ed57a534",
    "slideshow": {
     "slide_type": "skip"
    }
   },
   "outputs": [],
   "source": [
    "# male_reserve_sample.to_excel('mit/male_reserve_sample.xlsx', index=False)"
   ]
  },
  {
   "cell_type": "markdown",
   "id": "8c42e29d",
   "metadata": {
    "slideshow": {
     "slide_type": "skip"
    }
   },
   "source": [
    "Let's combine the targets and reserves to come up with a complete sample for males"
   ]
  },
  {
   "cell_type": "markdown",
   "id": "86801475",
   "metadata": {
    "id": "c210c150",
    "slideshow": {
     "slide_type": "slide"
    }
   },
   "source": [
    "# Male Household Sample [Combining the Target and Reserve]"
   ]
  },
  {
   "cell_type": "code",
   "execution_count": null,
   "id": "d304b5d2",
   "metadata": {
    "id": "d33254ad",
    "outputId": "34a62b6c-3cca-4cd9-8b9b-46a67d18dba9",
    "slideshow": {
     "slide_type": "fragment"
    }
   },
   "outputs": [],
   "source": [
    "male_target_sample.shape, male_reserve_sample.shape"
   ]
  },
  {
   "cell_type": "code",
   "execution_count": null,
   "id": "81444f31",
   "metadata": {
    "id": "6c290995",
    "slideshow": {
     "slide_type": "fragment"
    }
   },
   "outputs": [],
   "source": [
    "MALE_HH_SAMPLE = pd.concat([male_target_sample, male_reserve_sample])"
   ]
  },
  {
   "cell_type": "markdown",
   "id": "057db640",
   "metadata": {
    "id": "3e0ac3ed",
    "slideshow": {
     "slide_type": "slide"
    }
   },
   "source": [
    "# FEMALE  Headed"
   ]
  },
  {
   "cell_type": "code",
   "execution_count": null,
   "id": "bd11090e",
   "metadata": {
    "id": "bb4e1a37",
    "outputId": "11deb01b-6d98-4bcd-fffb-ec25afa9b038",
    "slideshow": {
     "slide_type": "fragment"
    }
   },
   "outputs": [],
   "source": [
    "len(female_HH_samp_frame)"
   ]
  },
  {
   "cell_type": "code",
   "execution_count": null,
   "id": "e74bad6d",
   "metadata": {
    "id": "72cbb9f3",
    "outputId": "236a87ad-0547-4188-c7ff-bec7fc6c9f2c",
    "slideshow": {
     "slide_type": "skip"
    }
   },
   "outputs": [],
   "source": [
    "female_HH_samp_frame.head()"
   ]
  },
  {
   "cell_type": "code",
   "execution_count": null,
   "id": "182b49b0",
   "metadata": {
    "id": "ea81691f",
    "slideshow": {
     "slide_type": "fragment"
    }
   },
   "outputs": [],
   "source": [
    "female_target_sample = female_HH_samp_frame.groupby('village', group_keys=False).apply(lambda x: x.sample(n=min(len(x), 3)))"
   ]
  },
  {
   "cell_type": "code",
   "execution_count": null,
   "id": "995614a1",
   "metadata": {
    "id": "4eda136e",
    "outputId": "9ff262dc-a690-4b20-8444-912515e98ce1",
    "slideshow": {
     "slide_type": "skip"
    }
   },
   "outputs": [],
   "source": [
    "len(female_target_sample)"
   ]
  },
  {
   "cell_type": "code",
   "execution_count": null,
   "id": "75f5495b",
   "metadata": {
    "id": "2c9f1b9d",
    "slideshow": {
     "slide_type": "fragment"
    }
   },
   "outputs": [],
   "source": [
    "female_target_sample['status'] = 'target'"
   ]
  },
  {
   "cell_type": "code",
   "execution_count": null,
   "id": "182362bf",
   "metadata": {
    "id": "6df93913",
    "outputId": "65ca229d-0969-4fa9-9e66-ad26814787af",
    "slideshow": {
     "slide_type": "skip"
    }
   },
   "outputs": [],
   "source": [
    "female_target_sample.head()"
   ]
  },
  {
   "cell_type": "markdown",
   "id": "93c2f8e6",
   "metadata": {
    "id": "ec4bd25e",
    "slideshow": {
     "slide_type": "skip"
    }
   },
   "source": [
    "## Reserve frame"
   ]
  },
  {
   "cell_type": "code",
   "execution_count": null,
   "id": "06cfdd95",
   "metadata": {
    "id": "9172c8fa",
    "outputId": "5c13f57f-2c27-4a39-f865-a80642307f3b",
    "slideshow": {
     "slide_type": "fragment"
    }
   },
   "outputs": [],
   "source": [
    "female_reserve_s_frame = female_HH_samp_frame.drop(index = female_target_sample.index)\n",
    "female_reserve_s_frame.shape"
   ]
  },
  {
   "cell_type": "code",
   "execution_count": null,
   "id": "731e2caf",
   "metadata": {
    "id": "b7e117e4",
    "slideshow": {
     "slide_type": "skip"
    }
   },
   "outputs": [],
   "source": [
    "# female_reserve_s_frame.to_excel('mit/female_reserve_s_frame.xlsx', index=False)"
   ]
  },
  {
   "cell_type": "code",
   "execution_count": null,
   "id": "ac1898f0",
   "metadata": {
    "id": "9b090477",
    "slideshow": {
     "slide_type": "slide"
    }
   },
   "outputs": [],
   "source": [
    "female_reserve_sample = female_reserve_s_frame.groupby('village', group_keys=False).apply(lambda x: x.sample(n=min(len(x), 2)))"
   ]
  },
  {
   "cell_type": "code",
   "execution_count": null,
   "id": "6e7c0f11",
   "metadata": {
    "id": "b232d99b",
    "outputId": "fd809e5d-dd3d-4202-ca34-53eeaa1cd4a2",
    "slideshow": {
     "slide_type": "fragment"
    }
   },
   "outputs": [],
   "source": [
    "female_reserve_sample['status'] = 'reserve'\n",
    "female_reserve_sample.head()"
   ]
  },
  {
   "cell_type": "code",
   "execution_count": null,
   "id": "561a5fc5",
   "metadata": {
    "id": "acca14d8",
    "slideshow": {
     "slide_type": "skip"
    }
   },
   "outputs": [],
   "source": [
    "# female_reserve_sample.to_excel('mit/female_reserve_sample.xlsx', index=False)"
   ]
  },
  {
   "cell_type": "code",
   "execution_count": null,
   "id": "66f6e60a",
   "metadata": {
    "id": "268fa1fc",
    "slideshow": {
     "slide_type": "fragment"
    }
   },
   "outputs": [],
   "source": [
    "FEMALE_HH_SAMPLE = pd.concat([female_target_sample, female_reserve_sample])"
   ]
  },
  {
   "cell_type": "code",
   "execution_count": null,
   "id": "58a8db1e",
   "metadata": {
    "id": "e8229818",
    "slideshow": {
     "slide_type": "skip"
    }
   },
   "outputs": [],
   "source": [
    "# FEMALE_HH_SAMPLE.to_excel('mit/FEMALE_HH_SAMPLE.xlsx', index=False)"
   ]
  },
  {
   "cell_type": "markdown",
   "id": "f5afe627",
   "metadata": {
    "id": "f1ec251a",
    "slideshow": {
     "slide_type": "slide"
    }
   },
   "source": [
    "# YOUTH Households"
   ]
  },
  {
   "cell_type": "code",
   "execution_count": null,
   "id": "00b44a62",
   "metadata": {
    "id": "e79b4021",
    "outputId": "b7c2dad9-c4a4-4c4d-e8a5-17a86e67f13c",
    "slideshow": {
     "slide_type": "skip"
    }
   },
   "outputs": [],
   "source": [
    "len(youth_HH_samp_frame)"
   ]
  },
  {
   "cell_type": "code",
   "execution_count": null,
   "id": "74a4644d",
   "metadata": {
    "id": "26e9ce59",
    "outputId": "ca6b412e-c612-4a31-8c53-b75dc6776ab9",
    "slideshow": {
     "slide_type": "skip"
    }
   },
   "outputs": [],
   "source": [
    "youth_HH_samp_frame.head()"
   ]
  },
  {
   "cell_type": "code",
   "execution_count": null,
   "id": "016af514",
   "metadata": {
    "id": "c24e4229",
    "slideshow": {
     "slide_type": "fragment"
    }
   },
   "outputs": [],
   "source": [
    "youth_target_sample = youth_HH_samp_frame.groupby('village', group_keys=False).apply(lambda x: x.sample(n=min(len(x), 3)))"
   ]
  },
  {
   "cell_type": "code",
   "execution_count": null,
   "id": "2e9eee5f",
   "metadata": {
    "id": "518216f0",
    "outputId": "e2d199d9-f513-47a2-f1ec-bc9716eea8ac",
    "slideshow": {
     "slide_type": "skip"
    }
   },
   "outputs": [],
   "source": [
    "len(youth_target_sample)"
   ]
  },
  {
   "cell_type": "code",
   "execution_count": null,
   "id": "68d5fa56",
   "metadata": {
    "id": "8efb77de",
    "slideshow": {
     "slide_type": "fragment"
    }
   },
   "outputs": [],
   "source": [
    "youth_target_sample['status'] = 'target'"
   ]
  },
  {
   "cell_type": "code",
   "execution_count": null,
   "id": "76f235a4",
   "metadata": {
    "id": "a15aafc3",
    "outputId": "48ac1dd2-e03c-4367-de06-db276ed9fb95",
    "slideshow": {
     "slide_type": "skip"
    }
   },
   "outputs": [],
   "source": [
    "youth_target_sample.head()"
   ]
  },
  {
   "cell_type": "code",
   "execution_count": null,
   "id": "60bf6a99",
   "metadata": {
    "id": "bf8ab55d",
    "slideshow": {
     "slide_type": "skip"
    }
   },
   "outputs": [],
   "source": [
    "# youth_target_sample.to_excel('mit/youth_target_sample.xlsx', index=False)"
   ]
  },
  {
   "cell_type": "markdown",
   "id": "a5d04874",
   "metadata": {
    "id": "c409fcb9",
    "slideshow": {
     "slide_type": "slide"
    }
   },
   "source": [
    "## Reserve frame"
   ]
  },
  {
   "cell_type": "code",
   "execution_count": null,
   "id": "99328c13",
   "metadata": {
    "id": "ba880cf1",
    "outputId": "9dcd5661-032f-4141-834f-d84e773ebe55",
    "slideshow": {
     "slide_type": "fragment"
    }
   },
   "outputs": [],
   "source": [
    "youth_reserve_s_frame = youth_HH_samp_frame.drop(index = youth_target_sample.index)\n",
    "youth_reserve_s_frame.shape"
   ]
  },
  {
   "cell_type": "code",
   "execution_count": null,
   "id": "6694dea9",
   "metadata": {
    "id": "52e433b4",
    "slideshow": {
     "slide_type": "skip"
    }
   },
   "outputs": [],
   "source": [
    "# youth_reserve_s_frame.to_excel('mit/youth_reserve_s_frame.xlsx', index=False)"
   ]
  },
  {
   "cell_type": "code",
   "execution_count": null,
   "id": "479b22e7",
   "metadata": {
    "id": "0d0c7d45",
    "slideshow": {
     "slide_type": "fragment"
    }
   },
   "outputs": [],
   "source": [
    "youth_reserve_sample = youth_reserve_s_frame.groupby('village', group_keys=False).apply(lambda x: x.sample(n=min(len(x), 2)))"
   ]
  },
  {
   "cell_type": "code",
   "execution_count": null,
   "id": "3baef350",
   "metadata": {
    "id": "dcf49b93",
    "outputId": "2dc5de30-9a7c-49e3-b748-610562cd4b76",
    "slideshow": {
     "slide_type": "fragment"
    }
   },
   "outputs": [],
   "source": [
    "youth_reserve_sample['status'] = 'reserve'\n",
    "youth_reserve_sample.head()"
   ]
  },
  {
   "cell_type": "code",
   "execution_count": null,
   "id": "35632d17",
   "metadata": {
    "id": "0aff8617",
    "slideshow": {
     "slide_type": "skip"
    }
   },
   "outputs": [],
   "source": [
    "# youth_reserve_sample.to_excel('mit/youth_reserve_sample.xlsx', index=False)"
   ]
  },
  {
   "cell_type": "markdown",
   "id": "a7eacb52",
   "metadata": {
    "id": "55c723e1",
    "slideshow": {
     "slide_type": "slide"
    }
   },
   "source": [
    "# Youth Household Sample"
   ]
  },
  {
   "cell_type": "code",
   "execution_count": null,
   "id": "c2e86921",
   "metadata": {
    "id": "1fa36c9b",
    "outputId": "b4f3199b-b088-4116-91d9-4c5971286f16",
    "slideshow": {
     "slide_type": "skip"
    }
   },
   "outputs": [],
   "source": [
    "youth_target_sample.shape, youth_reserve_sample.shape"
   ]
  },
  {
   "cell_type": "code",
   "execution_count": null,
   "id": "189c2382",
   "metadata": {
    "id": "dbf967a5",
    "slideshow": {
     "slide_type": "fragment"
    }
   },
   "outputs": [],
   "source": [
    "YOUTH_HH_SAMPLE = pd.concat([youth_target_sample, youth_reserve_sample])"
   ]
  },
  {
   "cell_type": "code",
   "execution_count": null,
   "id": "adcf5732",
   "metadata": {
    "id": "42b22501",
    "slideshow": {
     "slide_type": "skip"
    }
   },
   "outputs": [],
   "source": [
    "# YOUTH_HH_SAMPLE.to_excel('mit/YOUTH_HH_SAMPLE.xlsx', index=False)"
   ]
  },
  {
   "cell_type": "markdown",
   "id": "b02055cd",
   "metadata": {
    "slideshow": {
     "slide_type": "skip"
    }
   },
   "source": [
    "We now have sample for males, females, and youths. Let's combine."
   ]
  },
  {
   "cell_type": "markdown",
   "id": "fdc3a1c3",
   "metadata": {
    "id": "6184c074",
    "slideshow": {
     "slide_type": "slide"
    }
   },
   "source": [
    "# JOINING THE DATAFRAMES"
   ]
  },
  {
   "cell_type": "code",
   "execution_count": null,
   "id": "39d85bc3",
   "metadata": {
    "id": "4128546d",
    "outputId": "4b648906-ebb7-438e-bc28-0df3a63b5276",
    "slideshow": {
     "slide_type": "fragment"
    }
   },
   "outputs": [],
   "source": [
    "MALE_HH_SAMPLE.shape, FEMALE_HH_SAMPLE.shape, YOUTH_HH_SAMPLE.shape"
   ]
  },
  {
   "cell_type": "code",
   "execution_count": null,
   "id": "63f6138b",
   "metadata": {
    "slideshow": {
     "slide_type": "skip"
    }
   },
   "outputs": [],
   "source": [
    "import numpy as np"
   ]
  },
  {
   "cell_type": "code",
   "execution_count": null,
   "id": "e92c861a",
   "metadata": {
    "id": "edc79f76",
    "outputId": "a762b494-3b76-412c-e022-e596bdcc665f",
    "slideshow": {
     "slide_type": "skip"
    }
   },
   "outputs": [],
   "source": [
    "np.array((MALE_HH_SAMPLE.shape[0], FEMALE_HH_SAMPLE.shape[0], YOUTH_HH_SAMPLE.shape[0])).sum(), len(df)"
   ]
  },
  {
   "cell_type": "code",
   "execution_count": null,
   "id": "7f54a358",
   "metadata": {
    "id": "e16a7432",
    "slideshow": {
     "slide_type": "fragment"
    }
   },
   "outputs": [],
   "source": [
    "FINAL = pd.concat([MALE_HH_SAMPLE, FEMALE_HH_SAMPLE, YOUTH_HH_SAMPLE])"
   ]
  },
  {
   "cell_type": "code",
   "execution_count": null,
   "id": "d85eade2",
   "metadata": {
    "id": "a397efd5",
    "slideshow": {
     "slide_type": "fragment"
    }
   },
   "outputs": [],
   "source": [
    "FINAL.to_excel('FINAL_Randomized.xlsx', index=False)"
   ]
  },
  {
   "cell_type": "code",
   "execution_count": null,
   "id": "84e54a27-2f24-404f-b60e-66b502929e33",
   "metadata": {},
   "outputs": [],
   "source": []
  },
  {
   "cell_type": "code",
   "execution_count": null,
   "id": "599a1bdb-373e-44cc-963e-de397020e7dd",
   "metadata": {},
   "outputs": [],
   "source": []
  }
 ],
 "metadata": {
  "celltoolbar": "Slideshow",
  "colab": {
   "provenance": []
  },
  "kernelspec": {
   "display_name": "Python 3 (ipykernel)",
   "language": "python",
   "name": "python3"
  },
  "language_info": {
   "codemirror_mode": {
    "name": "ipython",
    "version": 3
   },
   "file_extension": ".py",
   "mimetype": "text/x-python",
   "name": "python",
   "nbconvert_exporter": "python",
   "pygments_lexer": "ipython3",
   "version": "3.10.9"
  }
 },
 "nbformat": 4,
 "nbformat_minor": 5
}
